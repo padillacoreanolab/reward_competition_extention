{
 "cells": [
  {
   "cell_type": "markdown",
   "metadata": {
    "cell_id": "c3a02adc9e884466bc8c79db549cc3d2",
    "deepnote_cell_type": "text-cell-h1",
    "formattedRanges": [
     {
      "fromCodePoint": 0,
      "marks": {
       "bold": true,
       "underline": true
      },
      "toCodePoint": 17,
      "type": "marks"
     }
    ]
   },
   "source": [
    "# Spike Train Calculation"
   ]
  },
  {
   "cell_type": "markdown",
   "metadata": {
    "cell_id": "4546bee655b14a5dbf393161f1228e60",
    "deepnote_cell_type": "text-cell-p",
    "formattedRanges": []
   },
   "source": [
    "Brief 1-2 sentence description of notebook."
   ]
  },
  {
   "cell_type": "code",
   "execution_count": 1,
   "metadata": {
    "tags": []
   },
   "outputs": [],
   "source": [
    "import os\n",
    "import glob\n",
    "import git\n",
    "import sys\n"
   ]
  },
  {
   "cell_type": "code",
   "execution_count": 2,
   "metadata": {
    "cell_id": "03b495cefa6a4798a44c7f2e4c6a3ea7",
    "deepnote_cell_type": "code",
    "deepnote_to_be_reexecuted": false,
    "execution_millis": 21,
    "execution_start": 1691424003626,
    "source_hash": null,
    "tags": []
   },
   "outputs": [],
   "source": [
    "# Imports of all used packages and libraries\n",
    "import numpy as np\n",
    "import pandas as pd\n",
    "# import seaborn as sns\n",
    "import matplotlib as mpl\n",
    "import matplotlib.pyplot as plt\n",
    "import h5py\n",
    "from scipy.interpolate import interp1d\n",
    "from scipy.signal import savgol_filter\n"
   ]
  },
  {
   "cell_type": "code",
   "execution_count": 3,
   "metadata": {
    "tags": []
   },
   "outputs": [],
   "source": [
    "git_repo = git.Repo(\".\", search_parent_directories=True)\n",
    "git_root = git_repo.git.rev_parse(\"--show-toplevel\")"
   ]
  },
  {
   "cell_type": "code",
   "execution_count": 4,
   "metadata": {
    "tags": []
   },
   "outputs": [
    {
     "data": {
      "text/plain": [
       "'/blue/npadillacoreano/ryoi360/projects/reward_comp/repos/reward_competition_extention'"
      ]
     },
     "execution_count": 4,
     "metadata": {},
     "output_type": "execute_result"
    }
   ],
   "source": [
    "git_root"
   ]
  },
  {
   "cell_type": "code",
   "execution_count": 5,
   "metadata": {
    "tags": []
   },
   "outputs": [],
   "source": [
    "sys.path.insert(0, os.path.join(git_root, 'src'))"
   ]
  },
  {
   "cell_type": "code",
   "execution_count": 6,
   "metadata": {
    "tags": []
   },
   "outputs": [],
   "source": [
    "import neuron.spikes"
   ]
  },
  {
   "cell_type": "code",
   "execution_count": 7,
   "metadata": {
    "tags": []
   },
   "outputs": [],
   "source": [
    "# sns.set('notebook', 'ticks', font_scale=1.2)\n",
    "mpl.rcParams['figure.figsize'] = [15,6]"
   ]
  },
  {
   "cell_type": "markdown",
   "metadata": {},
   "source": [
    "## Functions"
   ]
  },
  {
   "cell_type": "code",
   "execution_count": 76,
   "metadata": {
    "tags": []
   },
   "outputs": [],
   "source": [
    "def filter_spike_times(arr_2d, start, stop, padding=-1):\n",
    "    \"\"\"\n",
    "    Filters a 2D array based on a start and stop condition and pads shorter arrays to match the length of the longest array.\n",
    "\n",
    "    Parameters:\n",
    "    arr_2d (numpy.ndarray): 2D array to be filtered and padded.\n",
    "    start (int or float): Lower bound of the condition.\n",
    "    stop (int or float): Upper bound of the condition.\n",
    "    padding (int or float): Value to use for padding, defaults to -1.\n",
    "\n",
    "    Returns:\n",
    "    numpy.ndarray: A 2D array where each inner array has been filtered based on the condition and padded to match the length of the longest array.\n",
    "    \"\"\"\n",
    "\n",
    "    # Filter each row in arr_2d based on the condition\n",
    "    masked_data = [row[(row >= start) & (row < stop)] for row in arr_2d]\n",
    "\n",
    "    # Determine the maximum length of arrays in the list\n",
    "    max_length = max(len(arr) for arr in masked_data)\n",
    "\n",
    "    # Pad each array in masked_data with the padding value so they all have the same length (max_length)\n",
    "    padded_arrays = [np.concatenate([x, np.full([max_length - len(x)], padding)]) for x in masked_data]\n",
    "\n",
    "    # Convert the list of arrays to a 2D numpy array\n",
    "    padded_arrays = np.array(padded_arrays)\n",
    "\n",
    "    return padded_arrays"
   ]
  },
  {
   "cell_type": "markdown",
   "metadata": {
    "cell_id": "d290bac2c17940bfbc0f9296beaf70e5",
    "deepnote_cell_type": "text-cell-h2",
    "formattedRanges": []
   },
   "source": [
    "## Inputs & Data"
   ]
  },
  {
   "cell_type": "markdown",
   "metadata": {
    "cell_id": "e528ce19c608425292151930d380f49f",
    "deepnote_cell_type": "text-cell-p",
    "formattedRanges": []
   },
   "source": [
    "Explanation of each input and where it comes from."
   ]
  },
  {
   "cell_type": "code",
   "execution_count": 8,
   "metadata": {
    "cell_id": "6cf83a5811054461a718a71673d09aab",
    "deepnote_cell_type": "code",
    "deepnote_to_be_reexecuted": false,
    "execution_millis": 373,
    "execution_start": 1691424003628,
    "source_hash": null,
    "tags": []
   },
   "outputs": [],
   "source": [
    "# Inputs and Required data loading\n",
    "# input varaible names are in all caps snake case\n",
    "# Whenever an input changes or is used for processing \n",
    "# the vairables are all lower in snake case\n",
    "\n",
    "LFP_SPECTRAL_DF = pd.read_pickle(\"/blue/npadillacoreano/ryoi360/projects/reward_comp/repos/reward_competition_extention/results/2024_01_30_rce2_spectral_preprocessing/proc/rce_pilot_2_04_spectral_and_sleap.pkl\")\n",
    "\n",
    "# ALL_PHY_DIR = glob.glob(\"/scratch/back_up/reward_competition_extention/final_proc/phy_curation/*\")\n",
    "ALL_PHY_DIR = glob.glob(\"/blue/npadillacoreano/ryoi360/projects/reward_comp/final_proc/phy_curation/*\")\n",
    "\n",
    "\n",
    "OUTPUT_DIR = r\"./proc\" # where data is saved should always be shown in the inputs\n",
    "\n",
    "SAMPLING_RATE = 20000\n",
    "SPIKE_WINDOW = 2000"
   ]
  },
  {
   "cell_type": "code",
   "execution_count": 9,
   "metadata": {
    "tags": []
   },
   "outputs": [
    {
     "data": {
      "text/html": [
       "<div>\n",
       "<style scoped>\n",
       "    .dataframe tbody tr th:only-of-type {\n",
       "        vertical-align: middle;\n",
       "    }\n",
       "\n",
       "    .dataframe tbody tr th {\n",
       "        vertical-align: top;\n",
       "    }\n",
       "\n",
       "    .dataframe thead th {\n",
       "        text-align: right;\n",
       "    }\n",
       "</style>\n",
       "<table border=\"1\" class=\"dataframe\">\n",
       "  <thead>\n",
       "    <tr style=\"text-align: right;\">\n",
       "      <th></th>\n",
       "      <th>cohort</th>\n",
       "      <th>session_dir</th>\n",
       "      <th>tone_frames</th>\n",
       "      <th>box_1_port_entry_frames</th>\n",
       "      <th>box_2_port_entry_frames</th>\n",
       "      <th>video_name</th>\n",
       "      <th>session_path</th>\n",
       "      <th>recording</th>\n",
       "      <th>current_subject</th>\n",
       "      <th>subject</th>\n",
       "      <th>...</th>\n",
       "      <th>reward_port</th>\n",
       "      <th>box_bottom_left</th>\n",
       "      <th>box_bottom_right</th>\n",
       "      <th>agent</th>\n",
       "      <th>subject_locations</th>\n",
       "      <th>agent_locations</th>\n",
       "      <th>subject_thorax_velocity</th>\n",
       "      <th>agent_thorax_velocity</th>\n",
       "      <th>subject_thorax_to_reward_port</th>\n",
       "      <th>agent_thorax_to_reward_port</th>\n",
       "    </tr>\n",
       "  </thead>\n",
       "  <tbody>\n",
       "    <tr>\n",
       "      <th>0</th>\n",
       "      <td>2</td>\n",
       "      <td>20230612_112630_standard_comp_to_training_D1_s...</td>\n",
       "      <td>[[1125, 1324], [3519, 3720], [5815, 6014], [76...</td>\n",
       "      <td>[[192, 248], [389, 405], [916, 929], [929, 948...</td>\n",
       "      <td>[[33019, 33020], [33246, 33251], [33253, 33255...</td>\n",
       "      <td>20230612_112630_standard_comp_to_training_D1_s...</td>\n",
       "      <td>/scratch/back_up/reward_competition_extention/...</td>\n",
       "      <td>20230612_112630_standard_comp_to_training_D1_s...</td>\n",
       "      <td>1.1</td>\n",
       "      <td>1.1</td>\n",
       "      <td>...</td>\n",
       "      <td>[45.23441700698972, 35.83828707637651]</td>\n",
       "      <td>[30.458913657178506, 34.21867013031604]</td>\n",
       "      <td>[59.89132415244771, 34.13310301149612]</td>\n",
       "      <td>1.2</td>\n",
       "      <td>[[[46.68890098287189, 11.495085446056166], [43...</td>\n",
       "      <td>[[[34.36404036584844, 35.615553316175784], [34...</td>\n",
       "      <td>[1.8125, 1.707, 1.6045, 1.506, 1.409, 1.315, 1...</td>\n",
       "      <td>[14.336, 12.875, 11.47, 10.11, 8.81, 7.57, 6.3...</td>\n",
       "      <td>[26.45, 26.16, 26.1, 25.77, 25.72, 25.78, 26.1...</td>\n",
       "      <td>[6.11, 6.06, 6.125, 6.566, 6.605, 6.676, 7.13,...</td>\n",
       "    </tr>\n",
       "    <tr>\n",
       "      <th>1</th>\n",
       "      <td>2</td>\n",
       "      <td>20230612_112630_standard_comp_to_training_D1_s...</td>\n",
       "      <td>[[1125, 1324], [3519, 3720], [5815, 6014], [76...</td>\n",
       "      <td>[[192, 248], [389, 405], [916, 930], [930, 948...</td>\n",
       "      <td>[[32974, 32976], [33201, 33207], [33208, 33211...</td>\n",
       "      <td>20230612_112630_standard_comp_to_training_D1_s...</td>\n",
       "      <td>/scratch/back_up/reward_competition_extention/...</td>\n",
       "      <td>20230612_112630_standard_comp_to_training_D1_s...</td>\n",
       "      <td>1.1</td>\n",
       "      <td>1.1</td>\n",
       "      <td>...</td>\n",
       "      <td>[48.01956210909252, 37.264554576109816]</td>\n",
       "      <td>[33.1534452699471, 35.61101869926864]</td>\n",
       "      <td>[62.60288905131385, 35.71974322144712]</td>\n",
       "      <td>None</td>\n",
       "      <td>[[[27.67316905433137, 31.06298795228111], [27....</td>\n",
       "      <td>NaN</td>\n",
       "      <td>[0.0, 0.0, 0.0, 0.0, 0.0, 0.0, 0.0, 0.0, 0.0, ...</td>\n",
       "      <td>NaN</td>\n",
       "      <td>[21.36, 21.36, 21.36, 21.36, 21.36, 21.36, 21....</td>\n",
       "      <td>NaN</td>\n",
       "    </tr>\n",
       "    <tr>\n",
       "      <th>2</th>\n",
       "      <td>2</td>\n",
       "      <td>20230612_112630_standard_comp_to_training_D1_s...</td>\n",
       "      <td>[[1125, 1324], [3519, 3720], [5815, 6014], [76...</td>\n",
       "      <td>[[192, 248], [389, 405], [916, 929], [929, 948...</td>\n",
       "      <td>[[33019, 33020], [33246, 33251], [33253, 33255...</td>\n",
       "      <td>20230612_112630_standard_comp_to_training_D1_s...</td>\n",
       "      <td>/scratch/back_up/reward_competition_extention/...</td>\n",
       "      <td>20230612_112630_standard_comp_to_training_D1_s...</td>\n",
       "      <td>1.2</td>\n",
       "      <td>1.2</td>\n",
       "      <td>...</td>\n",
       "      <td>[45.23441700698972, 35.83828707637651]</td>\n",
       "      <td>[30.458913657178506, 34.21867013031604]</td>\n",
       "      <td>[59.89132415244771, 34.13310301149612]</td>\n",
       "      <td>None</td>\n",
       "      <td>[[[34.36404036584844, 35.615553316175784], [34...</td>\n",
       "      <td>NaN</td>\n",
       "      <td>[55.4, 52.03, 48.72, 45.53, 42.44, 39.44, 36.5...</td>\n",
       "      <td>NaN</td>\n",
       "      <td>[6.11, 6.06, 6.125, 6.566, 6.605, 6.676, 7.13,...</td>\n",
       "      <td>NaN</td>\n",
       "    </tr>\n",
       "    <tr>\n",
       "      <th>3</th>\n",
       "      <td>2</td>\n",
       "      <td>20230612_112630_standard_comp_to_training_D1_s...</td>\n",
       "      <td>[[1125, 1324], [3519, 3720], [5815, 6014], [76...</td>\n",
       "      <td>[[192, 248], [389, 405], [916, 929], [929, 948...</td>\n",
       "      <td>[[33019, 33020], [33246, 33251], [33253, 33255...</td>\n",
       "      <td>20230612_112630_standard_comp_to_training_D1_s...</td>\n",
       "      <td>/scratch/back_up/reward_competition_extention/...</td>\n",
       "      <td>20230612_112630_standard_comp_to_training_D1_s...</td>\n",
       "      <td>1.2</td>\n",
       "      <td>1.2</td>\n",
       "      <td>...</td>\n",
       "      <td>[45.23441700698972, 35.83828707637651]</td>\n",
       "      <td>[30.458913657178506, 34.21867013031604]</td>\n",
       "      <td>[59.89132415244771, 34.13310301149612]</td>\n",
       "      <td>1.1</td>\n",
       "      <td>[[[34.36404036584844, 35.615553316175784], [34...</td>\n",
       "      <td>[[[46.68890098287189, 11.495085446056166], [43...</td>\n",
       "      <td>[14.336, 12.875, 11.47, 10.11, 8.81, 7.57, 6.3...</td>\n",
       "      <td>[1.8125, 1.707, 1.6045, 1.506, 1.409, 1.315, 1...</td>\n",
       "      <td>[6.11, 6.06, 6.125, 6.566, 6.605, 6.676, 7.13,...</td>\n",
       "      <td>[26.45, 26.16, 26.1, 25.77, 25.72, 25.78, 26.1...</td>\n",
       "    </tr>\n",
       "    <tr>\n",
       "      <th>4</th>\n",
       "      <td>2</td>\n",
       "      <td>20230613_105657_standard_comp_to_training_D2_s...</td>\n",
       "      <td>[[916, 1117], [3312, 3513], [5608, 5808], [740...</td>\n",
       "      <td>[[49, 67], [70, 79], [360, 366], [460, 469], [...</td>\n",
       "      <td>[[33601, 33798], [34108, 34165], [34166, 34179...</td>\n",
       "      <td>20230613_105657_standard_comp_to_training_D2_s...</td>\n",
       "      <td>/scratch/back_up/reward_competition_extention/...</td>\n",
       "      <td>20230613_105657_standard_comp_to_training_D2_s...</td>\n",
       "      <td>1.1</td>\n",
       "      <td>1.1</td>\n",
       "      <td>...</td>\n",
       "      <td>[45.31189572048577, 36.38317068198775]</td>\n",
       "      <td>[30.490085836306232, 34.91627159792731]</td>\n",
       "      <td>[60.10744182471764, 34.262899786598894]</td>\n",
       "      <td>None</td>\n",
       "      <td>[[[46.71964110607613, 36.493379374373234], [44...</td>\n",
       "      <td>NaN</td>\n",
       "      <td>[5.8, 5.207, 4.64, 4.1, 3.596, 3.127, 2.7, 2.3...</td>\n",
       "      <td>NaN</td>\n",
       "      <td>[4.633, 4.09, 4.36, 4.656, 4.65, 4.383, 4.35, ...</td>\n",
       "      <td>NaN</td>\n",
       "    </tr>\n",
       "  </tbody>\n",
       "</table>\n",
       "<p>5 rows × 153 columns</p>\n",
       "</div>"
      ],
      "text/plain": [
       "   cohort                                        session_dir  \\\n",
       "0       2  20230612_112630_standard_comp_to_training_D1_s...   \n",
       "1       2  20230612_112630_standard_comp_to_training_D1_s...   \n",
       "2       2  20230612_112630_standard_comp_to_training_D1_s...   \n",
       "3       2  20230612_112630_standard_comp_to_training_D1_s...   \n",
       "4       2  20230613_105657_standard_comp_to_training_D2_s...   \n",
       "\n",
       "                                         tone_frames  \\\n",
       "0  [[1125, 1324], [3519, 3720], [5815, 6014], [76...   \n",
       "1  [[1125, 1324], [3519, 3720], [5815, 6014], [76...   \n",
       "2  [[1125, 1324], [3519, 3720], [5815, 6014], [76...   \n",
       "3  [[1125, 1324], [3519, 3720], [5815, 6014], [76...   \n",
       "4  [[916, 1117], [3312, 3513], [5608, 5808], [740...   \n",
       "\n",
       "                             box_1_port_entry_frames  \\\n",
       "0  [[192, 248], [389, 405], [916, 929], [929, 948...   \n",
       "1  [[192, 248], [389, 405], [916, 930], [930, 948...   \n",
       "2  [[192, 248], [389, 405], [916, 929], [929, 948...   \n",
       "3  [[192, 248], [389, 405], [916, 929], [929, 948...   \n",
       "4  [[49, 67], [70, 79], [360, 366], [460, 469], [...   \n",
       "\n",
       "                             box_2_port_entry_frames  \\\n",
       "0  [[33019, 33020], [33246, 33251], [33253, 33255...   \n",
       "1  [[32974, 32976], [33201, 33207], [33208, 33211...   \n",
       "2  [[33019, 33020], [33246, 33251], [33253, 33255...   \n",
       "3  [[33019, 33020], [33246, 33251], [33253, 33255...   \n",
       "4  [[33601, 33798], [34108, 34165], [34166, 34179...   \n",
       "\n",
       "                                          video_name  \\\n",
       "0  20230612_112630_standard_comp_to_training_D1_s...   \n",
       "1  20230612_112630_standard_comp_to_training_D1_s...   \n",
       "2  20230612_112630_standard_comp_to_training_D1_s...   \n",
       "3  20230612_112630_standard_comp_to_training_D1_s...   \n",
       "4  20230613_105657_standard_comp_to_training_D2_s...   \n",
       "\n",
       "                                        session_path  \\\n",
       "0  /scratch/back_up/reward_competition_extention/...   \n",
       "1  /scratch/back_up/reward_competition_extention/...   \n",
       "2  /scratch/back_up/reward_competition_extention/...   \n",
       "3  /scratch/back_up/reward_competition_extention/...   \n",
       "4  /scratch/back_up/reward_competition_extention/...   \n",
       "\n",
       "                                           recording current_subject subject  \\\n",
       "0  20230612_112630_standard_comp_to_training_D1_s...             1.1     1.1   \n",
       "1  20230612_112630_standard_comp_to_training_D1_s...             1.1     1.1   \n",
       "2  20230612_112630_standard_comp_to_training_D1_s...             1.2     1.2   \n",
       "3  20230612_112630_standard_comp_to_training_D1_s...             1.2     1.2   \n",
       "4  20230613_105657_standard_comp_to_training_D2_s...             1.1     1.1   \n",
       "\n",
       "   ...                              reward_port  \\\n",
       "0  ...   [45.23441700698972, 35.83828707637651]   \n",
       "1  ...  [48.01956210909252, 37.264554576109816]   \n",
       "2  ...   [45.23441700698972, 35.83828707637651]   \n",
       "3  ...   [45.23441700698972, 35.83828707637651]   \n",
       "4  ...   [45.31189572048577, 36.38317068198775]   \n",
       "\n",
       "                           box_bottom_left  \\\n",
       "0  [30.458913657178506, 34.21867013031604]   \n",
       "1    [33.1534452699471, 35.61101869926864]   \n",
       "2  [30.458913657178506, 34.21867013031604]   \n",
       "3  [30.458913657178506, 34.21867013031604]   \n",
       "4  [30.490085836306232, 34.91627159792731]   \n",
       "\n",
       "                          box_bottom_right agent  \\\n",
       "0   [59.89132415244771, 34.13310301149612]   1.2   \n",
       "1   [62.60288905131385, 35.71974322144712]  None   \n",
       "2   [59.89132415244771, 34.13310301149612]  None   \n",
       "3   [59.89132415244771, 34.13310301149612]   1.1   \n",
       "4  [60.10744182471764, 34.262899786598894]  None   \n",
       "\n",
       "                                   subject_locations  \\\n",
       "0  [[[46.68890098287189, 11.495085446056166], [43...   \n",
       "1  [[[27.67316905433137, 31.06298795228111], [27....   \n",
       "2  [[[34.36404036584844, 35.615553316175784], [34...   \n",
       "3  [[[34.36404036584844, 35.615553316175784], [34...   \n",
       "4  [[[46.71964110607613, 36.493379374373234], [44...   \n",
       "\n",
       "                                     agent_locations  \\\n",
       "0  [[[34.36404036584844, 35.615553316175784], [34...   \n",
       "1                                                NaN   \n",
       "2                                                NaN   \n",
       "3  [[[46.68890098287189, 11.495085446056166], [43...   \n",
       "4                                                NaN   \n",
       "\n",
       "                             subject_thorax_velocity  \\\n",
       "0  [1.8125, 1.707, 1.6045, 1.506, 1.409, 1.315, 1...   \n",
       "1  [0.0, 0.0, 0.0, 0.0, 0.0, 0.0, 0.0, 0.0, 0.0, ...   \n",
       "2  [55.4, 52.03, 48.72, 45.53, 42.44, 39.44, 36.5...   \n",
       "3  [14.336, 12.875, 11.47, 10.11, 8.81, 7.57, 6.3...   \n",
       "4  [5.8, 5.207, 4.64, 4.1, 3.596, 3.127, 2.7, 2.3...   \n",
       "\n",
       "                               agent_thorax_velocity  \\\n",
       "0  [14.336, 12.875, 11.47, 10.11, 8.81, 7.57, 6.3...   \n",
       "1                                                NaN   \n",
       "2                                                NaN   \n",
       "3  [1.8125, 1.707, 1.6045, 1.506, 1.409, 1.315, 1...   \n",
       "4                                                NaN   \n",
       "\n",
       "                       subject_thorax_to_reward_port  \\\n",
       "0  [26.45, 26.16, 26.1, 25.77, 25.72, 25.78, 26.1...   \n",
       "1  [21.36, 21.36, 21.36, 21.36, 21.36, 21.36, 21....   \n",
       "2  [6.11, 6.06, 6.125, 6.566, 6.605, 6.676, 7.13,...   \n",
       "3  [6.11, 6.06, 6.125, 6.566, 6.605, 6.676, 7.13,...   \n",
       "4  [4.633, 4.09, 4.36, 4.656, 4.65, 4.383, 4.35, ...   \n",
       "\n",
       "                         agent_thorax_to_reward_port  \n",
       "0  [6.11, 6.06, 6.125, 6.566, 6.605, 6.676, 7.13,...  \n",
       "1                                                NaN  \n",
       "2                                                NaN  \n",
       "3  [26.45, 26.16, 26.1, 25.77, 25.72, 25.78, 26.1...  \n",
       "4                                                NaN  \n",
       "\n",
       "[5 rows x 153 columns]"
      ]
     },
     "execution_count": 9,
     "metadata": {},
     "output_type": "execute_result"
    }
   ],
   "source": [
    "LFP_SPECTRAL_DF.head()"
   ]
  },
  {
   "cell_type": "markdown",
   "metadata": {
    "cell_id": "e3ee4891d43a4ac287413afc552ca289",
    "deepnote_cell_type": "text-cell-h2",
    "formattedRanges": []
   },
   "source": [
    "## Outputs"
   ]
  },
  {
   "cell_type": "markdown",
   "metadata": {
    "cell_id": "9ccbf6cc70fd4d379fa29317f733771f",
    "deepnote_cell_type": "text-cell-p",
    "formattedRanges": []
   },
   "source": [
    "Describe each output that the notebook creates. "
   ]
  },
  {
   "cell_type": "markdown",
   "metadata": {
    "cell_id": "fc8e8920a6944918a15fac575cdf6e78",
    "deepnote_cell_type": "text-cell-bullet",
    "formattedRanges": []
   },
   "source": [
    "- Is it a plot or is it data?"
   ]
  },
  {
   "cell_type": "markdown",
   "metadata": {
    "cell_id": "1e639d4776a84aa9ac8ded2e14fa57db",
    "deepnote_cell_type": "text-cell-bullet",
    "formattedRanges": []
   },
   "source": [
    "- How valuable is the output and why is it valuable or useful?"
   ]
  },
  {
   "cell_type": "code",
   "execution_count": 10,
   "metadata": {
    "tags": []
   },
   "outputs": [],
   "source": [
    "# Inputs and Required data loading\n",
    "# input varaible names are in all caps snake case\n",
    "# Whenever an input changes or is used for processing \n",
    "# the vairables are all lower in snake case\n",
    "OUTPUT_DIR = r\"./proc/\" # where data is saved should always be shown in the inputs\n",
    "os.makedirs(OUTPUT_DIR, exist_ok=True)\n",
    "OUTPUT_PREFIX = \"rce_pilot_2\""
   ]
  },
  {
   "cell_type": "code",
   "execution_count": 11,
   "metadata": {
    "tags": []
   },
   "outputs": [],
   "source": [
    "FULL_LFP_TRACES_PKL = \"{}_05_lfp_spectral_sleap_spikes.pkl\".format(OUTPUT_PREFIX)"
   ]
  },
  {
   "cell_type": "markdown",
   "metadata": {
    "cell_id": "8999d19b6b7d4d63bc90f0b0bd9ab085",
    "deepnote_cell_type": "text-cell-h2",
    "formattedRanges": []
   },
   "source": [
    "## Processing"
   ]
  },
  {
   "cell_type": "markdown",
   "metadata": {
    "cell_id": "9b36cdf08567463082b005cb0dec684b",
    "deepnote_cell_type": "text-cell-p",
    "formattedRanges": []
   },
   "source": [
    "Describe what is done to the data here and how inputs are manipulated to generate outputs. "
   ]
  },
  {
   "cell_type": "markdown",
   "metadata": {},
   "source": [
    "# Reading in Phy"
   ]
  },
  {
   "cell_type": "markdown",
   "metadata": {},
   "source": [
    "- Reading in a spreadsheet of all the unit classifications\n",
    "    - They are divided up into good units, multi-units, and noise"
   ]
  },
  {
   "cell_type": "code",
   "execution_count": 12,
   "metadata": {
    "tags": []
   },
   "outputs": [
    {
     "data": {
      "text/plain": [
       "['/blue/npadillacoreano/ryoi360/projects/reward_comp/final_proc/phy_curation/20230620_114347_standard_comp_to_omission_D4_subj_1-2_t3b3L_box_1_merged.rec',\n",
       " '/blue/npadillacoreano/ryoi360/projects/reward_comp/final_proc/phy_curation/20230621_111240_standard_comp_to_omission_D5_subj_1-4_t3b3L_box1_merged.rec',\n",
       " '/blue/npadillacoreano/ryoi360/projects/reward_comp/final_proc/phy_curation/20230618_100636_standard_comp_to_omission_D2_subj_1_1_t1b2L_box2_merged.rec',\n",
       " '/blue/npadillacoreano/ryoi360/projects/reward_comp/final_proc/phy_curation/20230617_115521_standard_comp_to_omission_D1_subj_1-1_t1b3L_box1_merged.rec',\n",
       " '/blue/npadillacoreano/ryoi360/projects/reward_comp/final_proc/phy_curation/rce_pilot_2_trodes_metadata.pkl',\n",
       " '/blue/npadillacoreano/ryoi360/projects/reward_comp/final_proc/phy_curation/20230619_115321_standard_comp_to_omission_D3_subj_1-4_t3b3L_box2_merged.rec',\n",
       " '/blue/npadillacoreano/ryoi360/projects/reward_comp/final_proc/phy_curation/20230617_115521_standard_comp_to_omission_D1_subj_1-2_t2b2L_box2_merged.rec',\n",
       " '/blue/npadillacoreano/ryoi360/projects/reward_comp/final_proc/phy_curation/rce_pilot_2_full_lfp_traces_and_video_frames.pkl',\n",
       " '/blue/npadillacoreano/ryoi360/projects/reward_comp/final_proc/phy_curation/rce_pilot_2_full_lfp_traces_and_sleap_poses.pkl',\n",
       " '/blue/npadillacoreano/ryoi360/projects/reward_comp/final_proc/phy_curation/20230618_100636_standard_comp_to_omission_D2_subj_1_4_t4b3L_box1_merged.rec',\n",
       " '/blue/npadillacoreano/ryoi360/projects/reward_comp/final_proc/phy_curation/20230620_114347_standard_comp_to_omission_D4_subj_1-1_t1b2L_box_2_merged.rec']"
      ]
     },
     "execution_count": 12,
     "metadata": {},
     "output_type": "execute_result"
    }
   ],
   "source": [
    "ALL_PHY_DIR"
   ]
  },
  {
   "cell_type": "code",
   "execution_count": 13,
   "metadata": {
    "tags": []
   },
   "outputs": [
    {
     "name": "stdout",
     "output_type": "stream",
     "text": [
      "[Errno 20] Not a directory: '/blue/npadillacoreano/ryoi360/projects/reward_comp/final_proc/phy_curation/rce_pilot_2_trodes_metadata.pkl/phy/cluster_info.tsv'\n",
      "[Errno 20] Not a directory: '/blue/npadillacoreano/ryoi360/projects/reward_comp/final_proc/phy_curation/rce_pilot_2_full_lfp_traces_and_video_frames.pkl/phy/cluster_info.tsv'\n",
      "[Errno 20] Not a directory: '/blue/npadillacoreano/ryoi360/projects/reward_comp/final_proc/phy_curation/rce_pilot_2_full_lfp_traces_and_sleap_poses.pkl/phy/cluster_info.tsv'\n"
     ]
    }
   ],
   "source": [
    "recording_to_cluster_info = {}\n",
    "for recording_dir in ALL_PHY_DIR:\n",
    "    try:\n",
    "        recording_basename = os.path.basename(recording_dir).strip(\".rec\")\n",
    "        file_path = os.path.join(recording_dir, \"phy\", \"cluster_info.tsv\")\n",
    "        recording_to_cluster_info[recording_basename] = pd.read_csv(file_path, sep=\"\\t\")\n",
    "    except Exception as e:\n",
    "        print(e)"
   ]
  },
  {
   "cell_type": "code",
   "execution_count": 14,
   "metadata": {
    "tags": []
   },
   "outputs": [
    {
     "data": {
      "text/html": [
       "<div>\n",
       "<style scoped>\n",
       "    .dataframe tbody tr th:only-of-type {\n",
       "        vertical-align: middle;\n",
       "    }\n",
       "\n",
       "    .dataframe tbody tr th {\n",
       "        vertical-align: top;\n",
       "    }\n",
       "\n",
       "    .dataframe thead th {\n",
       "        text-align: right;\n",
       "    }\n",
       "</style>\n",
       "<table border=\"1\" class=\"dataframe\">\n",
       "  <thead>\n",
       "    <tr style=\"text-align: right;\">\n",
       "      <th></th>\n",
       "      <th>cluster_id</th>\n",
       "      <th>1_5_ms_isi</th>\n",
       "      <th>1ms_isi</th>\n",
       "      <th>2ms_isi</th>\n",
       "      <th>amp</th>\n",
       "      <th>ch</th>\n",
       "      <th>channel_group</th>\n",
       "      <th>depth</th>\n",
       "      <th>fr</th>\n",
       "      <th>group</th>\n",
       "      <th>n_spikes</th>\n",
       "      <th>sh</th>\n",
       "      <th>si_unit_id</th>\n",
       "    </tr>\n",
       "  </thead>\n",
       "  <tbody>\n",
       "    <tr>\n",
       "      <th>0</th>\n",
       "      <td>3</td>\n",
       "      <td>71</td>\n",
       "      <td>22</td>\n",
       "      <td>243</td>\n",
       "      <td>8.729426</td>\n",
       "      <td>1</td>\n",
       "      <td>0</td>\n",
       "      <td>20.0</td>\n",
       "      <td>9.474292</td>\n",
       "      <td>mua</td>\n",
       "      <td>33069</td>\n",
       "      <td>0</td>\n",
       "      <td>5</td>\n",
       "    </tr>\n",
       "    <tr>\n",
       "      <th>1</th>\n",
       "      <td>5</td>\n",
       "      <td>4</td>\n",
       "      <td>0</td>\n",
       "      <td>14</td>\n",
       "      <td>9.769127</td>\n",
       "      <td>2</td>\n",
       "      <td>0</td>\n",
       "      <td>40.0</td>\n",
       "      <td>1.879731</td>\n",
       "      <td>mua</td>\n",
       "      <td>6561</td>\n",
       "      <td>0</td>\n",
       "      <td>7</td>\n",
       "    </tr>\n",
       "    <tr>\n",
       "      <th>2</th>\n",
       "      <td>6</td>\n",
       "      <td>2</td>\n",
       "      <td>0</td>\n",
       "      <td>11</td>\n",
       "      <td>13.532221</td>\n",
       "      <td>2</td>\n",
       "      <td>0</td>\n",
       "      <td>40.0</td>\n",
       "      <td>11.421351</td>\n",
       "      <td>good</td>\n",
       "      <td>39865</td>\n",
       "      <td>0</td>\n",
       "      <td>8</td>\n",
       "    </tr>\n",
       "    <tr>\n",
       "      <th>3</th>\n",
       "      <td>7</td>\n",
       "      <td>58</td>\n",
       "      <td>30</td>\n",
       "      <td>99</td>\n",
       "      <td>9.302568</td>\n",
       "      <td>2</td>\n",
       "      <td>0</td>\n",
       "      <td>40.0</td>\n",
       "      <td>20.851808</td>\n",
       "      <td>good</td>\n",
       "      <td>72781</td>\n",
       "      <td>0</td>\n",
       "      <td>9</td>\n",
       "    </tr>\n",
       "    <tr>\n",
       "      <th>4</th>\n",
       "      <td>8</td>\n",
       "      <td>29</td>\n",
       "      <td>12</td>\n",
       "      <td>94</td>\n",
       "      <td>7.241092</td>\n",
       "      <td>3</td>\n",
       "      <td>0</td>\n",
       "      <td>60.0</td>\n",
       "      <td>4.613521</td>\n",
       "      <td>mua</td>\n",
       "      <td>16103</td>\n",
       "      <td>0</td>\n",
       "      <td>10</td>\n",
       "    </tr>\n",
       "  </tbody>\n",
       "</table>\n",
       "</div>"
      ],
      "text/plain": [
       "   cluster_id  1_5_ms_isi  1ms_isi  2ms_isi        amp  ch  channel_group  \\\n",
       "0           3          71       22      243   8.729426   1              0   \n",
       "1           5           4        0       14   9.769127   2              0   \n",
       "2           6           2        0       11  13.532221   2              0   \n",
       "3           7          58       30       99   9.302568   2              0   \n",
       "4           8          29       12       94   7.241092   3              0   \n",
       "\n",
       "   depth         fr group  n_spikes  sh  si_unit_id  \n",
       "0   20.0   9.474292   mua     33069   0           5  \n",
       "1   40.0   1.879731   mua      6561   0           7  \n",
       "2   40.0  11.421351  good     39865   0           8  \n",
       "3   40.0  20.851808  good     72781   0           9  \n",
       "4   60.0   4.613521   mua     16103   0          10  "
      ]
     },
     "execution_count": 14,
     "metadata": {},
     "output_type": "execute_result"
    }
   ],
   "source": [
    "recording_to_cluster_info[list(recording_to_cluster_info.keys())[1]].head()"
   ]
  },
  {
   "cell_type": "markdown",
   "metadata": {},
   "source": [
    "- Combining all the unit info dataframes and adding the recording name"
   ]
  },
  {
   "cell_type": "code",
   "execution_count": 15,
   "metadata": {
    "tags": []
   },
   "outputs": [],
   "source": [
    "recording_to_cluster_info_df = pd.concat(recording_to_cluster_info, names=['recording_name']).reset_index(level=1, drop=True).reset_index()\n"
   ]
  },
  {
   "cell_type": "code",
   "execution_count": 16,
   "metadata": {
    "tags": []
   },
   "outputs": [
    {
     "data": {
      "text/html": [
       "<div>\n",
       "<style scoped>\n",
       "    .dataframe tbody tr th:only-of-type {\n",
       "        vertical-align: middle;\n",
       "    }\n",
       "\n",
       "    .dataframe tbody tr th {\n",
       "        vertical-align: top;\n",
       "    }\n",
       "\n",
       "    .dataframe thead th {\n",
       "        text-align: right;\n",
       "    }\n",
       "</style>\n",
       "<table border=\"1\" class=\"dataframe\">\n",
       "  <thead>\n",
       "    <tr style=\"text-align: right;\">\n",
       "      <th></th>\n",
       "      <th>recording_name</th>\n",
       "      <th>cluster_id</th>\n",
       "      <th>1_5_ms_isi</th>\n",
       "      <th>1ms_isi</th>\n",
       "      <th>2ms_isi</th>\n",
       "      <th>amp</th>\n",
       "      <th>ch</th>\n",
       "      <th>channel_group</th>\n",
       "      <th>depth</th>\n",
       "      <th>fr</th>\n",
       "      <th>group</th>\n",
       "      <th>n_spikes</th>\n",
       "      <th>sh</th>\n",
       "      <th>si_unit_id</th>\n",
       "    </tr>\n",
       "  </thead>\n",
       "  <tbody>\n",
       "    <tr>\n",
       "      <th>0</th>\n",
       "      <td>20230620_114347_standard_comp_to_omission_D4_s...</td>\n",
       "      <td>0</td>\n",
       "      <td>12</td>\n",
       "      <td>9</td>\n",
       "      <td>45</td>\n",
       "      <td>10.498872</td>\n",
       "      <td>0</td>\n",
       "      <td>0.0</td>\n",
       "      <td>0.0</td>\n",
       "      <td>4.379580</td>\n",
       "      <td>mua</td>\n",
       "      <td>14970</td>\n",
       "      <td>0</td>\n",
       "      <td>1.0</td>\n",
       "    </tr>\n",
       "    <tr>\n",
       "      <th>1</th>\n",
       "      <td>20230620_114347_standard_comp_to_omission_D4_s...</td>\n",
       "      <td>11</td>\n",
       "      <td>0</td>\n",
       "      <td>0</td>\n",
       "      <td>0</td>\n",
       "      <td>10.311028</td>\n",
       "      <td>5</td>\n",
       "      <td>0.0</td>\n",
       "      <td>100.0</td>\n",
       "      <td>0.230828</td>\n",
       "      <td>mua</td>\n",
       "      <td>789</td>\n",
       "      <td>0</td>\n",
       "      <td>12.0</td>\n",
       "    </tr>\n",
       "    <tr>\n",
       "      <th>2</th>\n",
       "      <td>20230620_114347_standard_comp_to_omission_D4_s...</td>\n",
       "      <td>14</td>\n",
       "      <td>4</td>\n",
       "      <td>0</td>\n",
       "      <td>7</td>\n",
       "      <td>8.454960</td>\n",
       "      <td>8</td>\n",
       "      <td>0.0</td>\n",
       "      <td>160.0</td>\n",
       "      <td>1.908058</td>\n",
       "      <td>good</td>\n",
       "      <td>6522</td>\n",
       "      <td>0</td>\n",
       "      <td>15.0</td>\n",
       "    </tr>\n",
       "    <tr>\n",
       "      <th>3</th>\n",
       "      <td>20230620_114347_standard_comp_to_omission_D4_s...</td>\n",
       "      <td>21</td>\n",
       "      <td>148</td>\n",
       "      <td>57</td>\n",
       "      <td>355</td>\n",
       "      <td>9.774931</td>\n",
       "      <td>11</td>\n",
       "      <td>0.0</td>\n",
       "      <td>220.0</td>\n",
       "      <td>10.004284</td>\n",
       "      <td>mua</td>\n",
       "      <td>34196</td>\n",
       "      <td>0</td>\n",
       "      <td>23.0</td>\n",
       "    </tr>\n",
       "    <tr>\n",
       "      <th>4</th>\n",
       "      <td>20230620_114347_standard_comp_to_omission_D4_s...</td>\n",
       "      <td>22</td>\n",
       "      <td>105</td>\n",
       "      <td>26</td>\n",
       "      <td>351</td>\n",
       "      <td>8.435524</td>\n",
       "      <td>12</td>\n",
       "      <td>0.0</td>\n",
       "      <td>240.0</td>\n",
       "      <td>13.887395</td>\n",
       "      <td>mua</td>\n",
       "      <td>47469</td>\n",
       "      <td>0</td>\n",
       "      <td>24.0</td>\n",
       "    </tr>\n",
       "  </tbody>\n",
       "</table>\n",
       "</div>"
      ],
      "text/plain": [
       "                                      recording_name  cluster_id  1_5_ms_isi  \\\n",
       "0  20230620_114347_standard_comp_to_omission_D4_s...           0          12   \n",
       "1  20230620_114347_standard_comp_to_omission_D4_s...          11           0   \n",
       "2  20230620_114347_standard_comp_to_omission_D4_s...          14           4   \n",
       "3  20230620_114347_standard_comp_to_omission_D4_s...          21         148   \n",
       "4  20230620_114347_standard_comp_to_omission_D4_s...          22         105   \n",
       "\n",
       "   1ms_isi  2ms_isi        amp  ch  channel_group  depth         fr group  \\\n",
       "0        9       45  10.498872   0            0.0    0.0   4.379580   mua   \n",
       "1        0        0  10.311028   5            0.0  100.0   0.230828   mua   \n",
       "2        0        7   8.454960   8            0.0  160.0   1.908058  good   \n",
       "3       57      355   9.774931  11            0.0  220.0  10.004284   mua   \n",
       "4       26      351   8.435524  12            0.0  240.0  13.887395   mua   \n",
       "\n",
       "   n_spikes  sh  si_unit_id  \n",
       "0     14970   0         1.0  \n",
       "1       789   0        12.0  \n",
       "2      6522   0        15.0  \n",
       "3     34196   0        23.0  \n",
       "4     47469   0        24.0  "
      ]
     },
     "execution_count": 16,
     "metadata": {},
     "output_type": "execute_result"
    }
   ],
   "source": [
    "recording_to_cluster_info_df.head()"
   ]
  },
  {
   "cell_type": "markdown",
   "metadata": {},
   "source": [
    "- Filtering for the good units"
   ]
  },
  {
   "cell_type": "code",
   "execution_count": 17,
   "metadata": {
    "tags": []
   },
   "outputs": [],
   "source": [
    "good_unit_cluster_info_df = recording_to_cluster_info_df[recording_to_cluster_info_df[\"group\"] == \"good\"].reset_index(drop=True)"
   ]
  },
  {
   "cell_type": "code",
   "execution_count": 18,
   "metadata": {
    "tags": []
   },
   "outputs": [
    {
     "data": {
      "text/html": [
       "<div>\n",
       "<style scoped>\n",
       "    .dataframe tbody tr th:only-of-type {\n",
       "        vertical-align: middle;\n",
       "    }\n",
       "\n",
       "    .dataframe tbody tr th {\n",
       "        vertical-align: top;\n",
       "    }\n",
       "\n",
       "    .dataframe thead th {\n",
       "        text-align: right;\n",
       "    }\n",
       "</style>\n",
       "<table border=\"1\" class=\"dataframe\">\n",
       "  <thead>\n",
       "    <tr style=\"text-align: right;\">\n",
       "      <th></th>\n",
       "      <th>recording_name</th>\n",
       "      <th>cluster_id</th>\n",
       "      <th>1_5_ms_isi</th>\n",
       "      <th>1ms_isi</th>\n",
       "      <th>2ms_isi</th>\n",
       "      <th>amp</th>\n",
       "      <th>ch</th>\n",
       "      <th>channel_group</th>\n",
       "      <th>depth</th>\n",
       "      <th>fr</th>\n",
       "      <th>group</th>\n",
       "      <th>n_spikes</th>\n",
       "      <th>sh</th>\n",
       "      <th>si_unit_id</th>\n",
       "    </tr>\n",
       "  </thead>\n",
       "  <tbody>\n",
       "    <tr>\n",
       "      <th>0</th>\n",
       "      <td>20230620_114347_standard_comp_to_omission_D4_s...</td>\n",
       "      <td>14</td>\n",
       "      <td>4</td>\n",
       "      <td>0</td>\n",
       "      <td>7</td>\n",
       "      <td>8.454960</td>\n",
       "      <td>8</td>\n",
       "      <td>0.0</td>\n",
       "      <td>160.0</td>\n",
       "      <td>1.908058</td>\n",
       "      <td>good</td>\n",
       "      <td>6522</td>\n",
       "      <td>0</td>\n",
       "      <td>15.0</td>\n",
       "    </tr>\n",
       "    <tr>\n",
       "      <th>1</th>\n",
       "      <td>20230620_114347_standard_comp_to_omission_D4_s...</td>\n",
       "      <td>28</td>\n",
       "      <td>2</td>\n",
       "      <td>1</td>\n",
       "      <td>7</td>\n",
       "      <td>8.708598</td>\n",
       "      <td>14</td>\n",
       "      <td>0.0</td>\n",
       "      <td>280.0</td>\n",
       "      <td>1.436163</td>\n",
       "      <td>good</td>\n",
       "      <td>4909</td>\n",
       "      <td>0</td>\n",
       "      <td>30.0</td>\n",
       "    </tr>\n",
       "    <tr>\n",
       "      <th>2</th>\n",
       "      <td>20230620_114347_standard_comp_to_omission_D4_s...</td>\n",
       "      <td>41</td>\n",
       "      <td>2</td>\n",
       "      <td>1</td>\n",
       "      <td>3</td>\n",
       "      <td>10.409801</td>\n",
       "      <td>19</td>\n",
       "      <td>0.0</td>\n",
       "      <td>380.0</td>\n",
       "      <td>1.583319</td>\n",
       "      <td>good</td>\n",
       "      <td>5412</td>\n",
       "      <td>0</td>\n",
       "      <td>43.0</td>\n",
       "    </tr>\n",
       "    <tr>\n",
       "      <th>3</th>\n",
       "      <td>20230620_114347_standard_comp_to_omission_D4_s...</td>\n",
       "      <td>42</td>\n",
       "      <td>6</td>\n",
       "      <td>1</td>\n",
       "      <td>8</td>\n",
       "      <td>11.904501</td>\n",
       "      <td>20</td>\n",
       "      <td>0.0</td>\n",
       "      <td>400.0</td>\n",
       "      <td>12.966718</td>\n",
       "      <td>good</td>\n",
       "      <td>44322</td>\n",
       "      <td>0</td>\n",
       "      <td>44.0</td>\n",
       "    </tr>\n",
       "    <tr>\n",
       "      <th>4</th>\n",
       "      <td>20230620_114347_standard_comp_to_omission_D4_s...</td>\n",
       "      <td>43</td>\n",
       "      <td>1</td>\n",
       "      <td>0</td>\n",
       "      <td>4</td>\n",
       "      <td>7.047093</td>\n",
       "      <td>26</td>\n",
       "      <td>0.0</td>\n",
       "      <td>520.0</td>\n",
       "      <td>1.489701</td>\n",
       "      <td>good</td>\n",
       "      <td>5092</td>\n",
       "      <td>0</td>\n",
       "      <td>45.0</td>\n",
       "    </tr>\n",
       "  </tbody>\n",
       "</table>\n",
       "</div>"
      ],
      "text/plain": [
       "                                      recording_name  cluster_id  1_5_ms_isi  \\\n",
       "0  20230620_114347_standard_comp_to_omission_D4_s...          14           4   \n",
       "1  20230620_114347_standard_comp_to_omission_D4_s...          28           2   \n",
       "2  20230620_114347_standard_comp_to_omission_D4_s...          41           2   \n",
       "3  20230620_114347_standard_comp_to_omission_D4_s...          42           6   \n",
       "4  20230620_114347_standard_comp_to_omission_D4_s...          43           1   \n",
       "\n",
       "   1ms_isi  2ms_isi        amp  ch  channel_group  depth         fr group  \\\n",
       "0        0        7   8.454960   8            0.0  160.0   1.908058  good   \n",
       "1        1        7   8.708598  14            0.0  280.0   1.436163  good   \n",
       "2        1        3  10.409801  19            0.0  380.0   1.583319  good   \n",
       "3        1        8  11.904501  20            0.0  400.0  12.966718  good   \n",
       "4        0        4   7.047093  26            0.0  520.0   1.489701  good   \n",
       "\n",
       "   n_spikes  sh  si_unit_id  \n",
       "0      6522   0        15.0  \n",
       "1      4909   0        30.0  \n",
       "2      5412   0        43.0  \n",
       "3     44322   0        44.0  \n",
       "4      5092   0        45.0  "
      ]
     },
     "execution_count": 18,
     "metadata": {},
     "output_type": "execute_result"
    }
   ],
   "source": [
    "good_unit_cluster_info_df.head()"
   ]
  },
  {
   "cell_type": "code",
   "execution_count": 19,
   "metadata": {
    "tags": []
   },
   "outputs": [],
   "source": [
    "recording_to_good_unit_ids = good_unit_cluster_info_df.groupby('recording_name')['cluster_id'].apply(list).to_dict()"
   ]
  },
  {
   "cell_type": "markdown",
   "metadata": {},
   "source": [
    "- A list of all the unit IDs that each spike came from in order\n",
    "    - First item is first spike, second item is second spike, etc."
   ]
  },
  {
   "cell_type": "code",
   "execution_count": 20,
   "metadata": {
    "tags": []
   },
   "outputs": [
    {
     "name": "stdout",
     "output_type": "stream",
     "text": [
      "[Errno 20] Not a directory: '/blue/npadillacoreano/ryoi360/projects/reward_comp/final_proc/phy_curation/rce_pilot_2_trodes_metadata.pkl/phy/spike_clusters.npy'\n",
      "[Errno 20] Not a directory: '/blue/npadillacoreano/ryoi360/projects/reward_comp/final_proc/phy_curation/rce_pilot_2_full_lfp_traces_and_video_frames.pkl/phy/spike_clusters.npy'\n",
      "[Errno 20] Not a directory: '/blue/npadillacoreano/ryoi360/projects/reward_comp/final_proc/phy_curation/rce_pilot_2_full_lfp_traces_and_sleap_poses.pkl/phy/spike_clusters.npy'\n"
     ]
    }
   ],
   "source": [
    "recording_to_spike_clusters = {}\n",
    "for recording_dir in ALL_PHY_DIR:\n",
    "    try:\n",
    "        recording_basename = os.path.basename(recording_dir).strip(\".rec\")\n",
    "        file_path = os.path.join(recording_dir, \"phy\", \"spike_clusters.npy\")\n",
    "        recording_to_spike_clusters[recording_basename] = np.load(file_path)\n",
    "    except Exception as e:\n",
    "        print(e)"
   ]
  },
  {
   "cell_type": "code",
   "execution_count": 21,
   "metadata": {
    "tags": []
   },
   "outputs": [
    {
     "data": {
      "text/plain": [
       "array([ 42,  42, 207, ...,  22, 229,  68], dtype=int32)"
      ]
     },
     "execution_count": 21,
     "metadata": {},
     "output_type": "execute_result"
    }
   ],
   "source": [
    "recording_to_spike_clusters[list(recording_to_spike_clusters.keys())[0]]"
   ]
  },
  {
   "cell_type": "code",
   "execution_count": 22,
   "metadata": {
    "tags": []
   },
   "outputs": [
    {
     "data": {
      "text/plain": [
       "(903326,)"
      ]
     },
     "execution_count": 22,
     "metadata": {},
     "output_type": "execute_result"
    }
   ],
   "source": [
    "recording_to_spike_clusters[list(recording_to_spike_clusters.keys())[0]].shape"
   ]
  },
  {
   "cell_type": "markdown",
   "metadata": {},
   "source": [
    "- The times that all the spikes happened"
   ]
  },
  {
   "cell_type": "code",
   "execution_count": 23,
   "metadata": {
    "tags": []
   },
   "outputs": [
    {
     "name": "stdout",
     "output_type": "stream",
     "text": [
      "[Errno 20] Not a directory: '/blue/npadillacoreano/ryoi360/projects/reward_comp/final_proc/phy_curation/rce_pilot_2_trodes_metadata.pkl/phy/spike_times.npy'\n",
      "[Errno 20] Not a directory: '/blue/npadillacoreano/ryoi360/projects/reward_comp/final_proc/phy_curation/rce_pilot_2_full_lfp_traces_and_video_frames.pkl/phy/spike_times.npy'\n",
      "[Errno 20] Not a directory: '/blue/npadillacoreano/ryoi360/projects/reward_comp/final_proc/phy_curation/rce_pilot_2_full_lfp_traces_and_sleap_poses.pkl/phy/spike_times.npy'\n"
     ]
    }
   ],
   "source": [
    "recording_to_spike_times = {}\n",
    "for recording_dir in ALL_PHY_DIR:\n",
    "    try:\n",
    "        recording_basename = os.path.basename(recording_dir).strip(\".rec\")\n",
    "        file_path = os.path.join(recording_dir, \"phy\", \"spike_times.npy\")\n",
    "        recording_to_spike_times[recording_basename] = np.load(file_path)\n",
    "    except Exception as e:\n",
    "        print(e)"
   ]
  },
  {
   "cell_type": "code",
   "execution_count": 24,
   "metadata": {
    "tags": []
   },
   "outputs": [
    {
     "data": {
      "text/plain": [
       "array([[     120],\n",
       "       [     262],\n",
       "       [     439],\n",
       "       ...,\n",
       "       [68362487],\n",
       "       [68362524],\n",
       "       [68362610]])"
      ]
     },
     "execution_count": 24,
     "metadata": {},
     "output_type": "execute_result"
    }
   ],
   "source": [
    "recording_to_spike_times[list(recording_to_spike_times.keys())[0]]"
   ]
  },
  {
   "cell_type": "code",
   "execution_count": 25,
   "metadata": {
    "tags": []
   },
   "outputs": [
    {
     "data": {
      "text/plain": [
       "(903326, 1)"
      ]
     },
     "execution_count": 25,
     "metadata": {},
     "output_type": "execute_result"
    }
   ],
   "source": [
    "recording_to_spike_times[list(recording_to_spike_times.keys())[0]].shape"
   ]
  },
  {
   "cell_type": "markdown",
   "metadata": {},
   "source": [
    "### Combining everything into a dataframe"
   ]
  },
  {
   "cell_type": "code",
   "execution_count": 26,
   "metadata": {
    "tags": []
   },
   "outputs": [
    {
     "name": "stdout",
     "output_type": "stream",
     "text": [
      "[Errno 20] Not a directory: '/blue/npadillacoreano/ryoi360/projects/reward_comp/final_proc/phy_curation/rce_pilot_2_trodes_metadata.pkl/phy/cluster_info.tsv'\n",
      "[Errno 20] Not a directory: '/blue/npadillacoreano/ryoi360/projects/reward_comp/final_proc/phy_curation/rce_pilot_2_full_lfp_traces_and_video_frames.pkl/phy/cluster_info.tsv'\n",
      "[Errno 20] Not a directory: '/blue/npadillacoreano/ryoi360/projects/reward_comp/final_proc/phy_curation/rce_pilot_2_full_lfp_traces_and_sleap_poses.pkl/phy/cluster_info.tsv'\n"
     ]
    }
   ],
   "source": [
    "recording_to_spike_df = {}\n",
    "\n",
    "for recording_dir in ALL_PHY_DIR:\n",
    "    try:\n",
    "        recording_basename = os.path.basename(recording_dir).strip(\".rec\")\n",
    "        cluster_info_path = os.path.join(recording_dir, \"phy\", \"cluster_info.tsv\")\n",
    "        cluster_info_df = pd.read_csv(cluster_info_path, sep=\"\\t\")\n",
    "\n",
    "        spike_clusters_path = os.path.join(recording_dir, \"phy\", \"spike_clusters.npy\")\n",
    "        spike_clusters = np.load(spike_clusters_path)\n",
    "        \n",
    "        spike_times_path = os.path.join(recording_dir, \"phy\", \"spike_times.npy\")\n",
    "        spike_times = np.load(spike_times_path)\n",
    "\n",
    "        spike_df = pd.DataFrame({'spike_clusters': spike_clusters, 'spike_times': spike_times.T[0]})\n",
    "\n",
    "        merged_df = spike_df.merge(cluster_info_df, left_on='spike_clusters', right_on='cluster_id', how=\"left\")\n",
    "        merged_df[\"recording_name\"] = recording_basename\n",
    "\n",
    "        merged_df[\"timestamp_isi\"] = merged_df.groupby('spike_clusters')[\"spike_times\"].diff()\n",
    "        merged_df[\"current_isi\"] = merged_df[\"timestamp_isi\"] / SAMPLING_RATE\n",
    "        \n",
    "        if not merged_df.empty:\n",
    "            recording_to_spike_df[recording_basename] = merged_df\n",
    "       \n",
    "    except Exception as e:\n",
    "        print(e)"
   ]
  },
  {
   "cell_type": "code",
   "execution_count": 27,
   "metadata": {
    "tags": []
   },
   "outputs": [
    {
     "data": {
      "text/html": [
       "<div>\n",
       "<style scoped>\n",
       "    .dataframe tbody tr th:only-of-type {\n",
       "        vertical-align: middle;\n",
       "    }\n",
       "\n",
       "    .dataframe tbody tr th {\n",
       "        vertical-align: top;\n",
       "    }\n",
       "\n",
       "    .dataframe thead th {\n",
       "        text-align: right;\n",
       "    }\n",
       "</style>\n",
       "<table border=\"1\" class=\"dataframe\">\n",
       "  <thead>\n",
       "    <tr style=\"text-align: right;\">\n",
       "      <th></th>\n",
       "      <th>cluster_id</th>\n",
       "      <th>1_5_ms_isi</th>\n",
       "      <th>1ms_isi</th>\n",
       "      <th>2ms_isi</th>\n",
       "      <th>amp</th>\n",
       "      <th>ch</th>\n",
       "      <th>channel_group</th>\n",
       "      <th>depth</th>\n",
       "      <th>fr</th>\n",
       "      <th>group</th>\n",
       "      <th>n_spikes</th>\n",
       "      <th>sh</th>\n",
       "      <th>si_unit_id</th>\n",
       "    </tr>\n",
       "  </thead>\n",
       "  <tbody>\n",
       "    <tr>\n",
       "      <th>0</th>\n",
       "      <td>2</td>\n",
       "      <td>0</td>\n",
       "      <td>0</td>\n",
       "      <td>0</td>\n",
       "      <td>24.692951</td>\n",
       "      <td>1</td>\n",
       "      <td>0.0</td>\n",
       "      <td>20.0</td>\n",
       "      <td>1.070175</td>\n",
       "      <td>good</td>\n",
       "      <td>3658</td>\n",
       "      <td>0</td>\n",
       "      <td>3.0</td>\n",
       "    </tr>\n",
       "    <tr>\n",
       "      <th>1</th>\n",
       "      <td>3</td>\n",
       "      <td>235</td>\n",
       "      <td>106</td>\n",
       "      <td>472</td>\n",
       "      <td>10.347874</td>\n",
       "      <td>1</td>\n",
       "      <td>0.0</td>\n",
       "      <td>20.0</td>\n",
       "      <td>14.493880</td>\n",
       "      <td>mua</td>\n",
       "      <td>49542</td>\n",
       "      <td>0</td>\n",
       "      <td>4.0</td>\n",
       "    </tr>\n",
       "    <tr>\n",
       "      <th>2</th>\n",
       "      <td>4</td>\n",
       "      <td>64</td>\n",
       "      <td>25</td>\n",
       "      <td>149</td>\n",
       "      <td>11.953332</td>\n",
       "      <td>4</td>\n",
       "      <td>0.0</td>\n",
       "      <td>80.0</td>\n",
       "      <td>27.163371</td>\n",
       "      <td>mua</td>\n",
       "      <td>92848</td>\n",
       "      <td>0</td>\n",
       "      <td>5.0</td>\n",
       "    </tr>\n",
       "    <tr>\n",
       "      <th>3</th>\n",
       "      <td>10</td>\n",
       "      <td>69</td>\n",
       "      <td>29</td>\n",
       "      <td>194</td>\n",
       "      <td>10.297276</td>\n",
       "      <td>18</td>\n",
       "      <td>0.0</td>\n",
       "      <td>360.0</td>\n",
       "      <td>6.455279</td>\n",
       "      <td>mua</td>\n",
       "      <td>22065</td>\n",
       "      <td>0</td>\n",
       "      <td>12.0</td>\n",
       "    </tr>\n",
       "    <tr>\n",
       "      <th>4</th>\n",
       "      <td>11</td>\n",
       "      <td>619</td>\n",
       "      <td>261</td>\n",
       "      <td>1295</td>\n",
       "      <td>9.638424</td>\n",
       "      <td>19</td>\n",
       "      <td>0.0</td>\n",
       "      <td>380.0</td>\n",
       "      <td>18.195901</td>\n",
       "      <td>mua</td>\n",
       "      <td>62196</td>\n",
       "      <td>0</td>\n",
       "      <td>13.0</td>\n",
       "    </tr>\n",
       "  </tbody>\n",
       "</table>\n",
       "</div>"
      ],
      "text/plain": [
       "   cluster_id  1_5_ms_isi  1ms_isi  2ms_isi        amp  ch  channel_group  \\\n",
       "0           2           0        0        0  24.692951   1            0.0   \n",
       "1           3         235      106      472  10.347874   1            0.0   \n",
       "2           4          64       25      149  11.953332   4            0.0   \n",
       "3          10          69       29      194  10.297276  18            0.0   \n",
       "4          11         619      261     1295   9.638424  19            0.0   \n",
       "\n",
       "   depth         fr group  n_spikes  sh  si_unit_id  \n",
       "0   20.0   1.070175  good      3658   0         3.0  \n",
       "1   20.0  14.493880   mua     49542   0         4.0  \n",
       "2   80.0  27.163371   mua     92848   0         5.0  \n",
       "3  360.0   6.455279   mua     22065   0        12.0  \n",
       "4  380.0  18.195901   mua     62196   0        13.0  "
      ]
     },
     "execution_count": 27,
     "metadata": {},
     "output_type": "execute_result"
    }
   ],
   "source": [
    "cluster_info_df.head()"
   ]
  },
  {
   "cell_type": "code",
   "execution_count": 28,
   "metadata": {
    "tags": []
   },
   "outputs": [
    {
     "data": {
      "text/plain": [
       "array([[     160],\n",
       "       [     483],\n",
       "       [     503],\n",
       "       ...,\n",
       "       [68361973],\n",
       "       [68362204],\n",
       "       [68362381]])"
      ]
     },
     "execution_count": 28,
     "metadata": {},
     "output_type": "execute_result"
    }
   ],
   "source": [
    "spike_times"
   ]
  },
  {
   "cell_type": "code",
   "execution_count": 29,
   "metadata": {
    "tags": []
   },
   "outputs": [
    {
     "data": {
      "text/plain": [
       "array([ 4,  4, 11, ...,  4,  4, 87], dtype=int32)"
      ]
     },
     "execution_count": 29,
     "metadata": {},
     "output_type": "execute_result"
    }
   ],
   "source": [
    "spike_clusters"
   ]
  },
  {
   "cell_type": "markdown",
   "metadata": {},
   "source": [
    "- Combining the spike time df for all recordings"
   ]
  },
  {
   "cell_type": "code",
   "execution_count": 30,
   "metadata": {
    "tags": []
   },
   "outputs": [],
   "source": [
    "all_spike_time_df = pd.concat(recording_to_spike_df.values())"
   ]
  },
  {
   "cell_type": "code",
   "execution_count": 31,
   "metadata": {
    "tags": []
   },
   "outputs": [],
   "source": [
    "all_spike_time_df = all_spike_time_df[all_spike_time_df[\"group\"] == \"good\"].reset_index(drop=True)"
   ]
  },
  {
   "cell_type": "code",
   "execution_count": 32,
   "metadata": {
    "tags": []
   },
   "outputs": [
    {
     "data": {
      "text/html": [
       "<div>\n",
       "<style scoped>\n",
       "    .dataframe tbody tr th:only-of-type {\n",
       "        vertical-align: middle;\n",
       "    }\n",
       "\n",
       "    .dataframe tbody tr th {\n",
       "        vertical-align: top;\n",
       "    }\n",
       "\n",
       "    .dataframe thead th {\n",
       "        text-align: right;\n",
       "    }\n",
       "</style>\n",
       "<table border=\"1\" class=\"dataframe\">\n",
       "  <thead>\n",
       "    <tr style=\"text-align: right;\">\n",
       "      <th></th>\n",
       "      <th>spike_clusters</th>\n",
       "      <th>spike_times</th>\n",
       "      <th>cluster_id</th>\n",
       "      <th>1_5_ms_isi</th>\n",
       "      <th>1ms_isi</th>\n",
       "      <th>2ms_isi</th>\n",
       "      <th>amp</th>\n",
       "      <th>ch</th>\n",
       "      <th>channel_group</th>\n",
       "      <th>depth</th>\n",
       "      <th>fr</th>\n",
       "      <th>group</th>\n",
       "      <th>n_spikes</th>\n",
       "      <th>sh</th>\n",
       "      <th>si_unit_id</th>\n",
       "      <th>recording_name</th>\n",
       "      <th>timestamp_isi</th>\n",
       "      <th>current_isi</th>\n",
       "    </tr>\n",
       "  </thead>\n",
       "  <tbody>\n",
       "    <tr>\n",
       "      <th>0</th>\n",
       "      <td>42</td>\n",
       "      <td>120</td>\n",
       "      <td>42</td>\n",
       "      <td>6</td>\n",
       "      <td>1</td>\n",
       "      <td>8</td>\n",
       "      <td>11.904501</td>\n",
       "      <td>20</td>\n",
       "      <td>0.0</td>\n",
       "      <td>400.0</td>\n",
       "      <td>12.966718</td>\n",
       "      <td>good</td>\n",
       "      <td>44322</td>\n",
       "      <td>0</td>\n",
       "      <td>44.0</td>\n",
       "      <td>20230620_114347_standard_comp_to_omission_D4_s...</td>\n",
       "      <td>NaN</td>\n",
       "      <td>NaN</td>\n",
       "    </tr>\n",
       "    <tr>\n",
       "      <th>1</th>\n",
       "      <td>42</td>\n",
       "      <td>262</td>\n",
       "      <td>42</td>\n",
       "      <td>6</td>\n",
       "      <td>1</td>\n",
       "      <td>8</td>\n",
       "      <td>11.904501</td>\n",
       "      <td>20</td>\n",
       "      <td>0.0</td>\n",
       "      <td>400.0</td>\n",
       "      <td>12.966718</td>\n",
       "      <td>good</td>\n",
       "      <td>44322</td>\n",
       "      <td>0</td>\n",
       "      <td>44.0</td>\n",
       "      <td>20230620_114347_standard_comp_to_omission_D4_s...</td>\n",
       "      <td>142.0</td>\n",
       "      <td>0.00710</td>\n",
       "    </tr>\n",
       "    <tr>\n",
       "      <th>2</th>\n",
       "      <td>207</td>\n",
       "      <td>439</td>\n",
       "      <td>207</td>\n",
       "      <td>1</td>\n",
       "      <td>0</td>\n",
       "      <td>5</td>\n",
       "      <td>16.813625</td>\n",
       "      <td>17</td>\n",
       "      <td>0.0</td>\n",
       "      <td>340.0</td>\n",
       "      <td>4.308197</td>\n",
       "      <td>good</td>\n",
       "      <td>14726</td>\n",
       "      <td>0</td>\n",
       "      <td>36.0</td>\n",
       "      <td>20230620_114347_standard_comp_to_omission_D4_s...</td>\n",
       "      <td>NaN</td>\n",
       "      <td>NaN</td>\n",
       "    </tr>\n",
       "    <tr>\n",
       "      <th>3</th>\n",
       "      <td>207</td>\n",
       "      <td>632</td>\n",
       "      <td>207</td>\n",
       "      <td>1</td>\n",
       "      <td>0</td>\n",
       "      <td>5</td>\n",
       "      <td>16.813625</td>\n",
       "      <td>17</td>\n",
       "      <td>0.0</td>\n",
       "      <td>340.0</td>\n",
       "      <td>4.308197</td>\n",
       "      <td>good</td>\n",
       "      <td>14726</td>\n",
       "      <td>0</td>\n",
       "      <td>36.0</td>\n",
       "      <td>20230620_114347_standard_comp_to_omission_D4_s...</td>\n",
       "      <td>193.0</td>\n",
       "      <td>0.00965</td>\n",
       "    </tr>\n",
       "    <tr>\n",
       "      <th>4</th>\n",
       "      <td>262</td>\n",
       "      <td>723</td>\n",
       "      <td>262</td>\n",
       "      <td>0</td>\n",
       "      <td>0</td>\n",
       "      <td>0</td>\n",
       "      <td>20.012720</td>\n",
       "      <td>19</td>\n",
       "      <td>0.0</td>\n",
       "      <td>380.0</td>\n",
       "      <td>2.037368</td>\n",
       "      <td>good</td>\n",
       "      <td>6964</td>\n",
       "      <td>0</td>\n",
       "      <td>39.0</td>\n",
       "      <td>20230620_114347_standard_comp_to_omission_D4_s...</td>\n",
       "      <td>NaN</td>\n",
       "      <td>NaN</td>\n",
       "    </tr>\n",
       "  </tbody>\n",
       "</table>\n",
       "</div>"
      ],
      "text/plain": [
       "   spike_clusters  spike_times  cluster_id  1_5_ms_isi  1ms_isi  2ms_isi  \\\n",
       "0              42          120          42           6        1        8   \n",
       "1              42          262          42           6        1        8   \n",
       "2             207          439         207           1        0        5   \n",
       "3             207          632         207           1        0        5   \n",
       "4             262          723         262           0        0        0   \n",
       "\n",
       "         amp  ch  channel_group  depth         fr group  n_spikes  sh  \\\n",
       "0  11.904501  20            0.0  400.0  12.966718  good     44322   0   \n",
       "1  11.904501  20            0.0  400.0  12.966718  good     44322   0   \n",
       "2  16.813625  17            0.0  340.0   4.308197  good     14726   0   \n",
       "3  16.813625  17            0.0  340.0   4.308197  good     14726   0   \n",
       "4  20.012720  19            0.0  380.0   2.037368  good      6964   0   \n",
       "\n",
       "   si_unit_id                                     recording_name  \\\n",
       "0        44.0  20230620_114347_standard_comp_to_omission_D4_s...   \n",
       "1        44.0  20230620_114347_standard_comp_to_omission_D4_s...   \n",
       "2        36.0  20230620_114347_standard_comp_to_omission_D4_s...   \n",
       "3        36.0  20230620_114347_standard_comp_to_omission_D4_s...   \n",
       "4        39.0  20230620_114347_standard_comp_to_omission_D4_s...   \n",
       "\n",
       "   timestamp_isi  current_isi  \n",
       "0            NaN          NaN  \n",
       "1          142.0      0.00710  \n",
       "2            NaN          NaN  \n",
       "3          193.0      0.00965  \n",
       "4            NaN          NaN  "
      ]
     },
     "execution_count": 32,
     "metadata": {},
     "output_type": "execute_result"
    }
   ],
   "source": [
    "all_spike_time_df.head()"
   ]
  },
  {
   "cell_type": "code",
   "execution_count": 33,
   "metadata": {
    "tags": []
   },
   "outputs": [
    {
     "data": {
      "text/html": [
       "<div>\n",
       "<style scoped>\n",
       "    .dataframe tbody tr th:only-of-type {\n",
       "        vertical-align: middle;\n",
       "    }\n",
       "\n",
       "    .dataframe tbody tr th {\n",
       "        vertical-align: top;\n",
       "    }\n",
       "\n",
       "    .dataframe thead th {\n",
       "        text-align: right;\n",
       "    }\n",
       "</style>\n",
       "<table border=\"1\" class=\"dataframe\">\n",
       "  <thead>\n",
       "    <tr style=\"text-align: right;\">\n",
       "      <th></th>\n",
       "      <th>spike_clusters</th>\n",
       "      <th>spike_times</th>\n",
       "      <th>cluster_id</th>\n",
       "      <th>1_5_ms_isi</th>\n",
       "      <th>1ms_isi</th>\n",
       "      <th>2ms_isi</th>\n",
       "      <th>amp</th>\n",
       "      <th>ch</th>\n",
       "      <th>channel_group</th>\n",
       "      <th>depth</th>\n",
       "      <th>fr</th>\n",
       "      <th>group</th>\n",
       "      <th>n_spikes</th>\n",
       "      <th>sh</th>\n",
       "      <th>si_unit_id</th>\n",
       "      <th>recording_name</th>\n",
       "      <th>timestamp_isi</th>\n",
       "      <th>current_isi</th>\n",
       "    </tr>\n",
       "  </thead>\n",
       "  <tbody>\n",
       "    <tr>\n",
       "      <th>2017369</th>\n",
       "      <td>64</td>\n",
       "      <td>68356117</td>\n",
       "      <td>64</td>\n",
       "      <td>4</td>\n",
       "      <td>1</td>\n",
       "      <td>12</td>\n",
       "      <td>10.794415</td>\n",
       "      <td>14</td>\n",
       "      <td>0.0</td>\n",
       "      <td>280.0</td>\n",
       "      <td>7.735803</td>\n",
       "      <td>good</td>\n",
       "      <td>26442</td>\n",
       "      <td>0</td>\n",
       "      <td>9.0</td>\n",
       "      <td>20230620_114347_standard_comp_to_omission_D4_s...</td>\n",
       "      <td>392.0</td>\n",
       "      <td>0.0196</td>\n",
       "    </tr>\n",
       "    <tr>\n",
       "      <th>2017370</th>\n",
       "      <td>89</td>\n",
       "      <td>68356258</td>\n",
       "      <td>89</td>\n",
       "      <td>11</td>\n",
       "      <td>11</td>\n",
       "      <td>13</td>\n",
       "      <td>17.238409</td>\n",
       "      <td>26</td>\n",
       "      <td>0.0</td>\n",
       "      <td>520.0</td>\n",
       "      <td>15.528948</td>\n",
       "      <td>good</td>\n",
       "      <td>53080</td>\n",
       "      <td>0</td>\n",
       "      <td>21.0</td>\n",
       "      <td>20230620_114347_standard_comp_to_omission_D4_s...</td>\n",
       "      <td>3360.0</td>\n",
       "      <td>0.1680</td>\n",
       "    </tr>\n",
       "    <tr>\n",
       "      <th>2017371</th>\n",
       "      <td>64</td>\n",
       "      <td>68357205</td>\n",
       "      <td>64</td>\n",
       "      <td>4</td>\n",
       "      <td>1</td>\n",
       "      <td>12</td>\n",
       "      <td>10.794415</td>\n",
       "      <td>14</td>\n",
       "      <td>0.0</td>\n",
       "      <td>280.0</td>\n",
       "      <td>7.735803</td>\n",
       "      <td>good</td>\n",
       "      <td>26442</td>\n",
       "      <td>0</td>\n",
       "      <td>9.0</td>\n",
       "      <td>20230620_114347_standard_comp_to_omission_D4_s...</td>\n",
       "      <td>1088.0</td>\n",
       "      <td>0.0544</td>\n",
       "    </tr>\n",
       "    <tr>\n",
       "      <th>2017372</th>\n",
       "      <td>89</td>\n",
       "      <td>68357578</td>\n",
       "      <td>89</td>\n",
       "      <td>11</td>\n",
       "      <td>11</td>\n",
       "      <td>13</td>\n",
       "      <td>17.238409</td>\n",
       "      <td>26</td>\n",
       "      <td>0.0</td>\n",
       "      <td>520.0</td>\n",
       "      <td>15.528948</td>\n",
       "      <td>good</td>\n",
       "      <td>53080</td>\n",
       "      <td>0</td>\n",
       "      <td>21.0</td>\n",
       "      <td>20230620_114347_standard_comp_to_omission_D4_s...</td>\n",
       "      <td>1320.0</td>\n",
       "      <td>0.0660</td>\n",
       "    </tr>\n",
       "    <tr>\n",
       "      <th>2017373</th>\n",
       "      <td>64</td>\n",
       "      <td>68358945</td>\n",
       "      <td>64</td>\n",
       "      <td>4</td>\n",
       "      <td>1</td>\n",
       "      <td>12</td>\n",
       "      <td>10.794415</td>\n",
       "      <td>14</td>\n",
       "      <td>0.0</td>\n",
       "      <td>280.0</td>\n",
       "      <td>7.735803</td>\n",
       "      <td>good</td>\n",
       "      <td>26442</td>\n",
       "      <td>0</td>\n",
       "      <td>9.0</td>\n",
       "      <td>20230620_114347_standard_comp_to_omission_D4_s...</td>\n",
       "      <td>1740.0</td>\n",
       "      <td>0.0870</td>\n",
       "    </tr>\n",
       "  </tbody>\n",
       "</table>\n",
       "</div>"
      ],
      "text/plain": [
       "         spike_clusters  spike_times  cluster_id  1_5_ms_isi  1ms_isi  \\\n",
       "2017369              64     68356117          64           4        1   \n",
       "2017370              89     68356258          89          11       11   \n",
       "2017371              64     68357205          64           4        1   \n",
       "2017372              89     68357578          89          11       11   \n",
       "2017373              64     68358945          64           4        1   \n",
       "\n",
       "         2ms_isi        amp  ch  channel_group  depth         fr group  \\\n",
       "2017369       12  10.794415  14            0.0  280.0   7.735803  good   \n",
       "2017370       13  17.238409  26            0.0  520.0  15.528948  good   \n",
       "2017371       12  10.794415  14            0.0  280.0   7.735803  good   \n",
       "2017372       13  17.238409  26            0.0  520.0  15.528948  good   \n",
       "2017373       12  10.794415  14            0.0  280.0   7.735803  good   \n",
       "\n",
       "         n_spikes  sh  si_unit_id  \\\n",
       "2017369     26442   0         9.0   \n",
       "2017370     53080   0        21.0   \n",
       "2017371     26442   0         9.0   \n",
       "2017372     53080   0        21.0   \n",
       "2017373     26442   0         9.0   \n",
       "\n",
       "                                            recording_name  timestamp_isi  \\\n",
       "2017369  20230620_114347_standard_comp_to_omission_D4_s...          392.0   \n",
       "2017370  20230620_114347_standard_comp_to_omission_D4_s...         3360.0   \n",
       "2017371  20230620_114347_standard_comp_to_omission_D4_s...         1088.0   \n",
       "2017372  20230620_114347_standard_comp_to_omission_D4_s...         1320.0   \n",
       "2017373  20230620_114347_standard_comp_to_omission_D4_s...         1740.0   \n",
       "\n",
       "         current_isi  \n",
       "2017369       0.0196  \n",
       "2017370       0.1680  \n",
       "2017371       0.0544  \n",
       "2017372       0.0660  \n",
       "2017373       0.0870  "
      ]
     },
     "execution_count": 33,
     "metadata": {},
     "output_type": "execute_result"
    }
   ],
   "source": [
    "all_spike_time_df.tail()"
   ]
  },
  {
   "cell_type": "markdown",
   "metadata": {},
   "source": [
    "## Grouping all the neurons by recording"
   ]
  },
  {
   "cell_type": "code",
   "execution_count": 47,
   "metadata": {
    "tags": []
   },
   "outputs": [],
   "source": [
    "# Grouping all spike times by neuron and recording\n",
    "grouped_df = all_spike_time_df.groupby(['spike_clusters', 'recording_name'])[\"spike_times\"].apply(lambda x: np.array(x)).reset_index()\n",
    "grouped_df = grouped_df.sort_values(by=['recording_name', 'spike_clusters']).reset_index(drop=True)"
   ]
  },
  {
   "cell_type": "code",
   "execution_count": 48,
   "metadata": {
    "tags": []
   },
   "outputs": [
    {
     "data": {
      "text/html": [
       "<div>\n",
       "<style scoped>\n",
       "    .dataframe tbody tr th:only-of-type {\n",
       "        vertical-align: middle;\n",
       "    }\n",
       "\n",
       "    .dataframe tbody tr th {\n",
       "        vertical-align: top;\n",
       "    }\n",
       "\n",
       "    .dataframe thead th {\n",
       "        text-align: right;\n",
       "    }\n",
       "</style>\n",
       "<table border=\"1\" class=\"dataframe\">\n",
       "  <thead>\n",
       "    <tr style=\"text-align: right;\">\n",
       "      <th></th>\n",
       "      <th>spike_clusters</th>\n",
       "      <th>recording_name</th>\n",
       "      <th>spike_times</th>\n",
       "    </tr>\n",
       "  </thead>\n",
       "  <tbody>\n",
       "    <tr>\n",
       "      <th>0</th>\n",
       "      <td>3</td>\n",
       "      <td>20230617_115521_standard_comp_to_omission_D1_s...</td>\n",
       "      <td>[673223, 2367433, 2569212, 3969647, 3973243, 3...</td>\n",
       "    </tr>\n",
       "    <tr>\n",
       "      <th>1</th>\n",
       "      <td>4</td>\n",
       "      <td>20230617_115521_standard_comp_to_omission_D1_s...</td>\n",
       "      <td>[1071, 3665, 4592, 8167, 8358, 8807, 9043, 990...</td>\n",
       "    </tr>\n",
       "    <tr>\n",
       "      <th>2</th>\n",
       "      <td>5</td>\n",
       "      <td>20230617_115521_standard_comp_to_omission_D1_s...</td>\n",
       "      <td>[90780, 93969, 96069, 145651, 149204, 150749, ...</td>\n",
       "    </tr>\n",
       "    <tr>\n",
       "      <th>3</th>\n",
       "      <td>6</td>\n",
       "      <td>20230617_115521_standard_comp_to_omission_D1_s...</td>\n",
       "      <td>[102, 1962, 3893, 15127, 31864, 36704, 38461, ...</td>\n",
       "    </tr>\n",
       "    <tr>\n",
       "      <th>4</th>\n",
       "      <td>17</td>\n",
       "      <td>20230617_115521_standard_comp_to_omission_D1_s...</td>\n",
       "      <td>[151072, 201333, 206934, 213398, 220860, 23372...</td>\n",
       "    </tr>\n",
       "  </tbody>\n",
       "</table>\n",
       "</div>"
      ],
      "text/plain": [
       "   spike_clusters                                     recording_name  \\\n",
       "0               3  20230617_115521_standard_comp_to_omission_D1_s...   \n",
       "1               4  20230617_115521_standard_comp_to_omission_D1_s...   \n",
       "2               5  20230617_115521_standard_comp_to_omission_D1_s...   \n",
       "3               6  20230617_115521_standard_comp_to_omission_D1_s...   \n",
       "4              17  20230617_115521_standard_comp_to_omission_D1_s...   \n",
       "\n",
       "                                         spike_times  \n",
       "0  [673223, 2367433, 2569212, 3969647, 3973243, 3...  \n",
       "1  [1071, 3665, 4592, 8167, 8358, 8807, 9043, 990...  \n",
       "2  [90780, 93969, 96069, 145651, 149204, 150749, ...  \n",
       "3  [102, 1962, 3893, 15127, 31864, 36704, 38461, ...  \n",
       "4  [151072, 201333, 206934, 213398, 220860, 23372...  "
      ]
     },
     "execution_count": 48,
     "metadata": {},
     "output_type": "execute_result"
    }
   ],
   "source": [
    "grouped_df.head()"
   ]
  },
  {
   "cell_type": "code",
   "execution_count": 49,
   "metadata": {},
   "outputs": [],
   "source": [
    "max_number_of_spikes = all_spike_time_df[\"n_spikes\"].max()"
   ]
  },
  {
   "cell_type": "code",
   "execution_count": 50,
   "metadata": {},
   "outputs": [
    {
     "data": {
      "text/plain": [
       "179245"
      ]
     },
     "execution_count": 50,
     "metadata": {},
     "output_type": "execute_result"
    }
   ],
   "source": [
    "max_number_of_spikes"
   ]
  },
  {
   "cell_type": "code",
   "execution_count": 52,
   "metadata": {
    "tags": []
   },
   "outputs": [],
   "source": [
    "grouped_df[\"spike_times\"] = grouped_df[\"spike_times\"].apply(lambda x: np.concatenate([x, np.full([max_number_of_spikes - x.shape[0]], -1)]).astype(int))"
   ]
  },
  {
   "cell_type": "code",
   "execution_count": 53,
   "metadata": {
    "tags": []
   },
   "outputs": [],
   "source": [
    "grouped_df = grouped_df.groupby('recording_name').agg({'spike_clusters': lambda x: list(x), 'spike_times': lambda x: np.array(list(x))}).reset_index()"
   ]
  },
  {
   "cell_type": "code",
   "execution_count": 56,
   "metadata": {
    "tags": []
   },
   "outputs": [],
   "source": [
    "LFP_SPECTRAL_DF = pd.merge(LFP_SPECTRAL_DF, grouped_df, left_on='recording', right_on=\"recording_name\", how='inner')"
   ]
  },
  {
   "cell_type": "code",
   "execution_count": 57,
   "metadata": {
    "tags": []
   },
   "outputs": [
    {
     "data": {
      "text/html": [
       "<div>\n",
       "<style scoped>\n",
       "    .dataframe tbody tr th:only-of-type {\n",
       "        vertical-align: middle;\n",
       "    }\n",
       "\n",
       "    .dataframe tbody tr th {\n",
       "        vertical-align: top;\n",
       "    }\n",
       "\n",
       "    .dataframe thead th {\n",
       "        text-align: right;\n",
       "    }\n",
       "</style>\n",
       "<table border=\"1\" class=\"dataframe\">\n",
       "  <thead>\n",
       "    <tr style=\"text-align: right;\">\n",
       "      <th></th>\n",
       "      <th>cohort</th>\n",
       "      <th>session_dir</th>\n",
       "      <th>tone_frames</th>\n",
       "      <th>box_1_port_entry_frames</th>\n",
       "      <th>box_2_port_entry_frames</th>\n",
       "      <th>video_name</th>\n",
       "      <th>session_path</th>\n",
       "      <th>recording</th>\n",
       "      <th>current_subject</th>\n",
       "      <th>subject</th>\n",
       "      <th>...</th>\n",
       "      <th>agent</th>\n",
       "      <th>subject_locations</th>\n",
       "      <th>agent_locations</th>\n",
       "      <th>subject_thorax_velocity</th>\n",
       "      <th>agent_thorax_velocity</th>\n",
       "      <th>subject_thorax_to_reward_port</th>\n",
       "      <th>agent_thorax_to_reward_port</th>\n",
       "      <th>recording_name</th>\n",
       "      <th>spike_clusters</th>\n",
       "      <th>spike_times</th>\n",
       "    </tr>\n",
       "  </thead>\n",
       "  <tbody>\n",
       "    <tr>\n",
       "      <th>0</th>\n",
       "      <td>2</td>\n",
       "      <td>20230617_115521_standard_comp_to_omission_D1_s...</td>\n",
       "      <td>[[1029, 1229], [3425, 3624], [5721, 5920], [75...</td>\n",
       "      <td>[[102, 105], [110, 148], [193, 199], [200, 202...</td>\n",
       "      <td>[[24984, 31321], [39533, 39547], [39554, 39559...</td>\n",
       "      <td>20230617_115521_standard_comp_to_omission_D1_s...</td>\n",
       "      <td>/scratch/back_up/reward_competition_extention/...</td>\n",
       "      <td>20230617_115521_standard_comp_to_omission_D1_s...</td>\n",
       "      <td>1.1</td>\n",
       "      <td>1.1</td>\n",
       "      <td>...</td>\n",
       "      <td>None</td>\n",
       "      <td>[[[40.039741738777444, 9.47029992556593], [42....</td>\n",
       "      <td>NaN</td>\n",
       "      <td>[14.84, 13.97, 13.13, 12.32, 11.54, 10.78, 10....</td>\n",
       "      <td>NaN</td>\n",
       "      <td>[25.6, 25.84, 25.86, 25.86, 25.86, 25.86, 25.8...</td>\n",
       "      <td>NaN</td>\n",
       "      <td>20230617_115521_standard_comp_to_omission_D1_s...</td>\n",
       "      <td>[3, 4, 5, 6, 17, 28, 29, 39, 48, 52, 53, 54, 5...</td>\n",
       "      <td>[[673223, 2367433, 2569212, 3969647, 3973243, ...</td>\n",
       "    </tr>\n",
       "    <tr>\n",
       "      <th>1</th>\n",
       "      <td>2</td>\n",
       "      <td>20230617_115521_standard_comp_to_omission_D1_s...</td>\n",
       "      <td>[[1029, 1229], [3425, 3624], [5721, 5920], [75...</td>\n",
       "      <td>[[102, 105], [110, 148], [193, 199], [200, 202...</td>\n",
       "      <td>[[24984, 31321], [39533, 39547], [39554, 39559...</td>\n",
       "      <td>20230617_115521_standard_comp_to_omission_D1_s...</td>\n",
       "      <td>/scratch/back_up/reward_competition_extention/...</td>\n",
       "      <td>20230617_115521_standard_comp_to_omission_D1_s...</td>\n",
       "      <td>1.1</td>\n",
       "      <td>1.1</td>\n",
       "      <td>...</td>\n",
       "      <td>1.2</td>\n",
       "      <td>[[[57.86163468579171, 31.554562356382696], [59...</td>\n",
       "      <td>[[[40.039741738777444, 9.47029992556593], [42....</td>\n",
       "      <td>[8.96, 8.195, 7.54, 7.004, 6.605, 6.348, 6.227...</td>\n",
       "      <td>[11.19, 10.55, 9.92, 9.31, 8.734, 8.18, 7.64, ...</td>\n",
       "      <td>[11.19, 11.234, 11.73, 12.34, 12.56, 13.58, 13...</td>\n",
       "      <td>[25.6, 25.84, 25.86, 25.86, 25.86, 25.86, 25.8...</td>\n",
       "      <td>20230617_115521_standard_comp_to_omission_D1_s...</td>\n",
       "      <td>[3, 4, 5, 6, 17, 28, 29, 39, 48, 52, 53, 54, 5...</td>\n",
       "      <td>[[673223, 2367433, 2569212, 3969647, 3973243, ...</td>\n",
       "    </tr>\n",
       "    <tr>\n",
       "      <th>2</th>\n",
       "      <td>2</td>\n",
       "      <td>20230617_115521_standard_comp_to_omission_D1_s...</td>\n",
       "      <td>[[1029, 1229], [3425, 3624], [5721, 5920], [75...</td>\n",
       "      <td>[[102, 105], [110, 148], [193, 199], [200, 202...</td>\n",
       "      <td>[[24984, 31321], [39533, 39547], [39554, 39559...</td>\n",
       "      <td>20230617_115521_standard_comp_to_omission_D1_s...</td>\n",
       "      <td>/scratch/back_up/reward_competition_extention/...</td>\n",
       "      <td>20230617_115521_standard_comp_to_omission_D1_s...</td>\n",
       "      <td>1.2</td>\n",
       "      <td>1.2</td>\n",
       "      <td>...</td>\n",
       "      <td>1.1</td>\n",
       "      <td>[[[40.039741738777444, 9.47029992556593], [42....</td>\n",
       "      <td>[[[57.86163468579171, 31.554562356382696], [59...</td>\n",
       "      <td>[11.19, 10.55, 9.92, 9.31, 8.734, 8.18, 7.64, ...</td>\n",
       "      <td>[8.96, 8.195, 7.54, 7.004, 6.605, 6.348, 6.227...</td>\n",
       "      <td>[25.6, 25.84, 25.86, 25.86, 25.86, 25.86, 25.8...</td>\n",
       "      <td>[11.19, 11.234, 11.73, 12.34, 12.56, 13.58, 13...</td>\n",
       "      <td>20230617_115521_standard_comp_to_omission_D1_s...</td>\n",
       "      <td>[16, 17, 20, 25, 26, 34, 35, 39, 40, 42, 43, 4...</td>\n",
       "      <td>[[958, 5233, 6331, 7475, 8599, 10550, 23459, 2...</td>\n",
       "    </tr>\n",
       "    <tr>\n",
       "      <th>3</th>\n",
       "      <td>2</td>\n",
       "      <td>20230617_115521_standard_comp_to_omission_D1_s...</td>\n",
       "      <td>[[0, 0], [0, 0], [0, 0], [0, 0], [0, 0], [0, 0...</td>\n",
       "      <td>[[0, 0], [0, 0], [0, 0], [0, 0], [0, 0], [0, 0...</td>\n",
       "      <td>[[0, 0], [0, 0], [0, 0], [0, 5], [12, 13], [13...</td>\n",
       "      <td>20230617_115521_standard_comp_to_omission_D1_s...</td>\n",
       "      <td>/scratch/back_up/reward_competition_extention/...</td>\n",
       "      <td>20230617_115521_standard_comp_to_omission_D1_s...</td>\n",
       "      <td>1.2</td>\n",
       "      <td>1.2</td>\n",
       "      <td>...</td>\n",
       "      <td>None</td>\n",
       "      <td>[[[48.82535585060548, 37.83187483510619], [47....</td>\n",
       "      <td>NaN</td>\n",
       "      <td>[5.184, 4.777, 4.383, 4.0, 3.629, 3.271, 2.926...</td>\n",
       "      <td>NaN</td>\n",
       "      <td>[6.223, 6.227, 6.234, 6.24, 6.203, 6.2, 6.203,...</td>\n",
       "      <td>NaN</td>\n",
       "      <td>20230617_115521_standard_comp_to_omission_D1_s...</td>\n",
       "      <td>[16, 17, 20, 25, 26, 34, 35, 39, 40, 42, 43, 4...</td>\n",
       "      <td>[[958, 5233, 6331, 7475, 8599, 10550, 23459, 2...</td>\n",
       "    </tr>\n",
       "    <tr>\n",
       "      <th>4</th>\n",
       "      <td>2</td>\n",
       "      <td>20230618_100636_standard_comp_to_omission_D2_s...</td>\n",
       "      <td>[[1098, 1297], [3492, 3693], [5788, 5988], [75...</td>\n",
       "      <td>[[788, 835], [838, 839], [839, 871], [871, 900...</td>\n",
       "      <td>[[33026, 33037], [33038, 33042], [33044, 33049...</td>\n",
       "      <td>20230618_100636_standard_comp_to_omission_D2_s...</td>\n",
       "      <td>/scratch/back_up/reward_competition_extention/...</td>\n",
       "      <td>20230618_100636_standard_comp_to_omission_D2_s...</td>\n",
       "      <td>1.1</td>\n",
       "      <td>1.1</td>\n",
       "      <td>...</td>\n",
       "      <td>1.4</td>\n",
       "      <td>[[[46.838967596646405, 35.8797798363605], [44....</td>\n",
       "      <td>[[[31.37122566669405, 31.1085619584881], [33.5...</td>\n",
       "      <td>[1.143, 1.143, 1.142, 1.139, 1.135, 1.129, 1.1...</td>\n",
       "      <td>[0.6333, 0.5635, 0.4963, 0.4321, 0.3713, 0.313...</td>\n",
       "      <td>[5.727, 5.91, 5.93, 5.965, 5.99, 5.992, 6.355,...</td>\n",
       "      <td>[13.75, 14.18, 13.734, 13.74, 13.76, 13.84, 13...</td>\n",
       "      <td>20230618_100636_standard_comp_to_omission_D2_s...</td>\n",
       "      <td>[7, 11, 12, 48, 50, 51, 61, 64, 76, 84, 90, 98...</td>\n",
       "      <td>[[506, 1419, 2358, 5104, 6785, 7620, 9801, 120...</td>\n",
       "    </tr>\n",
       "  </tbody>\n",
       "</table>\n",
       "<p>5 rows × 156 columns</p>\n",
       "</div>"
      ],
      "text/plain": [
       "   cohort                                        session_dir  \\\n",
       "0       2  20230617_115521_standard_comp_to_omission_D1_s...   \n",
       "1       2  20230617_115521_standard_comp_to_omission_D1_s...   \n",
       "2       2  20230617_115521_standard_comp_to_omission_D1_s...   \n",
       "3       2  20230617_115521_standard_comp_to_omission_D1_s...   \n",
       "4       2  20230618_100636_standard_comp_to_omission_D2_s...   \n",
       "\n",
       "                                         tone_frames  \\\n",
       "0  [[1029, 1229], [3425, 3624], [5721, 5920], [75...   \n",
       "1  [[1029, 1229], [3425, 3624], [5721, 5920], [75...   \n",
       "2  [[1029, 1229], [3425, 3624], [5721, 5920], [75...   \n",
       "3  [[0, 0], [0, 0], [0, 0], [0, 0], [0, 0], [0, 0...   \n",
       "4  [[1098, 1297], [3492, 3693], [5788, 5988], [75...   \n",
       "\n",
       "                             box_1_port_entry_frames  \\\n",
       "0  [[102, 105], [110, 148], [193, 199], [200, 202...   \n",
       "1  [[102, 105], [110, 148], [193, 199], [200, 202...   \n",
       "2  [[102, 105], [110, 148], [193, 199], [200, 202...   \n",
       "3  [[0, 0], [0, 0], [0, 0], [0, 0], [0, 0], [0, 0...   \n",
       "4  [[788, 835], [838, 839], [839, 871], [871, 900...   \n",
       "\n",
       "                             box_2_port_entry_frames  \\\n",
       "0  [[24984, 31321], [39533, 39547], [39554, 39559...   \n",
       "1  [[24984, 31321], [39533, 39547], [39554, 39559...   \n",
       "2  [[24984, 31321], [39533, 39547], [39554, 39559...   \n",
       "3  [[0, 0], [0, 0], [0, 0], [0, 5], [12, 13], [13...   \n",
       "4  [[33026, 33037], [33038, 33042], [33044, 33049...   \n",
       "\n",
       "                                          video_name  \\\n",
       "0  20230617_115521_standard_comp_to_omission_D1_s...   \n",
       "1  20230617_115521_standard_comp_to_omission_D1_s...   \n",
       "2  20230617_115521_standard_comp_to_omission_D1_s...   \n",
       "3  20230617_115521_standard_comp_to_omission_D1_s...   \n",
       "4  20230618_100636_standard_comp_to_omission_D2_s...   \n",
       "\n",
       "                                        session_path  \\\n",
       "0  /scratch/back_up/reward_competition_extention/...   \n",
       "1  /scratch/back_up/reward_competition_extention/...   \n",
       "2  /scratch/back_up/reward_competition_extention/...   \n",
       "3  /scratch/back_up/reward_competition_extention/...   \n",
       "4  /scratch/back_up/reward_competition_extention/...   \n",
       "\n",
       "                                           recording current_subject subject  \\\n",
       "0  20230617_115521_standard_comp_to_omission_D1_s...             1.1     1.1   \n",
       "1  20230617_115521_standard_comp_to_omission_D1_s...             1.1     1.1   \n",
       "2  20230617_115521_standard_comp_to_omission_D1_s...             1.2     1.2   \n",
       "3  20230617_115521_standard_comp_to_omission_D1_s...             1.2     1.2   \n",
       "4  20230618_100636_standard_comp_to_omission_D2_s...             1.1     1.1   \n",
       "\n",
       "   ... agent                                  subject_locations  \\\n",
       "0  ...  None  [[[40.039741738777444, 9.47029992556593], [42....   \n",
       "1  ...   1.2  [[[57.86163468579171, 31.554562356382696], [59...   \n",
       "2  ...   1.1  [[[40.039741738777444, 9.47029992556593], [42....   \n",
       "3  ...  None  [[[48.82535585060548, 37.83187483510619], [47....   \n",
       "4  ...   1.4  [[[46.838967596646405, 35.8797798363605], [44....   \n",
       "\n",
       "                                     agent_locations  \\\n",
       "0                                                NaN   \n",
       "1  [[[40.039741738777444, 9.47029992556593], [42....   \n",
       "2  [[[57.86163468579171, 31.554562356382696], [59...   \n",
       "3                                                NaN   \n",
       "4  [[[31.37122566669405, 31.1085619584881], [33.5...   \n",
       "\n",
       "                             subject_thorax_velocity  \\\n",
       "0  [14.84, 13.97, 13.13, 12.32, 11.54, 10.78, 10....   \n",
       "1  [8.96, 8.195, 7.54, 7.004, 6.605, 6.348, 6.227...   \n",
       "2  [11.19, 10.55, 9.92, 9.31, 8.734, 8.18, 7.64, ...   \n",
       "3  [5.184, 4.777, 4.383, 4.0, 3.629, 3.271, 2.926...   \n",
       "4  [1.143, 1.143, 1.142, 1.139, 1.135, 1.129, 1.1...   \n",
       "\n",
       "                               agent_thorax_velocity  \\\n",
       "0                                                NaN   \n",
       "1  [11.19, 10.55, 9.92, 9.31, 8.734, 8.18, 7.64, ...   \n",
       "2  [8.96, 8.195, 7.54, 7.004, 6.605, 6.348, 6.227...   \n",
       "3                                                NaN   \n",
       "4  [0.6333, 0.5635, 0.4963, 0.4321, 0.3713, 0.313...   \n",
       "\n",
       "                       subject_thorax_to_reward_port  \\\n",
       "0  [25.6, 25.84, 25.86, 25.86, 25.86, 25.86, 25.8...   \n",
       "1  [11.19, 11.234, 11.73, 12.34, 12.56, 13.58, 13...   \n",
       "2  [25.6, 25.84, 25.86, 25.86, 25.86, 25.86, 25.8...   \n",
       "3  [6.223, 6.227, 6.234, 6.24, 6.203, 6.2, 6.203,...   \n",
       "4  [5.727, 5.91, 5.93, 5.965, 5.99, 5.992, 6.355,...   \n",
       "\n",
       "                         agent_thorax_to_reward_port  \\\n",
       "0                                                NaN   \n",
       "1  [25.6, 25.84, 25.86, 25.86, 25.86, 25.86, 25.8...   \n",
       "2  [11.19, 11.234, 11.73, 12.34, 12.56, 13.58, 13...   \n",
       "3                                                NaN   \n",
       "4  [13.75, 14.18, 13.734, 13.74, 13.76, 13.84, 13...   \n",
       "\n",
       "                                      recording_name  \\\n",
       "0  20230617_115521_standard_comp_to_omission_D1_s...   \n",
       "1  20230617_115521_standard_comp_to_omission_D1_s...   \n",
       "2  20230617_115521_standard_comp_to_omission_D1_s...   \n",
       "3  20230617_115521_standard_comp_to_omission_D1_s...   \n",
       "4  20230618_100636_standard_comp_to_omission_D2_s...   \n",
       "\n",
       "                                      spike_clusters  \\\n",
       "0  [3, 4, 5, 6, 17, 28, 29, 39, 48, 52, 53, 54, 5...   \n",
       "1  [3, 4, 5, 6, 17, 28, 29, 39, 48, 52, 53, 54, 5...   \n",
       "2  [16, 17, 20, 25, 26, 34, 35, 39, 40, 42, 43, 4...   \n",
       "3  [16, 17, 20, 25, 26, 34, 35, 39, 40, 42, 43, 4...   \n",
       "4  [7, 11, 12, 48, 50, 51, 61, 64, 76, 84, 90, 98...   \n",
       "\n",
       "                                         spike_times  \n",
       "0  [[673223, 2367433, 2569212, 3969647, 3973243, ...  \n",
       "1  [[673223, 2367433, 2569212, 3969647, 3973243, ...  \n",
       "2  [[958, 5233, 6331, 7475, 8599, 10550, 23459, 2...  \n",
       "3  [[958, 5233, 6331, 7475, 8599, 10550, 23459, 2...  \n",
       "4  [[506, 1419, 2358, 5104, 6785, 7620, 9801, 120...  \n",
       "\n",
       "[5 rows x 156 columns]"
      ]
     },
     "execution_count": 57,
     "metadata": {},
     "output_type": "execute_result"
    }
   ],
   "source": [
    "LFP_SPECTRAL_DF.head()"
   ]
  },
  {
   "cell_type": "code",
   "execution_count": 60,
   "metadata": {
    "tags": []
   },
   "outputs": [],
   "source": [
    "example_arr = LFP_SPECTRAL_DF[\"spike_times\"].iloc[0].copy()"
   ]
  },
  {
   "cell_type": "code",
   "execution_count": 62,
   "metadata": {
    "tags": []
   },
   "outputs": [
    {
     "data": {
      "text/plain": [
       "array([[ 1030879,  1230878],\n",
       "       [ 3430878,  3630878],\n",
       "       [ 5730880,  5930880],\n",
       "       [ 7530877,  7730877],\n",
       "       [ 8630880,  8830879],\n",
       "       [ 9630879,  9830879],\n",
       "       [11530876, 11730879],\n",
       "       [13030876, 13230878],\n",
       "       [15130878, 15330878],\n",
       "       [16130878, 16330875],\n",
       "       [17730875, 17930875],\n",
       "       [19030875, 19230875],\n",
       "       [20330877, 20530875],\n",
       "       [21330874, 21530875],\n",
       "       [22730874, 22930874],\n",
       "       [24630874, 24830876],\n",
       "       [25030476, 31380073],\n",
       "       [32580474, 32780475],\n",
       "       [34180472, 34380472],\n",
       "       [35580474, 35780471],\n",
       "       [37780473, 37980473],\n",
       "       [38980473, 39180470],\n",
       "       [44980471, 45180471],\n",
       "       [46180471, 46380468],\n",
       "       [47280468, 47480468],\n",
       "       [48580470, 48780470],\n",
       "       [49680475, 49880470],\n",
       "       [50680470, 50880467],\n",
       "       [51680470, 51880467],\n",
       "       [53780466, 53980471],\n",
       "       [56180466, 56380468],\n",
       "       [58580465, 58780465],\n",
       "       [60780465, 60980464],\n",
       "       [62480469, 62680466],\n",
       "       [64880463, 65080466],\n",
       "       [66080463, 66280463],\n",
       "       [67380466, 67580465],\n",
       "       [68580462, 68780463],\n",
       "       [70080465, 70280464],\n",
       "       [72080464, 72280467],\n",
       "       [73980464, 74180466],\n",
       "       [74980462, 75180464]], dtype=int32)"
      ]
     },
     "execution_count": 62,
     "metadata": {},
     "output_type": "execute_result"
    }
   ],
   "source": [
    "LFP_SPECTRAL_DF[\"tone_timestamps\"].iloc[0]"
   ]
  },
  {
   "cell_type": "code",
   "execution_count": null,
   "metadata": {},
   "outputs": [],
   "source": [
    "raise ValueError()"
   ]
  },
  {
   "cell_type": "markdown",
   "metadata": {},
   "source": [
    "## Calculating the firing rates"
   ]
  },
  {
   "cell_type": "code",
   "execution_count": null,
   "metadata": {
    "tags": []
   },
   "outputs": [],
   "source": [
    "LFP_SPECTRAL_DF.columns"
   ]
  },
  {
   "cell_type": "code",
   "execution_count": null,
   "metadata": {
    "tags": []
   },
   "outputs": [],
   "source": [
    "cluster_info_df"
   ]
  },
  {
   "cell_type": "code",
   "execution_count": null,
   "metadata": {
    "tags": []
   },
   "outputs": [],
   "source": [
    "LFP_SPECTRAL_DF.head()"
   ]
  },
  {
   "cell_type": "code",
   "execution_count": null,
   "metadata": {
    "tags": []
   },
   "outputs": [],
   "source": [
    "LFP_SPECTRAL_DF[\"neuron_average_fr\"] = LFP_SPECTRAL_DF.apply(lambda x: np.array([neuron.spikes.calculate_rolling_avg_firing_rate(np.array(times), stop_time=x[\"last_timestamp\"] - x[\"first_timestamp\"], window_size=SPIKE_WINDOW, slide=SPIKE_WINDOW)[0] for times in x[\"spike_times\"]]), axis=1)"
   ]
  },
  {
   "cell_type": "code",
   "execution_count": null,
   "metadata": {},
   "outputs": [],
   "source": []
  },
  {
   "cell_type": "code",
   "execution_count": null,
   "metadata": {
    "tags": []
   },
   "outputs": [],
   "source": [
    "LFP_SPECTRAL_DF[\"neuron_average_timestamps\"] = LFP_SPECTRAL_DF.apply(lambda x: neuron.spikes.calculate_rolling_avg_firing_rate(x[\"spike_times\"][0], stop_time=x[\"last_timestamp\"] - x[\"first_timestamp\"], window_size=SPIKE_WINDOW, slide=SPIKE_WINDOW)[1], axis=1)"
   ]
  },
  {
   "cell_type": "code",
   "execution_count": null,
   "metadata": {
    "tags": []
   },
   "outputs": [],
   "source": [
    "LFP_SPECTRAL_DF[\"neuron_average_fr\"] = LFP_SPECTRAL_DF.apply(lambda x: x[\"neuron_average_fr\"] * SPIKE_WINDOW, axis=1)"
   ]
  },
  {
   "cell_type": "code",
   "execution_count": null,
   "metadata": {
    "tags": []
   },
   "outputs": [],
   "source": [
    "LFP_SPECTRAL_DF.iloc[:5,:10]"
   ]
  },
  {
   "cell_type": "code",
   "execution_count": null,
   "metadata": {
    "tags": []
   },
   "outputs": [],
   "source": [
    "LFP_SPECTRAL_DF.iloc[:5,10:20]"
   ]
  },
  {
   "cell_type": "code",
   "execution_count": null,
   "metadata": {
    "tags": []
   },
   "outputs": [],
   "source": [
    "LFP_SPECTRAL_DF.iloc[:5,20:30]"
   ]
  },
  {
   "cell_type": "code",
   "execution_count": null,
   "metadata": {
    "tags": []
   },
   "outputs": [],
   "source": [
    "LFP_SPECTRAL_DF.iloc[:5, 30:]"
   ]
  },
  {
   "cell_type": "code",
   "execution_count": null,
   "metadata": {},
   "outputs": [],
   "source": [
    "LFP_SPECTRAL_DF[\"neuron_average_timestamps\"].iloc[0].shape"
   ]
  },
  {
   "cell_type": "code",
   "execution_count": null,
   "metadata": {},
   "outputs": [],
   "source": [
    "LFP_SPECTRAL_DF[\"neuron_average_fr\"].iloc[0].shape"
   ]
  },
  {
   "cell_type": "code",
   "execution_count": null,
   "metadata": {},
   "outputs": [],
   "source": [
    "np.max(LFP_SPECTRAL_DF[\"neuron_average_fr\"].iloc[0])"
   ]
  },
  {
   "cell_type": "code",
   "execution_count": null,
   "metadata": {},
   "outputs": [],
   "source": [
    "LFP_SPECTRAL_DF.to_pickle(os.path.join(OUTPUT_DIR, FULL_LFP_TRACES_PKL))"
   ]
  },
  {
   "cell_type": "code",
   "execution_count": null,
   "metadata": {
    "tags": []
   },
   "outputs": [],
   "source": [
    "raise ValueError(\"\")"
   ]
  }
 ],
 "metadata": {
  "deepnote": {},
  "deepnote_execution_queue": [],
  "deepnote_notebook_id": "cf8fe3695d074ee7887fdf6459cbf5ce",
  "kernelspec": {
   "display_name": "spike_interface_0_99_0",
   "language": "python",
   "name": "spike_interface_0_99_0"
  },
  "language_info": {
   "codemirror_mode": {
    "name": "ipython",
    "version": 3
   },
   "file_extension": ".py",
   "mimetype": "text/x-python",
   "name": "python",
   "nbconvert_exporter": "python",
   "pygments_lexer": "ipython3",
   "version": "3.10.13"
  }
 },
 "nbformat": 4,
 "nbformat_minor": 4
}
