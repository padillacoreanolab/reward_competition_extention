{
 "cells": [
  {
   "cell_type": "markdown",
   "metadata": {
    "cell_id": "c3a02adc9e884466bc8c79db549cc3d2",
    "deepnote_cell_type": "text-cell-h1",
    "formattedRanges": [
     {
      "fromCodePoint": 0,
      "marks": {
       "bold": true,
       "underline": true
      },
      "toCodePoint": 17,
      "type": "marks"
     }
    ]
   },
   "source": [
    "# All oscillation analysis"
   ]
  },
  {
   "cell_type": "markdown",
   "metadata": {
    "cell_id": "4546bee655b14a5dbf393161f1228e60",
    "deepnote_cell_type": "text-cell-p",
    "formattedRanges": []
   },
   "source": [
    "Brief 1-2 sentence description of notebook."
   ]
  },
  {
   "cell_type": "code",
   "execution_count": 1,
   "metadata": {
    "tags": []
   },
   "outputs": [],
   "source": [
    "# Imports of all used packages and libraries\n",
    "import sys\n",
    "import os\n",
    "import git\n",
    "import glob\n",
    "from collections import defaultdict"
   ]
  },
  {
   "cell_type": "code",
   "execution_count": 2,
   "metadata": {
    "tags": []
   },
   "outputs": [],
   "source": [
    "git_repo = git.Repo(\".\", search_parent_directories=True)\n",
    "git_root = git_repo.git.rev_parse(\"--show-toplevel\")"
   ]
  },
  {
   "cell_type": "code",
   "execution_count": 3,
   "metadata": {
    "tags": []
   },
   "outputs": [
    {
     "data": {
      "text/plain": [
       "'/blue/npadillacoreano/ryoi360/projects/reward_comp/repos/reward_competition_extention'"
      ]
     },
     "execution_count": 3,
     "metadata": {},
     "output_type": "execute_result"
    }
   ],
   "source": [
    "git_root"
   ]
  },
  {
   "cell_type": "code",
   "execution_count": 4,
   "metadata": {
    "tags": []
   },
   "outputs": [],
   "source": [
    "sys.path.insert(0, os.path.join(git_root, 'src'))"
   ]
  },
  {
   "cell_type": "code",
   "execution_count": 5,
   "metadata": {
    "tags": []
   },
   "outputs": [],
   "source": [
    "import warnings\n",
    "warnings.filterwarnings('ignore')"
   ]
  },
  {
   "cell_type": "code",
   "execution_count": 6,
   "metadata": {
    "tags": []
   },
   "outputs": [],
   "source": [
    "import os\n",
    "import collections\n",
    "import itertools\n",
    "from collections import defaultdict\n",
    "from itertools import combinations"
   ]
  },
  {
   "cell_type": "code",
   "execution_count": 7,
   "metadata": {
    "cell_id": "03b495cefa6a4798a44c7f2e4c6a3ea7",
    "deepnote_cell_type": "code",
    "deepnote_to_be_reexecuted": false,
    "execution_millis": 21,
    "execution_start": 1691424003626,
    "source_hash": null,
    "tags": []
   },
   "outputs": [],
   "source": [
    "# Imports of all used packages and libraries\n",
    "import numpy as np\n",
    "import pandas as pd\n",
    "from scipy import stats\n",
    "from scipy.stats import mannwhitneyu\n"
   ]
  },
  {
   "cell_type": "code",
   "execution_count": 8,
   "metadata": {
    "tags": []
   },
   "outputs": [],
   "source": [
    "import matplotlib\n",
    "import matplotlib.colors as mcolors\n",
    "import matplotlib.pyplot as plt\n",
    "import matplotlib.cm as cm\n",
    "import seaborn as sns\n",
    "import colorsys"
   ]
  },
  {
   "cell_type": "code",
   "execution_count": 9,
   "metadata": {
    "tags": []
   },
   "outputs": [],
   "source": [
    "from sklearn.metrics import confusion_matrix"
   ]
  },
  {
   "cell_type": "code",
   "execution_count": 10,
   "metadata": {
    "tags": []
   },
   "outputs": [],
   "source": [
    "from spectral_connectivity import Multitaper, Connectivity\n",
    "import spectral_connectivity"
   ]
  },
  {
   "cell_type": "code",
   "execution_count": 11,
   "metadata": {
    "tags": []
   },
   "outputs": [],
   "source": [
    "import utilities.helper\n",
    "import trodes.read_exported"
   ]
  },
  {
   "cell_type": "code",
   "execution_count": 12,
   "metadata": {
    "tags": []
   },
   "outputs": [],
   "source": [
    "FONTSIZE = 20"
   ]
  },
  {
   "cell_type": "code",
   "execution_count": 13,
   "metadata": {
    "tags": []
   },
   "outputs": [],
   "source": [
    "font = {'weight' : 'medium',\n",
    "        'size'   : 20}\n",
    "\n",
    "matplotlib.rc('font', **font)"
   ]
  },
  {
   "cell_type": "markdown",
   "metadata": {
    "cell_id": "d290bac2c17940bfbc0f9296beaf70e5",
    "deepnote_cell_type": "text-cell-h2",
    "formattedRanges": []
   },
   "source": [
    "## Inputs & Data"
   ]
  },
  {
   "cell_type": "markdown",
   "metadata": {
    "cell_id": "e528ce19c608425292151930d380f49f",
    "deepnote_cell_type": "text-cell-p",
    "formattedRanges": []
   },
   "source": [
    "Explanation of each input and where it comes from."
   ]
  },
  {
   "cell_type": "code",
   "execution_count": 14,
   "metadata": {
    "cell_id": "6cf83a5811054461a718a71673d09aab",
    "deepnote_cell_type": "code",
    "deepnote_to_be_reexecuted": false,
    "execution_millis": 373,
    "execution_start": 1691424003628,
    "source_hash": null,
    "tags": []
   },
   "outputs": [],
   "source": [
    "# Inputs and Required data loading\n",
    "# input varaible names are in all caps snake case\n",
    "# Whenever an input changes or is used for processing \n",
    "# the vairables are all lower in snake case\n",
    "OUTPUT_DIR = r\"./proc/\" # where data is saved should always be shown in the inputs\n",
    "os.makedirs(OUTPUT_DIR, exist_ok=True)\n",
    "OUTPUT_PREFIX = \"rce_pilot_2\""
   ]
  },
  {
   "cell_type": "code",
   "execution_count": 15,
   "metadata": {
    "tags": []
   },
   "outputs": [],
   "source": [
    "LFP_SPECTRAL_DF = pd.read_pickle(\"./proc/rce_pilot_2_02_standard_spectral.pkl\")"
   ]
  },
  {
   "cell_type": "code",
   "execution_count": 16,
   "metadata": {
    "tags": []
   },
   "outputs": [],
   "source": [
    "# CHANNEL_MAP_AND_ALL_TRIALS_DF = pd.read_pickle(\"./proc/full_baseline_and_trial_lfp_traces.pkl\")\n",
    "# MERGED_TRIALS_AND_VIDEO = pd.read_pickle(\"./proc/trial_SLEAP_and_metadata.pkl\")"
   ]
  },
  {
   "cell_type": "code",
   "execution_count": 17,
   "metadata": {
    "tags": []
   },
   "outputs": [],
   "source": [
    "theta_band = (4, 12)\n",
    "gamma_band = (30, 50)"
   ]
  },
  {
   "cell_type": "code",
   "execution_count": 18,
   "metadata": {
    "tags": []
   },
   "outputs": [],
   "source": [
    "FONTSIZE=20"
   ]
  },
  {
   "cell_type": "code",
   "execution_count": null,
   "metadata": {},
   "outputs": [],
   "source": []
  },
  {
   "cell_type": "code",
   "execution_count": 19,
   "metadata": {
    "tags": []
   },
   "outputs": [],
   "source": [
    "FULL_LFP_TRACES_PKL = \"{}_03_standard_spectral_bands.pkl\".format(OUTPUT_PREFIX)"
   ]
  },
  {
   "cell_type": "markdown",
   "metadata": {
    "cell_id": "e3ee4891d43a4ac287413afc552ca289",
    "deepnote_cell_type": "text-cell-h2",
    "formattedRanges": []
   },
   "source": [
    "## Outputs"
   ]
  },
  {
   "cell_type": "markdown",
   "metadata": {
    "cell_id": "9ccbf6cc70fd4d379fa29317f733771f",
    "deepnote_cell_type": "text-cell-p",
    "formattedRanges": []
   },
   "source": [
    "Describe each output that the notebook creates. "
   ]
  },
  {
   "cell_type": "markdown",
   "metadata": {
    "cell_id": "fc8e8920a6944918a15fac575cdf6e78",
    "deepnote_cell_type": "text-cell-bullet",
    "formattedRanges": []
   },
   "source": [
    "- Is it a plot or is it data?"
   ]
  },
  {
   "cell_type": "markdown",
   "metadata": {
    "cell_id": "1e639d4776a84aa9ac8ded2e14fa57db",
    "deepnote_cell_type": "text-cell-bullet",
    "formattedRanges": []
   },
   "source": [
    "- How valuable is the output and why is it valuable or useful?"
   ]
  },
  {
   "cell_type": "markdown",
   "metadata": {},
   "source": [
    "## Functions "
   ]
  },
  {
   "cell_type": "code",
   "execution_count": null,
   "metadata": {},
   "outputs": [],
   "source": []
  },
  {
   "cell_type": "markdown",
   "metadata": {
    "cell_id": "8999d19b6b7d4d63bc90f0b0bd9ab085",
    "deepnote_cell_type": "text-cell-h2",
    "formattedRanges": []
   },
   "source": [
    "## Processing"
   ]
  },
  {
   "cell_type": "markdown",
   "metadata": {
    "cell_id": "9b36cdf08567463082b005cb0dec684b",
    "deepnote_cell_type": "text-cell-p",
    "formattedRanges": []
   },
   "source": [
    "Describe what is done to the data here and how inputs are manipulated to generate outputs. "
   ]
  },
  {
   "cell_type": "code",
   "execution_count": 20,
   "metadata": {
    "cell_id": "89aaba237c644628b1b37604b75e7cb1",
    "deepnote_cell_type": "code",
    "tags": []
   },
   "outputs": [],
   "source": [
    "# As much code and as many cells as required\n",
    "# includes EDA and playing with data\n",
    "# GO HAM!\n",
    "\n",
    "# Ideally functions are defined here first and then data is processed using the functions\n",
    "\n",
    "# function names are short and in snake case all lowercase\n",
    "# a function name should be unique but does not have to describe the function\n",
    "# doc strings describe functions not function names\n",
    "\n",
    "\n"
   ]
  },
  {
   "cell_type": "code",
   "execution_count": 21,
   "metadata": {
    "tags": []
   },
   "outputs": [
    {
     "data": {
      "text/plain": [
       "Index(['cohort', 'session_dir', 'tone_frames', 'box_1_port_entry_frames',\n",
       "       'box_2_port_entry_frames', 'video_name', 'session_path', 'recording',\n",
       "       'current_subject', 'subject', 'all_subjects', 'first_timestamp',\n",
       "       'last_timestamp', 'video_timestamps', 'tone_timestamps',\n",
       "       'box_1_port_entry_timestamps', 'box_2_port_entry_timestamps',\n",
       "       'lfp_timestamps', 'mPFC_lfp_trace', 'MD_lfp_trace', 'LH_lfp_trace',\n",
       "       'BLA_lfp_trace', 'vHPC_lfp_trace',\n",
       "       'mPFC_power_all_frequencies_all_windows',\n",
       "       'MD_power_all_frequencies_all_windows',\n",
       "       'LH_power_all_frequencies_all_windows',\n",
       "       'BLA_power_all_frequencies_all_windows',\n",
       "       'vHPC_power_all_frequencies_all_windows', 'power_timestamps',\n",
       "       'power_calculation_frequencies',\n",
       "       'BLA_LH_coherence_all_frequencies_all_windows',\n",
       "       'BLA_MD_coherence_all_frequencies_all_windows',\n",
       "       'BLA_mPFC_coherence_all_frequencies_all_windows',\n",
       "       'BLA_vHPC_coherence_all_frequencies_all_windows',\n",
       "       'LH_MD_coherence_all_frequencies_all_windows',\n",
       "       'LH_mPFC_coherence_all_frequencies_all_windows',\n",
       "       'LH_vHPC_coherence_all_frequencies_all_windows',\n",
       "       'MD_mPFC_coherence_all_frequencies_all_windows',\n",
       "       'MD_vHPC_coherence_all_frequencies_all_windows',\n",
       "       'mPFC_vHPC_coherence_all_frequencies_all_windows',\n",
       "       'coherence_timestamps', 'coherence_calculation_frequencies',\n",
       "       'BLA_LH_granger_all_frequencies_all_windows',\n",
       "       'LH_BLA_granger_all_frequencies_all_windows',\n",
       "       'BLA_MD_granger_all_frequencies_all_windows',\n",
       "       'MD_BLA_granger_all_frequencies_all_windows',\n",
       "       'BLA_mPFC_granger_all_frequencies_all_windows',\n",
       "       'mPFC_BLA_granger_all_frequencies_all_windows',\n",
       "       'BLA_vHPC_granger_all_frequencies_all_windows',\n",
       "       'vHPC_BLA_granger_all_frequencies_all_windows',\n",
       "       'LH_MD_granger_all_frequencies_all_windows',\n",
       "       'MD_LH_granger_all_frequencies_all_windows',\n",
       "       'LH_mPFC_granger_all_frequencies_all_windows',\n",
       "       'mPFC_LH_granger_all_frequencies_all_windows',\n",
       "       'LH_vHPC_granger_all_frequencies_all_windows',\n",
       "       'vHPC_LH_granger_all_frequencies_all_windows',\n",
       "       'MD_mPFC_granger_all_frequencies_all_windows',\n",
       "       'mPFC_MD_granger_all_frequencies_all_windows',\n",
       "       'MD_vHPC_granger_all_frequencies_all_windows',\n",
       "       'vHPC_MD_granger_all_frequencies_all_windows',\n",
       "       'mPFC_vHPC_granger_all_frequencies_all_windows',\n",
       "       'vHPC_mPFC_granger_all_frequencies_all_windows', 'granger_timestamps',\n",
       "       'granger_calculation_frequencies'],\n",
       "      dtype='object')"
      ]
     },
     "execution_count": 21,
     "metadata": {},
     "output_type": "execute_result"
    }
   ],
   "source": [
    "LFP_SPECTRAL_DF.columns"
   ]
  },
  {
   "cell_type": "markdown",
   "metadata": {
    "tags": []
   },
   "source": [
    "## Filtering by theta and gamma band"
   ]
  },
  {
   "cell_type": "markdown",
   "metadata": {},
   "source": [
    "- Filtering theta/gamma for power"
   ]
  },
  {
   "cell_type": "code",
   "execution_count": 22,
   "metadata": {
    "tags": []
   },
   "outputs": [],
   "source": [
    "power_columns = [col for col in LFP_SPECTRAL_DF.columns if \"power\" in col and \"calculation\" not in col and \"time\" not in col]"
   ]
  },
  {
   "cell_type": "code",
   "execution_count": 23,
   "metadata": {
    "tags": []
   },
   "outputs": [
    {
     "data": {
      "text/plain": [
       "['mPFC_power_all_frequencies_all_windows',\n",
       " 'MD_power_all_frequencies_all_windows',\n",
       " 'LH_power_all_frequencies_all_windows',\n",
       " 'BLA_power_all_frequencies_all_windows',\n",
       " 'vHPC_power_all_frequencies_all_windows']"
      ]
     },
     "execution_count": 23,
     "metadata": {},
     "output_type": "execute_result"
    }
   ],
   "source": [
    "power_columns"
   ]
  },
  {
   "cell_type": "code",
   "execution_count": 24,
   "metadata": {
    "tags": []
   },
   "outputs": [
    {
     "data": {
      "text/plain": [
       "array([False, False, False, False,  True,  True,  True,  True,  True,\n",
       "        True,  True,  True,  True, False, False, False, False, False,\n",
       "       False, False, False, False, False, False, False, False, False,\n",
       "       False, False, False, False, False, False, False, False, False,\n",
       "       False, False, False, False, False, False, False, False, False,\n",
       "       False, False, False, False, False, False, False, False, False,\n",
       "       False, False, False, False, False, False, False, False, False,\n",
       "       False, False, False, False, False, False, False, False, False,\n",
       "       False, False, False, False, False, False, False, False, False,\n",
       "       False, False, False, False, False, False, False, False, False,\n",
       "       False, False, False, False, False, False, False, False, False,\n",
       "       False, False, False, False, False, False, False, False, False,\n",
       "       False, False, False, False, False, False, False, False, False,\n",
       "       False, False, False, False, False, False, False, False, False,\n",
       "       False, False, False, False, False, False, False, False, False,\n",
       "       False, False, False, False, False, False, False, False, False,\n",
       "       False, False, False, False, False, False, False, False, False,\n",
       "       False, False, False, False, False, False, False, False, False,\n",
       "       False, False, False, False, False, False, False, False, False,\n",
       "       False, False, False, False, False, False, False, False, False,\n",
       "       False, False, False, False, False, False, False, False, False,\n",
       "       False, False, False, False, False, False, False, False, False,\n",
       "       False, False, False, False, False, False, False, False, False,\n",
       "       False, False, False, False, False, False, False, False, False,\n",
       "       False, False, False, False, False, False, False, False, False,\n",
       "       False, False, False, False, False, False, False, False, False,\n",
       "       False, False, False, False, False, False, False, False, False,\n",
       "       False, False, False, False, False, False, False, False, False,\n",
       "       False, False, False, False, False, False, False, False, False,\n",
       "       False, False, False, False, False, False, False, False, False,\n",
       "       False, False, False, False, False, False, False, False, False,\n",
       "       False, False, False, False, False, False, False, False, False,\n",
       "       False, False, False, False, False, False, False, False, False,\n",
       "       False, False, False, False, False, False, False, False, False,\n",
       "       False, False, False, False, False, False, False, False, False,\n",
       "       False, False, False, False, False, False, False, False, False,\n",
       "       False, False, False, False, False, False, False, False, False,\n",
       "       False, False, False, False, False, False, False, False, False,\n",
       "       False, False, False, False, False, False, False, False, False,\n",
       "       False, False, False, False, False, False, False, False, False,\n",
       "       False, False, False, False, False, False, False, False, False,\n",
       "       False, False, False, False, False, False, False, False, False,\n",
       "       False, False, False, False, False, False, False, False, False,\n",
       "       False, False, False, False, False, False, False, False, False,\n",
       "       False, False, False, False, False, False, False, False, False,\n",
       "       False, False, False, False, False, False, False, False, False,\n",
       "       False, False, False, False, False, False, False, False, False,\n",
       "       False, False, False, False, False, False, False, False, False,\n",
       "       False, False, False, False, False, False, False, False, False,\n",
       "       False, False, False, False, False, False, False, False, False,\n",
       "       False, False, False, False, False, False, False, False, False,\n",
       "       False, False, False, False, False, False, False, False, False,\n",
       "       False, False, False, False, False, False, False, False, False,\n",
       "       False, False, False, False, False, False, False, False, False,\n",
       "       False, False, False, False, False, False, False, False, False,\n",
       "       False, False, False, False, False])"
      ]
     },
     "execution_count": 24,
     "metadata": {},
     "output_type": "execute_result"
    }
   ],
   "source": [
    "LFP_SPECTRAL_DF[\"power_calculation_frequencies\"].apply(lambda x: (x >= theta_band[0]) & (x <= theta_band[1])).iloc[0]"
   ]
  },
  {
   "cell_type": "code",
   "execution_count": 25,
   "metadata": {
    "tags": []
   },
   "outputs": [
    {
     "name": "stdout",
     "output_type": "stream",
     "text": [
      "mPFC\n",
      "MD\n",
      "LH\n",
      "BLA\n",
      "vHPC\n"
     ]
    }
   ],
   "source": [
    "for col in power_columns:\n",
    "    brain_region_name = col.split(\"_\")[0]\n",
    "    print(brain_region_name)\n",
    "    theta_power_col = \"{}_power_theta\".format(brain_region_name)\n",
    "    gamma_power_col = \"{}_power_gamma\".format(brain_region_name)\n",
    "    LFP_SPECTRAL_DF[\"{}\".format(theta_power_col)] = LFP_SPECTRAL_DF.apply(lambda x: np.nanmean(x[col][:, (x[\"power_calculation_frequencies\"] >= theta_band[0]) & (x[\"power_calculation_frequencies\"] <= theta_band[1])], axis=1), axis=1)\n",
    "    LFP_SPECTRAL_DF[\"{}\".format(gamma_power_col)] = LFP_SPECTRAL_DF.apply(lambda x: np.nanmean(x[col][:, (x[\"power_calculation_frequencies\"] >= gamma_band[0]) & (x[\"power_calculation_frequencies\"] <= gamma_band[1])], axis=1), axis=1)"
   ]
  },
  {
   "cell_type": "code",
   "execution_count": 26,
   "metadata": {
    "tags": []
   },
   "outputs": [
    {
     "data": {
      "text/html": [
       "<div>\n",
       "<style scoped>\n",
       "    .dataframe tbody tr th:only-of-type {\n",
       "        vertical-align: middle;\n",
       "    }\n",
       "\n",
       "    .dataframe tbody tr th {\n",
       "        vertical-align: top;\n",
       "    }\n",
       "\n",
       "    .dataframe thead th {\n",
       "        text-align: right;\n",
       "    }\n",
       "</style>\n",
       "<table border=\"1\" class=\"dataframe\">\n",
       "  <thead>\n",
       "    <tr style=\"text-align: right;\">\n",
       "      <th></th>\n",
       "      <th>cohort</th>\n",
       "      <th>session_dir</th>\n",
       "      <th>tone_frames</th>\n",
       "      <th>box_1_port_entry_frames</th>\n",
       "      <th>box_2_port_entry_frames</th>\n",
       "      <th>video_name</th>\n",
       "      <th>session_path</th>\n",
       "      <th>recording</th>\n",
       "      <th>current_subject</th>\n",
       "      <th>subject</th>\n",
       "      <th>...</th>\n",
       "      <th>mPFC_power_theta</th>\n",
       "      <th>mPFC_power_gamma</th>\n",
       "      <th>MD_power_theta</th>\n",
       "      <th>MD_power_gamma</th>\n",
       "      <th>LH_power_theta</th>\n",
       "      <th>LH_power_gamma</th>\n",
       "      <th>BLA_power_theta</th>\n",
       "      <th>BLA_power_gamma</th>\n",
       "      <th>vHPC_power_theta</th>\n",
       "      <th>vHPC_power_gamma</th>\n",
       "    </tr>\n",
       "  </thead>\n",
       "  <tbody>\n",
       "    <tr>\n",
       "      <th>0</th>\n",
       "      <td>2</td>\n",
       "      <td>20230612_101430_standard_comp_to_training_D1_s...</td>\n",
       "      <td>[[980, 1181], [3376, 3575], [5672, 5871], [746...</td>\n",
       "      <td>[[490, 514], [518, 558], [558, 637], [638, 640...</td>\n",
       "      <td>[[33137, 33147], [33665, 33666], [33668, 33669...</td>\n",
       "      <td>20230612_101430_standard_comp_to_training_D1_s...</td>\n",
       "      <td>/scratch/back_up/reward_competition_extention/...</td>\n",
       "      <td>20230612_101430_standard_comp_to_training_D1_s...</td>\n",
       "      <td>1.3</td>\n",
       "      <td>1.3</td>\n",
       "      <td>...</td>\n",
       "      <td>[5772.0, 2512.0, 2622.0, 6868.0, inf, inf, inf...</td>\n",
       "      <td>[110.56, 141.8, 138.6, 108.5, 113.5, 97.0, 132...</td>\n",
       "      <td>[inf, 7268.0, 5428.0, 6660.0, 5932.0, 5420.0, ...</td>\n",
       "      <td>[142.1, 91.5, 148.9, 204.2, 109.8, 94.9, 131.8...</td>\n",
       "      <td>[2774.0, 2794.0, 2554.0, 2378.0, 2150.0, 2050....</td>\n",
       "      <td>[92.25, 70.6, 63.84, 77.2, 53.2, 56.06, 79.5, ...</td>\n",
       "      <td>[5336.0, 4132.0, 3812.0, 5010.0, 4936.0, 3244....</td>\n",
       "      <td>[326.0, 348.2, 333.8, 246.5, 246.5, 222.9, 252...</td>\n",
       "      <td>[inf, inf, inf, inf, inf, inf, inf, inf, inf, ...</td>\n",
       "      <td>[499.5, 580.0, 545.5, 633.5, 499.0, 361.2, 727...</td>\n",
       "    </tr>\n",
       "    <tr>\n",
       "      <th>1</th>\n",
       "      <td>2</td>\n",
       "      <td>20230612_101430_standard_comp_to_training_D1_s...</td>\n",
       "      <td>[[980, 1180], [3376, 3575], [5672, 5871], [746...</td>\n",
       "      <td>[[490, 514], [518, 558], [558, 637], [638, 640...</td>\n",
       "      <td>[[33021, 33027], [33502, 33503], [33504, 33506...</td>\n",
       "      <td>20230612_101430_standard_comp_to_training_D1_s...</td>\n",
       "      <td>/scratch/back_up/reward_competition_extention/...</td>\n",
       "      <td>20230612_101430_standard_comp_to_training_D1_s...</td>\n",
       "      <td>1.3</td>\n",
       "      <td>1.3</td>\n",
       "      <td>...</td>\n",
       "      <td>[5772.0, 2512.0, 2622.0, 6868.0, inf, inf, inf...</td>\n",
       "      <td>[110.56, 141.8, 138.6, 108.5, 113.5, 97.0, 132...</td>\n",
       "      <td>[inf, 7268.0, 5428.0, 6660.0, 5932.0, 5420.0, ...</td>\n",
       "      <td>[142.1, 91.5, 148.9, 204.2, 109.8, 94.9, 131.8...</td>\n",
       "      <td>[2774.0, 2794.0, 2554.0, 2378.0, 2150.0, 2050....</td>\n",
       "      <td>[92.25, 70.6, 63.84, 77.2, 53.2, 56.06, 79.5, ...</td>\n",
       "      <td>[5336.0, 4132.0, 3812.0, 5010.0, 4936.0, 3244....</td>\n",
       "      <td>[326.0, 348.2, 333.8, 246.5, 246.5, 222.9, 252...</td>\n",
       "      <td>[inf, inf, inf, inf, inf, inf, inf, inf, inf, ...</td>\n",
       "      <td>[499.5, 580.0, 545.5, 633.5, 499.0, 361.2, 727...</td>\n",
       "    </tr>\n",
       "    <tr>\n",
       "      <th>2</th>\n",
       "      <td>2</td>\n",
       "      <td>20230612_101430_standard_comp_to_training_D1_s...</td>\n",
       "      <td>[[980, 1181], [3376, 3575], [5672, 5871], [746...</td>\n",
       "      <td>[[490, 514], [518, 558], [558, 637], [638, 640...</td>\n",
       "      <td>[[33137, 33147], [33665, 33666], [33668, 33669...</td>\n",
       "      <td>20230612_101430_standard_comp_to_training_D1_s...</td>\n",
       "      <td>/scratch/back_up/reward_competition_extention/...</td>\n",
       "      <td>20230612_101430_standard_comp_to_training_D1_s...</td>\n",
       "      <td>1.4</td>\n",
       "      <td>1.4</td>\n",
       "      <td>...</td>\n",
       "      <td>[1991.0, 2208.0, 4588.0, 3286.0, 2872.0, 2076....</td>\n",
       "      <td>[233.1, 373.2, 328.8, 294.0, 307.0, 416.0, 394...</td>\n",
       "      <td>[425.0, 445.2, 744.5, 686.0, 477.8, 551.5, 456...</td>\n",
       "      <td>[23.12, 18.11, 14.81, 16.69, 15.0, 16.3, 13.81...</td>\n",
       "      <td>[465.8, 519.5, 809.0, 779.5, 537.0, 674.5, 574...</td>\n",
       "      <td>[27.88, 21.25, 19.97, 26.27, 21.88, 23.75, 20....</td>\n",
       "      <td>[2288.0, 3380.0, 5130.0, 3960.0, 3568.0, 4868....</td>\n",
       "      <td>[575.0, 567.0, 551.0, 519.0, 432.5, 424.8, 357...</td>\n",
       "      <td>[3144.0, 3464.0, 5550.0, 5344.0, 4468.0, 4612....</td>\n",
       "      <td>[374.8, 488.8, 293.5, 310.5, 282.8, 376.0, 362...</td>\n",
       "    </tr>\n",
       "    <tr>\n",
       "      <th>3</th>\n",
       "      <td>2</td>\n",
       "      <td>20230612_101430_standard_comp_to_training_D1_s...</td>\n",
       "      <td>[[980, 1180], [3376, 3575], [5672, 5871], [746...</td>\n",
       "      <td>[[490, 514], [518, 558], [558, 637], [638, 640...</td>\n",
       "      <td>[[33021, 33027], [33502, 33503], [33504, 33506...</td>\n",
       "      <td>20230612_101430_standard_comp_to_training_D1_s...</td>\n",
       "      <td>/scratch/back_up/reward_competition_extention/...</td>\n",
       "      <td>20230612_101430_standard_comp_to_training_D1_s...</td>\n",
       "      <td>1.4</td>\n",
       "      <td>1.4</td>\n",
       "      <td>...</td>\n",
       "      <td>[1991.0, 2208.0, 4588.0, 3286.0, 2872.0, 2076....</td>\n",
       "      <td>[233.1, 373.2, 328.8, 294.0, 307.0, 416.0, 394...</td>\n",
       "      <td>[425.0, 445.2, 744.5, 686.0, 477.8, 551.5, 456...</td>\n",
       "      <td>[23.12, 18.11, 14.81, 16.69, 15.0, 16.3, 13.81...</td>\n",
       "      <td>[465.8, 519.5, 809.0, 779.5, 537.0, 674.5, 574...</td>\n",
       "      <td>[27.88, 21.25, 19.97, 26.27, 21.88, 23.75, 20....</td>\n",
       "      <td>[2288.0, 3380.0, 5130.0, 3960.0, 3568.0, 4868....</td>\n",
       "      <td>[575.0, 567.0, 551.0, 519.0, 432.5, 424.8, 357...</td>\n",
       "      <td>[3144.0, 3464.0, 5550.0, 5344.0, 4468.0, 4612....</td>\n",
       "      <td>[374.8, 488.8, 293.5, 310.5, 282.8, 376.0, 362...</td>\n",
       "    </tr>\n",
       "    <tr>\n",
       "      <th>4</th>\n",
       "      <td>2</td>\n",
       "      <td>20230612_112630_standard_comp_to_training_D1_s...</td>\n",
       "      <td>[[1125, 1324], [3519, 3720], [5815, 6014], [76...</td>\n",
       "      <td>[[192, 248], [389, 405], [916, 929], [929, 948...</td>\n",
       "      <td>[[33019, 33020], [33246, 33251], [33253, 33255...</td>\n",
       "      <td>20230612_112630_standard_comp_to_training_D1_s...</td>\n",
       "      <td>/scratch/back_up/reward_competition_extention/...</td>\n",
       "      <td>20230612_112630_standard_comp_to_training_D1_s...</td>\n",
       "      <td>1.1</td>\n",
       "      <td>1.1</td>\n",
       "      <td>...</td>\n",
       "      <td>[inf, 4460.0, inf, inf, inf, inf, inf, inf, in...</td>\n",
       "      <td>[578.5, 471.2, 705.5, 588.0, 458.8, 432.0, 522...</td>\n",
       "      <td>[inf, inf, inf, inf, inf, inf, inf, inf, inf, ...</td>\n",
       "      <td>[369.5, 341.2, 480.8, 410.0, 372.5, 305.5, 418...</td>\n",
       "      <td>[inf, 7024.0, inf, inf, inf, inf, inf, inf, in...</td>\n",
       "      <td>[399.5, 306.8, 428.5, 421.2, 390.0, 219.8, 309...</td>\n",
       "      <td>[inf, 6860.0, inf, inf, inf, inf, inf, inf, in...</td>\n",
       "      <td>[668.0, 809.0, 746.0, 735.0, 573.0, 406.5, 890...</td>\n",
       "      <td>[5644.0, inf, inf, inf, inf, inf, inf, inf, in...</td>\n",
       "      <td>[1366.0, 1412.0, 1589.0, 2256.0, 1824.0, 1496....</td>\n",
       "    </tr>\n",
       "  </tbody>\n",
       "</table>\n",
       "<p>5 rows × 74 columns</p>\n",
       "</div>"
      ],
      "text/plain": [
       "   cohort                                        session_dir  \\\n",
       "0       2  20230612_101430_standard_comp_to_training_D1_s...   \n",
       "1       2  20230612_101430_standard_comp_to_training_D1_s...   \n",
       "2       2  20230612_101430_standard_comp_to_training_D1_s...   \n",
       "3       2  20230612_101430_standard_comp_to_training_D1_s...   \n",
       "4       2  20230612_112630_standard_comp_to_training_D1_s...   \n",
       "\n",
       "                                         tone_frames  \\\n",
       "0  [[980, 1181], [3376, 3575], [5672, 5871], [746...   \n",
       "1  [[980, 1180], [3376, 3575], [5672, 5871], [746...   \n",
       "2  [[980, 1181], [3376, 3575], [5672, 5871], [746...   \n",
       "3  [[980, 1180], [3376, 3575], [5672, 5871], [746...   \n",
       "4  [[1125, 1324], [3519, 3720], [5815, 6014], [76...   \n",
       "\n",
       "                             box_1_port_entry_frames  \\\n",
       "0  [[490, 514], [518, 558], [558, 637], [638, 640...   \n",
       "1  [[490, 514], [518, 558], [558, 637], [638, 640...   \n",
       "2  [[490, 514], [518, 558], [558, 637], [638, 640...   \n",
       "3  [[490, 514], [518, 558], [558, 637], [638, 640...   \n",
       "4  [[192, 248], [389, 405], [916, 929], [929, 948...   \n",
       "\n",
       "                             box_2_port_entry_frames  \\\n",
       "0  [[33137, 33147], [33665, 33666], [33668, 33669...   \n",
       "1  [[33021, 33027], [33502, 33503], [33504, 33506...   \n",
       "2  [[33137, 33147], [33665, 33666], [33668, 33669...   \n",
       "3  [[33021, 33027], [33502, 33503], [33504, 33506...   \n",
       "4  [[33019, 33020], [33246, 33251], [33253, 33255...   \n",
       "\n",
       "                                          video_name  \\\n",
       "0  20230612_101430_standard_comp_to_training_D1_s...   \n",
       "1  20230612_101430_standard_comp_to_training_D1_s...   \n",
       "2  20230612_101430_standard_comp_to_training_D1_s...   \n",
       "3  20230612_101430_standard_comp_to_training_D1_s...   \n",
       "4  20230612_112630_standard_comp_to_training_D1_s...   \n",
       "\n",
       "                                        session_path  \\\n",
       "0  /scratch/back_up/reward_competition_extention/...   \n",
       "1  /scratch/back_up/reward_competition_extention/...   \n",
       "2  /scratch/back_up/reward_competition_extention/...   \n",
       "3  /scratch/back_up/reward_competition_extention/...   \n",
       "4  /scratch/back_up/reward_competition_extention/...   \n",
       "\n",
       "                                           recording current_subject subject  \\\n",
       "0  20230612_101430_standard_comp_to_training_D1_s...             1.3     1.3   \n",
       "1  20230612_101430_standard_comp_to_training_D1_s...             1.3     1.3   \n",
       "2  20230612_101430_standard_comp_to_training_D1_s...             1.4     1.4   \n",
       "3  20230612_101430_standard_comp_to_training_D1_s...             1.4     1.4   \n",
       "4  20230612_112630_standard_comp_to_training_D1_s...             1.1     1.1   \n",
       "\n",
       "   ...                                   mPFC_power_theta  \\\n",
       "0  ...  [5772.0, 2512.0, 2622.0, 6868.0, inf, inf, inf...   \n",
       "1  ...  [5772.0, 2512.0, 2622.0, 6868.0, inf, inf, inf...   \n",
       "2  ...  [1991.0, 2208.0, 4588.0, 3286.0, 2872.0, 2076....   \n",
       "3  ...  [1991.0, 2208.0, 4588.0, 3286.0, 2872.0, 2076....   \n",
       "4  ...  [inf, 4460.0, inf, inf, inf, inf, inf, inf, in...   \n",
       "\n",
       "                                    mPFC_power_gamma  \\\n",
       "0  [110.56, 141.8, 138.6, 108.5, 113.5, 97.0, 132...   \n",
       "1  [110.56, 141.8, 138.6, 108.5, 113.5, 97.0, 132...   \n",
       "2  [233.1, 373.2, 328.8, 294.0, 307.0, 416.0, 394...   \n",
       "3  [233.1, 373.2, 328.8, 294.0, 307.0, 416.0, 394...   \n",
       "4  [578.5, 471.2, 705.5, 588.0, 458.8, 432.0, 522...   \n",
       "\n",
       "                                      MD_power_theta  \\\n",
       "0  [inf, 7268.0, 5428.0, 6660.0, 5932.0, 5420.0, ...   \n",
       "1  [inf, 7268.0, 5428.0, 6660.0, 5932.0, 5420.0, ...   \n",
       "2  [425.0, 445.2, 744.5, 686.0, 477.8, 551.5, 456...   \n",
       "3  [425.0, 445.2, 744.5, 686.0, 477.8, 551.5, 456...   \n",
       "4  [inf, inf, inf, inf, inf, inf, inf, inf, inf, ...   \n",
       "\n",
       "                                      MD_power_gamma  \\\n",
       "0  [142.1, 91.5, 148.9, 204.2, 109.8, 94.9, 131.8...   \n",
       "1  [142.1, 91.5, 148.9, 204.2, 109.8, 94.9, 131.8...   \n",
       "2  [23.12, 18.11, 14.81, 16.69, 15.0, 16.3, 13.81...   \n",
       "3  [23.12, 18.11, 14.81, 16.69, 15.0, 16.3, 13.81...   \n",
       "4  [369.5, 341.2, 480.8, 410.0, 372.5, 305.5, 418...   \n",
       "\n",
       "                                      LH_power_theta  \\\n",
       "0  [2774.0, 2794.0, 2554.0, 2378.0, 2150.0, 2050....   \n",
       "1  [2774.0, 2794.0, 2554.0, 2378.0, 2150.0, 2050....   \n",
       "2  [465.8, 519.5, 809.0, 779.5, 537.0, 674.5, 574...   \n",
       "3  [465.8, 519.5, 809.0, 779.5, 537.0, 674.5, 574...   \n",
       "4  [inf, 7024.0, inf, inf, inf, inf, inf, inf, in...   \n",
       "\n",
       "                                      LH_power_gamma  \\\n",
       "0  [92.25, 70.6, 63.84, 77.2, 53.2, 56.06, 79.5, ...   \n",
       "1  [92.25, 70.6, 63.84, 77.2, 53.2, 56.06, 79.5, ...   \n",
       "2  [27.88, 21.25, 19.97, 26.27, 21.88, 23.75, 20....   \n",
       "3  [27.88, 21.25, 19.97, 26.27, 21.88, 23.75, 20....   \n",
       "4  [399.5, 306.8, 428.5, 421.2, 390.0, 219.8, 309...   \n",
       "\n",
       "                                     BLA_power_theta  \\\n",
       "0  [5336.0, 4132.0, 3812.0, 5010.0, 4936.0, 3244....   \n",
       "1  [5336.0, 4132.0, 3812.0, 5010.0, 4936.0, 3244....   \n",
       "2  [2288.0, 3380.0, 5130.0, 3960.0, 3568.0, 4868....   \n",
       "3  [2288.0, 3380.0, 5130.0, 3960.0, 3568.0, 4868....   \n",
       "4  [inf, 6860.0, inf, inf, inf, inf, inf, inf, in...   \n",
       "\n",
       "                                     BLA_power_gamma  \\\n",
       "0  [326.0, 348.2, 333.8, 246.5, 246.5, 222.9, 252...   \n",
       "1  [326.0, 348.2, 333.8, 246.5, 246.5, 222.9, 252...   \n",
       "2  [575.0, 567.0, 551.0, 519.0, 432.5, 424.8, 357...   \n",
       "3  [575.0, 567.0, 551.0, 519.0, 432.5, 424.8, 357...   \n",
       "4  [668.0, 809.0, 746.0, 735.0, 573.0, 406.5, 890...   \n",
       "\n",
       "                                    vHPC_power_theta  \\\n",
       "0  [inf, inf, inf, inf, inf, inf, inf, inf, inf, ...   \n",
       "1  [inf, inf, inf, inf, inf, inf, inf, inf, inf, ...   \n",
       "2  [3144.0, 3464.0, 5550.0, 5344.0, 4468.0, 4612....   \n",
       "3  [3144.0, 3464.0, 5550.0, 5344.0, 4468.0, 4612....   \n",
       "4  [5644.0, inf, inf, inf, inf, inf, inf, inf, in...   \n",
       "\n",
       "                                    vHPC_power_gamma  \n",
       "0  [499.5, 580.0, 545.5, 633.5, 499.0, 361.2, 727...  \n",
       "1  [499.5, 580.0, 545.5, 633.5, 499.0, 361.2, 727...  \n",
       "2  [374.8, 488.8, 293.5, 310.5, 282.8, 376.0, 362...  \n",
       "3  [374.8, 488.8, 293.5, 310.5, 282.8, 376.0, 362...  \n",
       "4  [1366.0, 1412.0, 1589.0, 2256.0, 1824.0, 1496....  \n",
       "\n",
       "[5 rows x 74 columns]"
      ]
     },
     "execution_count": 26,
     "metadata": {},
     "output_type": "execute_result"
    }
   ],
   "source": [
    "LFP_SPECTRAL_DF.head()"
   ]
  },
  {
   "cell_type": "markdown",
   "metadata": {},
   "source": [
    "- Filtering theta/gamma for coherence"
   ]
  },
  {
   "cell_type": "code",
   "execution_count": 27,
   "metadata": {
    "tags": []
   },
   "outputs": [],
   "source": [
    "coherence_columns = [col for col in LFP_SPECTRAL_DF.columns if \"coherence\" in col and \"calculation\" not in col and \"time\" not in col]"
   ]
  },
  {
   "cell_type": "code",
   "execution_count": 28,
   "metadata": {
    "tags": []
   },
   "outputs": [
    {
     "data": {
      "text/plain": [
       "['BLA_LH_coherence_all_frequencies_all_windows',\n",
       " 'BLA_MD_coherence_all_frequencies_all_windows',\n",
       " 'BLA_mPFC_coherence_all_frequencies_all_windows',\n",
       " 'BLA_vHPC_coherence_all_frequencies_all_windows',\n",
       " 'LH_MD_coherence_all_frequencies_all_windows',\n",
       " 'LH_mPFC_coherence_all_frequencies_all_windows',\n",
       " 'LH_vHPC_coherence_all_frequencies_all_windows',\n",
       " 'MD_mPFC_coherence_all_frequencies_all_windows',\n",
       " 'MD_vHPC_coherence_all_frequencies_all_windows',\n",
       " 'mPFC_vHPC_coherence_all_frequencies_all_windows']"
      ]
     },
     "execution_count": 28,
     "metadata": {},
     "output_type": "execute_result"
    }
   ],
   "source": [
    "coherence_columns"
   ]
  },
  {
   "cell_type": "code",
   "execution_count": 29,
   "metadata": {
    "tags": []
   },
   "outputs": [
    {
     "name": "stdout",
     "output_type": "stream",
     "text": [
      "BLA_LH\n",
      "BLA_MD\n",
      "BLA_mPFC\n",
      "BLA_vHPC\n",
      "LH_MD\n",
      "LH_mPFC\n",
      "LH_vHPC\n",
      "MD_mPFC\n",
      "MD_vHPC\n",
      "mPFC_vHPC\n"
     ]
    }
   ],
   "source": [
    "for col in coherence_columns:\n",
    "    brain_region_name = \"_\".join(col.split(\"_\")[:2])\n",
    "    print(brain_region_name)\n",
    "    theta_coherence_col = \"{}_coherence_theta\".format(brain_region_name)\n",
    "    gamma_coherence_col = \"{}_coherence_gamma\".format(brain_region_name)\n",
    "    LFP_SPECTRAL_DF[\"{}\".format(theta_coherence_col)] = LFP_SPECTRAL_DF.apply(lambda x: np.nanmean(x[col][:, (x[\"coherence_calculation_frequencies\"] >= theta_band[0]) & (x[\"coherence_calculation_frequencies\"] <= theta_band[1])], axis=1), axis=1)\n",
    "    LFP_SPECTRAL_DF[\"{}\".format(gamma_coherence_col)] = LFP_SPECTRAL_DF.apply(lambda x: np.nanmean(x[col][:, (x[\"coherence_calculation_frequencies\"] >= gamma_band[0]) & (x[\"coherence_calculation_frequencies\"] <= gamma_band[1])], axis=1), axis=1)"
   ]
  },
  {
   "cell_type": "markdown",
   "metadata": {},
   "source": [
    "- Filtering theta/gamma for granger"
   ]
  },
  {
   "cell_type": "code",
   "execution_count": 30,
   "metadata": {
    "tags": []
   },
   "outputs": [],
   "source": [
    "granger_columns = [col for col in LFP_SPECTRAL_DF.columns if \"granger\" in col and \"calculation\" not in col and \"time\" not in col]"
   ]
  },
  {
   "cell_type": "code",
   "execution_count": 31,
   "metadata": {
    "tags": []
   },
   "outputs": [
    {
     "data": {
      "text/plain": [
       "['BLA_LH_granger_all_frequencies_all_windows',\n",
       " 'LH_BLA_granger_all_frequencies_all_windows',\n",
       " 'BLA_MD_granger_all_frequencies_all_windows',\n",
       " 'MD_BLA_granger_all_frequencies_all_windows',\n",
       " 'BLA_mPFC_granger_all_frequencies_all_windows',\n",
       " 'mPFC_BLA_granger_all_frequencies_all_windows',\n",
       " 'BLA_vHPC_granger_all_frequencies_all_windows',\n",
       " 'vHPC_BLA_granger_all_frequencies_all_windows',\n",
       " 'LH_MD_granger_all_frequencies_all_windows',\n",
       " 'MD_LH_granger_all_frequencies_all_windows',\n",
       " 'LH_mPFC_granger_all_frequencies_all_windows',\n",
       " 'mPFC_LH_granger_all_frequencies_all_windows',\n",
       " 'LH_vHPC_granger_all_frequencies_all_windows',\n",
       " 'vHPC_LH_granger_all_frequencies_all_windows',\n",
       " 'MD_mPFC_granger_all_frequencies_all_windows',\n",
       " 'mPFC_MD_granger_all_frequencies_all_windows',\n",
       " 'MD_vHPC_granger_all_frequencies_all_windows',\n",
       " 'vHPC_MD_granger_all_frequencies_all_windows',\n",
       " 'mPFC_vHPC_granger_all_frequencies_all_windows',\n",
       " 'vHPC_mPFC_granger_all_frequencies_all_windows']"
      ]
     },
     "execution_count": 31,
     "metadata": {},
     "output_type": "execute_result"
    }
   ],
   "source": [
    "granger_columns"
   ]
  },
  {
   "cell_type": "code",
   "execution_count": 32,
   "metadata": {
    "tags": []
   },
   "outputs": [
    {
     "name": "stdout",
     "output_type": "stream",
     "text": [
      "BLA-to-LH\n",
      "LH-to-BLA\n",
      "BLA-to-MD\n",
      "MD-to-BLA\n",
      "BLA-to-mPFC\n",
      "mPFC-to-BLA\n",
      "BLA-to-vHPC\n",
      "vHPC-to-BLA\n",
      "LH-to-MD\n",
      "MD-to-LH\n",
      "LH-to-mPFC\n",
      "mPFC-to-LH\n",
      "LH-to-vHPC\n",
      "vHPC-to-LH\n",
      "MD-to-mPFC\n",
      "mPFC-to-MD\n",
      "MD-to-vHPC\n",
      "vHPC-to-MD\n",
      "mPFC-to-vHPC\n",
      "vHPC-to-mPFC\n"
     ]
    }
   ],
   "source": [
    "for col in granger_columns:\n",
    "    brain_region_name = \"-to-\".join(col.split(\"_\")[:2])\n",
    "    print(brain_region_name)\n",
    "    theta_granger_col = \"{}_granger_theta\".format(brain_region_name)\n",
    "    gamma_granger_col = \"{}_granger_gamma\".format(brain_region_name)\n",
    "    LFP_SPECTRAL_DF[\"{}\".format(theta_granger_col)] = LFP_SPECTRAL_DF.apply(lambda x: np.nanmean(x[col][:, (x[\"granger_calculation_frequencies\"] >= theta_band[0]) & (x[\"granger_calculation_frequencies\"] <= theta_band[1])], axis=1), axis=1)\n",
    "    LFP_SPECTRAL_DF[\"{}\".format(gamma_granger_col)] = LFP_SPECTRAL_DF.apply(lambda x: np.nanmean(x[col][:, (x[\"granger_calculation_frequencies\"] >= gamma_band[0]) & (x[\"granger_calculation_frequencies\"] <= gamma_band[1])], axis=1), axis=1)"
   ]
  },
  {
   "cell_type": "code",
   "execution_count": 33,
   "metadata": {
    "tags": []
   },
   "outputs": [
    {
     "data": {
      "text/html": [
       "<div>\n",
       "<style scoped>\n",
       "    .dataframe tbody tr th:only-of-type {\n",
       "        vertical-align: middle;\n",
       "    }\n",
       "\n",
       "    .dataframe tbody tr th {\n",
       "        vertical-align: top;\n",
       "    }\n",
       "\n",
       "    .dataframe thead th {\n",
       "        text-align: right;\n",
       "    }\n",
       "</style>\n",
       "<table border=\"1\" class=\"dataframe\">\n",
       "  <thead>\n",
       "    <tr style=\"text-align: right;\">\n",
       "      <th></th>\n",
       "      <th>cohort</th>\n",
       "      <th>session_dir</th>\n",
       "      <th>tone_frames</th>\n",
       "      <th>box_1_port_entry_frames</th>\n",
       "      <th>box_2_port_entry_frames</th>\n",
       "      <th>video_name</th>\n",
       "      <th>session_path</th>\n",
       "      <th>recording</th>\n",
       "      <th>current_subject</th>\n",
       "      <th>subject</th>\n",
       "      <th>...</th>\n",
       "      <th>mPFC-to-MD_granger_theta</th>\n",
       "      <th>mPFC-to-MD_granger_gamma</th>\n",
       "      <th>MD-to-vHPC_granger_theta</th>\n",
       "      <th>MD-to-vHPC_granger_gamma</th>\n",
       "      <th>vHPC-to-MD_granger_theta</th>\n",
       "      <th>vHPC-to-MD_granger_gamma</th>\n",
       "      <th>mPFC-to-vHPC_granger_theta</th>\n",
       "      <th>mPFC-to-vHPC_granger_gamma</th>\n",
       "      <th>vHPC-to-mPFC_granger_theta</th>\n",
       "      <th>vHPC-to-mPFC_granger_gamma</th>\n",
       "    </tr>\n",
       "  </thead>\n",
       "  <tbody>\n",
       "    <tr>\n",
       "      <th>0</th>\n",
       "      <td>2</td>\n",
       "      <td>20230612_101430_standard_comp_to_training_D1_s...</td>\n",
       "      <td>[[980, 1181], [3376, 3575], [5672, 5871], [746...</td>\n",
       "      <td>[[490, 514], [518, 558], [558, 637], [638, 640...</td>\n",
       "      <td>[[33137, 33147], [33665, 33666], [33668, 33669...</td>\n",
       "      <td>20230612_101430_standard_comp_to_training_D1_s...</td>\n",
       "      <td>/scratch/back_up/reward_competition_extention/...</td>\n",
       "      <td>20230612_101430_standard_comp_to_training_D1_s...</td>\n",
       "      <td>1.3</td>\n",
       "      <td>1.3</td>\n",
       "      <td>...</td>\n",
       "      <td>[0.6147, 0.2046, 0.413, 0.2115, 0.07513, 0.379...</td>\n",
       "      <td>[0.4363, 0.1776, 0.1467, 0.321, 0.1622, 0.1405...</td>\n",
       "      <td>[0.2495, 0.4895, 0.5493, 0.5884, 0.781, 0.7417...</td>\n",
       "      <td>[0.2996, 0.2195, 0.2698, 0.2234, 0.771, 0.303,...</td>\n",
       "      <td>[0.74, 0.83, 0.4905, 0.1929, 0.525, 0.2617, 0....</td>\n",
       "      <td>[0.3894, 0.2795, 0.3699, 0.3743, 0.364, 0.2167...</td>\n",
       "      <td>[0.2915, 0.325, 0.513, 0.11694, 0.1794, 0.356,...</td>\n",
       "      <td>[0.4688, 0.501, 0.5137, 0.257, 0.1731, 0.2177,...</td>\n",
       "      <td>[0.384, 0.3965, 0.4026, 0.07916, 0.3306, 0.237...</td>\n",
       "      <td>[0.263, 0.1315, 0.1389, 0.5635, 0.398, 0.3162,...</td>\n",
       "    </tr>\n",
       "    <tr>\n",
       "      <th>1</th>\n",
       "      <td>2</td>\n",
       "      <td>20230612_101430_standard_comp_to_training_D1_s...</td>\n",
       "      <td>[[980, 1180], [3376, 3575], [5672, 5871], [746...</td>\n",
       "      <td>[[490, 514], [518, 558], [558, 637], [638, 640...</td>\n",
       "      <td>[[33021, 33027], [33502, 33503], [33504, 33506...</td>\n",
       "      <td>20230612_101430_standard_comp_to_training_D1_s...</td>\n",
       "      <td>/scratch/back_up/reward_competition_extention/...</td>\n",
       "      <td>20230612_101430_standard_comp_to_training_D1_s...</td>\n",
       "      <td>1.3</td>\n",
       "      <td>1.3</td>\n",
       "      <td>...</td>\n",
       "      <td>[0.6147, 0.2046, 0.413, 0.2115, 0.07513, 0.379...</td>\n",
       "      <td>[0.4363, 0.1776, 0.1467, 0.321, 0.1622, 0.1405...</td>\n",
       "      <td>[0.2495, 0.4895, 0.5493, 0.5884, 0.781, 0.7417...</td>\n",
       "      <td>[0.2996, 0.2195, 0.2698, 0.2234, 0.771, 0.303,...</td>\n",
       "      <td>[0.74, 0.83, 0.4905, 0.1929, 0.525, 0.2617, 0....</td>\n",
       "      <td>[0.3894, 0.2795, 0.3699, 0.3743, 0.364, 0.2167...</td>\n",
       "      <td>[0.2915, 0.325, 0.513, 0.11694, 0.1794, 0.356,...</td>\n",
       "      <td>[0.4688, 0.501, 0.5137, 0.257, 0.1731, 0.2177,...</td>\n",
       "      <td>[0.384, 0.3965, 0.4026, 0.07916, 0.3306, 0.237...</td>\n",
       "      <td>[0.263, 0.1315, 0.1389, 0.5635, 0.398, 0.3162,...</td>\n",
       "    </tr>\n",
       "    <tr>\n",
       "      <th>2</th>\n",
       "      <td>2</td>\n",
       "      <td>20230612_101430_standard_comp_to_training_D1_s...</td>\n",
       "      <td>[[980, 1181], [3376, 3575], [5672, 5871], [746...</td>\n",
       "      <td>[[490, 514], [518, 558], [558, 637], [638, 640...</td>\n",
       "      <td>[[33137, 33147], [33665, 33666], [33668, 33669...</td>\n",
       "      <td>20230612_101430_standard_comp_to_training_D1_s...</td>\n",
       "      <td>/scratch/back_up/reward_competition_extention/...</td>\n",
       "      <td>20230612_101430_standard_comp_to_training_D1_s...</td>\n",
       "      <td>1.4</td>\n",
       "      <td>1.4</td>\n",
       "      <td>...</td>\n",
       "      <td>[0.4614, 0.2338, 0.3623, 0.04843, 0.1731, 0.18...</td>\n",
       "      <td>[0.3748, 0.2769, 0.2842, 0.3472, 0.4531, 0.200...</td>\n",
       "      <td>[0.10876, 0.1489, 0.1697, 0.5156, 0.584, 0.379...</td>\n",
       "      <td>[0.2188, 0.2308, 0.5767, 0.3372, 0.42, 0.287, ...</td>\n",
       "      <td>[0.812, 0.8457, 1.024, 0.7812, 0.8496, 0.3982,...</td>\n",
       "      <td>[0.2037, 0.199, 0.2454, 0.4004, 0.2162, 0.3481...</td>\n",
       "      <td>[0.329, 0.2783, 0.3787, 0.3135, 0.1807, 0.2905...</td>\n",
       "      <td>[0.343, 0.382, 0.6562, 0.3772, 0.4927, 0.4204,...</td>\n",
       "      <td>[0.3115, 0.3447, 1.015, 1.297, 0.367, 0.6484, ...</td>\n",
       "      <td>[0.3955, 0.2686, 0.2551, 0.3315, 0.238, 0.5864...</td>\n",
       "    </tr>\n",
       "    <tr>\n",
       "      <th>3</th>\n",
       "      <td>2</td>\n",
       "      <td>20230612_101430_standard_comp_to_training_D1_s...</td>\n",
       "      <td>[[980, 1180], [3376, 3575], [5672, 5871], [746...</td>\n",
       "      <td>[[490, 514], [518, 558], [558, 637], [638, 640...</td>\n",
       "      <td>[[33021, 33027], [33502, 33503], [33504, 33506...</td>\n",
       "      <td>20230612_101430_standard_comp_to_training_D1_s...</td>\n",
       "      <td>/scratch/back_up/reward_competition_extention/...</td>\n",
       "      <td>20230612_101430_standard_comp_to_training_D1_s...</td>\n",
       "      <td>1.4</td>\n",
       "      <td>1.4</td>\n",
       "      <td>...</td>\n",
       "      <td>[0.4614, 0.2338, 0.3623, 0.04843, 0.1731, 0.18...</td>\n",
       "      <td>[0.3748, 0.2769, 0.2842, 0.3472, 0.4531, 0.200...</td>\n",
       "      <td>[0.10876, 0.1489, 0.1697, 0.5156, 0.584, 0.379...</td>\n",
       "      <td>[0.2188, 0.2308, 0.5767, 0.3372, 0.42, 0.287, ...</td>\n",
       "      <td>[0.812, 0.8457, 1.024, 0.7812, 0.8496, 0.3982,...</td>\n",
       "      <td>[0.2037, 0.199, 0.2454, 0.4004, 0.2162, 0.3481...</td>\n",
       "      <td>[0.329, 0.2783, 0.3787, 0.3135, 0.1807, 0.2905...</td>\n",
       "      <td>[0.343, 0.382, 0.6562, 0.3772, 0.4927, 0.4204,...</td>\n",
       "      <td>[0.3115, 0.3447, 1.015, 1.297, 0.367, 0.6484, ...</td>\n",
       "      <td>[0.3955, 0.2686, 0.2551, 0.3315, 0.238, 0.5864...</td>\n",
       "    </tr>\n",
       "    <tr>\n",
       "      <th>4</th>\n",
       "      <td>2</td>\n",
       "      <td>20230612_112630_standard_comp_to_training_D1_s...</td>\n",
       "      <td>[[1125, 1324], [3519, 3720], [5815, 6014], [76...</td>\n",
       "      <td>[[192, 248], [389, 405], [916, 929], [929, 948...</td>\n",
       "      <td>[[33019, 33020], [33246, 33251], [33253, 33255...</td>\n",
       "      <td>20230612_112630_standard_comp_to_training_D1_s...</td>\n",
       "      <td>/scratch/back_up/reward_competition_extention/...</td>\n",
       "      <td>20230612_112630_standard_comp_to_training_D1_s...</td>\n",
       "      <td>1.1</td>\n",
       "      <td>1.1</td>\n",
       "      <td>...</td>\n",
       "      <td>[0.309, 0.2349, 0.869, 0.5825, 0.4934, 0.7783,...</td>\n",
       "      <td>[0.1487, 0.2375, 0.4482, 0.2793, 0.11414, 0.33...</td>\n",
       "      <td>[0.2218, 0.1489, 0.089, 0.1246, 0.406, 0.1459,...</td>\n",
       "      <td>[0.4075, 0.1495, 0.2252, 0.3342, 0.4531, 0.244...</td>\n",
       "      <td>[0.798, 0.2144, 0.47, 0.7363, 0.3118, 0.341, 0...</td>\n",
       "      <td>[0.1709, 0.1859, 0.2229, 0.1578, 0.1295, 0.377...</td>\n",
       "      <td>[0.2822, 0.3643, 0.4072, 0.2861, 0.446, 0.894,...</td>\n",
       "      <td>[0.3428, 0.1714, 0.2874, 0.3816, 0.4858, 0.149...</td>\n",
       "      <td>[0.5903, 0.3118, 0.1223, 0.5264, 0.4424, 0.162...</td>\n",
       "      <td>[0.1694, 0.2323, 0.2847, 0.3213, 0.2493, 0.366...</td>\n",
       "    </tr>\n",
       "  </tbody>\n",
       "</table>\n",
       "<p>5 rows × 134 columns</p>\n",
       "</div>"
      ],
      "text/plain": [
       "   cohort                                        session_dir  \\\n",
       "0       2  20230612_101430_standard_comp_to_training_D1_s...   \n",
       "1       2  20230612_101430_standard_comp_to_training_D1_s...   \n",
       "2       2  20230612_101430_standard_comp_to_training_D1_s...   \n",
       "3       2  20230612_101430_standard_comp_to_training_D1_s...   \n",
       "4       2  20230612_112630_standard_comp_to_training_D1_s...   \n",
       "\n",
       "                                         tone_frames  \\\n",
       "0  [[980, 1181], [3376, 3575], [5672, 5871], [746...   \n",
       "1  [[980, 1180], [3376, 3575], [5672, 5871], [746...   \n",
       "2  [[980, 1181], [3376, 3575], [5672, 5871], [746...   \n",
       "3  [[980, 1180], [3376, 3575], [5672, 5871], [746...   \n",
       "4  [[1125, 1324], [3519, 3720], [5815, 6014], [76...   \n",
       "\n",
       "                             box_1_port_entry_frames  \\\n",
       "0  [[490, 514], [518, 558], [558, 637], [638, 640...   \n",
       "1  [[490, 514], [518, 558], [558, 637], [638, 640...   \n",
       "2  [[490, 514], [518, 558], [558, 637], [638, 640...   \n",
       "3  [[490, 514], [518, 558], [558, 637], [638, 640...   \n",
       "4  [[192, 248], [389, 405], [916, 929], [929, 948...   \n",
       "\n",
       "                             box_2_port_entry_frames  \\\n",
       "0  [[33137, 33147], [33665, 33666], [33668, 33669...   \n",
       "1  [[33021, 33027], [33502, 33503], [33504, 33506...   \n",
       "2  [[33137, 33147], [33665, 33666], [33668, 33669...   \n",
       "3  [[33021, 33027], [33502, 33503], [33504, 33506...   \n",
       "4  [[33019, 33020], [33246, 33251], [33253, 33255...   \n",
       "\n",
       "                                          video_name  \\\n",
       "0  20230612_101430_standard_comp_to_training_D1_s...   \n",
       "1  20230612_101430_standard_comp_to_training_D1_s...   \n",
       "2  20230612_101430_standard_comp_to_training_D1_s...   \n",
       "3  20230612_101430_standard_comp_to_training_D1_s...   \n",
       "4  20230612_112630_standard_comp_to_training_D1_s...   \n",
       "\n",
       "                                        session_path  \\\n",
       "0  /scratch/back_up/reward_competition_extention/...   \n",
       "1  /scratch/back_up/reward_competition_extention/...   \n",
       "2  /scratch/back_up/reward_competition_extention/...   \n",
       "3  /scratch/back_up/reward_competition_extention/...   \n",
       "4  /scratch/back_up/reward_competition_extention/...   \n",
       "\n",
       "                                           recording current_subject subject  \\\n",
       "0  20230612_101430_standard_comp_to_training_D1_s...             1.3     1.3   \n",
       "1  20230612_101430_standard_comp_to_training_D1_s...             1.3     1.3   \n",
       "2  20230612_101430_standard_comp_to_training_D1_s...             1.4     1.4   \n",
       "3  20230612_101430_standard_comp_to_training_D1_s...             1.4     1.4   \n",
       "4  20230612_112630_standard_comp_to_training_D1_s...             1.1     1.1   \n",
       "\n",
       "   ...                           mPFC-to-MD_granger_theta  \\\n",
       "0  ...  [0.6147, 0.2046, 0.413, 0.2115, 0.07513, 0.379...   \n",
       "1  ...  [0.6147, 0.2046, 0.413, 0.2115, 0.07513, 0.379...   \n",
       "2  ...  [0.4614, 0.2338, 0.3623, 0.04843, 0.1731, 0.18...   \n",
       "3  ...  [0.4614, 0.2338, 0.3623, 0.04843, 0.1731, 0.18...   \n",
       "4  ...  [0.309, 0.2349, 0.869, 0.5825, 0.4934, 0.7783,...   \n",
       "\n",
       "                            mPFC-to-MD_granger_gamma  \\\n",
       "0  [0.4363, 0.1776, 0.1467, 0.321, 0.1622, 0.1405...   \n",
       "1  [0.4363, 0.1776, 0.1467, 0.321, 0.1622, 0.1405...   \n",
       "2  [0.3748, 0.2769, 0.2842, 0.3472, 0.4531, 0.200...   \n",
       "3  [0.3748, 0.2769, 0.2842, 0.3472, 0.4531, 0.200...   \n",
       "4  [0.1487, 0.2375, 0.4482, 0.2793, 0.11414, 0.33...   \n",
       "\n",
       "                            MD-to-vHPC_granger_theta  \\\n",
       "0  [0.2495, 0.4895, 0.5493, 0.5884, 0.781, 0.7417...   \n",
       "1  [0.2495, 0.4895, 0.5493, 0.5884, 0.781, 0.7417...   \n",
       "2  [0.10876, 0.1489, 0.1697, 0.5156, 0.584, 0.379...   \n",
       "3  [0.10876, 0.1489, 0.1697, 0.5156, 0.584, 0.379...   \n",
       "4  [0.2218, 0.1489, 0.089, 0.1246, 0.406, 0.1459,...   \n",
       "\n",
       "                            MD-to-vHPC_granger_gamma  \\\n",
       "0  [0.2996, 0.2195, 0.2698, 0.2234, 0.771, 0.303,...   \n",
       "1  [0.2996, 0.2195, 0.2698, 0.2234, 0.771, 0.303,...   \n",
       "2  [0.2188, 0.2308, 0.5767, 0.3372, 0.42, 0.287, ...   \n",
       "3  [0.2188, 0.2308, 0.5767, 0.3372, 0.42, 0.287, ...   \n",
       "4  [0.4075, 0.1495, 0.2252, 0.3342, 0.4531, 0.244...   \n",
       "\n",
       "                            vHPC-to-MD_granger_theta  \\\n",
       "0  [0.74, 0.83, 0.4905, 0.1929, 0.525, 0.2617, 0....   \n",
       "1  [0.74, 0.83, 0.4905, 0.1929, 0.525, 0.2617, 0....   \n",
       "2  [0.812, 0.8457, 1.024, 0.7812, 0.8496, 0.3982,...   \n",
       "3  [0.812, 0.8457, 1.024, 0.7812, 0.8496, 0.3982,...   \n",
       "4  [0.798, 0.2144, 0.47, 0.7363, 0.3118, 0.341, 0...   \n",
       "\n",
       "                            vHPC-to-MD_granger_gamma  \\\n",
       "0  [0.3894, 0.2795, 0.3699, 0.3743, 0.364, 0.2167...   \n",
       "1  [0.3894, 0.2795, 0.3699, 0.3743, 0.364, 0.2167...   \n",
       "2  [0.2037, 0.199, 0.2454, 0.4004, 0.2162, 0.3481...   \n",
       "3  [0.2037, 0.199, 0.2454, 0.4004, 0.2162, 0.3481...   \n",
       "4  [0.1709, 0.1859, 0.2229, 0.1578, 0.1295, 0.377...   \n",
       "\n",
       "                          mPFC-to-vHPC_granger_theta  \\\n",
       "0  [0.2915, 0.325, 0.513, 0.11694, 0.1794, 0.356,...   \n",
       "1  [0.2915, 0.325, 0.513, 0.11694, 0.1794, 0.356,...   \n",
       "2  [0.329, 0.2783, 0.3787, 0.3135, 0.1807, 0.2905...   \n",
       "3  [0.329, 0.2783, 0.3787, 0.3135, 0.1807, 0.2905...   \n",
       "4  [0.2822, 0.3643, 0.4072, 0.2861, 0.446, 0.894,...   \n",
       "\n",
       "                          mPFC-to-vHPC_granger_gamma  \\\n",
       "0  [0.4688, 0.501, 0.5137, 0.257, 0.1731, 0.2177,...   \n",
       "1  [0.4688, 0.501, 0.5137, 0.257, 0.1731, 0.2177,...   \n",
       "2  [0.343, 0.382, 0.6562, 0.3772, 0.4927, 0.4204,...   \n",
       "3  [0.343, 0.382, 0.6562, 0.3772, 0.4927, 0.4204,...   \n",
       "4  [0.3428, 0.1714, 0.2874, 0.3816, 0.4858, 0.149...   \n",
       "\n",
       "                          vHPC-to-mPFC_granger_theta  \\\n",
       "0  [0.384, 0.3965, 0.4026, 0.07916, 0.3306, 0.237...   \n",
       "1  [0.384, 0.3965, 0.4026, 0.07916, 0.3306, 0.237...   \n",
       "2  [0.3115, 0.3447, 1.015, 1.297, 0.367, 0.6484, ...   \n",
       "3  [0.3115, 0.3447, 1.015, 1.297, 0.367, 0.6484, ...   \n",
       "4  [0.5903, 0.3118, 0.1223, 0.5264, 0.4424, 0.162...   \n",
       "\n",
       "                          vHPC-to-mPFC_granger_gamma  \n",
       "0  [0.263, 0.1315, 0.1389, 0.5635, 0.398, 0.3162,...  \n",
       "1  [0.263, 0.1315, 0.1389, 0.5635, 0.398, 0.3162,...  \n",
       "2  [0.3955, 0.2686, 0.2551, 0.3315, 0.238, 0.5864...  \n",
       "3  [0.3955, 0.2686, 0.2551, 0.3315, 0.238, 0.5864...  \n",
       "4  [0.1694, 0.2323, 0.2847, 0.3213, 0.2493, 0.366...  \n",
       "\n",
       "[5 rows x 134 columns]"
      ]
     },
     "execution_count": 33,
     "metadata": {},
     "output_type": "execute_result"
    }
   ],
   "source": [
    "LFP_SPECTRAL_DF.head()"
   ]
  },
  {
   "cell_type": "code",
   "execution_count": 38,
   "metadata": {
    "tags": []
   },
   "outputs": [],
   "source": [
    "for col in LFP_SPECTRAL_DF.columns:\n",
    "    if \"lfp_trace\" in col and \"region\" not in col:\n",
    "        brain_region = col.split(\"_\")[0]\n",
    "        LFP_SPECTRAL_DF[\"{}_lfp_zscore\".format(brain_region)] = LFP_SPECTRAL_DF[col].apply(lambda x: stats.zscore(x.astype(int)).astype(np.float32))"
   ]
  },
  {
   "cell_type": "code",
   "execution_count": 39,
   "metadata": {
    "tags": []
   },
   "outputs": [
    {
     "data": {
      "text/html": [
       "<div>\n",
       "<style scoped>\n",
       "    .dataframe tbody tr th:only-of-type {\n",
       "        vertical-align: middle;\n",
       "    }\n",
       "\n",
       "    .dataframe tbody tr th {\n",
       "        vertical-align: top;\n",
       "    }\n",
       "\n",
       "    .dataframe thead th {\n",
       "        text-align: right;\n",
       "    }\n",
       "</style>\n",
       "<table border=\"1\" class=\"dataframe\">\n",
       "  <thead>\n",
       "    <tr style=\"text-align: right;\">\n",
       "      <th></th>\n",
       "      <th>cohort</th>\n",
       "      <th>session_dir</th>\n",
       "      <th>tone_frames</th>\n",
       "      <th>box_1_port_entry_frames</th>\n",
       "      <th>box_2_port_entry_frames</th>\n",
       "      <th>video_name</th>\n",
       "      <th>session_path</th>\n",
       "      <th>recording</th>\n",
       "      <th>current_subject</th>\n",
       "      <th>subject</th>\n",
       "      <th>...</th>\n",
       "      <th>vHPC-to-MD_granger_gamma</th>\n",
       "      <th>mPFC-to-vHPC_granger_theta</th>\n",
       "      <th>mPFC-to-vHPC_granger_gamma</th>\n",
       "      <th>vHPC-to-mPFC_granger_theta</th>\n",
       "      <th>vHPC-to-mPFC_granger_gamma</th>\n",
       "      <th>mPFC_lfp_zscore</th>\n",
       "      <th>MD_lfp_zscore</th>\n",
       "      <th>LH_lfp_zscore</th>\n",
       "      <th>BLA_lfp_zscore</th>\n",
       "      <th>vHPC_lfp_zscore</th>\n",
       "    </tr>\n",
       "  </thead>\n",
       "  <tbody>\n",
       "    <tr>\n",
       "      <th>0</th>\n",
       "      <td>2</td>\n",
       "      <td>20230612_101430_standard_comp_to_training_D1_s...</td>\n",
       "      <td>[[980, 1181], [3376, 3575], [5672, 5871], [746...</td>\n",
       "      <td>[[490, 514], [518, 558], [558, 637], [638, 640...</td>\n",
       "      <td>[[33137, 33147], [33665, 33666], [33668, 33669...</td>\n",
       "      <td>20230612_101430_standard_comp_to_training_D1_s...</td>\n",
       "      <td>/scratch/back_up/reward_competition_extention/...</td>\n",
       "      <td>20230612_101430_standard_comp_to_training_D1_s...</td>\n",
       "      <td>1.3</td>\n",
       "      <td>1.3</td>\n",
       "      <td>...</td>\n",
       "      <td>[0.3894, 0.2795, 0.3699, 0.3743, 0.364, 0.2167...</td>\n",
       "      <td>[0.2915, 0.325, 0.513, 0.11694, 0.1794, 0.356,...</td>\n",
       "      <td>[0.4688, 0.501, 0.5137, 0.257, 0.1731, 0.2177,...</td>\n",
       "      <td>[0.384, 0.3965, 0.4026, 0.07916, 0.3306, 0.237...</td>\n",
       "      <td>[0.263, 0.1315, 0.1389, 0.5635, 0.398, 0.3162,...</td>\n",
       "      <td>[0.1849693, 0.15769534, 0.1876967, 0.25666088,...</td>\n",
       "      <td>[0.12207468, 0.13095032, 0.20361966, 0.2679681...</td>\n",
       "      <td>[0.21378689, 0.22991511, 0.28531206, 0.3161660...</td>\n",
       "      <td>[0.15479894, 0.1536909, 0.20576839, 0.24233344...</td>\n",
       "      <td>[0.07216464, 0.11044584, 0.18987933, 0.2587855...</td>\n",
       "    </tr>\n",
       "    <tr>\n",
       "      <th>1</th>\n",
       "      <td>2</td>\n",
       "      <td>20230612_101430_standard_comp_to_training_D1_s...</td>\n",
       "      <td>[[980, 1180], [3376, 3575], [5672, 5871], [746...</td>\n",
       "      <td>[[490, 514], [518, 558], [558, 637], [638, 640...</td>\n",
       "      <td>[[33021, 33027], [33502, 33503], [33504, 33506...</td>\n",
       "      <td>20230612_101430_standard_comp_to_training_D1_s...</td>\n",
       "      <td>/scratch/back_up/reward_competition_extention/...</td>\n",
       "      <td>20230612_101430_standard_comp_to_training_D1_s...</td>\n",
       "      <td>1.3</td>\n",
       "      <td>1.3</td>\n",
       "      <td>...</td>\n",
       "      <td>[0.3894, 0.2795, 0.3699, 0.3743, 0.364, 0.2167...</td>\n",
       "      <td>[0.2915, 0.325, 0.513, 0.11694, 0.1794, 0.356,...</td>\n",
       "      <td>[0.4688, 0.501, 0.5137, 0.257, 0.1731, 0.2177,...</td>\n",
       "      <td>[0.384, 0.3965, 0.4026, 0.07916, 0.3306, 0.237...</td>\n",
       "      <td>[0.263, 0.1315, 0.1389, 0.5635, 0.398, 0.3162,...</td>\n",
       "      <td>[0.1849693, 0.15769534, 0.1876967, 0.25666088,...</td>\n",
       "      <td>[0.12207468, 0.13095032, 0.20361966, 0.2679681...</td>\n",
       "      <td>[0.21378689, 0.22991511, 0.28531206, 0.3161660...</td>\n",
       "      <td>[0.15479894, 0.1536909, 0.20576839, 0.24233344...</td>\n",
       "      <td>[0.07216464, 0.11044584, 0.18987933, 0.2587855...</td>\n",
       "    </tr>\n",
       "    <tr>\n",
       "      <th>2</th>\n",
       "      <td>2</td>\n",
       "      <td>20230612_101430_standard_comp_to_training_D1_s...</td>\n",
       "      <td>[[980, 1181], [3376, 3575], [5672, 5871], [746...</td>\n",
       "      <td>[[490, 514], [518, 558], [558, 637], [638, 640...</td>\n",
       "      <td>[[33137, 33147], [33665, 33666], [33668, 33669...</td>\n",
       "      <td>20230612_101430_standard_comp_to_training_D1_s...</td>\n",
       "      <td>/scratch/back_up/reward_competition_extention/...</td>\n",
       "      <td>20230612_101430_standard_comp_to_training_D1_s...</td>\n",
       "      <td>1.4</td>\n",
       "      <td>1.4</td>\n",
       "      <td>...</td>\n",
       "      <td>[0.2037, 0.199, 0.2454, 0.4004, 0.2162, 0.3481...</td>\n",
       "      <td>[0.329, 0.2783, 0.3787, 0.3135, 0.1807, 0.2905...</td>\n",
       "      <td>[0.343, 0.382, 0.6562, 0.3772, 0.4927, 0.4204,...</td>\n",
       "      <td>[0.3115, 0.3447, 1.015, 1.297, 0.367, 0.6484, ...</td>\n",
       "      <td>[0.3955, 0.2686, 0.2551, 0.3315, 0.238, 0.5864...</td>\n",
       "      <td>[0.2407101, 0.3648873, 0.41557187, 0.47639334,...</td>\n",
       "      <td>[0.68079615, 0.66690475, 0.59744775, 0.5326212...</td>\n",
       "      <td>[0.63482577, 0.56330836, 0.48732105, 0.5052004...</td>\n",
       "      <td>[0.7763766, 1.0399162, 1.0826523, 0.81199, 1.0...</td>\n",
       "      <td>[0.84525853, 1.1800785, 1.4270769, 1.182823, 1...</td>\n",
       "    </tr>\n",
       "    <tr>\n",
       "      <th>3</th>\n",
       "      <td>2</td>\n",
       "      <td>20230612_101430_standard_comp_to_training_D1_s...</td>\n",
       "      <td>[[980, 1180], [3376, 3575], [5672, 5871], [746...</td>\n",
       "      <td>[[490, 514], [518, 558], [558, 637], [638, 640...</td>\n",
       "      <td>[[33021, 33027], [33502, 33503], [33504, 33506...</td>\n",
       "      <td>20230612_101430_standard_comp_to_training_D1_s...</td>\n",
       "      <td>/scratch/back_up/reward_competition_extention/...</td>\n",
       "      <td>20230612_101430_standard_comp_to_training_D1_s...</td>\n",
       "      <td>1.4</td>\n",
       "      <td>1.4</td>\n",
       "      <td>...</td>\n",
       "      <td>[0.2037, 0.199, 0.2454, 0.4004, 0.2162, 0.3481...</td>\n",
       "      <td>[0.329, 0.2783, 0.3787, 0.3135, 0.1807, 0.2905...</td>\n",
       "      <td>[0.343, 0.382, 0.6562, 0.3772, 0.4927, 0.4204,...</td>\n",
       "      <td>[0.3115, 0.3447, 1.015, 1.297, 0.367, 0.6484, ...</td>\n",
       "      <td>[0.3955, 0.2686, 0.2551, 0.3315, 0.238, 0.5864...</td>\n",
       "      <td>[0.2407101, 0.3648873, 0.41557187, 0.47639334,...</td>\n",
       "      <td>[0.68079615, 0.66690475, 0.59744775, 0.5326212...</td>\n",
       "      <td>[0.63482577, 0.56330836, 0.48732105, 0.5052004...</td>\n",
       "      <td>[0.7763766, 1.0399162, 1.0826523, 0.81199, 1.0...</td>\n",
       "      <td>[0.84525853, 1.1800785, 1.4270769, 1.182823, 1...</td>\n",
       "    </tr>\n",
       "    <tr>\n",
       "      <th>4</th>\n",
       "      <td>2</td>\n",
       "      <td>20230612_112630_standard_comp_to_training_D1_s...</td>\n",
       "      <td>[[1125, 1324], [3519, 3720], [5815, 6014], [76...</td>\n",
       "      <td>[[192, 248], [389, 405], [916, 929], [929, 948...</td>\n",
       "      <td>[[33019, 33020], [33246, 33251], [33253, 33255...</td>\n",
       "      <td>20230612_112630_standard_comp_to_training_D1_s...</td>\n",
       "      <td>/scratch/back_up/reward_competition_extention/...</td>\n",
       "      <td>20230612_112630_standard_comp_to_training_D1_s...</td>\n",
       "      <td>1.1</td>\n",
       "      <td>1.1</td>\n",
       "      <td>...</td>\n",
       "      <td>[0.1709, 0.1859, 0.2229, 0.1578, 0.1295, 0.377...</td>\n",
       "      <td>[0.2822, 0.3643, 0.4072, 0.2861, 0.446, 0.894,...</td>\n",
       "      <td>[0.3428, 0.1714, 0.2874, 0.3816, 0.4858, 0.149...</td>\n",
       "      <td>[0.5903, 0.3118, 0.1223, 0.5264, 0.4424, 0.162...</td>\n",
       "      <td>[0.1694, 0.2323, 0.2847, 0.3213, 0.2493, 0.366...</td>\n",
       "      <td>[-0.050084814, 0.20598286, 0.7412221, 1.114734...</td>\n",
       "      <td>[0.09888099, 0.31088084, 0.4689824, 0.2821351,...</td>\n",
       "      <td>[0.046496566, 0.30094248, 0.54327196, 0.460476...</td>\n",
       "      <td>[0.019159852, 0.057463046, 0.14625682, 0.21067...</td>\n",
       "      <td>[0.23043215, 0.35233846, 0.3032786, -0.0446003...</td>\n",
       "    </tr>\n",
       "    <tr>\n",
       "      <th>...</th>\n",
       "      <td>...</td>\n",
       "      <td>...</td>\n",
       "      <td>...</td>\n",
       "      <td>...</td>\n",
       "      <td>...</td>\n",
       "      <td>...</td>\n",
       "      <td>...</td>\n",
       "      <td>...</td>\n",
       "      <td>...</td>\n",
       "      <td>...</td>\n",
       "      <td>...</td>\n",
       "      <td>...</td>\n",
       "      <td>...</td>\n",
       "      <td>...</td>\n",
       "      <td>...</td>\n",
       "      <td>...</td>\n",
       "      <td>...</td>\n",
       "      <td>...</td>\n",
       "      <td>...</td>\n",
       "      <td>...</td>\n",
       "      <td>...</td>\n",
       "    </tr>\n",
       "    <tr>\n",
       "      <th>56</th>\n",
       "      <td>2</td>\n",
       "      <td>20230629_111937_standard_comp_to_novel_agent_D...</td>\n",
       "      <td>[[1118, 1318], [3513, 3713], [5810, 6009], [76...</td>\n",
       "      <td>[[232, 236], [245, 248], [272, 282], [1237, 13...</td>\n",
       "      <td>[[101, 103], [106, 108], [989, 989], [990, 992...</td>\n",
       "      <td>20230629_111937_standard_comp_to_novel_agent_D...</td>\n",
       "      <td>/scratch/back_up/reward_competition_extention/...</td>\n",
       "      <td>20230629_111937_standard_comp_to_novel_agent_D...</td>\n",
       "      <td>1.4</td>\n",
       "      <td>1.4</td>\n",
       "      <td>...</td>\n",
       "      <td>[0.4666, 0.1703, 0.1569, 0.2426, 0.3635, 0.456...</td>\n",
       "      <td>[0.4294, 0.3652, 0.2388, 0.4417, 0.6694, 0.255...</td>\n",
       "      <td>[0.2448, 0.2163, 0.1505, 0.2502, 0.3606, 0.307...</td>\n",
       "      <td>[0.7793, 0.486, 0.0519, 0.3918, 0.3289, 0.4336...</td>\n",
       "      <td>[0.1888, 0.2925, 0.2415, 0.3652, 0.3223, 0.198...</td>\n",
       "      <td>[-0.4366594, -0.19578046, 0.12037315, 0.094564...</td>\n",
       "      <td>[-0.63682824, -0.39688876, -0.008838432, 0.085...</td>\n",
       "      <td>[-0.5850262, -0.36600593, 0.099037185, 0.22504...</td>\n",
       "      <td>[0.0076969513, 0.26657227, 0.20281939, -0.3980...</td>\n",
       "      <td>[0.22521159, 0.7720013, 1.1197597, 0.70201224,...</td>\n",
       "    </tr>\n",
       "    <tr>\n",
       "      <th>57</th>\n",
       "      <td>2</td>\n",
       "      <td>20230630_115506_standard_comp_to_novel_agent_D...</td>\n",
       "      <td>[[1071, 1271], [3466, 3666], [5762, 5961], [75...</td>\n",
       "      <td>[[618, 654], [1129, 1139], [1246, 1444], [1464...</td>\n",
       "      <td>[[939, 940], [1352, 1352], [1354, 1367], [1374...</td>\n",
       "      <td>20230630_115506_standard_comp_to_novel_agent_D...</td>\n",
       "      <td>/scratch/back_up/reward_competition_extention/...</td>\n",
       "      <td>20230630_115506_standard_comp_to_novel_agent_D...</td>\n",
       "      <td>1.2</td>\n",
       "      <td>1.2</td>\n",
       "      <td>...</td>\n",
       "      <td>[0.4224, 0.2468, 0.2903, 0.3499, 0.4565, 0.235...</td>\n",
       "      <td>[0.6016, 0.3164, 0.9375, 0.79, 0.1635, 0.4326,...</td>\n",
       "      <td>[0.354, 0.1697, 0.1843, 0.2393, 0.2356, 0.2137...</td>\n",
       "      <td>[0.1638, 0.285, 0.188, 0.3186, 0.19, 0.4302, 0...</td>\n",
       "      <td>[0.607, 0.1802, 0.2258, 0.37, 0.2852, 0.3372, ...</td>\n",
       "      <td>[-0.49328, -0.7153267, -0.84637064, -0.6934860...</td>\n",
       "      <td>[0.6690662, 0.5332721, 0.3295809, 0.13387765, ...</td>\n",
       "      <td>[0.4584639, 0.20012128, -0.04302472, -0.081016...</td>\n",
       "      <td>[0.23430452, 0.084122896, -0.030015143, -0.120...</td>\n",
       "      <td>[0.20363638, 0.039418638, -0.119325176, -0.169...</td>\n",
       "    </tr>\n",
       "    <tr>\n",
       "      <th>58</th>\n",
       "      <td>2</td>\n",
       "      <td>20230630_115506_standard_comp_to_novel_agent_D...</td>\n",
       "      <td>[[1072, 1271], [3467, 3667], [5763, 5962], [75...</td>\n",
       "      <td>[[618, 655], [1130, 1140], [1246, 1444], [1465...</td>\n",
       "      <td>[[939, 941], [1353, 1353], [1354, 1368], [1375...</td>\n",
       "      <td>20230630_115506_standard_comp_to_novel_agent_D...</td>\n",
       "      <td>/scratch/back_up/reward_competition_extention/...</td>\n",
       "      <td>20230630_115506_standard_comp_to_novel_agent_D...</td>\n",
       "      <td>1.2</td>\n",
       "      <td>1.2</td>\n",
       "      <td>...</td>\n",
       "      <td>[0.4224, 0.2468, 0.2903, 0.3499, 0.4565, 0.235...</td>\n",
       "      <td>[0.6016, 0.3164, 0.9375, 0.79, 0.1635, 0.4326,...</td>\n",
       "      <td>[0.354, 0.1697, 0.1843, 0.2393, 0.2356, 0.2137...</td>\n",
       "      <td>[0.1638, 0.285, 0.188, 0.3186, 0.19, 0.4302, 0...</td>\n",
       "      <td>[0.607, 0.1802, 0.2258, 0.37, 0.2852, 0.3372, ...</td>\n",
       "      <td>[-0.49328, -0.7153267, -0.84637064, -0.6934860...</td>\n",
       "      <td>[0.6690662, 0.5332721, 0.3295809, 0.13387765, ...</td>\n",
       "      <td>[0.4584639, 0.20012128, -0.04302472, -0.081016...</td>\n",
       "      <td>[0.23430452, 0.084122896, -0.030015143, -0.120...</td>\n",
       "      <td>[0.20363638, 0.039418638, -0.119325176, -0.169...</td>\n",
       "    </tr>\n",
       "    <tr>\n",
       "      <th>59</th>\n",
       "      <td>2</td>\n",
       "      <td>20230630_115506_standard_comp_to_novel_agent_D...</td>\n",
       "      <td>[[1071, 1271], [3466, 3666], [5762, 5961], [75...</td>\n",
       "      <td>[[618, 654], [1129, 1139], [1246, 1444], [1464...</td>\n",
       "      <td>[[939, 940], [1352, 1352], [1354, 1367], [1374...</td>\n",
       "      <td>20230630_115506_standard_comp_to_novel_agent_D...</td>\n",
       "      <td>/scratch/back_up/reward_competition_extention/...</td>\n",
       "      <td>20230630_115506_standard_comp_to_novel_agent_D...</td>\n",
       "      <td>1.4</td>\n",
       "      <td>1.4</td>\n",
       "      <td>...</td>\n",
       "      <td>[0.3762, 0.2291, 0.4624, 0.2163, 0.2184, 0.325...</td>\n",
       "      <td>[0.2341, 0.2192, 0.4844, 0.2073, 0.462, 0.4983...</td>\n",
       "      <td>[0.1816, 0.2852, 0.3308, 0.1654, 0.2091, 0.411...</td>\n",
       "      <td>[0.1938, 0.174, 0.651, 0.709, 0.2783, 0.1438, ...</td>\n",
       "      <td>[0.2068, 0.2106, 0.3315, 0.10535, 0.2096, 0.27...</td>\n",
       "      <td>[0.8177368, 0.6832489, 0.47075796, 0.13184841,...</td>\n",
       "      <td>[-0.7769989, -0.83018273, -0.7385883, -0.55244...</td>\n",
       "      <td>[-0.7467381, -0.9342056, -0.99259716, -0.86352...</td>\n",
       "      <td>[-0.76559377, -0.89986944, -0.9219147, -0.8577...</td>\n",
       "      <td>[-1.0537202, -1.1499155, -1.1141219, -0.901597...</td>\n",
       "    </tr>\n",
       "    <tr>\n",
       "      <th>60</th>\n",
       "      <td>2</td>\n",
       "      <td>20230630_115506_standard_comp_to_novel_agent_D...</td>\n",
       "      <td>[[1072, 1271], [3467, 3667], [5763, 5962], [75...</td>\n",
       "      <td>[[618, 655], [1130, 1140], [1246, 1444], [1465...</td>\n",
       "      <td>[[939, 941], [1353, 1353], [1354, 1368], [1375...</td>\n",
       "      <td>20230630_115506_standard_comp_to_novel_agent_D...</td>\n",
       "      <td>/scratch/back_up/reward_competition_extention/...</td>\n",
       "      <td>20230630_115506_standard_comp_to_novel_agent_D...</td>\n",
       "      <td>1.4</td>\n",
       "      <td>1.4</td>\n",
       "      <td>...</td>\n",
       "      <td>[0.3762, 0.2291, 0.4624, 0.2163, 0.2184, 0.325...</td>\n",
       "      <td>[0.2341, 0.2192, 0.4844, 0.2073, 0.462, 0.4983...</td>\n",
       "      <td>[0.1816, 0.2852, 0.3308, 0.1654, 0.2091, 0.411...</td>\n",
       "      <td>[0.1938, 0.174, 0.651, 0.709, 0.2783, 0.1438, ...</td>\n",
       "      <td>[0.2068, 0.2106, 0.3315, 0.10535, 0.2096, 0.27...</td>\n",
       "      <td>[0.8177368, 0.6832489, 0.47075796, 0.13184841,...</td>\n",
       "      <td>[-0.7769989, -0.83018273, -0.7385883, -0.55244...</td>\n",
       "      <td>[-0.7467381, -0.9342056, -0.99259716, -0.86352...</td>\n",
       "      <td>[-0.76559377, -0.89986944, -0.9219147, -0.8577...</td>\n",
       "      <td>[-1.0537202, -1.1499155, -1.1141219, -0.901597...</td>\n",
       "    </tr>\n",
       "  </tbody>\n",
       "</table>\n",
       "<p>61 rows × 139 columns</p>\n",
       "</div>"
      ],
      "text/plain": [
       "    cohort                                        session_dir  \\\n",
       "0        2  20230612_101430_standard_comp_to_training_D1_s...   \n",
       "1        2  20230612_101430_standard_comp_to_training_D1_s...   \n",
       "2        2  20230612_101430_standard_comp_to_training_D1_s...   \n",
       "3        2  20230612_101430_standard_comp_to_training_D1_s...   \n",
       "4        2  20230612_112630_standard_comp_to_training_D1_s...   \n",
       "..     ...                                                ...   \n",
       "56       2  20230629_111937_standard_comp_to_novel_agent_D...   \n",
       "57       2  20230630_115506_standard_comp_to_novel_agent_D...   \n",
       "58       2  20230630_115506_standard_comp_to_novel_agent_D...   \n",
       "59       2  20230630_115506_standard_comp_to_novel_agent_D...   \n",
       "60       2  20230630_115506_standard_comp_to_novel_agent_D...   \n",
       "\n",
       "                                          tone_frames  \\\n",
       "0   [[980, 1181], [3376, 3575], [5672, 5871], [746...   \n",
       "1   [[980, 1180], [3376, 3575], [5672, 5871], [746...   \n",
       "2   [[980, 1181], [3376, 3575], [5672, 5871], [746...   \n",
       "3   [[980, 1180], [3376, 3575], [5672, 5871], [746...   \n",
       "4   [[1125, 1324], [3519, 3720], [5815, 6014], [76...   \n",
       "..                                                ...   \n",
       "56  [[1118, 1318], [3513, 3713], [5810, 6009], [76...   \n",
       "57  [[1071, 1271], [3466, 3666], [5762, 5961], [75...   \n",
       "58  [[1072, 1271], [3467, 3667], [5763, 5962], [75...   \n",
       "59  [[1071, 1271], [3466, 3666], [5762, 5961], [75...   \n",
       "60  [[1072, 1271], [3467, 3667], [5763, 5962], [75...   \n",
       "\n",
       "                              box_1_port_entry_frames  \\\n",
       "0   [[490, 514], [518, 558], [558, 637], [638, 640...   \n",
       "1   [[490, 514], [518, 558], [558, 637], [638, 640...   \n",
       "2   [[490, 514], [518, 558], [558, 637], [638, 640...   \n",
       "3   [[490, 514], [518, 558], [558, 637], [638, 640...   \n",
       "4   [[192, 248], [389, 405], [916, 929], [929, 948...   \n",
       "..                                                ...   \n",
       "56  [[232, 236], [245, 248], [272, 282], [1237, 13...   \n",
       "57  [[618, 654], [1129, 1139], [1246, 1444], [1464...   \n",
       "58  [[618, 655], [1130, 1140], [1246, 1444], [1465...   \n",
       "59  [[618, 654], [1129, 1139], [1246, 1444], [1464...   \n",
       "60  [[618, 655], [1130, 1140], [1246, 1444], [1465...   \n",
       "\n",
       "                              box_2_port_entry_frames  \\\n",
       "0   [[33137, 33147], [33665, 33666], [33668, 33669...   \n",
       "1   [[33021, 33027], [33502, 33503], [33504, 33506...   \n",
       "2   [[33137, 33147], [33665, 33666], [33668, 33669...   \n",
       "3   [[33021, 33027], [33502, 33503], [33504, 33506...   \n",
       "4   [[33019, 33020], [33246, 33251], [33253, 33255...   \n",
       "..                                                ...   \n",
       "56  [[101, 103], [106, 108], [989, 989], [990, 992...   \n",
       "57  [[939, 940], [1352, 1352], [1354, 1367], [1374...   \n",
       "58  [[939, 941], [1353, 1353], [1354, 1368], [1375...   \n",
       "59  [[939, 940], [1352, 1352], [1354, 1367], [1374...   \n",
       "60  [[939, 941], [1353, 1353], [1354, 1368], [1375...   \n",
       "\n",
       "                                           video_name  \\\n",
       "0   20230612_101430_standard_comp_to_training_D1_s...   \n",
       "1   20230612_101430_standard_comp_to_training_D1_s...   \n",
       "2   20230612_101430_standard_comp_to_training_D1_s...   \n",
       "3   20230612_101430_standard_comp_to_training_D1_s...   \n",
       "4   20230612_112630_standard_comp_to_training_D1_s...   \n",
       "..                                                ...   \n",
       "56  20230629_111937_standard_comp_to_novel_agent_D...   \n",
       "57  20230630_115506_standard_comp_to_novel_agent_D...   \n",
       "58  20230630_115506_standard_comp_to_novel_agent_D...   \n",
       "59  20230630_115506_standard_comp_to_novel_agent_D...   \n",
       "60  20230630_115506_standard_comp_to_novel_agent_D...   \n",
       "\n",
       "                                         session_path  \\\n",
       "0   /scratch/back_up/reward_competition_extention/...   \n",
       "1   /scratch/back_up/reward_competition_extention/...   \n",
       "2   /scratch/back_up/reward_competition_extention/...   \n",
       "3   /scratch/back_up/reward_competition_extention/...   \n",
       "4   /scratch/back_up/reward_competition_extention/...   \n",
       "..                                                ...   \n",
       "56  /scratch/back_up/reward_competition_extention/...   \n",
       "57  /scratch/back_up/reward_competition_extention/...   \n",
       "58  /scratch/back_up/reward_competition_extention/...   \n",
       "59  /scratch/back_up/reward_competition_extention/...   \n",
       "60  /scratch/back_up/reward_competition_extention/...   \n",
       "\n",
       "                                            recording current_subject subject  \\\n",
       "0   20230612_101430_standard_comp_to_training_D1_s...             1.3     1.3   \n",
       "1   20230612_101430_standard_comp_to_training_D1_s...             1.3     1.3   \n",
       "2   20230612_101430_standard_comp_to_training_D1_s...             1.4     1.4   \n",
       "3   20230612_101430_standard_comp_to_training_D1_s...             1.4     1.4   \n",
       "4   20230612_112630_standard_comp_to_training_D1_s...             1.1     1.1   \n",
       "..                                                ...             ...     ...   \n",
       "56  20230629_111937_standard_comp_to_novel_agent_D...             1.4     1.4   \n",
       "57  20230630_115506_standard_comp_to_novel_agent_D...             1.2     1.2   \n",
       "58  20230630_115506_standard_comp_to_novel_agent_D...             1.2     1.2   \n",
       "59  20230630_115506_standard_comp_to_novel_agent_D...             1.4     1.4   \n",
       "60  20230630_115506_standard_comp_to_novel_agent_D...             1.4     1.4   \n",
       "\n",
       "    ...                           vHPC-to-MD_granger_gamma  \\\n",
       "0   ...  [0.3894, 0.2795, 0.3699, 0.3743, 0.364, 0.2167...   \n",
       "1   ...  [0.3894, 0.2795, 0.3699, 0.3743, 0.364, 0.2167...   \n",
       "2   ...  [0.2037, 0.199, 0.2454, 0.4004, 0.2162, 0.3481...   \n",
       "3   ...  [0.2037, 0.199, 0.2454, 0.4004, 0.2162, 0.3481...   \n",
       "4   ...  [0.1709, 0.1859, 0.2229, 0.1578, 0.1295, 0.377...   \n",
       "..  ...                                                ...   \n",
       "56  ...  [0.4666, 0.1703, 0.1569, 0.2426, 0.3635, 0.456...   \n",
       "57  ...  [0.4224, 0.2468, 0.2903, 0.3499, 0.4565, 0.235...   \n",
       "58  ...  [0.4224, 0.2468, 0.2903, 0.3499, 0.4565, 0.235...   \n",
       "59  ...  [0.3762, 0.2291, 0.4624, 0.2163, 0.2184, 0.325...   \n",
       "60  ...  [0.3762, 0.2291, 0.4624, 0.2163, 0.2184, 0.325...   \n",
       "\n",
       "                           mPFC-to-vHPC_granger_theta  \\\n",
       "0   [0.2915, 0.325, 0.513, 0.11694, 0.1794, 0.356,...   \n",
       "1   [0.2915, 0.325, 0.513, 0.11694, 0.1794, 0.356,...   \n",
       "2   [0.329, 0.2783, 0.3787, 0.3135, 0.1807, 0.2905...   \n",
       "3   [0.329, 0.2783, 0.3787, 0.3135, 0.1807, 0.2905...   \n",
       "4   [0.2822, 0.3643, 0.4072, 0.2861, 0.446, 0.894,...   \n",
       "..                                                ...   \n",
       "56  [0.4294, 0.3652, 0.2388, 0.4417, 0.6694, 0.255...   \n",
       "57  [0.6016, 0.3164, 0.9375, 0.79, 0.1635, 0.4326,...   \n",
       "58  [0.6016, 0.3164, 0.9375, 0.79, 0.1635, 0.4326,...   \n",
       "59  [0.2341, 0.2192, 0.4844, 0.2073, 0.462, 0.4983...   \n",
       "60  [0.2341, 0.2192, 0.4844, 0.2073, 0.462, 0.4983...   \n",
       "\n",
       "                           mPFC-to-vHPC_granger_gamma  \\\n",
       "0   [0.4688, 0.501, 0.5137, 0.257, 0.1731, 0.2177,...   \n",
       "1   [0.4688, 0.501, 0.5137, 0.257, 0.1731, 0.2177,...   \n",
       "2   [0.343, 0.382, 0.6562, 0.3772, 0.4927, 0.4204,...   \n",
       "3   [0.343, 0.382, 0.6562, 0.3772, 0.4927, 0.4204,...   \n",
       "4   [0.3428, 0.1714, 0.2874, 0.3816, 0.4858, 0.149...   \n",
       "..                                                ...   \n",
       "56  [0.2448, 0.2163, 0.1505, 0.2502, 0.3606, 0.307...   \n",
       "57  [0.354, 0.1697, 0.1843, 0.2393, 0.2356, 0.2137...   \n",
       "58  [0.354, 0.1697, 0.1843, 0.2393, 0.2356, 0.2137...   \n",
       "59  [0.1816, 0.2852, 0.3308, 0.1654, 0.2091, 0.411...   \n",
       "60  [0.1816, 0.2852, 0.3308, 0.1654, 0.2091, 0.411...   \n",
       "\n",
       "                           vHPC-to-mPFC_granger_theta  \\\n",
       "0   [0.384, 0.3965, 0.4026, 0.07916, 0.3306, 0.237...   \n",
       "1   [0.384, 0.3965, 0.4026, 0.07916, 0.3306, 0.237...   \n",
       "2   [0.3115, 0.3447, 1.015, 1.297, 0.367, 0.6484, ...   \n",
       "3   [0.3115, 0.3447, 1.015, 1.297, 0.367, 0.6484, ...   \n",
       "4   [0.5903, 0.3118, 0.1223, 0.5264, 0.4424, 0.162...   \n",
       "..                                                ...   \n",
       "56  [0.7793, 0.486, 0.0519, 0.3918, 0.3289, 0.4336...   \n",
       "57  [0.1638, 0.285, 0.188, 0.3186, 0.19, 0.4302, 0...   \n",
       "58  [0.1638, 0.285, 0.188, 0.3186, 0.19, 0.4302, 0...   \n",
       "59  [0.1938, 0.174, 0.651, 0.709, 0.2783, 0.1438, ...   \n",
       "60  [0.1938, 0.174, 0.651, 0.709, 0.2783, 0.1438, ...   \n",
       "\n",
       "                           vHPC-to-mPFC_granger_gamma  \\\n",
       "0   [0.263, 0.1315, 0.1389, 0.5635, 0.398, 0.3162,...   \n",
       "1   [0.263, 0.1315, 0.1389, 0.5635, 0.398, 0.3162,...   \n",
       "2   [0.3955, 0.2686, 0.2551, 0.3315, 0.238, 0.5864...   \n",
       "3   [0.3955, 0.2686, 0.2551, 0.3315, 0.238, 0.5864...   \n",
       "4   [0.1694, 0.2323, 0.2847, 0.3213, 0.2493, 0.366...   \n",
       "..                                                ...   \n",
       "56  [0.1888, 0.2925, 0.2415, 0.3652, 0.3223, 0.198...   \n",
       "57  [0.607, 0.1802, 0.2258, 0.37, 0.2852, 0.3372, ...   \n",
       "58  [0.607, 0.1802, 0.2258, 0.37, 0.2852, 0.3372, ...   \n",
       "59  [0.2068, 0.2106, 0.3315, 0.10535, 0.2096, 0.27...   \n",
       "60  [0.2068, 0.2106, 0.3315, 0.10535, 0.2096, 0.27...   \n",
       "\n",
       "                                      mPFC_lfp_zscore  \\\n",
       "0   [0.1849693, 0.15769534, 0.1876967, 0.25666088,...   \n",
       "1   [0.1849693, 0.15769534, 0.1876967, 0.25666088,...   \n",
       "2   [0.2407101, 0.3648873, 0.41557187, 0.47639334,...   \n",
       "3   [0.2407101, 0.3648873, 0.41557187, 0.47639334,...   \n",
       "4   [-0.050084814, 0.20598286, 0.7412221, 1.114734...   \n",
       "..                                                ...   \n",
       "56  [-0.4366594, -0.19578046, 0.12037315, 0.094564...   \n",
       "57  [-0.49328, -0.7153267, -0.84637064, -0.6934860...   \n",
       "58  [-0.49328, -0.7153267, -0.84637064, -0.6934860...   \n",
       "59  [0.8177368, 0.6832489, 0.47075796, 0.13184841,...   \n",
       "60  [0.8177368, 0.6832489, 0.47075796, 0.13184841,...   \n",
       "\n",
       "                                        MD_lfp_zscore  \\\n",
       "0   [0.12207468, 0.13095032, 0.20361966, 0.2679681...   \n",
       "1   [0.12207468, 0.13095032, 0.20361966, 0.2679681...   \n",
       "2   [0.68079615, 0.66690475, 0.59744775, 0.5326212...   \n",
       "3   [0.68079615, 0.66690475, 0.59744775, 0.5326212...   \n",
       "4   [0.09888099, 0.31088084, 0.4689824, 0.2821351,...   \n",
       "..                                                ...   \n",
       "56  [-0.63682824, -0.39688876, -0.008838432, 0.085...   \n",
       "57  [0.6690662, 0.5332721, 0.3295809, 0.13387765, ...   \n",
       "58  [0.6690662, 0.5332721, 0.3295809, 0.13387765, ...   \n",
       "59  [-0.7769989, -0.83018273, -0.7385883, -0.55244...   \n",
       "60  [-0.7769989, -0.83018273, -0.7385883, -0.55244...   \n",
       "\n",
       "                                        LH_lfp_zscore  \\\n",
       "0   [0.21378689, 0.22991511, 0.28531206, 0.3161660...   \n",
       "1   [0.21378689, 0.22991511, 0.28531206, 0.3161660...   \n",
       "2   [0.63482577, 0.56330836, 0.48732105, 0.5052004...   \n",
       "3   [0.63482577, 0.56330836, 0.48732105, 0.5052004...   \n",
       "4   [0.046496566, 0.30094248, 0.54327196, 0.460476...   \n",
       "..                                                ...   \n",
       "56  [-0.5850262, -0.36600593, 0.099037185, 0.22504...   \n",
       "57  [0.4584639, 0.20012128, -0.04302472, -0.081016...   \n",
       "58  [0.4584639, 0.20012128, -0.04302472, -0.081016...   \n",
       "59  [-0.7467381, -0.9342056, -0.99259716, -0.86352...   \n",
       "60  [-0.7467381, -0.9342056, -0.99259716, -0.86352...   \n",
       "\n",
       "                                       BLA_lfp_zscore  \\\n",
       "0   [0.15479894, 0.1536909, 0.20576839, 0.24233344...   \n",
       "1   [0.15479894, 0.1536909, 0.20576839, 0.24233344...   \n",
       "2   [0.7763766, 1.0399162, 1.0826523, 0.81199, 1.0...   \n",
       "3   [0.7763766, 1.0399162, 1.0826523, 0.81199, 1.0...   \n",
       "4   [0.019159852, 0.057463046, 0.14625682, 0.21067...   \n",
       "..                                                ...   \n",
       "56  [0.0076969513, 0.26657227, 0.20281939, -0.3980...   \n",
       "57  [0.23430452, 0.084122896, -0.030015143, -0.120...   \n",
       "58  [0.23430452, 0.084122896, -0.030015143, -0.120...   \n",
       "59  [-0.76559377, -0.89986944, -0.9219147, -0.8577...   \n",
       "60  [-0.76559377, -0.89986944, -0.9219147, -0.8577...   \n",
       "\n",
       "                                      vHPC_lfp_zscore  \n",
       "0   [0.07216464, 0.11044584, 0.18987933, 0.2587855...  \n",
       "1   [0.07216464, 0.11044584, 0.18987933, 0.2587855...  \n",
       "2   [0.84525853, 1.1800785, 1.4270769, 1.182823, 1...  \n",
       "3   [0.84525853, 1.1800785, 1.4270769, 1.182823, 1...  \n",
       "4   [0.23043215, 0.35233846, 0.3032786, -0.0446003...  \n",
       "..                                                ...  \n",
       "56  [0.22521159, 0.7720013, 1.1197597, 0.70201224,...  \n",
       "57  [0.20363638, 0.039418638, -0.119325176, -0.169...  \n",
       "58  [0.20363638, 0.039418638, -0.119325176, -0.169...  \n",
       "59  [-1.0537202, -1.1499155, -1.1141219, -0.901597...  \n",
       "60  [-1.0537202, -1.1499155, -1.1141219, -0.901597...  \n",
       "\n",
       "[61 rows x 139 columns]"
      ]
     },
     "execution_count": 39,
     "metadata": {},
     "output_type": "execute_result"
    }
   ],
   "source": [
    "LFP_SPECTRAL_DF"
   ]
  },
  {
   "cell_type": "code",
   "execution_count": 40,
   "metadata": {
    "tags": []
   },
   "outputs": [],
   "source": [
    "LFP_SPECTRAL_DF.to_pickle(os.path.join(OUTPUT_DIR, FULL_LFP_TRACES_PKL))"
   ]
  },
  {
   "cell_type": "code",
   "execution_count": null,
   "metadata": {},
   "outputs": [],
   "source": []
  }
 ],
 "metadata": {
  "deepnote": {},
  "deepnote_execution_queue": [],
  "deepnote_notebook_id": "cf8fe3695d074ee7887fdf6459cbf5ce",
  "kernelspec": {
   "display_name": "spike_interface_0_99_0",
   "language": "python",
   "name": "spike_interface_0_99_0"
  },
  "language_info": {
   "codemirror_mode": {
    "name": "ipython",
    "version": 3
   },
   "file_extension": ".py",
   "mimetype": "text/x-python",
   "name": "python",
   "nbconvert_exporter": "python",
   "pygments_lexer": "ipython3",
   "version": "3.10.13"
  }
 },
 "nbformat": 4,
 "nbformat_minor": 4
}
