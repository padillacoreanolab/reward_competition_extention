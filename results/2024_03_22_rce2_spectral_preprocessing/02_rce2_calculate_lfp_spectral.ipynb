{
 "cells": [
  {
   "cell_type": "markdown",
   "metadata": {
    "cell_id": "c3a02adc9e884466bc8c79db549cc3d2",
    "deepnote_cell_type": "text-cell-h1",
    "formattedRanges": [
     {
      "fromCodePoint": 0,
      "marks": {
       "bold": true,
       "underline": true
      },
      "toCodePoint": 17,
      "type": "marks"
     }
    ]
   },
   "source": [
    "# All oscillation analysis"
   ]
  },
  {
   "cell_type": "markdown",
   "metadata": {
    "cell_id": "4546bee655b14a5dbf393161f1228e60",
    "deepnote_cell_type": "text-cell-p",
    "formattedRanges": []
   },
   "source": [
    "Brief 1-2 sentence description of notebook."
   ]
  },
  {
   "cell_type": "code",
   "execution_count": 1,
   "metadata": {
    "tags": []
   },
   "outputs": [],
   "source": [
    "import warnings\n",
    "warnings.filterwarnings('ignore')"
   ]
  },
  {
   "cell_type": "code",
   "execution_count": 2,
   "metadata": {
    "tags": []
   },
   "outputs": [],
   "source": [
    "import os\n",
    "import collections\n",
    "import itertools\n",
    "from collections import defaultdict\n",
    "from itertools import combinations"
   ]
  },
  {
   "cell_type": "code",
   "execution_count": 3,
   "metadata": {
    "tags": []
   },
   "outputs": [],
   "source": [
    "# os.environ[\"SPECTRAL_CONNECTIVITY_ENABLE_GPU\"] = \"true\"\n",
    "# import cupy as cp"
   ]
  },
  {
   "cell_type": "code",
   "execution_count": 4,
   "metadata": {
    "cell_id": "03b495cefa6a4798a44c7f2e4c6a3ea7",
    "deepnote_cell_type": "code",
    "deepnote_to_be_reexecuted": false,
    "execution_millis": 21,
    "execution_start": 1691424003626,
    "source_hash": null,
    "tags": []
   },
   "outputs": [],
   "source": [
    "# Imports of all used packages and libraries\n",
    "import numpy as np\n",
    "import pandas as pd\n",
    "from scipy import stats\n",
    "from scipy.stats import mannwhitneyu\n"
   ]
  },
  {
   "cell_type": "code",
   "execution_count": 5,
   "metadata": {
    "tags": []
   },
   "outputs": [],
   "source": [
    "import matplotlib\n",
    "import matplotlib.colors as mcolors\n",
    "import matplotlib.pyplot as plt\n",
    "import matplotlib.cm as cm\n",
    "import seaborn as sns\n",
    "import colorsys"
   ]
  },
  {
   "cell_type": "code",
   "execution_count": 6,
   "metadata": {
    "tags": []
   },
   "outputs": [],
   "source": [
    "from sklearn.metrics import confusion_matrix"
   ]
  },
  {
   "cell_type": "code",
   "execution_count": 7,
   "metadata": {
    "tags": []
   },
   "outputs": [],
   "source": [
    "from spectral_connectivity import Multitaper, Connectivity\n",
    "import spectral_connectivity"
   ]
  },
  {
   "cell_type": "code",
   "execution_count": 8,
   "metadata": {
    "tags": []
   },
   "outputs": [],
   "source": [
    "FONTSIZE = 20"
   ]
  },
  {
   "cell_type": "code",
   "execution_count": 9,
   "metadata": {
    "tags": []
   },
   "outputs": [],
   "source": [
    "font = {'weight' : 'medium',\n",
    "        'size'   : 20}\n",
    "\n",
    "matplotlib.rc('font', **font)"
   ]
  },
  {
   "cell_type": "markdown",
   "metadata": {},
   "source": [
    "# Functions"
   ]
  },
  {
   "cell_type": "code",
   "execution_count": 10,
   "metadata": {
    "tags": []
   },
   "outputs": [],
   "source": [
    "def generate_pairs(lst):\n",
    "    \"\"\"\n",
    "    Generates all unique pairs from a list.\n",
    "\n",
    "    Parameters:\n",
    "    - lst (list): The list to generate pairs from.\n",
    "\n",
    "    Returns:\n",
    "    - list: A list of tuples, each containing a unique pair from the input list.\n",
    "    \"\"\"\n",
    "    n = len(lst)\n",
    "    return [(lst[i], lst[j]) for i in range(n) for j in range(i+1, n)]"
   ]
  },
  {
   "cell_type": "code",
   "execution_count": 63,
   "metadata": {
    "tags": []
   },
   "outputs": [],
   "source": [
    "def update_array_by_mask(array, mask, value=np.nan):\n",
    "    \"\"\"\n",
    "    \"\"\"\n",
    "    result = array.copy()\n",
    "    result[mask] = value\n",
    "    return result"
   ]
  },
  {
   "cell_type": "markdown",
   "metadata": {
    "cell_id": "d290bac2c17940bfbc0f9296beaf70e5",
    "deepnote_cell_type": "text-cell-h2",
    "formattedRanges": []
   },
   "source": [
    "## Inputs & Data"
   ]
  },
  {
   "cell_type": "markdown",
   "metadata": {
    "cell_id": "e528ce19c608425292151930d380f49f",
    "deepnote_cell_type": "text-cell-p",
    "formattedRanges": []
   },
   "source": [
    "Explanation of each input and where it comes from."
   ]
  },
  {
   "cell_type": "code",
   "execution_count": 12,
   "metadata": {
    "cell_id": "6cf83a5811054461a718a71673d09aab",
    "deepnote_cell_type": "code",
    "deepnote_to_be_reexecuted": false,
    "execution_millis": 373,
    "execution_start": 1691424003628,
    "source_hash": null,
    "tags": []
   },
   "outputs": [],
   "source": [
    "# Inputs and Required data loading\n",
    "# input varaible names are in all caps snake case\n",
    "# Whenever an input changes or is used for processing \n",
    "# the vairables are all lower in snake case\n",
    "OUTPUT_DIR = r\"./proc\" # where data is saved should always be shown in the inputs"
   ]
  },
  {
   "cell_type": "code",
   "execution_count": 13,
   "metadata": {
    "tags": []
   },
   "outputs": [],
   "source": [
    "TIME_HALFBANDWIDTH_PRODUCT = 2\n",
    "TIME_WINDOW_DURATION = 1\n",
    "TIME_WINDOW_STEP = 0.5\n",
    "RESAMPLE_RATE=1000"
   ]
  },
  {
   "cell_type": "code",
   "execution_count": 14,
   "metadata": {
    "tags": []
   },
   "outputs": [],
   "source": [
    "zscore_threshold = 4\n",
    "VOLTAGE_SCALING_VALUE = 0.195"
   ]
  },
  {
   "cell_type": "code",
   "execution_count": 15,
   "metadata": {
    "tags": []
   },
   "outputs": [],
   "source": [
    "BAND_TO_FREQ = {\"theta\": (4,12), \"gamma\": (30,51)}"
   ]
  },
  {
   "cell_type": "code",
   "execution_count": 16,
   "metadata": {
    "tags": []
   },
   "outputs": [],
   "source": [
    "LFP_TRACES_DF = pd.read_pickle(\"./proc/rce_pilot_2_01_lfp_traces_and_frames.pkl\")"
   ]
  },
  {
   "cell_type": "code",
   "execution_count": 17,
   "metadata": {
    "tags": []
   },
   "outputs": [
    {
     "data": {
      "text/plain": [
       "(61, 23)"
      ]
     },
     "execution_count": 17,
     "metadata": {},
     "output_type": "execute_result"
    }
   ],
   "source": [
    "LFP_TRACES_DF.shape"
   ]
  },
  {
   "cell_type": "markdown",
   "metadata": {},
   "source": [
    "## Preprocessing"
   ]
  },
  {
   "cell_type": "code",
   "execution_count": 18,
   "metadata": {
    "tags": []
   },
   "outputs": [],
   "source": [
    "original_trace_columns = [col for col in LFP_TRACES_DF.columns if \"trace\" in col]"
   ]
  },
  {
   "cell_type": "code",
   "execution_count": 19,
   "metadata": {
    "tags": []
   },
   "outputs": [
    {
     "data": {
      "text/plain": [
       "['mPFC_lfp_trace',\n",
       " 'MD_lfp_trace',\n",
       " 'LH_lfp_trace',\n",
       " 'BLA_lfp_trace',\n",
       " 'vHPC_lfp_trace']"
      ]
     },
     "execution_count": 19,
     "metadata": {},
     "output_type": "execute_result"
    }
   ],
   "source": [
    "original_trace_columns"
   ]
  },
  {
   "cell_type": "code",
   "execution_count": 20,
   "metadata": {
    "tags": []
   },
   "outputs": [
    {
     "name": "stdout",
     "output_type": "stream",
     "text": [
      "mPFC_lfp_trace\n",
      "MD_lfp_trace\n",
      "LH_lfp_trace\n",
      "BLA_lfp_trace\n",
      "vHPC_lfp_trace\n"
     ]
    }
   ],
   "source": [
    "for col in original_trace_columns:\n",
    "    print(col)\n",
    "    LFP_TRACES_DF[col] = LFP_TRACES_DF[col].apply(lambda x: x.astype(np.float32) * VOLTAGE_SCALING_VALUE)"
   ]
  },
  {
   "cell_type": "code",
   "execution_count": 21,
   "metadata": {
    "tags": []
   },
   "outputs": [
    {
     "data": {
      "text/html": [
       "<div>\n",
       "<style scoped>\n",
       "    .dataframe tbody tr th:only-of-type {\n",
       "        vertical-align: middle;\n",
       "    }\n",
       "\n",
       "    .dataframe tbody tr th {\n",
       "        vertical-align: top;\n",
       "    }\n",
       "\n",
       "    .dataframe thead th {\n",
       "        text-align: right;\n",
       "    }\n",
       "</style>\n",
       "<table border=\"1\" class=\"dataframe\">\n",
       "  <thead>\n",
       "    <tr style=\"text-align: right;\">\n",
       "      <th></th>\n",
       "      <th>cohort</th>\n",
       "      <th>session_dir</th>\n",
       "      <th>tone_frames</th>\n",
       "      <th>box_1_port_entry_frames</th>\n",
       "      <th>box_2_port_entry_frames</th>\n",
       "      <th>video_name</th>\n",
       "      <th>session_path</th>\n",
       "      <th>recording</th>\n",
       "      <th>current_subject</th>\n",
       "      <th>subject</th>\n",
       "      <th>...</th>\n",
       "      <th>video_timestamps</th>\n",
       "      <th>tone_timestamps</th>\n",
       "      <th>box_1_port_entry_timestamps</th>\n",
       "      <th>box_2_port_entry_timestamps</th>\n",
       "      <th>lfp_timestamps</th>\n",
       "      <th>mPFC_lfp_trace</th>\n",
       "      <th>MD_lfp_trace</th>\n",
       "      <th>LH_lfp_trace</th>\n",
       "      <th>BLA_lfp_trace</th>\n",
       "      <th>vHPC_lfp_trace</th>\n",
       "    </tr>\n",
       "  </thead>\n",
       "  <tbody>\n",
       "    <tr>\n",
       "      <th>0</th>\n",
       "      <td>2</td>\n",
       "      <td>20230612_101430_standard_comp_to_training_D1_s...</td>\n",
       "      <td>[[980, 1181], [3376, 3575], [5672, 5871], [746...</td>\n",
       "      <td>[[490, 514], [518, 558], [558, 637], [638, 640...</td>\n",
       "      <td>[[33137, 33147], [33665, 33666], [33668, 33669...</td>\n",
       "      <td>20230612_101430_standard_comp_to_training_D1_s...</td>\n",
       "      <td>/scratch/back_up/reward_competition_extention/...</td>\n",
       "      <td>20230612_101430_standard_comp_to_training_D1_s...</td>\n",
       "      <td>1.3</td>\n",
       "      <td>1.3</td>\n",
       "      <td>...</td>\n",
       "      <td>[-2, 1384, 2770, 4156, 4156, 5542, 6928, 6928,...</td>\n",
       "      <td>[[982229, 1182226], [3382227, 3582224], [56822...</td>\n",
       "      <td>[[491029, 515227], [519426, 558629], [559427, ...</td>\n",
       "      <td>[[33082200, 33090003], [33565003, 33567000], [...</td>\n",
       "      <td>[0, 20, 40, 60, 80, 100, 120, 140, 160, 180, 2...</td>\n",
       "      <td>[95.354996, 82.09499, 97.5, 132.405, 123.825, ...</td>\n",
       "      <td>[46.019997, 49.335, 75.27, 97.89, 77.61, 40.55...</td>\n",
       "      <td>[61.425, 66.104996, 81.899994, 90.479996, 71.5...</td>\n",
       "      <td>[54.6, 54.405, 73.32, 86.189995, 59.085, 19.89...</td>\n",
       "      <td>[55.574997, 79.365, 128.11499, 170.43, 189.344...</td>\n",
       "    </tr>\n",
       "    <tr>\n",
       "      <th>1</th>\n",
       "      <td>2</td>\n",
       "      <td>20230612_101430_standard_comp_to_training_D1_s...</td>\n",
       "      <td>[[980, 1180], [3376, 3575], [5672, 5871], [746...</td>\n",
       "      <td>[[490, 514], [518, 558], [558, 637], [638, 640...</td>\n",
       "      <td>[[33021, 33027], [33502, 33503], [33504, 33506...</td>\n",
       "      <td>20230612_101430_standard_comp_to_training_D1_s...</td>\n",
       "      <td>/scratch/back_up/reward_competition_extention/...</td>\n",
       "      <td>20230612_101430_standard_comp_to_training_D1_s...</td>\n",
       "      <td>1.3</td>\n",
       "      <td>1.3</td>\n",
       "      <td>...</td>\n",
       "      <td>[-2, 1384, 2770, 4156, 4156, 5542, 6928, 6928,...</td>\n",
       "      <td>[[982229, 1182226], [3382227, 3582224], [56822...</td>\n",
       "      <td>[[491029, 515227], [519426, 558629], [559427, ...</td>\n",
       "      <td>[[33082200, 33090003], [33565003, 33567000], [...</td>\n",
       "      <td>[0, 20, 40, 60, 80, 100, 120, 140, 160, 180, 2...</td>\n",
       "      <td>[95.354996, 82.09499, 97.5, 132.405, 123.825, ...</td>\n",
       "      <td>[46.019997, 49.335, 75.27, 97.89, 77.61, 40.55...</td>\n",
       "      <td>[61.425, 66.104996, 81.899994, 90.479996, 71.5...</td>\n",
       "      <td>[54.6, 54.405, 73.32, 86.189995, 59.085, 19.89...</td>\n",
       "      <td>[55.574997, 79.365, 128.11499, 170.43, 189.344...</td>\n",
       "    </tr>\n",
       "    <tr>\n",
       "      <th>2</th>\n",
       "      <td>2</td>\n",
       "      <td>20230612_101430_standard_comp_to_training_D1_s...</td>\n",
       "      <td>[[980, 1181], [3376, 3575], [5672, 5871], [746...</td>\n",
       "      <td>[[490, 514], [518, 558], [558, 637], [638, 640...</td>\n",
       "      <td>[[33137, 33147], [33665, 33666], [33668, 33669...</td>\n",
       "      <td>20230612_101430_standard_comp_to_training_D1_s...</td>\n",
       "      <td>/scratch/back_up/reward_competition_extention/...</td>\n",
       "      <td>20230612_101430_standard_comp_to_training_D1_s...</td>\n",
       "      <td>1.4</td>\n",
       "      <td>1.4</td>\n",
       "      <td>...</td>\n",
       "      <td>[-2, 1384, 2770, 4156, 4156, 5542, 6928, 6928,...</td>\n",
       "      <td>[[982229, 1182226], [3382227, 3582224], [56822...</td>\n",
       "      <td>[[491029, 515227], [519426, 558629], [559427, ...</td>\n",
       "      <td>[[33082200, 33090003], [33565003, 33567000], [...</td>\n",
       "      <td>[0, 20, 40, 60, 80, 100, 120, 140, 160, 180, 2...</td>\n",
       "      <td>[19.89, 29.445, 33.149998, 37.829998, 45.43499...</td>\n",
       "      <td>[29.445, 28.859999, 25.935, 23.205, 21.449999,...</td>\n",
       "      <td>[28.47, 25.349998, 22.035, 22.814999, 23.00999...</td>\n",
       "      <td>[68.64, 90.284996, 93.795, 71.564995, 90.09, 1...</td>\n",
       "      <td>[62.984997, 86.774994, 104.13, 86.96999, 75.65...</td>\n",
       "    </tr>\n",
       "    <tr>\n",
       "      <th>3</th>\n",
       "      <td>2</td>\n",
       "      <td>20230612_101430_standard_comp_to_training_D1_s...</td>\n",
       "      <td>[[980, 1180], [3376, 3575], [5672, 5871], [746...</td>\n",
       "      <td>[[490, 514], [518, 558], [558, 637], [638, 640...</td>\n",
       "      <td>[[33021, 33027], [33502, 33503], [33504, 33506...</td>\n",
       "      <td>20230612_101430_standard_comp_to_training_D1_s...</td>\n",
       "      <td>/scratch/back_up/reward_competition_extention/...</td>\n",
       "      <td>20230612_101430_standard_comp_to_training_D1_s...</td>\n",
       "      <td>1.4</td>\n",
       "      <td>1.4</td>\n",
       "      <td>...</td>\n",
       "      <td>[-2, 1384, 2770, 4156, 4156, 5542, 6928, 6928,...</td>\n",
       "      <td>[[982229, 1182226], [3382227, 3582224], [56822...</td>\n",
       "      <td>[[491029, 515227], [519426, 558629], [559427, ...</td>\n",
       "      <td>[[33082200, 33090003], [33565003, 33567000], [...</td>\n",
       "      <td>[0, 20, 40, 60, 80, 100, 120, 140, 160, 180, 2...</td>\n",
       "      <td>[19.89, 29.445, 33.149998, 37.829998, 45.43499...</td>\n",
       "      <td>[29.445, 28.859999, 25.935, 23.205, 21.449999,...</td>\n",
       "      <td>[28.47, 25.349998, 22.035, 22.814999, 23.00999...</td>\n",
       "      <td>[68.64, 90.284996, 93.795, 71.564995, 90.09, 1...</td>\n",
       "      <td>[62.984997, 86.774994, 104.13, 86.96999, 75.65...</td>\n",
       "    </tr>\n",
       "    <tr>\n",
       "      <th>4</th>\n",
       "      <td>2</td>\n",
       "      <td>20230612_112630_standard_comp_to_training_D1_s...</td>\n",
       "      <td>[[1125, 1324], [3519, 3720], [5815, 6014], [76...</td>\n",
       "      <td>[[192, 248], [389, 405], [916, 929], [929, 948...</td>\n",
       "      <td>[[33019, 33020], [33246, 33251], [33253, 33255...</td>\n",
       "      <td>20230612_112630_standard_comp_to_training_D1_s...</td>\n",
       "      <td>/scratch/back_up/reward_competition_extention/...</td>\n",
       "      <td>20230612_112630_standard_comp_to_training_D1_s...</td>\n",
       "      <td>1.1</td>\n",
       "      <td>1.1</td>\n",
       "      <td>...</td>\n",
       "      <td>[1384, 2444, 2769, 4155, 5541, 6708, 6927, 831...</td>\n",
       "      <td>[[1126742, 1326741], [3526740, 3726740], [5826...</td>\n",
       "      <td>[[192745, 249350], [389747, 407142], [917544, ...</td>\n",
       "      <td>[[33037711, 33038706], [33264908, 33270313], [...</td>\n",
       "      <td>[0, 20, 40, 60, 80, 100, 120, 140, 160, 180, 2...</td>\n",
       "      <td>[-4.875, 21.255, 75.465, 113.295, 100.619995, ...</td>\n",
       "      <td>[13.65, 36.66, 53.82, 33.735, 3.12, -15.794999...</td>\n",
       "      <td>[7.995, 32.76, 56.159996, 48.164997, 29.445, 3...</td>\n",
       "      <td>[4.4849997, 8.969999, 19.109999, 26.324999, 16...</td>\n",
       "      <td>[34.32, 50.504997, 44.265, -1.365, -31.784998,...</td>\n",
       "    </tr>\n",
       "  </tbody>\n",
       "</table>\n",
       "<p>5 rows × 23 columns</p>\n",
       "</div>"
      ],
      "text/plain": [
       "   cohort                                        session_dir  \\\n",
       "0       2  20230612_101430_standard_comp_to_training_D1_s...   \n",
       "1       2  20230612_101430_standard_comp_to_training_D1_s...   \n",
       "2       2  20230612_101430_standard_comp_to_training_D1_s...   \n",
       "3       2  20230612_101430_standard_comp_to_training_D1_s...   \n",
       "4       2  20230612_112630_standard_comp_to_training_D1_s...   \n",
       "\n",
       "                                         tone_frames  \\\n",
       "0  [[980, 1181], [3376, 3575], [5672, 5871], [746...   \n",
       "1  [[980, 1180], [3376, 3575], [5672, 5871], [746...   \n",
       "2  [[980, 1181], [3376, 3575], [5672, 5871], [746...   \n",
       "3  [[980, 1180], [3376, 3575], [5672, 5871], [746...   \n",
       "4  [[1125, 1324], [3519, 3720], [5815, 6014], [76...   \n",
       "\n",
       "                             box_1_port_entry_frames  \\\n",
       "0  [[490, 514], [518, 558], [558, 637], [638, 640...   \n",
       "1  [[490, 514], [518, 558], [558, 637], [638, 640...   \n",
       "2  [[490, 514], [518, 558], [558, 637], [638, 640...   \n",
       "3  [[490, 514], [518, 558], [558, 637], [638, 640...   \n",
       "4  [[192, 248], [389, 405], [916, 929], [929, 948...   \n",
       "\n",
       "                             box_2_port_entry_frames  \\\n",
       "0  [[33137, 33147], [33665, 33666], [33668, 33669...   \n",
       "1  [[33021, 33027], [33502, 33503], [33504, 33506...   \n",
       "2  [[33137, 33147], [33665, 33666], [33668, 33669...   \n",
       "3  [[33021, 33027], [33502, 33503], [33504, 33506...   \n",
       "4  [[33019, 33020], [33246, 33251], [33253, 33255...   \n",
       "\n",
       "                                          video_name  \\\n",
       "0  20230612_101430_standard_comp_to_training_D1_s...   \n",
       "1  20230612_101430_standard_comp_to_training_D1_s...   \n",
       "2  20230612_101430_standard_comp_to_training_D1_s...   \n",
       "3  20230612_101430_standard_comp_to_training_D1_s...   \n",
       "4  20230612_112630_standard_comp_to_training_D1_s...   \n",
       "\n",
       "                                        session_path  \\\n",
       "0  /scratch/back_up/reward_competition_extention/...   \n",
       "1  /scratch/back_up/reward_competition_extention/...   \n",
       "2  /scratch/back_up/reward_competition_extention/...   \n",
       "3  /scratch/back_up/reward_competition_extention/...   \n",
       "4  /scratch/back_up/reward_competition_extention/...   \n",
       "\n",
       "                                           recording current_subject subject  \\\n",
       "0  20230612_101430_standard_comp_to_training_D1_s...             1.3     1.3   \n",
       "1  20230612_101430_standard_comp_to_training_D1_s...             1.3     1.3   \n",
       "2  20230612_101430_standard_comp_to_training_D1_s...             1.4     1.4   \n",
       "3  20230612_101430_standard_comp_to_training_D1_s...             1.4     1.4   \n",
       "4  20230612_112630_standard_comp_to_training_D1_s...             1.1     1.1   \n",
       "\n",
       "   ...                                   video_timestamps  \\\n",
       "0  ...  [-2, 1384, 2770, 4156, 4156, 5542, 6928, 6928,...   \n",
       "1  ...  [-2, 1384, 2770, 4156, 4156, 5542, 6928, 6928,...   \n",
       "2  ...  [-2, 1384, 2770, 4156, 4156, 5542, 6928, 6928,...   \n",
       "3  ...  [-2, 1384, 2770, 4156, 4156, 5542, 6928, 6928,...   \n",
       "4  ...  [1384, 2444, 2769, 4155, 5541, 6708, 6927, 831...   \n",
       "\n",
       "                                     tone_timestamps  \\\n",
       "0  [[982229, 1182226], [3382227, 3582224], [56822...   \n",
       "1  [[982229, 1182226], [3382227, 3582224], [56822...   \n",
       "2  [[982229, 1182226], [3382227, 3582224], [56822...   \n",
       "3  [[982229, 1182226], [3382227, 3582224], [56822...   \n",
       "4  [[1126742, 1326741], [3526740, 3726740], [5826...   \n",
       "\n",
       "                         box_1_port_entry_timestamps  \\\n",
       "0  [[491029, 515227], [519426, 558629], [559427, ...   \n",
       "1  [[491029, 515227], [519426, 558629], [559427, ...   \n",
       "2  [[491029, 515227], [519426, 558629], [559427, ...   \n",
       "3  [[491029, 515227], [519426, 558629], [559427, ...   \n",
       "4  [[192745, 249350], [389747, 407142], [917544, ...   \n",
       "\n",
       "                         box_2_port_entry_timestamps  \\\n",
       "0  [[33082200, 33090003], [33565003, 33567000], [...   \n",
       "1  [[33082200, 33090003], [33565003, 33567000], [...   \n",
       "2  [[33082200, 33090003], [33565003, 33567000], [...   \n",
       "3  [[33082200, 33090003], [33565003, 33567000], [...   \n",
       "4  [[33037711, 33038706], [33264908, 33270313], [...   \n",
       "\n",
       "                                      lfp_timestamps  \\\n",
       "0  [0, 20, 40, 60, 80, 100, 120, 140, 160, 180, 2...   \n",
       "1  [0, 20, 40, 60, 80, 100, 120, 140, 160, 180, 2...   \n",
       "2  [0, 20, 40, 60, 80, 100, 120, 140, 160, 180, 2...   \n",
       "3  [0, 20, 40, 60, 80, 100, 120, 140, 160, 180, 2...   \n",
       "4  [0, 20, 40, 60, 80, 100, 120, 140, 160, 180, 2...   \n",
       "\n",
       "                                      mPFC_lfp_trace  \\\n",
       "0  [95.354996, 82.09499, 97.5, 132.405, 123.825, ...   \n",
       "1  [95.354996, 82.09499, 97.5, 132.405, 123.825, ...   \n",
       "2  [19.89, 29.445, 33.149998, 37.829998, 45.43499...   \n",
       "3  [19.89, 29.445, 33.149998, 37.829998, 45.43499...   \n",
       "4  [-4.875, 21.255, 75.465, 113.295, 100.619995, ...   \n",
       "\n",
       "                                        MD_lfp_trace  \\\n",
       "0  [46.019997, 49.335, 75.27, 97.89, 77.61, 40.55...   \n",
       "1  [46.019997, 49.335, 75.27, 97.89, 77.61, 40.55...   \n",
       "2  [29.445, 28.859999, 25.935, 23.205, 21.449999,...   \n",
       "3  [29.445, 28.859999, 25.935, 23.205, 21.449999,...   \n",
       "4  [13.65, 36.66, 53.82, 33.735, 3.12, -15.794999...   \n",
       "\n",
       "                                        LH_lfp_trace  \\\n",
       "0  [61.425, 66.104996, 81.899994, 90.479996, 71.5...   \n",
       "1  [61.425, 66.104996, 81.899994, 90.479996, 71.5...   \n",
       "2  [28.47, 25.349998, 22.035, 22.814999, 23.00999...   \n",
       "3  [28.47, 25.349998, 22.035, 22.814999, 23.00999...   \n",
       "4  [7.995, 32.76, 56.159996, 48.164997, 29.445, 3...   \n",
       "\n",
       "                                       BLA_lfp_trace  \\\n",
       "0  [54.6, 54.405, 73.32, 86.189995, 59.085, 19.89...   \n",
       "1  [54.6, 54.405, 73.32, 86.189995, 59.085, 19.89...   \n",
       "2  [68.64, 90.284996, 93.795, 71.564995, 90.09, 1...   \n",
       "3  [68.64, 90.284996, 93.795, 71.564995, 90.09, 1...   \n",
       "4  [4.4849997, 8.969999, 19.109999, 26.324999, 16...   \n",
       "\n",
       "                                      vHPC_lfp_trace  \n",
       "0  [55.574997, 79.365, 128.11499, 170.43, 189.344...  \n",
       "1  [55.574997, 79.365, 128.11499, 170.43, 189.344...  \n",
       "2  [62.984997, 86.774994, 104.13, 86.96999, 75.65...  \n",
       "3  [62.984997, 86.774994, 104.13, 86.96999, 75.65...  \n",
       "4  [34.32, 50.504997, 44.265, -1.365, -31.784998,...  \n",
       "\n",
       "[5 rows x 23 columns]"
      ]
     },
     "execution_count": 21,
     "metadata": {},
     "output_type": "execute_result"
    }
   ],
   "source": [
    "LFP_TRACES_DF.head()"
   ]
  },
  {
   "cell_type": "markdown",
   "metadata": {},
   "source": [
    "# Calculating modified zscore"
   ]
  },
  {
   "cell_type": "markdown",
   "metadata": {},
   "source": [
    "`0.6745(xi – x̃) / MAD`"
   ]
  },
  {
   "cell_type": "code",
   "execution_count": 22,
   "metadata": {},
   "outputs": [
    {
     "name": "stdout",
     "output_type": "stream",
     "text": [
      "mPFC_lfp_trace\n",
      "MD_lfp_trace\n",
      "LH_lfp_trace\n",
      "BLA_lfp_trace\n",
      "vHPC_lfp_trace\n"
     ]
    }
   ],
   "source": [
    "for col in original_trace_columns:\n",
    "    print(col)\n",
    "    brain_region = col.split(\"_\")[0]\n",
    "    updated_column = \"{}_lfp_MAD\".format(brain_region)\n",
    "    LFP_TRACES_DF[updated_column] = LFP_TRACES_DF[col].apply(lambda x: stats.median_abs_deviation(x))"
   ]
  },
  {
   "cell_type": "code",
   "execution_count": 23,
   "metadata": {},
   "outputs": [
    {
     "name": "stdout",
     "output_type": "stream",
     "text": [
      "mPFC_lfp_trace\n",
      "MD_lfp_trace\n",
      "LH_lfp_trace\n",
      "BLA_lfp_trace\n",
      "vHPC_lfp_trace\n"
     ]
    }
   ],
   "source": [
    "for col in original_trace_columns:\n",
    "    print(col)\n",
    "    brain_region = col.split(\"_\")[0]\n",
    "    updated_column = \"{}_lfp_modified_zscore\".format(brain_region)\n",
    "    MAD_column = \"{}_lfp_MAD\".format(brain_region)\n",
    "\n",
    "    LFP_TRACES_DF[updated_column] = LFP_TRACES_DF.apply(lambda x: 0.6745 * (x[col] - np.median(x[col])) / x[MAD_column], axis=1)"
   ]
  },
  {
   "cell_type": "code",
   "execution_count": 24,
   "metadata": {},
   "outputs": [
    {
     "data": {
      "text/plain": [
       "0     [0.23408099, 0.3398509, 0.5565925, 0.7447243, ...\n",
       "1     [0.23408099, 0.3398509, 0.5565925, 0.7447243, ...\n",
       "2     [0.93568933, 1.2858553, 1.5413042, 1.2887255, ...\n",
       "3     [0.93568933, 1.2858553, 1.5413042, 1.2887255, ...\n",
       "4     [0.27719176, 0.40500796, 0.35572946, -0.004619...\n",
       "                            ...                        \n",
       "56    [0.22029124, 0.7880522, 1.144606, 0.71083665, ...\n",
       "57    [0.20513144, 0.031291235, -0.13791321, -0.1900...\n",
       "58    [0.20513144, 0.031291235, -0.13791321, -0.1900...\n",
       "59    [-1.0707098, -1.1721206, -1.1367447, -0.910339...\n",
       "60    [-1.0707098, -1.1721206, -1.1367447, -0.910339...\n",
       "Name: vHPC_lfp_modified_zscore, Length: 61, dtype: object"
      ]
     },
     "execution_count": 24,
     "metadata": {},
     "output_type": "execute_result"
    }
   ],
   "source": [
    "LFP_TRACES_DF[updated_column]"
   ]
  },
  {
   "cell_type": "markdown",
   "metadata": {},
   "source": [
    "## calculating root mean sequare"
   ]
  },
  {
   "cell_type": "code",
   "execution_count": 25,
   "metadata": {
    "tags": []
   },
   "outputs": [
    {
     "name": "stdout",
     "output_type": "stream",
     "text": [
      "mPFC_lfp_trace\n",
      "MD_lfp_trace\n",
      "LH_lfp_trace\n",
      "BLA_lfp_trace\n",
      "vHPC_lfp_trace\n"
     ]
    }
   ],
   "source": [
    "for col in original_trace_columns:\n",
    "    print(col)\n",
    "    brain_region = col.split(\"_\")[0]\n",
    "    updated_column = \"{}_lfp_RMS\".format(brain_region)\n",
    "    LFP_TRACES_DF[updated_column] = LFP_TRACES_DF[col].apply(lambda x: (x / np.sqrt(np.mean(x**2))).astype(np.float32))\n"
   ]
  },
  {
   "cell_type": "code",
   "execution_count": 26,
   "metadata": {
    "tags": []
   },
   "outputs": [
    {
     "data": {
      "text/html": [
       "<div>\n",
       "<style scoped>\n",
       "    .dataframe tbody tr th:only-of-type {\n",
       "        vertical-align: middle;\n",
       "    }\n",
       "\n",
       "    .dataframe tbody tr th {\n",
       "        vertical-align: top;\n",
       "    }\n",
       "\n",
       "    .dataframe thead th {\n",
       "        text-align: right;\n",
       "    }\n",
       "</style>\n",
       "<table border=\"1\" class=\"dataframe\">\n",
       "  <thead>\n",
       "    <tr style=\"text-align: right;\">\n",
       "      <th></th>\n",
       "      <th>cohort</th>\n",
       "      <th>session_dir</th>\n",
       "      <th>tone_frames</th>\n",
       "      <th>box_1_port_entry_frames</th>\n",
       "      <th>box_2_port_entry_frames</th>\n",
       "      <th>video_name</th>\n",
       "      <th>session_path</th>\n",
       "      <th>recording</th>\n",
       "      <th>current_subject</th>\n",
       "      <th>subject</th>\n",
       "      <th>...</th>\n",
       "      <th>mPFC_lfp_modified_zscore</th>\n",
       "      <th>MD_lfp_modified_zscore</th>\n",
       "      <th>LH_lfp_modified_zscore</th>\n",
       "      <th>BLA_lfp_modified_zscore</th>\n",
       "      <th>vHPC_lfp_modified_zscore</th>\n",
       "      <th>mPFC_lfp_RMS</th>\n",
       "      <th>MD_lfp_RMS</th>\n",
       "      <th>LH_lfp_RMS</th>\n",
       "      <th>BLA_lfp_RMS</th>\n",
       "      <th>vHPC_lfp_RMS</th>\n",
       "    </tr>\n",
       "  </thead>\n",
       "  <tbody>\n",
       "    <tr>\n",
       "      <th>0</th>\n",
       "      <td>2</td>\n",
       "      <td>20230612_101430_standard_comp_to_training_D1_s...</td>\n",
       "      <td>[[980, 1181], [3376, 3575], [5672, 5871], [746...</td>\n",
       "      <td>[[490, 514], [518, 558], [558, 637], [638, 640...</td>\n",
       "      <td>[[33137, 33147], [33665, 33666], [33668, 33669...</td>\n",
       "      <td>20230612_101430_standard_comp_to_training_D1_s...</td>\n",
       "      <td>/scratch/back_up/reward_competition_extention/...</td>\n",
       "      <td>20230612_101430_standard_comp_to_training_D1_s...</td>\n",
       "      <td>1.3</td>\n",
       "      <td>1.3</td>\n",
       "      <td>...</td>\n",
       "      <td>[0.89292616, 0.77410233, 0.9121477, 1.2249339,...</td>\n",
       "      <td>[0.47153494, 0.50638753, 0.77905774, 1.0168754...</td>\n",
       "      <td>[0.94851553, 1.0207834, 1.2646874, 1.3971784, ...</td>\n",
       "      <td>[0.66973317, 0.6673498, 0.8985389, 1.0558428, ...</td>\n",
       "      <td>[0.23408099, 0.3398509, 0.5565925, 0.7447243, ...</td>\n",
       "      <td>[0.19477782, 0.16769215, 0.19915934, 0.2704583...</td>\n",
       "      <td>[0.13429306, 0.14396672, 0.21964882, 0.2856573...</td>\n",
       "      <td>[0.22216085, 0.23908737, 0.29621443, 0.3272464...</td>\n",
       "      <td>[0.15934613, 0.15877703, 0.2139791, 0.25153923...</td>\n",
       "      <td>[0.09461661, 0.13511916, 0.21811618, 0.2901576...</td>\n",
       "    </tr>\n",
       "    <tr>\n",
       "      <th>1</th>\n",
       "      <td>2</td>\n",
       "      <td>20230612_101430_standard_comp_to_training_D1_s...</td>\n",
       "      <td>[[980, 1180], [3376, 3575], [5672, 5871], [746...</td>\n",
       "      <td>[[490, 514], [518, 558], [558, 637], [638, 640...</td>\n",
       "      <td>[[33021, 33027], [33502, 33503], [33504, 33506...</td>\n",
       "      <td>20230612_101430_standard_comp_to_training_D1_s...</td>\n",
       "      <td>/scratch/back_up/reward_competition_extention/...</td>\n",
       "      <td>20230612_101430_standard_comp_to_training_D1_s...</td>\n",
       "      <td>1.3</td>\n",
       "      <td>1.3</td>\n",
       "      <td>...</td>\n",
       "      <td>[0.89292616, 0.77410233, 0.9121477, 1.2249339,...</td>\n",
       "      <td>[0.47153494, 0.50638753, 0.77905774, 1.0168754...</td>\n",
       "      <td>[0.94851553, 1.0207834, 1.2646874, 1.3971784, ...</td>\n",
       "      <td>[0.66973317, 0.6673498, 0.8985389, 1.0558428, ...</td>\n",
       "      <td>[0.23408099, 0.3398509, 0.5565925, 0.7447243, ...</td>\n",
       "      <td>[0.19477782, 0.16769215, 0.19915934, 0.2704583...</td>\n",
       "      <td>[0.13429306, 0.14396672, 0.21964882, 0.2856573...</td>\n",
       "      <td>[0.22216085, 0.23908737, 0.29621443, 0.3272464...</td>\n",
       "      <td>[0.15934613, 0.15877703, 0.2139791, 0.25153923...</td>\n",
       "      <td>[0.09461661, 0.13511916, 0.21811618, 0.2901576...</td>\n",
       "    </tr>\n",
       "    <tr>\n",
       "      <th>2</th>\n",
       "      <td>2</td>\n",
       "      <td>20230612_101430_standard_comp_to_training_D1_s...</td>\n",
       "      <td>[[980, 1181], [3376, 3575], [5672, 5871], [746...</td>\n",
       "      <td>[[490, 514], [518, 558], [558, 637], [638, 640...</td>\n",
       "      <td>[[33137, 33147], [33665, 33666], [33668, 33669...</td>\n",
       "      <td>20230612_101430_standard_comp_to_training_D1_s...</td>\n",
       "      <td>/scratch/back_up/reward_competition_extention/...</td>\n",
       "      <td>20230612_101430_standard_comp_to_training_D1_s...</td>\n",
       "      <td>1.4</td>\n",
       "      <td>1.4</td>\n",
       "      <td>...</td>\n",
       "      <td>[0.2918245, 0.42672452, 0.4790326, 0.5451061, ...</td>\n",
       "      <td>[0.8516992, 0.83455086, 0.7488094, 0.66878396,...</td>\n",
       "      <td>[0.84312505, 0.75009054, 0.6512414, 0.6745, 0....</td>\n",
       "      <td>[0.86968505, 1.1439322, 1.1884048, 0.9067454, ...</td>\n",
       "      <td>[0.93568933, 1.2858553, 1.5413042, 1.2887255, ...</td>\n",
       "      <td>[0.25848255, 0.38265556, 0.43080425, 0.4916236...</td>\n",
       "      <td>[0.6991664, 0.6852757, 0.6158221, 0.5509987, 0...</td>\n",
       "      <td>[0.6525567, 0.5810436, 0.50506103, 0.52293926,...</td>\n",
       "      <td>[0.83570427, 1.099236, 1.1419709, 0.8713166, 1...</td>\n",
       "      <td>[0.88643956, 1.2212558, 1.4655069, 1.2240001, ...</td>\n",
       "    </tr>\n",
       "    <tr>\n",
       "      <th>3</th>\n",
       "      <td>2</td>\n",
       "      <td>20230612_101430_standard_comp_to_training_D1_s...</td>\n",
       "      <td>[[980, 1180], [3376, 3575], [5672, 5871], [746...</td>\n",
       "      <td>[[490, 514], [518, 558], [558, 637], [638, 640...</td>\n",
       "      <td>[[33021, 33027], [33502, 33503], [33504, 33506...</td>\n",
       "      <td>20230612_101430_standard_comp_to_training_D1_s...</td>\n",
       "      <td>/scratch/back_up/reward_competition_extention/...</td>\n",
       "      <td>20230612_101430_standard_comp_to_training_D1_s...</td>\n",
       "      <td>1.4</td>\n",
       "      <td>1.4</td>\n",
       "      <td>...</td>\n",
       "      <td>[0.2918245, 0.42672452, 0.4790326, 0.5451061, ...</td>\n",
       "      <td>[0.8516992, 0.83455086, 0.7488094, 0.66878396,...</td>\n",
       "      <td>[0.84312505, 0.75009054, 0.6512414, 0.6745, 0....</td>\n",
       "      <td>[0.86968505, 1.1439322, 1.1884048, 0.9067454, ...</td>\n",
       "      <td>[0.93568933, 1.2858553, 1.5413042, 1.2887255, ...</td>\n",
       "      <td>[0.25848255, 0.38265556, 0.43080425, 0.4916236...</td>\n",
       "      <td>[0.6991664, 0.6852757, 0.6158221, 0.5509987, 0...</td>\n",
       "      <td>[0.6525567, 0.5810436, 0.50506103, 0.52293926,...</td>\n",
       "      <td>[0.83570427, 1.099236, 1.1419709, 0.8713166, 1...</td>\n",
       "      <td>[0.88643956, 1.2212558, 1.4655069, 1.2240001, ...</td>\n",
       "    </tr>\n",
       "    <tr>\n",
       "      <th>4</th>\n",
       "      <td>2</td>\n",
       "      <td>20230612_112630_standard_comp_to_training_D1_s...</td>\n",
       "      <td>[[1125, 1324], [3519, 3720], [5815, 6014], [76...</td>\n",
       "      <td>[[192, 248], [389, 405], [916, 929], [929, 948...</td>\n",
       "      <td>[[33019, 33020], [33246, 33251], [33253, 33255...</td>\n",
       "      <td>20230612_112630_standard_comp_to_training_D1_s...</td>\n",
       "      <td>/scratch/back_up/reward_competition_extention/...</td>\n",
       "      <td>20230612_112630_standard_comp_to_training_D1_s...</td>\n",
       "      <td>1.1</td>\n",
       "      <td>1.1</td>\n",
       "      <td>...</td>\n",
       "      <td>[-0.053806268, 0.20369515, 0.7379145, 1.110715...</td>\n",
       "      <td>[0.08298822, 0.2913416, 0.4467238, 0.264856, -...</td>\n",
       "      <td>[0.050486527, 0.3069581, 0.5492934, 0.4664955,...</td>\n",
       "      <td>[0.029938638, 0.07044386, 0.16202088, 0.227181...</td>\n",
       "      <td>[0.27719176, 0.40500796, 0.35572946, -0.004619...</td>\n",
       "      <td>[-0.048132405, 0.20985727, 0.7450896, 1.118597...</td>\n",
       "      <td>[0.12576193, 0.3377606, 0.4958613, 0.3108116, ...</td>\n",
       "      <td>[0.0827952, 0.3392584, 0.5815858, 0.49879062, ...</td>\n",
       "      <td>[0.040043943, 0.080087885, 0.17062202, 0.23504...</td>\n",
       "      <td>[0.26165336, 0.3850467, 0.33747336, -0.0104066...</td>\n",
       "    </tr>\n",
       "  </tbody>\n",
       "</table>\n",
       "<p>5 rows × 38 columns</p>\n",
       "</div>"
      ],
      "text/plain": [
       "   cohort                                        session_dir  \\\n",
       "0       2  20230612_101430_standard_comp_to_training_D1_s...   \n",
       "1       2  20230612_101430_standard_comp_to_training_D1_s...   \n",
       "2       2  20230612_101430_standard_comp_to_training_D1_s...   \n",
       "3       2  20230612_101430_standard_comp_to_training_D1_s...   \n",
       "4       2  20230612_112630_standard_comp_to_training_D1_s...   \n",
       "\n",
       "                                         tone_frames  \\\n",
       "0  [[980, 1181], [3376, 3575], [5672, 5871], [746...   \n",
       "1  [[980, 1180], [3376, 3575], [5672, 5871], [746...   \n",
       "2  [[980, 1181], [3376, 3575], [5672, 5871], [746...   \n",
       "3  [[980, 1180], [3376, 3575], [5672, 5871], [746...   \n",
       "4  [[1125, 1324], [3519, 3720], [5815, 6014], [76...   \n",
       "\n",
       "                             box_1_port_entry_frames  \\\n",
       "0  [[490, 514], [518, 558], [558, 637], [638, 640...   \n",
       "1  [[490, 514], [518, 558], [558, 637], [638, 640...   \n",
       "2  [[490, 514], [518, 558], [558, 637], [638, 640...   \n",
       "3  [[490, 514], [518, 558], [558, 637], [638, 640...   \n",
       "4  [[192, 248], [389, 405], [916, 929], [929, 948...   \n",
       "\n",
       "                             box_2_port_entry_frames  \\\n",
       "0  [[33137, 33147], [33665, 33666], [33668, 33669...   \n",
       "1  [[33021, 33027], [33502, 33503], [33504, 33506...   \n",
       "2  [[33137, 33147], [33665, 33666], [33668, 33669...   \n",
       "3  [[33021, 33027], [33502, 33503], [33504, 33506...   \n",
       "4  [[33019, 33020], [33246, 33251], [33253, 33255...   \n",
       "\n",
       "                                          video_name  \\\n",
       "0  20230612_101430_standard_comp_to_training_D1_s...   \n",
       "1  20230612_101430_standard_comp_to_training_D1_s...   \n",
       "2  20230612_101430_standard_comp_to_training_D1_s...   \n",
       "3  20230612_101430_standard_comp_to_training_D1_s...   \n",
       "4  20230612_112630_standard_comp_to_training_D1_s...   \n",
       "\n",
       "                                        session_path  \\\n",
       "0  /scratch/back_up/reward_competition_extention/...   \n",
       "1  /scratch/back_up/reward_competition_extention/...   \n",
       "2  /scratch/back_up/reward_competition_extention/...   \n",
       "3  /scratch/back_up/reward_competition_extention/...   \n",
       "4  /scratch/back_up/reward_competition_extention/...   \n",
       "\n",
       "                                           recording current_subject subject  \\\n",
       "0  20230612_101430_standard_comp_to_training_D1_s...             1.3     1.3   \n",
       "1  20230612_101430_standard_comp_to_training_D1_s...             1.3     1.3   \n",
       "2  20230612_101430_standard_comp_to_training_D1_s...             1.4     1.4   \n",
       "3  20230612_101430_standard_comp_to_training_D1_s...             1.4     1.4   \n",
       "4  20230612_112630_standard_comp_to_training_D1_s...             1.1     1.1   \n",
       "\n",
       "   ...                           mPFC_lfp_modified_zscore  \\\n",
       "0  ...  [0.89292616, 0.77410233, 0.9121477, 1.2249339,...   \n",
       "1  ...  [0.89292616, 0.77410233, 0.9121477, 1.2249339,...   \n",
       "2  ...  [0.2918245, 0.42672452, 0.4790326, 0.5451061, ...   \n",
       "3  ...  [0.2918245, 0.42672452, 0.4790326, 0.5451061, ...   \n",
       "4  ...  [-0.053806268, 0.20369515, 0.7379145, 1.110715...   \n",
       "\n",
       "                              MD_lfp_modified_zscore  \\\n",
       "0  [0.47153494, 0.50638753, 0.77905774, 1.0168754...   \n",
       "1  [0.47153494, 0.50638753, 0.77905774, 1.0168754...   \n",
       "2  [0.8516992, 0.83455086, 0.7488094, 0.66878396,...   \n",
       "3  [0.8516992, 0.83455086, 0.7488094, 0.66878396,...   \n",
       "4  [0.08298822, 0.2913416, 0.4467238, 0.264856, -...   \n",
       "\n",
       "                              LH_lfp_modified_zscore  \\\n",
       "0  [0.94851553, 1.0207834, 1.2646874, 1.3971784, ...   \n",
       "1  [0.94851553, 1.0207834, 1.2646874, 1.3971784, ...   \n",
       "2  [0.84312505, 0.75009054, 0.6512414, 0.6745, 0....   \n",
       "3  [0.84312505, 0.75009054, 0.6512414, 0.6745, 0....   \n",
       "4  [0.050486527, 0.3069581, 0.5492934, 0.4664955,...   \n",
       "\n",
       "                             BLA_lfp_modified_zscore  \\\n",
       "0  [0.66973317, 0.6673498, 0.8985389, 1.0558428, ...   \n",
       "1  [0.66973317, 0.6673498, 0.8985389, 1.0558428, ...   \n",
       "2  [0.86968505, 1.1439322, 1.1884048, 0.9067454, ...   \n",
       "3  [0.86968505, 1.1439322, 1.1884048, 0.9067454, ...   \n",
       "4  [0.029938638, 0.07044386, 0.16202088, 0.227181...   \n",
       "\n",
       "                            vHPC_lfp_modified_zscore  \\\n",
       "0  [0.23408099, 0.3398509, 0.5565925, 0.7447243, ...   \n",
       "1  [0.23408099, 0.3398509, 0.5565925, 0.7447243, ...   \n",
       "2  [0.93568933, 1.2858553, 1.5413042, 1.2887255, ...   \n",
       "3  [0.93568933, 1.2858553, 1.5413042, 1.2887255, ...   \n",
       "4  [0.27719176, 0.40500796, 0.35572946, -0.004619...   \n",
       "\n",
       "                                        mPFC_lfp_RMS  \\\n",
       "0  [0.19477782, 0.16769215, 0.19915934, 0.2704583...   \n",
       "1  [0.19477782, 0.16769215, 0.19915934, 0.2704583...   \n",
       "2  [0.25848255, 0.38265556, 0.43080425, 0.4916236...   \n",
       "3  [0.25848255, 0.38265556, 0.43080425, 0.4916236...   \n",
       "4  [-0.048132405, 0.20985727, 0.7450896, 1.118597...   \n",
       "\n",
       "                                          MD_lfp_RMS  \\\n",
       "0  [0.13429306, 0.14396672, 0.21964882, 0.2856573...   \n",
       "1  [0.13429306, 0.14396672, 0.21964882, 0.2856573...   \n",
       "2  [0.6991664, 0.6852757, 0.6158221, 0.5509987, 0...   \n",
       "3  [0.6991664, 0.6852757, 0.6158221, 0.5509987, 0...   \n",
       "4  [0.12576193, 0.3377606, 0.4958613, 0.3108116, ...   \n",
       "\n",
       "                                          LH_lfp_RMS  \\\n",
       "0  [0.22216085, 0.23908737, 0.29621443, 0.3272464...   \n",
       "1  [0.22216085, 0.23908737, 0.29621443, 0.3272464...   \n",
       "2  [0.6525567, 0.5810436, 0.50506103, 0.52293926,...   \n",
       "3  [0.6525567, 0.5810436, 0.50506103, 0.52293926,...   \n",
       "4  [0.0827952, 0.3392584, 0.5815858, 0.49879062, ...   \n",
       "\n",
       "                                         BLA_lfp_RMS  \\\n",
       "0  [0.15934613, 0.15877703, 0.2139791, 0.25153923...   \n",
       "1  [0.15934613, 0.15877703, 0.2139791, 0.25153923...   \n",
       "2  [0.83570427, 1.099236, 1.1419709, 0.8713166, 1...   \n",
       "3  [0.83570427, 1.099236, 1.1419709, 0.8713166, 1...   \n",
       "4  [0.040043943, 0.080087885, 0.17062202, 0.23504...   \n",
       "\n",
       "                                        vHPC_lfp_RMS  \n",
       "0  [0.09461661, 0.13511916, 0.21811618, 0.2901576...  \n",
       "1  [0.09461661, 0.13511916, 0.21811618, 0.2901576...  \n",
       "2  [0.88643956, 1.2212558, 1.4655069, 1.2240001, ...  \n",
       "3  [0.88643956, 1.2212558, 1.4655069, 1.2240001, ...  \n",
       "4  [0.26165336, 0.3850467, 0.33747336, -0.0104066...  \n",
       "\n",
       "[5 rows x 38 columns]"
      ]
     },
     "execution_count": 26,
     "metadata": {},
     "output_type": "execute_result"
    }
   ],
   "source": [
    "LFP_TRACES_DF.head()"
   ]
  },
  {
   "cell_type": "markdown",
   "metadata": {},
   "source": [
    "## Filtering for zscore value"
   ]
  },
  {
   "cell_type": "code",
   "execution_count": 27,
   "metadata": {
    "tags": []
   },
   "outputs": [],
   "source": [
    "zscore_columns = [col for col in LFP_TRACES_DF.columns if \"zscore\" in col]"
   ]
  },
  {
   "cell_type": "code",
   "execution_count": 28,
   "metadata": {
    "tags": []
   },
   "outputs": [
    {
     "data": {
      "text/plain": [
       "['mPFC_lfp_modified_zscore',\n",
       " 'MD_lfp_modified_zscore',\n",
       " 'LH_lfp_modified_zscore',\n",
       " 'BLA_lfp_modified_zscore',\n",
       " 'vHPC_lfp_modified_zscore']"
      ]
     },
     "execution_count": 28,
     "metadata": {},
     "output_type": "execute_result"
    }
   ],
   "source": [
    "zscore_columns"
   ]
  },
  {
   "cell_type": "code",
   "execution_count": 29,
   "metadata": {
    "tags": []
   },
   "outputs": [
    {
     "name": "stdout",
     "output_type": "stream",
     "text": [
      "mPFC_lfp_modified_zscore\n",
      "MD_lfp_modified_zscore\n",
      "LH_lfp_modified_zscore\n",
      "BLA_lfp_modified_zscore\n",
      "vHPC_lfp_modified_zscore\n"
     ]
    }
   ],
   "source": [
    "for col in zscore_columns:\n",
    "    print(col)\n",
    "    brain_region = col.split(\"_\")[0]\n",
    "    updated_column = \"{}_lfp_mask\".format(brain_region)\n",
    "    LFP_TRACES_DF[updated_column] = LFP_TRACES_DF[col].apply(lambda x: np.abs(x) >= zscore_threshold)"
   ]
  },
  {
   "cell_type": "code",
   "execution_count": 30,
   "metadata": {
    "tags": []
   },
   "outputs": [
    {
     "data": {
      "text/plain": [
       "0    [False, False, False, False, False, False, Fal...\n",
       "1    [False, False, False, False, False, False, Fal...\n",
       "2    [False, False, False, False, False, False, Fal...\n",
       "3    [False, False, False, False, False, False, Fal...\n",
       "4    [False, False, False, False, False, False, Fal...\n",
       "Name: vHPC_lfp_mask, dtype: object"
      ]
     },
     "execution_count": 30,
     "metadata": {},
     "output_type": "execute_result"
    }
   ],
   "source": [
    "LFP_TRACES_DF[updated_column].head()"
   ]
  },
  {
   "cell_type": "code",
   "execution_count": 31,
   "metadata": {
    "tags": []
   },
   "outputs": [
    {
     "data": {
      "text/plain": [
       "(3414668,)"
      ]
     },
     "execution_count": 31,
     "metadata": {},
     "output_type": "execute_result"
    }
   ],
   "source": [
    "LFP_TRACES_DF[updated_column].iloc[0].shape"
   ]
  },
  {
   "cell_type": "code",
   "execution_count": 32,
   "metadata": {
    "tags": []
   },
   "outputs": [
    {
     "data": {
      "text/plain": [
       "120878"
      ]
     },
     "execution_count": 32,
     "metadata": {},
     "output_type": "execute_result"
    }
   ],
   "source": [
    "sum(LFP_TRACES_DF[updated_column].iloc[0])"
   ]
  },
  {
   "cell_type": "markdown",
   "metadata": {
    "tags": []
   },
   "source": [
    "- Filtering raw traces by zscore"
   ]
  },
  {
   "cell_type": "code",
   "execution_count": 33,
   "metadata": {
    "tags": []
   },
   "outputs": [
    {
     "data": {
      "text/plain": [
       "0    [0.23408099, 0.3398509, 0.5565925, 0.7447243, ...\n",
       "1    [0.23408099, 0.3398509, 0.5565925, 0.7447243, ...\n",
       "2    [0.93568933, 1.2858553, 1.5413042, 1.2887255, ...\n",
       "3    [0.93568933, 1.2858553, 1.5413042, 1.2887255, ...\n",
       "4    [0.27719176, 0.40500796, 0.35572946, -0.004619...\n",
       "Name: vHPC_lfp_modified_zscore, dtype: object"
      ]
     },
     "execution_count": 33,
     "metadata": {},
     "output_type": "execute_result"
    }
   ],
   "source": [
    "LFP_TRACES_DF[col].head()"
   ]
  },
  {
   "cell_type": "code",
   "execution_count": 34,
   "metadata": {
    "tags": []
   },
   "outputs": [
    {
     "name": "stdout",
     "output_type": "stream",
     "text": [
      "mPFC_lfp_trace\n",
      "MD_lfp_trace\n",
      "LH_lfp_trace\n",
      "BLA_lfp_trace\n",
      "vHPC_lfp_trace\n"
     ]
    }
   ],
   "source": [
    "for col in original_trace_columns:\n",
    "    print(col)\n",
    "    brain_region = col.split(\"_\")[0]\n",
    "    updated_column = \"{}_lfp_trace_filtered\".format(brain_region)    \n",
    "    mask_column = \"{}_lfp_mask\".format(brain_region)\n",
    "    LFP_TRACES_DF[updated_column] = LFP_TRACES_DF.apply(lambda x: update_array_by_mask(x[col], x[mask_column]), axis=1)"
   ]
  },
  {
   "cell_type": "code",
   "execution_count": 35,
   "metadata": {
    "tags": []
   },
   "outputs": [
    {
     "data": {
      "text/plain": [
       "0    [55.574997, 79.365, 128.11499, 170.43, 189.344...\n",
       "1    [55.574997, 79.365, 128.11499, 170.43, 189.344...\n",
       "2    [62.984997, 86.774994, 104.13, 86.96999, 75.65...\n",
       "3    [62.984997, 86.774994, 104.13, 86.96999, 75.65...\n",
       "4    [34.32, 50.504997, 44.265, -1.365, -31.784998,...\n",
       "Name: vHPC_lfp_trace, dtype: object"
      ]
     },
     "execution_count": 35,
     "metadata": {},
     "output_type": "execute_result"
    }
   ],
   "source": [
    "LFP_TRACES_DF[col].head()"
   ]
  },
  {
   "cell_type": "code",
   "execution_count": 36,
   "metadata": {
    "tags": []
   },
   "outputs": [
    {
     "data": {
      "text/plain": [
       "120878"
      ]
     },
     "execution_count": 36,
     "metadata": {},
     "output_type": "execute_result"
    }
   ],
   "source": [
    "sum(np.isnan(LFP_TRACES_DF[col].iloc[0]))"
   ]
  },
  {
   "cell_type": "markdown",
   "metadata": {},
   "source": [
    "- Calculating RMS of filtered signal"
   ]
  },
  {
   "cell_type": "code",
   "execution_count": 37,
   "metadata": {
    "tags": []
   },
   "outputs": [],
   "source": [
    "filtered_trace_column = [col for col in LFP_TRACES_DF if \"lfp_trace_filtered\" in col]"
   ]
  },
  {
   "cell_type": "code",
   "execution_count": 38,
   "metadata": {},
   "outputs": [
    {
     "name": "stdout",
     "output_type": "stream",
     "text": [
      "mPFC_lfp_trace_filtered\n",
      "MD_lfp_trace_filtered\n",
      "LH_lfp_trace_filtered\n",
      "BLA_lfp_trace_filtered\n",
      "vHPC_lfp_trace_filtered\n"
     ]
    }
   ],
   "source": [
    "for col in filtered_trace_column:\n",
    "    print(col)\n",
    "    brain_region = col.split(\"_\")[0]\n",
    "    updated_column = \"{}_lfp_RMS_filtered\".format(brain_region)\n",
    "    LFP_TRACES_DF[updated_column] = LFP_TRACES_DF[col].apply(lambda x: (x / np.sqrt(np.nanmean(x**2))).astype(np.float32))"
   ]
  },
  {
   "cell_type": "markdown",
   "metadata": {
    "tags": []
   },
   "source": [
    "# Power Calcuation"
   ]
  },
  {
   "cell_type": "markdown",
   "metadata": {},
   "source": [
    "- Getting the column name of all the traces"
   ]
  },
  {
   "cell_type": "code",
   "execution_count": 39,
   "metadata": {
    "tags": []
   },
   "outputs": [],
   "source": [
    "input_columns = [col for col in LFP_TRACES_DF.columns if \"trace\" in col or \"RMS\" in col]"
   ]
  },
  {
   "cell_type": "code",
   "execution_count": 40,
   "metadata": {
    "tags": []
   },
   "outputs": [
    {
     "data": {
      "text/plain": [
       "['mPFC_lfp_trace',\n",
       " 'MD_lfp_trace',\n",
       " 'LH_lfp_trace',\n",
       " 'BLA_lfp_trace',\n",
       " 'vHPC_lfp_trace',\n",
       " 'mPFC_lfp_RMS',\n",
       " 'MD_lfp_RMS',\n",
       " 'LH_lfp_RMS',\n",
       " 'BLA_lfp_RMS',\n",
       " 'vHPC_lfp_RMS',\n",
       " 'mPFC_lfp_trace_filtered',\n",
       " 'MD_lfp_trace_filtered',\n",
       " 'LH_lfp_trace_filtered',\n",
       " 'BLA_lfp_trace_filtered',\n",
       " 'vHPC_lfp_trace_filtered',\n",
       " 'mPFC_lfp_RMS_filtered',\n",
       " 'MD_lfp_RMS_filtered',\n",
       " 'LH_lfp_RMS_filtered',\n",
       " 'BLA_lfp_RMS_filtered',\n",
       " 'vHPC_lfp_RMS_filtered']"
      ]
     },
     "execution_count": 40,
     "metadata": {},
     "output_type": "execute_result"
    }
   ],
   "source": [
    "input_columns"
   ]
  },
  {
   "cell_type": "code",
   "execution_count": 41,
   "metadata": {
    "tags": []
   },
   "outputs": [
    {
     "name": "stdout",
     "output_type": "stream",
     "text": [
      "mPFC_lfp_trace\n",
      "MD_lfp_trace\n",
      "LH_lfp_trace\n",
      "BLA_lfp_trace\n",
      "vHPC_lfp_trace\n",
      "mPFC_lfp_RMS\n",
      "MD_lfp_RMS\n",
      "LH_lfp_RMS\n",
      "BLA_lfp_RMS\n",
      "vHPC_lfp_RMS\n",
      "mPFC_lfp_trace_filtered\n",
      "MD_lfp_trace_filtered\n",
      "LH_lfp_trace_filtered\n",
      "BLA_lfp_trace_filtered\n",
      "vHPC_lfp_trace_filtered\n",
      "mPFC_lfp_RMS_filtered\n",
      "MD_lfp_RMS_filtered\n",
      "LH_lfp_RMS_filtered\n",
      "BLA_lfp_RMS_filtered\n",
      "vHPC_lfp_RMS_filtered\n"
     ]
    }
   ],
   "source": [
    "for col in input_columns:\n",
    "    print(col)\n",
    "    LFP_TRACES_DF[col] = LFP_TRACES_DF[col].apply(lambda x: np.round(x.astype(np.float32), decimals=3))"
   ]
  },
  {
   "cell_type": "markdown",
   "metadata": {},
   "source": [
    "- Calcuating the power at each frequency band"
   ]
  },
  {
   "cell_type": "code",
   "execution_count": 42,
   "metadata": {},
   "outputs": [
    {
     "data": {
      "text/plain": [
       "array([ 0.241,  0.344,  0.556, ..., -0.043,  0.047,  0.092], dtype=float32)"
      ]
     },
     "execution_count": 42,
     "metadata": {},
     "output_type": "execute_result"
    }
   ],
   "source": [
    "LFP_TRACES_DF[col].iloc[0]"
   ]
  },
  {
   "cell_type": "code",
   "execution_count": 43,
   "metadata": {
    "tags": []
   },
   "outputs": [
    {
     "name": "stdout",
     "output_type": "stream",
     "text": [
      "mPFC_trace\n",
      "MD_trace\n",
      "LH_trace\n",
      "BLA_trace\n",
      "vHPC_trace\n",
      "mPFC_RMS\n",
      "MD_RMS\n",
      "LH_RMS\n",
      "BLA_RMS\n",
      "vHPC_RMS\n",
      "mPFC_trace_filtered\n",
      "MD_trace_filtered\n",
      "LH_trace_filtered\n",
      "BLA_trace_filtered\n",
      "vHPC_trace_filtered\n",
      "mPFC_RMS_filtered\n",
      "MD_RMS_filtered\n",
      "LH_RMS_filtered\n",
      "BLA_RMS_filtered\n",
      "vHPC_RMS_filtered\n"
     ]
    }
   ],
   "source": [
    "for col in input_columns:\n",
    "    # brain_region = col.split(\"_\")[0]\n",
    "    brain_region = col.replace(\"_lfp\", \"\")\n",
    "    print(brain_region)\n",
    "\n",
    "    # Define column names\n",
    "    multitaper_col = f\"{brain_region}_power_multitaper\"\n",
    "    connectivity_col = f\"{brain_region}_power_connectivity\"\n",
    "    frequencies_col = f\"{brain_region}_power_frequencies\"\n",
    "    power_col = f\"{brain_region}_power_all_frequencies_all_windows\"\n",
    "    \n",
    "    try:\n",
    "        # Apply Multitaper function to the lfp_trace column\n",
    "        LFP_TRACES_DF[multitaper_col] = LFP_TRACES_DF[col].apply(\n",
    "            lambda x: Multitaper(\n",
    "                time_series=x, \n",
    "                sampling_frequency=RESAMPLE_RATE, \n",
    "                time_halfbandwidth_product=TIME_HALFBANDWIDTH_PRODUCT,\n",
    "                time_window_duration=TIME_WINDOW_DURATION, \n",
    "                time_window_step=TIME_WINDOW_STEP\n",
    "            )\n",
    "        )\n",
    "\n",
    "        # Apply Connectivity function to the multitaper column\n",
    "        LFP_TRACES_DF[connectivity_col] = LFP_TRACES_DF[multitaper_col].apply(\n",
    "            lambda x: Connectivity.from_multitaper(x)\n",
    "        )\n",
    "\n",
    "        # Apply frequencies and power functions to the connectivity column\n",
    "        LFP_TRACES_DF[frequencies_col] = LFP_TRACES_DF[connectivity_col].apply(\n",
    "            lambda x: x.frequencies\n",
    "        )\n",
    "        LFP_TRACES_DF[power_col] = LFP_TRACES_DF[connectivity_col].apply(\n",
    "            lambda x: x.power().squeeze()\n",
    "        )\n",
    "        \n",
    "        LFP_TRACES_DF[power_col] = LFP_TRACES_DF[power_col].apply(lambda x: x.astype(np.float16))\n",
    "            \n",
    "        # Removing unnecessary columns\n",
    "        LFP_TRACES_DF = LFP_TRACES_DF.drop(columns=[multitaper_col, connectivity_col], errors=\"ignore\")\n",
    "    \n",
    "    except Exception as e: \n",
    "        print(e)"
   ]
  },
  {
   "cell_type": "markdown",
   "metadata": {},
   "source": [
    "- Getting the timestamps of the power"
   ]
  },
  {
   "cell_type": "code",
   "execution_count": 45,
   "metadata": {
    "tags": []
   },
   "outputs": [],
   "source": [
    "LFP_TRACES_DF[\"power_timestamps\"] = LFP_TRACES_DF[\"lfp_timestamps\"].apply(lambda x: x[(RESAMPLE_RATE//2):(-RESAMPLE_RATE//2):(RESAMPLE_RATE//2)])\n",
    "# .iloc[0][500:-500:500].shape"
   ]
  },
  {
   "cell_type": "markdown",
   "metadata": {},
   "source": [
    "- Making sure that the timestamps for power makes sense with shape and values"
   ]
  },
  {
   "cell_type": "code",
   "execution_count": 46,
   "metadata": {
    "tags": []
   },
   "outputs": [
    {
     "data": {
      "text/plain": [
       "0    (6828,)\n",
       "1    (6828,)\n",
       "2    (6828,)\n",
       "3    (6828,)\n",
       "4    (6833,)\n",
       "Name: power_timestamps, dtype: object"
      ]
     },
     "execution_count": 46,
     "metadata": {},
     "output_type": "execute_result"
    }
   ],
   "source": [
    "LFP_TRACES_DF[\"power_timestamps\"].head().apply(lambda x: x.shape)"
   ]
  },
  {
   "cell_type": "code",
   "execution_count": 47,
   "metadata": {
    "tags": []
   },
   "outputs": [
    {
     "data": {
      "text/plain": [
       "(6828, 500)"
      ]
     },
     "execution_count": 47,
     "metadata": {},
     "output_type": "execute_result"
    }
   ],
   "source": [
    "LFP_TRACES_DF[[col for col in LFP_TRACES_DF.columns if \"power_all_frequencies_all_windows\" in col][0]].iloc[0].shape"
   ]
  },
  {
   "cell_type": "code",
   "execution_count": 48,
   "metadata": {
    "tags": []
   },
   "outputs": [
    {
     "data": {
      "text/plain": [
       "array([       0,       20,       40, ..., 68293300, 68293320, 68293340])"
      ]
     },
     "execution_count": 48,
     "metadata": {},
     "output_type": "execute_result"
    }
   ],
   "source": [
    "LFP_TRACES_DF[[col for col in LFP_TRACES_DF.columns if \"lfp_timestamps\" in col][0]].iloc[0]"
   ]
  },
  {
   "cell_type": "code",
   "execution_count": 49,
   "metadata": {
    "tags": []
   },
   "outputs": [
    {
     "data": {
      "text/plain": [
       "array([   10000,    20000,    30000, ..., 68260000, 68270000, 68280000])"
      ]
     },
     "execution_count": 49,
     "metadata": {},
     "output_type": "execute_result"
    }
   ],
   "source": [
    "LFP_TRACES_DF[[col for col in LFP_TRACES_DF.columns if \"power_timestamps\" in col][0]].iloc[0]"
   ]
  },
  {
   "cell_type": "markdown",
   "metadata": {},
   "source": [
    "- Checking if the right frequencies are being used"
   ]
  },
  {
   "cell_type": "code",
   "execution_count": 50,
   "metadata": {
    "tags": []
   },
   "outputs": [
    {
     "data": {
      "text/html": [
       "<div>\n",
       "<style scoped>\n",
       "    .dataframe tbody tr th:only-of-type {\n",
       "        vertical-align: middle;\n",
       "    }\n",
       "\n",
       "    .dataframe tbody tr th {\n",
       "        vertical-align: top;\n",
       "    }\n",
       "\n",
       "    .dataframe thead th {\n",
       "        text-align: right;\n",
       "    }\n",
       "</style>\n",
       "<table border=\"1\" class=\"dataframe\">\n",
       "  <thead>\n",
       "    <tr style=\"text-align: right;\">\n",
       "      <th></th>\n",
       "      <th>mPFC_trace_power_frequencies</th>\n",
       "      <th>MD_trace_power_frequencies</th>\n",
       "      <th>LH_trace_power_frequencies</th>\n",
       "      <th>BLA_trace_power_frequencies</th>\n",
       "      <th>vHPC_trace_power_frequencies</th>\n",
       "      <th>mPFC_RMS_power_frequencies</th>\n",
       "      <th>MD_RMS_power_frequencies</th>\n",
       "      <th>LH_RMS_power_frequencies</th>\n",
       "      <th>BLA_RMS_power_frequencies</th>\n",
       "      <th>vHPC_RMS_power_frequencies</th>\n",
       "      <th>mPFC_trace_filtered_power_frequencies</th>\n",
       "      <th>MD_trace_filtered_power_frequencies</th>\n",
       "      <th>LH_trace_filtered_power_frequencies</th>\n",
       "      <th>BLA_trace_filtered_power_frequencies</th>\n",
       "      <th>vHPC_trace_filtered_power_frequencies</th>\n",
       "      <th>mPFC_RMS_filtered_power_frequencies</th>\n",
       "      <th>MD_RMS_filtered_power_frequencies</th>\n",
       "      <th>LH_RMS_filtered_power_frequencies</th>\n",
       "      <th>BLA_RMS_filtered_power_frequencies</th>\n",
       "      <th>vHPC_RMS_filtered_power_frequencies</th>\n",
       "    </tr>\n",
       "  </thead>\n",
       "  <tbody>\n",
       "    <tr>\n",
       "      <th>0</th>\n",
       "      <td>[0.0, 1.0, 2.0, 3.0, 4.0, 5.0, 6.0, 7.0, 8.0, ...</td>\n",
       "      <td>[0.0, 1.0, 2.0, 3.0, 4.0, 5.0, 6.0, 7.0, 8.0, ...</td>\n",
       "      <td>[0.0, 1.0, 2.0, 3.0, 4.0, 5.0, 6.0, 7.0, 8.0, ...</td>\n",
       "      <td>[0.0, 1.0, 2.0, 3.0, 4.0, 5.0, 6.0, 7.0, 8.0, ...</td>\n",
       "      <td>[0.0, 1.0, 2.0, 3.0, 4.0, 5.0, 6.0, 7.0, 8.0, ...</td>\n",
       "      <td>[0.0, 1.0, 2.0, 3.0, 4.0, 5.0, 6.0, 7.0, 8.0, ...</td>\n",
       "      <td>[0.0, 1.0, 2.0, 3.0, 4.0, 5.0, 6.0, 7.0, 8.0, ...</td>\n",
       "      <td>[0.0, 1.0, 2.0, 3.0, 4.0, 5.0, 6.0, 7.0, 8.0, ...</td>\n",
       "      <td>[0.0, 1.0, 2.0, 3.0, 4.0, 5.0, 6.0, 7.0, 8.0, ...</td>\n",
       "      <td>[0.0, 1.0, 2.0, 3.0, 4.0, 5.0, 6.0, 7.0, 8.0, ...</td>\n",
       "      <td>[0.0, 1.0, 2.0, 3.0, 4.0, 5.0, 6.0, 7.0, 8.0, ...</td>\n",
       "      <td>[0.0, 1.0, 2.0, 3.0, 4.0, 5.0, 6.0, 7.0, 8.0, ...</td>\n",
       "      <td>[0.0, 1.0, 2.0, 3.0, 4.0, 5.0, 6.0, 7.0, 8.0, ...</td>\n",
       "      <td>[0.0, 1.0, 2.0, 3.0, 4.0, 5.0, 6.0, 7.0, 8.0, ...</td>\n",
       "      <td>[0.0, 1.0, 2.0, 3.0, 4.0, 5.0, 6.0, 7.0, 8.0, ...</td>\n",
       "      <td>[0.0, 1.0, 2.0, 3.0, 4.0, 5.0, 6.0, 7.0, 8.0, ...</td>\n",
       "      <td>[0.0, 1.0, 2.0, 3.0, 4.0, 5.0, 6.0, 7.0, 8.0, ...</td>\n",
       "      <td>[0.0, 1.0, 2.0, 3.0, 4.0, 5.0, 6.0, 7.0, 8.0, ...</td>\n",
       "      <td>[0.0, 1.0, 2.0, 3.0, 4.0, 5.0, 6.0, 7.0, 8.0, ...</td>\n",
       "      <td>[0.0, 1.0, 2.0, 3.0, 4.0, 5.0, 6.0, 7.0, 8.0, ...</td>\n",
       "    </tr>\n",
       "    <tr>\n",
       "      <th>1</th>\n",
       "      <td>[0.0, 1.0, 2.0, 3.0, 4.0, 5.0, 6.0, 7.0, 8.0, ...</td>\n",
       "      <td>[0.0, 1.0, 2.0, 3.0, 4.0, 5.0, 6.0, 7.0, 8.0, ...</td>\n",
       "      <td>[0.0, 1.0, 2.0, 3.0, 4.0, 5.0, 6.0, 7.0, 8.0, ...</td>\n",
       "      <td>[0.0, 1.0, 2.0, 3.0, 4.0, 5.0, 6.0, 7.0, 8.0, ...</td>\n",
       "      <td>[0.0, 1.0, 2.0, 3.0, 4.0, 5.0, 6.0, 7.0, 8.0, ...</td>\n",
       "      <td>[0.0, 1.0, 2.0, 3.0, 4.0, 5.0, 6.0, 7.0, 8.0, ...</td>\n",
       "      <td>[0.0, 1.0, 2.0, 3.0, 4.0, 5.0, 6.0, 7.0, 8.0, ...</td>\n",
       "      <td>[0.0, 1.0, 2.0, 3.0, 4.0, 5.0, 6.0, 7.0, 8.0, ...</td>\n",
       "      <td>[0.0, 1.0, 2.0, 3.0, 4.0, 5.0, 6.0, 7.0, 8.0, ...</td>\n",
       "      <td>[0.0, 1.0, 2.0, 3.0, 4.0, 5.0, 6.0, 7.0, 8.0, ...</td>\n",
       "      <td>[0.0, 1.0, 2.0, 3.0, 4.0, 5.0, 6.0, 7.0, 8.0, ...</td>\n",
       "      <td>[0.0, 1.0, 2.0, 3.0, 4.0, 5.0, 6.0, 7.0, 8.0, ...</td>\n",
       "      <td>[0.0, 1.0, 2.0, 3.0, 4.0, 5.0, 6.0, 7.0, 8.0, ...</td>\n",
       "      <td>[0.0, 1.0, 2.0, 3.0, 4.0, 5.0, 6.0, 7.0, 8.0, ...</td>\n",
       "      <td>[0.0, 1.0, 2.0, 3.0, 4.0, 5.0, 6.0, 7.0, 8.0, ...</td>\n",
       "      <td>[0.0, 1.0, 2.0, 3.0, 4.0, 5.0, 6.0, 7.0, 8.0, ...</td>\n",
       "      <td>[0.0, 1.0, 2.0, 3.0, 4.0, 5.0, 6.0, 7.0, 8.0, ...</td>\n",
       "      <td>[0.0, 1.0, 2.0, 3.0, 4.0, 5.0, 6.0, 7.0, 8.0, ...</td>\n",
       "      <td>[0.0, 1.0, 2.0, 3.0, 4.0, 5.0, 6.0, 7.0, 8.0, ...</td>\n",
       "      <td>[0.0, 1.0, 2.0, 3.0, 4.0, 5.0, 6.0, 7.0, 8.0, ...</td>\n",
       "    </tr>\n",
       "    <tr>\n",
       "      <th>2</th>\n",
       "      <td>[0.0, 1.0, 2.0, 3.0, 4.0, 5.0, 6.0, 7.0, 8.0, ...</td>\n",
       "      <td>[0.0, 1.0, 2.0, 3.0, 4.0, 5.0, 6.0, 7.0, 8.0, ...</td>\n",
       "      <td>[0.0, 1.0, 2.0, 3.0, 4.0, 5.0, 6.0, 7.0, 8.0, ...</td>\n",
       "      <td>[0.0, 1.0, 2.0, 3.0, 4.0, 5.0, 6.0, 7.0, 8.0, ...</td>\n",
       "      <td>[0.0, 1.0, 2.0, 3.0, 4.0, 5.0, 6.0, 7.0, 8.0, ...</td>\n",
       "      <td>[0.0, 1.0, 2.0, 3.0, 4.0, 5.0, 6.0, 7.0, 8.0, ...</td>\n",
       "      <td>[0.0, 1.0, 2.0, 3.0, 4.0, 5.0, 6.0, 7.0, 8.0, ...</td>\n",
       "      <td>[0.0, 1.0, 2.0, 3.0, 4.0, 5.0, 6.0, 7.0, 8.0, ...</td>\n",
       "      <td>[0.0, 1.0, 2.0, 3.0, 4.0, 5.0, 6.0, 7.0, 8.0, ...</td>\n",
       "      <td>[0.0, 1.0, 2.0, 3.0, 4.0, 5.0, 6.0, 7.0, 8.0, ...</td>\n",
       "      <td>[0.0, 1.0, 2.0, 3.0, 4.0, 5.0, 6.0, 7.0, 8.0, ...</td>\n",
       "      <td>[0.0, 1.0, 2.0, 3.0, 4.0, 5.0, 6.0, 7.0, 8.0, ...</td>\n",
       "      <td>[0.0, 1.0, 2.0, 3.0, 4.0, 5.0, 6.0, 7.0, 8.0, ...</td>\n",
       "      <td>[0.0, 1.0, 2.0, 3.0, 4.0, 5.0, 6.0, 7.0, 8.0, ...</td>\n",
       "      <td>[0.0, 1.0, 2.0, 3.0, 4.0, 5.0, 6.0, 7.0, 8.0, ...</td>\n",
       "      <td>[0.0, 1.0, 2.0, 3.0, 4.0, 5.0, 6.0, 7.0, 8.0, ...</td>\n",
       "      <td>[0.0, 1.0, 2.0, 3.0, 4.0, 5.0, 6.0, 7.0, 8.0, ...</td>\n",
       "      <td>[0.0, 1.0, 2.0, 3.0, 4.0, 5.0, 6.0, 7.0, 8.0, ...</td>\n",
       "      <td>[0.0, 1.0, 2.0, 3.0, 4.0, 5.0, 6.0, 7.0, 8.0, ...</td>\n",
       "      <td>[0.0, 1.0, 2.0, 3.0, 4.0, 5.0, 6.0, 7.0, 8.0, ...</td>\n",
       "    </tr>\n",
       "    <tr>\n",
       "      <th>3</th>\n",
       "      <td>[0.0, 1.0, 2.0, 3.0, 4.0, 5.0, 6.0, 7.0, 8.0, ...</td>\n",
       "      <td>[0.0, 1.0, 2.0, 3.0, 4.0, 5.0, 6.0, 7.0, 8.0, ...</td>\n",
       "      <td>[0.0, 1.0, 2.0, 3.0, 4.0, 5.0, 6.0, 7.0, 8.0, ...</td>\n",
       "      <td>[0.0, 1.0, 2.0, 3.0, 4.0, 5.0, 6.0, 7.0, 8.0, ...</td>\n",
       "      <td>[0.0, 1.0, 2.0, 3.0, 4.0, 5.0, 6.0, 7.0, 8.0, ...</td>\n",
       "      <td>[0.0, 1.0, 2.0, 3.0, 4.0, 5.0, 6.0, 7.0, 8.0, ...</td>\n",
       "      <td>[0.0, 1.0, 2.0, 3.0, 4.0, 5.0, 6.0, 7.0, 8.0, ...</td>\n",
       "      <td>[0.0, 1.0, 2.0, 3.0, 4.0, 5.0, 6.0, 7.0, 8.0, ...</td>\n",
       "      <td>[0.0, 1.0, 2.0, 3.0, 4.0, 5.0, 6.0, 7.0, 8.0, ...</td>\n",
       "      <td>[0.0, 1.0, 2.0, 3.0, 4.0, 5.0, 6.0, 7.0, 8.0, ...</td>\n",
       "      <td>[0.0, 1.0, 2.0, 3.0, 4.0, 5.0, 6.0, 7.0, 8.0, ...</td>\n",
       "      <td>[0.0, 1.0, 2.0, 3.0, 4.0, 5.0, 6.0, 7.0, 8.0, ...</td>\n",
       "      <td>[0.0, 1.0, 2.0, 3.0, 4.0, 5.0, 6.0, 7.0, 8.0, ...</td>\n",
       "      <td>[0.0, 1.0, 2.0, 3.0, 4.0, 5.0, 6.0, 7.0, 8.0, ...</td>\n",
       "      <td>[0.0, 1.0, 2.0, 3.0, 4.0, 5.0, 6.0, 7.0, 8.0, ...</td>\n",
       "      <td>[0.0, 1.0, 2.0, 3.0, 4.0, 5.0, 6.0, 7.0, 8.0, ...</td>\n",
       "      <td>[0.0, 1.0, 2.0, 3.0, 4.0, 5.0, 6.0, 7.0, 8.0, ...</td>\n",
       "      <td>[0.0, 1.0, 2.0, 3.0, 4.0, 5.0, 6.0, 7.0, 8.0, ...</td>\n",
       "      <td>[0.0, 1.0, 2.0, 3.0, 4.0, 5.0, 6.0, 7.0, 8.0, ...</td>\n",
       "      <td>[0.0, 1.0, 2.0, 3.0, 4.0, 5.0, 6.0, 7.0, 8.0, ...</td>\n",
       "    </tr>\n",
       "    <tr>\n",
       "      <th>4</th>\n",
       "      <td>[0.0, 1.0, 2.0, 3.0, 4.0, 5.0, 6.0, 7.0, 8.0, ...</td>\n",
       "      <td>[0.0, 1.0, 2.0, 3.0, 4.0, 5.0, 6.0, 7.0, 8.0, ...</td>\n",
       "      <td>[0.0, 1.0, 2.0, 3.0, 4.0, 5.0, 6.0, 7.0, 8.0, ...</td>\n",
       "      <td>[0.0, 1.0, 2.0, 3.0, 4.0, 5.0, 6.0, 7.0, 8.0, ...</td>\n",
       "      <td>[0.0, 1.0, 2.0, 3.0, 4.0, 5.0, 6.0, 7.0, 8.0, ...</td>\n",
       "      <td>[0.0, 1.0, 2.0, 3.0, 4.0, 5.0, 6.0, 7.0, 8.0, ...</td>\n",
       "      <td>[0.0, 1.0, 2.0, 3.0, 4.0, 5.0, 6.0, 7.0, 8.0, ...</td>\n",
       "      <td>[0.0, 1.0, 2.0, 3.0, 4.0, 5.0, 6.0, 7.0, 8.0, ...</td>\n",
       "      <td>[0.0, 1.0, 2.0, 3.0, 4.0, 5.0, 6.0, 7.0, 8.0, ...</td>\n",
       "      <td>[0.0, 1.0, 2.0, 3.0, 4.0, 5.0, 6.0, 7.0, 8.0, ...</td>\n",
       "      <td>[0.0, 1.0, 2.0, 3.0, 4.0, 5.0, 6.0, 7.0, 8.0, ...</td>\n",
       "      <td>[0.0, 1.0, 2.0, 3.0, 4.0, 5.0, 6.0, 7.0, 8.0, ...</td>\n",
       "      <td>[0.0, 1.0, 2.0, 3.0, 4.0, 5.0, 6.0, 7.0, 8.0, ...</td>\n",
       "      <td>[0.0, 1.0, 2.0, 3.0, 4.0, 5.0, 6.0, 7.0, 8.0, ...</td>\n",
       "      <td>[0.0, 1.0, 2.0, 3.0, 4.0, 5.0, 6.0, 7.0, 8.0, ...</td>\n",
       "      <td>[0.0, 1.0, 2.0, 3.0, 4.0, 5.0, 6.0, 7.0, 8.0, ...</td>\n",
       "      <td>[0.0, 1.0, 2.0, 3.0, 4.0, 5.0, 6.0, 7.0, 8.0, ...</td>\n",
       "      <td>[0.0, 1.0, 2.0, 3.0, 4.0, 5.0, 6.0, 7.0, 8.0, ...</td>\n",
       "      <td>[0.0, 1.0, 2.0, 3.0, 4.0, 5.0, 6.0, 7.0, 8.0, ...</td>\n",
       "      <td>[0.0, 1.0, 2.0, 3.0, 4.0, 5.0, 6.0, 7.0, 8.0, ...</td>\n",
       "    </tr>\n",
       "  </tbody>\n",
       "</table>\n",
       "</div>"
      ],
      "text/plain": [
       "                        mPFC_trace_power_frequencies  \\\n",
       "0  [0.0, 1.0, 2.0, 3.0, 4.0, 5.0, 6.0, 7.0, 8.0, ...   \n",
       "1  [0.0, 1.0, 2.0, 3.0, 4.0, 5.0, 6.0, 7.0, 8.0, ...   \n",
       "2  [0.0, 1.0, 2.0, 3.0, 4.0, 5.0, 6.0, 7.0, 8.0, ...   \n",
       "3  [0.0, 1.0, 2.0, 3.0, 4.0, 5.0, 6.0, 7.0, 8.0, ...   \n",
       "4  [0.0, 1.0, 2.0, 3.0, 4.0, 5.0, 6.0, 7.0, 8.0, ...   \n",
       "\n",
       "                          MD_trace_power_frequencies  \\\n",
       "0  [0.0, 1.0, 2.0, 3.0, 4.0, 5.0, 6.0, 7.0, 8.0, ...   \n",
       "1  [0.0, 1.0, 2.0, 3.0, 4.0, 5.0, 6.0, 7.0, 8.0, ...   \n",
       "2  [0.0, 1.0, 2.0, 3.0, 4.0, 5.0, 6.0, 7.0, 8.0, ...   \n",
       "3  [0.0, 1.0, 2.0, 3.0, 4.0, 5.0, 6.0, 7.0, 8.0, ...   \n",
       "4  [0.0, 1.0, 2.0, 3.0, 4.0, 5.0, 6.0, 7.0, 8.0, ...   \n",
       "\n",
       "                          LH_trace_power_frequencies  \\\n",
       "0  [0.0, 1.0, 2.0, 3.0, 4.0, 5.0, 6.0, 7.0, 8.0, ...   \n",
       "1  [0.0, 1.0, 2.0, 3.0, 4.0, 5.0, 6.0, 7.0, 8.0, ...   \n",
       "2  [0.0, 1.0, 2.0, 3.0, 4.0, 5.0, 6.0, 7.0, 8.0, ...   \n",
       "3  [0.0, 1.0, 2.0, 3.0, 4.0, 5.0, 6.0, 7.0, 8.0, ...   \n",
       "4  [0.0, 1.0, 2.0, 3.0, 4.0, 5.0, 6.0, 7.0, 8.0, ...   \n",
       "\n",
       "                         BLA_trace_power_frequencies  \\\n",
       "0  [0.0, 1.0, 2.0, 3.0, 4.0, 5.0, 6.0, 7.0, 8.0, ...   \n",
       "1  [0.0, 1.0, 2.0, 3.0, 4.0, 5.0, 6.0, 7.0, 8.0, ...   \n",
       "2  [0.0, 1.0, 2.0, 3.0, 4.0, 5.0, 6.0, 7.0, 8.0, ...   \n",
       "3  [0.0, 1.0, 2.0, 3.0, 4.0, 5.0, 6.0, 7.0, 8.0, ...   \n",
       "4  [0.0, 1.0, 2.0, 3.0, 4.0, 5.0, 6.0, 7.0, 8.0, ...   \n",
       "\n",
       "                        vHPC_trace_power_frequencies  \\\n",
       "0  [0.0, 1.0, 2.0, 3.0, 4.0, 5.0, 6.0, 7.0, 8.0, ...   \n",
       "1  [0.0, 1.0, 2.0, 3.0, 4.0, 5.0, 6.0, 7.0, 8.0, ...   \n",
       "2  [0.0, 1.0, 2.0, 3.0, 4.0, 5.0, 6.0, 7.0, 8.0, ...   \n",
       "3  [0.0, 1.0, 2.0, 3.0, 4.0, 5.0, 6.0, 7.0, 8.0, ...   \n",
       "4  [0.0, 1.0, 2.0, 3.0, 4.0, 5.0, 6.0, 7.0, 8.0, ...   \n",
       "\n",
       "                          mPFC_RMS_power_frequencies  \\\n",
       "0  [0.0, 1.0, 2.0, 3.0, 4.0, 5.0, 6.0, 7.0, 8.0, ...   \n",
       "1  [0.0, 1.0, 2.0, 3.0, 4.0, 5.0, 6.0, 7.0, 8.0, ...   \n",
       "2  [0.0, 1.0, 2.0, 3.0, 4.0, 5.0, 6.0, 7.0, 8.0, ...   \n",
       "3  [0.0, 1.0, 2.0, 3.0, 4.0, 5.0, 6.0, 7.0, 8.0, ...   \n",
       "4  [0.0, 1.0, 2.0, 3.0, 4.0, 5.0, 6.0, 7.0, 8.0, ...   \n",
       "\n",
       "                            MD_RMS_power_frequencies  \\\n",
       "0  [0.0, 1.0, 2.0, 3.0, 4.0, 5.0, 6.0, 7.0, 8.0, ...   \n",
       "1  [0.0, 1.0, 2.0, 3.0, 4.0, 5.0, 6.0, 7.0, 8.0, ...   \n",
       "2  [0.0, 1.0, 2.0, 3.0, 4.0, 5.0, 6.0, 7.0, 8.0, ...   \n",
       "3  [0.0, 1.0, 2.0, 3.0, 4.0, 5.0, 6.0, 7.0, 8.0, ...   \n",
       "4  [0.0, 1.0, 2.0, 3.0, 4.0, 5.0, 6.0, 7.0, 8.0, ...   \n",
       "\n",
       "                            LH_RMS_power_frequencies  \\\n",
       "0  [0.0, 1.0, 2.0, 3.0, 4.0, 5.0, 6.0, 7.0, 8.0, ...   \n",
       "1  [0.0, 1.0, 2.0, 3.0, 4.0, 5.0, 6.0, 7.0, 8.0, ...   \n",
       "2  [0.0, 1.0, 2.0, 3.0, 4.0, 5.0, 6.0, 7.0, 8.0, ...   \n",
       "3  [0.0, 1.0, 2.0, 3.0, 4.0, 5.0, 6.0, 7.0, 8.0, ...   \n",
       "4  [0.0, 1.0, 2.0, 3.0, 4.0, 5.0, 6.0, 7.0, 8.0, ...   \n",
       "\n",
       "                           BLA_RMS_power_frequencies  \\\n",
       "0  [0.0, 1.0, 2.0, 3.0, 4.0, 5.0, 6.0, 7.0, 8.0, ...   \n",
       "1  [0.0, 1.0, 2.0, 3.0, 4.0, 5.0, 6.0, 7.0, 8.0, ...   \n",
       "2  [0.0, 1.0, 2.0, 3.0, 4.0, 5.0, 6.0, 7.0, 8.0, ...   \n",
       "3  [0.0, 1.0, 2.0, 3.0, 4.0, 5.0, 6.0, 7.0, 8.0, ...   \n",
       "4  [0.0, 1.0, 2.0, 3.0, 4.0, 5.0, 6.0, 7.0, 8.0, ...   \n",
       "\n",
       "                          vHPC_RMS_power_frequencies  \\\n",
       "0  [0.0, 1.0, 2.0, 3.0, 4.0, 5.0, 6.0, 7.0, 8.0, ...   \n",
       "1  [0.0, 1.0, 2.0, 3.0, 4.0, 5.0, 6.0, 7.0, 8.0, ...   \n",
       "2  [0.0, 1.0, 2.0, 3.0, 4.0, 5.0, 6.0, 7.0, 8.0, ...   \n",
       "3  [0.0, 1.0, 2.0, 3.0, 4.0, 5.0, 6.0, 7.0, 8.0, ...   \n",
       "4  [0.0, 1.0, 2.0, 3.0, 4.0, 5.0, 6.0, 7.0, 8.0, ...   \n",
       "\n",
       "               mPFC_trace_filtered_power_frequencies  \\\n",
       "0  [0.0, 1.0, 2.0, 3.0, 4.0, 5.0, 6.0, 7.0, 8.0, ...   \n",
       "1  [0.0, 1.0, 2.0, 3.0, 4.0, 5.0, 6.0, 7.0, 8.0, ...   \n",
       "2  [0.0, 1.0, 2.0, 3.0, 4.0, 5.0, 6.0, 7.0, 8.0, ...   \n",
       "3  [0.0, 1.0, 2.0, 3.0, 4.0, 5.0, 6.0, 7.0, 8.0, ...   \n",
       "4  [0.0, 1.0, 2.0, 3.0, 4.0, 5.0, 6.0, 7.0, 8.0, ...   \n",
       "\n",
       "                 MD_trace_filtered_power_frequencies  \\\n",
       "0  [0.0, 1.0, 2.0, 3.0, 4.0, 5.0, 6.0, 7.0, 8.0, ...   \n",
       "1  [0.0, 1.0, 2.0, 3.0, 4.0, 5.0, 6.0, 7.0, 8.0, ...   \n",
       "2  [0.0, 1.0, 2.0, 3.0, 4.0, 5.0, 6.0, 7.0, 8.0, ...   \n",
       "3  [0.0, 1.0, 2.0, 3.0, 4.0, 5.0, 6.0, 7.0, 8.0, ...   \n",
       "4  [0.0, 1.0, 2.0, 3.0, 4.0, 5.0, 6.0, 7.0, 8.0, ...   \n",
       "\n",
       "                 LH_trace_filtered_power_frequencies  \\\n",
       "0  [0.0, 1.0, 2.0, 3.0, 4.0, 5.0, 6.0, 7.0, 8.0, ...   \n",
       "1  [0.0, 1.0, 2.0, 3.0, 4.0, 5.0, 6.0, 7.0, 8.0, ...   \n",
       "2  [0.0, 1.0, 2.0, 3.0, 4.0, 5.0, 6.0, 7.0, 8.0, ...   \n",
       "3  [0.0, 1.0, 2.0, 3.0, 4.0, 5.0, 6.0, 7.0, 8.0, ...   \n",
       "4  [0.0, 1.0, 2.0, 3.0, 4.0, 5.0, 6.0, 7.0, 8.0, ...   \n",
       "\n",
       "                BLA_trace_filtered_power_frequencies  \\\n",
       "0  [0.0, 1.0, 2.0, 3.0, 4.0, 5.0, 6.0, 7.0, 8.0, ...   \n",
       "1  [0.0, 1.0, 2.0, 3.0, 4.0, 5.0, 6.0, 7.0, 8.0, ...   \n",
       "2  [0.0, 1.0, 2.0, 3.0, 4.0, 5.0, 6.0, 7.0, 8.0, ...   \n",
       "3  [0.0, 1.0, 2.0, 3.0, 4.0, 5.0, 6.0, 7.0, 8.0, ...   \n",
       "4  [0.0, 1.0, 2.0, 3.0, 4.0, 5.0, 6.0, 7.0, 8.0, ...   \n",
       "\n",
       "               vHPC_trace_filtered_power_frequencies  \\\n",
       "0  [0.0, 1.0, 2.0, 3.0, 4.0, 5.0, 6.0, 7.0, 8.0, ...   \n",
       "1  [0.0, 1.0, 2.0, 3.0, 4.0, 5.0, 6.0, 7.0, 8.0, ...   \n",
       "2  [0.0, 1.0, 2.0, 3.0, 4.0, 5.0, 6.0, 7.0, 8.0, ...   \n",
       "3  [0.0, 1.0, 2.0, 3.0, 4.0, 5.0, 6.0, 7.0, 8.0, ...   \n",
       "4  [0.0, 1.0, 2.0, 3.0, 4.0, 5.0, 6.0, 7.0, 8.0, ...   \n",
       "\n",
       "                 mPFC_RMS_filtered_power_frequencies  \\\n",
       "0  [0.0, 1.0, 2.0, 3.0, 4.0, 5.0, 6.0, 7.0, 8.0, ...   \n",
       "1  [0.0, 1.0, 2.0, 3.0, 4.0, 5.0, 6.0, 7.0, 8.0, ...   \n",
       "2  [0.0, 1.0, 2.0, 3.0, 4.0, 5.0, 6.0, 7.0, 8.0, ...   \n",
       "3  [0.0, 1.0, 2.0, 3.0, 4.0, 5.0, 6.0, 7.0, 8.0, ...   \n",
       "4  [0.0, 1.0, 2.0, 3.0, 4.0, 5.0, 6.0, 7.0, 8.0, ...   \n",
       "\n",
       "                   MD_RMS_filtered_power_frequencies  \\\n",
       "0  [0.0, 1.0, 2.0, 3.0, 4.0, 5.0, 6.0, 7.0, 8.0, ...   \n",
       "1  [0.0, 1.0, 2.0, 3.0, 4.0, 5.0, 6.0, 7.0, 8.0, ...   \n",
       "2  [0.0, 1.0, 2.0, 3.0, 4.0, 5.0, 6.0, 7.0, 8.0, ...   \n",
       "3  [0.0, 1.0, 2.0, 3.0, 4.0, 5.0, 6.0, 7.0, 8.0, ...   \n",
       "4  [0.0, 1.0, 2.0, 3.0, 4.0, 5.0, 6.0, 7.0, 8.0, ...   \n",
       "\n",
       "                   LH_RMS_filtered_power_frequencies  \\\n",
       "0  [0.0, 1.0, 2.0, 3.0, 4.0, 5.0, 6.0, 7.0, 8.0, ...   \n",
       "1  [0.0, 1.0, 2.0, 3.0, 4.0, 5.0, 6.0, 7.0, 8.0, ...   \n",
       "2  [0.0, 1.0, 2.0, 3.0, 4.0, 5.0, 6.0, 7.0, 8.0, ...   \n",
       "3  [0.0, 1.0, 2.0, 3.0, 4.0, 5.0, 6.0, 7.0, 8.0, ...   \n",
       "4  [0.0, 1.0, 2.0, 3.0, 4.0, 5.0, 6.0, 7.0, 8.0, ...   \n",
       "\n",
       "                  BLA_RMS_filtered_power_frequencies  \\\n",
       "0  [0.0, 1.0, 2.0, 3.0, 4.0, 5.0, 6.0, 7.0, 8.0, ...   \n",
       "1  [0.0, 1.0, 2.0, 3.0, 4.0, 5.0, 6.0, 7.0, 8.0, ...   \n",
       "2  [0.0, 1.0, 2.0, 3.0, 4.0, 5.0, 6.0, 7.0, 8.0, ...   \n",
       "3  [0.0, 1.0, 2.0, 3.0, 4.0, 5.0, 6.0, 7.0, 8.0, ...   \n",
       "4  [0.0, 1.0, 2.0, 3.0, 4.0, 5.0, 6.0, 7.0, 8.0, ...   \n",
       "\n",
       "                 vHPC_RMS_filtered_power_frequencies  \n",
       "0  [0.0, 1.0, 2.0, 3.0, 4.0, 5.0, 6.0, 7.0, 8.0, ...  \n",
       "1  [0.0, 1.0, 2.0, 3.0, 4.0, 5.0, 6.0, 7.0, 8.0, ...  \n",
       "2  [0.0, 1.0, 2.0, 3.0, 4.0, 5.0, 6.0, 7.0, 8.0, ...  \n",
       "3  [0.0, 1.0, 2.0, 3.0, 4.0, 5.0, 6.0, 7.0, 8.0, ...  \n",
       "4  [0.0, 1.0, 2.0, 3.0, 4.0, 5.0, 6.0, 7.0, 8.0, ...  "
      ]
     },
     "execution_count": 50,
     "metadata": {},
     "output_type": "execute_result"
    }
   ],
   "source": [
    "LFP_TRACES_DF[[col for col in LFP_TRACES_DF.columns if \"power_frequencies\" in col]].head()"
   ]
  },
  {
   "cell_type": "code",
   "execution_count": 51,
   "metadata": {},
   "outputs": [],
   "source": [
    "LFP_TRACES_DF[\"power_calculation_frequencies\"] = LFP_TRACES_DF[[col for col in LFP_TRACES_DF.columns if \"power_frequencies\" in col][0]].copy()"
   ]
  },
  {
   "cell_type": "markdown",
   "metadata": {},
   "source": [
    "- Dropping unnecessary columns"
   ]
  },
  {
   "cell_type": "code",
   "execution_count": 52,
   "metadata": {
    "tags": []
   },
   "outputs": [],
   "source": [
    "LFP_TRACES_DF = LFP_TRACES_DF.drop(columns=[col for col in LFP_TRACES_DF.columns if \"power_frequencies\" in col], errors=\"ignore\")"
   ]
  },
  {
   "cell_type": "code",
   "execution_count": 53,
   "metadata": {
    "tags": []
   },
   "outputs": [
    {
     "data": {
      "text/html": [
       "<div>\n",
       "<style scoped>\n",
       "    .dataframe tbody tr th:only-of-type {\n",
       "        vertical-align: middle;\n",
       "    }\n",
       "\n",
       "    .dataframe tbody tr th {\n",
       "        vertical-align: top;\n",
       "    }\n",
       "\n",
       "    .dataframe thead th {\n",
       "        text-align: right;\n",
       "    }\n",
       "</style>\n",
       "<table border=\"1\" class=\"dataframe\">\n",
       "  <thead>\n",
       "    <tr style=\"text-align: right;\">\n",
       "      <th></th>\n",
       "      <th>cohort</th>\n",
       "      <th>session_dir</th>\n",
       "      <th>tone_frames</th>\n",
       "      <th>box_1_port_entry_frames</th>\n",
       "      <th>box_2_port_entry_frames</th>\n",
       "      <th>video_name</th>\n",
       "      <th>session_path</th>\n",
       "      <th>recording</th>\n",
       "      <th>current_subject</th>\n",
       "      <th>subject</th>\n",
       "      <th>...</th>\n",
       "      <th>LH_trace_filtered_power_all_frequencies_all_windows</th>\n",
       "      <th>BLA_trace_filtered_power_all_frequencies_all_windows</th>\n",
       "      <th>vHPC_trace_filtered_power_all_frequencies_all_windows</th>\n",
       "      <th>mPFC_RMS_filtered_power_all_frequencies_all_windows</th>\n",
       "      <th>MD_RMS_filtered_power_all_frequencies_all_windows</th>\n",
       "      <th>LH_RMS_filtered_power_all_frequencies_all_windows</th>\n",
       "      <th>BLA_RMS_filtered_power_all_frequencies_all_windows</th>\n",
       "      <th>vHPC_RMS_filtered_power_all_frequencies_all_windows</th>\n",
       "      <th>power_timestamps</th>\n",
       "      <th>power_calculation_frequencies</th>\n",
       "    </tr>\n",
       "  </thead>\n",
       "  <tbody>\n",
       "    <tr>\n",
       "      <th>0</th>\n",
       "      <td>2</td>\n",
       "      <td>20230612_101430_standard_comp_to_training_D1_s...</td>\n",
       "      <td>[[980, 1181], [3376, 3575], [5672, 5871], [746...</td>\n",
       "      <td>[[490, 514], [518, 558], [558, 637], [638, 640...</td>\n",
       "      <td>[[33137, 33147], [33665, 33666], [33668, 33669...</td>\n",
       "      <td>20230612_101430_standard_comp_to_training_D1_s...</td>\n",
       "      <td>/scratch/back_up/reward_competition_extention/...</td>\n",
       "      <td>20230612_101430_standard_comp_to_training_D1_s...</td>\n",
       "      <td>1.3</td>\n",
       "      <td>1.3</td>\n",
       "      <td>...</td>\n",
       "      <td>[[83.4, 210.6, 252.9, 241.4, 153.2, 77.6, 219....</td>\n",
       "      <td>[[289.2, 188.1, 348.0, 359.8, 394.0, 262.5, 39...</td>\n",
       "      <td>[[476.8, 284.8, 806.5, 766.5, 974.5, 989.0, 10...</td>\n",
       "      <td>[[0.0418, 0.08, 0.0891, 0.0703, 0.03824, 0.021...</td>\n",
       "      <td>[[0.006805, 0.01892, 0.02309, 0.0266, 0.0177, ...</td>\n",
       "      <td>[[0.02045, 0.05164, 0.062, 0.05917, 0.03757, 0...</td>\n",
       "      <td>[[0.04288, 0.0279, 0.05157, 0.0533, 0.0584, 0....</td>\n",
       "      <td>[[0.00898, 0.00536, 0.01519, 0.014435, 0.01834...</td>\n",
       "      <td>[10000, 20000, 30000, 40000, 50000, 60000, 700...</td>\n",
       "      <td>[0.0, 1.0, 2.0, 3.0, 4.0, 5.0, 6.0, 7.0, 8.0, ...</td>\n",
       "    </tr>\n",
       "    <tr>\n",
       "      <th>1</th>\n",
       "      <td>2</td>\n",
       "      <td>20230612_101430_standard_comp_to_training_D1_s...</td>\n",
       "      <td>[[980, 1180], [3376, 3575], [5672, 5871], [746...</td>\n",
       "      <td>[[490, 514], [518, 558], [558, 637], [638, 640...</td>\n",
       "      <td>[[33021, 33027], [33502, 33503], [33504, 33506...</td>\n",
       "      <td>20230612_101430_standard_comp_to_training_D1_s...</td>\n",
       "      <td>/scratch/back_up/reward_competition_extention/...</td>\n",
       "      <td>20230612_101430_standard_comp_to_training_D1_s...</td>\n",
       "      <td>1.3</td>\n",
       "      <td>1.3</td>\n",
       "      <td>...</td>\n",
       "      <td>[[83.4, 210.6, 252.9, 241.4, 153.2, 77.6, 219....</td>\n",
       "      <td>[[289.2, 188.1, 348.0, 359.8, 394.0, 262.5, 39...</td>\n",
       "      <td>[[476.8, 284.8, 806.5, 766.5, 974.5, 989.0, 10...</td>\n",
       "      <td>[[0.0418, 0.08, 0.0891, 0.0703, 0.03824, 0.021...</td>\n",
       "      <td>[[0.006805, 0.01892, 0.02309, 0.0266, 0.0177, ...</td>\n",
       "      <td>[[0.02045, 0.05164, 0.062, 0.05917, 0.03757, 0...</td>\n",
       "      <td>[[0.04288, 0.0279, 0.05157, 0.0533, 0.0584, 0....</td>\n",
       "      <td>[[0.00898, 0.00536, 0.01519, 0.014435, 0.01834...</td>\n",
       "      <td>[10000, 20000, 30000, 40000, 50000, 60000, 700...</td>\n",
       "      <td>[0.0, 1.0, 2.0, 3.0, 4.0, 5.0, 6.0, 7.0, 8.0, ...</td>\n",
       "    </tr>\n",
       "    <tr>\n",
       "      <th>2</th>\n",
       "      <td>2</td>\n",
       "      <td>20230612_101430_standard_comp_to_training_D1_s...</td>\n",
       "      <td>[[980, 1181], [3376, 3575], [5672, 5871], [746...</td>\n",
       "      <td>[[490, 514], [518, 558], [558, 637], [638, 640...</td>\n",
       "      <td>[[33137, 33147], [33665, 33666], [33668, 33669...</td>\n",
       "      <td>20230612_101430_standard_comp_to_training_D1_s...</td>\n",
       "      <td>/scratch/back_up/reward_competition_extention/...</td>\n",
       "      <td>20230612_101430_standard_comp_to_training_D1_s...</td>\n",
       "      <td>1.4</td>\n",
       "      <td>1.4</td>\n",
       "      <td>...</td>\n",
       "      <td>[[18.31, 19.81, 18.12, 6.99, 4.957, 2.498, 28....</td>\n",
       "      <td>[[3.81, 11.74, 41.3, 47.66, 47.75, 8.86, 98.44...</td>\n",
       "      <td>[[6.227, 8.08, 27.77, 30.22, 30.38, 29.69, 177...</td>\n",
       "      <td>[[0.0002797, 0.000557, 0.002115, 0.002844, 0.0...</td>\n",
       "      <td>[[0.01076, 0.01129, 0.00969, 0.003513, 0.00261...</td>\n",
       "      <td>[[0.01478, 0.01599, 0.014626, 0.005642, 0.004,...</td>\n",
       "      <td>[[0.0005846, 0.0018015, 0.006336, 0.007313, 0....</td>\n",
       "      <td>[[0.001299, 0.001684, 0.00579, 0.006306, 0.006...</td>\n",
       "      <td>[10000, 20000, 30000, 40000, 50000, 60000, 700...</td>\n",
       "      <td>[0.0, 1.0, 2.0, 3.0, 4.0, 5.0, 6.0, 7.0, 8.0, ...</td>\n",
       "    </tr>\n",
       "    <tr>\n",
       "      <th>3</th>\n",
       "      <td>2</td>\n",
       "      <td>20230612_101430_standard_comp_to_training_D1_s...</td>\n",
       "      <td>[[980, 1180], [3376, 3575], [5672, 5871], [746...</td>\n",
       "      <td>[[490, 514], [518, 558], [558, 637], [638, 640...</td>\n",
       "      <td>[[33021, 33027], [33502, 33503], [33504, 33506...</td>\n",
       "      <td>20230612_101430_standard_comp_to_training_D1_s...</td>\n",
       "      <td>/scratch/back_up/reward_competition_extention/...</td>\n",
       "      <td>20230612_101430_standard_comp_to_training_D1_s...</td>\n",
       "      <td>1.4</td>\n",
       "      <td>1.4</td>\n",
       "      <td>...</td>\n",
       "      <td>[[18.31, 19.81, 18.12, 6.99, 4.957, 2.498, 28....</td>\n",
       "      <td>[[3.81, 11.74, 41.3, 47.66, 47.75, 8.86, 98.44...</td>\n",
       "      <td>[[6.227, 8.08, 27.77, 30.22, 30.38, 29.69, 177...</td>\n",
       "      <td>[[0.0002797, 0.000557, 0.002115, 0.002844, 0.0...</td>\n",
       "      <td>[[0.01076, 0.01129, 0.00969, 0.003513, 0.00261...</td>\n",
       "      <td>[[0.01478, 0.01599, 0.014626, 0.005642, 0.004,...</td>\n",
       "      <td>[[0.0005846, 0.0018015, 0.006336, 0.007313, 0....</td>\n",
       "      <td>[[0.001299, 0.001684, 0.00579, 0.006306, 0.006...</td>\n",
       "      <td>[10000, 20000, 30000, 40000, 50000, 60000, 700...</td>\n",
       "      <td>[0.0, 1.0, 2.0, 3.0, 4.0, 5.0, 6.0, 7.0, 8.0, ...</td>\n",
       "    </tr>\n",
       "    <tr>\n",
       "      <th>4</th>\n",
       "      <td>2</td>\n",
       "      <td>20230612_112630_standard_comp_to_training_D1_s...</td>\n",
       "      <td>[[1125, 1324], [3519, 3720], [5815, 6014], [76...</td>\n",
       "      <td>[[192, 248], [389, 405], [916, 929], [929, 948...</td>\n",
       "      <td>[[33019, 33020], [33246, 33251], [33253, 33255...</td>\n",
       "      <td>20230612_112630_standard_comp_to_training_D1_s...</td>\n",
       "      <td>/scratch/back_up/reward_competition_extention/...</td>\n",
       "      <td>20230612_112630_standard_comp_to_training_D1_s...</td>\n",
       "      <td>1.1</td>\n",
       "      <td>1.1</td>\n",
       "      <td>...</td>\n",
       "      <td>[[178.8, 120.0, 96.9, 31.48, 47.88, 133.5, 104...</td>\n",
       "      <td>[[109.06, 75.94, 79.44, 42.1, 30.89, 108.3, 12...</td>\n",
       "      <td>[[14.66, 107.9, 108.0, 183.0, 105.6, 207.6, 40...</td>\n",
       "      <td>[[0.02248, 0.0102, 0.03047, 0.01898, 0.03143, ...</td>\n",
       "      <td>[[0.0107, 0.007153, 0.006836, 0.00263, 0.00349...</td>\n",
       "      <td>[[0.01929, 0.01295, 0.01046, 0.003399, 0.00516...</td>\n",
       "      <td>[[0.008736, 0.00608, 0.006363, 0.00337, 0.0024...</td>\n",
       "      <td>[[0.000863, 0.006348, 0.00636, 0.01077, 0.0062...</td>\n",
       "      <td>[10000, 20000, 30000, 40000, 50000, 60000, 700...</td>\n",
       "      <td>[0.0, 1.0, 2.0, 3.0, 4.0, 5.0, 6.0, 7.0, 8.0, ...</td>\n",
       "    </tr>\n",
       "  </tbody>\n",
       "</table>\n",
       "<p>5 rows × 75 columns</p>\n",
       "</div>"
      ],
      "text/plain": [
       "   cohort                                        session_dir  \\\n",
       "0       2  20230612_101430_standard_comp_to_training_D1_s...   \n",
       "1       2  20230612_101430_standard_comp_to_training_D1_s...   \n",
       "2       2  20230612_101430_standard_comp_to_training_D1_s...   \n",
       "3       2  20230612_101430_standard_comp_to_training_D1_s...   \n",
       "4       2  20230612_112630_standard_comp_to_training_D1_s...   \n",
       "\n",
       "                                         tone_frames  \\\n",
       "0  [[980, 1181], [3376, 3575], [5672, 5871], [746...   \n",
       "1  [[980, 1180], [3376, 3575], [5672, 5871], [746...   \n",
       "2  [[980, 1181], [3376, 3575], [5672, 5871], [746...   \n",
       "3  [[980, 1180], [3376, 3575], [5672, 5871], [746...   \n",
       "4  [[1125, 1324], [3519, 3720], [5815, 6014], [76...   \n",
       "\n",
       "                             box_1_port_entry_frames  \\\n",
       "0  [[490, 514], [518, 558], [558, 637], [638, 640...   \n",
       "1  [[490, 514], [518, 558], [558, 637], [638, 640...   \n",
       "2  [[490, 514], [518, 558], [558, 637], [638, 640...   \n",
       "3  [[490, 514], [518, 558], [558, 637], [638, 640...   \n",
       "4  [[192, 248], [389, 405], [916, 929], [929, 948...   \n",
       "\n",
       "                             box_2_port_entry_frames  \\\n",
       "0  [[33137, 33147], [33665, 33666], [33668, 33669...   \n",
       "1  [[33021, 33027], [33502, 33503], [33504, 33506...   \n",
       "2  [[33137, 33147], [33665, 33666], [33668, 33669...   \n",
       "3  [[33021, 33027], [33502, 33503], [33504, 33506...   \n",
       "4  [[33019, 33020], [33246, 33251], [33253, 33255...   \n",
       "\n",
       "                                          video_name  \\\n",
       "0  20230612_101430_standard_comp_to_training_D1_s...   \n",
       "1  20230612_101430_standard_comp_to_training_D1_s...   \n",
       "2  20230612_101430_standard_comp_to_training_D1_s...   \n",
       "3  20230612_101430_standard_comp_to_training_D1_s...   \n",
       "4  20230612_112630_standard_comp_to_training_D1_s...   \n",
       "\n",
       "                                        session_path  \\\n",
       "0  /scratch/back_up/reward_competition_extention/...   \n",
       "1  /scratch/back_up/reward_competition_extention/...   \n",
       "2  /scratch/back_up/reward_competition_extention/...   \n",
       "3  /scratch/back_up/reward_competition_extention/...   \n",
       "4  /scratch/back_up/reward_competition_extention/...   \n",
       "\n",
       "                                           recording current_subject subject  \\\n",
       "0  20230612_101430_standard_comp_to_training_D1_s...             1.3     1.3   \n",
       "1  20230612_101430_standard_comp_to_training_D1_s...             1.3     1.3   \n",
       "2  20230612_101430_standard_comp_to_training_D1_s...             1.4     1.4   \n",
       "3  20230612_101430_standard_comp_to_training_D1_s...             1.4     1.4   \n",
       "4  20230612_112630_standard_comp_to_training_D1_s...             1.1     1.1   \n",
       "\n",
       "   ... LH_trace_filtered_power_all_frequencies_all_windows  \\\n",
       "0  ...  [[83.4, 210.6, 252.9, 241.4, 153.2, 77.6, 219....    \n",
       "1  ...  [[83.4, 210.6, 252.9, 241.4, 153.2, 77.6, 219....    \n",
       "2  ...  [[18.31, 19.81, 18.12, 6.99, 4.957, 2.498, 28....    \n",
       "3  ...  [[18.31, 19.81, 18.12, 6.99, 4.957, 2.498, 28....    \n",
       "4  ...  [[178.8, 120.0, 96.9, 31.48, 47.88, 133.5, 104...    \n",
       "\n",
       "   BLA_trace_filtered_power_all_frequencies_all_windows  \\\n",
       "0  [[289.2, 188.1, 348.0, 359.8, 394.0, 262.5, 39...      \n",
       "1  [[289.2, 188.1, 348.0, 359.8, 394.0, 262.5, 39...      \n",
       "2  [[3.81, 11.74, 41.3, 47.66, 47.75, 8.86, 98.44...      \n",
       "3  [[3.81, 11.74, 41.3, 47.66, 47.75, 8.86, 98.44...      \n",
       "4  [[109.06, 75.94, 79.44, 42.1, 30.89, 108.3, 12...      \n",
       "\n",
       "   vHPC_trace_filtered_power_all_frequencies_all_windows  \\\n",
       "0  [[476.8, 284.8, 806.5, 766.5, 974.5, 989.0, 10...       \n",
       "1  [[476.8, 284.8, 806.5, 766.5, 974.5, 989.0, 10...       \n",
       "2  [[6.227, 8.08, 27.77, 30.22, 30.38, 29.69, 177...       \n",
       "3  [[6.227, 8.08, 27.77, 30.22, 30.38, 29.69, 177...       \n",
       "4  [[14.66, 107.9, 108.0, 183.0, 105.6, 207.6, 40...       \n",
       "\n",
       "  mPFC_RMS_filtered_power_all_frequencies_all_windows  \\\n",
       "0  [[0.0418, 0.08, 0.0891, 0.0703, 0.03824, 0.021...    \n",
       "1  [[0.0418, 0.08, 0.0891, 0.0703, 0.03824, 0.021...    \n",
       "2  [[0.0002797, 0.000557, 0.002115, 0.002844, 0.0...    \n",
       "3  [[0.0002797, 0.000557, 0.002115, 0.002844, 0.0...    \n",
       "4  [[0.02248, 0.0102, 0.03047, 0.01898, 0.03143, ...    \n",
       "\n",
       "   MD_RMS_filtered_power_all_frequencies_all_windows  \\\n",
       "0  [[0.006805, 0.01892, 0.02309, 0.0266, 0.0177, ...   \n",
       "1  [[0.006805, 0.01892, 0.02309, 0.0266, 0.0177, ...   \n",
       "2  [[0.01076, 0.01129, 0.00969, 0.003513, 0.00261...   \n",
       "3  [[0.01076, 0.01129, 0.00969, 0.003513, 0.00261...   \n",
       "4  [[0.0107, 0.007153, 0.006836, 0.00263, 0.00349...   \n",
       "\n",
       "   LH_RMS_filtered_power_all_frequencies_all_windows  \\\n",
       "0  [[0.02045, 0.05164, 0.062, 0.05917, 0.03757, 0...   \n",
       "1  [[0.02045, 0.05164, 0.062, 0.05917, 0.03757, 0...   \n",
       "2  [[0.01478, 0.01599, 0.014626, 0.005642, 0.004,...   \n",
       "3  [[0.01478, 0.01599, 0.014626, 0.005642, 0.004,...   \n",
       "4  [[0.01929, 0.01295, 0.01046, 0.003399, 0.00516...   \n",
       "\n",
       "  BLA_RMS_filtered_power_all_frequencies_all_windows  \\\n",
       "0  [[0.04288, 0.0279, 0.05157, 0.0533, 0.0584, 0....   \n",
       "1  [[0.04288, 0.0279, 0.05157, 0.0533, 0.0584, 0....   \n",
       "2  [[0.0005846, 0.0018015, 0.006336, 0.007313, 0....   \n",
       "3  [[0.0005846, 0.0018015, 0.006336, 0.007313, 0....   \n",
       "4  [[0.008736, 0.00608, 0.006363, 0.00337, 0.0024...   \n",
       "\n",
       "  vHPC_RMS_filtered_power_all_frequencies_all_windows  \\\n",
       "0  [[0.00898, 0.00536, 0.01519, 0.014435, 0.01834...    \n",
       "1  [[0.00898, 0.00536, 0.01519, 0.014435, 0.01834...    \n",
       "2  [[0.001299, 0.001684, 0.00579, 0.006306, 0.006...    \n",
       "3  [[0.001299, 0.001684, 0.00579, 0.006306, 0.006...    \n",
       "4  [[0.000863, 0.006348, 0.00636, 0.01077, 0.0062...    \n",
       "\n",
       "                                    power_timestamps  \\\n",
       "0  [10000, 20000, 30000, 40000, 50000, 60000, 700...   \n",
       "1  [10000, 20000, 30000, 40000, 50000, 60000, 700...   \n",
       "2  [10000, 20000, 30000, 40000, 50000, 60000, 700...   \n",
       "3  [10000, 20000, 30000, 40000, 50000, 60000, 700...   \n",
       "4  [10000, 20000, 30000, 40000, 50000, 60000, 700...   \n",
       "\n",
       "                       power_calculation_frequencies  \n",
       "0  [0.0, 1.0, 2.0, 3.0, 4.0, 5.0, 6.0, 7.0, 8.0, ...  \n",
       "1  [0.0, 1.0, 2.0, 3.0, 4.0, 5.0, 6.0, 7.0, 8.0, ...  \n",
       "2  [0.0, 1.0, 2.0, 3.0, 4.0, 5.0, 6.0, 7.0, 8.0, ...  \n",
       "3  [0.0, 1.0, 2.0, 3.0, 4.0, 5.0, 6.0, 7.0, 8.0, ...  \n",
       "4  [0.0, 1.0, 2.0, 3.0, 4.0, 5.0, 6.0, 7.0, 8.0, ...  \n",
       "\n",
       "[5 rows x 75 columns]"
      ]
     },
     "execution_count": 53,
     "metadata": {},
     "output_type": "execute_result"
    }
   ],
   "source": [
    "LFP_TRACES_DF.head()"
   ]
  },
  {
   "cell_type": "code",
   "execution_count": 54,
   "metadata": {
    "tags": []
   },
   "outputs": [
    {
     "data": {
      "text/plain": [
       "0    [[0.0418, 0.08, 0.0891, 0.0703, 0.03824, 0.021...\n",
       "1    [[0.0418, 0.08, 0.0891, 0.0703, 0.03824, 0.021...\n",
       "2    [[0.0002797, 0.000557, 0.002115, 0.002844, 0.0...\n",
       "3    [[0.0002797, 0.000557, 0.002115, 0.002844, 0.0...\n",
       "4    [[0.02248, 0.0102, 0.03047, 0.01898, 0.03143, ...\n",
       "Name: mPFC_RMS_filtered_power_all_frequencies_all_windows, dtype: object"
      ]
     },
     "execution_count": 54,
     "metadata": {},
     "output_type": "execute_result"
    }
   ],
   "source": [
    "LFP_TRACES_DF[\"mPFC_RMS_filtered_power_all_frequencies_all_windows\"].head()"
   ]
  },
  {
   "cell_type": "code",
   "execution_count": 55,
   "metadata": {
    "tags": []
   },
   "outputs": [
    {
     "data": {
      "text/plain": [
       "(6833, 500)"
      ]
     },
     "execution_count": 55,
     "metadata": {},
     "output_type": "execute_result"
    }
   ],
   "source": [
    "LFP_TRACES_DF[\"mPFC_RMS_filtered_power_all_frequencies_all_windows\"].iloc[4].shape"
   ]
  },
  {
   "cell_type": "code",
   "execution_count": 56,
   "metadata": {
    "tags": []
   },
   "outputs": [
    {
     "data": {
      "text/plain": [
       "0    [0.885, 0.762, 0.905, 1.229, 1.149, 0.858, 0.6...\n",
       "1    [0.885, 0.762, 0.905, 1.229, 1.149, 0.858, 0.6...\n",
       "2    [0.272, 0.403, 0.454, 0.518, 0.622, 0.24, -0.4...\n",
       "3    [0.272, 0.403, 0.454, 0.518, 0.622, 0.24, -0.4...\n",
       "4    [-0.048, 0.21, 0.747, 1.122, 0.996, 0.512, 0.2...\n",
       "Name: mPFC_lfp_RMS_filtered, dtype: object"
      ]
     },
     "execution_count": 56,
     "metadata": {},
     "output_type": "execute_result"
    }
   ],
   "source": [
    "LFP_TRACES_DF[\"mPFC_lfp_RMS_filtered\"].head()"
   ]
  },
  {
   "cell_type": "code",
   "execution_count": 61,
   "metadata": {
    "tags": []
   },
   "outputs": [
    {
     "data": {
      "text/plain": [
       "[<matplotlib.lines.Line2D at 0x14fd39915120>]"
      ]
     },
     "execution_count": 61,
     "metadata": {},
     "output_type": "execute_result"
    },
    {
     "data": {
      "image/png": "[encoded data removed]",
      "text/plain": [
       "<Figure size 640x480 with 1 Axes>"
      ]
     },
     "metadata": {},
     "output_type": "display_data"
    }
   ],
   "source": [
    "plt.plot(LFP_TRACES_DF[\"BLA_lfp_trace\"].iloc[0])"
   ]
  },
  {
   "cell_type": "code",
   "execution_count": 62,
   "metadata": {
    "tags": []
   },
   "outputs": [
    {
     "data": {
      "text/plain": [
       "[<matplotlib.lines.Line2D at 0x14ff1e4be590>]"
      ]
     },
     "execution_count": 62,
     "metadata": {},
     "output_type": "execute_result"
    },
    {
     "data": {
      "image/png": "[encoded data removed]",
      "text/plain": [
       "<Figure size 640x480 with 1 Axes>"
      ]
     },
     "metadata": {},
     "output_type": "display_data"
    }
   ],
   "source": [
    "plt.plot(LFP_TRACES_DF[\"BLA_lfp_RMS\"].iloc[0])"
   ]
  },
  {
   "cell_type": "code",
   "execution_count": 60,
   "metadata": {
    "tags": []
   },
   "outputs": [
    {
     "data": {
      "text/plain": [
       "[<matplotlib.lines.Line2D at 0x14fd39498550>]"
      ]
     },
     "execution_count": 60,
     "metadata": {},
     "output_type": "execute_result"
    },
    {
     "data": {
      "image/png": "[encoded data removed]",
      "text/plain": [
       "<Figure size 640x480 with 1 Axes>"
      ]
     },
     "metadata": {},
     "output_type": "display_data"
    }
   ],
   "source": [
    "plt.plot(LFP_TRACES_DF[\"BLA_lfp_RMS_filtered\"].iloc[0])"
   ]
  },
  {
   "cell_type": "code",
   "execution_count": null,
   "metadata": {
    "tags": []
   },
   "outputs": [],
   "source": [
    "LFP_TRACES_DF[\"BLA_trace_power_all_frequencies_all_windows\"].apply(lambda x: np.sum(np.isnan(x[:,3:13])))"
   ]
  },
  {
   "cell_type": "code",
   "execution_count": null,
   "metadata": {
    "tags": []
   },
   "outputs": [],
   "source": [
    "LFP_TRACES_DF[\"BLA_RMS_filtered_power_all_frequencies_all_windows\"].apply(lambda x: np.sum(np.isnan(x[:,3:13])))"
   ]
  },
  {
   "cell_type": "code",
   "execution_count": null,
   "metadata": {},
   "outputs": [],
   "source": [
    "raise ValueError()"
   ]
  },
  {
   "cell_type": "code",
   "execution_count": null,
   "metadata": {
    "tags": []
   },
   "outputs": [],
   "source": [
    "# LFP_TRACES_DF.to_pickle(\"./proc/rce2_spectral_granger.pkl\")\n",
    "LFP_TRACES_DF.to_pickle(\"./proc/rce_pilot_2_02_full_spectral.pkl\")\n",
    "# LFP_TRACES_DF.to_pickle(\"/blue/npadillacoreano/ryoi360/projects/reward_comp/final_proc/rce_pilot_2_02_spectral_granger.pkl\")"
   ]
  },
  {
   "cell_type": "code",
   "execution_count": null,
   "metadata": {},
   "outputs": [],
   "source": [
    "raise ValueError()"
   ]
  },
  {
   "cell_type": "code",
   "execution_count": null,
   "metadata": {},
   "outputs": [],
   "source": []
  },
  {
   "cell_type": "markdown",
   "metadata": {},
   "source": [
    "## Calculating phase of signals"
   ]
  },
  {
   "cell_type": "code",
   "execution_count": null,
   "metadata": {},
   "outputs": [],
   "source": [
    "from scipy.signal import butter, filtfilt, hilbert"
   ]
  },
  {
   "cell_type": "markdown",
   "metadata": {},
   "source": [
    "- Filtering for theta and gamma"
   ]
  },
  {
   "cell_type": "code",
   "execution_count": null,
   "metadata": {},
   "outputs": [],
   "source": [
    "RMS_columns = [col for col in LFP_TRACES_DF if \"RMS\" in col and \"filtered\" not in col]"
   ]
  },
  {
   "cell_type": "code",
   "execution_count": null,
   "metadata": {},
   "outputs": [],
   "source": [
    "fs = 1000\n",
    "order=4"
   ]
  },
  {
   "cell_type": "code",
   "execution_count": null,
   "metadata": {},
   "outputs": [],
   "source": [
    "freq_band = [4, 12]\n",
    "b, a = butter(order, freq_band, fs=fs, btype='band')"
   ]
  },
  {
   "cell_type": "code",
   "execution_count": null,
   "metadata": {},
   "outputs": [],
   "source": [
    "for col in RMS_columns:\n",
    "    print(col)\n",
    "    brain_region = col.split(\"_\")[0]\n",
    "    updated_column = \"{}_theta_band\".format(brain_region)\n",
    "    LFP_TRACES_DF[updated_column] = LFP_TRACES_DF[col].apply(lambda x: filtfilt(b, a, x, padtype=None).astype(np.float32))"
   ]
  },
  {
   "cell_type": "code",
   "execution_count": null,
   "metadata": {},
   "outputs": [],
   "source": [
    "freq_band = [30, 50]\n",
    "b, a = butter(order, freq_band, fs=fs, btype='band')"
   ]
  },
  {
   "cell_type": "code",
   "execution_count": null,
   "metadata": {},
   "outputs": [],
   "source": [
    "for col in RMS_columns:\n",
    "    print(col)\n",
    "    brain_region = col.split(\"_\")[0]\n",
    "    updated_column = \"{}_gamma_band\".format(brain_region)\n",
    "    LFP_TRACES_DF[updated_column] = LFP_TRACES_DF[col].apply(lambda x: filtfilt(b, a, x, padtype=None).astype(np.float32))"
   ]
  },
  {
   "cell_type": "markdown",
   "metadata": {},
   "source": [
    "- Calculating the phase"
   ]
  },
  {
   "cell_type": "code",
   "execution_count": null,
   "metadata": {},
   "outputs": [],
   "source": [
    "band_columns = [col for col in LFP_TRACES_DF if \"band\" in col]"
   ]
  },
  {
   "cell_type": "code",
   "execution_count": null,
   "metadata": {},
   "outputs": [],
   "source": [
    "band_columns"
   ]
  },
  {
   "cell_type": "code",
   "execution_count": null,
   "metadata": {},
   "outputs": [],
   "source": [
    "for col in band_columns:\n",
    "    print(col)\n",
    "    brain_region = col.replace(\"_band\", \"\")\n",
    "    updated_column = \"{}_phase\".format(brain_region)\n",
    "    print(updated_column)\n",
    "    LFP_TRACES_DF[updated_column] = LFP_TRACES_DF[col].apply(lambda x: np.angle(hilbert(x), deg=False))"
   ]
  },
  {
   "cell_type": "code",
   "execution_count": null,
   "metadata": {},
   "outputs": [],
   "source": [
    "LFP_TRACES_DF[col]"
   ]
  },
  {
   "cell_type": "code",
   "execution_count": null,
   "metadata": {},
   "outputs": [],
   "source": [
    "raise ValueError()"
   ]
  },
  {
   "cell_type": "markdown",
   "metadata": {},
   "source": [
    "## Coherence Calculation"
   ]
  },
  {
   "cell_type": "markdown",
   "metadata": {},
   "source": [
    "- Getting the trace column pairs"
   ]
  },
  {
   "cell_type": "code",
   "execution_count": null,
   "metadata": {},
   "outputs": [],
   "source": []
  },
  {
   "cell_type": "code",
   "execution_count": null,
   "metadata": {
    "tags": []
   },
   "outputs": [],
   "source": [
    "trace_columns"
   ]
  },
  {
   "cell_type": "code",
   "execution_count": null,
   "metadata": {
    "tags": []
   },
   "outputs": [],
   "source": [
    "brain_region_pairs = generate_pairs(sorted(trace_columns))\n",
    "brain_region_pairs = sorted(brain_region_pairs)\n"
   ]
  },
  {
   "cell_type": "code",
   "execution_count": null,
   "metadata": {
    "tags": []
   },
   "outputs": [],
   "source": [
    "brain_region_pairs"
   ]
  },
  {
   "cell_type": "markdown",
   "metadata": {},
   "source": [
    "## Coherece Calculation"
   ]
  },
  {
   "cell_type": "markdown",
   "metadata": {},
   "source": [
    "- Calculating the coherence"
   ]
  },
  {
   "cell_type": "code",
   "execution_count": null,
   "metadata": {
    "tags": []
   },
   "outputs": [],
   "source": [
    "for region_1, region_2 in brain_region_pairs:\n",
    "    # Define base name for pair\n",
    "    pair_base_name = f\"{region_1.split('_')[0]}_{region_2.split('_')[0]}\"\n",
    "    print(pair_base_name)\n",
    "\n",
    "    try:\n",
    "        # Define column names\n",
    "        multitaper_col = f\"{pair_base_name}_coherence_multitaper\"\n",
    "        connectivity_col = f\"{pair_base_name}_coherence_connectivity\"\n",
    "        frequencies_col = f\"{pair_base_name}_coherence_frequencies\"\n",
    "        coherence_col = f\"{pair_base_name}_coherence_all_frequencies_all_windows\"\n",
    "\n",
    "        # Apply Multitaper function\n",
    "        LFP_TRACES_DF[multitaper_col] = LFP_TRACES_DF.apply(\n",
    "            lambda x: Multitaper(\n",
    "                time_series=np.array([x[region_1], x[region_2]]).T, \n",
    "                sampling_frequency=RESAMPLE_RATE, \n",
    "                time_halfbandwidth_product=TIME_HALFBANDWIDTH_PRODUCT, \n",
    "                time_window_step=TIME_WINDOW_STEP, \n",
    "                time_window_duration=TIME_WINDOW_DURATION\n",
    "            ), \n",
    "            axis=1\n",
    "        )\n",
    "\n",
    "        # Apply Connectivity function\n",
    "        LFP_TRACES_DF[connectivity_col] = LFP_TRACES_DF[multitaper_col].apply(\n",
    "            lambda x: Connectivity.from_multitaper(x)\n",
    "        )\n",
    "\n",
    "        # Apply frequencies and coherence functions\n",
    "        LFP_TRACES_DF[frequencies_col] = LFP_TRACES_DF[connectivity_col].apply(\n",
    "            lambda x: x.frequencies\n",
    "        )\n",
    "        LFP_TRACES_DF[coherence_col] = LFP_TRACES_DF[connectivity_col].apply(\n",
    "            lambda x: x.coherence_magnitude()[:,:,0,1]\n",
    "        )\n",
    "\n",
    "        LFP_TRACES_DF[coherence_col] = LFP_TRACES_DF[coherence_col].apply(lambda x: x.astype(np.float16))\n",
    "\n",
    "    except Exception as e: \n",
    "        print(e)\n",
    "\n",
    "    # Drop temporary columns\n",
    "    LFP_TRACES_DF = LFP_TRACES_DF.drop(columns=[multitaper_col, connectivity_col], errors=\"ignore\")"
   ]
  },
  {
   "cell_type": "markdown",
   "metadata": {},
   "source": [
    "- Getting the timestamps of the coherence"
   ]
  },
  {
   "cell_type": "code",
   "execution_count": null,
   "metadata": {
    "tags": []
   },
   "outputs": [],
   "source": [
    "LFP_TRACES_DF[\"coherence_timestamps\"] = LFP_TRACES_DF[\"lfp_timestamps\"].apply(lambda x: x[(RESAMPLE_RATE//2):(-RESAMPLE_RATE//2):(RESAMPLE_RATE//2)])\n"
   ]
  },
  {
   "cell_type": "markdown",
   "metadata": {},
   "source": [
    "- Making sure that the timestamps for coherence makes sense with shape and values"
   ]
  },
  {
   "cell_type": "code",
   "execution_count": null,
   "metadata": {
    "tags": []
   },
   "outputs": [],
   "source": [
    "LFP_TRACES_DF[\"coherence_timestamps\"].head().apply(lambda x: x.shape)"
   ]
  },
  {
   "cell_type": "code",
   "execution_count": null,
   "metadata": {
    "tags": []
   },
   "outputs": [],
   "source": [
    "LFP_TRACES_DF[[col for col in LFP_TRACES_DF.columns if \"coherence_all_frequencies_all_windows\" in col][0]].iloc[0].shape"
   ]
  },
  {
   "cell_type": "code",
   "execution_count": null,
   "metadata": {
    "tags": []
   },
   "outputs": [],
   "source": [
    "LFP_TRACES_DF[[col for col in LFP_TRACES_DF.columns if \"lfp_timestamps\" in col][0]].iloc[0]"
   ]
  },
  {
   "cell_type": "code",
   "execution_count": null,
   "metadata": {
    "tags": []
   },
   "outputs": [],
   "source": [
    "LFP_TRACES_DF[[col for col in LFP_TRACES_DF.columns if \"coherence_timestamps\" in col][0]].iloc[0]"
   ]
  },
  {
   "cell_type": "markdown",
   "metadata": {},
   "source": [
    "- Checking if the right frequencies are being used"
   ]
  },
  {
   "cell_type": "code",
   "execution_count": null,
   "metadata": {
    "tags": []
   },
   "outputs": [],
   "source": [
    "LFP_TRACES_DF[[col for col in LFP_TRACES_DF.columns if \"coherence_frequencies\" in col]].head()"
   ]
  },
  {
   "cell_type": "code",
   "execution_count": null,
   "metadata": {},
   "outputs": [],
   "source": [
    "LFP_TRACES_DF[\"coherence_calculation_frequencies\"] = LFP_TRACES_DF[[col for col in LFP_TRACES_DF.columns if \"coherence_frequencies\" in col][0]].copy()"
   ]
  },
  {
   "cell_type": "markdown",
   "metadata": {},
   "source": [
    "- Dropping unnecessary columns"
   ]
  },
  {
   "cell_type": "code",
   "execution_count": null,
   "metadata": {
    "tags": []
   },
   "outputs": [],
   "source": [
    "LFP_TRACES_DF = LFP_TRACES_DF.drop(columns=[col for col in LFP_TRACES_DF.columns if \"coherence_frequencies\" in col], errors=\"ignore\")"
   ]
  },
  {
   "cell_type": "code",
   "execution_count": null,
   "metadata": {
    "tags": []
   },
   "outputs": [],
   "source": [
    "LFP_TRACES_DF.head()"
   ]
  },
  {
   "cell_type": "code",
   "execution_count": null,
   "metadata": {
    "tags": []
   },
   "outputs": [],
   "source": [
    "LFP_TRACES_DF.to_pickle(\"./proc/rce2_spectral_coherence.pkl\")"
   ]
  },
  {
   "cell_type": "markdown",
   "metadata": {},
   "source": [
    "# Calculate Granger's"
   ]
  },
  {
   "cell_type": "code",
   "execution_count": null,
   "metadata": {
    "tags": []
   },
   "outputs": [],
   "source": [
    "for region_1, region_2 in brain_region_pairs:\n",
    "    # Define base name for pair\n",
    "    region_1_base_name = region_1.split('_')[0]\n",
    "    region_2_base_name = region_2.split('_')[0]\n",
    "\n",
    "    pair_base_name = f\"{region_1_base_name}_{region_2_base_name}\"\n",
    "    print(pair_base_name)\n",
    "\n",
    "    try:\n",
    "        # Define column names\n",
    "        multitaper_col = f\"{pair_base_name}_granger_multitaper\"\n",
    "        connectivity_col = f\"{pair_base_name}_granger_connectivity\"\n",
    "        frequencies_col = f\"{pair_base_name}_granger_frequencies\"\n",
    "        granger_1_2_col = f\"{region_1_base_name}_{region_2_base_name}_granger_all_frequencies_all_windows\"\n",
    "        granger_2_1_col = f\"{region_2_base_name}_{region_1_base_name}_granger_all_frequencies_all_windows\"\n",
    "\n",
    "        # Apply Multitaper function\n",
    "        LFP_TRACES_DF[multitaper_col] = LFP_TRACES_DF.apply(\n",
    "            lambda x: Multitaper(\n",
    "                time_series=np.array([x[region_1], x[region_2]]).T, \n",
    "                sampling_frequency=RESAMPLE_RATE, \n",
    "                time_halfbandwidth_product=TIME_HALFBANDWIDTH_PRODUCT, \n",
    "                time_window_step=TIME_WINDOW_STEP, \n",
    "                time_window_duration=TIME_WINDOW_DURATION\n",
    "            ), \n",
    "            axis=1\n",
    "        )\n",
    "    \n",
    "        # Apply Connectivity function\n",
    "        LFP_TRACES_DF[connectivity_col] = LFP_TRACES_DF[multitaper_col].apply(\n",
    "            lambda x: Connectivity.from_multitaper(x)\n",
    "        )\n",
    "\n",
    "        # Apply frequencies and granger functions\n",
    "        LFP_TRACES_DF[frequencies_col] = LFP_TRACES_DF[connectivity_col].apply(\n",
    "            lambda x: x.frequencies\n",
    "        )\n",
    "        \n",
    "        LFP_TRACES_DF[granger_1_2_col] = LFP_TRACES_DF[connectivity_col].apply(\n",
    "            lambda x: x.pairwise_spectral_granger_prediction()[:,:,0,1]\n",
    "        )\n",
    "\n",
    "        LFP_TRACES_DF[granger_2_1_col] = LFP_TRACES_DF[connectivity_col].apply(\n",
    "            lambda x: x.pairwise_spectral_granger_prediction()[:,:,1,0]\n",
    "        )\n",
    "\n",
    "        LFP_TRACES_DF[granger_1_2_col] = LFP_TRACES_DF[granger_1_2_col].apply(lambda x: x.astype(np.float16))\n",
    "        LFP_TRACES_DF[granger_2_1_col] = LFP_TRACES_DF[granger_2_1_col].apply(lambda x: x.astype(np.float16))\n",
    "        \n",
    "    except Exception as e: \n",
    "        print(e)\n",
    "\n",
    "    # Drop temporary columns\n",
    "    LFP_TRACES_DF = LFP_TRACES_DF.drop(columns=[multitaper_col, connectivity_col], errors=\"ignore\")"
   ]
  },
  {
   "cell_type": "code",
   "execution_count": null,
   "metadata": {},
   "outputs": [],
   "source": []
  },
  {
   "cell_type": "markdown",
   "metadata": {},
   "source": [
    "- Getting the timestamps of the granger"
   ]
  },
  {
   "cell_type": "code",
   "execution_count": null,
   "metadata": {
    "tags": []
   },
   "outputs": [],
   "source": [
    "LFP_TRACES_DF[\"granger_timestamps\"] = LFP_TRACES_DF[\"lfp_timestamps\"].apply(lambda x: x[(RESAMPLE_RATE//2):(-RESAMPLE_RATE//2):(RESAMPLE_RATE//2)])\n"
   ]
  },
  {
   "cell_type": "markdown",
   "metadata": {},
   "source": [
    "- Making sure that the timestamps for granger makes sense with shape and values"
   ]
  },
  {
   "cell_type": "code",
   "execution_count": null,
   "metadata": {
    "tags": []
   },
   "outputs": [],
   "source": [
    "LFP_TRACES_DF[\"granger_timestamps\"].head().apply(lambda x: x.shape)"
   ]
  },
  {
   "cell_type": "code",
   "execution_count": null,
   "metadata": {
    "tags": []
   },
   "outputs": [],
   "source": [
    "LFP_TRACES_DF[[col for col in LFP_TRACES_DF.columns if \"granger_all_frequencies_all_windows\" in col][0]].iloc[0].shape"
   ]
  },
  {
   "cell_type": "code",
   "execution_count": null,
   "metadata": {
    "tags": []
   },
   "outputs": [],
   "source": [
    "LFP_TRACES_DF[[col for col in LFP_TRACES_DF.columns if \"lfp_timestamps\" in col][0]].iloc[0]"
   ]
  },
  {
   "cell_type": "code",
   "execution_count": null,
   "metadata": {
    "tags": []
   },
   "outputs": [],
   "source": [
    "LFP_TRACES_DF[[col for col in LFP_TRACES_DF.columns if \"granger_timestamps\" in col][0]].iloc[0]"
   ]
  },
  {
   "cell_type": "markdown",
   "metadata": {},
   "source": [
    "- Checking if the right frequencies are being used"
   ]
  },
  {
   "cell_type": "code",
   "execution_count": null,
   "metadata": {
    "tags": []
   },
   "outputs": [],
   "source": [
    "LFP_TRACES_DF[[col for col in LFP_TRACES_DF.columns if \"granger_frequencies\" in col]].head()"
   ]
  },
  {
   "cell_type": "code",
   "execution_count": null,
   "metadata": {},
   "outputs": [],
   "source": [
    "LFP_TRACES_DF[\"granger_calculation_frequencies\"] = LFP_TRACES_DF[[col for col in LFP_TRACES_DF.columns if \"granger_frequencies\" in col][0]].copy()"
   ]
  },
  {
   "cell_type": "markdown",
   "metadata": {},
   "source": [
    "- Dropping unnecessary columns"
   ]
  },
  {
   "cell_type": "code",
   "execution_count": null,
   "metadata": {
    "tags": []
   },
   "outputs": [],
   "source": [
    "LFP_TRACES_DF = LFP_TRACES_DF.drop(columns=[col for col in LFP_TRACES_DF.columns if \"granger_frequencies\" in col], errors=\"ignore\")"
   ]
  },
  {
   "cell_type": "code",
   "execution_count": null,
   "metadata": {
    "tags": []
   },
   "outputs": [],
   "source": [
    "LFP_TRACES_DF.head()"
   ]
  },
  {
   "cell_type": "markdown",
   "metadata": {},
   "source": [
    "## Calculating the averages"
   ]
  },
  {
   "cell_type": "code",
   "execution_count": null,
   "metadata": {
    "tags": []
   },
   "outputs": [],
   "source": [
    "LFP_TRACES_DF.columns"
   ]
  },
  {
   "cell_type": "code",
   "execution_count": null,
   "metadata": {
    "tags": []
   },
   "outputs": [],
   "source": [
    "# LFP_TRACES_DF.to_pickle(\"./proc/rce2_spectral_granger.pkl\")\n",
    "LFP_TRACES_DF.to_pickle(\"./proc/rce_pilot_2_02_full_spectral.pkl\")\n",
    "# LFP_TRACES_DF.to_pickle(\"/blue/npadillacoreano/ryoi360/projects/reward_comp/final_proc/rce_pilot_2_02_spectral_granger.pkl\")"
   ]
  },
  {
   "cell_type": "code",
   "execution_count": null,
   "metadata": {
    "tags": []
   },
   "outputs": [],
   "source": [
    "raise ValueError()"
   ]
  },
  {
   "cell_type": "code",
   "execution_count": null,
   "metadata": {},
   "outputs": [],
   "source": []
  }
 ],
 "metadata": {
  "deepnote": {},
  "deepnote_execution_queue": [],
  "deepnote_notebook_id": "cf8fe3695d074ee7887fdf6459cbf5ce",
  "kernelspec": {
   "display_name": "spike_interface_0_99_0",
   "language": "python",
   "name": "spike_interface_0_99_0"
  },
  "language_info": {
   "codemirror_mode": {
    "name": "ipython",
    "version": 3
   },
   "file_extension": ".py",
   "mimetype": "text/x-python",
   "name": "python",
   "nbconvert_exporter": "python",
   "pygments_lexer": "ipython3",
   "version": "3.10.13"
  }
 },
 "nbformat": 4,
 "nbformat_minor": 4
}
