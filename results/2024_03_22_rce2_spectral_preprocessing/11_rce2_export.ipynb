{
 "cells": [
  {
   "cell_type": "markdown",
   "metadata": {
    "cell_id": "c3a02adc9e884466bc8c79db549cc3d2",
    "deepnote_cell_type": "text-cell-h1",
    "formattedRanges": [
     {
      "fromCodePoint": 0,
      "marks": {
       "bold": true,
       "underline": true
      },
      "toCodePoint": 17,
      "type": "marks"
     }
    ]
   },
   "source": [
    "# All oscillation analysis"
   ]
  },
  {
   "cell_type": "markdown",
   "metadata": {
    "cell_id": "4546bee655b14a5dbf393161f1228e60",
    "deepnote_cell_type": "text-cell-p",
    "formattedRanges": []
   },
   "source": [
    "Brief 1-2 sentence description of notebook."
   ]
  },
  {
   "cell_type": "code",
   "execution_count": null,
   "metadata": {},
   "outputs": [],
   "source": []
  },
  {
   "cell_type": "code",
   "execution_count": 1,
   "metadata": {
    "tags": []
   },
   "outputs": [],
   "source": [
    "# Imports of all used packages and libraries\n",
    "import sys\n",
    "import os\n",
    "import git\n",
    "import glob\n",
    "from collections import defaultdict"
   ]
  },
  {
   "cell_type": "code",
   "execution_count": 2,
   "metadata": {
    "tags": []
   },
   "outputs": [],
   "source": [
    "git_repo = git.Repo(\".\", search_parent_directories=True)\n",
    "git_root = git_repo.git.rev_parse(\"--show-toplevel\")"
   ]
  },
  {
   "cell_type": "code",
   "execution_count": 3,
   "metadata": {
    "tags": []
   },
   "outputs": [
    {
     "data": {
      "text/plain": [
       "'/blue/npadillacoreano/ryoi360/projects/reward_comp/repos/reward_competition_extention'"
      ]
     },
     "execution_count": 3,
     "metadata": {},
     "output_type": "execute_result"
    }
   ],
   "source": [
    "git_root"
   ]
  },
  {
   "cell_type": "code",
   "execution_count": 4,
   "metadata": {
    "tags": []
   },
   "outputs": [],
   "source": [
    "sys.path.insert(0, os.path.join(git_root, 'src'))"
   ]
  },
  {
   "cell_type": "code",
   "execution_count": 5,
   "metadata": {
    "tags": []
   },
   "outputs": [],
   "source": [
    "import warnings\n",
    "warnings.filterwarnings('ignore')"
   ]
  },
  {
   "cell_type": "code",
   "execution_count": 6,
   "metadata": {
    "tags": []
   },
   "outputs": [],
   "source": [
    "import os\n",
    "import collections\n",
    "import itertools\n",
    "from collections import defaultdict\n",
    "from itertools import combinations"
   ]
  },
  {
   "cell_type": "raw",
   "metadata": {},
   "source": [
    "os.environ[\"SPECTRAL_CONNECTIVITY_ENABLE_GPU\"] = \"true\"\n",
    "import cupy as cp"
   ]
  },
  {
   "cell_type": "code",
   "execution_count": 7,
   "metadata": {
    "cell_id": "03b495cefa6a4798a44c7f2e4c6a3ea7",
    "deepnote_cell_type": "code",
    "deepnote_to_be_reexecuted": false,
    "execution_millis": 21,
    "execution_start": 1691424003626,
    "source_hash": null,
    "tags": []
   },
   "outputs": [],
   "source": [
    "# Imports of all used packages and libraries\n",
    "import numpy as np\n",
    "import pandas as pd\n",
    "from scipy import stats\n",
    "from scipy.stats import mannwhitneyu\n"
   ]
  },
  {
   "cell_type": "code",
   "execution_count": 8,
   "metadata": {
    "tags": []
   },
   "outputs": [],
   "source": [
    "import matplotlib\n",
    "import matplotlib.colors as mcolors\n",
    "import matplotlib.pyplot as plt\n",
    "import matplotlib.cm as cm\n",
    "import seaborn as sns\n",
    "import colorsys"
   ]
  },
  {
   "cell_type": "code",
   "execution_count": 9,
   "metadata": {
    "tags": []
   },
   "outputs": [],
   "source": [
    "from sklearn.metrics import confusion_matrix"
   ]
  },
  {
   "cell_type": "code",
   "execution_count": 10,
   "metadata": {
    "tags": []
   },
   "outputs": [],
   "source": [
    "from spectral_connectivity import Multitaper, Connectivity\n",
    "import spectral_connectivity"
   ]
  },
  {
   "cell_type": "code",
   "execution_count": 11,
   "metadata": {
    "tags": []
   },
   "outputs": [],
   "source": [
    "import utilities.helper\n",
    "import trodes.read_exported"
   ]
  },
  {
   "cell_type": "code",
   "execution_count": 12,
   "metadata": {
    "tags": []
   },
   "outputs": [],
   "source": [
    "FONTSIZE = 20"
   ]
  },
  {
   "cell_type": "code",
   "execution_count": 13,
   "metadata": {
    "tags": []
   },
   "outputs": [],
   "source": [
    "font = {'weight' : 'medium',\n",
    "        'size'   : 20}\n",
    "\n",
    "matplotlib.rc('font', **font)"
   ]
  },
  {
   "cell_type": "markdown",
   "metadata": {
    "cell_id": "d290bac2c17940bfbc0f9296beaf70e5",
    "deepnote_cell_type": "text-cell-h2",
    "formattedRanges": []
   },
   "source": [
    "## Inputs & Data"
   ]
  },
  {
   "cell_type": "markdown",
   "metadata": {
    "cell_id": "e528ce19c608425292151930d380f49f",
    "deepnote_cell_type": "text-cell-p",
    "formattedRanges": []
   },
   "source": [
    "Explanation of each input and where it comes from."
   ]
  },
  {
   "cell_type": "code",
   "execution_count": 14,
   "metadata": {
    "tags": []
   },
   "outputs": [],
   "source": [
    " COMP_CLOSENESS_DICT = {'Subj 1 blocking Subj 2': \"competitive\",\n",
    "'Subj 2 Only': \"no_comp\",\n",
    "'Subj 2 blocking Subj 1': \"competitive\",\n",
    "'Subj 1 then Subj 2': \"competitive\", \n",
    "'Subj 1 Only': \"no_comp\",\n",
    "'Subj 2 then Subj 1': \"competitive\",\n",
    "'Close Call': \"competitive\",\n",
    "'After trial': \"no_comp\"}"
   ]
  },
  {
   "cell_type": "code",
   "execution_count": 15,
   "metadata": {
    "cell_id": "6cf83a5811054461a718a71673d09aab",
    "deepnote_cell_type": "code",
    "deepnote_to_be_reexecuted": false,
    "execution_millis": 373,
    "execution_start": 1691424003628,
    "source_hash": null,
    "tags": []
   },
   "outputs": [],
   "source": [
    "# Inputs and Required data loading\n",
    "# input varaible names are in all caps snake case\n",
    "# Whenever an input changes or is used for processing \n",
    "# the vairables are all lower in snake case\n",
    "OUTPUT_DIR = r\"./proc/\" # where data is saved should always be shown in the inputs\n",
    "os.makedirs(OUTPUT_DIR, exist_ok=True)\n",
    "OUTPUT_PREFIX = \"rce_pilot_2\""
   ]
  },
  {
   "cell_type": "code",
   "execution_count": 16,
   "metadata": {
    "tags": []
   },
   "outputs": [],
   "source": [
    "TRIAL_LABELS_DF = pd.read_excel(\"./proc/rce2_finalized_trial_labels.xlsx\")"
   ]
  },
  {
   "cell_type": "code",
   "execution_count": 17,
   "metadata": {},
   "outputs": [],
   "source": [
    "LFP_SPECTRAL_DF = pd.read_pickle(\"./proc/rce_pilot_2_04_spectral_and_sleap.pkl\")"
   ]
  },
  {
   "cell_type": "code",
   "execution_count": 18,
   "metadata": {
    "tags": []
   },
   "outputs": [],
   "source": [
    "LFP_SPECTRAL_DF[\"video_name\"] = LFP_SPECTRAL_DF[\"video_name\"].apply(lambda x: x.strip(\".videoTimeStamps.cameraHWSync\"))\n",
    "LFP_SPECTRAL_DF[\"current_subject\"] = LFP_SPECTRAL_DF[\"current_subject\"].astype(str)"
   ]
  },
  {
   "cell_type": "code",
   "execution_count": 19,
   "metadata": {},
   "outputs": [],
   "source": [
    "TRIAL_LABELS_DF[\"current_subject\"] = TRIAL_LABELS_DF[\"current_subject\"].astype(str)\n",
    "TRIAL_LABELS_DF[\"competition_closeness\"] = TRIAL_LABELS_DF[\"competition_closeness\"].map(COMP_CLOSENESS_DICT)"
   ]
  },
  {
   "cell_type": "code",
   "execution_count": 20,
   "metadata": {
    "tags": []
   },
   "outputs": [
    {
     "data": {
      "text/plain": [
       "array(['20230612_112630_standard_comp_to_training_D1_subj_1-2_and_1-1.1',\n",
       "       '20230612_112630_standard_comp_to_training_D1_subj_1-2_and_1-1.2',\n",
       "       '20230613_105657_standard_comp_to_training_D2_subj_1-1_and_1-4.1',\n",
       "       '20230613_105657_standard_comp_to_training_D2_subj_1-1_and_1-4.2',\n",
       "       '20230614_114041_standard_comp_to_training_D3_subj_1-1_and_1-2.1',\n",
       "       '20230614_114041_standard_comp_to_training_D3_subj_1-1_and_1-2.3',\n",
       "       '20230614_114041_standard_comp_to_training_D3_subj_1-1_and_1-2.2',\n",
       "       '20230616_111904_standard_comp_to_training_D4_subj_1-4_and_1-2.1',\n",
       "       '20230616_111904_standard_comp_to_training_D4_subj_1-4_and_1-2.2',\n",
       "       '20230617_115521_standard_comp_to_omission_D1_subj_1-1_and_1-2.1',\n",
       "       '20230617_115521_standard_comp_to_omission_D1_subj_1-1_and_1-2.3',\n",
       "       '20230618_100636_standard_comp_to_omission_D2_subj_1-4_and_1-1.1',\n",
       "       '20230618_100636_standard_comp_to_omission_D2_subj_1-4_and_1-1.2',\n",
       "       '20230619_115321_standard_comp_to_omission_D3_subj_1-2_and_1-4.4',\n",
       "       '20230620_114347_standard_comp_to_omission_D4_subj_1-2_and_1-1.1',\n",
       "       '20230620_114347_standard_comp_to_omission_D4_subj_1-2_and_1-1.2',\n",
       "       '20230621_111240_standard_comp_to_omission_D5_subj_1-4_and_1-2.1',\n",
       "       '20230622_110832_standard_comp_to_both_rewarded_D1_subj_1-1_and_1-2.1',\n",
       "       '20230624_105855_standard_comp_to_both_rewarded_D3_subj_1-2_and_1-4.1',\n",
       "       '20230625_112913_standard_comp_to_both_rewarded_D4_subj_1-1_and_1-4.1',\n",
       "       '20230628_111202_standard_comp_to_novel_agent_D1_subj_1-1vs2-2and1-2vs2-1.1',\n",
       "       '20230628_111202_standard_comp_to_novel_agent_D1_subj_1-1vs2-2and1-2vs2-1.4',\n",
       "       '20230629_111937_standard_comp_to_novel_agent_D2_subj_1-1vs2-1and1-4vs2-2.1',\n",
       "       '20230629_111937_standard_comp_to_novel_agent_D2_subj_1-1vs2-1and1-4vs2-2.2',\n",
       "       '20230630_115506_standard_comp_to_novel_agent_D3_subj_1-4vs2-1and1-2vs2-2.1',\n",
       "       '20230630_115506_standard_comp_to_novel_agent_D3_subj_1-4vs2-1and1-2vs2-2.2'],\n",
       "      dtype=object)"
      ]
     },
     "execution_count": 20,
     "metadata": {},
     "output_type": "execute_result"
    }
   ],
   "source": [
    "LFP_SPECTRAL_DF[\"video_name\"].unique()"
   ]
  },
  {
   "cell_type": "markdown",
   "metadata": {
    "cell_id": "e3ee4891d43a4ac287413afc552ca289",
    "deepnote_cell_type": "text-cell-h2",
    "formattedRanges": []
   },
   "source": [
    "## Outputs"
   ]
  },
  {
   "cell_type": "markdown",
   "metadata": {
    "cell_id": "9ccbf6cc70fd4d379fa29317f733771f",
    "deepnote_cell_type": "text-cell-p",
    "formattedRanges": []
   },
   "source": [
    "Describe each output that the notebook creates. "
   ]
  },
  {
   "cell_type": "markdown",
   "metadata": {
    "cell_id": "fc8e8920a6944918a15fac575cdf6e78",
    "deepnote_cell_type": "text-cell-bullet",
    "formattedRanges": []
   },
   "source": [
    "- Is it a plot or is it data?"
   ]
  },
  {
   "cell_type": "markdown",
   "metadata": {
    "cell_id": "1e639d4776a84aa9ac8ded2e14fa57db",
    "deepnote_cell_type": "text-cell-bullet",
    "formattedRanges": []
   },
   "source": [
    "- How valuable is the output and why is it valuable or useful?"
   ]
  },
  {
   "cell_type": "markdown",
   "metadata": {},
   "source": [
    "## Functions "
   ]
  },
  {
   "cell_type": "code",
   "execution_count": 21,
   "metadata": {
    "tags": []
   },
   "outputs": [],
   "source": [
    "import numpy as np\n",
    "\n",
    "def mask_slices(array_2d, slice_index):\n",
    "    \"\"\"\n",
    "    Masks elements outside a specified slice in a 2D array with NaN.\n",
    "\n",
    "    Parameters:\n",
    "    - array_2d (np.ndarray): The input 2D array to mask.\n",
    "    - slice_index (tuple): A tuple of two integers that specifies the start and end indices \n",
    "                           of the slice to retain. The elements outside this slice are set to NaN.\n",
    "\n",
    "    Returns:\n",
    "    - np.ndarray: A 2D array with elements outside the specified slice set to NaN.\n",
    "\n",
    "    Raises:\n",
    "    - ValueError: If `slice_index` is not a tuple or does not contain exactly two elements.\n",
    "    - IndexError: If the slice indices are out of the array bounds.\n",
    "    \"\"\"\n",
    "    if not isinstance(slice_index, tuple) or len(slice_index) != 2:\n",
    "        raise ValueError(\"slice_index must be a tuple of two integers (start, end).\")\n",
    "\n",
    "    try:\n",
    "        result = array_2d.copy()\n",
    "        mask_2d = np.ones(result.shape, dtype=bool)\n",
    "        mask_2d[slice_index[0]:slice_index[1]] = False\n",
    "\n",
    "        # Set values outside the defined slice to NaN\n",
    "        result[mask_2d] = np.nan\n",
    "        return result\n",
    "\n",
    "    except IndexError as e:\n",
    "        warnings.warn(f\"Slice index out of bounds: {e}\")\n",
    "        return np.nan\n",
    "    except Exception as e:\n",
    "        warnings.warn(f\"An error occurred while masking the array: {e}\")\n",
    "        return np.nan\n"
   ]
  },
  {
   "cell_type": "code",
   "execution_count": 22,
   "metadata": {
    "tags": []
   },
   "outputs": [],
   "source": [
    "def overlay_arrays(array1, array2):\n",
    "    \"\"\"\n",
    "    Overlays two 2D NumPy arrays of the same shape, preferring non-NaN values from the first array.\n",
    "    If both arrays have a non-NaN value at the same position, the value from the first array is used.\n",
    "\n",
    "    Parameters:\n",
    "    - array1 (np.ndarray): The primary 2D array.\n",
    "    - array2 (np.ndarray): The secondary 2D array, used only where array1 has NaNs.\n",
    "\n",
    "    Returns:\n",
    "    - np.ndarray: A 2D array composed of the overlaid results of array1 and array2.\n",
    "\n",
    "    Raises:\n",
    "    - ValueError: If `array1` and `array2` do not have the same shape.\n",
    "    \"\"\"\n",
    "    if array1.shape != array2.shape:\n",
    "        raise ValueError(\"Both arrays must have the same shape.\")\n",
    "\n",
    "    # Create a copy of the first array to ensure that no changes are made to the original\n",
    "    result = np.copy(array1)\n",
    "\n",
    "    # Find indices where array1 is NaN and array2 is not NaN\n",
    "    mask = np.isnan(array1) & ~np.isnan(array2)\n",
    "\n",
    "    # Place non-NaN values from array2 where array1 has NaNs\n",
    "    result[mask] = array2[mask]\n",
    "\n",
    "    return result"
   ]
  },
  {
   "cell_type": "code",
   "execution_count": 23,
   "metadata": {
    "tags": []
   },
   "outputs": [],
   "source": [
    "def extract_start_stop_elements(array, start_index=0, stop_index=-1):\n",
    "    \"\"\"\n",
    "    Extracts elements from an array at specified start and stop indices.\n",
    "    \n",
    "    Parameters:\n",
    "    - array (list or array-like): The array from which elements are to be extracted.\n",
    "    - start_index (int): The index of the start element. Default is 0.\n",
    "    - stop_index (int): The index of the stop element. Default is -1, which corresponds to the last element.\n",
    "    \n",
    "    Returns:\n",
    "    - tuple: A tuple containing the elements at the start and stop indices.\n",
    "    \n",
    "    If the stop_index is out of the array's range, it defaults to the last element of the array.\n",
    "    \"\"\"\n",
    "    if stop_index >= len(array) or stop_index < 0:\n",
    "        stop_index = -1  # Ensure the stop_index points to the last element if it's out of range\n",
    "    return array[start_index], array[stop_index]"
   ]
  },
  {
   "cell_type": "markdown",
   "metadata": {
    "cell_id": "8999d19b6b7d4d63bc90f0b0bd9ab085",
    "deepnote_cell_type": "text-cell-h2",
    "formattedRanges": []
   },
   "source": [
    "## Processing"
   ]
  },
  {
   "cell_type": "markdown",
   "metadata": {
    "cell_id": "9b36cdf08567463082b005cb0dec684b",
    "deepnote_cell_type": "text-cell-p",
    "formattedRanges": []
   },
   "source": [
    "Describe what is done to the data here and how inputs are manipulated to generate outputs. "
   ]
  },
  {
   "cell_type": "code",
   "execution_count": 24,
   "metadata": {
    "cell_id": "89aaba237c644628b1b37604b75e7cb1",
    "deepnote_cell_type": "code",
    "tags": []
   },
   "outputs": [],
   "source": [
    "# As much code and as many cells as required\n",
    "# includes EDA and playing with data\n",
    "# GO HAM!\n",
    "\n",
    "# Ideally functions are defined here first and then data is processed using the functions\n",
    "\n",
    "# function names are short and in snake case all lowercase\n",
    "# a function name should be unique but does not have to describe the function\n",
    "# doc strings describe functions not function names\n",
    "\n",
    "\n"
   ]
  },
  {
   "cell_type": "code",
   "execution_count": 25,
   "metadata": {
    "tags": []
   },
   "outputs": [
    {
     "data": {
      "text/plain": [
       "Index(['cohort', 'session_dir', 'tone_frames', 'box_1_port_entry_frames',\n",
       "       'box_2_port_entry_frames', 'video_name', 'session_path', 'recording',\n",
       "       'current_subject', 'subject',\n",
       "       ...\n",
       "       'reward_port', 'box_bottom_left', 'box_bottom_right', 'agent',\n",
       "       'subject_locations', 'agent_locations', 'subject_thorax_velocity',\n",
       "       'agent_thorax_velocity', 'subject_thorax_to_reward_port',\n",
       "       'agent_thorax_to_reward_port'],\n",
       "      dtype='object', length=168)"
      ]
     },
     "execution_count": 25,
     "metadata": {},
     "output_type": "execute_result"
    }
   ],
   "source": [
    "LFP_SPECTRAL_DF.columns"
   ]
  },
  {
   "cell_type": "code",
   "execution_count": 26,
   "metadata": {
    "scrolled": true,
    "tags": []
   },
   "outputs": [
    {
     "data": {
      "text/plain": [
       "Index(['tracked_subject', 'box_number', 'sleap_name', 'video_name',\n",
       "       'current_subject', 'tone_start_frame', 'reward_start_frame',\n",
       "       'tone_stop_frame', 'condition', 'competition_closeness', 'notes',\n",
       "       'experiment', 'session_dir', 'all_subjects', 'tone_start_timestamp',\n",
       "       'tone_stop_timestamp', 'trial_label'],\n",
       "      dtype='object')"
      ]
     },
     "execution_count": 26,
     "metadata": {},
     "output_type": "execute_result"
    }
   ],
   "source": [
    "TRIAL_LABELS_DF.columns"
   ]
  },
  {
   "cell_type": "markdown",
   "metadata": {},
   "source": [
    "# Editing the dataframes"
   ]
  },
  {
   "cell_type": "code",
   "execution_count": 27,
   "metadata": {
    "tags": []
   },
   "outputs": [
    {
     "data": {
      "text/html": [
       "<div>\n",
       "<style scoped>\n",
       "    .dataframe tbody tr th:only-of-type {\n",
       "        vertical-align: middle;\n",
       "    }\n",
       "\n",
       "    .dataframe tbody tr th {\n",
       "        vertical-align: top;\n",
       "    }\n",
       "\n",
       "    .dataframe thead th {\n",
       "        text-align: right;\n",
       "    }\n",
       "</style>\n",
       "<table border=\"1\" class=\"dataframe\">\n",
       "  <thead>\n",
       "    <tr style=\"text-align: right;\">\n",
       "      <th></th>\n",
       "      <th>cohort</th>\n",
       "      <th>session_dir</th>\n",
       "      <th>tone_frames</th>\n",
       "      <th>box_1_port_entry_frames</th>\n",
       "      <th>box_2_port_entry_frames</th>\n",
       "      <th>video_name</th>\n",
       "      <th>session_path</th>\n",
       "      <th>recording</th>\n",
       "      <th>current_subject</th>\n",
       "      <th>subject</th>\n",
       "      <th>...</th>\n",
       "      <th>reward_port</th>\n",
       "      <th>box_bottom_left</th>\n",
       "      <th>box_bottom_right</th>\n",
       "      <th>agent</th>\n",
       "      <th>subject_locations</th>\n",
       "      <th>agent_locations</th>\n",
       "      <th>subject_thorax_velocity</th>\n",
       "      <th>agent_thorax_velocity</th>\n",
       "      <th>subject_thorax_to_reward_port</th>\n",
       "      <th>agent_thorax_to_reward_port</th>\n",
       "    </tr>\n",
       "  </thead>\n",
       "  <tbody>\n",
       "    <tr>\n",
       "      <th>0</th>\n",
       "      <td>2</td>\n",
       "      <td>20230612_112630_standard_comp_to_training_D1_s...</td>\n",
       "      <td>[[1125, 1324], [3519, 3720], [5815, 6014], [76...</td>\n",
       "      <td>[[192, 248], [389, 405], [916, 929], [929, 948...</td>\n",
       "      <td>[[33019, 33020], [33246, 33251], [33253, 33255...</td>\n",
       "      <td>20230612_112630_standard_comp_to_training_D1_s...</td>\n",
       "      <td>/scratch/back_up/reward_competition_extention/...</td>\n",
       "      <td>20230612_112630_standard_comp_to_training_D1_s...</td>\n",
       "      <td>1.1</td>\n",
       "      <td>1.1</td>\n",
       "      <td>...</td>\n",
       "      <td>[45.23441700698972, 35.83828707637651]</td>\n",
       "      <td>[30.458913657178506, 34.21867013031604]</td>\n",
       "      <td>[59.89132415244771, 34.13310301149612]</td>\n",
       "      <td>1.2</td>\n",
       "      <td>[[[46.68890098287189, 11.495085446056166], [43...</td>\n",
       "      <td>[[[34.36404036584844, 35.615553316175784], [34...</td>\n",
       "      <td>[1.8125, 1.707, 1.6045, 1.506, 1.409, 1.315, 1...</td>\n",
       "      <td>[14.336, 12.875, 11.47, 10.11, 8.81, 7.57, 6.3...</td>\n",
       "      <td>[26.45, 26.16, 26.1, 25.77, 25.72, 25.78, 26.1...</td>\n",
       "      <td>[6.11, 6.06, 6.125, 6.566, 6.605, 6.676, 7.13,...</td>\n",
       "    </tr>\n",
       "    <tr>\n",
       "      <th>1</th>\n",
       "      <td>2</td>\n",
       "      <td>20230612_112630_standard_comp_to_training_D1_s...</td>\n",
       "      <td>[[1125, 1324], [3519, 3720], [5815, 6014], [76...</td>\n",
       "      <td>[[192, 248], [389, 405], [916, 930], [930, 948...</td>\n",
       "      <td>[[32974, 32976], [33201, 33207], [33208, 33211...</td>\n",
       "      <td>20230612_112630_standard_comp_to_training_D1_s...</td>\n",
       "      <td>/scratch/back_up/reward_competition_extention/...</td>\n",
       "      <td>20230612_112630_standard_comp_to_training_D1_s...</td>\n",
       "      <td>1.1</td>\n",
       "      <td>1.1</td>\n",
       "      <td>...</td>\n",
       "      <td>[48.01956210909252, 37.264554576109816]</td>\n",
       "      <td>[33.1534452699471, 35.61101869926864]</td>\n",
       "      <td>[62.60288905131385, 35.71974322144712]</td>\n",
       "      <td>None</td>\n",
       "      <td>[[[27.67316905433137, 31.06298795228111], [27....</td>\n",
       "      <td>NaN</td>\n",
       "      <td>[0.0, 0.0, 0.0, 0.0, 0.0, 0.0, 0.0, 0.0, 0.0, ...</td>\n",
       "      <td>NaN</td>\n",
       "      <td>[21.36, 21.36, 21.36, 21.36, 21.36, 21.36, 21....</td>\n",
       "      <td>NaN</td>\n",
       "    </tr>\n",
       "    <tr>\n",
       "      <th>2</th>\n",
       "      <td>2</td>\n",
       "      <td>20230612_112630_standard_comp_to_training_D1_s...</td>\n",
       "      <td>[[1125, 1324], [3519, 3720], [5815, 6014], [76...</td>\n",
       "      <td>[[192, 248], [389, 405], [916, 929], [929, 948...</td>\n",
       "      <td>[[33019, 33020], [33246, 33251], [33253, 33255...</td>\n",
       "      <td>20230612_112630_standard_comp_to_training_D1_s...</td>\n",
       "      <td>/scratch/back_up/reward_competition_extention/...</td>\n",
       "      <td>20230612_112630_standard_comp_to_training_D1_s...</td>\n",
       "      <td>1.2</td>\n",
       "      <td>1.2</td>\n",
       "      <td>...</td>\n",
       "      <td>[45.23441700698972, 35.83828707637651]</td>\n",
       "      <td>[30.458913657178506, 34.21867013031604]</td>\n",
       "      <td>[59.89132415244771, 34.13310301149612]</td>\n",
       "      <td>None</td>\n",
       "      <td>[[[34.36404036584844, 35.615553316175784], [34...</td>\n",
       "      <td>NaN</td>\n",
       "      <td>[55.4, 52.03, 48.72, 45.53, 42.44, 39.44, 36.5...</td>\n",
       "      <td>NaN</td>\n",
       "      <td>[6.11, 6.06, 6.125, 6.566, 6.605, 6.676, 7.13,...</td>\n",
       "      <td>NaN</td>\n",
       "    </tr>\n",
       "    <tr>\n",
       "      <th>3</th>\n",
       "      <td>2</td>\n",
       "      <td>20230612_112630_standard_comp_to_training_D1_s...</td>\n",
       "      <td>[[1125, 1324], [3519, 3720], [5815, 6014], [76...</td>\n",
       "      <td>[[192, 248], [389, 405], [916, 929], [929, 948...</td>\n",
       "      <td>[[33019, 33020], [33246, 33251], [33253, 33255...</td>\n",
       "      <td>20230612_112630_standard_comp_to_training_D1_s...</td>\n",
       "      <td>/scratch/back_up/reward_competition_extention/...</td>\n",
       "      <td>20230612_112630_standard_comp_to_training_D1_s...</td>\n",
       "      <td>1.2</td>\n",
       "      <td>1.2</td>\n",
       "      <td>...</td>\n",
       "      <td>[45.23441700698972, 35.83828707637651]</td>\n",
       "      <td>[30.458913657178506, 34.21867013031604]</td>\n",
       "      <td>[59.89132415244771, 34.13310301149612]</td>\n",
       "      <td>1.1</td>\n",
       "      <td>[[[34.36404036584844, 35.615553316175784], [34...</td>\n",
       "      <td>[[[46.68890098287189, 11.495085446056166], [43...</td>\n",
       "      <td>[14.336, 12.875, 11.47, 10.11, 8.81, 7.57, 6.3...</td>\n",
       "      <td>[1.8125, 1.707, 1.6045, 1.506, 1.409, 1.315, 1...</td>\n",
       "      <td>[6.11, 6.06, 6.125, 6.566, 6.605, 6.676, 7.13,...</td>\n",
       "      <td>[26.45, 26.16, 26.1, 25.77, 25.72, 25.78, 26.1...</td>\n",
       "    </tr>\n",
       "    <tr>\n",
       "      <th>4</th>\n",
       "      <td>2</td>\n",
       "      <td>20230613_105657_standard_comp_to_training_D2_s...</td>\n",
       "      <td>[[916, 1117], [3312, 3513], [5608, 5808], [740...</td>\n",
       "      <td>[[49, 67], [70, 79], [360, 366], [460, 469], [...</td>\n",
       "      <td>[[33601, 33798], [34108, 34165], [34166, 34179...</td>\n",
       "      <td>20230613_105657_standard_comp_to_training_D2_s...</td>\n",
       "      <td>/scratch/back_up/reward_competition_extention/...</td>\n",
       "      <td>20230613_105657_standard_comp_to_training_D2_s...</td>\n",
       "      <td>1.1</td>\n",
       "      <td>1.1</td>\n",
       "      <td>...</td>\n",
       "      <td>[45.31189572048577, 36.38317068198775]</td>\n",
       "      <td>[30.490085836306232, 34.91627159792731]</td>\n",
       "      <td>[60.10744182471764, 34.262899786598894]</td>\n",
       "      <td>None</td>\n",
       "      <td>[[[46.71964110607613, 36.493379374373234], [44...</td>\n",
       "      <td>NaN</td>\n",
       "      <td>[5.8, 5.207, 4.64, 4.1, 3.596, 3.127, 2.7, 2.3...</td>\n",
       "      <td>NaN</td>\n",
       "      <td>[4.633, 4.09, 4.36, 4.656, 4.65, 4.383, 4.35, ...</td>\n",
       "      <td>NaN</td>\n",
       "    </tr>\n",
       "  </tbody>\n",
       "</table>\n",
       "<p>5 rows × 168 columns</p>\n",
       "</div>"
      ],
      "text/plain": [
       "   cohort                                        session_dir  \\\n",
       "0       2  20230612_112630_standard_comp_to_training_D1_s...   \n",
       "1       2  20230612_112630_standard_comp_to_training_D1_s...   \n",
       "2       2  20230612_112630_standard_comp_to_training_D1_s...   \n",
       "3       2  20230612_112630_standard_comp_to_training_D1_s...   \n",
       "4       2  20230613_105657_standard_comp_to_training_D2_s...   \n",
       "\n",
       "                                         tone_frames  \\\n",
       "0  [[1125, 1324], [3519, 3720], [5815, 6014], [76...   \n",
       "1  [[1125, 1324], [3519, 3720], [5815, 6014], [76...   \n",
       "2  [[1125, 1324], [3519, 3720], [5815, 6014], [76...   \n",
       "3  [[1125, 1324], [3519, 3720], [5815, 6014], [76...   \n",
       "4  [[916, 1117], [3312, 3513], [5608, 5808], [740...   \n",
       "\n",
       "                             box_1_port_entry_frames  \\\n",
       "0  [[192, 248], [389, 405], [916, 929], [929, 948...   \n",
       "1  [[192, 248], [389, 405], [916, 930], [930, 948...   \n",
       "2  [[192, 248], [389, 405], [916, 929], [929, 948...   \n",
       "3  [[192, 248], [389, 405], [916, 929], [929, 948...   \n",
       "4  [[49, 67], [70, 79], [360, 366], [460, 469], [...   \n",
       "\n",
       "                             box_2_port_entry_frames  \\\n",
       "0  [[33019, 33020], [33246, 33251], [33253, 33255...   \n",
       "1  [[32974, 32976], [33201, 33207], [33208, 33211...   \n",
       "2  [[33019, 33020], [33246, 33251], [33253, 33255...   \n",
       "3  [[33019, 33020], [33246, 33251], [33253, 33255...   \n",
       "4  [[33601, 33798], [34108, 34165], [34166, 34179...   \n",
       "\n",
       "                                          video_name  \\\n",
       "0  20230612_112630_standard_comp_to_training_D1_s...   \n",
       "1  20230612_112630_standard_comp_to_training_D1_s...   \n",
       "2  20230612_112630_standard_comp_to_training_D1_s...   \n",
       "3  20230612_112630_standard_comp_to_training_D1_s...   \n",
       "4  20230613_105657_standard_comp_to_training_D2_s...   \n",
       "\n",
       "                                        session_path  \\\n",
       "0  /scratch/back_up/reward_competition_extention/...   \n",
       "1  /scratch/back_up/reward_competition_extention/...   \n",
       "2  /scratch/back_up/reward_competition_extention/...   \n",
       "3  /scratch/back_up/reward_competition_extention/...   \n",
       "4  /scratch/back_up/reward_competition_extention/...   \n",
       "\n",
       "                                           recording current_subject subject  \\\n",
       "0  20230612_112630_standard_comp_to_training_D1_s...             1.1     1.1   \n",
       "1  20230612_112630_standard_comp_to_training_D1_s...             1.1     1.1   \n",
       "2  20230612_112630_standard_comp_to_training_D1_s...             1.2     1.2   \n",
       "3  20230612_112630_standard_comp_to_training_D1_s...             1.2     1.2   \n",
       "4  20230613_105657_standard_comp_to_training_D2_s...             1.1     1.1   \n",
       "\n",
       "   ...                              reward_port  \\\n",
       "0  ...   [45.23441700698972, 35.83828707637651]   \n",
       "1  ...  [48.01956210909252, 37.264554576109816]   \n",
       "2  ...   [45.23441700698972, 35.83828707637651]   \n",
       "3  ...   [45.23441700698972, 35.83828707637651]   \n",
       "4  ...   [45.31189572048577, 36.38317068198775]   \n",
       "\n",
       "                           box_bottom_left  \\\n",
       "0  [30.458913657178506, 34.21867013031604]   \n",
       "1    [33.1534452699471, 35.61101869926864]   \n",
       "2  [30.458913657178506, 34.21867013031604]   \n",
       "3  [30.458913657178506, 34.21867013031604]   \n",
       "4  [30.490085836306232, 34.91627159792731]   \n",
       "\n",
       "                          box_bottom_right agent  \\\n",
       "0   [59.89132415244771, 34.13310301149612]   1.2   \n",
       "1   [62.60288905131385, 35.71974322144712]  None   \n",
       "2   [59.89132415244771, 34.13310301149612]  None   \n",
       "3   [59.89132415244771, 34.13310301149612]   1.1   \n",
       "4  [60.10744182471764, 34.262899786598894]  None   \n",
       "\n",
       "                                   subject_locations  \\\n",
       "0  [[[46.68890098287189, 11.495085446056166], [43...   \n",
       "1  [[[27.67316905433137, 31.06298795228111], [27....   \n",
       "2  [[[34.36404036584844, 35.615553316175784], [34...   \n",
       "3  [[[34.36404036584844, 35.615553316175784], [34...   \n",
       "4  [[[46.71964110607613, 36.493379374373234], [44...   \n",
       "\n",
       "                                     agent_locations  \\\n",
       "0  [[[34.36404036584844, 35.615553316175784], [34...   \n",
       "1                                                NaN   \n",
       "2                                                NaN   \n",
       "3  [[[46.68890098287189, 11.495085446056166], [43...   \n",
       "4                                                NaN   \n",
       "\n",
       "                             subject_thorax_velocity  \\\n",
       "0  [1.8125, 1.707, 1.6045, 1.506, 1.409, 1.315, 1...   \n",
       "1  [0.0, 0.0, 0.0, 0.0, 0.0, 0.0, 0.0, 0.0, 0.0, ...   \n",
       "2  [55.4, 52.03, 48.72, 45.53, 42.44, 39.44, 36.5...   \n",
       "3  [14.336, 12.875, 11.47, 10.11, 8.81, 7.57, 6.3...   \n",
       "4  [5.8, 5.207, 4.64, 4.1, 3.596, 3.127, 2.7, 2.3...   \n",
       "\n",
       "                               agent_thorax_velocity  \\\n",
       "0  [14.336, 12.875, 11.47, 10.11, 8.81, 7.57, 6.3...   \n",
       "1                                                NaN   \n",
       "2                                                NaN   \n",
       "3  [1.8125, 1.707, 1.6045, 1.506, 1.409, 1.315, 1...   \n",
       "4                                                NaN   \n",
       "\n",
       "                       subject_thorax_to_reward_port  \\\n",
       "0  [26.45, 26.16, 26.1, 25.77, 25.72, 25.78, 26.1...   \n",
       "1  [21.36, 21.36, 21.36, 21.36, 21.36, 21.36, 21....   \n",
       "2  [6.11, 6.06, 6.125, 6.566, 6.605, 6.676, 7.13,...   \n",
       "3  [6.11, 6.06, 6.125, 6.566, 6.605, 6.676, 7.13,...   \n",
       "4  [4.633, 4.09, 4.36, 4.656, 4.65, 4.383, 4.35, ...   \n",
       "\n",
       "                         agent_thorax_to_reward_port  \n",
       "0  [6.11, 6.06, 6.125, 6.566, 6.605, 6.676, 7.13,...  \n",
       "1                                                NaN  \n",
       "2                                                NaN  \n",
       "3  [26.45, 26.16, 26.1, 25.77, 25.72, 25.78, 26.1...  \n",
       "4                                                NaN  \n",
       "\n",
       "[5 rows x 168 columns]"
      ]
     },
     "execution_count": 27,
     "metadata": {},
     "output_type": "execute_result"
    }
   ],
   "source": [
    "LFP_SPECTRAL_DF.head()"
   ]
  },
  {
   "cell_type": "code",
   "execution_count": 28,
   "metadata": {
    "tags": []
   },
   "outputs": [
    {
     "data": {
      "text/plain": [
       "array(['20230612_112630_standard_comp_to_training_D1_subj_1-2_and_1-1.1',\n",
       "       '20230612_112630_standard_comp_to_training_D1_subj_1-2_and_1-1.2',\n",
       "       '20230613_105657_standard_comp_to_training_D2_subj_1-1_and_1-4.1',\n",
       "       '20230613_105657_standard_comp_to_training_D2_subj_1-1_and_1-4.2',\n",
       "       '20230614_114041_standard_comp_to_training_D3_subj_1-1_and_1-2.1',\n",
       "       '20230614_114041_standard_comp_to_training_D3_subj_1-1_and_1-2.3',\n",
       "       '20230614_114041_standard_comp_to_training_D3_subj_1-1_and_1-2.2',\n",
       "       '20230616_111904_standard_comp_to_training_D4_subj_1-4_and_1-2.1',\n",
       "       '20230616_111904_standard_comp_to_training_D4_subj_1-4_and_1-2.2',\n",
       "       '20230617_115521_standard_comp_to_omission_D1_subj_1-1_and_1-2.1',\n",
       "       '20230617_115521_standard_comp_to_omission_D1_subj_1-1_and_1-2.3',\n",
       "       '20230618_100636_standard_comp_to_omission_D2_subj_1-4_and_1-1.1',\n",
       "       '20230618_100636_standard_comp_to_omission_D2_subj_1-4_and_1-1.2',\n",
       "       '20230619_115321_standard_comp_to_omission_D3_subj_1-2_and_1-4.4',\n",
       "       '20230620_114347_standard_comp_to_omission_D4_subj_1-2_and_1-1.1',\n",
       "       '20230620_114347_standard_comp_to_omission_D4_subj_1-2_and_1-1.2',\n",
       "       '20230621_111240_standard_comp_to_omission_D5_subj_1-4_and_1-2.1',\n",
       "       '20230622_110832_standard_comp_to_both_rewarded_D1_subj_1-1_and_1-2.1',\n",
       "       '20230624_105855_standard_comp_to_both_rewarded_D3_subj_1-2_and_1-4.1',\n",
       "       '20230625_112913_standard_comp_to_both_rewarded_D4_subj_1-1_and_1-4.1',\n",
       "       '20230628_111202_standard_comp_to_novel_agent_D1_subj_1-1vs2-2and1-2vs2-1.1',\n",
       "       '20230628_111202_standard_comp_to_novel_agent_D1_subj_1-1vs2-2and1-2vs2-1.4',\n",
       "       '20230629_111937_standard_comp_to_novel_agent_D2_subj_1-1vs2-1and1-4vs2-2.1',\n",
       "       '20230629_111937_standard_comp_to_novel_agent_D2_subj_1-1vs2-1and1-4vs2-2.2',\n",
       "       '20230630_115506_standard_comp_to_novel_agent_D3_subj_1-4vs2-1and1-2vs2-2.1',\n",
       "       '20230630_115506_standard_comp_to_novel_agent_D3_subj_1-4vs2-1and1-2vs2-2.2'],\n",
       "      dtype=object)"
      ]
     },
     "execution_count": 28,
     "metadata": {},
     "output_type": "execute_result"
    }
   ],
   "source": [
    "LFP_SPECTRAL_DF[\"video_name\"].unique()"
   ]
  },
  {
   "cell_type": "code",
   "execution_count": 29,
   "metadata": {
    "tags": []
   },
   "outputs": [
    {
     "data": {
      "text/plain": [
       "0     [1.1, 1.2]\n",
       "1          [1.1]\n",
       "2          [1.2]\n",
       "3     [1.1, 1.2]\n",
       "4          [1.1]\n",
       "5     [1.1, 1.4]\n",
       "6     [1.1, 1.4]\n",
       "7          [1.4]\n",
       "8          [1.1]\n",
       "9     [1.1, 1.2]\n",
       "10         [1.1]\n",
       "11    [1.1, 1.2]\n",
       "12         [1.2]\n",
       "13    [1.2, 1.4]\n",
       "14         [1.2]\n",
       "15         [1.4]\n",
       "16    [1.2, 1.4]\n",
       "17         [1.1]\n",
       "18    [1.1, 1.2]\n",
       "19    [1.1, 1.2]\n",
       "20         [1.2]\n",
       "21    [1.1, 1.4]\n",
       "22         [1.1]\n",
       "23         [1.4]\n",
       "24    [1.1, 1.4]\n",
       "25         [1.4]\n",
       "26    [1.1, 1.2]\n",
       "27         [1.1]\n",
       "28         [1.2]\n",
       "29    [1.1, 1.2]\n",
       "30         [1.4]\n",
       "31    [1.2, 1.4]\n",
       "32    [1.1, 1.2]\n",
       "33    [1.1, 1.2]\n",
       "34    [1.2, 1.4]\n",
       "35    [1.1, 1.4]\n",
       "36    [1.1, 1.4]\n",
       "37    [1.1, 1.2]\n",
       "38    [1.1, 2.2]\n",
       "39    [1.1, 2.2]\n",
       "40    [1.1, 1.2]\n",
       "41    [1.1, 1.4]\n",
       "42    [1.1, 2.1]\n",
       "43    [1.1, 1.4]\n",
       "44    [1.4, 2.2]\n",
       "45    [1.2, 1.4]\n",
       "46    [1.2, 2.2]\n",
       "47    [1.2, 1.4]\n",
       "48    [1.4, 2.1]\n",
       "Name: tracked_subject, dtype: object"
      ]
     },
     "execution_count": 29,
     "metadata": {},
     "output_type": "execute_result"
    }
   ],
   "source": [
    "LFP_SPECTRAL_DF[\"tracked_subject\"]"
   ]
  },
  {
   "cell_type": "code",
   "execution_count": 30,
   "metadata": {
    "tags": []
   },
   "outputs": [],
   "source": [
    "LFP_SPECTRAL_DF[\"tracked_subject\"] = LFP_SPECTRAL_DF[\"tracked_subject\"].apply(lambda x: \"_\".join([str(subj) for subj in x]))"
   ]
  },
  {
   "cell_type": "code",
   "execution_count": 31,
   "metadata": {
    "tags": []
   },
   "outputs": [],
   "source": [
    "LFP_SPECTRAL_DF[\"current_tracked_subject\"] = LFP_SPECTRAL_DF[\"tracked_subject\"]"
   ]
  },
  {
   "cell_type": "code",
   "execution_count": 32,
   "metadata": {
    "tags": []
   },
   "outputs": [],
   "source": [
    "# Example with multiple columns being aggregated\n",
    "GROUPED_TRIAL_LABELS_DF = TRIAL_LABELS_DF.groupby(['video_name', \"current_subject\"]).agg({col: list for col in [_ for _ in TRIAL_LABELS_DF.columns if _ not in [\"video_name\", 'current_subject']]  # Aggregating into a list\n",
    "    # Other columns can be aggregated differently here\n",
    "}).reset_index()"
   ]
  },
  {
   "cell_type": "code",
   "execution_count": 33,
   "metadata": {
    "tags": []
   },
   "outputs": [],
   "source": [
    "GROUPED_TRIAL_LABELS_DF[\"session_dir\"] = GROUPED_TRIAL_LABELS_DF[\"session_dir\"].apply(lambda x: x[0])\n"
   ]
  },
  {
   "cell_type": "code",
   "execution_count": 34,
   "metadata": {
    "tags": []
   },
   "outputs": [],
   "source": [
    "GROUPED_TRIAL_LABELS_DF[\"sleap_name\"] = GROUPED_TRIAL_LABELS_DF[\"sleap_name\"].apply(lambda x: x[0])"
   ]
  },
  {
   "cell_type": "code",
   "execution_count": 35,
   "metadata": {
    "tags": []
   },
   "outputs": [],
   "source": [
    "GROUPED_TRIAL_LABELS_DF[\"trial_notes\"] = GROUPED_TRIAL_LABELS_DF[\"notes\"]"
   ]
  },
  {
   "cell_type": "code",
   "execution_count": 36,
   "metadata": {
    "tags": []
   },
   "outputs": [
    {
     "data": {
      "text/html": [
       "<div>\n",
       "<style scoped>\n",
       "    .dataframe tbody tr th:only-of-type {\n",
       "        vertical-align: middle;\n",
       "    }\n",
       "\n",
       "    .dataframe tbody tr th {\n",
       "        vertical-align: top;\n",
       "    }\n",
       "\n",
       "    .dataframe thead th {\n",
       "        text-align: right;\n",
       "    }\n",
       "</style>\n",
       "<table border=\"1\" class=\"dataframe\">\n",
       "  <thead>\n",
       "    <tr style=\"text-align: right;\">\n",
       "      <th></th>\n",
       "      <th>video_name</th>\n",
       "      <th>current_subject</th>\n",
       "      <th>tracked_subject</th>\n",
       "      <th>box_number</th>\n",
       "      <th>sleap_name</th>\n",
       "      <th>tone_start_frame</th>\n",
       "      <th>reward_start_frame</th>\n",
       "      <th>tone_stop_frame</th>\n",
       "      <th>condition</th>\n",
       "      <th>competition_closeness</th>\n",
       "      <th>notes</th>\n",
       "      <th>experiment</th>\n",
       "      <th>session_dir</th>\n",
       "      <th>all_subjects</th>\n",
       "      <th>tone_start_timestamp</th>\n",
       "      <th>tone_stop_timestamp</th>\n",
       "      <th>trial_label</th>\n",
       "      <th>trial_notes</th>\n",
       "    </tr>\n",
       "  </thead>\n",
       "  <tbody>\n",
       "    <tr>\n",
       "      <th>0</th>\n",
       "      <td>20230612_112630_standard_comp_to_training_D1_s...</td>\n",
       "      <td>1.1</td>\n",
       "      <td>[['1.1', '1.2'], ['1.1', '1.2'], ['1.1', '1.2'...</td>\n",
       "      <td>[1, 1, 1, 1, 1, 1, 1, 1, 1, 1, 1, 1, 1, 1, 1, ...</td>\n",
       "      <td>20230612_112630_standard_comp_to_training_D1_s...</td>\n",
       "      <td>[1125, 3519, 5815, 7612, 8709, 9708, 11604, 13...</td>\n",
       "      <td>[1225, 3619, 5915, 7712, 8809, 9808, 11704, 13...</td>\n",
       "      <td>[1324, 3720, 6014, 7811, 8910, 9907, 11804, 13...</td>\n",
       "      <td>[1.1, 1.2, 1.2, 1.2, 1.2, 1.2, 1.2, 1.2, 1.2, ...</td>\n",
       "      <td>[competitive, no_comp, competitive, no_comp, n...</td>\n",
       "      <td>[nan, nan, nan, nan, nan, nan, nan, nan, nan, ...</td>\n",
       "      <td>[standard, standard, standard, standard, stand...</td>\n",
       "      <td>20230612_112630_standard_comp_to_training_D1_s...</td>\n",
       "      <td>[['1.1', '1.2'], ['1.1', '1.2'], ['1.1', '1.2'...</td>\n",
       "      <td>[1126742, 3526740, 5826740, 7626736, 8726734, ...</td>\n",
       "      <td>[1326741, 3726740, 6026737, 7826735, 8926734, ...</td>\n",
       "      <td>[win, lose, lose, lose, lose, lose, lose, lose...</td>\n",
       "      <td>[nan, nan, nan, nan, nan, nan, nan, nan, nan, ...</td>\n",
       "    </tr>\n",
       "    <tr>\n",
       "      <th>1</th>\n",
       "      <td>20230612_112630_standard_comp_to_training_D1_s...</td>\n",
       "      <td>1.2</td>\n",
       "      <td>[['1.1', '1.2'], ['1.1', '1.2'], ['1.1', '1.2'...</td>\n",
       "      <td>[1, 1, 1, 1, 1, 1, 1, 1, 1, 1, 1, 1, 1, 1, 1, ...</td>\n",
       "      <td>20230612_112630_standard_comp_to_training_D1_s...</td>\n",
       "      <td>[1125, 3519, 5815, 7612, 8709, 9708, 11604, 13...</td>\n",
       "      <td>[1225, 3619, 5915, 7712, 8809, 9808, 11704, 13...</td>\n",
       "      <td>[1324, 3720, 6014, 7811, 8910, 9907, 11804, 13...</td>\n",
       "      <td>[1.1, 1.2, 1.2, 1.2, 1.2, 1.2, 1.2, 1.2, 1.2, ...</td>\n",
       "      <td>[competitive, no_comp, competitive, no_comp, n...</td>\n",
       "      <td>[nan, nan, nan, nan, nan, nan, nan, nan, nan, ...</td>\n",
       "      <td>[standard, standard, standard, standard, stand...</td>\n",
       "      <td>20230612_112630_standard_comp_to_training_D1_s...</td>\n",
       "      <td>[['1.1', '1.2'], ['1.1', '1.2'], ['1.1', '1.2'...</td>\n",
       "      <td>[1126742, 3526740, 5826740, 7626736, 8726734, ...</td>\n",
       "      <td>[1326741, 3726740, 6026737, 7826735, 8926734, ...</td>\n",
       "      <td>[lose, win, win, win, win, win, win, win, win,...</td>\n",
       "      <td>[nan, nan, nan, nan, nan, nan, nan, nan, nan, ...</td>\n",
       "    </tr>\n",
       "    <tr>\n",
       "      <th>2</th>\n",
       "      <td>20230612_112630_standard_comp_to_training_D1_s...</td>\n",
       "      <td>1.1</td>\n",
       "      <td>[['1.1'], ['1.1'], ['1.1'], ['1.1'], ['1.1'], ...</td>\n",
       "      <td>[2, 2, 2, 2, 2, 2, 2, 2, 2, 2, 2, 2, 2, 2, 2, ...</td>\n",
       "      <td>20230612_112630_standard_comp_to_training_D1_s...</td>\n",
       "      <td>[37056, 38254, 39352, 40650, 41747, 42746, 437...</td>\n",
       "      <td>[37156, 38354, 39452, 40750, 41847, 42846, 438...</td>\n",
       "      <td>[37256, 38453, 39552, 40849, 41947, 42945, 439...</td>\n",
       "      <td>[rewarded, rewarded, rewarded, rewarded, rewar...</td>\n",
       "      <td>[nan, nan, nan, nan, nan, nan, nan, nan, nan, ...</td>\n",
       "      <td>[nan, nan, nan, nan, nan, nan, nan, nan, nan, ...</td>\n",
       "      <td>[standard, standard, standard, standard, stand...</td>\n",
       "      <td>20230612_112630_standard_comp_to_training_D1_s...</td>\n",
       "      <td>[['1.1', '1.2'], ['1.1', '1.2'], ['1.1', '1.2'...</td>\n",
       "      <td>[37126704, 38326703, 39426702, 40726701, 41826...</td>\n",
       "      <td>[37326704, 38526703, 39626701, 40926700, 42026...</td>\n",
       "      <td>[rewarded, rewarded, rewarded, rewarded, rewar...</td>\n",
       "      <td>[nan, nan, nan, nan, nan, nan, nan, nan, nan, ...</td>\n",
       "    </tr>\n",
       "    <tr>\n",
       "      <th>3</th>\n",
       "      <td>20230613_105657_standard_comp_to_training_D2_s...</td>\n",
       "      <td>1.1</td>\n",
       "      <td>[['1.1', '1.4'], ['1.1', '1.4'], ['1.1', '1.4'...</td>\n",
       "      <td>[1, 1, 1, 1, 1, 1, 1, 1, 1, 1, 1, 1, 1, 1, 1, ...</td>\n",
       "      <td>20230613_105657_standard_comp_to_training_D2_s...</td>\n",
       "      <td>[916, 3312, 5608, 7405, 8502, 9501, 11397, 128...</td>\n",
       "      <td>[1016, 3412, 5708, 7505, 8602, 9601, 11497, 12...</td>\n",
       "      <td>[1117, 3513, 5808, 7604, 8703, 9700, 11596, 13...</td>\n",
       "      <td>[1.4, 1.1, 1.1, 1.1, 1.1, 1.1, 1.1, 1.1, 1.1, ...</td>\n",
       "      <td>[no_comp, no_comp, competitive, competitive, c...</td>\n",
       "      <td>[nan, nan, nan, nan, nan, nan, nan, nan, nan, ...</td>\n",
       "      <td>[standard, standard, standard, standard, stand...</td>\n",
       "      <td>20230613_105657_standard_comp_to_training_D2_s...</td>\n",
       "      <td>[['1.1', '1.4'], ['1.1', '1.4'], ['1.1', '1.4'...</td>\n",
       "      <td>[918755, 3318755, 5618754, 7418755, 8518752, 9...</td>\n",
       "      <td>[1118758, 3518757, 5818753, 7618752, 8718757, ...</td>\n",
       "      <td>[lose, win, win, win, win, win, win, win, win,...</td>\n",
       "      <td>[nan, nan, nan, nan, nan, nan, nan, nan, nan, ...</td>\n",
       "    </tr>\n",
       "    <tr>\n",
       "      <th>4</th>\n",
       "      <td>20230613_105657_standard_comp_to_training_D2_s...</td>\n",
       "      <td>1.4</td>\n",
       "      <td>[['1.1', '1.4'], ['1.1', '1.4'], ['1.1', '1.4'...</td>\n",
       "      <td>[1, 1, 1, 1, 1, 1, 1, 1, 1, 1, 1, 1, 1, 1, 1, ...</td>\n",
       "      <td>20230613_105657_standard_comp_to_training_D2_s...</td>\n",
       "      <td>[916, 3312, 5608, 7405, 8502, 9501, 11397, 128...</td>\n",
       "      <td>[1016, 3412, 5708, 7505, 8602, 9601, 11497, 12...</td>\n",
       "      <td>[1117, 3513, 5808, 7604, 8703, 9700, 11596, 13...</td>\n",
       "      <td>[1.4, 1.1, 1.1, 1.1, 1.1, 1.1, 1.1, 1.1, 1.1, ...</td>\n",
       "      <td>[no_comp, no_comp, competitive, competitive, c...</td>\n",
       "      <td>[nan, nan, nan, nan, nan, nan, nan, nan, nan, ...</td>\n",
       "      <td>[standard, standard, standard, standard, stand...</td>\n",
       "      <td>20230613_105657_standard_comp_to_training_D2_s...</td>\n",
       "      <td>[['1.1', '1.4'], ['1.1', '1.4'], ['1.1', '1.4'...</td>\n",
       "      <td>[918755, 3318755, 5618754, 7418755, 8518752, 9...</td>\n",
       "      <td>[1118758, 3518757, 5818753, 7618752, 8718757, ...</td>\n",
       "      <td>[win, lose, lose, lose, lose, lose, lose, lose...</td>\n",
       "      <td>[nan, nan, nan, nan, nan, nan, nan, nan, nan, ...</td>\n",
       "    </tr>\n",
       "  </tbody>\n",
       "</table>\n",
       "</div>"
      ],
      "text/plain": [
       "                                          video_name current_subject  \\\n",
       "0  20230612_112630_standard_comp_to_training_D1_s...             1.1   \n",
       "1  20230612_112630_standard_comp_to_training_D1_s...             1.2   \n",
       "2  20230612_112630_standard_comp_to_training_D1_s...             1.1   \n",
       "3  20230613_105657_standard_comp_to_training_D2_s...             1.1   \n",
       "4  20230613_105657_standard_comp_to_training_D2_s...             1.4   \n",
       "\n",
       "                                     tracked_subject  \\\n",
       "0  [['1.1', '1.2'], ['1.1', '1.2'], ['1.1', '1.2'...   \n",
       "1  [['1.1', '1.2'], ['1.1', '1.2'], ['1.1', '1.2'...   \n",
       "2  [['1.1'], ['1.1'], ['1.1'], ['1.1'], ['1.1'], ...   \n",
       "3  [['1.1', '1.4'], ['1.1', '1.4'], ['1.1', '1.4'...   \n",
       "4  [['1.1', '1.4'], ['1.1', '1.4'], ['1.1', '1.4'...   \n",
       "\n",
       "                                          box_number  \\\n",
       "0  [1, 1, 1, 1, 1, 1, 1, 1, 1, 1, 1, 1, 1, 1, 1, ...   \n",
       "1  [1, 1, 1, 1, 1, 1, 1, 1, 1, 1, 1, 1, 1, 1, 1, ...   \n",
       "2  [2, 2, 2, 2, 2, 2, 2, 2, 2, 2, 2, 2, 2, 2, 2, ...   \n",
       "3  [1, 1, 1, 1, 1, 1, 1, 1, 1, 1, 1, 1, 1, 1, 1, ...   \n",
       "4  [1, 1, 1, 1, 1, 1, 1, 1, 1, 1, 1, 1, 1, 1, 1, ...   \n",
       "\n",
       "                                          sleap_name  \\\n",
       "0  20230612_112630_standard_comp_to_training_D1_s...   \n",
       "1  20230612_112630_standard_comp_to_training_D1_s...   \n",
       "2  20230612_112630_standard_comp_to_training_D1_s...   \n",
       "3  20230613_105657_standard_comp_to_training_D2_s...   \n",
       "4  20230613_105657_standard_comp_to_training_D2_s...   \n",
       "\n",
       "                                    tone_start_frame  \\\n",
       "0  [1125, 3519, 5815, 7612, 8709, 9708, 11604, 13...   \n",
       "1  [1125, 3519, 5815, 7612, 8709, 9708, 11604, 13...   \n",
       "2  [37056, 38254, 39352, 40650, 41747, 42746, 437...   \n",
       "3  [916, 3312, 5608, 7405, 8502, 9501, 11397, 128...   \n",
       "4  [916, 3312, 5608, 7405, 8502, 9501, 11397, 128...   \n",
       "\n",
       "                                  reward_start_frame  \\\n",
       "0  [1225, 3619, 5915, 7712, 8809, 9808, 11704, 13...   \n",
       "1  [1225, 3619, 5915, 7712, 8809, 9808, 11704, 13...   \n",
       "2  [37156, 38354, 39452, 40750, 41847, 42846, 438...   \n",
       "3  [1016, 3412, 5708, 7505, 8602, 9601, 11497, 12...   \n",
       "4  [1016, 3412, 5708, 7505, 8602, 9601, 11497, 12...   \n",
       "\n",
       "                                     tone_stop_frame  \\\n",
       "0  [1324, 3720, 6014, 7811, 8910, 9907, 11804, 13...   \n",
       "1  [1324, 3720, 6014, 7811, 8910, 9907, 11804, 13...   \n",
       "2  [37256, 38453, 39552, 40849, 41947, 42945, 439...   \n",
       "3  [1117, 3513, 5808, 7604, 8703, 9700, 11596, 13...   \n",
       "4  [1117, 3513, 5808, 7604, 8703, 9700, 11596, 13...   \n",
       "\n",
       "                                           condition  \\\n",
       "0  [1.1, 1.2, 1.2, 1.2, 1.2, 1.2, 1.2, 1.2, 1.2, ...   \n",
       "1  [1.1, 1.2, 1.2, 1.2, 1.2, 1.2, 1.2, 1.2, 1.2, ...   \n",
       "2  [rewarded, rewarded, rewarded, rewarded, rewar...   \n",
       "3  [1.4, 1.1, 1.1, 1.1, 1.1, 1.1, 1.1, 1.1, 1.1, ...   \n",
       "4  [1.4, 1.1, 1.1, 1.1, 1.1, 1.1, 1.1, 1.1, 1.1, ...   \n",
       "\n",
       "                               competition_closeness  \\\n",
       "0  [competitive, no_comp, competitive, no_comp, n...   \n",
       "1  [competitive, no_comp, competitive, no_comp, n...   \n",
       "2  [nan, nan, nan, nan, nan, nan, nan, nan, nan, ...   \n",
       "3  [no_comp, no_comp, competitive, competitive, c...   \n",
       "4  [no_comp, no_comp, competitive, competitive, c...   \n",
       "\n",
       "                                               notes  \\\n",
       "0  [nan, nan, nan, nan, nan, nan, nan, nan, nan, ...   \n",
       "1  [nan, nan, nan, nan, nan, nan, nan, nan, nan, ...   \n",
       "2  [nan, nan, nan, nan, nan, nan, nan, nan, nan, ...   \n",
       "3  [nan, nan, nan, nan, nan, nan, nan, nan, nan, ...   \n",
       "4  [nan, nan, nan, nan, nan, nan, nan, nan, nan, ...   \n",
       "\n",
       "                                          experiment  \\\n",
       "0  [standard, standard, standard, standard, stand...   \n",
       "1  [standard, standard, standard, standard, stand...   \n",
       "2  [standard, standard, standard, standard, stand...   \n",
       "3  [standard, standard, standard, standard, stand...   \n",
       "4  [standard, standard, standard, standard, stand...   \n",
       "\n",
       "                                         session_dir  \\\n",
       "0  20230612_112630_standard_comp_to_training_D1_s...   \n",
       "1  20230612_112630_standard_comp_to_training_D1_s...   \n",
       "2  20230612_112630_standard_comp_to_training_D1_s...   \n",
       "3  20230613_105657_standard_comp_to_training_D2_s...   \n",
       "4  20230613_105657_standard_comp_to_training_D2_s...   \n",
       "\n",
       "                                        all_subjects  \\\n",
       "0  [['1.1', '1.2'], ['1.1', '1.2'], ['1.1', '1.2'...   \n",
       "1  [['1.1', '1.2'], ['1.1', '1.2'], ['1.1', '1.2'...   \n",
       "2  [['1.1', '1.2'], ['1.1', '1.2'], ['1.1', '1.2'...   \n",
       "3  [['1.1', '1.4'], ['1.1', '1.4'], ['1.1', '1.4'...   \n",
       "4  [['1.1', '1.4'], ['1.1', '1.4'], ['1.1', '1.4'...   \n",
       "\n",
       "                                tone_start_timestamp  \\\n",
       "0  [1126742, 3526740, 5826740, 7626736, 8726734, ...   \n",
       "1  [1126742, 3526740, 5826740, 7626736, 8726734, ...   \n",
       "2  [37126704, 38326703, 39426702, 40726701, 41826...   \n",
       "3  [918755, 3318755, 5618754, 7418755, 8518752, 9...   \n",
       "4  [918755, 3318755, 5618754, 7418755, 8518752, 9...   \n",
       "\n",
       "                                 tone_stop_timestamp  \\\n",
       "0  [1326741, 3726740, 6026737, 7826735, 8926734, ...   \n",
       "1  [1326741, 3726740, 6026737, 7826735, 8926734, ...   \n",
       "2  [37326704, 38526703, 39626701, 40926700, 42026...   \n",
       "3  [1118758, 3518757, 5818753, 7618752, 8718757, ...   \n",
       "4  [1118758, 3518757, 5818753, 7618752, 8718757, ...   \n",
       "\n",
       "                                         trial_label  \\\n",
       "0  [win, lose, lose, lose, lose, lose, lose, lose...   \n",
       "1  [lose, win, win, win, win, win, win, win, win,...   \n",
       "2  [rewarded, rewarded, rewarded, rewarded, rewar...   \n",
       "3  [lose, win, win, win, win, win, win, win, win,...   \n",
       "4  [win, lose, lose, lose, lose, lose, lose, lose...   \n",
       "\n",
       "                                         trial_notes  \n",
       "0  [nan, nan, nan, nan, nan, nan, nan, nan, nan, ...  \n",
       "1  [nan, nan, nan, nan, nan, nan, nan, nan, nan, ...  \n",
       "2  [nan, nan, nan, nan, nan, nan, nan, nan, nan, ...  \n",
       "3  [nan, nan, nan, nan, nan, nan, nan, nan, nan, ...  \n",
       "4  [nan, nan, nan, nan, nan, nan, nan, nan, nan, ...  "
      ]
     },
     "execution_count": 36,
     "metadata": {},
     "output_type": "execute_result"
    }
   ],
   "source": [
    "GROUPED_TRIAL_LABELS_DF.head()"
   ]
  },
  {
   "cell_type": "markdown",
   "metadata": {},
   "source": [
    "## Merging the labels and LFP spectral"
   ]
  },
  {
   "cell_type": "code",
   "execution_count": 37,
   "metadata": {
    "tags": []
   },
   "outputs": [],
   "source": [
    "TRIALS_AND_SPECTRAL_DF = pd.merge(GROUPED_TRIAL_LABELS_DF, LFP_SPECTRAL_DF, on=[\"current_subject\", \"video_name\"], how=\"inner\", suffixes=('', '_y'))"
   ]
  },
  {
   "cell_type": "code",
   "execution_count": 38,
   "metadata": {
    "tags": []
   },
   "outputs": [
    {
     "name": "stdout",
     "output_type": "stream",
     "text": [
      "video_name\n",
      "current_subject\n",
      "tracked_subject\n",
      "box_number\n",
      "sleap_name\n",
      "tone_start_frame\n",
      "reward_start_frame\n",
      "tone_stop_frame\n",
      "condition\n",
      "competition_closeness\n",
      "notes\n",
      "experiment\n",
      "session_dir\n",
      "all_subjects\n",
      "tone_start_timestamp\n",
      "tone_stop_timestamp\n",
      "trial_label\n",
      "trial_notes\n",
      "cohort\n",
      "session_dir_y\n",
      "tone_frames\n",
      "box_1_port_entry_frames\n",
      "box_2_port_entry_frames\n",
      "session_path\n",
      "recording\n",
      "subject\n",
      "all_subjects_y\n",
      "first_timestamp\n",
      "last_timestamp\n",
      "video_timestamps\n",
      "tone_timestamps\n",
      "box_1_port_entry_timestamps\n",
      "box_2_port_entry_timestamps\n",
      "lfp_timestamps\n",
      "mPFC_theta_band\n",
      "MD_theta_band\n",
      "LH_theta_band\n",
      "BLA_theta_band\n",
      "vHPC_theta_band\n",
      "mPFC_gamma_band\n",
      "MD_gamma_band\n",
      "LH_gamma_band\n",
      "BLA_gamma_band\n",
      "vHPC_gamma_band\n",
      "mPFC_theta_phase\n",
      "MD_theta_phase\n",
      "LH_theta_phase\n",
      "BLA_theta_phase\n",
      "vHPC_theta_phase\n",
      "mPFC_gamma_phase\n",
      "MD_gamma_phase\n",
      "LH_gamma_phase\n",
      "BLA_gamma_phase\n",
      "vHPC_gamma_phase\n",
      "mPFC_RMS_filtered_power_all_frequencies_all_windows\n",
      "MD_RMS_filtered_power_all_frequencies_all_windows\n",
      "LH_RMS_filtered_power_all_frequencies_all_windows\n",
      "BLA_RMS_filtered_power_all_frequencies_all_windows\n",
      "vHPC_RMS_filtered_power_all_frequencies_all_windows\n",
      "power_timestamps\n",
      "power_calculation_frequencies\n",
      "BLA_LH_RMS_filtered_coherence_all_frequencies_all_windows\n",
      "BLA_MD_RMS_filtered_coherence_all_frequencies_all_windows\n",
      "BLA_mPFC_RMS_filtered_coherence_all_frequencies_all_windows\n",
      "BLA_vHPC_RMS_filtered_coherence_all_frequencies_all_windows\n",
      "LH_MD_RMS_filtered_coherence_all_frequencies_all_windows\n",
      "LH_mPFC_RMS_filtered_coherence_all_frequencies_all_windows\n",
      "LH_vHPC_RMS_filtered_coherence_all_frequencies_all_windows\n",
      "MD_mPFC_RMS_filtered_coherence_all_frequencies_all_windows\n",
      "MD_vHPC_RMS_filtered_coherence_all_frequencies_all_windows\n",
      "mPFC_vHPC_RMS_filtered_coherence_all_frequencies_all_windows\n",
      "coherence_timestamps\n",
      "coherence_calculation_frequencies\n",
      "BLA_LH_granger_all_frequencies_all_windows\n",
      "LH_BLA_granger_all_frequencies_all_windows\n",
      "BLA_MD_granger_all_frequencies_all_windows\n",
      "MD_BLA_granger_all_frequencies_all_windows\n",
      "BLA_mPFC_granger_all_frequencies_all_windows\n",
      "mPFC_BLA_granger_all_frequencies_all_windows\n",
      "BLA_vHPC_granger_all_frequencies_all_windows\n",
      "vHPC_BLA_granger_all_frequencies_all_windows\n",
      "LH_MD_granger_all_frequencies_all_windows\n",
      "MD_LH_granger_all_frequencies_all_windows\n",
      "LH_mPFC_granger_all_frequencies_all_windows\n",
      "mPFC_LH_granger_all_frequencies_all_windows\n",
      "LH_vHPC_granger_all_frequencies_all_windows\n",
      "vHPC_LH_granger_all_frequencies_all_windows\n",
      "MD_mPFC_granger_all_frequencies_all_windows\n",
      "mPFC_MD_granger_all_frequencies_all_windows\n",
      "MD_vHPC_granger_all_frequencies_all_windows\n",
      "vHPC_MD_granger_all_frequencies_all_windows\n",
      "mPFC_vHPC_granger_all_frequencies_all_windows\n",
      "vHPC_mPFC_granger_all_frequencies_all_windows\n",
      "granger_timestamps\n",
      "granger_calculation_frequencies\n",
      "BLA_LH_coherence_theta\n",
      "BLA_LH_coherence_gamma\n",
      "BLA_MD_coherence_theta\n",
      "BLA_MD_coherence_gamma\n",
      "BLA_mPFC_coherence_theta\n",
      "BLA_mPFC_coherence_gamma\n",
      "BLA_vHPC_coherence_theta\n",
      "BLA_vHPC_coherence_gamma\n",
      "LH_MD_coherence_theta\n",
      "LH_MD_coherence_gamma\n",
      "LH_mPFC_coherence_theta\n",
      "LH_mPFC_coherence_gamma\n",
      "LH_vHPC_coherence_theta\n",
      "LH_vHPC_coherence_gamma\n",
      "MD_mPFC_coherence_theta\n",
      "MD_mPFC_coherence_gamma\n",
      "MD_vHPC_coherence_theta\n",
      "MD_vHPC_coherence_gamma\n",
      "mPFC_vHPC_coherence_theta\n",
      "mPFC_vHPC_coherence_gamma\n",
      "BLA-to-LH_granger_theta\n",
      "BLA-to-LH_granger_gamma\n",
      "LH-to-BLA_granger_theta\n",
      "LH-to-BLA_granger_gamma\n",
      "BLA-to-MD_granger_theta\n",
      "BLA-to-MD_granger_gamma\n",
      "MD-to-BLA_granger_theta\n",
      "MD-to-BLA_granger_gamma\n",
      "BLA-to-mPFC_granger_theta\n",
      "BLA-to-mPFC_granger_gamma\n",
      "mPFC-to-BLA_granger_theta\n",
      "mPFC-to-BLA_granger_gamma\n",
      "BLA-to-vHPC_granger_theta\n",
      "BLA-to-vHPC_granger_gamma\n",
      "vHPC-to-BLA_granger_theta\n",
      "vHPC-to-BLA_granger_gamma\n",
      "LH-to-MD_granger_theta\n",
      "LH-to-MD_granger_gamma\n",
      "MD-to-LH_granger_theta\n",
      "MD-to-LH_granger_gamma\n",
      "LH-to-mPFC_granger_theta\n",
      "LH-to-mPFC_granger_gamma\n",
      "mPFC-to-LH_granger_theta\n",
      "mPFC-to-LH_granger_gamma\n",
      "LH-to-vHPC_granger_theta\n",
      "LH-to-vHPC_granger_gamma\n",
      "vHPC-to-LH_granger_theta\n",
      "vHPC-to-LH_granger_gamma\n",
      "MD-to-mPFC_granger_theta\n",
      "MD-to-mPFC_granger_gamma\n",
      "mPFC-to-MD_granger_theta\n",
      "mPFC-to-MD_granger_gamma\n",
      "MD-to-vHPC_granger_theta\n",
      "MD-to-vHPC_granger_gamma\n",
      "vHPC-to-MD_granger_theta\n",
      "vHPC-to-MD_granger_gamma\n",
      "mPFC-to-vHPC_granger_theta\n",
      "mPFC-to-vHPC_granger_gamma\n",
      "vHPC-to-mPFC_granger_theta\n",
      "vHPC-to-mPFC_granger_gamma\n",
      "mPFC_RMS_filtered_power_theta\n",
      "mPFC_RMS_filtered_power_gamma\n",
      "MD_RMS_filtered_power_theta\n",
      "MD_RMS_filtered_power_gamma\n",
      "LH_RMS_filtered_power_theta\n",
      "LH_RMS_filtered_power_gamma\n",
      "BLA_RMS_filtered_power_theta\n",
      "BLA_RMS_filtered_power_gamma\n",
      "vHPC_RMS_filtered_power_theta\n",
      "vHPC_RMS_filtered_power_gamma\n",
      "start_frame\n",
      "stop_frame\n",
      "tracked_subject_y\n",
      "in_video_subjects\n",
      "box_number_y\n",
      "sleap_name_y\n",
      "body_parts\n",
      "box_top_left\n",
      "box_top_right\n",
      "reward_port\n",
      "box_bottom_left\n",
      "box_bottom_right\n",
      "agent\n",
      "subject_locations\n",
      "agent_locations\n",
      "subject_thorax_velocity\n",
      "agent_thorax_velocity\n",
      "subject_thorax_to_reward_port\n",
      "agent_thorax_to_reward_port\n",
      "current_tracked_subject\n"
     ]
    }
   ],
   "source": [
    "for col in TRIALS_AND_SPECTRAL_DF:\n",
    "    print(col)"
   ]
  },
  {
   "cell_type": "code",
   "execution_count": 39,
   "metadata": {
    "tags": []
   },
   "outputs": [],
   "source": [
    "TRIALS_AND_SPECTRAL_DF = TRIALS_AND_SPECTRAL_DF.drop(columns=[col for col in TRIALS_AND_SPECTRAL_DF.columns if \"_y\" in col], errors=\"ignore\")"
   ]
  },
  {
   "cell_type": "code",
   "execution_count": 40,
   "metadata": {
    "tags": []
   },
   "outputs": [],
   "source": [
    "TRIALS_AND_SPECTRAL_DF[\"start_stop_frame\"] = TRIALS_AND_SPECTRAL_DF.apply(lambda x: (x[\"start_frame\"]-1, x[\"stop_frame\"]-1), axis=1)\n"
   ]
  },
  {
   "cell_type": "code",
   "execution_count": 41,
   "metadata": {
    "tags": []
   },
   "outputs": [],
   "source": [
    "TRIALS_AND_SPECTRAL_DF[\"start_stop_timestamps\"] = TRIALS_AND_SPECTRAL_DF.apply(lambda x: extract_start_stop_elements(x[\"video_timestamps\"], x[\"start_stop_frame\"][0], x[\"start_stop_frame\"][1]), axis=1)\n"
   ]
  },
  {
   "cell_type": "markdown",
   "metadata": {},
   "source": [
    "- Making all parts of the numpy array that is not part of slice Nans"
   ]
  },
  {
   "cell_type": "code",
   "execution_count": 42,
   "metadata": {
    "tags": []
   },
   "outputs": [],
   "source": [
    "sleap_columns = [\"subject_locations\", \n",
    "                 \"agent_locations\", \n",
    "                 \"subject_thorax_velocity\", \n",
    "                 \"agent_thorax_velocity\", \n",
    "                 \"subject_thorax_to_reward_port\", \n",
    "                 \"agent_thorax_to_reward_port\"]"
   ]
  },
  {
   "cell_type": "code",
   "execution_count": 43,
   "metadata": {},
   "outputs": [],
   "source": [
    "for col in sleap_columns:\n",
    "    TRIALS_AND_SPECTRAL_DF[col] = TRIALS_AND_SPECTRAL_DF.apply(lambda x: mask_slices(x[col], x[\"start_stop_frame\"]), axis=1)\n"
   ]
  },
  {
   "cell_type": "markdown",
   "metadata": {},
   "source": [
    "- Filtering for frames"
   ]
  },
  {
   "cell_type": "code",
   "execution_count": 44,
   "metadata": {
    "tags": []
   },
   "outputs": [],
   "source": [
    "TRIALS_AND_SPECTRAL_DF = TRIALS_AND_SPECTRAL_DF.drop(columns=[\"tone_frames\", \"start_frame\", \"stop_frame\"], errors=\"ignore\")"
   ]
  },
  {
   "cell_type": "code",
   "execution_count": 45,
   "metadata": {
    "tags": []
   },
   "outputs": [],
   "source": [
    "import numpy as np\n",
    "\n",
    "def filter_array_by_values(arr, start_value=0, stop_value=1000000):\n",
    "    \"\"\"\n",
    "    Filters elements of a 1D or rows of a 2D numpy array based on specified value range.\n",
    "    \n",
    "    Parameters:\n",
    "    - arr (numpy array): The input numpy array to filter.\n",
    "    - start_value (numeric): The lower bound for the filtering. Default is 0.\n",
    "    - stop_value (numeric): The upper bound for the filtering. Default is 1000000.\n",
    "    \n",
    "    Returns:\n",
    "    - numpy array: A numpy array containing only the filtered elements or rows.\n",
    "    \n",
    "    Raises:\n",
    "    - ValueError: If the input array has more than two dimensions.\n",
    "    \"\"\"\n",
    "    result = np.array(arr)\n",
    "    \n",
    "    if result.ndim == 1:\n",
    "        # Apply filter for a 1D array\n",
    "        mask = (result > start_value) & (result < stop_value)\n",
    "        return result[mask], mask\n",
    "    \n",
    "    elif result.ndim == 2:\n",
    "        # Apply filter based on the first column for a 2D array\n",
    "        mask = (result[:, 0] > start_value) & (result[:, 0] < stop_value)\n",
    "        return result[mask], mask\n",
    "    \n",
    "    else:\n",
    "        raise ValueError(\"The input array must be either 1D or 2D.\")\n"
   ]
  },
  {
   "cell_type": "code",
   "execution_count": 46,
   "metadata": {},
   "outputs": [],
   "source": [
    "TRIALS_AND_SPECTRAL_DF[\"tone_mask\"] = TRIALS_AND_SPECTRAL_DF.apply(lambda x: filter_array_by_values(x[\"tone_start_frame\"], \n",
    "                                                                                                   x[\"start_stop_frame\"][0], \n",
    "                                                                                                   x[\"start_stop_frame\"][1])[1], axis=1)\n",
    "                                                                                                   "
   ]
  },
  {
   "cell_type": "code",
   "execution_count": 47,
   "metadata": {
    "tags": []
   },
   "outputs": [],
   "source": [
    "for column in [col for col in TRIALS_AND_SPECTRAL_DF if \"frame\" in col and col != \"start_stop_frame\"]:\n",
    "    TRIALS_AND_SPECTRAL_DF[column] = TRIALS_AND_SPECTRAL_DF.apply(lambda x: filter_array_by_values(x[column], \n",
    "                                                                                                   x[\"start_stop_frame\"][0], \n",
    "                                                                                                   x[\"start_stop_frame\"][1])[0], axis=1)\n",
    "                                                                                                   "
   ]
  },
  {
   "cell_type": "code",
   "execution_count": 50,
   "metadata": {
    "tags": []
   },
   "outputs": [],
   "source": [
    "TRIALS_AND_SPECTRAL_DF[\"condition\"] = TRIALS_AND_SPECTRAL_DF.apply(lambda x: np.array(x[\"condition\"])[x[\"tone_mask\"]], axis=1)"
   ]
  },
  {
   "cell_type": "code",
   "execution_count": 51,
   "metadata": {
    "tags": []
   },
   "outputs": [
    {
     "data": {
      "text/plain": [
       "0     [1.1, 1.2, 1.2, 1.2, 1.2, 1.2, 1.2, 1.2, 1.2, ...\n",
       "1     [rewarded, rewarded, rewarded, rewarded, rewar...\n",
       "2     [1.1, 1.2, 1.2, 1.2, 1.2, 1.2, 1.2, 1.2, 1.2, ...\n",
       "3     [rewarded, rewarded, rewarded, rewarded, rewar...\n",
       "4     [rewarded, rewarded, rewarded, rewarded, rewar...\n",
       "5     [1.4, 1.1, 1.1, 1.1, 1.1, 1.1, 1.1, 1.1, 1.1, ...\n",
       "6     [1.4, 1.1, 1.1, 1.1, 1.1, 1.1, 1.1, 1.1, 1.1, ...\n",
       "7     [rewarded, rewarded, rewarded, rewarded, rewar...\n",
       "8     [rewarded, rewarded, rewarded, rewarded, rewar...\n",
       "9     [1.2, 1.2, 1.1, 1.1, 1.2, 1.1, 1.1, 1.1, 1.1, ...\n",
       "10    [1.2, 1.2, 1.1, 1.1, 1.2, 1.1, 1.1, 1.1, 1.1, ...\n",
       "11    [rewarded, rewarded, rewarded, rewarded, rewar...\n",
       "12    [rewarded, rewarded, rewarded, rewarded, rewar...\n",
       "13    [1.2, 1.2, 1.4, 1.2, 1.4, 1.2, 1.2, 1.4, 1.4, ...\n",
       "14    [rewarded, rewarded, rewarded, rewarded, rewar...\n",
       "15    [1.2, 1.2, 1.4, 1.2, 1.4, 1.2, 1.2, 1.4, 1.4, ...\n",
       "16    [rewarded, rewarded, rewarded, rewarded, rewar...\n",
       "17                                                   []\n",
       "18    [1.2, 1.1, 1.1, 1.2, 1.1, 1.1, 1.1, 1.1, 1.1, ...\n",
       "19    [1.2, 1.1, 1.1, 1.2, 1.1, 1.1, 1.1, 1.1, 1.1, ...\n",
       "20    [1.4, 1.1, 1.1, 1.4, 1.1, 1.4, 1.4, 1.4, 1.1, ...\n",
       "21    [rewarded, rewarded, rewarded, rewarded, rewar...\n",
       "22    [1.4, 1.1, 1.1, 1.4, 1.1, 1.4, 1.4, 1.4, 1.1, ...\n",
       "23    [rewarded, rewarded, rewarded, rewarded, rewar...\n",
       "24    [1.2, 1.1, 1.1, 1.1, 1.1, 1.2, 1.1, 1.1, 1.2, ...\n",
       "25    [rewarded, rewarded, omission, rewarded, rewar...\n",
       "26    [1.2, 1.1, 1.1, 1.1, 1.1, 1.2, 1.1, 1.1, 1.2, ...\n",
       "27    [rewarded, rewarded, omission, rewarded, rewar...\n",
       "28    [rewarded, omission, rewarded, rewarded, rewar...\n",
       "29    [1.4, 1.2, 1.2, 1.2, 1.2, 1.2, 1.2, 1.2, 1.2, ...\n",
       "30    [1.2, 1.2, 1.2, 1.2, 1.2, 1.2, 1.2, 1.2, 1.2, ...\n",
       "31    [1.2, 1.2, 1.2, 1.2, 1.2, 1.2, 1.2, 1.2, 1.2, ...\n",
       "32    [1.2, 1.2, 1.2, 1.2, 1.2, 1.2, 1.2, 1.2, 1.2, ...\n",
       "33    [1.4, 1.1, 1.1, 1.1, 1.1, 1.1, 1.1, 1.1, 1.1, ...\n",
       "34    [1.4, 1.1, 1.1, 1.1, 1.1, 1.1, 1.1, 1.1, 1.1, ...\n",
       "35    [1.2, 1.1, 1.2, 1.1, 1.1, 1.2, 1.2, 1.1, 1.2, ...\n",
       "36    [1.2, 1.2, 2.1, 1.2, 1.2, 1.2, 1.2, 1.2, 1.2, ...\n",
       "37    [1.2, 1.1, 1.2, 1.1, 1.1, 1.2, 1.2, 1.1, 1.2, ...\n",
       "38    [1.1, 1.1, 1.1, 1.1, 1.1, 1.1, 1.1, 1.1, 1.1, ...\n",
       "39    [1.1, 1.1, 1.1, 1.1, 1.1, 1.1, 2.1, 2.1, 2.1, ...\n",
       "40    [1.1, 1.1, 1.1, 1.1, 1.1, 1.1, 1.1, 1.1, 1.1, ...\n",
       "41    [1.4, 1.4, 1.4, 2.2, 2.2, 1.4, 2.2, 1.4, 2.2, ...\n",
       "42    [1.4, 1.4, 1.4, 1.2, 1.2, 1.4, 1.2, 1.2, 1.2, ...\n",
       "43    [1.4, 1.4, 1.4, 1.2, 1.2, 1.4, 1.2, 1.2, 1.2, ...\n",
       "44    [1.4, 1.4, 2.1, 2.1, 2.1, 1.4, 2.1, 2.1, 2.1, ...\n",
       "45    [2.2, 2.2, 2.2, 2.2, 2.2, 2.2, 2.2, 2.2, 2.2, ...\n",
       "Name: condition, dtype: object"
      ]
     },
     "execution_count": 51,
     "metadata": {},
     "output_type": "execute_result"
    }
   ],
   "source": [
    "TRIALS_AND_SPECTRAL_DF[\"condition\"]"
   ]
  },
  {
   "cell_type": "code",
   "execution_count": 55,
   "metadata": {
    "tags": []
   },
   "outputs": [
    {
     "data": {
      "text/plain": [
       "array([False, False, False, False, False, False, False, False, False,\n",
       "       False, False, False, False, False, False, False, False, False,\n",
       "       False, False, False])"
      ]
     },
     "execution_count": 55,
     "metadata": {},
     "output_type": "execute_result"
    }
   ],
   "source": [
    "TRIALS_AND_SPECTRAL_DF[\"tone_mask\"].iloc[17]"
   ]
  },
  {
   "cell_type": "code",
   "execution_count": null,
   "metadata": {},
   "outputs": [],
   "source": [
    "raise ValueError()"
   ]
  },
  {
   "cell_type": "code",
   "execution_count": 49,
   "metadata": {
    "tags": []
   },
   "outputs": [
    {
     "data": {
      "text/html": [
       "<div>\n",
       "<style scoped>\n",
       "    .dataframe tbody tr th:only-of-type {\n",
       "        vertical-align: middle;\n",
       "    }\n",
       "\n",
       "    .dataframe tbody tr th {\n",
       "        vertical-align: top;\n",
       "    }\n",
       "\n",
       "    .dataframe thead th {\n",
       "        text-align: right;\n",
       "    }\n",
       "</style>\n",
       "<table border=\"1\" class=\"dataframe\">\n",
       "  <thead>\n",
       "    <tr style=\"text-align: right;\">\n",
       "      <th></th>\n",
       "      <th>video_name</th>\n",
       "      <th>current_subject</th>\n",
       "      <th>tracked_subject</th>\n",
       "      <th>box_number</th>\n",
       "      <th>sleap_name</th>\n",
       "      <th>tone_start_frame</th>\n",
       "      <th>reward_start_frame</th>\n",
       "      <th>tone_stop_frame</th>\n",
       "      <th>condition</th>\n",
       "      <th>competition_closeness</th>\n",
       "      <th>...</th>\n",
       "      <th>subject_locations</th>\n",
       "      <th>agent_locations</th>\n",
       "      <th>subject_thorax_velocity</th>\n",
       "      <th>agent_thorax_velocity</th>\n",
       "      <th>subject_thorax_to_reward_port</th>\n",
       "      <th>agent_thorax_to_reward_port</th>\n",
       "      <th>current_tracked_subject</th>\n",
       "      <th>start_stop_frame</th>\n",
       "      <th>start_stop_timestamps</th>\n",
       "      <th>tone_mask</th>\n",
       "    </tr>\n",
       "  </thead>\n",
       "  <tbody>\n",
       "    <tr>\n",
       "      <th>0</th>\n",
       "      <td>20230612_112630_standard_comp_to_training_D1_s...</td>\n",
       "      <td>1.1</td>\n",
       "      <td>[['1.1', '1.2'], ['1.1', '1.2'], ['1.1', '1.2'...</td>\n",
       "      <td>[1, 1, 1, 1, 1, 1, 1, 1, 1, 1, 1, 1, 1, 1, 1, ...</td>\n",
       "      <td>20230612_112630_standard_comp_to_training_D1_s...</td>\n",
       "      <td>[1125, 3519, 5815, 7612, 8709, 9708, 11604, 13...</td>\n",
       "      <td>[1225, 3619, 5915, 7712, 8809, 9808, 11704, 13...</td>\n",
       "      <td>[1324, 3720, 6014, 7811, 8910, 9907, 11804, 13...</td>\n",
       "      <td>[1.1, 1.2, 1.2, 1.2, 1.2, 1.2, 1.2, 1.2, 1.2, ...</td>\n",
       "      <td>[competitive, no_comp, competitive, no_comp, n...</td>\n",
       "      <td>...</td>\n",
       "      <td>[[[46.68890098287189, 11.495085446056166], [43...</td>\n",
       "      <td>[[[34.36404036584844, 35.615553316175784], [34...</td>\n",
       "      <td>[1.8125, 1.707, 1.6045, 1.506, 1.409, 1.315, 1...</td>\n",
       "      <td>[14.336, 12.875, 11.47, 10.11, 8.81, 7.57, 6.3...</td>\n",
       "      <td>[26.45, 26.16, 26.1, 25.77, 25.72, 25.78, 26.1...</td>\n",
       "      <td>[6.11, 6.06, 6.125, 6.566, 6.605, 6.676, 7.13,...</td>\n",
       "      <td>1.1_1.2</td>\n",
       "      <td>(0, 32299)</td>\n",
       "      <td>(1384, 32361438)</td>\n",
       "      <td>[True, True, True, True, True, True, True, Tru...</td>\n",
       "    </tr>\n",
       "    <tr>\n",
       "      <th>1</th>\n",
       "      <td>20230612_112630_standard_comp_to_training_D1_s...</td>\n",
       "      <td>1.2</td>\n",
       "      <td>[['1.1', '1.2'], ['1.1', '1.2'], ['1.1', '1.2'...</td>\n",
       "      <td>[1, 1, 1, 1, 1, 1, 1, 1, 1, 1, 1, 1, 1, 1, 1, ...</td>\n",
       "      <td>20230612_112630_standard_comp_to_training_D1_s...</td>\n",
       "      <td>[37101, 38299, 39397, 40695, 41792, 42790, 437...</td>\n",
       "      <td>[37201, 38399, 39497, 40795, 41892, 42890, 438...</td>\n",
       "      <td>[37300, 38498, 39597, 40894, 41992, 42990, 439...</td>\n",
       "      <td>[1.1, 1.2, 1.2, 1.2, 1.2, 1.2, 1.2, 1.2, 1.2, ...</td>\n",
       "      <td>[competitive, no_comp, competitive, no_comp, n...</td>\n",
       "      <td>...</td>\n",
       "      <td>[[[nan, nan], [nan, nan], [nan, nan], [nan, na...</td>\n",
       "      <td>NaN</td>\n",
       "      <td>[nan, nan, nan, nan, nan, nan, nan, nan, nan, ...</td>\n",
       "      <td>NaN</td>\n",
       "      <td>[nan, nan, nan, nan, nan, nan, nan, nan, nan, ...</td>\n",
       "      <td>NaN</td>\n",
       "      <td>1.2</td>\n",
       "      <td>(32699, 68256)</td>\n",
       "      <td>(32717606, 68341384)</td>\n",
       "      <td>[False, False, False, False, False, False, Fal...</td>\n",
       "    </tr>\n",
       "    <tr>\n",
       "      <th>2</th>\n",
       "      <td>20230612_112630_standard_comp_to_training_D1_s...</td>\n",
       "      <td>1.2</td>\n",
       "      <td>[['1.1', '1.2'], ['1.1', '1.2'], ['1.1', '1.2'...</td>\n",
       "      <td>[1, 1, 1, 1, 1, 1, 1, 1, 1, 1, 1, 1, 1, 1, 1, ...</td>\n",
       "      <td>20230612_112630_standard_comp_to_training_D1_s...</td>\n",
       "      <td>[1125, 3519, 5815, 7612, 8709, 9708, 11604, 13...</td>\n",
       "      <td>[1225, 3619, 5915, 7712, 8809, 9808, 11704, 13...</td>\n",
       "      <td>[1324, 3720, 6014, 7811, 8910, 9907, 11804, 13...</td>\n",
       "      <td>[1.1, 1.2, 1.2, 1.2, 1.2, 1.2, 1.2, 1.2, 1.2, ...</td>\n",
       "      <td>[competitive, no_comp, competitive, no_comp, n...</td>\n",
       "      <td>...</td>\n",
       "      <td>[[[34.36404036584844, 35.615553316175784], [34...</td>\n",
       "      <td>[[[46.68890098287189, 11.495085446056166], [43...</td>\n",
       "      <td>[14.336, 12.875, 11.47, 10.11, 8.81, 7.57, 6.3...</td>\n",
       "      <td>[1.8125, 1.707, 1.6045, 1.506, 1.409, 1.315, 1...</td>\n",
       "      <td>[6.11, 6.06, 6.125, 6.566, 6.605, 6.676, 7.13,...</td>\n",
       "      <td>[26.45, 26.16, 26.1, 25.77, 25.72, 25.78, 26.1...</td>\n",
       "      <td>1.1_1.2</td>\n",
       "      <td>(0, 32299)</td>\n",
       "      <td>(1384, 32361438)</td>\n",
       "      <td>[True, True, True, True, True, True, True, Tru...</td>\n",
       "    </tr>\n",
       "    <tr>\n",
       "      <th>3</th>\n",
       "      <td>20230612_112630_standard_comp_to_training_D1_s...</td>\n",
       "      <td>1.1</td>\n",
       "      <td>[['1.1'], ['1.1'], ['1.1'], ['1.1'], ['1.1'], ...</td>\n",
       "      <td>[2, 2, 2, 2, 2, 2, 2, 2, 2, 2, 2, 2, 2, 2, 2, ...</td>\n",
       "      <td>20230612_112630_standard_comp_to_training_D1_s...</td>\n",
       "      <td>[37056, 38254, 39352, 40650, 41747, 42746, 437...</td>\n",
       "      <td>[37156, 38354, 39452, 40750, 41847, 42846, 438...</td>\n",
       "      <td>[37256, 38453, 39552, 40849, 41947, 42945, 439...</td>\n",
       "      <td>[rewarded, rewarded, rewarded, rewarded, rewar...</td>\n",
       "      <td>[nan, nan, nan, nan, nan, nan, nan, nan, nan, ...</td>\n",
       "      <td>...</td>\n",
       "      <td>[[[nan, nan], [nan, nan], [nan, nan], [nan, na...</td>\n",
       "      <td>NaN</td>\n",
       "      <td>[nan, nan, nan, nan, nan, nan, nan, nan, nan, ...</td>\n",
       "      <td>NaN</td>\n",
       "      <td>[nan, nan, nan, nan, nan, nan, nan, nan, nan, ...</td>\n",
       "      <td>NaN</td>\n",
       "      <td>1.1</td>\n",
       "      <td>(32999, 68211)</td>\n",
       "      <td>(33062688, 68339998)</td>\n",
       "      <td>[True, True, True, True, True, True, True, Tru...</td>\n",
       "    </tr>\n",
       "    <tr>\n",
       "      <th>4</th>\n",
       "      <td>20230613_105657_standard_comp_to_training_D2_s...</td>\n",
       "      <td>1.1</td>\n",
       "      <td>[['1.1', '1.4'], ['1.1', '1.4'], ['1.1', '1.4'...</td>\n",
       "      <td>[1, 1, 1, 1, 1, 1, 1, 1, 1, 1, 1, 1, 1, 1, 1, ...</td>\n",
       "      <td>20230613_105657_standard_comp_to_training_D2_s...</td>\n",
       "      <td>[36889, 38087, 39185, 40482, 41579, 42578, 435...</td>\n",
       "      <td>[36989, 38187, 39285, 40582, 41679, 42678, 436...</td>\n",
       "      <td>[37088, 38286, 39384, 40681, 41780, 42777, 437...</td>\n",
       "      <td>[1.4, 1.1, 1.1, 1.1, 1.1, 1.1, 1.1, 1.1, 1.1, ...</td>\n",
       "      <td>[no_comp, no_comp, competitive, competitive, c...</td>\n",
       "      <td>...</td>\n",
       "      <td>[[[nan, nan], [nan, nan], [nan, nan], [nan, na...</td>\n",
       "      <td>NaN</td>\n",
       "      <td>[nan, nan, nan, nan, nan, nan, nan, nan, nan, ...</td>\n",
       "      <td>NaN</td>\n",
       "      <td>[nan, nan, nan, nan, nan, nan, nan, nan, nan, ...</td>\n",
       "      <td>NaN</td>\n",
       "      <td>1.1</td>\n",
       "      <td>(33399, 68331)</td>\n",
       "      <td>(33423014, 68420378)</td>\n",
       "      <td>[False, False, False, False, False, False, Fal...</td>\n",
       "    </tr>\n",
       "    <tr>\n",
       "      <th>5</th>\n",
       "      <td>20230613_105657_standard_comp_to_training_D2_s...</td>\n",
       "      <td>1.1</td>\n",
       "      <td>[['1.1', '1.4'], ['1.1', '1.4'], ['1.1', '1.4'...</td>\n",
       "      <td>[1, 1, 1, 1, 1, 1, 1, 1, 1, 1, 1, 1, 1, 1, 1, ...</td>\n",
       "      <td>20230613_105657_standard_comp_to_training_D2_s...</td>\n",
       "      <td>[916, 3312, 5608, 7405, 8502, 9501, 11397, 128...</td>\n",
       "      <td>[1016, 3412, 5708, 7505, 8602, 9601, 11497, 12...</td>\n",
       "      <td>[1117, 3513, 5808, 7604, 8703, 9700, 11596, 13...</td>\n",
       "      <td>[1.4, 1.1, 1.1, 1.1, 1.1, 1.1, 1.1, 1.1, 1.1, ...</td>\n",
       "      <td>[no_comp, no_comp, competitive, competitive, c...</td>\n",
       "      <td>...</td>\n",
       "      <td>[[[46.71964110607613, 36.493379374373234], [44...</td>\n",
       "      <td>[[[50.63276479731981, 10.511614189582007], [51...</td>\n",
       "      <td>[4.04, 3.848, 3.658, 3.475, 3.291, 3.113, 2.94...</td>\n",
       "      <td>[4.402, 3.873, 3.361, 2.87, 2.398, 1.946, 1.51...</td>\n",
       "      <td>[4.633, 4.09, 4.36, 4.656, 4.65, 4.383, 4.35, ...</td>\n",
       "      <td>[28.12, 28.16, 28.22, 28.06, 27.9, 27.9, 27.9,...</td>\n",
       "      <td>1.1_1.4</td>\n",
       "      <td>(0, 32999)</td>\n",
       "      <td>(1384, 33061302)</td>\n",
       "      <td>[True, True, True, True, True, True, True, Tru...</td>\n",
       "    </tr>\n",
       "    <tr>\n",
       "      <th>6</th>\n",
       "      <td>20230613_105657_standard_comp_to_training_D2_s...</td>\n",
       "      <td>1.4</td>\n",
       "      <td>[['1.1', '1.4'], ['1.1', '1.4'], ['1.1', '1.4'...</td>\n",
       "      <td>[1, 1, 1, 1, 1, 1, 1, 1, 1, 1, 1, 1, 1, 1, 1, ...</td>\n",
       "      <td>20230613_105657_standard_comp_to_training_D2_s...</td>\n",
       "      <td>[916, 3312, 5608, 7405, 8502, 9501, 11397, 128...</td>\n",
       "      <td>[1016, 3412, 5708, 7505, 8602, 9601, 11497, 12...</td>\n",
       "      <td>[1117, 3513, 5808, 7604, 8703, 9700, 11596, 13...</td>\n",
       "      <td>[1.4, 1.1, 1.1, 1.1, 1.1, 1.1, 1.1, 1.1, 1.1, ...</td>\n",
       "      <td>[no_comp, no_comp, competitive, competitive, c...</td>\n",
       "      <td>...</td>\n",
       "      <td>[[[50.63276479731981, 10.511614189582007], [51...</td>\n",
       "      <td>[[[46.71964110607613, 36.493379374373234], [44...</td>\n",
       "      <td>[4.402, 3.873, 3.361, 2.87, 2.398, 1.946, 1.51...</td>\n",
       "      <td>[4.04, 3.848, 3.658, 3.475, 3.291, 3.113, 2.94...</td>\n",
       "      <td>[28.12, 28.16, 28.22, 28.06, 27.9, 27.9, 27.9,...</td>\n",
       "      <td>[4.633, 4.09, 4.36, 4.656, 4.65, 4.383, 4.35, ...</td>\n",
       "      <td>1.1_1.4</td>\n",
       "      <td>(0, 32999)</td>\n",
       "      <td>(1384, 33061302)</td>\n",
       "      <td>[True, True, True, True, True, True, True, Tru...</td>\n",
       "    </tr>\n",
       "    <tr>\n",
       "      <th>7</th>\n",
       "      <td>20230613_105657_standard_comp_to_training_D2_s...</td>\n",
       "      <td>1.4</td>\n",
       "      <td>[['1.4'], ['1.4'], ['1.4'], ['1.4'], ['1.4'], ...</td>\n",
       "      <td>[2, 2, 2, 2, 2, 2, 2, 2, 2, 2, 2, 2, 2, 2, 2, ...</td>\n",
       "      <td>20230613_105657_standard_comp_to_training_D2_s...</td>\n",
       "      <td>[36849, 38047, 39145, 40443, 41540, 42538, 435...</td>\n",
       "      <td>[36949, 38147, 39245, 40543, 41640, 42638, 436...</td>\n",
       "      <td>[37048, 38246, 39345, 40642, 41740, 42738, 437...</td>\n",
       "      <td>[rewarded, rewarded, rewarded, rewarded, rewar...</td>\n",
       "      <td>[nan, nan, nan, nan, nan, nan, nan, nan, nan, ...</td>\n",
       "      <td>...</td>\n",
       "      <td>[[[nan, nan], [nan, nan], [nan, nan], [nan, na...</td>\n",
       "      <td>NaN</td>\n",
       "      <td>[nan, nan, nan, nan, nan, nan, nan, nan, nan, ...</td>\n",
       "      <td>NaN</td>\n",
       "      <td>[nan, nan, nan, nan, nan, nan, nan, nan, nan, ...</td>\n",
       "      <td>NaN</td>\n",
       "      <td>1.4</td>\n",
       "      <td>(33699, 68291)</td>\n",
       "      <td>(33762552, 68420378)</td>\n",
       "      <td>[True, True, True, True, True, True, True, Tru...</td>\n",
       "    </tr>\n",
       "    <tr>\n",
       "      <th>8</th>\n",
       "      <td>20230614_114041_standard_comp_to_training_D3_s...</td>\n",
       "      <td>1.1</td>\n",
       "      <td>[['1.1', '1.2'], ['1.1', '1.2'], ['1.1', '1.2'...</td>\n",
       "      <td>[1, 1, 1, 1, 1, 1, 1, 1, 1, 1, 1, 1, 1, 1, 1, ...</td>\n",
       "      <td>20230614_114041_standard_comp_to_training_D3_s...</td>\n",
       "      <td>[36875, 38073, 39171, 40468, 41567, 42564, 43563]</td>\n",
       "      <td>[36975, 38173, 39271, 40568, 41667, 42664, 43663]</td>\n",
       "      <td>[37075, 38273, 39370, 40667, 41766, 42764, 43762]</td>\n",
       "      <td>[1.2, 1.2, 1.1, 1.1, 1.2, 1.1, 1.1, 1.1, 1.1, ...</td>\n",
       "      <td>[competitive, no_comp, no_comp, competitive, c...</td>\n",
       "      <td>...</td>\n",
       "      <td>[[[nan, nan], [nan, nan], [nan, nan], [nan, na...</td>\n",
       "      <td>NaN</td>\n",
       "      <td>[nan, nan, nan, nan, nan, nan, nan, nan, nan, ...</td>\n",
       "      <td>NaN</td>\n",
       "      <td>[nan, nan, nan, nan, nan, nan, nan, nan, nan, ...</td>\n",
       "      <td>NaN</td>\n",
       "      <td>1.1</td>\n",
       "      <td>(32799, 44204)</td>\n",
       "      <td>(32773048, 44199536)</td>\n",
       "      <td>[False, False, False, False, False, False, Fal...</td>\n",
       "    </tr>\n",
       "    <tr>\n",
       "      <th>9</th>\n",
       "      <td>20230614_114041_standard_comp_to_training_D3_s...</td>\n",
       "      <td>1.1</td>\n",
       "      <td>[['1.1', '1.2'], ['1.1', '1.2'], ['1.1', '1.2'...</td>\n",
       "      <td>[1, 1, 1, 1, 1, 1, 1, 1, 1, 1, 1, 1, 1, 1, 1, ...</td>\n",
       "      <td>20230614_114041_standard_comp_to_training_D3_s...</td>\n",
       "      <td>[855, 3251, 5546, 7343, 8441, 9439, 11335, 128...</td>\n",
       "      <td>[955, 3351, 5646, 7443, 8541, 9539, 11435, 129...</td>\n",
       "      <td>[1055, 3450, 5747, 7542, 8640, 9639, 11536, 13...</td>\n",
       "      <td>[1.2, 1.2, 1.1, 1.1, 1.2, 1.1, 1.1, 1.1, 1.1, ...</td>\n",
       "      <td>[competitive, no_comp, no_comp, competitive, c...</td>\n",
       "      <td>...</td>\n",
       "      <td>[[[44.962146067447776, 33.875261125037554], [4...</td>\n",
       "      <td>[[[52.756810221797416, 36.78031943889759], [52...</td>\n",
       "      <td>[8.55, 7.92, 7.3, 6.69, 6.09, 5.496, 4.918, 4....</td>\n",
       "      <td>[31.56, 28.44, 25.4, 22.5, 19.67, 16.97, 14.37...</td>\n",
       "      <td>[5.957, 5.52, 5.055, 4.99, 4.484, 4.047, 4.195...</td>\n",
       "      <td>[10.77, 10.75, 10.76, 10.91, 10.95, 11.234, 11...</td>\n",
       "      <td>1.1_1.2</td>\n",
       "      <td>(0, 32199)</td>\n",
       "      <td>(-2, 32260270)</td>\n",
       "      <td>[True, True, True, True, True, True, True, Tru...</td>\n",
       "    </tr>\n",
       "    <tr>\n",
       "      <th>10</th>\n",
       "      <td>20230614_114041_standard_comp_to_training_D3_s...</td>\n",
       "      <td>1.2</td>\n",
       "      <td>[['1.1', '1.2'], ['1.1', '1.2'], ['1.1', '1.2'...</td>\n",
       "      <td>[1, 1, 1, 1, 1, 1, 1, 1, 1, 1, 1, 1, 1, 1, 1, ...</td>\n",
       "      <td>20230614_114041_standard_comp_to_training_D3_s...</td>\n",
       "      <td>[855, 3251, 5546, 7343, 8441, 9439, 11335, 128...</td>\n",
       "      <td>[955, 3351, 5646, 7443, 8541, 9539, 11435, 129...</td>\n",
       "      <td>[1055, 3450, 5747, 7542, 8640, 9639, 11536, 13...</td>\n",
       "      <td>[1.2, 1.2, 1.1, 1.1, 1.2, 1.1, 1.1, 1.1, 1.1, ...</td>\n",
       "      <td>[competitive, no_comp, no_comp, competitive, c...</td>\n",
       "      <td>...</td>\n",
       "      <td>[[[52.756810221797416, 36.78031943889759], [52...</td>\n",
       "      <td>[[[44.962146067447776, 33.875261125037554], [4...</td>\n",
       "      <td>[31.56, 28.44, 25.4, 22.5, 19.67, 16.97, 14.37...</td>\n",
       "      <td>[8.55, 7.92, 7.3, 6.69, 6.09, 5.496, 4.918, 4....</td>\n",
       "      <td>[10.77, 10.75, 10.76, 10.91, 10.95, 11.234, 11...</td>\n",
       "      <td>[5.957, 5.52, 5.055, 4.99, 4.484, 4.047, 4.195...</td>\n",
       "      <td>1.1_1.2</td>\n",
       "      <td>(0, 32199)</td>\n",
       "      <td>(-2, 32260270)</td>\n",
       "      <td>[True, True, True, True, True, True, True, Tru...</td>\n",
       "    </tr>\n",
       "    <tr>\n",
       "      <th>11</th>\n",
       "      <td>20230614_114041_standard_comp_to_training_D3_s...</td>\n",
       "      <td>1.2</td>\n",
       "      <td>[['1.2'], ['1.2'], ['1.2'], ['1.2'], ['1.2'], ...</td>\n",
       "      <td>[2, 2, 2, 2, 2, 2, 2, 2, 2, 2, 2, 2, 2, 2, 2, ...</td>\n",
       "      <td>20230614_114041_standard_comp_to_training_D3_s...</td>\n",
       "      <td>[44920, 46118, 47217, 48514, 49613, 50610, 516...</td>\n",
       "      <td>[45020, 46218, 47317, 48614, 49713, 50710, 517...</td>\n",
       "      <td>[45121, 46319, 47416, 48713, 49812, 50810, 518...</td>\n",
       "      <td>[rewarded, rewarded, rewarded, rewarded, rewar...</td>\n",
       "      <td>[nan, nan, nan, nan, nan, nan, nan, nan, nan, ...</td>\n",
       "      <td>...</td>\n",
       "      <td>[[[nan, nan], [nan, nan], [nan, nan], [nan, na...</td>\n",
       "      <td>NaN</td>\n",
       "      <td>[nan, nan, nan, nan, nan, nan, nan, nan, nan, ...</td>\n",
       "      <td>NaN</td>\n",
       "      <td>[nan, nan, nan, nan, nan, nan, nan, nan, nan, ...</td>\n",
       "      <td>NaN</td>\n",
       "      <td>1.2</td>\n",
       "      <td>(41599, 75828)</td>\n",
       "      <td>(33529727, 68075297)</td>\n",
       "      <td>[True, True, True, True, True, True, True, Tru...</td>\n",
       "    </tr>\n",
       "    <tr>\n",
       "      <th>12</th>\n",
       "      <td>20230614_114041_standard_comp_to_training_D3_s...</td>\n",
       "      <td>1.1</td>\n",
       "      <td>[['1.1'], ['1.1'], ['1.1'], ['1.1'], ['1.1'], ...</td>\n",
       "      <td>[1, 1, 1, 1, 1, 1, 1, 1, 1, 1, 1, 1]</td>\n",
       "      <td>20230614_114041_standard_comp_to_training_D3_s...</td>\n",
       "      <td>[1197, 3593, 5989, 8184, 9881, 12277, 13473, 1...</td>\n",
       "      <td>[1297, 3693, 6089, 8284, 9981, 12377, 13573, 1...</td>\n",
       "      <td>[1396, 3792, 6188, 8383, 10080, 12476, 13674, ...</td>\n",
       "      <td>[rewarded, rewarded, rewarded, rewarded, rewar...</td>\n",
       "      <td>[nan, nan, nan, nan, nan, nan, nan, nan, nan, ...</td>\n",
       "      <td>...</td>\n",
       "      <td>[[[46.36973988436269, 35.49525095953385], [43....</td>\n",
       "      <td>NaN</td>\n",
       "      <td>[1.943, 1.776, 1.613, 1.457, 1.306, 1.159, 1.0...</td>\n",
       "      <td>NaN</td>\n",
       "      <td>[4.03, 4.027, 4.027, 3.875, 3.875, 3.873, 3.88...</td>\n",
       "      <td>NaN</td>\n",
       "      <td>1.1</td>\n",
       "      <td>(0, 23573)</td>\n",
       "      <td>(44458694, 68075297)</td>\n",
       "      <td>[True, True, True, True, True, True, True, Tru...</td>\n",
       "    </tr>\n",
       "    <tr>\n",
       "      <th>13</th>\n",
       "      <td>20230616_111904_standard_comp_to_training_D4_s...</td>\n",
       "      <td>1.2</td>\n",
       "      <td>[['1.2', '1.4'], ['1.2', '1.4'], ['1.2', '1.4'...</td>\n",
       "      <td>[1, 1, 1, 1, 1, 1, 1, 1, 1, 1, 1, 1, 1, 1, 1, ...</td>\n",
       "      <td>20230616_111904_standard_comp_to_training_D4_s...</td>\n",
       "      <td>[87, 2483, 4778, 6575, 7673, 8671, 10567, 1206...</td>\n",
       "      <td>[187, 2583, 4878, 6675, 7773, 8771, 10667, 121...</td>\n",
       "      <td>[287, 2683, 4979, 6775, 7873, 8871, 10768, 122...</td>\n",
       "      <td>[1.2, 1.2, 1.4, 1.2, 1.4, 1.2, 1.2, 1.4, 1.4, ...</td>\n",
       "      <td>[no_comp, competitive, no_comp, competitive, n...</td>\n",
       "      <td>...</td>\n",
       "      <td>[[[51.59712734869665, 31.240714372660907], [56...</td>\n",
       "      <td>[[[56.75056981673038, 24.705250867385512], [55...</td>\n",
       "      <td>[2.955, 2.666, 2.389, 2.121, 1.866, 1.623, 1.3...</td>\n",
       "      <td>[35.16, 33.8, 32.53, 31.28, 30.05, 28.84, 27.6...</td>\n",
       "      <td>[10.48, 10.48, 10.47, 10.48, 10.484, 10.49, 10...</td>\n",
       "      <td>[19.75, 19.78, 20.06, 19.45, 19.12, 19.02, 18....</td>\n",
       "      <td>1.2_1.4</td>\n",
       "      <td>(0, 31099)</td>\n",
       "      <td>(1383, 31158503)</td>\n",
       "      <td>[True, True, True, True, True, True, True, Tru...</td>\n",
       "    </tr>\n",
       "    <tr>\n",
       "      <th>14</th>\n",
       "      <td>20230616_111904_standard_comp_to_training_D4_s...</td>\n",
       "      <td>1.4</td>\n",
       "      <td>[['1.2', '1.4'], ['1.2', '1.4'], ['1.2', '1.4'...</td>\n",
       "      <td>[1, 1, 1, 1, 1, 1, 1, 1, 1, 1, 1, 1, 1, 1, 1, ...</td>\n",
       "      <td>20230616_111904_standard_comp_to_training_D4_s...</td>\n",
       "      <td>[36035, 37233, 38331, 39629, 40727, 41725, 427...</td>\n",
       "      <td>[36135, 37333, 38431, 39729, 40827, 41825, 428...</td>\n",
       "      <td>[36236, 37434, 38531, 39828, 40927, 41925, 429...</td>\n",
       "      <td>[1.2, 1.2, 1.4, 1.2, 1.4, 1.2, 1.2, 1.4, 1.4, ...</td>\n",
       "      <td>[no_comp, competitive, no_comp, competitive, n...</td>\n",
       "      <td>...</td>\n",
       "      <td>[[[nan, nan], [nan, nan], [nan, nan], [nan, na...</td>\n",
       "      <td>NaN</td>\n",
       "      <td>[nan, nan, nan, nan, nan, nan, nan, nan, nan, ...</td>\n",
       "      <td>NaN</td>\n",
       "      <td>[nan, nan, nan, nan, nan, nan, nan, nan, nan, ...</td>\n",
       "      <td>NaN</td>\n",
       "      <td>1.4</td>\n",
       "      <td>(32099, 67368)</td>\n",
       "      <td>(32143856, 67479373)</td>\n",
       "      <td>[False, False, False, False, False, False, Fal...</td>\n",
       "    </tr>\n",
       "    <tr>\n",
       "      <th>15</th>\n",
       "      <td>20230616_111904_standard_comp_to_training_D4_s...</td>\n",
       "      <td>1.4</td>\n",
       "      <td>[['1.2', '1.4'], ['1.2', '1.4'], ['1.2', '1.4'...</td>\n",
       "      <td>[1, 1, 1, 1, 1, 1, 1, 1, 1, 1, 1, 1, 1, 1, 1, ...</td>\n",
       "      <td>20230616_111904_standard_comp_to_training_D4_s...</td>\n",
       "      <td>[87, 2483, 4778, 6575, 7673, 8671, 10567, 1206...</td>\n",
       "      <td>[187, 2583, 4878, 6675, 7773, 8771, 10667, 121...</td>\n",
       "      <td>[287, 2683, 4979, 6775, 7873, 8871, 10768, 122...</td>\n",
       "      <td>[1.2, 1.2, 1.4, 1.2, 1.4, 1.2, 1.2, 1.4, 1.4, ...</td>\n",
       "      <td>[no_comp, competitive, no_comp, competitive, n...</td>\n",
       "      <td>...</td>\n",
       "      <td>[[[56.75056981673038, 24.705250867385512], [55...</td>\n",
       "      <td>[[[51.59712734869665, 31.240714372660907], [56...</td>\n",
       "      <td>[35.16, 33.8, 32.53, 31.28, 30.05, 28.84, 27.6...</td>\n",
       "      <td>[2.955, 2.666, 2.389, 2.121, 1.866, 1.623, 1.3...</td>\n",
       "      <td>[19.75, 19.78, 20.06, 19.45, 19.12, 19.02, 18....</td>\n",
       "      <td>[10.48, 10.48, 10.47, 10.48, 10.484, 10.49, 10...</td>\n",
       "      <td>1.2_1.4</td>\n",
       "      <td>(0, 31099)</td>\n",
       "      <td>(1383, 31158503)</td>\n",
       "      <td>[True, True, True, True, True, True, True, Tru...</td>\n",
       "    </tr>\n",
       "    <tr>\n",
       "      <th>16</th>\n",
       "      <td>20230616_111904_standard_comp_to_training_D4_s...</td>\n",
       "      <td>1.2</td>\n",
       "      <td>[['1.2'], ['1.2'], ['1.2'], ['1.2'], ['1.2'], ...</td>\n",
       "      <td>[2, 2, 2, 2, 2, 2, 2, 2, 2, 2, 2, 2, 2, 2, 2, ...</td>\n",
       "      <td>20230616_111904_standard_comp_to_training_D4_s...</td>\n",
       "      <td>[41509, 42607, 43905, 45003, 46000, 46999, 490...</td>\n",
       "      <td>[41609, 42707, 44005, 45103, 46100, 47099, 491...</td>\n",
       "      <td>[41709, 42807, 44104, 45202, 46201, 47198, 492...</td>\n",
       "      <td>[rewarded, rewarded, rewarded, rewarded, rewar...</td>\n",
       "      <td>[nan, nan, nan, nan, nan, nan, nan, nan, nan, ...</td>\n",
       "      <td>...</td>\n",
       "      <td>[[[nan, nan], [nan, nan], [nan, nan], [nan, na...</td>\n",
       "      <td>NaN</td>\n",
       "      <td>[nan, nan, nan, nan, nan, nan, nan, nan, nan, ...</td>\n",
       "      <td>NaN</td>\n",
       "      <td>[nan, nan, nan, nan, nan, nan, nan, nan, nan, ...</td>\n",
       "      <td>NaN</td>\n",
       "      <td>1.2</td>\n",
       "      <td>(36099, 71643)</td>\n",
       "      <td>(31868068, 67479373)</td>\n",
       "      <td>[True, True, True, True, True, True, True, Tru...</td>\n",
       "    </tr>\n",
       "    <tr>\n",
       "      <th>17</th>\n",
       "      <td>20230617_115521_standard_comp_to_omission_D1_s...</td>\n",
       "      <td>1.1</td>\n",
       "      <td>[['1.1', '1.2'], ['1.1', '1.2'], ['1.1', '1.2'...</td>\n",
       "      <td>[1, 1, 1, 1, 1, 1, 1, 1, 1, 1, 1, 1, 1, 1, 1, ...</td>\n",
       "      <td>20230617_115521_standard_comp_to_omission_D1_s...</td>\n",
       "      <td>[]</td>\n",
       "      <td>[]</td>\n",
       "      <td>[]</td>\n",
       "      <td>[1.2, 1.1, 1.1, 1.2, 1.1, 1.1, 1.1, 1.1, 1.1, ...</td>\n",
       "      <td>[competitive, competitive, competitive, no_com...</td>\n",
       "      <td>...</td>\n",
       "      <td>[[[nan, nan], [nan, nan], [nan, nan], [nan, na...</td>\n",
       "      <td>NaN</td>\n",
       "      <td>[nan, nan, nan, nan, nan, nan, nan, nan, nan, ...</td>\n",
       "      <td>NaN</td>\n",
       "      <td>[nan, nan, nan, nan, nan, nan, nan, nan, nan, ...</td>\n",
       "      <td>NaN</td>\n",
       "      <td>1.1</td>\n",
       "      <td>(40999, 79049)</td>\n",
       "      <td>(41576085, 79698585)</td>\n",
       "      <td>[False, False, False, False, False, False, Fal...</td>\n",
       "    </tr>\n",
       "    <tr>\n",
       "      <th>18</th>\n",
       "      <td>20230617_115521_standard_comp_to_omission_D1_s...</td>\n",
       "      <td>1.1</td>\n",
       "      <td>[['1.1', '1.2'], ['1.1', '1.2'], ['1.1', '1.2'...</td>\n",
       "      <td>[1, 1, 1, 1, 1, 1, 1, 1, 1, 1, 1, 1, 1, 1, 1, ...</td>\n",
       "      <td>20230617_115521_standard_comp_to_omission_D1_s...</td>\n",
       "      <td>[1029, 3425, 5721, 7517, 8615, 9613, 11510, 13...</td>\n",
       "      <td>[1129, 3525, 5821, 7617, 8715, 9713, 11610, 13...</td>\n",
       "      <td>[1229, 3624, 5920, 7717, 8815, 9812, 11709, 13...</td>\n",
       "      <td>[1.2, 1.1, 1.1, 1.2, 1.1, 1.1, 1.1, 1.1, 1.1, ...</td>\n",
       "      <td>[competitive, competitive, competitive, no_com...</td>\n",
       "      <td>...</td>\n",
       "      <td>[[[57.86163468579171, 31.554562356382696], [59...</td>\n",
       "      <td>[[[40.039741738777444, 9.47029992556593], [42....</td>\n",
       "      <td>[8.96, 8.195, 7.54, 7.004, 6.605, 6.348, 6.227...</td>\n",
       "      <td>[11.19, 10.55, 9.92, 9.31, 8.734, 8.18, 7.64, ...</td>\n",
       "      <td>[11.19, 11.234, 11.73, 12.34, 12.56, 13.58, 13...</td>\n",
       "      <td>[25.6, 25.84, 25.86, 25.86, 25.86, 25.86, 25.8...</td>\n",
       "      <td>1.1_1.2</td>\n",
       "      <td>(0, 39499)</td>\n",
       "      <td>(-2, 39573504)</td>\n",
       "      <td>[True, True, True, True, True, True, True, Tru...</td>\n",
       "    </tr>\n",
       "    <tr>\n",
       "      <th>19</th>\n",
       "      <td>20230617_115521_standard_comp_to_omission_D1_s...</td>\n",
       "      <td>1.2</td>\n",
       "      <td>[['1.1', '1.2'], ['1.1', '1.2'], ['1.1', '1.2'...</td>\n",
       "      <td>[1, 1, 1, 1, 1, 1, 1, 1, 1, 1, 1, 1, 1, 1, 1, ...</td>\n",
       "      <td>20230617_115521_standard_comp_to_omission_D1_s...</td>\n",
       "      <td>[1029, 3425, 5721, 7517, 8615, 9613, 11510, 13...</td>\n",
       "      <td>[1129, 3525, 5821, 7617, 8715, 9713, 11610, 13...</td>\n",
       "      <td>[1229, 3624, 5920, 7717, 8815, 9812, 11709, 13...</td>\n",
       "      <td>[1.2, 1.1, 1.1, 1.2, 1.1, 1.1, 1.1, 1.1, 1.1, ...</td>\n",
       "      <td>[competitive, competitive, competitive, no_com...</td>\n",
       "      <td>...</td>\n",
       "      <td>[[[40.039741738777444, 9.47029992556593], [42....</td>\n",
       "      <td>[[[57.86163468579171, 31.554562356382696], [59...</td>\n",
       "      <td>[11.19, 10.55, 9.92, 9.31, 8.734, 8.18, 7.64, ...</td>\n",
       "      <td>[8.96, 8.195, 7.54, 7.004, 6.605, 6.348, 6.227...</td>\n",
       "      <td>[25.6, 25.84, 25.86, 25.86, 25.86, 25.86, 25.8...</td>\n",
       "      <td>[11.19, 11.234, 11.73, 12.34, 12.56, 13.58, 13...</td>\n",
       "      <td>1.1_1.2</td>\n",
       "      <td>(0, 39499)</td>\n",
       "      <td>(-2, 39573504)</td>\n",
       "      <td>[True, True, True, True, True, True, True, Tru...</td>\n",
       "    </tr>\n",
       "    <tr>\n",
       "      <th>20</th>\n",
       "      <td>20230618_100636_standard_comp_to_omission_D2_s...</td>\n",
       "      <td>1.1</td>\n",
       "      <td>[['1.1', '1.4'], ['1.1', '1.4'], ['1.1', '1.4'...</td>\n",
       "      <td>[1, 1, 1, 1, 1, 1, 1, 1, 1, 1, 1, 1, 1, 1, 1, ...</td>\n",
       "      <td>20230618_100636_standard_comp_to_omission_D2_s...</td>\n",
       "      <td>[1098, 3492, 5788, 7585, 8684, 9681, 11577, 13...</td>\n",
       "      <td>[1198, 3592, 5888, 7685, 8784, 9781, 11677, 13...</td>\n",
       "      <td>[1297, 3693, 5988, 7784, 8883, 9880, 11777, 13...</td>\n",
       "      <td>[1.4, 1.1, 1.1, 1.4, 1.1, 1.4, 1.4, 1.4, 1.1, ...</td>\n",
       "      <td>[no_comp, no_comp, no_comp, no_comp, no_comp, ...</td>\n",
       "      <td>...</td>\n",
       "      <td>[[[46.838967596646405, 35.8797798363605], [44....</td>\n",
       "      <td>[[[31.37122566669405, 31.1085619584881], [33.5...</td>\n",
       "      <td>[1.143, 1.143, 1.142, 1.139, 1.135, 1.129, 1.1...</td>\n",
       "      <td>[0.6333, 0.5635, 0.4963, 0.4321, 0.3713, 0.313...</td>\n",
       "      <td>[5.727, 5.91, 5.93, 5.965, 5.99, 5.992, 6.355,...</td>\n",
       "      <td>[13.75, 14.18, 13.734, 13.74, 13.76, 13.84, 13...</td>\n",
       "      <td>1.1_1.4</td>\n",
       "      <td>(0, 32315)</td>\n",
       "      <td>(-2, 32376683)</td>\n",
       "      <td>[True, True, True, True, True, True, True, Tru...</td>\n",
       "    </tr>\n",
       "    <tr>\n",
       "      <th>21</th>\n",
       "      <td>20230618_100636_standard_comp_to_omission_D2_s...</td>\n",
       "      <td>1.4</td>\n",
       "      <td>[['1.1', '1.4'], ['1.1', '1.4'], ['1.1', '1.4'...</td>\n",
       "      <td>[1, 1, 1, 1, 1, 1, 1, 1, 1, 1, 1, 1, 1, 1, 1, ...</td>\n",
       "      <td>20230618_100636_standard_comp_to_omission_D2_s...</td>\n",
       "      <td>[37059, 38257, 39355, 40653, 41751, 42749, 437...</td>\n",
       "      <td>[37159, 38357, 39455, 40753, 41851, 42849, 438...</td>\n",
       "      <td>[37259, 38457, 39555, 40852, 41951, 42948, 439...</td>\n",
       "      <td>[1.4, 1.1, 1.1, 1.4, 1.1, 1.4, 1.4, 1.4, 1.1, ...</td>\n",
       "      <td>[no_comp, no_comp, no_comp, no_comp, no_comp, ...</td>\n",
       "      <td>...</td>\n",
       "      <td>[[[nan, nan], [nan, nan], [nan, nan], [nan, na...</td>\n",
       "      <td>NaN</td>\n",
       "      <td>[nan, nan, nan, nan, nan, nan, nan, nan, nan, ...</td>\n",
       "      <td>NaN</td>\n",
       "      <td>[nan, nan, nan, nan, nan, nan, nan, nan, nan, ...</td>\n",
       "      <td>NaN</td>\n",
       "      <td>1.4</td>\n",
       "      <td>(32791, 68493)</td>\n",
       "      <td>(32822933, 68592226)</td>\n",
       "      <td>[False, False, False, False, False, False, Fal...</td>\n",
       "    </tr>\n",
       "    <tr>\n",
       "      <th>22</th>\n",
       "      <td>20230618_100636_standard_comp_to_omission_D2_s...</td>\n",
       "      <td>1.4</td>\n",
       "      <td>[['1.1', '1.4'], ['1.1', '1.4'], ['1.1', '1.4'...</td>\n",
       "      <td>[1, 1, 1, 1, 1, 1, 1, 1, 1, 1, 1, 1, 1, 1, 1, ...</td>\n",
       "      <td>20230618_100636_standard_comp_to_omission_D2_s...</td>\n",
       "      <td>[1098, 3492, 5788, 7585, 8684, 9681, 11577, 13...</td>\n",
       "      <td>[1198, 3592, 5888, 7685, 8784, 9781, 11677, 13...</td>\n",
       "      <td>[1297, 3693, 5988, 7784, 8883, 9880, 11777, 13...</td>\n",
       "      <td>[1.4, 1.1, 1.1, 1.4, 1.1, 1.4, 1.4, 1.4, 1.1, ...</td>\n",
       "      <td>[no_comp, no_comp, no_comp, no_comp, no_comp, ...</td>\n",
       "      <td>...</td>\n",
       "      <td>[[[31.37122566669405, 31.1085619584881], [33.5...</td>\n",
       "      <td>[[[46.838967596646405, 35.8797798363605], [44....</td>\n",
       "      <td>[0.6333, 0.5635, 0.4963, 0.4321, 0.3713, 0.313...</td>\n",
       "      <td>[1.143, 1.143, 1.142, 1.139, 1.135, 1.129, 1.1...</td>\n",
       "      <td>[13.75, 14.18, 13.734, 13.74, 13.76, 13.84, 13...</td>\n",
       "      <td>[5.727, 5.91, 5.93, 5.965, 5.99, 5.992, 6.355,...</td>\n",
       "      <td>1.1_1.4</td>\n",
       "      <td>(0, 32315)</td>\n",
       "      <td>(-2, 32376683)</td>\n",
       "      <td>[True, True, True, True, True, True, True, Tru...</td>\n",
       "    </tr>\n",
       "    <tr>\n",
       "      <th>23</th>\n",
       "      <td>20230618_100636_standard_comp_to_omission_D2_s...</td>\n",
       "      <td>1.1</td>\n",
       "      <td>[['1.1'], ['1.1'], ['1.1'], ['1.1'], ['1.1'], ...</td>\n",
       "      <td>[2, 2, 2, 2, 2, 2, 2, 2, 2, 2, 2, 2, 2, 2, 2, ...</td>\n",
       "      <td>20230618_100636_standard_comp_to_omission_D2_s...</td>\n",
       "      <td>[37029, 38227, 39325, 40623, 41721, 42719, 437...</td>\n",
       "      <td>[37129, 38327, 39425, 40723, 41821, 42819, 438...</td>\n",
       "      <td>[37229, 38426, 39525, 40822, 41921, 42918, 439...</td>\n",
       "      <td>[rewarded, rewarded, rewarded, rewarded, rewar...</td>\n",
       "      <td>[nan, nan, nan, nan, nan, nan, nan, nan, nan, ...</td>\n",
       "      <td>...</td>\n",
       "      <td>[[[nan, nan], [nan, nan], [nan, nan], [nan, na...</td>\n",
       "      <td>NaN</td>\n",
       "      <td>[nan, nan, nan, nan, nan, nan, nan, nan, nan, ...</td>\n",
       "      <td>NaN</td>\n",
       "      <td>[nan, nan, nan, nan, nan, nan, nan, nan, nan, ...</td>\n",
       "      <td>NaN</td>\n",
       "      <td>1.1</td>\n",
       "      <td>(32791, 68493)</td>\n",
       "      <td>(32853422, 68593612)</td>\n",
       "      <td>[True, True, True, True, True, True, True, Tru...</td>\n",
       "    </tr>\n",
       "    <tr>\n",
       "      <th>24</th>\n",
       "      <td>20230620_114347_standard_comp_to_omission_D4_s...</td>\n",
       "      <td>1.1</td>\n",
       "      <td>[['1.1', '1.2'], ['1.1', '1.2'], ['1.1', '1.2'...</td>\n",
       "      <td>[1, 1, 1, 1, 1, 1, 1, 1, 1, 1, 1, 1, 1, 1, 1, ...</td>\n",
       "      <td>20230620_114347_standard_comp_to_omission_D4_s...</td>\n",
       "      <td>[5756, 7553, 8650, 9649, 11545, 13042, 15139, ...</td>\n",
       "      <td>[5856, 7653, 8750, 9749, 11645, 13142, 15239, ...</td>\n",
       "      <td>[5955, 7752, 8851, 9848, 11745, 13243, 15338, ...</td>\n",
       "      <td>[1.2, 1.1, 1.1, 1.1, 1.1, 1.2, 1.1, 1.1, 1.2, ...</td>\n",
       "      <td>[competitive, no_comp, competitive, no_comp, n...</td>\n",
       "      <td>...</td>\n",
       "      <td>[[[nan, nan], [nan, nan], [nan, nan], [nan, na...</td>\n",
       "      <td>[[[nan, nan], [nan, nan], [nan, nan], [nan, na...</td>\n",
       "      <td>[nan, nan, nan, nan, nan, nan, nan, nan, nan, ...</td>\n",
       "      <td>[nan, nan, nan, nan, nan, nan, nan, nan, nan, ...</td>\n",
       "      <td>[nan, nan, nan, nan, nan, nan, nan, nan, nan, ...</td>\n",
       "      <td>[nan, nan, nan, nan, nan, nan, nan, nan, nan, ...</td>\n",
       "      <td>1.1_1.2</td>\n",
       "      <td>(2026, 32238)</td>\n",
       "      <td>(2020596, 32289373)</td>\n",
       "      <td>[True, True, True, True, True, True, True, Tru...</td>\n",
       "    </tr>\n",
       "    <tr>\n",
       "      <th>25</th>\n",
       "      <td>20230620_114347_standard_comp_to_omission_D4_s...</td>\n",
       "      <td>1.2</td>\n",
       "      <td>[['1.1', '1.2'], ['1.1', '1.2'], ['1.1', '1.2'...</td>\n",
       "      <td>[1, 1, 1, 1, 1, 1, 1, 1, 1, 1, 1, 1, 1, 1, 1, ...</td>\n",
       "      <td>20230620_114347_standard_comp_to_omission_D4_s...</td>\n",
       "      <td>[37040, 38238, 39336, 40634, 41732, 42730, 437...</td>\n",
       "      <td>[37140, 38338, 39436, 40734, 41832, 42830, 438...</td>\n",
       "      <td>[37240, 38437, 39536, 40833, 41932, 42929, 439...</td>\n",
       "      <td>[1.2, 1.1, 1.1, 1.1, 1.1, 1.2, 1.1, 1.1, 1.2, ...</td>\n",
       "      <td>[competitive, no_comp, competitive, no_comp, n...</td>\n",
       "      <td>...</td>\n",
       "      <td>[[[nan, nan], [nan, nan], [nan, nan], [nan, na...</td>\n",
       "      <td>NaN</td>\n",
       "      <td>[nan, nan, nan, nan, nan, nan, nan, nan, nan, ...</td>\n",
       "      <td>NaN</td>\n",
       "      <td>[nan, nan, nan, nan, nan, nan, nan, nan, nan, ...</td>\n",
       "      <td>NaN</td>\n",
       "      <td>1.2</td>\n",
       "      <td>(32859, 68286)</td>\n",
       "      <td>(32868666, 68362172)</td>\n",
       "      <td>[False, False, False, False, False, False, Fal...</td>\n",
       "    </tr>\n",
       "    <tr>\n",
       "      <th>26</th>\n",
       "      <td>20230620_114347_standard_comp_to_omission_D4_s...</td>\n",
       "      <td>1.2</td>\n",
       "      <td>[['1.1', '1.2'], ['1.1', '1.2'], ['1.1', '1.2'...</td>\n",
       "      <td>[1, 1, 1, 1, 1, 1, 1, 1, 1, 1, 1, 1, 1, 1, 1, ...</td>\n",
       "      <td>20230620_114347_standard_comp_to_omission_D4_s...</td>\n",
       "      <td>[5756, 7553, 8650, 9649, 11545, 13042, 15139, ...</td>\n",
       "      <td>[5856, 7653, 8750, 9749, 11645, 13142, 15239, ...</td>\n",
       "      <td>[5955, 7752, 8851, 9848, 11745, 13243, 15338, ...</td>\n",
       "      <td>[1.2, 1.1, 1.1, 1.1, 1.1, 1.2, 1.1, 1.1, 1.2, ...</td>\n",
       "      <td>[competitive, no_comp, competitive, no_comp, n...</td>\n",
       "      <td>...</td>\n",
       "      <td>[[[nan, nan], [nan, nan], [nan, nan], [nan, na...</td>\n",
       "      <td>[[[nan, nan], [nan, nan], [nan, nan], [nan, na...</td>\n",
       "      <td>[nan, nan, nan, nan, nan, nan, nan, nan, nan, ...</td>\n",
       "      <td>[nan, nan, nan, nan, nan, nan, nan, nan, nan, ...</td>\n",
       "      <td>[nan, nan, nan, nan, nan, nan, nan, nan, nan, ...</td>\n",
       "      <td>[nan, nan, nan, nan, nan, nan, nan, nan, nan, ...</td>\n",
       "      <td>1.1_1.2</td>\n",
       "      <td>(2026, 32238)</td>\n",
       "      <td>(2020596, 32289373)</td>\n",
       "      <td>[True, True, True, True, True, True, True, Tru...</td>\n",
       "    </tr>\n",
       "    <tr>\n",
       "      <th>27</th>\n",
       "      <td>20230620_114347_standard_comp_to_omission_D4_s...</td>\n",
       "      <td>1.1</td>\n",
       "      <td>[['1.1'], ['1.1'], ['1.1'], ['1.1'], ['1.1'], ...</td>\n",
       "      <td>[2, 2, 2, 2, 2, 2, 2, 2, 2, 2, 2, 2, 2, 2, 2, ...</td>\n",
       "      <td>20230620_114347_standard_comp_to_omission_D4_s...</td>\n",
       "      <td>[36988, 38185, 39284, 40581, 41679, 42677, 436...</td>\n",
       "      <td>[37088, 38285, 39384, 40681, 41779, 42777, 437...</td>\n",
       "      <td>[37186, 38385, 39483, 40780, 41879, 42876, 438...</td>\n",
       "      <td>[rewarded, rewarded, omission, rewarded, rewar...</td>\n",
       "      <td>[nan, nan, nan, nan, nan, nan, nan, nan, nan, ...</td>\n",
       "      <td>...</td>\n",
       "      <td>[[[nan, nan], [nan, nan], [nan, nan], [nan, na...</td>\n",
       "      <td>NaN</td>\n",
       "      <td>[nan, nan, nan, nan, nan, nan, nan, nan, nan, ...</td>\n",
       "      <td>NaN</td>\n",
       "      <td>[nan, nan, nan, nan, nan, nan, nan, nan, nan, ...</td>\n",
       "      <td>NaN</td>\n",
       "      <td>1.1</td>\n",
       "      <td>(32859, 68286)</td>\n",
       "      <td>(32921329, 68364944)</td>\n",
       "      <td>[True, True, True, True, True, True, True, Tru...</td>\n",
       "    </tr>\n",
       "    <tr>\n",
       "      <th>28</th>\n",
       "      <td>20230621_111240_standard_comp_to_omission_D5_s...</td>\n",
       "      <td>1.4</td>\n",
       "      <td>[['1.2', '1.4'], ['1.2', '1.4'], ['1.2', '1.4'...</td>\n",
       "      <td>[1, 1, 1, 1, 1, 1, 1, 1, 1, 1, 1, 1, 1, 1, 1, ...</td>\n",
       "      <td>20230621_111240_standard_comp_to_omission_D5_s...</td>\n",
       "      <td>[38502, 39698, 40797, 42094, 43192, 44191, 451...</td>\n",
       "      <td>[38602, 39798, 40897, 42194, 43292, 44291, 452...</td>\n",
       "      <td>[38701, 39899, 40997, 42295, 43392, 44390, 453...</td>\n",
       "      <td>[1.4, 1.2, 1.2, 1.2, 1.2, 1.2, 1.2, 1.2, 1.2, ...</td>\n",
       "      <td>[no_comp, competitive, competitive, no_comp, n...</td>\n",
       "      <td>...</td>\n",
       "      <td>[[[nan, nan], [nan, nan], [nan, nan], [nan, na...</td>\n",
       "      <td>NaN</td>\n",
       "      <td>[nan, nan, nan, nan, nan, nan, nan, nan, nan, ...</td>\n",
       "      <td>NaN</td>\n",
       "      <td>[nan, nan, nan, nan, nan, nan, nan, nan, nan, ...</td>\n",
       "      <td>NaN</td>\n",
       "      <td>1.4</td>\n",
       "      <td>(34999, 69765)</td>\n",
       "      <td>(34980732, 69811791)</td>\n",
       "      <td>[False, False, False, False, False, False, Fal...</td>\n",
       "    </tr>\n",
       "    <tr>\n",
       "      <th>29</th>\n",
       "      <td>20230621_111240_standard_comp_to_omission_D5_s...</td>\n",
       "      <td>1.4</td>\n",
       "      <td>[['1.2', '1.4'], ['1.2', '1.4'], ['1.2', '1.4'...</td>\n",
       "      <td>[1, 1, 1, 1, 1, 1, 1, 1, 1, 1, 1, 1, 1, 1, 1, ...</td>\n",
       "      <td>20230621_111240_standard_comp_to_omission_D5_s...</td>\n",
       "      <td>[2484, 4880, 7175, 8972, 10070, 11067, 12964, ...</td>\n",
       "      <td>[2584, 4980, 7275, 9072, 10170, 11167, 13064, ...</td>\n",
       "      <td>[2683, 5079, 7375, 9171, 10269, 11268, 13164, ...</td>\n",
       "      <td>[1.4, 1.2, 1.2, 1.2, 1.2, 1.2, 1.2, 1.2, 1.2, ...</td>\n",
       "      <td>[no_comp, competitive, competitive, no_comp, n...</td>\n",
       "      <td>...</td>\n",
       "      <td>[[[51.20982713678983, 36.08500565938255], [49....</td>\n",
       "      <td>[[[50.00780259607343, 23.677419128184464], [46...</td>\n",
       "      <td>[14.375, 13.25, 12.14, 11.055, 10.0, 8.96, 7.9...</td>\n",
       "      <td>[18.1, 17.16, 16.25, 15.37, 14.5, 13.664, 12.8...</td>\n",
       "      <td>[8.65, 8.64, 8.62, 8.61, 8.61, 8.586, 8.586, 8...</td>\n",
       "      <td>[16.38, 16.02, 16.06, 16.05, 15.84, 16.02, 15....</td>\n",
       "      <td>1.2_1.4</td>\n",
       "      <td>(0, 33499)</td>\n",
       "      <td>(-2, 33561601)</td>\n",
       "      <td>[True, True, True, True, True, True, True, Tru...</td>\n",
       "    </tr>\n",
       "    <tr>\n",
       "      <th>30</th>\n",
       "      <td>20230622_110832_standard_comp_to_both_rewarded...</td>\n",
       "      <td>1.1</td>\n",
       "      <td>[['1.1', '1.2'], ['1.1', '1.2'], ['1.1', '1.2'...</td>\n",
       "      <td>[1, 1, 1, 1, 1, 1, 1, 1, 1, 1, 1, 1, 1, 1, 1, ...</td>\n",
       "      <td>20230622_110832_standard_comp_to_both_rewarded...</td>\n",
       "      <td>[1129, 3525, 5820, 7617, 8715, 9712, 11609, 13...</td>\n",
       "      <td>[1229, 3625, 5920, 7717, 8815, 9812, 11709, 13...</td>\n",
       "      <td>[1328, 3724, 6019, 7816, 8914, 9913, 11810, 13...</td>\n",
       "      <td>[1.2, 1.2, 1.2, 1.2, 1.2, 1.2, 1.2, 1.2, 1.2, ...</td>\n",
       "      <td>[no_comp, no_comp, no_comp, no_comp, no_comp, ...</td>\n",
       "      <td>...</td>\n",
       "      <td>[[[49.30325877112916, 12.106327759157248], [46...</td>\n",
       "      <td>[[[49.86951465768765, 36.26227164075119], [48....</td>\n",
       "      <td>[1.223, 1.149, 1.078, 1.009, 0.9404, 0.8745, 0...</td>\n",
       "      <td>[1.475, 1.4375, 1.4, 1.365, 1.329, 1.295, 1.26...</td>\n",
       "      <td>[27.81, 27.81, 27.81, 27.81, 27.81, 27.55, 27....</td>\n",
       "      <td>[8.75, 8.75, 8.766, 8.77, 8.77, 8.76, 8.76, 8....</td>\n",
       "      <td>1.1_1.2</td>\n",
       "      <td>(0, 73110)</td>\n",
       "      <td>(-2, 72055515)</td>\n",
       "      <td>[True, True, True, True, True, True, True, Tru...</td>\n",
       "    </tr>\n",
       "    <tr>\n",
       "      <th>31</th>\n",
       "      <td>20230622_110832_standard_comp_to_both_rewarded...</td>\n",
       "      <td>1.2</td>\n",
       "      <td>[['1.1', '1.2'], ['1.1', '1.2'], ['1.1', '1.2'...</td>\n",
       "      <td>[1, 1, 1, 1, 1, 1, 1, 1, 1, 1, 1, 1, 1, 1, 1, ...</td>\n",
       "      <td>20230622_110832_standard_comp_to_both_rewarded...</td>\n",
       "      <td>[1129, 3525, 5820, 7617, 8715, 9712, 11609, 13...</td>\n",
       "      <td>[1229, 3625, 5920, 7717, 8815, 9812, 11709, 13...</td>\n",
       "      <td>[1328, 3724, 6019, 7816, 8914, 9913, 11810, 13...</td>\n",
       "      <td>[1.2, 1.2, 1.2, 1.2, 1.2, 1.2, 1.2, 1.2, 1.2, ...</td>\n",
       "      <td>[no_comp, no_comp, no_comp, no_comp, no_comp, ...</td>\n",
       "      <td>...</td>\n",
       "      <td>[[[49.86951465768765, 36.26227164075119], [48....</td>\n",
       "      <td>[[[49.30325877112916, 12.106327759157248], [46...</td>\n",
       "      <td>[1.475, 1.4375, 1.4, 1.365, 1.329, 1.295, 1.26...</td>\n",
       "      <td>[1.223, 1.149, 1.078, 1.009, 0.9404, 0.8745, 0...</td>\n",
       "      <td>[8.75, 8.75, 8.766, 8.77, 8.77, 8.76, 8.76, 8....</td>\n",
       "      <td>[27.81, 27.81, 27.81, 27.81, 27.81, 27.55, 27....</td>\n",
       "      <td>1.1_1.2</td>\n",
       "      <td>(0, 73110)</td>\n",
       "      <td>(-2, 72055515)</td>\n",
       "      <td>[True, True, True, True, True, True, True, Tru...</td>\n",
       "    </tr>\n",
       "    <tr>\n",
       "      <th>32</th>\n",
       "      <td>20230624_105855_standard_comp_to_both_rewarded...</td>\n",
       "      <td>1.4</td>\n",
       "      <td>[['1.2', '1.4'], ['1.2', '1.4'], ['1.2', '1.4'...</td>\n",
       "      <td>[1, 1, 1, 1, 1, 1, 1, 1, 1, 1, 1, 1, 1, 1, 1, ...</td>\n",
       "      <td>20230624_105855_standard_comp_to_both_rewarded...</td>\n",
       "      <td>[1119, 3515, 5810, 7607, 8705, 9704, 11600, 13...</td>\n",
       "      <td>[1219, 3615, 5910, 7707, 8805, 9804, 11700, 13...</td>\n",
       "      <td>[1318, 3714, 6010, 7807, 8904, 9903, 11799, 13...</td>\n",
       "      <td>[1.2, 1.2, 1.2, 1.2, 1.2, 1.2, 1.2, 1.2, 1.2, ...</td>\n",
       "      <td>[competitive, competitive, competitive, compet...</td>\n",
       "      <td>...</td>\n",
       "      <td>[[[41.49962956242298, 34.66054090481836], [39....</td>\n",
       "      <td>[[[57.60015859503929, 32.17353337550727], [61....</td>\n",
       "      <td>[0.3293, 0.2578, 0.2019, 0.1715, 0.1749, 0.206...</td>\n",
       "      <td>[0.6987, 0.6255, 0.5557, 0.489, 0.4265, 0.3682...</td>\n",
       "      <td>[8.34, 8.35, 8.35, 8.36, 8.37, 8.36, 8.37, 8.3...</td>\n",
       "      <td>[13.76, 13.75, 13.75, 13.734, 13.695, 13.7, 13...</td>\n",
       "      <td>1.2_1.4</td>\n",
       "      <td>(0, 72634)</td>\n",
       "      <td>(1384, 71765868)</td>\n",
       "      <td>[True, True, True, True, True, True, True, Tru...</td>\n",
       "    </tr>\n",
       "    <tr>\n",
       "      <th>33</th>\n",
       "      <td>20230625_112913_standard_comp_to_both_rewarded...</td>\n",
       "      <td>1.1</td>\n",
       "      <td>[['1.1', '1.4'], ['1.1', '1.4'], ['1.1', '1.4'...</td>\n",
       "      <td>[1, 1, 1, 1, 1, 1, 1, 1, 1, 1, 1, 1, 1, 1, 1, ...</td>\n",
       "      <td>20230625_112913_standard_comp_to_both_rewarded...</td>\n",
       "      <td>[1101, 3496, 5792, 7588, 8687, 9684, 11581, 13...</td>\n",
       "      <td>[1201, 3596, 5892, 7688, 8787, 9784, 11681, 13...</td>\n",
       "      <td>[1300, 3696, 5991, 7788, 8886, 9883, 11780, 13...</td>\n",
       "      <td>[1.4, 1.1, 1.1, 1.1, 1.1, 1.1, 1.1, 1.1, 1.1, ...</td>\n",
       "      <td>[no_comp, no_comp, competitive, competitive, n...</td>\n",
       "      <td>...</td>\n",
       "      <td>[[[37.6951428017248, 22.820695912511706], [34....</td>\n",
       "      <td>[[[45.31415004982611, 34.09743172764716], [42....</td>\n",
       "      <td>[17.33, 16.6, 15.89, 15.2, 14.53, 13.875, 13.2...</td>\n",
       "      <td>[7.785, 7.074, 6.39, 5.723, 5.08, 4.453, 3.852...</td>\n",
       "      <td>[19.56, 19.03, 18.73, 18.66, 18.08, 17.73, 17....</td>\n",
       "      <td>[6.176, 5.875, 5.875, 6.17, 6.184, 6.27, 6.27,...</td>\n",
       "      <td>1.1_1.4</td>\n",
       "      <td>(0, 73291)</td>\n",
       "      <td>(1384, 72424156)</td>\n",
       "      <td>[True, True, True, True, True, True, True, Tru...</td>\n",
       "    </tr>\n",
       "    <tr>\n",
       "      <th>34</th>\n",
       "      <td>20230625_112913_standard_comp_to_both_rewarded...</td>\n",
       "      <td>1.4</td>\n",
       "      <td>[['1.1', '1.4'], ['1.1', '1.4'], ['1.1', '1.4'...</td>\n",
       "      <td>[1, 1, 1, 1, 1, 1, 1, 1, 1, 1, 1, 1, 1, 1, 1, ...</td>\n",
       "      <td>20230625_112913_standard_comp_to_both_rewarded...</td>\n",
       "      <td>[1101, 3496, 5792, 7588, 8687, 9684, 11581, 13...</td>\n",
       "      <td>[1201, 3596, 5892, 7688, 8787, 9784, 11681, 13...</td>\n",
       "      <td>[1300, 3696, 5991, 7788, 8886, 9883, 11780, 13...</td>\n",
       "      <td>[1.4, 1.1, 1.1, 1.1, 1.1, 1.1, 1.1, 1.1, 1.1, ...</td>\n",
       "      <td>[no_comp, no_comp, competitive, competitive, n...</td>\n",
       "      <td>...</td>\n",
       "      <td>[[[45.31415004982611, 34.09743172764716], [42....</td>\n",
       "      <td>[[[37.6951428017248, 22.820695912511706], [34....</td>\n",
       "      <td>[7.785, 7.074, 6.39, 5.723, 5.08, 4.453, 3.852...</td>\n",
       "      <td>[17.33, 16.6, 15.89, 15.2, 14.53, 13.875, 13.2...</td>\n",
       "      <td>[6.176, 5.875, 5.875, 6.17, 6.184, 6.27, 6.27,...</td>\n",
       "      <td>[19.56, 19.03, 18.73, 18.66, 18.08, 17.73, 17....</td>\n",
       "      <td>1.1_1.4</td>\n",
       "      <td>(0, 73291)</td>\n",
       "      <td>(1384, 72424156)</td>\n",
       "      <td>[True, True, True, True, True, True, True, Tru...</td>\n",
       "    </tr>\n",
       "    <tr>\n",
       "      <th>35</th>\n",
       "      <td>20230628_111202_standard_comp_to_novel_agent_D...</td>\n",
       "      <td>1.1</td>\n",
       "      <td>[['1.1', '1.2'], ['1.1', '1.2'], ['1.1', '1.2'...</td>\n",
       "      <td>[1, 1, 1, 1, 1, 1, 1, 1, 1, 1, 1, 1, 1, 1, 1, ...</td>\n",
       "      <td>20230628_111202_standard_comp_to_novel_agent_D...</td>\n",
       "      <td>[3392, 5689, 7484, 8582, 9581, 11477, 12974, 1...</td>\n",
       "      <td>[3492, 5789, 7584, 8682, 9681, 11577, 13074, 1...</td>\n",
       "      <td>[3591, 5888, 7685, 8783, 9780, 11677, 13174, 1...</td>\n",
       "      <td>[1.2, 1.1, 1.2, 1.1, 1.1, 1.2, 1.2, 1.1, 1.2, ...</td>\n",
       "      <td>[competitive, competitive, competitive, compet...</td>\n",
       "      <td>...</td>\n",
       "      <td>[[[47.00376214824721, 36.56246553562987], [44....</td>\n",
       "      <td>[[[47.06290318700189, 36.25684849676541], [45....</td>\n",
       "      <td>[26.3, 24.88, 23.5, 22.14, 20.83, 19.55, 18.31...</td>\n",
       "      <td>[9.64, 9.07, 8.51, 7.96, 7.43, 6.91, 6.406, 5....</td>\n",
       "      <td>[28.38, 28.38, 28.38, 28.38, 28.38, 28.38, 28....</td>\n",
       "      <td>[5.203, 5.227, 5.227, 5.21, 5.215, 5.215, 5.21...</td>\n",
       "      <td>1.1_1.2</td>\n",
       "      <td>(0, 31499)</td>\n",
       "      <td>(-2, 31668504)</td>\n",
       "      <td>[True, True, True, True, True, True, True, Tru...</td>\n",
       "    </tr>\n",
       "    <tr>\n",
       "      <th>36</th>\n",
       "      <td>20230628_111202_standard_comp_to_novel_agent_D...</td>\n",
       "      <td>1.1</td>\n",
       "      <td>[['1.1', '1.2'], ['1.1', '1.2'], ['1.1', '1.2'...</td>\n",
       "      <td>[1, 1, 1, 1, 1, 1, 1, 1, 1, 1, 1, 1, 1, 1, 1, ...</td>\n",
       "      <td>20230628_111202_standard_comp_to_novel_agent_D...</td>\n",
       "      <td>[38308, 39506, 40605, 41902, 42999, 43998, 449...</td>\n",
       "      <td>[38408, 39606, 40705, 42002, 43099, 44098, 450...</td>\n",
       "      <td>[38508, 39705, 40804, 42101, 43199, 44197, 451...</td>\n",
       "      <td>[1.2, 1.1, 1.2, 1.1, 1.1, 1.2, 1.2, 1.1, 1.2, ...</td>\n",
       "      <td>[competitive, competitive, competitive, compet...</td>\n",
       "      <td>...</td>\n",
       "      <td>[[[nan, nan], [nan, nan], [nan, nan], [nan, na...</td>\n",
       "      <td>[[[nan, nan], [nan, nan], [nan, nan], [nan, na...</td>\n",
       "      <td>[nan, nan, nan, nan, nan, nan, nan, nan, nan, ...</td>\n",
       "      <td>[nan, nan, nan, nan, nan, nan, nan, nan, nan, ...</td>\n",
       "      <td>[nan, nan, nan, nan, nan, nan, nan, nan, nan, ...</td>\n",
       "      <td>[nan, nan, nan, nan, nan, nan, nan, nan, nan, ...</td>\n",
       "      <td>1.1_2.2</td>\n",
       "      <td>(37499, 69198)</td>\n",
       "      <td>(36298694, 68192851)</td>\n",
       "      <td>[False, False, False, False, False, False, Fal...</td>\n",
       "    </tr>\n",
       "    <tr>\n",
       "      <th>37</th>\n",
       "      <td>20230628_111202_standard_comp_to_novel_agent_D...</td>\n",
       "      <td>1.2</td>\n",
       "      <td>[['1.1', '1.2'], ['1.1', '1.2'], ['1.1', '1.2'...</td>\n",
       "      <td>[1, 1, 1, 1, 1, 1, 1, 1, 1, 1, 1, 1, 1, 1, 1, ...</td>\n",
       "      <td>20230628_111202_standard_comp_to_novel_agent_D...</td>\n",
       "      <td>[3392, 5689, 7484, 8582, 9581, 11477, 12974, 1...</td>\n",
       "      <td>[3492, 5789, 7584, 8682, 9681, 11577, 13074, 1...</td>\n",
       "      <td>[3591, 5888, 7685, 8783, 9780, 11677, 13174, 1...</td>\n",
       "      <td>[1.2, 1.1, 1.2, 1.1, 1.1, 1.2, 1.2, 1.1, 1.2, ...</td>\n",
       "      <td>[competitive, competitive, competitive, compet...</td>\n",
       "      <td>...</td>\n",
       "      <td>[[[47.06290318700189, 36.25684849676541], [45....</td>\n",
       "      <td>[[[47.00376214824721, 36.56246553562987], [44....</td>\n",
       "      <td>[9.64, 9.07, 8.51, 7.96, 7.43, 6.91, 6.406, 5....</td>\n",
       "      <td>[26.3, 24.88, 23.5, 22.14, 20.83, 19.55, 18.31...</td>\n",
       "      <td>[5.203, 5.227, 5.227, 5.21, 5.215, 5.215, 5.21...</td>\n",
       "      <td>[28.38, 28.38, 28.38, 28.38, 28.38, 28.38, 28....</td>\n",
       "      <td>1.1_1.2</td>\n",
       "      <td>(0, 31499)</td>\n",
       "      <td>(-2, 31668504)</td>\n",
       "      <td>[True, True, True, True, True, True, True, Tru...</td>\n",
       "    </tr>\n",
       "    <tr>\n",
       "      <th>38</th>\n",
       "      <td>20230629_111937_standard_comp_to_novel_agent_D...</td>\n",
       "      <td>1.1</td>\n",
       "      <td>[['1.1', '1.4'], ['1.1', '1.4'], ['1.1', '1.4'...</td>\n",
       "      <td>[1, 1, 1, 1, 1, 1, 1, 1, 1, 1, 1, 1, 1, 1, 1, ...</td>\n",
       "      <td>20230629_111937_standard_comp_to_novel_agent_D...</td>\n",
       "      <td>[1118, 3513, 5810, 7606, 8703, 9702, 11598, 13...</td>\n",
       "      <td>[1218, 3613, 5910, 7706, 8803, 9802, 11698, 13...</td>\n",
       "      <td>[1318, 3712, 6009, 7806, 8904, 9901, 11797, 13...</td>\n",
       "      <td>[1.1, 1.1, 1.1, 1.1, 1.1, 1.1, 1.1, 1.1, 1.1, ...</td>\n",
       "      <td>[no_comp, competitive, competitive, competitiv...</td>\n",
       "      <td>...</td>\n",
       "      <td>[[[30.805656447380777, 12.473634287026043], [3...</td>\n",
       "      <td>[[[32.32989410112327, 28.619521974627094], [35...</td>\n",
       "      <td>[1.368, 1.2705, 1.176, 1.083, 0.994, 0.907, 0....</td>\n",
       "      <td>[20.92, 20.12, 19.33, 18.56, 17.81, 17.08, 16....</td>\n",
       "      <td>[28.42, 28.44, 28.44, 28.45, 28.36, 28.38, 28....</td>\n",
       "      <td>[18.64, 18.84, 18.53, 18.48, 18.25, 17.44, 17....</td>\n",
       "      <td>1.1_1.4</td>\n",
       "      <td>(0, 31499)</td>\n",
       "      <td>(-2, 31559020)</td>\n",
       "      <td>[True, True, True, True, True, True, True, Tru...</td>\n",
       "    </tr>\n",
       "    <tr>\n",
       "      <th>39</th>\n",
       "      <td>20230629_111937_standard_comp_to_novel_agent_D...</td>\n",
       "      <td>1.1</td>\n",
       "      <td>[['1.1', '1.4'], ['1.1', '1.4'], ['1.1', '1.4'...</td>\n",
       "      <td>[1, 1, 1, 1, 1, 1, 1, 1, 1, 1, 1, 1, 1, 1, 1, ...</td>\n",
       "      <td>20230629_111937_standard_comp_to_novel_agent_D...</td>\n",
       "      <td>[38621, 39819, 40917, 42215, 43312, 44310, 453...</td>\n",
       "      <td>[38721, 39919, 41017, 42315, 43412, 44410, 454...</td>\n",
       "      <td>[38820, 40018, 41116, 42414, 43512, 44510, 455...</td>\n",
       "      <td>[1.1, 1.1, 1.1, 1.1, 1.1, 1.1, 1.1, 1.1, 1.1, ...</td>\n",
       "      <td>[no_comp, competitive, competitive, competitiv...</td>\n",
       "      <td>...</td>\n",
       "      <td>[[[nan, nan], [nan, nan], [nan, nan], [nan, na...</td>\n",
       "      <td>[[[nan, nan], [nan, nan], [nan, nan], [nan, na...</td>\n",
       "      <td>[nan, nan, nan, nan, nan, nan, nan, nan, nan, ...</td>\n",
       "      <td>[nan, nan, nan, nan, nan, nan, nan, nan, nan, ...</td>\n",
       "      <td>[nan, nan, nan, nan, nan, nan, nan, nan, nan, ...</td>\n",
       "      <td>[nan, nan, nan, nan, nan, nan, nan, nan, nan, ...</td>\n",
       "      <td>1.1_2.1</td>\n",
       "      <td>(37999, 69883)</td>\n",
       "      <td>(36496873, 68439781)</td>\n",
       "      <td>[False, False, False, False, False, False, Fal...</td>\n",
       "    </tr>\n",
       "    <tr>\n",
       "      <th>40</th>\n",
       "      <td>20230629_111937_standard_comp_to_novel_agent_D...</td>\n",
       "      <td>1.4</td>\n",
       "      <td>[['1.1', '1.4'], ['1.1', '1.4'], ['1.1', '1.4'...</td>\n",
       "      <td>[1, 1, 1, 1, 1, 1, 1, 1, 1, 1, 1, 1, 1, 1, 1, ...</td>\n",
       "      <td>20230629_111937_standard_comp_to_novel_agent_D...</td>\n",
       "      <td>[1118, 3513, 5810, 7606, 8703, 9702, 11598, 13...</td>\n",
       "      <td>[1218, 3613, 5910, 7706, 8803, 9802, 11698, 13...</td>\n",
       "      <td>[1318, 3712, 6009, 7806, 8904, 9901, 11797, 13...</td>\n",
       "      <td>[1.1, 1.1, 1.1, 1.1, 1.1, 1.1, 1.1, 1.1, 1.1, ...</td>\n",
       "      <td>[no_comp, competitive, competitive, competitiv...</td>\n",
       "      <td>...</td>\n",
       "      <td>[[[32.32989410112327, 28.619521974627094], [35...</td>\n",
       "      <td>[[[30.805656447380777, 12.473634287026043], [3...</td>\n",
       "      <td>[20.92, 20.12, 19.33, 18.56, 17.81, 17.08, 16....</td>\n",
       "      <td>[1.368, 1.2705, 1.176, 1.083, 0.994, 0.907, 0....</td>\n",
       "      <td>[18.64, 18.84, 18.53, 18.48, 18.25, 17.44, 17....</td>\n",
       "      <td>[28.42, 28.44, 28.44, 28.45, 28.36, 28.38, 28....</td>\n",
       "      <td>1.1_1.4</td>\n",
       "      <td>(0, 31499)</td>\n",
       "      <td>(-2, 31559020)</td>\n",
       "      <td>[True, True, True, True, True, True, True, Tru...</td>\n",
       "    </tr>\n",
       "    <tr>\n",
       "      <th>41</th>\n",
       "      <td>20230629_111937_standard_comp_to_novel_agent_D...</td>\n",
       "      <td>1.4</td>\n",
       "      <td>[['1.4', '2.2'], ['1.4', '2.2'], ['1.4', '2.2'...</td>\n",
       "      <td>[2, 2, 2, 2, 2, 2, 2, 2, 2, 2, 2, 2, 2, 2, 2, ...</td>\n",
       "      <td>20230629_111937_standard_comp_to_novel_agent_D...</td>\n",
       "      <td>[38541, 39739, 40837, 42135, 43232, 44231, 452...</td>\n",
       "      <td>[38641, 39839, 40937, 42235, 43332, 44331, 453...</td>\n",
       "      <td>[38741, 39938, 41037, 42334, 43433, 44430, 454...</td>\n",
       "      <td>[1.4, 1.4, 1.4, 2.2, 2.2, 1.4, 2.2, 1.4, 2.2, ...</td>\n",
       "      <td>[no_comp, no_comp, no_comp, competitive, compe...</td>\n",
       "      <td>...</td>\n",
       "      <td>[[[nan, nan], [nan, nan], [nan, nan], [nan, na...</td>\n",
       "      <td>[[[nan, nan], [nan, nan], [nan, nan], [nan, na...</td>\n",
       "      <td>[nan, nan, nan, nan, nan, nan, nan, nan, nan, ...</td>\n",
       "      <td>[nan, nan, nan, nan, nan, nan, nan, nan, nan, ...</td>\n",
       "      <td>[nan, nan, nan, nan, nan, nan, nan, nan, nan, ...</td>\n",
       "      <td>[nan, nan, nan, nan, nan, nan, nan, nan, nan, ...</td>\n",
       "      <td>1.4_2.2</td>\n",
       "      <td>(37499, 69802)</td>\n",
       "      <td>(36075569, 68439781)</td>\n",
       "      <td>[True, True, True, True, True, True, True, Tru...</td>\n",
       "    </tr>\n",
       "    <tr>\n",
       "      <th>42</th>\n",
       "      <td>20230630_115506_standard_comp_to_novel_agent_D...</td>\n",
       "      <td>1.2</td>\n",
       "      <td>[['1.2', '1.4'], ['1.2', '1.4'], ['1.2', '1.4'...</td>\n",
       "      <td>[1, 1, 1, 1, 1, 1, 1, 1, 1, 1, 1, 1, 1, 1, 1, ...</td>\n",
       "      <td>20230630_115506_standard_comp_to_novel_agent_D...</td>\n",
       "      <td>[1071, 3466, 5762, 7559, 8657, 9655, 11551, 13...</td>\n",
       "      <td>[1171, 3566, 5862, 7659, 8757, 9755, 11651, 13...</td>\n",
       "      <td>[1271, 3666, 5961, 7758, 8856, 9854, 11750, 13...</td>\n",
       "      <td>[1.4, 1.4, 1.4, 1.2, 1.2, 1.4, 1.2, 1.2, 1.2, ...</td>\n",
       "      <td>[no_comp, no_comp, no_comp, competitive, compe...</td>\n",
       "      <td>...</td>\n",
       "      <td>[[[51.24529586403214, 36.88518187464025], [49....</td>\n",
       "      <td>[[[42.40523742457364, 29.11403633803355], [40....</td>\n",
       "      <td>[3.418, 3.2, 2.992, 2.793, 2.607, 2.432, 2.268...</td>\n",
       "      <td>[10.63, 10.22, 9.81, 9.41, 9.01, 8.61, 8.22, 7...</td>\n",
       "      <td>[9.38, 9.39, 9.375, 9.375, 9.38, 9.33, 9.35, 9...</td>\n",
       "      <td>[12.266, 11.88, 11.09, 10.77, 10.2, 9.61, 9.07...</td>\n",
       "      <td>1.2_1.4</td>\n",
       "      <td>(0, 32199)</td>\n",
       "      <td>(-2, 32260270)</td>\n",
       "      <td>[True, True, True, True, True, True, True, Tru...</td>\n",
       "    </tr>\n",
       "    <tr>\n",
       "      <th>43</th>\n",
       "      <td>20230630_115506_standard_comp_to_novel_agent_D...</td>\n",
       "      <td>1.4</td>\n",
       "      <td>[['1.2', '1.4'], ['1.2', '1.4'], ['1.2', '1.4'...</td>\n",
       "      <td>[1, 1, 1, 1, 1, 1, 1, 1, 1, 1, 1, 1, 1, 1, 1, ...</td>\n",
       "      <td>20230630_115506_standard_comp_to_novel_agent_D...</td>\n",
       "      <td>[1071, 3466, 5762, 7559, 8657, 9655, 11551, 13...</td>\n",
       "      <td>[1171, 3566, 5862, 7659, 8757, 9755, 11651, 13...</td>\n",
       "      <td>[1271, 3666, 5961, 7758, 8856, 9854, 11750, 13...</td>\n",
       "      <td>[1.4, 1.4, 1.4, 1.2, 1.2, 1.4, 1.2, 1.2, 1.2, ...</td>\n",
       "      <td>[no_comp, no_comp, no_comp, competitive, compe...</td>\n",
       "      <td>...</td>\n",
       "      <td>[[[42.40523742457364, 29.11403633803355], [40....</td>\n",
       "      <td>[[[51.24529586403214, 36.88518187464025], [49....</td>\n",
       "      <td>[10.63, 10.22, 9.81, 9.41, 9.01, 8.61, 8.22, 7...</td>\n",
       "      <td>[3.418, 3.2, 2.992, 2.793, 2.607, 2.432, 2.268...</td>\n",
       "      <td>[12.266, 11.88, 11.09, 10.77, 10.2, 9.61, 9.07...</td>\n",
       "      <td>[9.38, 9.39, 9.375, 9.375, 9.38, 9.33, 9.35, 9...</td>\n",
       "      <td>1.2_1.4</td>\n",
       "      <td>(0, 32199)</td>\n",
       "      <td>(-3, 32260269)</td>\n",
       "      <td>[True, True, True, True, True, True, True, Tru...</td>\n",
       "    </tr>\n",
       "    <tr>\n",
       "      <th>44</th>\n",
       "      <td>20230630_115506_standard_comp_to_novel_agent_D...</td>\n",
       "      <td>1.4</td>\n",
       "      <td>[['1.2', '1.4'], ['1.2', '1.4'], ['1.2', '1.4'...</td>\n",
       "      <td>[1, 1, 1, 1, 1, 1, 1, 1, 1, 1, 1, 1, 1, 1, 1, ...</td>\n",
       "      <td>20230630_115506_standard_comp_to_novel_agent_D...</td>\n",
       "      <td>[38516, 39714, 40812, 42110, 43208, 44205, 452...</td>\n",
       "      <td>[38616, 39814, 40912, 42210, 43308, 44305, 453...</td>\n",
       "      <td>[38716, 39914, 41011, 42309, 43407, 44406, 454...</td>\n",
       "      <td>[1.4, 1.4, 1.4, 1.2, 1.2, 1.4, 1.2, 1.2, 1.2, ...</td>\n",
       "      <td>[no_comp, no_comp, no_comp, competitive, compe...</td>\n",
       "      <td>...</td>\n",
       "      <td>[[[nan, nan], [nan, nan], [nan, nan], [nan, na...</td>\n",
       "      <td>[[[nan, nan], [nan, nan], [nan, nan], [nan, na...</td>\n",
       "      <td>[nan, nan, nan, nan, nan, nan, nan, nan, nan, ...</td>\n",
       "      <td>[nan, nan, nan, nan, nan, nan, nan, nan, nan, ...</td>\n",
       "      <td>[nan, nan, nan, nan, nan, nan, nan, nan, nan, ...</td>\n",
       "      <td>[nan, nan, nan, nan, nan, nan, nan, nan, nan, ...</td>\n",
       "      <td>1.4_2.1</td>\n",
       "      <td>(37999, 69949)</td>\n",
       "      <td>(36555078, 68565894)</td>\n",
       "      <td>[False, False, False, False, False, False, Fal...</td>\n",
       "    </tr>\n",
       "    <tr>\n",
       "      <th>45</th>\n",
       "      <td>20230630_115506_standard_comp_to_novel_agent_D...</td>\n",
       "      <td>1.2</td>\n",
       "      <td>[['1.2', '2.2'], ['1.2', '2.2'], ['1.2', '2.2'...</td>\n",
       "      <td>[2, 2, 2, 2, 2, 2, 2, 2, 2, 2, 2, 2, 2, 2, 2, ...</td>\n",
       "      <td>20230630_115506_standard_comp_to_novel_agent_D...</td>\n",
       "      <td>[37157, 38355, 39454, 40751, 41849, 42847, 438...</td>\n",
       "      <td>[37257, 38455, 39554, 40851, 41949, 42947, 439...</td>\n",
       "      <td>[37358, 38556, 39653, 40950, 42049, 43047, 440...</td>\n",
       "      <td>[2.2, 2.2, 2.2, 2.2, 2.2, 2.2, 2.2, 2.2, 2.2, ...</td>\n",
       "      <td>[no_comp, no_comp, no_comp, no_comp, no_comp, ...</td>\n",
       "      <td>...</td>\n",
       "      <td>[[[nan, nan], [nan, nan], [nan, nan], [nan, na...</td>\n",
       "      <td>[[[nan, nan], [nan, nan], [nan, nan], [nan, na...</td>\n",
       "      <td>[nan, nan, nan, nan, nan, nan, nan, nan, nan, ...</td>\n",
       "      <td>[nan, nan, nan, nan, nan, nan, nan, nan, nan, ...</td>\n",
       "      <td>[nan, nan, nan, nan, nan, nan, nan, nan, nan, ...</td>\n",
       "      <td>[nan, nan, nan, nan, nan, nan, nan, nan, nan, ...</td>\n",
       "      <td>1.2_2.2</td>\n",
       "      <td>(36499, 68591)</td>\n",
       "      <td>(36413721, 68565895)</td>\n",
       "      <td>[True, True, True, True, True, True, True, Tru...</td>\n",
       "    </tr>\n",
       "  </tbody>\n",
       "</table>\n",
       "<p>46 rows × 180 columns</p>\n",
       "</div>"
      ],
      "text/plain": [
       "                                           video_name current_subject  \\\n",
       "0   20230612_112630_standard_comp_to_training_D1_s...             1.1   \n",
       "1   20230612_112630_standard_comp_to_training_D1_s...             1.2   \n",
       "2   20230612_112630_standard_comp_to_training_D1_s...             1.2   \n",
       "3   20230612_112630_standard_comp_to_training_D1_s...             1.1   \n",
       "4   20230613_105657_standard_comp_to_training_D2_s...             1.1   \n",
       "5   20230613_105657_standard_comp_to_training_D2_s...             1.1   \n",
       "6   20230613_105657_standard_comp_to_training_D2_s...             1.4   \n",
       "7   20230613_105657_standard_comp_to_training_D2_s...             1.4   \n",
       "8   20230614_114041_standard_comp_to_training_D3_s...             1.1   \n",
       "9   20230614_114041_standard_comp_to_training_D3_s...             1.1   \n",
       "10  20230614_114041_standard_comp_to_training_D3_s...             1.2   \n",
       "11  20230614_114041_standard_comp_to_training_D3_s...             1.2   \n",
       "12  20230614_114041_standard_comp_to_training_D3_s...             1.1   \n",
       "13  20230616_111904_standard_comp_to_training_D4_s...             1.2   \n",
       "14  20230616_111904_standard_comp_to_training_D4_s...             1.4   \n",
       "15  20230616_111904_standard_comp_to_training_D4_s...             1.4   \n",
       "16  20230616_111904_standard_comp_to_training_D4_s...             1.2   \n",
       "17  20230617_115521_standard_comp_to_omission_D1_s...             1.1   \n",
       "18  20230617_115521_standard_comp_to_omission_D1_s...             1.1   \n",
       "19  20230617_115521_standard_comp_to_omission_D1_s...             1.2   \n",
       "20  20230618_100636_standard_comp_to_omission_D2_s...             1.1   \n",
       "21  20230618_100636_standard_comp_to_omission_D2_s...             1.4   \n",
       "22  20230618_100636_standard_comp_to_omission_D2_s...             1.4   \n",
       "23  20230618_100636_standard_comp_to_omission_D2_s...             1.1   \n",
       "24  20230620_114347_standard_comp_to_omission_D4_s...             1.1   \n",
       "25  20230620_114347_standard_comp_to_omission_D4_s...             1.2   \n",
       "26  20230620_114347_standard_comp_to_omission_D4_s...             1.2   \n",
       "27  20230620_114347_standard_comp_to_omission_D4_s...             1.1   \n",
       "28  20230621_111240_standard_comp_to_omission_D5_s...             1.4   \n",
       "29  20230621_111240_standard_comp_to_omission_D5_s...             1.4   \n",
       "30  20230622_110832_standard_comp_to_both_rewarded...             1.1   \n",
       "31  20230622_110832_standard_comp_to_both_rewarded...             1.2   \n",
       "32  20230624_105855_standard_comp_to_both_rewarded...             1.4   \n",
       "33  20230625_112913_standard_comp_to_both_rewarded...             1.1   \n",
       "34  20230625_112913_standard_comp_to_both_rewarded...             1.4   \n",
       "35  20230628_111202_standard_comp_to_novel_agent_D...             1.1   \n",
       "36  20230628_111202_standard_comp_to_novel_agent_D...             1.1   \n",
       "37  20230628_111202_standard_comp_to_novel_agent_D...             1.2   \n",
       "38  20230629_111937_standard_comp_to_novel_agent_D...             1.1   \n",
       "39  20230629_111937_standard_comp_to_novel_agent_D...             1.1   \n",
       "40  20230629_111937_standard_comp_to_novel_agent_D...             1.4   \n",
       "41  20230629_111937_standard_comp_to_novel_agent_D...             1.4   \n",
       "42  20230630_115506_standard_comp_to_novel_agent_D...             1.2   \n",
       "43  20230630_115506_standard_comp_to_novel_agent_D...             1.4   \n",
       "44  20230630_115506_standard_comp_to_novel_agent_D...             1.4   \n",
       "45  20230630_115506_standard_comp_to_novel_agent_D...             1.2   \n",
       "\n",
       "                                      tracked_subject  \\\n",
       "0   [['1.1', '1.2'], ['1.1', '1.2'], ['1.1', '1.2'...   \n",
       "1   [['1.1', '1.2'], ['1.1', '1.2'], ['1.1', '1.2'...   \n",
       "2   [['1.1', '1.2'], ['1.1', '1.2'], ['1.1', '1.2'...   \n",
       "3   [['1.1'], ['1.1'], ['1.1'], ['1.1'], ['1.1'], ...   \n",
       "4   [['1.1', '1.4'], ['1.1', '1.4'], ['1.1', '1.4'...   \n",
       "5   [['1.1', '1.4'], ['1.1', '1.4'], ['1.1', '1.4'...   \n",
       "6   [['1.1', '1.4'], ['1.1', '1.4'], ['1.1', '1.4'...   \n",
       "7   [['1.4'], ['1.4'], ['1.4'], ['1.4'], ['1.4'], ...   \n",
       "8   [['1.1', '1.2'], ['1.1', '1.2'], ['1.1', '1.2'...   \n",
       "9   [['1.1', '1.2'], ['1.1', '1.2'], ['1.1', '1.2'...   \n",
       "10  [['1.1', '1.2'], ['1.1', '1.2'], ['1.1', '1.2'...   \n",
       "11  [['1.2'], ['1.2'], ['1.2'], ['1.2'], ['1.2'], ...   \n",
       "12  [['1.1'], ['1.1'], ['1.1'], ['1.1'], ['1.1'], ...   \n",
       "13  [['1.2', '1.4'], ['1.2', '1.4'], ['1.2', '1.4'...   \n",
       "14  [['1.2', '1.4'], ['1.2', '1.4'], ['1.2', '1.4'...   \n",
       "15  [['1.2', '1.4'], ['1.2', '1.4'], ['1.2', '1.4'...   \n",
       "16  [['1.2'], ['1.2'], ['1.2'], ['1.2'], ['1.2'], ...   \n",
       "17  [['1.1', '1.2'], ['1.1', '1.2'], ['1.1', '1.2'...   \n",
       "18  [['1.1', '1.2'], ['1.1', '1.2'], ['1.1', '1.2'...   \n",
       "19  [['1.1', '1.2'], ['1.1', '1.2'], ['1.1', '1.2'...   \n",
       "20  [['1.1', '1.4'], ['1.1', '1.4'], ['1.1', '1.4'...   \n",
       "21  [['1.1', '1.4'], ['1.1', '1.4'], ['1.1', '1.4'...   \n",
       "22  [['1.1', '1.4'], ['1.1', '1.4'], ['1.1', '1.4'...   \n",
       "23  [['1.1'], ['1.1'], ['1.1'], ['1.1'], ['1.1'], ...   \n",
       "24  [['1.1', '1.2'], ['1.1', '1.2'], ['1.1', '1.2'...   \n",
       "25  [['1.1', '1.2'], ['1.1', '1.2'], ['1.1', '1.2'...   \n",
       "26  [['1.1', '1.2'], ['1.1', '1.2'], ['1.1', '1.2'...   \n",
       "27  [['1.1'], ['1.1'], ['1.1'], ['1.1'], ['1.1'], ...   \n",
       "28  [['1.2', '1.4'], ['1.2', '1.4'], ['1.2', '1.4'...   \n",
       "29  [['1.2', '1.4'], ['1.2', '1.4'], ['1.2', '1.4'...   \n",
       "30  [['1.1', '1.2'], ['1.1', '1.2'], ['1.1', '1.2'...   \n",
       "31  [['1.1', '1.2'], ['1.1', '1.2'], ['1.1', '1.2'...   \n",
       "32  [['1.2', '1.4'], ['1.2', '1.4'], ['1.2', '1.4'...   \n",
       "33  [['1.1', '1.4'], ['1.1', '1.4'], ['1.1', '1.4'...   \n",
       "34  [['1.1', '1.4'], ['1.1', '1.4'], ['1.1', '1.4'...   \n",
       "35  [['1.1', '1.2'], ['1.1', '1.2'], ['1.1', '1.2'...   \n",
       "36  [['1.1', '1.2'], ['1.1', '1.2'], ['1.1', '1.2'...   \n",
       "37  [['1.1', '1.2'], ['1.1', '1.2'], ['1.1', '1.2'...   \n",
       "38  [['1.1', '1.4'], ['1.1', '1.4'], ['1.1', '1.4'...   \n",
       "39  [['1.1', '1.4'], ['1.1', '1.4'], ['1.1', '1.4'...   \n",
       "40  [['1.1', '1.4'], ['1.1', '1.4'], ['1.1', '1.4'...   \n",
       "41  [['1.4', '2.2'], ['1.4', '2.2'], ['1.4', '2.2'...   \n",
       "42  [['1.2', '1.4'], ['1.2', '1.4'], ['1.2', '1.4'...   \n",
       "43  [['1.2', '1.4'], ['1.2', '1.4'], ['1.2', '1.4'...   \n",
       "44  [['1.2', '1.4'], ['1.2', '1.4'], ['1.2', '1.4'...   \n",
       "45  [['1.2', '2.2'], ['1.2', '2.2'], ['1.2', '2.2'...   \n",
       "\n",
       "                                           box_number  \\\n",
       "0   [1, 1, 1, 1, 1, 1, 1, 1, 1, 1, 1, 1, 1, 1, 1, ...   \n",
       "1   [1, 1, 1, 1, 1, 1, 1, 1, 1, 1, 1, 1, 1, 1, 1, ...   \n",
       "2   [1, 1, 1, 1, 1, 1, 1, 1, 1, 1, 1, 1, 1, 1, 1, ...   \n",
       "3   [2, 2, 2, 2, 2, 2, 2, 2, 2, 2, 2, 2, 2, 2, 2, ...   \n",
       "4   [1, 1, 1, 1, 1, 1, 1, 1, 1, 1, 1, 1, 1, 1, 1, ...   \n",
       "5   [1, 1, 1, 1, 1, 1, 1, 1, 1, 1, 1, 1, 1, 1, 1, ...   \n",
       "6   [1, 1, 1, 1, 1, 1, 1, 1, 1, 1, 1, 1, 1, 1, 1, ...   \n",
       "7   [2, 2, 2, 2, 2, 2, 2, 2, 2, 2, 2, 2, 2, 2, 2, ...   \n",
       "8   [1, 1, 1, 1, 1, 1, 1, 1, 1, 1, 1, 1, 1, 1, 1, ...   \n",
       "9   [1, 1, 1, 1, 1, 1, 1, 1, 1, 1, 1, 1, 1, 1, 1, ...   \n",
       "10  [1, 1, 1, 1, 1, 1, 1, 1, 1, 1, 1, 1, 1, 1, 1, ...   \n",
       "11  [2, 2, 2, 2, 2, 2, 2, 2, 2, 2, 2, 2, 2, 2, 2, ...   \n",
       "12               [1, 1, 1, 1, 1, 1, 1, 1, 1, 1, 1, 1]   \n",
       "13  [1, 1, 1, 1, 1, 1, 1, 1, 1, 1, 1, 1, 1, 1, 1, ...   \n",
       "14  [1, 1, 1, 1, 1, 1, 1, 1, 1, 1, 1, 1, 1, 1, 1, ...   \n",
       "15  [1, 1, 1, 1, 1, 1, 1, 1, 1, 1, 1, 1, 1, 1, 1, ...   \n",
       "16  [2, 2, 2, 2, 2, 2, 2, 2, 2, 2, 2, 2, 2, 2, 2, ...   \n",
       "17  [1, 1, 1, 1, 1, 1, 1, 1, 1, 1, 1, 1, 1, 1, 1, ...   \n",
       "18  [1, 1, 1, 1, 1, 1, 1, 1, 1, 1, 1, 1, 1, 1, 1, ...   \n",
       "19  [1, 1, 1, 1, 1, 1, 1, 1, 1, 1, 1, 1, 1, 1, 1, ...   \n",
       "20  [1, 1, 1, 1, 1, 1, 1, 1, 1, 1, 1, 1, 1, 1, 1, ...   \n",
       "21  [1, 1, 1, 1, 1, 1, 1, 1, 1, 1, 1, 1, 1, 1, 1, ...   \n",
       "22  [1, 1, 1, 1, 1, 1, 1, 1, 1, 1, 1, 1, 1, 1, 1, ...   \n",
       "23  [2, 2, 2, 2, 2, 2, 2, 2, 2, 2, 2, 2, 2, 2, 2, ...   \n",
       "24  [1, 1, 1, 1, 1, 1, 1, 1, 1, 1, 1, 1, 1, 1, 1, ...   \n",
       "25  [1, 1, 1, 1, 1, 1, 1, 1, 1, 1, 1, 1, 1, 1, 1, ...   \n",
       "26  [1, 1, 1, 1, 1, 1, 1, 1, 1, 1, 1, 1, 1, 1, 1, ...   \n",
       "27  [2, 2, 2, 2, 2, 2, 2, 2, 2, 2, 2, 2, 2, 2, 2, ...   \n",
       "28  [1, 1, 1, 1, 1, 1, 1, 1, 1, 1, 1, 1, 1, 1, 1, ...   \n",
       "29  [1, 1, 1, 1, 1, 1, 1, 1, 1, 1, 1, 1, 1, 1, 1, ...   \n",
       "30  [1, 1, 1, 1, 1, 1, 1, 1, 1, 1, 1, 1, 1, 1, 1, ...   \n",
       "31  [1, 1, 1, 1, 1, 1, 1, 1, 1, 1, 1, 1, 1, 1, 1, ...   \n",
       "32  [1, 1, 1, 1, 1, 1, 1, 1, 1, 1, 1, 1, 1, 1, 1, ...   \n",
       "33  [1, 1, 1, 1, 1, 1, 1, 1, 1, 1, 1, 1, 1, 1, 1, ...   \n",
       "34  [1, 1, 1, 1, 1, 1, 1, 1, 1, 1, 1, 1, 1, 1, 1, ...   \n",
       "35  [1, 1, 1, 1, 1, 1, 1, 1, 1, 1, 1, 1, 1, 1, 1, ...   \n",
       "36  [1, 1, 1, 1, 1, 1, 1, 1, 1, 1, 1, 1, 1, 1, 1, ...   \n",
       "37  [1, 1, 1, 1, 1, 1, 1, 1, 1, 1, 1, 1, 1, 1, 1, ...   \n",
       "38  [1, 1, 1, 1, 1, 1, 1, 1, 1, 1, 1, 1, 1, 1, 1, ...   \n",
       "39  [1, 1, 1, 1, 1, 1, 1, 1, 1, 1, 1, 1, 1, 1, 1, ...   \n",
       "40  [1, 1, 1, 1, 1, 1, 1, 1, 1, 1, 1, 1, 1, 1, 1, ...   \n",
       "41  [2, 2, 2, 2, 2, 2, 2, 2, 2, 2, 2, 2, 2, 2, 2, ...   \n",
       "42  [1, 1, 1, 1, 1, 1, 1, 1, 1, 1, 1, 1, 1, 1, 1, ...   \n",
       "43  [1, 1, 1, 1, 1, 1, 1, 1, 1, 1, 1, 1, 1, 1, 1, ...   \n",
       "44  [1, 1, 1, 1, 1, 1, 1, 1, 1, 1, 1, 1, 1, 1, 1, ...   \n",
       "45  [2, 2, 2, 2, 2, 2, 2, 2, 2, 2, 2, 2, 2, 2, 2, ...   \n",
       "\n",
       "                                           sleap_name  \\\n",
       "0   20230612_112630_standard_comp_to_training_D1_s...   \n",
       "1   20230612_112630_standard_comp_to_training_D1_s...   \n",
       "2   20230612_112630_standard_comp_to_training_D1_s...   \n",
       "3   20230612_112630_standard_comp_to_training_D1_s...   \n",
       "4   20230613_105657_standard_comp_to_training_D2_s...   \n",
       "5   20230613_105657_standard_comp_to_training_D2_s...   \n",
       "6   20230613_105657_standard_comp_to_training_D2_s...   \n",
       "7   20230613_105657_standard_comp_to_training_D2_s...   \n",
       "8   20230614_114041_standard_comp_to_training_D3_s...   \n",
       "9   20230614_114041_standard_comp_to_training_D3_s...   \n",
       "10  20230614_114041_standard_comp_to_training_D3_s...   \n",
       "11  20230614_114041_standard_comp_to_training_D3_s...   \n",
       "12  20230614_114041_standard_comp_to_training_D3_s...   \n",
       "13  20230616_111904_standard_comp_to_training_D4_s...   \n",
       "14  20230616_111904_standard_comp_to_training_D4_s...   \n",
       "15  20230616_111904_standard_comp_to_training_D4_s...   \n",
       "16  20230616_111904_standard_comp_to_training_D4_s...   \n",
       "17  20230617_115521_standard_comp_to_omission_D1_s...   \n",
       "18  20230617_115521_standard_comp_to_omission_D1_s...   \n",
       "19  20230617_115521_standard_comp_to_omission_D1_s...   \n",
       "20  20230618_100636_standard_comp_to_omission_D2_s...   \n",
       "21  20230618_100636_standard_comp_to_omission_D2_s...   \n",
       "22  20230618_100636_standard_comp_to_omission_D2_s...   \n",
       "23  20230618_100636_standard_comp_to_omission_D2_s...   \n",
       "24  20230620_114347_standard_comp_to_omission_D4_s...   \n",
       "25  20230620_114347_standard_comp_to_omission_D4_s...   \n",
       "26  20230620_114347_standard_comp_to_omission_D4_s...   \n",
       "27  20230620_114347_standard_comp_to_omission_D4_s...   \n",
       "28  20230621_111240_standard_comp_to_omission_D5_s...   \n",
       "29  20230621_111240_standard_comp_to_omission_D5_s...   \n",
       "30  20230622_110832_standard_comp_to_both_rewarded...   \n",
       "31  20230622_110832_standard_comp_to_both_rewarded...   \n",
       "32  20230624_105855_standard_comp_to_both_rewarded...   \n",
       "33  20230625_112913_standard_comp_to_both_rewarded...   \n",
       "34  20230625_112913_standard_comp_to_both_rewarded...   \n",
       "35  20230628_111202_standard_comp_to_novel_agent_D...   \n",
       "36  20230628_111202_standard_comp_to_novel_agent_D...   \n",
       "37  20230628_111202_standard_comp_to_novel_agent_D...   \n",
       "38  20230629_111937_standard_comp_to_novel_agent_D...   \n",
       "39  20230629_111937_standard_comp_to_novel_agent_D...   \n",
       "40  20230629_111937_standard_comp_to_novel_agent_D...   \n",
       "41  20230629_111937_standard_comp_to_novel_agent_D...   \n",
       "42  20230630_115506_standard_comp_to_novel_agent_D...   \n",
       "43  20230630_115506_standard_comp_to_novel_agent_D...   \n",
       "44  20230630_115506_standard_comp_to_novel_agent_D...   \n",
       "45  20230630_115506_standard_comp_to_novel_agent_D...   \n",
       "\n",
       "                                     tone_start_frame  \\\n",
       "0   [1125, 3519, 5815, 7612, 8709, 9708, 11604, 13...   \n",
       "1   [37101, 38299, 39397, 40695, 41792, 42790, 437...   \n",
       "2   [1125, 3519, 5815, 7612, 8709, 9708, 11604, 13...   \n",
       "3   [37056, 38254, 39352, 40650, 41747, 42746, 437...   \n",
       "4   [36889, 38087, 39185, 40482, 41579, 42578, 435...   \n",
       "5   [916, 3312, 5608, 7405, 8502, 9501, 11397, 128...   \n",
       "6   [916, 3312, 5608, 7405, 8502, 9501, 11397, 128...   \n",
       "7   [36849, 38047, 39145, 40443, 41540, 42538, 435...   \n",
       "8   [36875, 38073, 39171, 40468, 41567, 42564, 43563]   \n",
       "9   [855, 3251, 5546, 7343, 8441, 9439, 11335, 128...   \n",
       "10  [855, 3251, 5546, 7343, 8441, 9439, 11335, 128...   \n",
       "11  [44920, 46118, 47217, 48514, 49613, 50610, 516...   \n",
       "12  [1197, 3593, 5989, 8184, 9881, 12277, 13473, 1...   \n",
       "13  [87, 2483, 4778, 6575, 7673, 8671, 10567, 1206...   \n",
       "14  [36035, 37233, 38331, 39629, 40727, 41725, 427...   \n",
       "15  [87, 2483, 4778, 6575, 7673, 8671, 10567, 1206...   \n",
       "16  [41509, 42607, 43905, 45003, 46000, 46999, 490...   \n",
       "17                                                 []   \n",
       "18  [1029, 3425, 5721, 7517, 8615, 9613, 11510, 13...   \n",
       "19  [1029, 3425, 5721, 7517, 8615, 9613, 11510, 13...   \n",
       "20  [1098, 3492, 5788, 7585, 8684, 9681, 11577, 13...   \n",
       "21  [37059, 38257, 39355, 40653, 41751, 42749, 437...   \n",
       "22  [1098, 3492, 5788, 7585, 8684, 9681, 11577, 13...   \n",
       "23  [37029, 38227, 39325, 40623, 41721, 42719, 437...   \n",
       "24  [5756, 7553, 8650, 9649, 11545, 13042, 15139, ...   \n",
       "25  [37040, 38238, 39336, 40634, 41732, 42730, 437...   \n",
       "26  [5756, 7553, 8650, 9649, 11545, 13042, 15139, ...   \n",
       "27  [36988, 38185, 39284, 40581, 41679, 42677, 436...   \n",
       "28  [38502, 39698, 40797, 42094, 43192, 44191, 451...   \n",
       "29  [2484, 4880, 7175, 8972, 10070, 11067, 12964, ...   \n",
       "30  [1129, 3525, 5820, 7617, 8715, 9712, 11609, 13...   \n",
       "31  [1129, 3525, 5820, 7617, 8715, 9712, 11609, 13...   \n",
       "32  [1119, 3515, 5810, 7607, 8705, 9704, 11600, 13...   \n",
       "33  [1101, 3496, 5792, 7588, 8687, 9684, 11581, 13...   \n",
       "34  [1101, 3496, 5792, 7588, 8687, 9684, 11581, 13...   \n",
       "35  [3392, 5689, 7484, 8582, 9581, 11477, 12974, 1...   \n",
       "36  [38308, 39506, 40605, 41902, 42999, 43998, 449...   \n",
       "37  [3392, 5689, 7484, 8582, 9581, 11477, 12974, 1...   \n",
       "38  [1118, 3513, 5810, 7606, 8703, 9702, 11598, 13...   \n",
       "39  [38621, 39819, 40917, 42215, 43312, 44310, 453...   \n",
       "40  [1118, 3513, 5810, 7606, 8703, 9702, 11598, 13...   \n",
       "41  [38541, 39739, 40837, 42135, 43232, 44231, 452...   \n",
       "42  [1071, 3466, 5762, 7559, 8657, 9655, 11551, 13...   \n",
       "43  [1071, 3466, 5762, 7559, 8657, 9655, 11551, 13...   \n",
       "44  [38516, 39714, 40812, 42110, 43208, 44205, 452...   \n",
       "45  [37157, 38355, 39454, 40751, 41849, 42847, 438...   \n",
       "\n",
       "                                   reward_start_frame  \\\n",
       "0   [1225, 3619, 5915, 7712, 8809, 9808, 11704, 13...   \n",
       "1   [37201, 38399, 39497, 40795, 41892, 42890, 438...   \n",
       "2   [1225, 3619, 5915, 7712, 8809, 9808, 11704, 13...   \n",
       "3   [37156, 38354, 39452, 40750, 41847, 42846, 438...   \n",
       "4   [36989, 38187, 39285, 40582, 41679, 42678, 436...   \n",
       "5   [1016, 3412, 5708, 7505, 8602, 9601, 11497, 12...   \n",
       "6   [1016, 3412, 5708, 7505, 8602, 9601, 11497, 12...   \n",
       "7   [36949, 38147, 39245, 40543, 41640, 42638, 436...   \n",
       "8   [36975, 38173, 39271, 40568, 41667, 42664, 43663]   \n",
       "9   [955, 3351, 5646, 7443, 8541, 9539, 11435, 129...   \n",
       "10  [955, 3351, 5646, 7443, 8541, 9539, 11435, 129...   \n",
       "11  [45020, 46218, 47317, 48614, 49713, 50710, 517...   \n",
       "12  [1297, 3693, 6089, 8284, 9981, 12377, 13573, 1...   \n",
       "13  [187, 2583, 4878, 6675, 7773, 8771, 10667, 121...   \n",
       "14  [36135, 37333, 38431, 39729, 40827, 41825, 428...   \n",
       "15  [187, 2583, 4878, 6675, 7773, 8771, 10667, 121...   \n",
       "16  [41609, 42707, 44005, 45103, 46100, 47099, 491...   \n",
       "17                                                 []   \n",
       "18  [1129, 3525, 5821, 7617, 8715, 9713, 11610, 13...   \n",
       "19  [1129, 3525, 5821, 7617, 8715, 9713, 11610, 13...   \n",
       "20  [1198, 3592, 5888, 7685, 8784, 9781, 11677, 13...   \n",
       "21  [37159, 38357, 39455, 40753, 41851, 42849, 438...   \n",
       "22  [1198, 3592, 5888, 7685, 8784, 9781, 11677, 13...   \n",
       "23  [37129, 38327, 39425, 40723, 41821, 42819, 438...   \n",
       "24  [5856, 7653, 8750, 9749, 11645, 13142, 15239, ...   \n",
       "25  [37140, 38338, 39436, 40734, 41832, 42830, 438...   \n",
       "26  [5856, 7653, 8750, 9749, 11645, 13142, 15239, ...   \n",
       "27  [37088, 38285, 39384, 40681, 41779, 42777, 437...   \n",
       "28  [38602, 39798, 40897, 42194, 43292, 44291, 452...   \n",
       "29  [2584, 4980, 7275, 9072, 10170, 11167, 13064, ...   \n",
       "30  [1229, 3625, 5920, 7717, 8815, 9812, 11709, 13...   \n",
       "31  [1229, 3625, 5920, 7717, 8815, 9812, 11709, 13...   \n",
       "32  [1219, 3615, 5910, 7707, 8805, 9804, 11700, 13...   \n",
       "33  [1201, 3596, 5892, 7688, 8787, 9784, 11681, 13...   \n",
       "34  [1201, 3596, 5892, 7688, 8787, 9784, 11681, 13...   \n",
       "35  [3492, 5789, 7584, 8682, 9681, 11577, 13074, 1...   \n",
       "36  [38408, 39606, 40705, 42002, 43099, 44098, 450...   \n",
       "37  [3492, 5789, 7584, 8682, 9681, 11577, 13074, 1...   \n",
       "38  [1218, 3613, 5910, 7706, 8803, 9802, 11698, 13...   \n",
       "39  [38721, 39919, 41017, 42315, 43412, 44410, 454...   \n",
       "40  [1218, 3613, 5910, 7706, 8803, 9802, 11698, 13...   \n",
       "41  [38641, 39839, 40937, 42235, 43332, 44331, 453...   \n",
       "42  [1171, 3566, 5862, 7659, 8757, 9755, 11651, 13...   \n",
       "43  [1171, 3566, 5862, 7659, 8757, 9755, 11651, 13...   \n",
       "44  [38616, 39814, 40912, 42210, 43308, 44305, 453...   \n",
       "45  [37257, 38455, 39554, 40851, 41949, 42947, 439...   \n",
       "\n",
       "                                      tone_stop_frame  \\\n",
       "0   [1324, 3720, 6014, 7811, 8910, 9907, 11804, 13...   \n",
       "1   [37300, 38498, 39597, 40894, 41992, 42990, 439...   \n",
       "2   [1324, 3720, 6014, 7811, 8910, 9907, 11804, 13...   \n",
       "3   [37256, 38453, 39552, 40849, 41947, 42945, 439...   \n",
       "4   [37088, 38286, 39384, 40681, 41780, 42777, 437...   \n",
       "5   [1117, 3513, 5808, 7604, 8703, 9700, 11596, 13...   \n",
       "6   [1117, 3513, 5808, 7604, 8703, 9700, 11596, 13...   \n",
       "7   [37048, 38246, 39345, 40642, 41740, 42738, 437...   \n",
       "8   [37075, 38273, 39370, 40667, 41766, 42764, 43762]   \n",
       "9   [1055, 3450, 5747, 7542, 8640, 9639, 11536, 13...   \n",
       "10  [1055, 3450, 5747, 7542, 8640, 9639, 11536, 13...   \n",
       "11  [45121, 46319, 47416, 48713, 49812, 50810, 518...   \n",
       "12  [1396, 3792, 6188, 8383, 10080, 12476, 13674, ...   \n",
       "13  [287, 2683, 4979, 6775, 7873, 8871, 10768, 122...   \n",
       "14  [36236, 37434, 38531, 39828, 40927, 41925, 429...   \n",
       "15  [287, 2683, 4979, 6775, 7873, 8871, 10768, 122...   \n",
       "16  [41709, 42807, 44104, 45202, 46201, 47198, 492...   \n",
       "17                                                 []   \n",
       "18  [1229, 3624, 5920, 7717, 8815, 9812, 11709, 13...   \n",
       "19  [1229, 3624, 5920, 7717, 8815, 9812, 11709, 13...   \n",
       "20  [1297, 3693, 5988, 7784, 8883, 9880, 11777, 13...   \n",
       "21  [37259, 38457, 39555, 40852, 41951, 42948, 439...   \n",
       "22  [1297, 3693, 5988, 7784, 8883, 9880, 11777, 13...   \n",
       "23  [37229, 38426, 39525, 40822, 41921, 42918, 439...   \n",
       "24  [5955, 7752, 8851, 9848, 11745, 13243, 15338, ...   \n",
       "25  [37240, 38437, 39536, 40833, 41932, 42929, 439...   \n",
       "26  [5955, 7752, 8851, 9848, 11745, 13243, 15338, ...   \n",
       "27  [37186, 38385, 39483, 40780, 41879, 42876, 438...   \n",
       "28  [38701, 39899, 40997, 42295, 43392, 44390, 453...   \n",
       "29  [2683, 5079, 7375, 9171, 10269, 11268, 13164, ...   \n",
       "30  [1328, 3724, 6019, 7816, 8914, 9913, 11810, 13...   \n",
       "31  [1328, 3724, 6019, 7816, 8914, 9913, 11810, 13...   \n",
       "32  [1318, 3714, 6010, 7807, 8904, 9903, 11799, 13...   \n",
       "33  [1300, 3696, 5991, 7788, 8886, 9883, 11780, 13...   \n",
       "34  [1300, 3696, 5991, 7788, 8886, 9883, 11780, 13...   \n",
       "35  [3591, 5888, 7685, 8783, 9780, 11677, 13174, 1...   \n",
       "36  [38508, 39705, 40804, 42101, 43199, 44197, 451...   \n",
       "37  [3591, 5888, 7685, 8783, 9780, 11677, 13174, 1...   \n",
       "38  [1318, 3712, 6009, 7806, 8904, 9901, 11797, 13...   \n",
       "39  [38820, 40018, 41116, 42414, 43512, 44510, 455...   \n",
       "40  [1318, 3712, 6009, 7806, 8904, 9901, 11797, 13...   \n",
       "41  [38741, 39938, 41037, 42334, 43433, 44430, 454...   \n",
       "42  [1271, 3666, 5961, 7758, 8856, 9854, 11750, 13...   \n",
       "43  [1271, 3666, 5961, 7758, 8856, 9854, 11750, 13...   \n",
       "44  [38716, 39914, 41011, 42309, 43407, 44406, 454...   \n",
       "45  [37358, 38556, 39653, 40950, 42049, 43047, 440...   \n",
       "\n",
       "                                            condition  \\\n",
       "0   [1.1, 1.2, 1.2, 1.2, 1.2, 1.2, 1.2, 1.2, 1.2, ...   \n",
       "1   [1.1, 1.2, 1.2, 1.2, 1.2, 1.2, 1.2, 1.2, 1.2, ...   \n",
       "2   [1.1, 1.2, 1.2, 1.2, 1.2, 1.2, 1.2, 1.2, 1.2, ...   \n",
       "3   [rewarded, rewarded, rewarded, rewarded, rewar...   \n",
       "4   [1.4, 1.1, 1.1, 1.1, 1.1, 1.1, 1.1, 1.1, 1.1, ...   \n",
       "5   [1.4, 1.1, 1.1, 1.1, 1.1, 1.1, 1.1, 1.1, 1.1, ...   \n",
       "6   [1.4, 1.1, 1.1, 1.1, 1.1, 1.1, 1.1, 1.1, 1.1, ...   \n",
       "7   [rewarded, rewarded, rewarded, rewarded, rewar...   \n",
       "8   [1.2, 1.2, 1.1, 1.1, 1.2, 1.1, 1.1, 1.1, 1.1, ...   \n",
       "9   [1.2, 1.2, 1.1, 1.1, 1.2, 1.1, 1.1, 1.1, 1.1, ...   \n",
       "10  [1.2, 1.2, 1.1, 1.1, 1.2, 1.1, 1.1, 1.1, 1.1, ...   \n",
       "11  [rewarded, rewarded, rewarded, rewarded, rewar...   \n",
       "12  [rewarded, rewarded, rewarded, rewarded, rewar...   \n",
       "13  [1.2, 1.2, 1.4, 1.2, 1.4, 1.2, 1.2, 1.4, 1.4, ...   \n",
       "14  [1.2, 1.2, 1.4, 1.2, 1.4, 1.2, 1.2, 1.4, 1.4, ...   \n",
       "15  [1.2, 1.2, 1.4, 1.2, 1.4, 1.2, 1.2, 1.4, 1.4, ...   \n",
       "16  [rewarded, rewarded, rewarded, rewarded, rewar...   \n",
       "17  [1.2, 1.1, 1.1, 1.2, 1.1, 1.1, 1.1, 1.1, 1.1, ...   \n",
       "18  [1.2, 1.1, 1.1, 1.2, 1.1, 1.1, 1.1, 1.1, 1.1, ...   \n",
       "19  [1.2, 1.1, 1.1, 1.2, 1.1, 1.1, 1.1, 1.1, 1.1, ...   \n",
       "20  [1.4, 1.1, 1.1, 1.4, 1.1, 1.4, 1.4, 1.4, 1.1, ...   \n",
       "21  [1.4, 1.1, 1.1, 1.4, 1.1, 1.4, 1.4, 1.4, 1.1, ...   \n",
       "22  [1.4, 1.1, 1.1, 1.4, 1.1, 1.4, 1.4, 1.4, 1.1, ...   \n",
       "23  [rewarded, rewarded, rewarded, rewarded, rewar...   \n",
       "24  [1.2, 1.1, 1.1, 1.1, 1.1, 1.2, 1.1, 1.1, 1.2, ...   \n",
       "25  [1.2, 1.1, 1.1, 1.1, 1.1, 1.2, 1.1, 1.1, 1.2, ...   \n",
       "26  [1.2, 1.1, 1.1, 1.1, 1.1, 1.2, 1.1, 1.1, 1.2, ...   \n",
       "27  [rewarded, rewarded, omission, rewarded, rewar...   \n",
       "28  [1.4, 1.2, 1.2, 1.2, 1.2, 1.2, 1.2, 1.2, 1.2, ...   \n",
       "29  [1.4, 1.2, 1.2, 1.2, 1.2, 1.2, 1.2, 1.2, 1.2, ...   \n",
       "30  [1.2, 1.2, 1.2, 1.2, 1.2, 1.2, 1.2, 1.2, 1.2, ...   \n",
       "31  [1.2, 1.2, 1.2, 1.2, 1.2, 1.2, 1.2, 1.2, 1.2, ...   \n",
       "32  [1.2, 1.2, 1.2, 1.2, 1.2, 1.2, 1.2, 1.2, 1.2, ...   \n",
       "33  [1.4, 1.1, 1.1, 1.1, 1.1, 1.1, 1.1, 1.1, 1.1, ...   \n",
       "34  [1.4, 1.1, 1.1, 1.1, 1.1, 1.1, 1.1, 1.1, 1.1, ...   \n",
       "35  [1.2, 1.1, 1.2, 1.1, 1.1, 1.2, 1.2, 1.1, 1.2, ...   \n",
       "36  [1.2, 1.1, 1.2, 1.1, 1.1, 1.2, 1.2, 1.1, 1.2, ...   \n",
       "37  [1.2, 1.1, 1.2, 1.1, 1.1, 1.2, 1.2, 1.1, 1.2, ...   \n",
       "38  [1.1, 1.1, 1.1, 1.1, 1.1, 1.1, 1.1, 1.1, 1.1, ...   \n",
       "39  [1.1, 1.1, 1.1, 1.1, 1.1, 1.1, 1.1, 1.1, 1.1, ...   \n",
       "40  [1.1, 1.1, 1.1, 1.1, 1.1, 1.1, 1.1, 1.1, 1.1, ...   \n",
       "41  [1.4, 1.4, 1.4, 2.2, 2.2, 1.4, 2.2, 1.4, 2.2, ...   \n",
       "42  [1.4, 1.4, 1.4, 1.2, 1.2, 1.4, 1.2, 1.2, 1.2, ...   \n",
       "43  [1.4, 1.4, 1.4, 1.2, 1.2, 1.4, 1.2, 1.2, 1.2, ...   \n",
       "44  [1.4, 1.4, 1.4, 1.2, 1.2, 1.4, 1.2, 1.2, 1.2, ...   \n",
       "45  [2.2, 2.2, 2.2, 2.2, 2.2, 2.2, 2.2, 2.2, 2.2, ...   \n",
       "\n",
       "                                competition_closeness  ...  \\\n",
       "0   [competitive, no_comp, competitive, no_comp, n...  ...   \n",
       "1   [competitive, no_comp, competitive, no_comp, n...  ...   \n",
       "2   [competitive, no_comp, competitive, no_comp, n...  ...   \n",
       "3   [nan, nan, nan, nan, nan, nan, nan, nan, nan, ...  ...   \n",
       "4   [no_comp, no_comp, competitive, competitive, c...  ...   \n",
       "5   [no_comp, no_comp, competitive, competitive, c...  ...   \n",
       "6   [no_comp, no_comp, competitive, competitive, c...  ...   \n",
       "7   [nan, nan, nan, nan, nan, nan, nan, nan, nan, ...  ...   \n",
       "8   [competitive, no_comp, no_comp, competitive, c...  ...   \n",
       "9   [competitive, no_comp, no_comp, competitive, c...  ...   \n",
       "10  [competitive, no_comp, no_comp, competitive, c...  ...   \n",
       "11  [nan, nan, nan, nan, nan, nan, nan, nan, nan, ...  ...   \n",
       "12  [nan, nan, nan, nan, nan, nan, nan, nan, nan, ...  ...   \n",
       "13  [no_comp, competitive, no_comp, competitive, n...  ...   \n",
       "14  [no_comp, competitive, no_comp, competitive, n...  ...   \n",
       "15  [no_comp, competitive, no_comp, competitive, n...  ...   \n",
       "16  [nan, nan, nan, nan, nan, nan, nan, nan, nan, ...  ...   \n",
       "17  [competitive, competitive, competitive, no_com...  ...   \n",
       "18  [competitive, competitive, competitive, no_com...  ...   \n",
       "19  [competitive, competitive, competitive, no_com...  ...   \n",
       "20  [no_comp, no_comp, no_comp, no_comp, no_comp, ...  ...   \n",
       "21  [no_comp, no_comp, no_comp, no_comp, no_comp, ...  ...   \n",
       "22  [no_comp, no_comp, no_comp, no_comp, no_comp, ...  ...   \n",
       "23  [nan, nan, nan, nan, nan, nan, nan, nan, nan, ...  ...   \n",
       "24  [competitive, no_comp, competitive, no_comp, n...  ...   \n",
       "25  [competitive, no_comp, competitive, no_comp, n...  ...   \n",
       "26  [competitive, no_comp, competitive, no_comp, n...  ...   \n",
       "27  [nan, nan, nan, nan, nan, nan, nan, nan, nan, ...  ...   \n",
       "28  [no_comp, competitive, competitive, no_comp, n...  ...   \n",
       "29  [no_comp, competitive, competitive, no_comp, n...  ...   \n",
       "30  [no_comp, no_comp, no_comp, no_comp, no_comp, ...  ...   \n",
       "31  [no_comp, no_comp, no_comp, no_comp, no_comp, ...  ...   \n",
       "32  [competitive, competitive, competitive, compet...  ...   \n",
       "33  [no_comp, no_comp, competitive, competitive, n...  ...   \n",
       "34  [no_comp, no_comp, competitive, competitive, n...  ...   \n",
       "35  [competitive, competitive, competitive, compet...  ...   \n",
       "36  [competitive, competitive, competitive, compet...  ...   \n",
       "37  [competitive, competitive, competitive, compet...  ...   \n",
       "38  [no_comp, competitive, competitive, competitiv...  ...   \n",
       "39  [no_comp, competitive, competitive, competitiv...  ...   \n",
       "40  [no_comp, competitive, competitive, competitiv...  ...   \n",
       "41  [no_comp, no_comp, no_comp, competitive, compe...  ...   \n",
       "42  [no_comp, no_comp, no_comp, competitive, compe...  ...   \n",
       "43  [no_comp, no_comp, no_comp, competitive, compe...  ...   \n",
       "44  [no_comp, no_comp, no_comp, competitive, compe...  ...   \n",
       "45  [no_comp, no_comp, no_comp, no_comp, no_comp, ...  ...   \n",
       "\n",
       "                                    subject_locations  \\\n",
       "0   [[[46.68890098287189, 11.495085446056166], [43...   \n",
       "1   [[[nan, nan], [nan, nan], [nan, nan], [nan, na...   \n",
       "2   [[[34.36404036584844, 35.615553316175784], [34...   \n",
       "3   [[[nan, nan], [nan, nan], [nan, nan], [nan, na...   \n",
       "4   [[[nan, nan], [nan, nan], [nan, nan], [nan, na...   \n",
       "5   [[[46.71964110607613, 36.493379374373234], [44...   \n",
       "6   [[[50.63276479731981, 10.511614189582007], [51...   \n",
       "7   [[[nan, nan], [nan, nan], [nan, nan], [nan, na...   \n",
       "8   [[[nan, nan], [nan, nan], [nan, nan], [nan, na...   \n",
       "9   [[[44.962146067447776, 33.875261125037554], [4...   \n",
       "10  [[[52.756810221797416, 36.78031943889759], [52...   \n",
       "11  [[[nan, nan], [nan, nan], [nan, nan], [nan, na...   \n",
       "12  [[[46.36973988436269, 35.49525095953385], [43....   \n",
       "13  [[[51.59712734869665, 31.240714372660907], [56...   \n",
       "14  [[[nan, nan], [nan, nan], [nan, nan], [nan, na...   \n",
       "15  [[[56.75056981673038, 24.705250867385512], [55...   \n",
       "16  [[[nan, nan], [nan, nan], [nan, nan], [nan, na...   \n",
       "17  [[[nan, nan], [nan, nan], [nan, nan], [nan, na...   \n",
       "18  [[[57.86163468579171, 31.554562356382696], [59...   \n",
       "19  [[[40.039741738777444, 9.47029992556593], [42....   \n",
       "20  [[[46.838967596646405, 35.8797798363605], [44....   \n",
       "21  [[[nan, nan], [nan, nan], [nan, nan], [nan, na...   \n",
       "22  [[[31.37122566669405, 31.1085619584881], [33.5...   \n",
       "23  [[[nan, nan], [nan, nan], [nan, nan], [nan, na...   \n",
       "24  [[[nan, nan], [nan, nan], [nan, nan], [nan, na...   \n",
       "25  [[[nan, nan], [nan, nan], [nan, nan], [nan, na...   \n",
       "26  [[[nan, nan], [nan, nan], [nan, nan], [nan, na...   \n",
       "27  [[[nan, nan], [nan, nan], [nan, nan], [nan, na...   \n",
       "28  [[[nan, nan], [nan, nan], [nan, nan], [nan, na...   \n",
       "29  [[[51.20982713678983, 36.08500565938255], [49....   \n",
       "30  [[[49.30325877112916, 12.106327759157248], [46...   \n",
       "31  [[[49.86951465768765, 36.26227164075119], [48....   \n",
       "32  [[[41.49962956242298, 34.66054090481836], [39....   \n",
       "33  [[[37.6951428017248, 22.820695912511706], [34....   \n",
       "34  [[[45.31415004982611, 34.09743172764716], [42....   \n",
       "35  [[[47.00376214824721, 36.56246553562987], [44....   \n",
       "36  [[[nan, nan], [nan, nan], [nan, nan], [nan, na...   \n",
       "37  [[[47.06290318700189, 36.25684849676541], [45....   \n",
       "38  [[[30.805656447380777, 12.473634287026043], [3...   \n",
       "39  [[[nan, nan], [nan, nan], [nan, nan], [nan, na...   \n",
       "40  [[[32.32989410112327, 28.619521974627094], [35...   \n",
       "41  [[[nan, nan], [nan, nan], [nan, nan], [nan, na...   \n",
       "42  [[[51.24529586403214, 36.88518187464025], [49....   \n",
       "43  [[[42.40523742457364, 29.11403633803355], [40....   \n",
       "44  [[[nan, nan], [nan, nan], [nan, nan], [nan, na...   \n",
       "45  [[[nan, nan], [nan, nan], [nan, nan], [nan, na...   \n",
       "\n",
       "                                      agent_locations  \\\n",
       "0   [[[34.36404036584844, 35.615553316175784], [34...   \n",
       "1                                                 NaN   \n",
       "2   [[[46.68890098287189, 11.495085446056166], [43...   \n",
       "3                                                 NaN   \n",
       "4                                                 NaN   \n",
       "5   [[[50.63276479731981, 10.511614189582007], [51...   \n",
       "6   [[[46.71964110607613, 36.493379374373234], [44...   \n",
       "7                                                 NaN   \n",
       "8                                                 NaN   \n",
       "9   [[[52.756810221797416, 36.78031943889759], [52...   \n",
       "10  [[[44.962146067447776, 33.875261125037554], [4...   \n",
       "11                                                NaN   \n",
       "12                                                NaN   \n",
       "13  [[[56.75056981673038, 24.705250867385512], [55...   \n",
       "14                                                NaN   \n",
       "15  [[[51.59712734869665, 31.240714372660907], [56...   \n",
       "16                                                NaN   \n",
       "17                                                NaN   \n",
       "18  [[[40.039741738777444, 9.47029992556593], [42....   \n",
       "19  [[[57.86163468579171, 31.554562356382696], [59...   \n",
       "20  [[[31.37122566669405, 31.1085619584881], [33.5...   \n",
       "21                                                NaN   \n",
       "22  [[[46.838967596646405, 35.8797798363605], [44....   \n",
       "23                                                NaN   \n",
       "24  [[[nan, nan], [nan, nan], [nan, nan], [nan, na...   \n",
       "25                                                NaN   \n",
       "26  [[[nan, nan], [nan, nan], [nan, nan], [nan, na...   \n",
       "27                                                NaN   \n",
       "28                                                NaN   \n",
       "29  [[[50.00780259607343, 23.677419128184464], [46...   \n",
       "30  [[[49.86951465768765, 36.26227164075119], [48....   \n",
       "31  [[[49.30325877112916, 12.106327759157248], [46...   \n",
       "32  [[[57.60015859503929, 32.17353337550727], [61....   \n",
       "33  [[[45.31415004982611, 34.09743172764716], [42....   \n",
       "34  [[[37.6951428017248, 22.820695912511706], [34....   \n",
       "35  [[[47.06290318700189, 36.25684849676541], [45....   \n",
       "36  [[[nan, nan], [nan, nan], [nan, nan], [nan, na...   \n",
       "37  [[[47.00376214824721, 36.56246553562987], [44....   \n",
       "38  [[[32.32989410112327, 28.619521974627094], [35...   \n",
       "39  [[[nan, nan], [nan, nan], [nan, nan], [nan, na...   \n",
       "40  [[[30.805656447380777, 12.473634287026043], [3...   \n",
       "41  [[[nan, nan], [nan, nan], [nan, nan], [nan, na...   \n",
       "42  [[[42.40523742457364, 29.11403633803355], [40....   \n",
       "43  [[[51.24529586403214, 36.88518187464025], [49....   \n",
       "44  [[[nan, nan], [nan, nan], [nan, nan], [nan, na...   \n",
       "45  [[[nan, nan], [nan, nan], [nan, nan], [nan, na...   \n",
       "\n",
       "                              subject_thorax_velocity  \\\n",
       "0   [1.8125, 1.707, 1.6045, 1.506, 1.409, 1.315, 1...   \n",
       "1   [nan, nan, nan, nan, nan, nan, nan, nan, nan, ...   \n",
       "2   [14.336, 12.875, 11.47, 10.11, 8.81, 7.57, 6.3...   \n",
       "3   [nan, nan, nan, nan, nan, nan, nan, nan, nan, ...   \n",
       "4   [nan, nan, nan, nan, nan, nan, nan, nan, nan, ...   \n",
       "5   [4.04, 3.848, 3.658, 3.475, 3.291, 3.113, 2.94...   \n",
       "6   [4.402, 3.873, 3.361, 2.87, 2.398, 1.946, 1.51...   \n",
       "7   [nan, nan, nan, nan, nan, nan, nan, nan, nan, ...   \n",
       "8   [nan, nan, nan, nan, nan, nan, nan, nan, nan, ...   \n",
       "9   [8.55, 7.92, 7.3, 6.69, 6.09, 5.496, 4.918, 4....   \n",
       "10  [31.56, 28.44, 25.4, 22.5, 19.67, 16.97, 14.37...   \n",
       "11  [nan, nan, nan, nan, nan, nan, nan, nan, nan, ...   \n",
       "12  [1.943, 1.776, 1.613, 1.457, 1.306, 1.159, 1.0...   \n",
       "13  [2.955, 2.666, 2.389, 2.121, 1.866, 1.623, 1.3...   \n",
       "14  [nan, nan, nan, nan, nan, nan, nan, nan, nan, ...   \n",
       "15  [35.16, 33.8, 32.53, 31.28, 30.05, 28.84, 27.6...   \n",
       "16  [nan, nan, nan, nan, nan, nan, nan, nan, nan, ...   \n",
       "17  [nan, nan, nan, nan, nan, nan, nan, nan, nan, ...   \n",
       "18  [8.96, 8.195, 7.54, 7.004, 6.605, 6.348, 6.227...   \n",
       "19  [11.19, 10.55, 9.92, 9.31, 8.734, 8.18, 7.64, ...   \n",
       "20  [1.143, 1.143, 1.142, 1.139, 1.135, 1.129, 1.1...   \n",
       "21  [nan, nan, nan, nan, nan, nan, nan, nan, nan, ...   \n",
       "22  [0.6333, 0.5635, 0.4963, 0.4321, 0.3713, 0.313...   \n",
       "23  [nan, nan, nan, nan, nan, nan, nan, nan, nan, ...   \n",
       "24  [nan, nan, nan, nan, nan, nan, nan, nan, nan, ...   \n",
       "25  [nan, nan, nan, nan, nan, nan, nan, nan, nan, ...   \n",
       "26  [nan, nan, nan, nan, nan, nan, nan, nan, nan, ...   \n",
       "27  [nan, nan, nan, nan, nan, nan, nan, nan, nan, ...   \n",
       "28  [nan, nan, nan, nan, nan, nan, nan, nan, nan, ...   \n",
       "29  [14.375, 13.25, 12.14, 11.055, 10.0, 8.96, 7.9...   \n",
       "30  [1.223, 1.149, 1.078, 1.009, 0.9404, 0.8745, 0...   \n",
       "31  [1.475, 1.4375, 1.4, 1.365, 1.329, 1.295, 1.26...   \n",
       "32  [0.3293, 0.2578, 0.2019, 0.1715, 0.1749, 0.206...   \n",
       "33  [17.33, 16.6, 15.89, 15.2, 14.53, 13.875, 13.2...   \n",
       "34  [7.785, 7.074, 6.39, 5.723, 5.08, 4.453, 3.852...   \n",
       "35  [26.3, 24.88, 23.5, 22.14, 20.83, 19.55, 18.31...   \n",
       "36  [nan, nan, nan, nan, nan, nan, nan, nan, nan, ...   \n",
       "37  [9.64, 9.07, 8.51, 7.96, 7.43, 6.91, 6.406, 5....   \n",
       "38  [1.368, 1.2705, 1.176, 1.083, 0.994, 0.907, 0....   \n",
       "39  [nan, nan, nan, nan, nan, nan, nan, nan, nan, ...   \n",
       "40  [20.92, 20.12, 19.33, 18.56, 17.81, 17.08, 16....   \n",
       "41  [nan, nan, nan, nan, nan, nan, nan, nan, nan, ...   \n",
       "42  [3.418, 3.2, 2.992, 2.793, 2.607, 2.432, 2.268...   \n",
       "43  [10.63, 10.22, 9.81, 9.41, 9.01, 8.61, 8.22, 7...   \n",
       "44  [nan, nan, nan, nan, nan, nan, nan, nan, nan, ...   \n",
       "45  [nan, nan, nan, nan, nan, nan, nan, nan, nan, ...   \n",
       "\n",
       "                                agent_thorax_velocity  \\\n",
       "0   [14.336, 12.875, 11.47, 10.11, 8.81, 7.57, 6.3...   \n",
       "1                                                 NaN   \n",
       "2   [1.8125, 1.707, 1.6045, 1.506, 1.409, 1.315, 1...   \n",
       "3                                                 NaN   \n",
       "4                                                 NaN   \n",
       "5   [4.402, 3.873, 3.361, 2.87, 2.398, 1.946, 1.51...   \n",
       "6   [4.04, 3.848, 3.658, 3.475, 3.291, 3.113, 2.94...   \n",
       "7                                                 NaN   \n",
       "8                                                 NaN   \n",
       "9   [31.56, 28.44, 25.4, 22.5, 19.67, 16.97, 14.37...   \n",
       "10  [8.55, 7.92, 7.3, 6.69, 6.09, 5.496, 4.918, 4....   \n",
       "11                                                NaN   \n",
       "12                                                NaN   \n",
       "13  [35.16, 33.8, 32.53, 31.28, 30.05, 28.84, 27.6...   \n",
       "14                                                NaN   \n",
       "15  [2.955, 2.666, 2.389, 2.121, 1.866, 1.623, 1.3...   \n",
       "16                                                NaN   \n",
       "17                                                NaN   \n",
       "18  [11.19, 10.55, 9.92, 9.31, 8.734, 8.18, 7.64, ...   \n",
       "19  [8.96, 8.195, 7.54, 7.004, 6.605, 6.348, 6.227...   \n",
       "20  [0.6333, 0.5635, 0.4963, 0.4321, 0.3713, 0.313...   \n",
       "21                                                NaN   \n",
       "22  [1.143, 1.143, 1.142, 1.139, 1.135, 1.129, 1.1...   \n",
       "23                                                NaN   \n",
       "24  [nan, nan, nan, nan, nan, nan, nan, nan, nan, ...   \n",
       "25                                                NaN   \n",
       "26  [nan, nan, nan, nan, nan, nan, nan, nan, nan, ...   \n",
       "27                                                NaN   \n",
       "28                                                NaN   \n",
       "29  [18.1, 17.16, 16.25, 15.37, 14.5, 13.664, 12.8...   \n",
       "30  [1.475, 1.4375, 1.4, 1.365, 1.329, 1.295, 1.26...   \n",
       "31  [1.223, 1.149, 1.078, 1.009, 0.9404, 0.8745, 0...   \n",
       "32  [0.6987, 0.6255, 0.5557, 0.489, 0.4265, 0.3682...   \n",
       "33  [7.785, 7.074, 6.39, 5.723, 5.08, 4.453, 3.852...   \n",
       "34  [17.33, 16.6, 15.89, 15.2, 14.53, 13.875, 13.2...   \n",
       "35  [9.64, 9.07, 8.51, 7.96, 7.43, 6.91, 6.406, 5....   \n",
       "36  [nan, nan, nan, nan, nan, nan, nan, nan, nan, ...   \n",
       "37  [26.3, 24.88, 23.5, 22.14, 20.83, 19.55, 18.31...   \n",
       "38  [20.92, 20.12, 19.33, 18.56, 17.81, 17.08, 16....   \n",
       "39  [nan, nan, nan, nan, nan, nan, nan, nan, nan, ...   \n",
       "40  [1.368, 1.2705, 1.176, 1.083, 0.994, 0.907, 0....   \n",
       "41  [nan, nan, nan, nan, nan, nan, nan, nan, nan, ...   \n",
       "42  [10.63, 10.22, 9.81, 9.41, 9.01, 8.61, 8.22, 7...   \n",
       "43  [3.418, 3.2, 2.992, 2.793, 2.607, 2.432, 2.268...   \n",
       "44  [nan, nan, nan, nan, nan, nan, nan, nan, nan, ...   \n",
       "45  [nan, nan, nan, nan, nan, nan, nan, nan, nan, ...   \n",
       "\n",
       "                        subject_thorax_to_reward_port  \\\n",
       "0   [26.45, 26.16, 26.1, 25.77, 25.72, 25.78, 26.1...   \n",
       "1   [nan, nan, nan, nan, nan, nan, nan, nan, nan, ...   \n",
       "2   [6.11, 6.06, 6.125, 6.566, 6.605, 6.676, 7.13,...   \n",
       "3   [nan, nan, nan, nan, nan, nan, nan, nan, nan, ...   \n",
       "4   [nan, nan, nan, nan, nan, nan, nan, nan, nan, ...   \n",
       "5   [4.633, 4.09, 4.36, 4.656, 4.65, 4.383, 4.35, ...   \n",
       "6   [28.12, 28.16, 28.22, 28.06, 27.9, 27.9, 27.9,...   \n",
       "7   [nan, nan, nan, nan, nan, nan, nan, nan, nan, ...   \n",
       "8   [nan, nan, nan, nan, nan, nan, nan, nan, nan, ...   \n",
       "9   [5.957, 5.52, 5.055, 4.99, 4.484, 4.047, 4.195...   \n",
       "10  [10.77, 10.75, 10.76, 10.91, 10.95, 11.234, 11...   \n",
       "11  [nan, nan, nan, nan, nan, nan, nan, nan, nan, ...   \n",
       "12  [4.03, 4.027, 4.027, 3.875, 3.875, 3.873, 3.88...   \n",
       "13  [10.48, 10.48, 10.47, 10.48, 10.484, 10.49, 10...   \n",
       "14  [nan, nan, nan, nan, nan, nan, nan, nan, nan, ...   \n",
       "15  [19.75, 19.78, 20.06, 19.45, 19.12, 19.02, 18....   \n",
       "16  [nan, nan, nan, nan, nan, nan, nan, nan, nan, ...   \n",
       "17  [nan, nan, nan, nan, nan, nan, nan, nan, nan, ...   \n",
       "18  [11.19, 11.234, 11.73, 12.34, 12.56, 13.58, 13...   \n",
       "19  [25.6, 25.84, 25.86, 25.86, 25.86, 25.86, 25.8...   \n",
       "20  [5.727, 5.91, 5.93, 5.965, 5.99, 5.992, 6.355,...   \n",
       "21  [nan, nan, nan, nan, nan, nan, nan, nan, nan, ...   \n",
       "22  [13.75, 14.18, 13.734, 13.74, 13.76, 13.84, 13...   \n",
       "23  [nan, nan, nan, nan, nan, nan, nan, nan, nan, ...   \n",
       "24  [nan, nan, nan, nan, nan, nan, nan, nan, nan, ...   \n",
       "25  [nan, nan, nan, nan, nan, nan, nan, nan, nan, ...   \n",
       "26  [nan, nan, nan, nan, nan, nan, nan, nan, nan, ...   \n",
       "27  [nan, nan, nan, nan, nan, nan, nan, nan, nan, ...   \n",
       "28  [nan, nan, nan, nan, nan, nan, nan, nan, nan, ...   \n",
       "29  [8.65, 8.64, 8.62, 8.61, 8.61, 8.586, 8.586, 8...   \n",
       "30  [27.81, 27.81, 27.81, 27.81, 27.81, 27.55, 27....   \n",
       "31  [8.75, 8.75, 8.766, 8.77, 8.77, 8.76, 8.76, 8....   \n",
       "32  [8.34, 8.35, 8.35, 8.36, 8.37, 8.36, 8.37, 8.3...   \n",
       "33  [19.56, 19.03, 18.73, 18.66, 18.08, 17.73, 17....   \n",
       "34  [6.176, 5.875, 5.875, 6.17, 6.184, 6.27, 6.27,...   \n",
       "35  [28.38, 28.38, 28.38, 28.38, 28.38, 28.38, 28....   \n",
       "36  [nan, nan, nan, nan, nan, nan, nan, nan, nan, ...   \n",
       "37  [5.203, 5.227, 5.227, 5.21, 5.215, 5.215, 5.21...   \n",
       "38  [28.42, 28.44, 28.44, 28.45, 28.36, 28.38, 28....   \n",
       "39  [nan, nan, nan, nan, nan, nan, nan, nan, nan, ...   \n",
       "40  [18.64, 18.84, 18.53, 18.48, 18.25, 17.44, 17....   \n",
       "41  [nan, nan, nan, nan, nan, nan, nan, nan, nan, ...   \n",
       "42  [9.38, 9.39, 9.375, 9.375, 9.38, 9.33, 9.35, 9...   \n",
       "43  [12.266, 11.88, 11.09, 10.77, 10.2, 9.61, 9.07...   \n",
       "44  [nan, nan, nan, nan, nan, nan, nan, nan, nan, ...   \n",
       "45  [nan, nan, nan, nan, nan, nan, nan, nan, nan, ...   \n",
       "\n",
       "                          agent_thorax_to_reward_port current_tracked_subject  \\\n",
       "0   [6.11, 6.06, 6.125, 6.566, 6.605, 6.676, 7.13,...                 1.1_1.2   \n",
       "1                                                 NaN                     1.2   \n",
       "2   [26.45, 26.16, 26.1, 25.77, 25.72, 25.78, 26.1...                 1.1_1.2   \n",
       "3                                                 NaN                     1.1   \n",
       "4                                                 NaN                     1.1   \n",
       "5   [28.12, 28.16, 28.22, 28.06, 27.9, 27.9, 27.9,...                 1.1_1.4   \n",
       "6   [4.633, 4.09, 4.36, 4.656, 4.65, 4.383, 4.35, ...                 1.1_1.4   \n",
       "7                                                 NaN                     1.4   \n",
       "8                                                 NaN                     1.1   \n",
       "9   [10.77, 10.75, 10.76, 10.91, 10.95, 11.234, 11...                 1.1_1.2   \n",
       "10  [5.957, 5.52, 5.055, 4.99, 4.484, 4.047, 4.195...                 1.1_1.2   \n",
       "11                                                NaN                     1.2   \n",
       "12                                                NaN                     1.1   \n",
       "13  [19.75, 19.78, 20.06, 19.45, 19.12, 19.02, 18....                 1.2_1.4   \n",
       "14                                                NaN                     1.4   \n",
       "15  [10.48, 10.48, 10.47, 10.48, 10.484, 10.49, 10...                 1.2_1.4   \n",
       "16                                                NaN                     1.2   \n",
       "17                                                NaN                     1.1   \n",
       "18  [25.6, 25.84, 25.86, 25.86, 25.86, 25.86, 25.8...                 1.1_1.2   \n",
       "19  [11.19, 11.234, 11.73, 12.34, 12.56, 13.58, 13...                 1.1_1.2   \n",
       "20  [13.75, 14.18, 13.734, 13.74, 13.76, 13.84, 13...                 1.1_1.4   \n",
       "21                                                NaN                     1.4   \n",
       "22  [5.727, 5.91, 5.93, 5.965, 5.99, 5.992, 6.355,...                 1.1_1.4   \n",
       "23                                                NaN                     1.1   \n",
       "24  [nan, nan, nan, nan, nan, nan, nan, nan, nan, ...                 1.1_1.2   \n",
       "25                                                NaN                     1.2   \n",
       "26  [nan, nan, nan, nan, nan, nan, nan, nan, nan, ...                 1.1_1.2   \n",
       "27                                                NaN                     1.1   \n",
       "28                                                NaN                     1.4   \n",
       "29  [16.38, 16.02, 16.06, 16.05, 15.84, 16.02, 15....                 1.2_1.4   \n",
       "30  [8.75, 8.75, 8.766, 8.77, 8.77, 8.76, 8.76, 8....                 1.1_1.2   \n",
       "31  [27.81, 27.81, 27.81, 27.81, 27.81, 27.55, 27....                 1.1_1.2   \n",
       "32  [13.76, 13.75, 13.75, 13.734, 13.695, 13.7, 13...                 1.2_1.4   \n",
       "33  [6.176, 5.875, 5.875, 6.17, 6.184, 6.27, 6.27,...                 1.1_1.4   \n",
       "34  [19.56, 19.03, 18.73, 18.66, 18.08, 17.73, 17....                 1.1_1.4   \n",
       "35  [5.203, 5.227, 5.227, 5.21, 5.215, 5.215, 5.21...                 1.1_1.2   \n",
       "36  [nan, nan, nan, nan, nan, nan, nan, nan, nan, ...                 1.1_2.2   \n",
       "37  [28.38, 28.38, 28.38, 28.38, 28.38, 28.38, 28....                 1.1_1.2   \n",
       "38  [18.64, 18.84, 18.53, 18.48, 18.25, 17.44, 17....                 1.1_1.4   \n",
       "39  [nan, nan, nan, nan, nan, nan, nan, nan, nan, ...                 1.1_2.1   \n",
       "40  [28.42, 28.44, 28.44, 28.45, 28.36, 28.38, 28....                 1.1_1.4   \n",
       "41  [nan, nan, nan, nan, nan, nan, nan, nan, nan, ...                 1.4_2.2   \n",
       "42  [12.266, 11.88, 11.09, 10.77, 10.2, 9.61, 9.07...                 1.2_1.4   \n",
       "43  [9.38, 9.39, 9.375, 9.375, 9.38, 9.33, 9.35, 9...                 1.2_1.4   \n",
       "44  [nan, nan, nan, nan, nan, nan, nan, nan, nan, ...                 1.4_2.1   \n",
       "45  [nan, nan, nan, nan, nan, nan, nan, nan, nan, ...                 1.2_2.2   \n",
       "\n",
       "   start_stop_frame  start_stop_timestamps  \\\n",
       "0        (0, 32299)       (1384, 32361438)   \n",
       "1    (32699, 68256)   (32717606, 68341384)   \n",
       "2        (0, 32299)       (1384, 32361438)   \n",
       "3    (32999, 68211)   (33062688, 68339998)   \n",
       "4    (33399, 68331)   (33423014, 68420378)   \n",
       "5        (0, 32999)       (1384, 33061302)   \n",
       "6        (0, 32999)       (1384, 33061302)   \n",
       "7    (33699, 68291)   (33762552, 68420378)   \n",
       "8    (32799, 44204)   (32773048, 44199536)   \n",
       "9        (0, 32199)         (-2, 32260270)   \n",
       "10       (0, 32199)         (-2, 32260270)   \n",
       "11   (41599, 75828)   (33529727, 68075297)   \n",
       "12       (0, 23573)   (44458694, 68075297)   \n",
       "13       (0, 31099)       (1383, 31158503)   \n",
       "14   (32099, 67368)   (32143856, 67479373)   \n",
       "15       (0, 31099)       (1383, 31158503)   \n",
       "16   (36099, 71643)   (31868068, 67479373)   \n",
       "17   (40999, 79049)   (41576085, 79698585)   \n",
       "18       (0, 39499)         (-2, 39573504)   \n",
       "19       (0, 39499)         (-2, 39573504)   \n",
       "20       (0, 32315)         (-2, 32376683)   \n",
       "21   (32791, 68493)   (32822933, 68592226)   \n",
       "22       (0, 32315)         (-2, 32376683)   \n",
       "23   (32791, 68493)   (32853422, 68593612)   \n",
       "24    (2026, 32238)    (2020596, 32289373)   \n",
       "25   (32859, 68286)   (32868666, 68362172)   \n",
       "26    (2026, 32238)    (2020596, 32289373)   \n",
       "27   (32859, 68286)   (32921329, 68364944)   \n",
       "28   (34999, 69765)   (34980732, 69811791)   \n",
       "29       (0, 33499)         (-2, 33561601)   \n",
       "30       (0, 73110)         (-2, 72055515)   \n",
       "31       (0, 73110)         (-2, 72055515)   \n",
       "32       (0, 72634)       (1384, 71765868)   \n",
       "33       (0, 73291)       (1384, 72424156)   \n",
       "34       (0, 73291)       (1384, 72424156)   \n",
       "35       (0, 31499)         (-2, 31668504)   \n",
       "36   (37499, 69198)   (36298694, 68192851)   \n",
       "37       (0, 31499)         (-2, 31668504)   \n",
       "38       (0, 31499)         (-2, 31559020)   \n",
       "39   (37999, 69883)   (36496873, 68439781)   \n",
       "40       (0, 31499)         (-2, 31559020)   \n",
       "41   (37499, 69802)   (36075569, 68439781)   \n",
       "42       (0, 32199)         (-2, 32260270)   \n",
       "43       (0, 32199)         (-3, 32260269)   \n",
       "44   (37999, 69949)   (36555078, 68565894)   \n",
       "45   (36499, 68591)   (36413721, 68565895)   \n",
       "\n",
       "                                            tone_mask  \n",
       "0   [True, True, True, True, True, True, True, Tru...  \n",
       "1   [False, False, False, False, False, False, Fal...  \n",
       "2   [True, True, True, True, True, True, True, Tru...  \n",
       "3   [True, True, True, True, True, True, True, Tru...  \n",
       "4   [False, False, False, False, False, False, Fal...  \n",
       "5   [True, True, True, True, True, True, True, Tru...  \n",
       "6   [True, True, True, True, True, True, True, Tru...  \n",
       "7   [True, True, True, True, True, True, True, Tru...  \n",
       "8   [False, False, False, False, False, False, Fal...  \n",
       "9   [True, True, True, True, True, True, True, Tru...  \n",
       "10  [True, True, True, True, True, True, True, Tru...  \n",
       "11  [True, True, True, True, True, True, True, Tru...  \n",
       "12  [True, True, True, True, True, True, True, Tru...  \n",
       "13  [True, True, True, True, True, True, True, Tru...  \n",
       "14  [False, False, False, False, False, False, Fal...  \n",
       "15  [True, True, True, True, True, True, True, Tru...  \n",
       "16  [True, True, True, True, True, True, True, Tru...  \n",
       "17  [False, False, False, False, False, False, Fal...  \n",
       "18  [True, True, True, True, True, True, True, Tru...  \n",
       "19  [True, True, True, True, True, True, True, Tru...  \n",
       "20  [True, True, True, True, True, True, True, Tru...  \n",
       "21  [False, False, False, False, False, False, Fal...  \n",
       "22  [True, True, True, True, True, True, True, Tru...  \n",
       "23  [True, True, True, True, True, True, True, Tru...  \n",
       "24  [True, True, True, True, True, True, True, Tru...  \n",
       "25  [False, False, False, False, False, False, Fal...  \n",
       "26  [True, True, True, True, True, True, True, Tru...  \n",
       "27  [True, True, True, True, True, True, True, Tru...  \n",
       "28  [False, False, False, False, False, False, Fal...  \n",
       "29  [True, True, True, True, True, True, True, Tru...  \n",
       "30  [True, True, True, True, True, True, True, Tru...  \n",
       "31  [True, True, True, True, True, True, True, Tru...  \n",
       "32  [True, True, True, True, True, True, True, Tru...  \n",
       "33  [True, True, True, True, True, True, True, Tru...  \n",
       "34  [True, True, True, True, True, True, True, Tru...  \n",
       "35  [True, True, True, True, True, True, True, Tru...  \n",
       "36  [False, False, False, False, False, False, Fal...  \n",
       "37  [True, True, True, True, True, True, True, Tru...  \n",
       "38  [True, True, True, True, True, True, True, Tru...  \n",
       "39  [False, False, False, False, False, False, Fal...  \n",
       "40  [True, True, True, True, True, True, True, Tru...  \n",
       "41  [True, True, True, True, True, True, True, Tru...  \n",
       "42  [True, True, True, True, True, True, True, Tru...  \n",
       "43  [True, True, True, True, True, True, True, Tru...  \n",
       "44  [False, False, False, False, False, False, Fal...  \n",
       "45  [True, True, True, True, True, True, True, Tru...  \n",
       "\n",
       "[46 rows x 180 columns]"
      ]
     },
     "execution_count": 49,
     "metadata": {},
     "output_type": "execute_result"
    }
   ],
   "source": [
    "TRIALS_AND_SPECTRAL_DF"
   ]
  },
  {
   "cell_type": "code",
   "execution_count": 48,
   "metadata": {},
   "outputs": [
    {
     "ename": "ValueError",
     "evalue": "",
     "output_type": "error",
     "traceback": [
      "\u001b[0;31m---------------------------------------------------------------------------\u001b[0m",
      "\u001b[0;31mValueError\u001b[0m                                Traceback (most recent call last)",
      "Cell \u001b[0;32mIn[48], line 1\u001b[0m\n\u001b[0;32m----> 1\u001b[0m \u001b[38;5;28;01mraise\u001b[39;00m \u001b[38;5;167;01mValueError\u001b[39;00m()\n",
      "\u001b[0;31mValueError\u001b[0m: "
     ]
    }
   ],
   "source": [
    "raise ValueError()"
   ]
  },
  {
   "cell_type": "code",
   "execution_count": null,
   "metadata": {
    "tags": []
   },
   "outputs": [],
   "source": [
    "TRIALS_AND_SPECTRAL_DF.head()"
   ]
  },
  {
   "cell_type": "code",
   "execution_count": null,
   "metadata": {
    "tags": []
   },
   "outputs": [],
   "source": [
    "TRIALS_AND_SPECTRAL_DF = TRIALS_AND_SPECTRAL_DF.drop(columns=[col for col in TRIALS_AND_SPECTRAL_DF if \"band\" in col], errors=\"ignore\")"
   ]
  },
  {
   "cell_type": "code",
   "execution_count": null,
   "metadata": {
    "tags": []
   },
   "outputs": [],
   "source": [
    "TRIALS_AND_SPECTRAL_DF = TRIALS_AND_SPECTRAL_DF.drop(columns=[col for col in TRIALS_AND_SPECTRAL_DF if \"phase\" in col], errors=\"ignore\")"
   ]
  },
  {
   "cell_type": "code",
   "execution_count": null,
   "metadata": {
    "tags": []
   },
   "outputs": [],
   "source": [
    "TRIALS_AND_SPECTRAL_DF = TRIALS_AND_SPECTRAL_DF.drop(columns=[col for col in TRIALS_AND_SPECTRAL_DF if \"windows\" in col], errors=\"ignore\")"
   ]
  },
  {
   "cell_type": "code",
   "execution_count": null,
   "metadata": {
    "tags": []
   },
   "outputs": [],
   "source": [
    "TRIALS_AND_SPECTRAL_DF = TRIALS_AND_SPECTRAL_DF.drop(columns=[col for col in TRIALS_AND_SPECTRAL_DF if \"theta\" in col], errors=\"ignore\")"
   ]
  },
  {
   "cell_type": "code",
   "execution_count": null,
   "metadata": {
    "tags": []
   },
   "outputs": [],
   "source": [
    "TRIALS_AND_SPECTRAL_DF = TRIALS_AND_SPECTRAL_DF.drop(columns=[col for col in TRIALS_AND_SPECTRAL_DF if \"gamma\" in col], errors=\"ignore\")"
   ]
  },
  {
   "cell_type": "code",
   "execution_count": null,
   "metadata": {
    "tags": []
   },
   "outputs": [],
   "source": [
    "for col in TRIALS_AND_SPECTRAL_DF:\n",
    "    print(col)"
   ]
  },
  {
   "cell_type": "code",
   "execution_count": null,
   "metadata": {
    "tags": []
   },
   "outputs": [],
   "source": [
    "TRIALS_AND_SPECTRAL_DF[\"tracked_subject\"] = TRIALS_AND_SPECTRAL_DF[\"tracked_subject\"].apply(lambda x: x[0]) "
   ]
  },
  {
   "cell_type": "code",
   "execution_count": null,
   "metadata": {
    "tags": []
   },
   "outputs": [],
   "source": [
    "TRIALS_AND_SPECTRAL_DF[\"box_number\"] = TRIALS_AND_SPECTRAL_DF[\"box_number\"].apply(lambda x: x[0]) "
   ]
  },
  {
   "cell_type": "code",
   "execution_count": null,
   "metadata": {
    "tags": []
   },
   "outputs": [],
   "source": [
    "TRIALS_AND_SPECTRAL_DF[\"experiment\"] = TRIALS_AND_SPECTRAL_DF[\"experiment\"].apply(lambda x: x[0]) "
   ]
  },
  {
   "cell_type": "code",
   "execution_count": null,
   "metadata": {
    "tags": []
   },
   "outputs": [],
   "source": [
    "TRIALS_AND_SPECTRAL_DF.iloc[:, :10].head()"
   ]
  },
  {
   "cell_type": "code",
   "execution_count": null,
   "metadata": {
    "tags": []
   },
   "outputs": [],
   "source": [
    "TRIALS_AND_SPECTRAL_DF.iloc[:, 10:20].head()"
   ]
  },
  {
   "cell_type": "code",
   "execution_count": null,
   "metadata": {
    "tags": []
   },
   "outputs": [],
   "source": [
    "TRIALS_AND_SPECTRAL_DF.iloc[:, 20:30].head()"
   ]
  },
  {
   "cell_type": "code",
   "execution_count": null,
   "metadata": {
    "tags": []
   },
   "outputs": [],
   "source": [
    "TRIALS_AND_SPECTRAL_DF.iloc[:, 30:40].head()"
   ]
  },
  {
   "cell_type": "code",
   "execution_count": null,
   "metadata": {
    "tags": []
   },
   "outputs": [],
   "source": [
    "TRIALS_AND_SPECTRAL_DF.iloc[:, 40:50].head()"
   ]
  },
  {
   "cell_type": "code",
   "execution_count": null,
   "metadata": {
    "tags": []
   },
   "outputs": [],
   "source": [
    "TRIALS_AND_SPECTRAL_DF.iloc[:, 50:60].head()"
   ]
  },
  {
   "cell_type": "code",
   "execution_count": null,
   "metadata": {},
   "outputs": [],
   "source": [
    "for col in sorted(sleap_columns):\n",
    "    updated_item_col = \"baseline_{}\".format(col)\n",
    "    print(updated_item_col)\n",
    "    updated_timestamp_col = \"baseline_video_timestamps\".format(col)\n",
    "    if \"agent\" in col:\n",
    "        TRIALS_AND_SPECTRAL_DF[updated_item_col] = TRIALS_AND_SPECTRAL_DF.apply(lambda x: utilities.helper.filter_by_timestamp_range(start=x[\"baseline_start_timestamp\"], stop=x[\"baseline_stop_timestamp\"], timestamps=x[\"video_timestamps\"], items=x[col])[1] if x[\"agent\"] else np.nan, axis=1)\n",
    "    else:\n",
    "        TRIALS_AND_SPECTRAL_DF[updated_item_col] = TRIALS_AND_SPECTRAL_DF.apply(lambda x: utilities.helper.filter_by_timestamp_range(start=x[\"baseline_start_timestamp\"], stop=x[\"baseline_stop_timestamp\"], timestamps=x[\"video_timestamps\"], items=x[col])[1], axis=1)\n",
    "\n",
    "TRIALS_AND_SPECTRAL_DF[updated_timestamp_col] = TRIALS_AND_SPECTRAL_DF.apply(lambda x: utilities.helper.filter_by_timestamp_range(start=x[\"baseline_start_timestamp\"], stop=x[\"baseline_stop_timestamp\"], timestamps=x[\"video_timestamps\"], items=x[col])[0], axis=1)"
   ]
  },
  {
   "cell_type": "code",
   "execution_count": null,
   "metadata": {
    "tags": []
   },
   "outputs": [],
   "source": [
    "TRIALS_AND_SPECTRAL_DF[\"video_timestamps\"]"
   ]
  },
  {
   "cell_type": "code",
   "execution_count": null,
   "metadata": {
    "tags": []
   },
   "outputs": [],
   "source": [
    "TRIALS_AND_SPECTRAL_DF.shape"
   ]
  },
  {
   "cell_type": "code",
   "execution_count": null,
   "metadata": {
    "tags": []
   },
   "outputs": [],
   "source": [
    "for vid in TRIALS_AND_SPECTRAL_DF[\"video_name\"]:\n",
    "    print(vid)"
   ]
  },
  {
   "cell_type": "code",
   "execution_count": null,
   "metadata": {
    "tags": []
   },
   "outputs": [],
   "source": [
    "raise ValueError()"
   ]
  },
  {
   "cell_type": "markdown",
   "metadata": {},
   "source": [
    "- Merging rows"
   ]
  },
  {
   "cell_type": "code",
   "execution_count": null,
   "metadata": {
    "tags": []
   },
   "outputs": [],
   "source": [
    "for vid in TRIALS_AND_SPECTRAL_DF[\"video_name\"]:\n",
    "    print(vid)"
   ]
  },
  {
   "cell_type": "code",
   "execution_count": null,
   "metadata": {
    "tags": []
   },
   "outputs": [],
   "source": [
    "for col in TRIALS_AND_SPECTRAL_DF:\n",
    "    print(col)"
   ]
  },
  {
   "cell_type": "code",
   "execution_count": null,
   "metadata": {
    "tags": []
   },
   "outputs": [],
   "source": [
    "drop_columns = [\"video_name\", \"tracked_subject\", \"box_number\", \"sleap_name\", \"start_frame\", \"stop_frame\", \"in_video_subjects\", \"current_tracked_subject\", \"start_stop_frame\"]"
   ]
  },
  {
   "cell_type": "code",
   "execution_count": null,
   "metadata": {
    "tags": []
   },
   "outputs": [],
   "source": [
    "TRIALS_AND_SPECTRAL_DF[drop_columns]"
   ]
  },
  {
   "cell_type": "code",
   "execution_count": null,
   "metadata": {
    "tags": []
   },
   "outputs": [],
   "source": [
    "aggregation_dict = {col:\"first\" for col in TRIALS_AND_SPECTRAL_DF if col not in ['subject_locations', \"current_subject\", \"session_dir\"]}"
   ]
  },
  {
   "cell_type": "code",
   "execution_count": null,
   "metadata": {
    "tags": []
   },
   "outputs": [],
   "source": [
    "aggregation_dict[\"subject_locations\"] = list"
   ]
  },
  {
   "cell_type": "code",
   "execution_count": null,
   "metadata": {
    "tags": []
   },
   "outputs": [],
   "source": [
    "TRIALS_AND_SPECTRAL_DF = TRIALS_AND_SPECTRAL_DF.groupby([\"current_subject\", \"session_dir\"]).agg(aggregation_dict).reset_index()"
   ]
  },
  {
   "cell_type": "code",
   "execution_count": null,
   "metadata": {
    "tags": []
   },
   "outputs": [],
   "source": [
    "TRIALS_AND_SPECTRAL_DF[drop_columns].head()"
   ]
  },
  {
   "cell_type": "code",
   "execution_count": null,
   "metadata": {},
   "outputs": [],
   "source": [
    "\n",
    "body_parts\n",
    "box_top_left\n",
    "box_top_right\n",
    "reward_port\n",
    "box_bottom_left\n",
    "box_bottom_right\n",
    "agent\n",
    "\n",
    "recording_name"
   ]
  },
  {
   "cell_type": "code",
   "execution_count": null,
   "metadata": {
    "tags": []
   },
   "outputs": [],
   "source": []
  },
  {
   "cell_type": "code",
   "execution_count": null,
   "metadata": {},
   "outputs": [],
   "source": [
    "agent_locations\n",
    "subject_thorax_velocity\n",
    "agent_thorax_velocity\n",
    "subject_thorax_to_reward_port\n",
    "agent_thorax_to_reward_port"
   ]
  },
  {
   "cell_type": "code",
   "execution_count": null,
   "metadata": {
    "tags": []
   },
   "outputs": [],
   "source": [
    "for col in TRIALS_AND_SPECTRAL_DF:\n",
    "    print(col)"
   ]
  },
  {
   "cell_type": "code",
   "execution_count": null,
   "metadata": {},
   "outputs": [],
   "source": [
    "raise ValueError()"
   ]
  },
  {
   "cell_type": "code",
   "execution_count": null,
   "metadata": {
    "tags": []
   },
   "outputs": [],
   "source": [
    "TRIALS_AND_SPECTRAL_DF"
   ]
  },
  {
   "cell_type": "code",
   "execution_count": null,
   "metadata": {
    "tags": []
   },
   "outputs": [],
   "source": [
    "def combine_grouped_rows(df, array_columns):\n",
    "    \"\"\"\n",
    "    Combine rows within groups of a DataFrame. Uses the `overlay_arrays` for specified columns\n",
    "    and takes the first instance for other columns.\n",
    "\n",
    "    Parameters:\n",
    "    - df (pd.DataFrame): DataFrame to process.\n",
    "    - array_columns (list): List of column names in `df` that contain array values to be combined using `overlay_arrays`.\n",
    "\n",
    "    Returns:\n",
    "    - pd.DataFrame: DataFrame after combining rows within groups.\n",
    "    \"\"\"\n",
    "    def custom_aggregator(x):\n",
    "        if x.name in array_columns:\n",
    "            # Reduce the column by overlaying arrays\n",
    "            return x.dropna().aggregate(lambda arrays: arrays.reduce(overlay_arrays))\n",
    "        else:\n",
    "            # For other columns, simply return the first element\n",
    "            return x.iloc[0]\n",
    "\n",
    "    # Apply the custom aggregator to each column individually\n",
    "    return df.groupby(df.index).aggregate(custom_aggregator)\n"
   ]
  },
  {
   "cell_type": "code",
   "execution_count": null,
   "metadata": {
    "tags": []
   },
   "outputs": [],
   "source": [
    "combine_grouped_rows(TRIALS_AND_SPECTRAL_DF, [\"subject_locations\"])"
   ]
  },
  {
   "cell_type": "code",
   "execution_count": null,
   "metadata": {
    "tags": []
   },
   "outputs": [],
   "source": [
    "TRIALS_AND_SPECTRAL_DF.head()"
   ]
  },
  {
   "cell_type": "code",
   "execution_count": null,
   "metadata": {
    "tags": []
   },
   "outputs": [],
   "source": [
    "overlay_arrays(TRIALS_AND_SPECTRAL_DF[\"subject_locations\"].iloc[0], TRIALS_AND_SPECTRAL_DF[\"subject_locations\"].iloc[1])"
   ]
  },
  {
   "cell_type": "code",
   "execution_count": null,
   "metadata": {
    "tags": []
   },
   "outputs": [],
   "source": [
    "TRIALS_AND_SPECTRAL_DF[\"subject_locations\"].iloc[0].shape"
   ]
  },
  {
   "cell_type": "code",
   "execution_count": null,
   "metadata": {
    "tags": []
   },
   "outputs": [],
   "source": [
    "example_arr.shape"
   ]
  },
  {
   "cell_type": "code",
   "execution_count": null,
   "metadata": {
    "tags": []
   },
   "outputs": [],
   "source": [
    "mask_slices(example_arr, (41000, 79050))"
   ]
  },
  {
   "cell_type": "code",
   "execution_count": null,
   "metadata": {},
   "outputs": [],
   "source": [
    "# Create a 2D array\n",
    "array_2d = np.array([[1, 2, 3], [4, 5, 6], [7, 8, 9]])\n",
    "\n",
    "# Slice definition for rows and columns\n",
    "row_start, row_end = 1, 3\n",
    "col_start, col_end = 0, 2\n",
    "\n",
    "# Create mask for rows and columns\n",
    "mask_2d = np.ones(array_2d.shape, dtype=bool)\n",
    "mask_2d[row_start:row_end, col_start:col_end] = False\n",
    "\n",
    "# Set values outside the defined slice to NaN\n",
    "array_2d[mask_2d] = np.nan\n",
    "\n",
    "print(array_2d)"
   ]
  },
  {
   "cell_type": "code",
   "execution_count": null,
   "metadata": {
    "tags": []
   },
   "outputs": [],
   "source": [
    "raise ValueError()"
   ]
  },
  {
   "cell_type": "code",
   "execution_count": null,
   "metadata": {
    "tags": []
   },
   "outputs": [],
   "source": [
    "for index, row in TRIALS_AND_SPECTRAL_DF.iterrows():\n",
    "    print(row[\"video_name\"])"
   ]
  },
  {
   "cell_type": "code",
   "execution_count": null,
   "metadata": {
    "tags": []
   },
   "outputs": [],
   "source": [
    "TRIALS_AND_SPECTRAL_DF.head()"
   ]
  },
  {
   "cell_type": "code",
   "execution_count": null,
   "metadata": {},
   "outputs": [],
   "source": [
    "raise ValueError()"
   ]
  },
  {
   "cell_type": "code",
   "execution_count": null,
   "metadata": {
    "tags": []
   },
   "outputs": [],
   "source": [
    "TRIALS_AND_SPECTRAL_DF = pd.merge(TRIAL_LABELS_DF, LFP_SPECTRAL_DF, on=[\"current_subject\", \"video_name\"], how=\"inner\", suffixes=('', '_y'))"
   ]
  },
  {
   "cell_type": "code",
   "execution_count": null,
   "metadata": {
    "tags": []
   },
   "outputs": [],
   "source": [
    "# TRIALS_AND_SPECTRAL_DF = TRIALS_AND_SPECTRAL_DF.drop(columns=[col for col in TRIALS_AND_SPECTRAL_DF.columns if \"trace\" in col], errors=\"ignore\")"
   ]
  },
  {
   "cell_type": "code",
   "execution_count": null,
   "metadata": {
    "tags": []
   },
   "outputs": [],
   "source": [
    "TRIALS_AND_SPECTRAL_DF = TRIALS_AND_SPECTRAL_DF.drop(columns=[col for col in TRIALS_AND_SPECTRAL_DF.columns if \"_y\" in col], errors=\"ignore\")"
   ]
  },
  {
   "cell_type": "code",
   "execution_count": null,
   "metadata": {
    "tags": []
   },
   "outputs": [],
   "source": [
    "TRIALS_AND_SPECTRAL_DF.head()"
   ]
  },
  {
   "cell_type": "code",
   "execution_count": null,
   "metadata": {
    "tags": []
   },
   "outputs": [],
   "source": [
    "TRIALS_AND_SPECTRAL_DF.columns"
   ]
  },
  {
   "cell_type": "code",
   "execution_count": null,
   "metadata": {},
   "outputs": [],
   "source": [
    "TRIALS_AND_SPECTRAL_DF"
   ]
  },
  {
   "cell_type": "markdown",
   "metadata": {},
   "source": [
    "# Calculating the relevant timestamps"
   ]
  },
  {
   "cell_type": "code",
   "execution_count": null,
   "metadata": {
    "tags": []
   },
   "outputs": [],
   "source": [
    "TRIALS_AND_SPECTRAL_DF[\"baseline_start_timestamp\"] = TRIALS_AND_SPECTRAL_DF[\"tone_start_timestamp\"] - 30 * 20000"
   ]
  },
  {
   "cell_type": "code",
   "execution_count": null,
   "metadata": {
    "tags": []
   },
   "outputs": [],
   "source": [
    "TRIALS_AND_SPECTRAL_DF[\"baseline_stop_timestamp\"] = TRIALS_AND_SPECTRAL_DF[\"tone_start_timestamp\"] - 20 * 20000"
   ]
  },
  {
   "cell_type": "code",
   "execution_count": null,
   "metadata": {
    "tags": []
   },
   "outputs": [],
   "source": [
    "TRIALS_AND_SPECTRAL_DF[\"baseline_start_timestamp\"].head()"
   ]
  },
  {
   "cell_type": "code",
   "execution_count": null,
   "metadata": {
    "tags": []
   },
   "outputs": [],
   "source": [
    "TRIALS_AND_SPECTRAL_DF[\"baseline_stop_timestamp\"].head()"
   ]
  },
  {
   "cell_type": "code",
   "execution_count": null,
   "metadata": {
    "tags": []
   },
   "outputs": [],
   "source": [
    "TRIALS_AND_SPECTRAL_DF[\"tone_start_timestamp\"].head()"
   ]
  },
  {
   "cell_type": "code",
   "execution_count": null,
   "metadata": {
    "tags": []
   },
   "outputs": [],
   "source": [
    "TRIALS_AND_SPECTRAL_DF[\"tone_stop_timestamp\"].head()"
   ]
  },
  {
   "cell_type": "code",
   "execution_count": null,
   "metadata": {},
   "outputs": [],
   "source": []
  },
  {
   "cell_type": "markdown",
   "metadata": {},
   "source": [
    "# Filtering out the SLEAP posed for during trials"
   ]
  },
  {
   "cell_type": "code",
   "execution_count": null,
   "metadata": {
    "tags": []
   },
   "outputs": [],
   "source": [
    "TRIALS_AND_SPECTRAL_DF[\"video_frame\"] = TRIALS_AND_SPECTRAL_DF[\"video_timestamps\"].apply(lambda x: np.array(list(range(len(x)))) + 1)"
   ]
  },
  {
   "cell_type": "code",
   "execution_count": null,
   "metadata": {
    "tags": []
   },
   "outputs": [],
   "source": [
    "TRIALS_AND_SPECTRAL_DF[\"video_frame\"].head()"
   ]
  },
  {
   "cell_type": "code",
   "execution_count": null,
   "metadata": {
    "tags": []
   },
   "outputs": [],
   "source": [
    "sleap_columns = [col for col in TRIALS_AND_SPECTRAL_DF.columns if \"locations\" in col or \"velocity\" in col or \"to_reward_port\" in col or \"video_frame\" in col]"
   ]
  },
  {
   "cell_type": "code",
   "execution_count": null,
   "metadata": {
    "tags": []
   },
   "outputs": [],
   "source": [
    "sleap_columns"
   ]
  },
  {
   "cell_type": "code",
   "execution_count": null,
   "metadata": {
    "tags": []
   },
   "outputs": [],
   "source": [
    "TRIALS_AND_SPECTRAL_DF[\"video_timestamps\"].iloc[0].shape"
   ]
  },
  {
   "cell_type": "code",
   "execution_count": null,
   "metadata": {
    "tags": []
   },
   "outputs": [],
   "source": [
    "TRIALS_AND_SPECTRAL_DF[\"video_frame\"].iloc[0].shape"
   ]
  },
  {
   "cell_type": "code",
   "execution_count": null,
   "metadata": {
    "tags": []
   },
   "outputs": [],
   "source": [
    "TRIALS_AND_SPECTRAL_DF[\"subject_thorax_to_reward_port\"].iloc[0].shape"
   ]
  },
  {
   "cell_type": "code",
   "execution_count": null,
   "metadata": {
    "tags": []
   },
   "outputs": [],
   "source": [
    "for col in sorted(sleap_columns):\n",
    "    updated_item_col = \"baseline_{}\".format(col)\n",
    "    print(updated_item_col)\n",
    "    updated_timestamp_col = \"baseline_video_timestamps\".format(col)\n",
    "    if \"agent\" in col:\n",
    "        TRIALS_AND_SPECTRAL_DF[updated_item_col] = TRIALS_AND_SPECTRAL_DF.apply(lambda x: utilities.helper.filter_by_timestamp_range(start=x[\"baseline_start_timestamp\"], stop=x[\"baseline_stop_timestamp\"], timestamps=x[\"video_timestamps\"], items=x[col])[1] if x[\"agent\"] else np.nan, axis=1)\n",
    "    else:\n",
    "        TRIALS_AND_SPECTRAL_DF[updated_item_col] = TRIALS_AND_SPECTRAL_DF.apply(lambda x: utilities.helper.filter_by_timestamp_range(start=x[\"baseline_start_timestamp\"], stop=x[\"baseline_stop_timestamp\"], timestamps=x[\"video_timestamps\"], items=x[col])[1], axis=1)\n",
    "\n",
    "TRIALS_AND_SPECTRAL_DF[updated_timestamp_col] = TRIALS_AND_SPECTRAL_DF.apply(lambda x: utilities.helper.filter_by_timestamp_range(start=x[\"baseline_start_timestamp\"], stop=x[\"baseline_stop_timestamp\"], timestamps=x[\"video_timestamps\"], items=x[col])[0], axis=1)"
   ]
  },
  {
   "cell_type": "code",
   "execution_count": null,
   "metadata": {
    "tags": []
   },
   "outputs": [],
   "source": [
    "for col in sorted(sleap_columns):\n",
    "    updated_item_col = \"trial_{}\".format(col)\n",
    "    print(updated_item_col)\n",
    "    updated_timestamp_col = \"trial_video_timestamps\".format(col)\n",
    "    if \"agent\" in col:\n",
    "        TRIALS_AND_SPECTRAL_DF[updated_item_col] = TRIALS_AND_SPECTRAL_DF.apply(lambda x: utilities.helper.filter_by_timestamp_range(start=x[\"tone_start_timestamp\"], stop=x[\"tone_stop_timestamp\"], timestamps=x[\"video_timestamps\"], items=x[col])[1] if x[\"agent\"] else np.nan, axis=1)\n",
    "    else:\n",
    "        TRIALS_AND_SPECTRAL_DF[updated_item_col] = TRIALS_AND_SPECTRAL_DF.apply(lambda x: utilities.helper.filter_by_timestamp_range(start=x[\"tone_start_timestamp\"], stop=x[\"tone_stop_timestamp\"], timestamps=x[\"video_timestamps\"], items=x[col])[1], axis=1)\n",
    "\n",
    "TRIALS_AND_SPECTRAL_DF[updated_timestamp_col] = TRIALS_AND_SPECTRAL_DF.apply(lambda x: utilities.helper.filter_by_timestamp_range(start=x[\"tone_start_timestamp\"], stop=x[\"tone_stop_timestamp\"], timestamps=x[\"video_timestamps\"], items=x[col])[0], axis=1)"
   ]
  },
  {
   "cell_type": "code",
   "execution_count": null,
   "metadata": {
    "tags": []
   },
   "outputs": [],
   "source": [
    "TRIALS_AND_SPECTRAL_DF[TRIALS_AND_SPECTRAL_DF[\"trial_subject_thorax_velocity\"].apply(lambda x: np.isnan(x).any())][\"baseline_subject_locations\"]"
   ]
  },
  {
   "cell_type": "code",
   "execution_count": null,
   "metadata": {
    "tags": []
   },
   "outputs": [],
   "source": [
    "TRIALS_AND_SPECTRAL_DF = TRIALS_AND_SPECTRAL_DF.drop(columns=sleap_columns + [\"video_timestamps\"], errors=\"ignore\")"
   ]
  },
  {
   "cell_type": "code",
   "execution_count": null,
   "metadata": {
    "tags": []
   },
   "outputs": [],
   "source": [
    "for col in TRIALS_AND_SPECTRAL_DF.columns:\n",
    "    print(col)"
   ]
  },
  {
   "cell_type": "markdown",
   "metadata": {},
   "source": [
    "- Filtering coherence"
   ]
  },
  {
   "cell_type": "code",
   "execution_count": null,
   "metadata": {
    "tags": []
   },
   "outputs": [],
   "source": [
    "coherence_columns = [col for col in TRIALS_AND_SPECTRAL_DF.columns if \"coherence\" in col and \"timestamps\" not in col and \"calculation\" not in col]"
   ]
  },
  {
   "cell_type": "code",
   "execution_count": null,
   "metadata": {
    "tags": []
   },
   "outputs": [],
   "source": [
    "coherence_columns"
   ]
  },
  {
   "cell_type": "code",
   "execution_count": null,
   "metadata": {
    "tags": []
   },
   "outputs": [],
   "source": [
    "for col in coherence_columns:\n",
    "    brain_region = col.replace(\"all_windows\", \"_\").strip(\"_\")\n",
    "    print(brain_region)\n",
    "    \n",
    "    updated_item_col = \"baseline_{}\".format(brain_region)\n",
    "    updated_timestamp_col = \"baseline_coherence_timestamps\".format(brain_region)\n",
    "    TRIALS_AND_SPECTRAL_DF[updated_item_col] = TRIALS_AND_SPECTRAL_DF.apply(lambda x: utilities.helper.filter_by_timestamp_range(start=x[\"baseline_start_timestamp\"], stop=x[\"baseline_stop_timestamp\"], timestamps=x[\"coherence_timestamps\"], items=x[col])[1], axis=1)\n",
    "TRIALS_AND_SPECTRAL_DF[updated_timestamp_col] = TRIALS_AND_SPECTRAL_DF.apply(lambda x: utilities.helper.filter_by_timestamp_range(start=x[\"baseline_start_timestamp\"], stop=x[\"baseline_stop_timestamp\"], timestamps=x[\"coherence_timestamps\"], items=x[col])[0], axis=1)"
   ]
  },
  {
   "cell_type": "code",
   "execution_count": null,
   "metadata": {
    "tags": []
   },
   "outputs": [],
   "source": [
    "for col in coherence_columns:\n",
    "    brain_region = col.replace(\"all_windows\", \"_\").strip(\"_\")\n",
    "    print(brain_region)\n",
    "    \n",
    "    updated_item_col = \"trial_{}\".format(brain_region)\n",
    "    updated_timestamp_col = \"trial_coherence_timestamps\".format(brain_region)\n",
    "    TRIALS_AND_SPECTRAL_DF[updated_item_col] = TRIALS_AND_SPECTRAL_DF.apply(lambda x: utilities.helper.filter_by_timestamp_range(start=x[\"tone_start_timestamp\"], stop=x[\"tone_stop_timestamp\"], timestamps=x[\"coherence_timestamps\"], items=x[col])[1], axis=1)\n",
    "TRIALS_AND_SPECTRAL_DF[updated_timestamp_col] = TRIALS_AND_SPECTRAL_DF.apply(lambda x: utilities.helper.filter_by_timestamp_range(start=x[\"tone_start_timestamp\"], stop=x[\"tone_stop_timestamp\"], timestamps=x[\"coherence_timestamps\"], items=x[col])[0], axis=1)"
   ]
  },
  {
   "cell_type": "code",
   "execution_count": null,
   "metadata": {
    "tags": []
   },
   "outputs": [],
   "source": [
    "TRIALS_AND_SPECTRAL_DF = TRIALS_AND_SPECTRAL_DF.drop(columns=coherence_columns + [\"coherence_timestamps\"], errors=\"ignore\")"
   ]
  },
  {
   "cell_type": "markdown",
   "metadata": {},
   "source": [
    "- Filtering Grangers"
   ]
  },
  {
   "cell_type": "code",
   "execution_count": null,
   "metadata": {
    "tags": []
   },
   "outputs": [],
   "source": [
    "granger_columns = [col for col in TRIALS_AND_SPECTRAL_DF.columns if \"granger\" in col and \"timestamps\" not in col and \"calculation\" not in col]"
   ]
  },
  {
   "cell_type": "code",
   "execution_count": null,
   "metadata": {
    "tags": []
   },
   "outputs": [],
   "source": [
    "granger_columns"
   ]
  },
  {
   "cell_type": "code",
   "execution_count": null,
   "metadata": {
    "tags": []
   },
   "outputs": [],
   "source": [
    "for col in granger_columns:\n",
    "    brain_region = col.replace(\"all_windows\", \"_\").strip(\"_\")\n",
    "    print(brain_region)\n",
    "    \n",
    "    updated_item_col = \"baseline_{}\".format(brain_region)\n",
    "    updated_timestamp_col = \"baseline_granger_timestamps\".format(brain_region)\n",
    "    TRIALS_AND_SPECTRAL_DF[updated_item_col] = TRIALS_AND_SPECTRAL_DF.apply(lambda x: utilities.helper.filter_by_timestamp_range(start=x[\"baseline_start_timestamp\"], stop=x[\"baseline_stop_timestamp\"], timestamps=x[\"granger_timestamps\"], items=x[col])[1], axis=1)\n",
    "TRIALS_AND_SPECTRAL_DF[updated_timestamp_col] = TRIALS_AND_SPECTRAL_DF.apply(lambda x: utilities.helper.filter_by_timestamp_range(start=x[\"baseline_start_timestamp\"], stop=x[\"baseline_stop_timestamp\"], timestamps=x[\"granger_timestamps\"], items=x[col])[0], axis=1)"
   ]
  },
  {
   "cell_type": "code",
   "execution_count": null,
   "metadata": {
    "tags": []
   },
   "outputs": [],
   "source": [
    "for col in granger_columns:\n",
    "    brain_region = col.replace(\"all_windows\", \"_\").strip(\"_\")\n",
    "    print(brain_region)\n",
    "    \n",
    "    updated_item_col = \"trial_{}\".format(brain_region)\n",
    "    updated_timestamp_col = \"trial_granger_timestamps\".format(brain_region)\n",
    "    TRIALS_AND_SPECTRAL_DF[updated_item_col] = TRIALS_AND_SPECTRAL_DF.apply(lambda x: utilities.helper.filter_by_timestamp_range(start=x[\"tone_start_timestamp\"], stop=x[\"tone_stop_timestamp\"], timestamps=x[\"granger_timestamps\"], items=x[col])[1], axis=1)\n",
    "TRIALS_AND_SPECTRAL_DF[updated_timestamp_col] = TRIALS_AND_SPECTRAL_DF.apply(lambda x: utilities.helper.filter_by_timestamp_range(start=x[\"tone_start_timestamp\"], stop=x[\"tone_stop_timestamp\"], timestamps=x[\"granger_timestamps\"], items=x[col])[0], axis=1)"
   ]
  },
  {
   "cell_type": "code",
   "execution_count": null,
   "metadata": {
    "tags": []
   },
   "outputs": [],
   "source": [
    "TRIALS_AND_SPECTRAL_DF = TRIALS_AND_SPECTRAL_DF.drop(columns=granger_columns + [\"granger_timestamps\"], errors=\"ignore\")"
   ]
  },
  {
   "cell_type": "code",
   "execution_count": null,
   "metadata": {},
   "outputs": [],
   "source": [
    "TRIALS_AND_SPECTRAL_DF.to_pickle(os.path.join(OUTPUT_DIR, FULL_LFP_TRACES_PKL))"
   ]
  },
  {
   "cell_type": "markdown",
   "metadata": {},
   "source": [
    "- Filtering power"
   ]
  },
  {
   "cell_type": "code",
   "execution_count": null,
   "metadata": {},
   "outputs": [],
   "source": [
    "TRIALS_AND_SPECTRAL_DF.head()"
   ]
  },
  {
   "cell_type": "code",
   "execution_count": null,
   "metadata": {
    "tags": []
   },
   "outputs": [],
   "source": [
    "power_columns = [col for col in TRIALS_AND_SPECTRAL_DF.columns if \"power\" in col and \"timestamps\" not in col and \"calculation\" not in col]"
   ]
  },
  {
   "cell_type": "code",
   "execution_count": null,
   "metadata": {
    "tags": []
   },
   "outputs": [],
   "source": [
    "power_columns"
   ]
  },
  {
   "cell_type": "code",
   "execution_count": null,
   "metadata": {
    "tags": []
   },
   "outputs": [],
   "source": [
    "for col in power_columns:\n",
    "    brain_region = col.replace(\"all_windows\", \"_\").strip(\"_\")\n",
    "    print(brain_region)\n",
    "    \n",
    "    updated_item_col = \"baseline_{}\".format(brain_region)\n",
    "    updated_timestamp_col = \"baseline_power_timestamps\".format(brain_region)\n",
    "    TRIALS_AND_SPECTRAL_DF[updated_item_col] = TRIALS_AND_SPECTRAL_DF.apply(lambda x: utilities.helper.filter_by_timestamp_range(start=x[\"baseline_start_timestamp\"], stop=x[\"baseline_stop_timestamp\"], timestamps=x[\"power_timestamps\"], items=x[col])[1], axis=1)\n",
    "TRIALS_AND_SPECTRAL_DF[updated_timestamp_col] = TRIALS_AND_SPECTRAL_DF.apply(lambda x: utilities.helper.filter_by_timestamp_range(start=x[\"baseline_start_timestamp\"], stop=x[\"baseline_stop_timestamp\"], timestamps=x[\"power_timestamps\"], items=x[col])[0], axis=1)"
   ]
  },
  {
   "cell_type": "code",
   "execution_count": null,
   "metadata": {
    "tags": []
   },
   "outputs": [],
   "source": [
    "for col in power_columns:\n",
    "    brain_region = col.replace(\"all_windows\", \"_\").strip(\"_\")\n",
    "    print(brain_region)\n",
    "    \n",
    "    updated_item_col = \"trial_{}\".format(brain_region)\n",
    "    updated_timestamp_col = \"trial_power_timestamps\".format(brain_region)\n",
    "    TRIALS_AND_SPECTRAL_DF[updated_item_col] = TRIALS_AND_SPECTRAL_DF.apply(lambda x: utilities.helper.filter_by_timestamp_range(start=x[\"tone_start_timestamp\"], stop=x[\"tone_stop_timestamp\"], timestamps=x[\"power_timestamps\"], items=x[col])[1], axis=1)\n",
    "TRIALS_AND_SPECTRAL_DF[updated_timestamp_col] = TRIALS_AND_SPECTRAL_DF.apply(lambda x: utilities.helper.filter_by_timestamp_range(start=x[\"tone_start_timestamp\"], stop=x[\"tone_stop_timestamp\"], timestamps=x[\"power_timestamps\"], items=x[col])[0], axis=1)"
   ]
  },
  {
   "cell_type": "code",
   "execution_count": null,
   "metadata": {
    "tags": []
   },
   "outputs": [],
   "source": [
    "TRIALS_AND_SPECTRAL_DF[\"baseline_power_timestamps\"]"
   ]
  },
  {
   "cell_type": "code",
   "execution_count": null,
   "metadata": {
    "tags": []
   },
   "outputs": [],
   "source": [
    "TRIALS_AND_SPECTRAL_DF = TRIALS_AND_SPECTRAL_DF.drop(columns=power_columns + [\"power_timestamps\"], errors=\"ignore\")"
   ]
  },
  {
   "cell_type": "code",
   "execution_count": null,
   "metadata": {
    "tags": []
   },
   "outputs": [],
   "source": [
    "for col in TRIALS_AND_SPECTRAL_DF:\n",
    "    print(col)"
   ]
  },
  {
   "cell_type": "markdown",
   "metadata": {
    "tags": []
   },
   "source": [
    "# Filtering out phase"
   ]
  },
  {
   "cell_type": "code",
   "execution_count": null,
   "metadata": {
    "tags": []
   },
   "outputs": [],
   "source": [
    "lfp_columns = [col for col in TRIALS_AND_SPECTRAL_DF.columns if \"trace\" in col and \"timestamps\" not in col and \"calculation\" not in col]"
   ]
  },
  {
   "cell_type": "code",
   "execution_count": null,
   "metadata": {
    "tags": []
   },
   "outputs": [],
   "source": [
    "band_columns = [col for col in TRIALS_AND_SPECTRAL_DF.columns if \"band\" in col and \"timestamps\" not in col and \"calculation\" not in col]"
   ]
  },
  {
   "cell_type": "code",
   "execution_count": null,
   "metadata": {
    "tags": []
   },
   "outputs": [],
   "source": [
    "phase_columns = [col for col in TRIALS_AND_SPECTRAL_DF.columns if \"phase\" in col and \"timestamps\" not in col and \"calculation\" not in col]"
   ]
  },
  {
   "cell_type": "code",
   "execution_count": null,
   "metadata": {
    "tags": []
   },
   "outputs": [],
   "source": [
    "phase_columns = phase_columns + band_columns +lfp_columns"
   ]
  },
  {
   "cell_type": "code",
   "execution_count": null,
   "metadata": {
    "tags": []
   },
   "outputs": [],
   "source": [
    "phase_columns"
   ]
  },
  {
   "cell_type": "code",
   "execution_count": null,
   "metadata": {
    "tags": []
   },
   "outputs": [],
   "source": [
    "for col in phase_columns:\n",
    "    brain_region = col.replace(\"all_windows\", \"_\").strip(\"_\")\n",
    "    print(brain_region)\n",
    "    \n",
    "    updated_item_col = \"baseline_{}\".format(brain_region)\n",
    "    updated_timestamp_col = \"baseline_lfp_timestamps\".format(brain_region)\n",
    "    TRIALS_AND_SPECTRAL_DF[updated_item_col] = TRIALS_AND_SPECTRAL_DF.apply(lambda x: utilities.helper.filter_by_timestamp_range(start=x[\"baseline_start_timestamp\"], stop=x[\"baseline_stop_timestamp\"], timestamps=x[\"lfp_timestamps\"], items=x[col])[1], axis=1)\n",
    "TRIALS_AND_SPECTRAL_DF[updated_timestamp_col] = TRIALS_AND_SPECTRAL_DF.apply(lambda x: utilities.helper.filter_by_timestamp_range(start=x[\"baseline_start_timestamp\"], stop=x[\"baseline_stop_timestamp\"], timestamps=x[\"lfp_timestamps\"], items=x[col])[0], axis=1)"
   ]
  },
  {
   "cell_type": "code",
   "execution_count": null,
   "metadata": {
    "tags": []
   },
   "outputs": [],
   "source": [
    "for col in phase_columns:\n",
    "    brain_region = col.replace(\"all_windows\", \"_\").strip(\"_\")\n",
    "    print(brain_region)\n",
    "    \n",
    "    updated_item_col = \"trial_{}\".format(brain_region)\n",
    "    updated_timestamp_col = \"trial_lfp_timestamps\".format(brain_region)\n",
    "    TRIALS_AND_SPECTRAL_DF[updated_item_col] = TRIALS_AND_SPECTRAL_DF.apply(lambda x: utilities.helper.filter_by_timestamp_range(start=x[\"tone_start_timestamp\"], stop=x[\"tone_stop_timestamp\"], timestamps=x[\"lfp_timestamps\"], items=x[col])[1], axis=1)\n",
    "TRIALS_AND_SPECTRAL_DF[updated_timestamp_col] = TRIALS_AND_SPECTRAL_DF.apply(lambda x: utilities.helper.filter_by_timestamp_range(start=x[\"tone_start_timestamp\"], stop=x[\"tone_stop_timestamp\"], timestamps=x[\"lfp_timestamps\"], items=x[col])[0], axis=1)"
   ]
  },
  {
   "cell_type": "code",
   "execution_count": null,
   "metadata": {
    "tags": []
   },
   "outputs": [],
   "source": [
    "TRIALS_AND_SPECTRAL_DF[\"baseline_lfp_timestamps\"]"
   ]
  },
  {
   "cell_type": "code",
   "execution_count": null,
   "metadata": {
    "tags": []
   },
   "outputs": [],
   "source": [
    "TRIALS_AND_SPECTRAL_DF = TRIALS_AND_SPECTRAL_DF.drop(columns=phase_columns + [\"lfp_timestamps\"], errors=\"ignore\")"
   ]
  },
  {
   "cell_type": "code",
   "execution_count": null,
   "metadata": {
    "tags": []
   },
   "outputs": [],
   "source": [
    "TRIALS_AND_SPECTRAL_DF.to_pickle(os.path.join(OUTPUT_DIR, FULL_LFP_TRACES_PKL))"
   ]
  },
  {
   "cell_type": "code",
   "execution_count": null,
   "metadata": {
    "tags": []
   },
   "outputs": [],
   "source": [
    "for col in TRIALS_AND_SPECTRAL_DF:\n",
    "    print(col)"
   ]
  },
  {
   "cell_type": "markdown",
   "metadata": {},
   "source": [
    "# Filtering out spikes"
   ]
  },
  {
   "cell_type": "code",
   "execution_count": null,
   "metadata": {
    "tags": []
   },
   "outputs": [],
   "source": [
    "TRIALS_AND_SPECTRAL_DF[\"baseline_spike_times\"] = TRIALS_AND_SPECTRAL_DF.apply(lambda x: filter_spike_times(x[\"spike_times\"], start=x[\"baseline_start_timestamp\"], stop=x[\"baseline_stop_timestamp\"]).astype(int), axis=1)\n"
   ]
  },
  {
   "cell_type": "code",
   "execution_count": null,
   "metadata": {
    "tags": []
   },
   "outputs": [],
   "source": [
    "TRIALS_AND_SPECTRAL_DF[\"trial_spike_times\"] = TRIALS_AND_SPECTRAL_DF.apply(lambda x: filter_spike_times(x[\"spike_times\"], start=x[\"tone_start_timestamp\"], stop=x[\"tone_stop_timestamp\"]).astype(int), axis=1)\n"
   ]
  },
  {
   "cell_type": "code",
   "execution_count": null,
   "metadata": {
    "tags": []
   },
   "outputs": [],
   "source": [
    "TRIALS_AND_SPECTRAL_DF[\"baseline_start_timestamp\"].head()"
   ]
  },
  {
   "cell_type": "code",
   "execution_count": null,
   "metadata": {
    "tags": []
   },
   "outputs": [],
   "source": [
    "TRIALS_AND_SPECTRAL_DF[\"baseline_stop_timestamp\"].head()"
   ]
  },
  {
   "cell_type": "code",
   "execution_count": null,
   "metadata": {
    "tags": []
   },
   "outputs": [],
   "source": [
    "TRIALS_AND_SPECTRAL_DF[\"baseline_spike_times\"].iloc[0]"
   ]
  },
  {
   "cell_type": "code",
   "execution_count": null,
   "metadata": {
    "tags": []
   },
   "outputs": [],
   "source": [
    "TRIALS_AND_SPECTRAL_DF[\"baseline_neuron_average_fr\"] = TRIALS_AND_SPECTRAL_DF.apply(lambda x: utilities.helper.filter_by_timestamp_range(start=x[\"baseline_start_timestamp\"], stop=x[\"baseline_stop_timestamp\"], timestamps=x[\"neuron_average_timestamps\"], items=x[\"neuron_average_fr\"].T)[1], axis=1)\n",
    "TRIALS_AND_SPECTRAL_DF[\"baseline_neuron_average_timestamp\"] = TRIALS_AND_SPECTRAL_DF.apply(lambda x: utilities.helper.filter_by_timestamp_range(start=x[\"baseline_start_timestamp\"], stop=x[\"baseline_stop_timestamp\"], timestamps=x[\"neuron_average_timestamps\"], items=x[\"neuron_average_fr\"].T)[0], axis=1)"
   ]
  },
  {
   "cell_type": "code",
   "execution_count": null,
   "metadata": {
    "tags": []
   },
   "outputs": [],
   "source": [
    "TRIALS_AND_SPECTRAL_DF[\"trial_neuron_average_fr\"] = TRIALS_AND_SPECTRAL_DF.apply(lambda x: utilities.helper.filter_by_timestamp_range(start=x[\"tone_start_timestamp\"], stop=x[\"tone_stop_timestamp\"], timestamps=x[\"neuron_average_timestamps\"], items=x[\"neuron_average_fr\"].T)[1].T, axis=1)\n",
    "TRIALS_AND_SPECTRAL_DF[\"trial_neuron_average_timestamp\"] = TRIALS_AND_SPECTRAL_DF.apply(lambda x: utilities.helper.filter_by_timestamp_range(start=x[\"tone_start_timestamp\"], stop=x[\"tone_stop_timestamp\"], timestamps=x[\"neuron_average_timestamps\"], items=x[\"neuron_average_fr\"].T)[0], axis=1)"
   ]
  },
  {
   "cell_type": "code",
   "execution_count": null,
   "metadata": {
    "tags": []
   },
   "outputs": [],
   "source": [
    "TRIALS_AND_SPECTRAL_DF = TRIALS_AND_SPECTRAL_DF.drop(columns=[\"spike_clusters\", \"spike_times\", \"neuron_average_fr\", \"neuron_average_timestamps\",], errors=\"ignore\")"
   ]
  },
  {
   "cell_type": "code",
   "execution_count": null,
   "metadata": {
    "tags": []
   },
   "outputs": [],
   "source": [
    "TRIALS_AND_SPECTRAL_DF[\"trial_neuron_average_fr\"].iloc[0].shape"
   ]
  },
  {
   "cell_type": "code",
   "execution_count": null,
   "metadata": {
    "tags": []
   },
   "outputs": [],
   "source": [
    "TRIALS_AND_SPECTRAL_DF[\"trial_neuron_average_timestamp\"].iloc[0].shape"
   ]
  },
  {
   "cell_type": "markdown",
   "metadata": {},
   "source": [
    "# Filtering for rows that are in the video"
   ]
  },
  {
   "cell_type": "code",
   "execution_count": null,
   "metadata": {
    "tags": []
   },
   "outputs": [],
   "source": [
    "TRIALS_AND_SPECTRAL_DF[\"in_video\"] = TRIALS_AND_SPECTRAL_DF.apply(lambda x: x[\"start_frame\"] <= x[\"trial_video_frame\"][0] <= x[\"stop_frame\"], axis=1)"
   ]
  },
  {
   "cell_type": "code",
   "execution_count": null,
   "metadata": {
    "tags": []
   },
   "outputs": [],
   "source": [
    "TRIALS_AND_SPECTRAL_DF = TRIALS_AND_SPECTRAL_DF[TRIALS_AND_SPECTRAL_DF[\"in_video\"]].reset_index()"
   ]
  },
  {
   "cell_type": "code",
   "execution_count": null,
   "metadata": {
    "tags": []
   },
   "outputs": [],
   "source": [
    "TRIALS_AND_SPECTRAL_DF"
   ]
  },
  {
   "cell_type": "code",
   "execution_count": null,
   "metadata": {
    "tags": []
   },
   "outputs": [],
   "source": [
    "TRIALS_AND_SPECTRAL_DF.to_pickle(os.path.join(OUTPUT_DIR, FULL_LFP_TRACES_PKL))"
   ]
  },
  {
   "cell_type": "code",
   "execution_count": null,
   "metadata": {},
   "outputs": [],
   "source": [
    "raise ValueError()"
   ]
  },
  {
   "cell_type": "code",
   "execution_count": null,
   "metadata": {},
   "outputs": [],
   "source": []
  }
 ],
 "metadata": {
  "deepnote": {},
  "deepnote_execution_queue": [],
  "deepnote_notebook_id": "cf8fe3695d074ee7887fdf6459cbf5ce",
  "kernelspec": {
   "display_name": "spike_interface_0_99_0",
   "language": "python",
   "name": "spike_interface_0_99_0"
  },
  "language_info": {
   "codemirror_mode": {
    "name": "ipython",
    "version": 3
   },
   "file_extension": ".py",
   "mimetype": "text/x-python",
   "name": "python",
   "nbconvert_exporter": "python",
   "pygments_lexer": "ipython3",
   "version": "3.10.13"
  }
 },
 "nbformat": 4,
 "nbformat_minor": 4
}
