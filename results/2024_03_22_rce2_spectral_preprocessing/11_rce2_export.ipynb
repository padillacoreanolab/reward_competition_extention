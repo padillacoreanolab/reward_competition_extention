{
 "cells": [
  {
   "cell_type": "markdown",
   "metadata": {
    "cell_id": "c3a02adc9e884466bc8c79db549cc3d2",
    "deepnote_cell_type": "text-cell-h1",
    "formattedRanges": [
     {
      "fromCodePoint": 0,
      "marks": {
       "bold": true,
       "underline": true
      },
      "toCodePoint": 17,
      "type": "marks"
     }
    ]
   },
   "source": [
    "# All oscillation analysis"
   ]
  },
  {
   "cell_type": "markdown",
   "metadata": {
    "cell_id": "4546bee655b14a5dbf393161f1228e60",
    "deepnote_cell_type": "text-cell-p",
    "formattedRanges": []
   },
   "source": [
    "Brief 1-2 sentence description of notebook."
   ]
  },
  {
   "cell_type": "code",
   "execution_count": null,
   "metadata": {},
   "outputs": [],
   "source": []
  },
  {
   "cell_type": "code",
   "execution_count": 1,
   "metadata": {
    "tags": []
   },
   "outputs": [],
   "source": [
    "# Imports of all used packages and libraries\n",
    "import sys\n",
    "import os\n",
    "import git\n",
    "import glob\n",
    "from collections import defaultdict"
   ]
  },
  {
   "cell_type": "code",
   "execution_count": 2,
   "metadata": {
    "tags": []
   },
   "outputs": [],
   "source": [
    "git_repo = git.Repo(\".\", search_parent_directories=True)\n",
    "git_root = git_repo.git.rev_parse(\"--show-toplevel\")"
   ]
  },
  {
   "cell_type": "code",
   "execution_count": 3,
   "metadata": {
    "tags": []
   },
   "outputs": [
    {
     "data": {
      "text/plain": [
       "'/blue/npadillacoreano/ryoi360/projects/reward_comp/repos/reward_competition_extention'"
      ]
     },
     "execution_count": 3,
     "metadata": {},
     "output_type": "execute_result"
    }
   ],
   "source": [
    "git_root"
   ]
  },
  {
   "cell_type": "code",
   "execution_count": 4,
   "metadata": {
    "tags": []
   },
   "outputs": [],
   "source": [
    "sys.path.insert(0, os.path.join(git_root, 'src'))"
   ]
  },
  {
   "cell_type": "code",
   "execution_count": 5,
   "metadata": {
    "tags": []
   },
   "outputs": [],
   "source": [
    "import warnings\n",
    "warnings.filterwarnings('ignore')"
   ]
  },
  {
   "cell_type": "code",
   "execution_count": 6,
   "metadata": {
    "tags": []
   },
   "outputs": [],
   "source": [
    "import os\n",
    "import collections\n",
    "import itertools\n",
    "from collections import defaultdict\n",
    "from itertools import combinations"
   ]
  },
  {
   "cell_type": "raw",
   "metadata": {},
   "source": [
    "os.environ[\"SPECTRAL_CONNECTIVITY_ENABLE_GPU\"] = \"true\"\n",
    "import cupy as cp"
   ]
  },
  {
   "cell_type": "code",
   "execution_count": 7,
   "metadata": {
    "cell_id": "03b495cefa6a4798a44c7f2e4c6a3ea7",
    "deepnote_cell_type": "code",
    "deepnote_to_be_reexecuted": false,
    "execution_millis": 21,
    "execution_start": 1691424003626,
    "source_hash": null,
    "tags": []
   },
   "outputs": [],
   "source": [
    "# Imports of all used packages and libraries\n",
    "import numpy as np\n",
    "import pandas as pd\n",
    "from scipy import stats\n",
    "from scipy.stats import mannwhitneyu\n"
   ]
  },
  {
   "cell_type": "code",
   "execution_count": 8,
   "metadata": {
    "tags": []
   },
   "outputs": [],
   "source": [
    "import matplotlib\n",
    "import matplotlib.colors as mcolors\n",
    "import matplotlib.pyplot as plt\n",
    "import matplotlib.cm as cm\n",
    "import seaborn as sns\n",
    "import colorsys"
   ]
  },
  {
   "cell_type": "code",
   "execution_count": 9,
   "metadata": {
    "tags": []
   },
   "outputs": [],
   "source": [
    "from sklearn.metrics import confusion_matrix"
   ]
  },
  {
   "cell_type": "code",
   "execution_count": 10,
   "metadata": {
    "tags": []
   },
   "outputs": [],
   "source": [
    "from spectral_connectivity import Multitaper, Connectivity\n",
    "import spectral_connectivity"
   ]
  },
  {
   "cell_type": "code",
   "execution_count": 11,
   "metadata": {
    "tags": []
   },
   "outputs": [],
   "source": [
    "import utilities.helper\n",
    "import trodes.read_exported"
   ]
  },
  {
   "cell_type": "code",
   "execution_count": 12,
   "metadata": {
    "tags": []
   },
   "outputs": [],
   "source": [
    "FONTSIZE = 20"
   ]
  },
  {
   "cell_type": "code",
   "execution_count": 13,
   "metadata": {
    "tags": []
   },
   "outputs": [],
   "source": [
    "font = {'weight' : 'medium',\n",
    "        'size'   : 20}\n",
    "\n",
    "matplotlib.rc('font', **font)"
   ]
  },
  {
   "cell_type": "markdown",
   "metadata": {
    "cell_id": "d290bac2c17940bfbc0f9296beaf70e5",
    "deepnote_cell_type": "text-cell-h2",
    "formattedRanges": []
   },
   "source": [
    "## Inputs & Data"
   ]
  },
  {
   "cell_type": "markdown",
   "metadata": {
    "cell_id": "e528ce19c608425292151930d380f49f",
    "deepnote_cell_type": "text-cell-p",
    "formattedRanges": []
   },
   "source": [
    "Explanation of each input and where it comes from."
   ]
  },
  {
   "cell_type": "code",
   "execution_count": 14,
   "metadata": {
    "tags": []
   },
   "outputs": [],
   "source": [
    " COMP_CLOSENESS_DICT = {'Subj 1 blocking Subj 2': \"competitive\",\n",
    "'Subj 2 Only': \"no_comp\",\n",
    "'Subj 2 blocking Subj 1': \"competitive\",\n",
    "'Subj 1 then Subj 2': \"competitive\", \n",
    "'Subj 1 Only': \"no_comp\",\n",
    "'Subj 2 then Subj 1': \"competitive\",\n",
    "'Close Call': \"competitive\",\n",
    "'After trial': \"no_comp\"}"
   ]
  },
  {
   "cell_type": "code",
   "execution_count": 15,
   "metadata": {
    "cell_id": "6cf83a5811054461a718a71673d09aab",
    "deepnote_cell_type": "code",
    "deepnote_to_be_reexecuted": false,
    "execution_millis": 373,
    "execution_start": 1691424003628,
    "source_hash": null,
    "tags": []
   },
   "outputs": [],
   "source": [
    "# Inputs and Required data loading\n",
    "# input varaible names are in all caps snake case\n",
    "# Whenever an input changes or is used for processing \n",
    "# the vairables are all lower in snake case\n",
    "OUTPUT_DIR = r\"./proc/\" # where data is saved should always be shown in the inputs\n",
    "os.makedirs(OUTPUT_DIR, exist_ok=True)\n",
    "OUTPUT_PREFIX = \"rce_pilot_2\""
   ]
  },
  {
   "cell_type": "code",
   "execution_count": 16,
   "metadata": {
    "tags": []
   },
   "outputs": [],
   "source": [
    "TRIAL_LABELS_DF = pd.read_excel(\"./proc/rce2_finalized_trial_labels.xlsx\")"
   ]
  },
  {
   "cell_type": "code",
   "execution_count": 17,
   "metadata": {},
   "outputs": [],
   "source": [
    "LFP_SPECTRAL_DF = pd.read_pickle(\"./proc/rce_pilot_2_05_lfp_spectral_sleap_spikes.pkl\")"
   ]
  },
  {
   "cell_type": "code",
   "execution_count": 18,
   "metadata": {
    "tags": []
   },
   "outputs": [],
   "source": [
    "LFP_SPECTRAL_DF[\"video_name\"] = LFP_SPECTRAL_DF[\"video_name\"].apply(lambda x: x.strip(\".videoTimeStamps.cameraHWSync\"))\n",
    "LFP_SPECTRAL_DF[\"current_subject\"] = LFP_SPECTRAL_DF[\"current_subject\"].astype(str)"
   ]
  },
  {
   "cell_type": "code",
   "execution_count": 19,
   "metadata": {},
   "outputs": [],
   "source": [
    "TRIAL_LABELS_DF[\"current_subject\"] = TRIAL_LABELS_DF[\"current_subject\"].astype(str)\n",
    "TRIAL_LABELS_DF[\"competition_closeness\"] = TRIAL_LABELS_DF[\"competition_closeness\"].map(COMP_CLOSENESS_DICT)"
   ]
  },
  {
   "cell_type": "markdown",
   "metadata": {
    "cell_id": "e3ee4891d43a4ac287413afc552ca289",
    "deepnote_cell_type": "text-cell-h2",
    "formattedRanges": []
   },
   "source": [
    "## Outputs"
   ]
  },
  {
   "cell_type": "markdown",
   "metadata": {
    "cell_id": "9ccbf6cc70fd4d379fa29317f733771f",
    "deepnote_cell_type": "text-cell-p",
    "formattedRanges": []
   },
   "source": [
    "Describe each output that the notebook creates. "
   ]
  },
  {
   "cell_type": "markdown",
   "metadata": {
    "cell_id": "fc8e8920a6944918a15fac575cdf6e78",
    "deepnote_cell_type": "text-cell-bullet",
    "formattedRanges": []
   },
   "source": [
    "- Is it a plot or is it data?"
   ]
  },
  {
   "cell_type": "markdown",
   "metadata": {
    "cell_id": "1e639d4776a84aa9ac8ded2e14fa57db",
    "deepnote_cell_type": "text-cell-bullet",
    "formattedRanges": []
   },
   "source": [
    "- How valuable is the output and why is it valuable or useful?"
   ]
  },
  {
   "cell_type": "markdown",
   "metadata": {},
   "source": [
    "## Functions "
   ]
  },
  {
   "cell_type": "code",
   "execution_count": 73,
   "metadata": {
    "tags": []
   },
   "outputs": [],
   "source": [
    "import numpy as np\n",
    "\n",
    "def mask_slices(array_2d, slice_index):\n",
    "    \"\"\"\n",
    "    Masks elements outside a specified slice in a 2D array with NaN.\n",
    "\n",
    "    Parameters:\n",
    "    - array_2d (np.ndarray): The input 2D array to mask.\n",
    "    - slice_index (tuple): A tuple of two integers that specifies the start and end indices \n",
    "                           of the slice to retain. The elements outside this slice are set to NaN.\n",
    "\n",
    "    Returns:\n",
    "    - np.ndarray: A 2D array with elements outside the specified slice set to NaN.\n",
    "\n",
    "    Raises:\n",
    "    - ValueError: If `slice_index` is not a tuple or does not contain exactly two elements.\n",
    "    - IndexError: If the slice indices are out of the array bounds.\n",
    "    \"\"\"\n",
    "    if not isinstance(slice_index, tuple) or len(slice_index) != 2:\n",
    "        raise ValueError(\"slice_index must be a tuple of two integers (start, end).\")\n",
    "\n",
    "    try:\n",
    "        result = array_2d.copy()\n",
    "        mask_2d = np.ones(result.shape, dtype=bool)\n",
    "        mask_2d[slice_index[0]:slice_index[1]] = False\n",
    "\n",
    "        # Set values outside the defined slice to NaN\n",
    "        result[mask_2d] = np.nan\n",
    "        return result\n",
    "\n",
    "    except IndexError as e:\n",
    "        raise IndexError(f\"Slice index out of bounds: {e}\")\n",
    "    except Exception as e:\n",
    "        raise RuntimeError(f\"An error occurred while masking the array: {e}\")\n"
   ]
  },
  {
   "cell_type": "code",
   "execution_count": 89,
   "metadata": {
    "tags": []
   },
   "outputs": [],
   "source": [
    "def overlay_arrays(array1, array2):\n",
    "    \"\"\"\n",
    "    Overlays two 2D NumPy arrays of the same shape, preferring non-NaN values from the first array.\n",
    "    If both arrays have a non-NaN value at the same position, the value from the first array is used.\n",
    "\n",
    "    Parameters:\n",
    "    - array1 (np.ndarray): The primary 2D array.\n",
    "    - array2 (np.ndarray): The secondary 2D array, used only where array1 has NaNs.\n",
    "\n",
    "    Returns:\n",
    "    - np.ndarray: A 2D array composed of the overlaid results of array1 and array2.\n",
    "\n",
    "    Raises:\n",
    "    - ValueError: If `array1` and `array2` do not have the same shape.\n",
    "    \"\"\"\n",
    "    if array1.shape != array2.shape:\n",
    "        raise ValueError(\"Both arrays must have the same shape.\")\n",
    "\n",
    "    # Create a copy of the first array to ensure that no changes are made to the original\n",
    "    result = np.copy(array1)\n",
    "\n",
    "    # Find indices where array1 is NaN and array2 is not NaN\n",
    "    mask = np.isnan(array1) & ~np.isnan(array2)\n",
    "\n",
    "    # Place non-NaN values from array2 where array1 has NaNs\n",
    "    result[mask] = array2[mask]\n",
    "\n",
    "    return result"
   ]
  },
  {
   "cell_type": "markdown",
   "metadata": {
    "cell_id": "8999d19b6b7d4d63bc90f0b0bd9ab085",
    "deepnote_cell_type": "text-cell-h2",
    "formattedRanges": []
   },
   "source": [
    "## Processing"
   ]
  },
  {
   "cell_type": "markdown",
   "metadata": {
    "cell_id": "9b36cdf08567463082b005cb0dec684b",
    "deepnote_cell_type": "text-cell-p",
    "formattedRanges": []
   },
   "source": [
    "Describe what is done to the data here and how inputs are manipulated to generate outputs. "
   ]
  },
  {
   "cell_type": "code",
   "execution_count": 20,
   "metadata": {
    "cell_id": "89aaba237c644628b1b37604b75e7cb1",
    "deepnote_cell_type": "code",
    "tags": []
   },
   "outputs": [],
   "source": [
    "# As much code and as many cells as required\n",
    "# includes EDA and playing with data\n",
    "# GO HAM!\n",
    "\n",
    "# Ideally functions are defined here first and then data is processed using the functions\n",
    "\n",
    "# function names are short and in snake case all lowercase\n",
    "# a function name should be unique but does not have to describe the function\n",
    "# doc strings describe functions not function names\n",
    "\n",
    "\n"
   ]
  },
  {
   "cell_type": "code",
   "execution_count": 21,
   "metadata": {
    "tags": []
   },
   "outputs": [
    {
     "data": {
      "text/plain": [
       "Index(['cohort', 'session_dir', 'tone_frames', 'box_1_port_entry_frames',\n",
       "       'box_2_port_entry_frames', 'video_name', 'session_path', 'recording',\n",
       "       'current_subject', 'subject',\n",
       "       ...\n",
       "       'agent_locations', 'subject_thorax_velocity', 'agent_thorax_velocity',\n",
       "       'subject_thorax_to_reward_port', 'agent_thorax_to_reward_port',\n",
       "       'recording_name', 'spike_clusters', 'spike_times', 'neuron_average_fr',\n",
       "       'neuron_average_timestamps'],\n",
       "      dtype='object', length=173)"
      ]
     },
     "execution_count": 21,
     "metadata": {},
     "output_type": "execute_result"
    }
   ],
   "source": [
    "LFP_SPECTRAL_DF.columns"
   ]
  },
  {
   "cell_type": "code",
   "execution_count": 22,
   "metadata": {
    "scrolled": true,
    "tags": []
   },
   "outputs": [
    {
     "data": {
      "text/plain": [
       "Index(['tracked_subject', 'box_number', 'sleap_name', 'video_name',\n",
       "       'current_subject', 'tone_start_frame', 'reward_start_frame',\n",
       "       'tone_stop_frame', 'condition', 'competition_closeness', 'notes',\n",
       "       'experiment', 'session_dir', 'all_subjects', 'tone_start_timestamp',\n",
       "       'tone_stop_timestamp', 'trial_label'],\n",
       "      dtype='object')"
      ]
     },
     "execution_count": 22,
     "metadata": {},
     "output_type": "execute_result"
    }
   ],
   "source": [
    "TRIAL_LABELS_DF.columns"
   ]
  },
  {
   "cell_type": "markdown",
   "metadata": {},
   "source": [
    "# Editing the dataframes"
   ]
  },
  {
   "cell_type": "code",
   "execution_count": 23,
   "metadata": {
    "tags": []
   },
   "outputs": [
    {
     "data": {
      "text/html": [
       "<div>\n",
       "<style scoped>\n",
       "    .dataframe tbody tr th:only-of-type {\n",
       "        vertical-align: middle;\n",
       "    }\n",
       "\n",
       "    .dataframe tbody tr th {\n",
       "        vertical-align: top;\n",
       "    }\n",
       "\n",
       "    .dataframe thead th {\n",
       "        text-align: right;\n",
       "    }\n",
       "</style>\n",
       "<table border=\"1\" class=\"dataframe\">\n",
       "  <thead>\n",
       "    <tr style=\"text-align: right;\">\n",
       "      <th></th>\n",
       "      <th>cohort</th>\n",
       "      <th>session_dir</th>\n",
       "      <th>tone_frames</th>\n",
       "      <th>box_1_port_entry_frames</th>\n",
       "      <th>box_2_port_entry_frames</th>\n",
       "      <th>video_name</th>\n",
       "      <th>session_path</th>\n",
       "      <th>recording</th>\n",
       "      <th>current_subject</th>\n",
       "      <th>subject</th>\n",
       "      <th>...</th>\n",
       "      <th>agent_locations</th>\n",
       "      <th>subject_thorax_velocity</th>\n",
       "      <th>agent_thorax_velocity</th>\n",
       "      <th>subject_thorax_to_reward_port</th>\n",
       "      <th>agent_thorax_to_reward_port</th>\n",
       "      <th>recording_name</th>\n",
       "      <th>spike_clusters</th>\n",
       "      <th>spike_times</th>\n",
       "      <th>neuron_average_fr</th>\n",
       "      <th>neuron_average_timestamps</th>\n",
       "    </tr>\n",
       "  </thead>\n",
       "  <tbody>\n",
       "    <tr>\n",
       "      <th>0</th>\n",
       "      <td>2</td>\n",
       "      <td>20230617_115521_standard_comp_to_omission_D1_s...</td>\n",
       "      <td>[[1029, 1229], [3425, 3624], [5721, 5920], [75...</td>\n",
       "      <td>[[102, 105], [110, 148], [193, 199], [200, 202...</td>\n",
       "      <td>[[24984, 31321], [39533, 39547], [39554, 39559...</td>\n",
       "      <td>20230617_115521_standard_comp_to_omission_D1_s...</td>\n",
       "      <td>/scratch/back_up/reward_competition_extention/...</td>\n",
       "      <td>20230617_115521_standard_comp_to_omission_D1_s...</td>\n",
       "      <td>1.1</td>\n",
       "      <td>1.1</td>\n",
       "      <td>...</td>\n",
       "      <td>NaN</td>\n",
       "      <td>[14.84, 13.97, 13.13, 12.32, 11.54, 10.78, 10....</td>\n",
       "      <td>NaN</td>\n",
       "      <td>[25.6, 25.84, 25.86, 25.86, 25.86, 25.86, 25.8...</td>\n",
       "      <td>NaN</td>\n",
       "      <td>20230617_115521_standard_comp_to_omission_D1_s...</td>\n",
       "      <td>[3, 4, 5, 6, 17, 28, 29, 39, 48, 52, 53, 54, 5...</td>\n",
       "      <td>[[673223.0, 2367433.0, 2569212.0, 3969647.0, 3...</td>\n",
       "      <td>[[0.0, 0.0, 0.0, 0.0, 0.0, 0.0, 0.0, 0.0, 0.0,...</td>\n",
       "      <td>[0, 2000, 4000, 6000, 8000, 10000, 12000, 1400...</td>\n",
       "    </tr>\n",
       "    <tr>\n",
       "      <th>1</th>\n",
       "      <td>2</td>\n",
       "      <td>20230617_115521_standard_comp_to_omission_D1_s...</td>\n",
       "      <td>[[1029, 1229], [3425, 3624], [5721, 5920], [75...</td>\n",
       "      <td>[[102, 105], [110, 148], [193, 199], [200, 202...</td>\n",
       "      <td>[[24984, 31321], [39533, 39547], [39554, 39559...</td>\n",
       "      <td>20230617_115521_standard_comp_to_omission_D1_s...</td>\n",
       "      <td>/scratch/back_up/reward_competition_extention/...</td>\n",
       "      <td>20230617_115521_standard_comp_to_omission_D1_s...</td>\n",
       "      <td>1.1</td>\n",
       "      <td>1.1</td>\n",
       "      <td>...</td>\n",
       "      <td>[[[40.039741738777444, 9.47029992556593], [42....</td>\n",
       "      <td>[8.96, 8.195, 7.54, 7.004, 6.605, 6.348, 6.227...</td>\n",
       "      <td>[11.19, 10.55, 9.92, 9.31, 8.734, 8.18, 7.64, ...</td>\n",
       "      <td>[11.19, 11.234, 11.73, 12.34, 12.56, 13.58, 13...</td>\n",
       "      <td>[25.6, 25.84, 25.86, 25.86, 25.86, 25.86, 25.8...</td>\n",
       "      <td>20230617_115521_standard_comp_to_omission_D1_s...</td>\n",
       "      <td>[3, 4, 5, 6, 17, 28, 29, 39, 48, 52, 53, 54, 5...</td>\n",
       "      <td>[[673223.0, 2367433.0, 2569212.0, 3969647.0, 3...</td>\n",
       "      <td>[[0.0, 0.0, 0.0, 0.0, 0.0, 0.0, 0.0, 0.0, 0.0,...</td>\n",
       "      <td>[0, 2000, 4000, 6000, 8000, 10000, 12000, 1400...</td>\n",
       "    </tr>\n",
       "    <tr>\n",
       "      <th>2</th>\n",
       "      <td>2</td>\n",
       "      <td>20230617_115521_standard_comp_to_omission_D1_s...</td>\n",
       "      <td>[[1029, 1229], [3425, 3624], [5721, 5920], [75...</td>\n",
       "      <td>[[102, 105], [110, 148], [193, 199], [200, 202...</td>\n",
       "      <td>[[24984, 31321], [39533, 39547], [39554, 39559...</td>\n",
       "      <td>20230617_115521_standard_comp_to_omission_D1_s...</td>\n",
       "      <td>/scratch/back_up/reward_competition_extention/...</td>\n",
       "      <td>20230617_115521_standard_comp_to_omission_D1_s...</td>\n",
       "      <td>1.2</td>\n",
       "      <td>1.2</td>\n",
       "      <td>...</td>\n",
       "      <td>[[[57.86163468579171, 31.554562356382696], [59...</td>\n",
       "      <td>[11.19, 10.55, 9.92, 9.31, 8.734, 8.18, 7.64, ...</td>\n",
       "      <td>[8.96, 8.195, 7.54, 7.004, 6.605, 6.348, 6.227...</td>\n",
       "      <td>[25.6, 25.84, 25.86, 25.86, 25.86, 25.86, 25.8...</td>\n",
       "      <td>[11.19, 11.234, 11.73, 12.34, 12.56, 13.58, 13...</td>\n",
       "      <td>20230617_115521_standard_comp_to_omission_D1_s...</td>\n",
       "      <td>[16, 17, 20, 25, 26, 34, 35, 39, 40, 42, 43, 4...</td>\n",
       "      <td>[[958.0, 5233.0, 6331.0, 7475.0, 8599.0, 10550...</td>\n",
       "      <td>[[1.0, 0.0, 1.0, 2.0, 1.0, 1.0, 0.0, 0.0, 0.0,...</td>\n",
       "      <td>[0, 2000, 4000, 6000, 8000, 10000, 12000, 1400...</td>\n",
       "    </tr>\n",
       "    <tr>\n",
       "      <th>3</th>\n",
       "      <td>2</td>\n",
       "      <td>20230617_115521_standard_comp_to_omission_D1_s...</td>\n",
       "      <td>[[0, 0], [0, 0], [0, 0], [0, 0], [0, 0], [0, 0...</td>\n",
       "      <td>[[0, 0], [0, 0], [0, 0], [0, 0], [0, 0], [0, 0...</td>\n",
       "      <td>[[0, 0], [0, 0], [0, 0], [0, 5], [12, 13], [13...</td>\n",
       "      <td>20230617_115521_standard_comp_to_omission_D1_s...</td>\n",
       "      <td>/scratch/back_up/reward_competition_extention/...</td>\n",
       "      <td>20230617_115521_standard_comp_to_omission_D1_s...</td>\n",
       "      <td>1.2</td>\n",
       "      <td>1.2</td>\n",
       "      <td>...</td>\n",
       "      <td>NaN</td>\n",
       "      <td>[5.184, 4.777, 4.383, 4.0, 3.629, 3.271, 2.926...</td>\n",
       "      <td>NaN</td>\n",
       "      <td>[6.223, 6.227, 6.234, 6.24, 6.203, 6.2, 6.203,...</td>\n",
       "      <td>NaN</td>\n",
       "      <td>20230617_115521_standard_comp_to_omission_D1_s...</td>\n",
       "      <td>[16, 17, 20, 25, 26, 34, 35, 39, 40, 42, 43, 4...</td>\n",
       "      <td>[[958.0, 5233.0, 6331.0, 7475.0, 8599.0, 10550...</td>\n",
       "      <td>[[1.0, 0.0, 1.0, 2.0, 1.0, 1.0, 0.0, 0.0, 0.0,...</td>\n",
       "      <td>[0, 2000, 4000, 6000, 8000, 10000, 12000, 1400...</td>\n",
       "    </tr>\n",
       "    <tr>\n",
       "      <th>4</th>\n",
       "      <td>2</td>\n",
       "      <td>20230618_100636_standard_comp_to_omission_D2_s...</td>\n",
       "      <td>[[1098, 1297], [3492, 3693], [5788, 5988], [75...</td>\n",
       "      <td>[[788, 835], [838, 839], [839, 871], [871, 900...</td>\n",
       "      <td>[[33026, 33037], [33038, 33042], [33044, 33049...</td>\n",
       "      <td>20230618_100636_standard_comp_to_omission_D2_s...</td>\n",
       "      <td>/scratch/back_up/reward_competition_extention/...</td>\n",
       "      <td>20230618_100636_standard_comp_to_omission_D2_s...</td>\n",
       "      <td>1.1</td>\n",
       "      <td>1.1</td>\n",
       "      <td>...</td>\n",
       "      <td>[[[31.37122566669405, 31.1085619584881], [33.5...</td>\n",
       "      <td>[1.143, 1.143, 1.142, 1.139, 1.135, 1.129, 1.1...</td>\n",
       "      <td>[0.6333, 0.5635, 0.4963, 0.4321, 0.3713, 0.313...</td>\n",
       "      <td>[5.727, 5.91, 5.93, 5.965, 5.99, 5.992, 6.355,...</td>\n",
       "      <td>[13.75, 14.18, 13.734, 13.74, 13.76, 13.84, 13...</td>\n",
       "      <td>20230618_100636_standard_comp_to_omission_D2_s...</td>\n",
       "      <td>[7, 11, 12, 48, 50, 51, 61, 64, 76, 84, 90, 98...</td>\n",
       "      <td>[[506.0, 1419.0, 2358.0, 5104.0, 6785.0, 7620....</td>\n",
       "      <td>[[2.0, 1.0, 1.0, 2.0, 1.0, 0.0, 3.0, 0.0, 1.0,...</td>\n",
       "      <td>[0, 2000, 4000, 6000, 8000, 10000, 12000, 1400...</td>\n",
       "    </tr>\n",
       "  </tbody>\n",
       "</table>\n",
       "<p>5 rows × 173 columns</p>\n",
       "</div>"
      ],
      "text/plain": [
       "   cohort                                        session_dir  \\\n",
       "0       2  20230617_115521_standard_comp_to_omission_D1_s...   \n",
       "1       2  20230617_115521_standard_comp_to_omission_D1_s...   \n",
       "2       2  20230617_115521_standard_comp_to_omission_D1_s...   \n",
       "3       2  20230617_115521_standard_comp_to_omission_D1_s...   \n",
       "4       2  20230618_100636_standard_comp_to_omission_D2_s...   \n",
       "\n",
       "                                         tone_frames  \\\n",
       "0  [[1029, 1229], [3425, 3624], [5721, 5920], [75...   \n",
       "1  [[1029, 1229], [3425, 3624], [5721, 5920], [75...   \n",
       "2  [[1029, 1229], [3425, 3624], [5721, 5920], [75...   \n",
       "3  [[0, 0], [0, 0], [0, 0], [0, 0], [0, 0], [0, 0...   \n",
       "4  [[1098, 1297], [3492, 3693], [5788, 5988], [75...   \n",
       "\n",
       "                             box_1_port_entry_frames  \\\n",
       "0  [[102, 105], [110, 148], [193, 199], [200, 202...   \n",
       "1  [[102, 105], [110, 148], [193, 199], [200, 202...   \n",
       "2  [[102, 105], [110, 148], [193, 199], [200, 202...   \n",
       "3  [[0, 0], [0, 0], [0, 0], [0, 0], [0, 0], [0, 0...   \n",
       "4  [[788, 835], [838, 839], [839, 871], [871, 900...   \n",
       "\n",
       "                             box_2_port_entry_frames  \\\n",
       "0  [[24984, 31321], [39533, 39547], [39554, 39559...   \n",
       "1  [[24984, 31321], [39533, 39547], [39554, 39559...   \n",
       "2  [[24984, 31321], [39533, 39547], [39554, 39559...   \n",
       "3  [[0, 0], [0, 0], [0, 0], [0, 5], [12, 13], [13...   \n",
       "4  [[33026, 33037], [33038, 33042], [33044, 33049...   \n",
       "\n",
       "                                          video_name  \\\n",
       "0  20230617_115521_standard_comp_to_omission_D1_s...   \n",
       "1  20230617_115521_standard_comp_to_omission_D1_s...   \n",
       "2  20230617_115521_standard_comp_to_omission_D1_s...   \n",
       "3  20230617_115521_standard_comp_to_omission_D1_s...   \n",
       "4  20230618_100636_standard_comp_to_omission_D2_s...   \n",
       "\n",
       "                                        session_path  \\\n",
       "0  /scratch/back_up/reward_competition_extention/...   \n",
       "1  /scratch/back_up/reward_competition_extention/...   \n",
       "2  /scratch/back_up/reward_competition_extention/...   \n",
       "3  /scratch/back_up/reward_competition_extention/...   \n",
       "4  /scratch/back_up/reward_competition_extention/...   \n",
       "\n",
       "                                           recording current_subject subject  \\\n",
       "0  20230617_115521_standard_comp_to_omission_D1_s...             1.1     1.1   \n",
       "1  20230617_115521_standard_comp_to_omission_D1_s...             1.1     1.1   \n",
       "2  20230617_115521_standard_comp_to_omission_D1_s...             1.2     1.2   \n",
       "3  20230617_115521_standard_comp_to_omission_D1_s...             1.2     1.2   \n",
       "4  20230618_100636_standard_comp_to_omission_D2_s...             1.1     1.1   \n",
       "\n",
       "   ...                                    agent_locations  \\\n",
       "0  ...                                                NaN   \n",
       "1  ...  [[[40.039741738777444, 9.47029992556593], [42....   \n",
       "2  ...  [[[57.86163468579171, 31.554562356382696], [59...   \n",
       "3  ...                                                NaN   \n",
       "4  ...  [[[31.37122566669405, 31.1085619584881], [33.5...   \n",
       "\n",
       "                             subject_thorax_velocity  \\\n",
       "0  [14.84, 13.97, 13.13, 12.32, 11.54, 10.78, 10....   \n",
       "1  [8.96, 8.195, 7.54, 7.004, 6.605, 6.348, 6.227...   \n",
       "2  [11.19, 10.55, 9.92, 9.31, 8.734, 8.18, 7.64, ...   \n",
       "3  [5.184, 4.777, 4.383, 4.0, 3.629, 3.271, 2.926...   \n",
       "4  [1.143, 1.143, 1.142, 1.139, 1.135, 1.129, 1.1...   \n",
       "\n",
       "                               agent_thorax_velocity  \\\n",
       "0                                                NaN   \n",
       "1  [11.19, 10.55, 9.92, 9.31, 8.734, 8.18, 7.64, ...   \n",
       "2  [8.96, 8.195, 7.54, 7.004, 6.605, 6.348, 6.227...   \n",
       "3                                                NaN   \n",
       "4  [0.6333, 0.5635, 0.4963, 0.4321, 0.3713, 0.313...   \n",
       "\n",
       "                       subject_thorax_to_reward_port  \\\n",
       "0  [25.6, 25.84, 25.86, 25.86, 25.86, 25.86, 25.8...   \n",
       "1  [11.19, 11.234, 11.73, 12.34, 12.56, 13.58, 13...   \n",
       "2  [25.6, 25.84, 25.86, 25.86, 25.86, 25.86, 25.8...   \n",
       "3  [6.223, 6.227, 6.234, 6.24, 6.203, 6.2, 6.203,...   \n",
       "4  [5.727, 5.91, 5.93, 5.965, 5.99, 5.992, 6.355,...   \n",
       "\n",
       "                         agent_thorax_to_reward_port  \\\n",
       "0                                                NaN   \n",
       "1  [25.6, 25.84, 25.86, 25.86, 25.86, 25.86, 25.8...   \n",
       "2  [11.19, 11.234, 11.73, 12.34, 12.56, 13.58, 13...   \n",
       "3                                                NaN   \n",
       "4  [13.75, 14.18, 13.734, 13.74, 13.76, 13.84, 13...   \n",
       "\n",
       "                                      recording_name  \\\n",
       "0  20230617_115521_standard_comp_to_omission_D1_s...   \n",
       "1  20230617_115521_standard_comp_to_omission_D1_s...   \n",
       "2  20230617_115521_standard_comp_to_omission_D1_s...   \n",
       "3  20230617_115521_standard_comp_to_omission_D1_s...   \n",
       "4  20230618_100636_standard_comp_to_omission_D2_s...   \n",
       "\n",
       "                                      spike_clusters  \\\n",
       "0  [3, 4, 5, 6, 17, 28, 29, 39, 48, 52, 53, 54, 5...   \n",
       "1  [3, 4, 5, 6, 17, 28, 29, 39, 48, 52, 53, 54, 5...   \n",
       "2  [16, 17, 20, 25, 26, 34, 35, 39, 40, 42, 43, 4...   \n",
       "3  [16, 17, 20, 25, 26, 34, 35, 39, 40, 42, 43, 4...   \n",
       "4  [7, 11, 12, 48, 50, 51, 61, 64, 76, 84, 90, 98...   \n",
       "\n",
       "                                         spike_times  \\\n",
       "0  [[673223.0, 2367433.0, 2569212.0, 3969647.0, 3...   \n",
       "1  [[673223.0, 2367433.0, 2569212.0, 3969647.0, 3...   \n",
       "2  [[958.0, 5233.0, 6331.0, 7475.0, 8599.0, 10550...   \n",
       "3  [[958.0, 5233.0, 6331.0, 7475.0, 8599.0, 10550...   \n",
       "4  [[506.0, 1419.0, 2358.0, 5104.0, 6785.0, 7620....   \n",
       "\n",
       "                                   neuron_average_fr  \\\n",
       "0  [[0.0, 0.0, 0.0, 0.0, 0.0, 0.0, 0.0, 0.0, 0.0,...   \n",
       "1  [[0.0, 0.0, 0.0, 0.0, 0.0, 0.0, 0.0, 0.0, 0.0,...   \n",
       "2  [[1.0, 0.0, 1.0, 2.0, 1.0, 1.0, 0.0, 0.0, 0.0,...   \n",
       "3  [[1.0, 0.0, 1.0, 2.0, 1.0, 1.0, 0.0, 0.0, 0.0,...   \n",
       "4  [[2.0, 1.0, 1.0, 2.0, 1.0, 0.0, 3.0, 0.0, 1.0,...   \n",
       "\n",
       "                           neuron_average_timestamps  \n",
       "0  [0, 2000, 4000, 6000, 8000, 10000, 12000, 1400...  \n",
       "1  [0, 2000, 4000, 6000, 8000, 10000, 12000, 1400...  \n",
       "2  [0, 2000, 4000, 6000, 8000, 10000, 12000, 1400...  \n",
       "3  [0, 2000, 4000, 6000, 8000, 10000, 12000, 1400...  \n",
       "4  [0, 2000, 4000, 6000, 8000, 10000, 12000, 1400...  \n",
       "\n",
       "[5 rows x 173 columns]"
      ]
     },
     "execution_count": 23,
     "metadata": {},
     "output_type": "execute_result"
    }
   ],
   "source": [
    "LFP_SPECTRAL_DF.head()"
   ]
  },
  {
   "cell_type": "code",
   "execution_count": 24,
   "metadata": {
    "tags": []
   },
   "outputs": [
    {
     "data": {
      "text/plain": [
       "array(['20230617_115521_standard_comp_to_omission_D1_subj_1-1_and_1-2.1',\n",
       "       '20230617_115521_standard_comp_to_omission_D1_subj_1-1_and_1-2.3',\n",
       "       '20230618_100636_standard_comp_to_omission_D2_subj_1-4_and_1-1.1',\n",
       "       '20230618_100636_standard_comp_to_omission_D2_subj_1-4_and_1-1.2',\n",
       "       '20230619_115321_standard_comp_to_omission_D3_subj_1-2_and_1-4.4',\n",
       "       '20230620_114347_standard_comp_to_omission_D4_subj_1-2_and_1-1.1',\n",
       "       '20230620_114347_standard_comp_to_omission_D4_subj_1-2_and_1-1.2',\n",
       "       '20230621_111240_standard_comp_to_omission_D5_subj_1-4_and_1-2.1',\n",
       "       '20230622_110832_standard_comp_to_both_rewarded_D1_subj_1-1_and_1-2.1',\n",
       "       '20230624_105855_standard_comp_to_both_rewarded_D3_subj_1-2_and_1-4.1',\n",
       "       '20230625_112913_standard_comp_to_both_rewarded_D4_subj_1-1_and_1-4.1',\n",
       "       '20230628_111202_standard_comp_to_novel_agent_D1_subj_1-1vs2-2and1-2vs2-1.1',\n",
       "       '20230628_111202_standard_comp_to_novel_agent_D1_subj_1-1vs2-2and1-2vs2-1.4',\n",
       "       '20230629_111937_standard_comp_to_novel_agent_D2_subj_1-1vs2-1and1-4vs2-2.1'],\n",
       "      dtype=object)"
      ]
     },
     "execution_count": 24,
     "metadata": {},
     "output_type": "execute_result"
    }
   ],
   "source": [
    "LFP_SPECTRAL_DF[\"video_name\"].unique()"
   ]
  },
  {
   "cell_type": "code",
   "execution_count": 25,
   "metadata": {
    "tags": []
   },
   "outputs": [
    {
     "data": {
      "text/plain": [
       "0          [1.1]\n",
       "1     [1.1, 1.2]\n",
       "2     [1.1, 1.2]\n",
       "3          [1.2]\n",
       "4     [1.1, 1.4]\n",
       "5          [1.1]\n",
       "6          [1.4]\n",
       "7     [1.1, 1.4]\n",
       "8          [1.4]\n",
       "9     [1.1, 1.2]\n",
       "10         [1.1]\n",
       "11         [1.2]\n",
       "12    [1.1, 1.2]\n",
       "13         [1.4]\n",
       "14    [1.2, 1.4]\n",
       "15    [1.1, 1.2]\n",
       "16    [1.1, 1.2]\n",
       "17    [1.2, 1.4]\n",
       "18    [1.1, 1.4]\n",
       "19    [1.1, 1.4]\n",
       "20    [1.1, 1.2]\n",
       "21    [1.1, 2.2]\n",
       "22    [1.1, 2.2]\n",
       "23    [1.1, 1.2]\n",
       "24    [1.1, 1.4]\n",
       "25    [1.1, 2.1]\n",
       "Name: tracked_subject, dtype: object"
      ]
     },
     "execution_count": 25,
     "metadata": {},
     "output_type": "execute_result"
    }
   ],
   "source": [
    "LFP_SPECTRAL_DF[\"tracked_subject\"]"
   ]
  },
  {
   "cell_type": "code",
   "execution_count": 26,
   "metadata": {
    "tags": []
   },
   "outputs": [],
   "source": [
    "LFP_SPECTRAL_DF[\"tracked_subject\"] = LFP_SPECTRAL_DF[\"tracked_subject\"].apply(lambda x: \"_\".join([str(subj) for subj in x]))"
   ]
  },
  {
   "cell_type": "code",
   "execution_count": 41,
   "metadata": {
    "tags": []
   },
   "outputs": [],
   "source": [
    "LFP_SPECTRAL_DF[\"current_tracked_subject\"] = LFP_SPECTRAL_DF[\"tracked_subject\"]"
   ]
  },
  {
   "cell_type": "code",
   "execution_count": 42,
   "metadata": {
    "tags": []
   },
   "outputs": [],
   "source": [
    "# Example with multiple columns being aggregated\n",
    "GROUPED_TRIAL_LABELS_DF = TRIAL_LABELS_DF.groupby(['video_name', \"current_subject\"]).agg({col: list for col in [_ for _ in TRIAL_LABELS_DF.columns if _ not in [\"video_name\", 'current_subject']]  # Aggregating into a list\n",
    "    # Other columns can be aggregated differently here\n",
    "}).reset_index()"
   ]
  },
  {
   "cell_type": "code",
   "execution_count": 43,
   "metadata": {
    "tags": []
   },
   "outputs": [],
   "source": [
    "GROUPED_TRIAL_LABELS_DF[\"session_dir\"] = GROUPED_TRIAL_LABELS_DF[\"session_dir\"].apply(lambda x: x[0])\n"
   ]
  },
  {
   "cell_type": "code",
   "execution_count": 44,
   "metadata": {
    "tags": []
   },
   "outputs": [],
   "source": [
    "GROUPED_TRIAL_LABELS_DF[\"sleap_name\"] = GROUPED_TRIAL_LABELS_DF[\"sleap_name\"].apply(lambda x: x[0])"
   ]
  },
  {
   "cell_type": "code",
   "execution_count": 45,
   "metadata": {
    "tags": []
   },
   "outputs": [],
   "source": [
    "GROUPED_TRIAL_LABELS_DF[\"trial_notes\"] = GROUPED_TRIAL_LABELS_DF[\"notes\"]"
   ]
  },
  {
   "cell_type": "code",
   "execution_count": 46,
   "metadata": {
    "tags": []
   },
   "outputs": [
    {
     "data": {
      "text/html": [
       "<div>\n",
       "<style scoped>\n",
       "    .dataframe tbody tr th:only-of-type {\n",
       "        vertical-align: middle;\n",
       "    }\n",
       "\n",
       "    .dataframe tbody tr th {\n",
       "        vertical-align: top;\n",
       "    }\n",
       "\n",
       "    .dataframe thead th {\n",
       "        text-align: right;\n",
       "    }\n",
       "</style>\n",
       "<table border=\"1\" class=\"dataframe\">\n",
       "  <thead>\n",
       "    <tr style=\"text-align: right;\">\n",
       "      <th></th>\n",
       "      <th>video_name</th>\n",
       "      <th>current_subject</th>\n",
       "      <th>tracked_subject</th>\n",
       "      <th>box_number</th>\n",
       "      <th>sleap_name</th>\n",
       "      <th>tone_start_frame</th>\n",
       "      <th>reward_start_frame</th>\n",
       "      <th>tone_stop_frame</th>\n",
       "      <th>condition</th>\n",
       "      <th>competition_closeness</th>\n",
       "      <th>notes</th>\n",
       "      <th>experiment</th>\n",
       "      <th>session_dir</th>\n",
       "      <th>all_subjects</th>\n",
       "      <th>tone_start_timestamp</th>\n",
       "      <th>tone_stop_timestamp</th>\n",
       "      <th>trial_label</th>\n",
       "      <th>trial_notes</th>\n",
       "    </tr>\n",
       "  </thead>\n",
       "  <tbody>\n",
       "    <tr>\n",
       "      <th>0</th>\n",
       "      <td>20230612_112630_standard_comp_to_training_D1_s...</td>\n",
       "      <td>1.1</td>\n",
       "      <td>[['1.1', '1.2'], ['1.1', '1.2'], ['1.1', '1.2'...</td>\n",
       "      <td>[1, 1, 1, 1, 1, 1, 1, 1, 1, 1, 1, 1, 1, 1, 1, ...</td>\n",
       "      <td>20230612_112630_standard_comp_to_training_D1_s...</td>\n",
       "      <td>[1125, 3519, 5815, 7612, 8709, 9708, 11604, 13...</td>\n",
       "      <td>[1225, 3619, 5915, 7712, 8809, 9808, 11704, 13...</td>\n",
       "      <td>[1324, 3720, 6014, 7811, 8910, 9907, 11804, 13...</td>\n",
       "      <td>[1.1, 1.2, 1.2, 1.2, 1.2, 1.2, 1.2, 1.2, 1.2, ...</td>\n",
       "      <td>[competitive, no_comp, competitive, no_comp, n...</td>\n",
       "      <td>[nan, nan, nan, nan, nan, nan, nan, nan, nan, ...</td>\n",
       "      <td>[standard, standard, standard, standard, stand...</td>\n",
       "      <td>20230612_112630_standard_comp_to_training_D1_s...</td>\n",
       "      <td>[['1.1', '1.2'], ['1.1', '1.2'], ['1.1', '1.2'...</td>\n",
       "      <td>[1126742, 3526740, 5826740, 7626736, 8726734, ...</td>\n",
       "      <td>[1326741, 3726740, 6026737, 7826735, 8926734, ...</td>\n",
       "      <td>[win, lose, lose, lose, lose, lose, lose, lose...</td>\n",
       "      <td>[nan, nan, nan, nan, nan, nan, nan, nan, nan, ...</td>\n",
       "    </tr>\n",
       "    <tr>\n",
       "      <th>1</th>\n",
       "      <td>20230612_112630_standard_comp_to_training_D1_s...</td>\n",
       "      <td>1.2</td>\n",
       "      <td>[['1.1', '1.2'], ['1.1', '1.2'], ['1.1', '1.2'...</td>\n",
       "      <td>[1, 1, 1, 1, 1, 1, 1, 1, 1, 1, 1, 1, 1, 1, 1, ...</td>\n",
       "      <td>20230612_112630_standard_comp_to_training_D1_s...</td>\n",
       "      <td>[1125, 3519, 5815, 7612, 8709, 9708, 11604, 13...</td>\n",
       "      <td>[1225, 3619, 5915, 7712, 8809, 9808, 11704, 13...</td>\n",
       "      <td>[1324, 3720, 6014, 7811, 8910, 9907, 11804, 13...</td>\n",
       "      <td>[1.1, 1.2, 1.2, 1.2, 1.2, 1.2, 1.2, 1.2, 1.2, ...</td>\n",
       "      <td>[competitive, no_comp, competitive, no_comp, n...</td>\n",
       "      <td>[nan, nan, nan, nan, nan, nan, nan, nan, nan, ...</td>\n",
       "      <td>[standard, standard, standard, standard, stand...</td>\n",
       "      <td>20230612_112630_standard_comp_to_training_D1_s...</td>\n",
       "      <td>[['1.1', '1.2'], ['1.1', '1.2'], ['1.1', '1.2'...</td>\n",
       "      <td>[1126742, 3526740, 5826740, 7626736, 8726734, ...</td>\n",
       "      <td>[1326741, 3726740, 6026737, 7826735, 8926734, ...</td>\n",
       "      <td>[lose, win, win, win, win, win, win, win, win,...</td>\n",
       "      <td>[nan, nan, nan, nan, nan, nan, nan, nan, nan, ...</td>\n",
       "    </tr>\n",
       "    <tr>\n",
       "      <th>2</th>\n",
       "      <td>20230612_112630_standard_comp_to_training_D1_s...</td>\n",
       "      <td>1.1</td>\n",
       "      <td>[['1.1'], ['1.1'], ['1.1'], ['1.1'], ['1.1'], ...</td>\n",
       "      <td>[2, 2, 2, 2, 2, 2, 2, 2, 2, 2, 2, 2, 2, 2, 2, ...</td>\n",
       "      <td>20230612_112630_standard_comp_to_training_D1_s...</td>\n",
       "      <td>[37056, 38254, 39352, 40650, 41747, 42746, 437...</td>\n",
       "      <td>[37156, 38354, 39452, 40750, 41847, 42846, 438...</td>\n",
       "      <td>[37256, 38453, 39552, 40849, 41947, 42945, 439...</td>\n",
       "      <td>[rewarded, rewarded, rewarded, rewarded, rewar...</td>\n",
       "      <td>[nan, nan, nan, nan, nan, nan, nan, nan, nan, ...</td>\n",
       "      <td>[nan, nan, nan, nan, nan, nan, nan, nan, nan, ...</td>\n",
       "      <td>[standard, standard, standard, standard, stand...</td>\n",
       "      <td>20230612_112630_standard_comp_to_training_D1_s...</td>\n",
       "      <td>[['1.1', '1.2'], ['1.1', '1.2'], ['1.1', '1.2'...</td>\n",
       "      <td>[37126704, 38326703, 39426702, 40726701, 41826...</td>\n",
       "      <td>[37326704, 38526703, 39626701, 40926700, 42026...</td>\n",
       "      <td>[rewarded, rewarded, rewarded, rewarded, rewar...</td>\n",
       "      <td>[nan, nan, nan, nan, nan, nan, nan, nan, nan, ...</td>\n",
       "    </tr>\n",
       "    <tr>\n",
       "      <th>3</th>\n",
       "      <td>20230613_105657_standard_comp_to_training_D2_s...</td>\n",
       "      <td>1.1</td>\n",
       "      <td>[['1.1', '1.4'], ['1.1', '1.4'], ['1.1', '1.4'...</td>\n",
       "      <td>[1, 1, 1, 1, 1, 1, 1, 1, 1, 1, 1, 1, 1, 1, 1, ...</td>\n",
       "      <td>20230613_105657_standard_comp_to_training_D2_s...</td>\n",
       "      <td>[916, 3312, 5608, 7405, 8502, 9501, 11397, 128...</td>\n",
       "      <td>[1016, 3412, 5708, 7505, 8602, 9601, 11497, 12...</td>\n",
       "      <td>[1117, 3513, 5808, 7604, 8703, 9700, 11596, 13...</td>\n",
       "      <td>[1.4, 1.1, 1.1, 1.1, 1.1, 1.1, 1.1, 1.1, 1.1, ...</td>\n",
       "      <td>[no_comp, no_comp, competitive, competitive, c...</td>\n",
       "      <td>[nan, nan, nan, nan, nan, nan, nan, nan, nan, ...</td>\n",
       "      <td>[standard, standard, standard, standard, stand...</td>\n",
       "      <td>20230613_105657_standard_comp_to_training_D2_s...</td>\n",
       "      <td>[['1.1', '1.4'], ['1.1', '1.4'], ['1.1', '1.4'...</td>\n",
       "      <td>[918755, 3318755, 5618754, 7418755, 8518752, 9...</td>\n",
       "      <td>[1118758, 3518757, 5818753, 7618752, 8718757, ...</td>\n",
       "      <td>[lose, win, win, win, win, win, win, win, win,...</td>\n",
       "      <td>[nan, nan, nan, nan, nan, nan, nan, nan, nan, ...</td>\n",
       "    </tr>\n",
       "    <tr>\n",
       "      <th>4</th>\n",
       "      <td>20230613_105657_standard_comp_to_training_D2_s...</td>\n",
       "      <td>1.4</td>\n",
       "      <td>[['1.1', '1.4'], ['1.1', '1.4'], ['1.1', '1.4'...</td>\n",
       "      <td>[1, 1, 1, 1, 1, 1, 1, 1, 1, 1, 1, 1, 1, 1, 1, ...</td>\n",
       "      <td>20230613_105657_standard_comp_to_training_D2_s...</td>\n",
       "      <td>[916, 3312, 5608, 7405, 8502, 9501, 11397, 128...</td>\n",
       "      <td>[1016, 3412, 5708, 7505, 8602, 9601, 11497, 12...</td>\n",
       "      <td>[1117, 3513, 5808, 7604, 8703, 9700, 11596, 13...</td>\n",
       "      <td>[1.4, 1.1, 1.1, 1.1, 1.1, 1.1, 1.1, 1.1, 1.1, ...</td>\n",
       "      <td>[no_comp, no_comp, competitive, competitive, c...</td>\n",
       "      <td>[nan, nan, nan, nan, nan, nan, nan, nan, nan, ...</td>\n",
       "      <td>[standard, standard, standard, standard, stand...</td>\n",
       "      <td>20230613_105657_standard_comp_to_training_D2_s...</td>\n",
       "      <td>[['1.1', '1.4'], ['1.1', '1.4'], ['1.1', '1.4'...</td>\n",
       "      <td>[918755, 3318755, 5618754, 7418755, 8518752, 9...</td>\n",
       "      <td>[1118758, 3518757, 5818753, 7618752, 8718757, ...</td>\n",
       "      <td>[win, lose, lose, lose, lose, lose, lose, lose...</td>\n",
       "      <td>[nan, nan, nan, nan, nan, nan, nan, nan, nan, ...</td>\n",
       "    </tr>\n",
       "  </tbody>\n",
       "</table>\n",
       "</div>"
      ],
      "text/plain": [
       "                                          video_name current_subject  \\\n",
       "0  20230612_112630_standard_comp_to_training_D1_s...             1.1   \n",
       "1  20230612_112630_standard_comp_to_training_D1_s...             1.2   \n",
       "2  20230612_112630_standard_comp_to_training_D1_s...             1.1   \n",
       "3  20230613_105657_standard_comp_to_training_D2_s...             1.1   \n",
       "4  20230613_105657_standard_comp_to_training_D2_s...             1.4   \n",
       "\n",
       "                                     tracked_subject  \\\n",
       "0  [['1.1', '1.2'], ['1.1', '1.2'], ['1.1', '1.2'...   \n",
       "1  [['1.1', '1.2'], ['1.1', '1.2'], ['1.1', '1.2'...   \n",
       "2  [['1.1'], ['1.1'], ['1.1'], ['1.1'], ['1.1'], ...   \n",
       "3  [['1.1', '1.4'], ['1.1', '1.4'], ['1.1', '1.4'...   \n",
       "4  [['1.1', '1.4'], ['1.1', '1.4'], ['1.1', '1.4'...   \n",
       "\n",
       "                                          box_number  \\\n",
       "0  [1, 1, 1, 1, 1, 1, 1, 1, 1, 1, 1, 1, 1, 1, 1, ...   \n",
       "1  [1, 1, 1, 1, 1, 1, 1, 1, 1, 1, 1, 1, 1, 1, 1, ...   \n",
       "2  [2, 2, 2, 2, 2, 2, 2, 2, 2, 2, 2, 2, 2, 2, 2, ...   \n",
       "3  [1, 1, 1, 1, 1, 1, 1, 1, 1, 1, 1, 1, 1, 1, 1, ...   \n",
       "4  [1, 1, 1, 1, 1, 1, 1, 1, 1, 1, 1, 1, 1, 1, 1, ...   \n",
       "\n",
       "                                          sleap_name  \\\n",
       "0  20230612_112630_standard_comp_to_training_D1_s...   \n",
       "1  20230612_112630_standard_comp_to_training_D1_s...   \n",
       "2  20230612_112630_standard_comp_to_training_D1_s...   \n",
       "3  20230613_105657_standard_comp_to_training_D2_s...   \n",
       "4  20230613_105657_standard_comp_to_training_D2_s...   \n",
       "\n",
       "                                    tone_start_frame  \\\n",
       "0  [1125, 3519, 5815, 7612, 8709, 9708, 11604, 13...   \n",
       "1  [1125, 3519, 5815, 7612, 8709, 9708, 11604, 13...   \n",
       "2  [37056, 38254, 39352, 40650, 41747, 42746, 437...   \n",
       "3  [916, 3312, 5608, 7405, 8502, 9501, 11397, 128...   \n",
       "4  [916, 3312, 5608, 7405, 8502, 9501, 11397, 128...   \n",
       "\n",
       "                                  reward_start_frame  \\\n",
       "0  [1225, 3619, 5915, 7712, 8809, 9808, 11704, 13...   \n",
       "1  [1225, 3619, 5915, 7712, 8809, 9808, 11704, 13...   \n",
       "2  [37156, 38354, 39452, 40750, 41847, 42846, 438...   \n",
       "3  [1016, 3412, 5708, 7505, 8602, 9601, 11497, 12...   \n",
       "4  [1016, 3412, 5708, 7505, 8602, 9601, 11497, 12...   \n",
       "\n",
       "                                     tone_stop_frame  \\\n",
       "0  [1324, 3720, 6014, 7811, 8910, 9907, 11804, 13...   \n",
       "1  [1324, 3720, 6014, 7811, 8910, 9907, 11804, 13...   \n",
       "2  [37256, 38453, 39552, 40849, 41947, 42945, 439...   \n",
       "3  [1117, 3513, 5808, 7604, 8703, 9700, 11596, 13...   \n",
       "4  [1117, 3513, 5808, 7604, 8703, 9700, 11596, 13...   \n",
       "\n",
       "                                           condition  \\\n",
       "0  [1.1, 1.2, 1.2, 1.2, 1.2, 1.2, 1.2, 1.2, 1.2, ...   \n",
       "1  [1.1, 1.2, 1.2, 1.2, 1.2, 1.2, 1.2, 1.2, 1.2, ...   \n",
       "2  [rewarded, rewarded, rewarded, rewarded, rewar...   \n",
       "3  [1.4, 1.1, 1.1, 1.1, 1.1, 1.1, 1.1, 1.1, 1.1, ...   \n",
       "4  [1.4, 1.1, 1.1, 1.1, 1.1, 1.1, 1.1, 1.1, 1.1, ...   \n",
       "\n",
       "                               competition_closeness  \\\n",
       "0  [competitive, no_comp, competitive, no_comp, n...   \n",
       "1  [competitive, no_comp, competitive, no_comp, n...   \n",
       "2  [nan, nan, nan, nan, nan, nan, nan, nan, nan, ...   \n",
       "3  [no_comp, no_comp, competitive, competitive, c...   \n",
       "4  [no_comp, no_comp, competitive, competitive, c...   \n",
       "\n",
       "                                               notes  \\\n",
       "0  [nan, nan, nan, nan, nan, nan, nan, nan, nan, ...   \n",
       "1  [nan, nan, nan, nan, nan, nan, nan, nan, nan, ...   \n",
       "2  [nan, nan, nan, nan, nan, nan, nan, nan, nan, ...   \n",
       "3  [nan, nan, nan, nan, nan, nan, nan, nan, nan, ...   \n",
       "4  [nan, nan, nan, nan, nan, nan, nan, nan, nan, ...   \n",
       "\n",
       "                                          experiment  \\\n",
       "0  [standard, standard, standard, standard, stand...   \n",
       "1  [standard, standard, standard, standard, stand...   \n",
       "2  [standard, standard, standard, standard, stand...   \n",
       "3  [standard, standard, standard, standard, stand...   \n",
       "4  [standard, standard, standard, standard, stand...   \n",
       "\n",
       "                                         session_dir  \\\n",
       "0  20230612_112630_standard_comp_to_training_D1_s...   \n",
       "1  20230612_112630_standard_comp_to_training_D1_s...   \n",
       "2  20230612_112630_standard_comp_to_training_D1_s...   \n",
       "3  20230613_105657_standard_comp_to_training_D2_s...   \n",
       "4  20230613_105657_standard_comp_to_training_D2_s...   \n",
       "\n",
       "                                        all_subjects  \\\n",
       "0  [['1.1', '1.2'], ['1.1', '1.2'], ['1.1', '1.2'...   \n",
       "1  [['1.1', '1.2'], ['1.1', '1.2'], ['1.1', '1.2'...   \n",
       "2  [['1.1', '1.2'], ['1.1', '1.2'], ['1.1', '1.2'...   \n",
       "3  [['1.1', '1.4'], ['1.1', '1.4'], ['1.1', '1.4'...   \n",
       "4  [['1.1', '1.4'], ['1.1', '1.4'], ['1.1', '1.4'...   \n",
       "\n",
       "                                tone_start_timestamp  \\\n",
       "0  [1126742, 3526740, 5826740, 7626736, 8726734, ...   \n",
       "1  [1126742, 3526740, 5826740, 7626736, 8726734, ...   \n",
       "2  [37126704, 38326703, 39426702, 40726701, 41826...   \n",
       "3  [918755, 3318755, 5618754, 7418755, 8518752, 9...   \n",
       "4  [918755, 3318755, 5618754, 7418755, 8518752, 9...   \n",
       "\n",
       "                                 tone_stop_timestamp  \\\n",
       "0  [1326741, 3726740, 6026737, 7826735, 8926734, ...   \n",
       "1  [1326741, 3726740, 6026737, 7826735, 8926734, ...   \n",
       "2  [37326704, 38526703, 39626701, 40926700, 42026...   \n",
       "3  [1118758, 3518757, 5818753, 7618752, 8718757, ...   \n",
       "4  [1118758, 3518757, 5818753, 7618752, 8718757, ...   \n",
       "\n",
       "                                         trial_label  \\\n",
       "0  [win, lose, lose, lose, lose, lose, lose, lose...   \n",
       "1  [lose, win, win, win, win, win, win, win, win,...   \n",
       "2  [rewarded, rewarded, rewarded, rewarded, rewar...   \n",
       "3  [lose, win, win, win, win, win, win, win, win,...   \n",
       "4  [win, lose, lose, lose, lose, lose, lose, lose...   \n",
       "\n",
       "                                         trial_notes  \n",
       "0  [nan, nan, nan, nan, nan, nan, nan, nan, nan, ...  \n",
       "1  [nan, nan, nan, nan, nan, nan, nan, nan, nan, ...  \n",
       "2  [nan, nan, nan, nan, nan, nan, nan, nan, nan, ...  \n",
       "3  [nan, nan, nan, nan, nan, nan, nan, nan, nan, ...  \n",
       "4  [nan, nan, nan, nan, nan, nan, nan, nan, nan, ...  "
      ]
     },
     "execution_count": 46,
     "metadata": {},
     "output_type": "execute_result"
    }
   ],
   "source": [
    "GROUPED_TRIAL_LABELS_DF.head()"
   ]
  },
  {
   "cell_type": "markdown",
   "metadata": {},
   "source": [
    "## Merging the labels and LFP spectral"
   ]
  },
  {
   "cell_type": "code",
   "execution_count": 55,
   "metadata": {
    "tags": []
   },
   "outputs": [
    {
     "name": "stdout",
     "output_type": "stream",
     "text": [
      "video_name\n",
      "current_subject\n",
      "tracked_subject\n",
      "box_number\n",
      "sleap_name\n",
      "tone_start_frame\n",
      "reward_start_frame\n",
      "tone_stop_frame\n",
      "condition\n",
      "competition_closeness\n",
      "notes\n",
      "experiment\n",
      "session_dir\n",
      "all_subjects\n",
      "tone_start_timestamp\n",
      "tone_stop_timestamp\n",
      "trial_label\n",
      "trial_notes\n",
      "cohort\n",
      "tone_frames\n",
      "box_1_port_entry_frames\n",
      "box_2_port_entry_frames\n",
      "session_path\n",
      "recording\n",
      "subject\n",
      "first_timestamp\n",
      "last_timestamp\n",
      "video_timestamps\n",
      "tone_timestamps\n",
      "box_1_port_entry_timestamps\n",
      "box_2_port_entry_timestamps\n",
      "lfp_timestamps\n",
      "mPFC_theta_band\n",
      "MD_theta_band\n",
      "LH_theta_band\n",
      "BLA_theta_band\n",
      "vHPC_theta_band\n",
      "mPFC_gamma_band\n",
      "MD_gamma_band\n",
      "LH_gamma_band\n",
      "BLA_gamma_band\n",
      "vHPC_gamma_band\n",
      "mPFC_theta_phase\n",
      "MD_theta_phase\n",
      "LH_theta_phase\n",
      "BLA_theta_phase\n",
      "vHPC_theta_phase\n",
      "mPFC_gamma_phase\n",
      "MD_gamma_phase\n",
      "LH_gamma_phase\n",
      "BLA_gamma_phase\n",
      "vHPC_gamma_phase\n",
      "mPFC_RMS_filtered_power_all_frequencies_all_windows\n",
      "MD_RMS_filtered_power_all_frequencies_all_windows\n",
      "LH_RMS_filtered_power_all_frequencies_all_windows\n",
      "BLA_RMS_filtered_power_all_frequencies_all_windows\n",
      "vHPC_RMS_filtered_power_all_frequencies_all_windows\n",
      "power_timestamps\n",
      "power_calculation_frequencies\n",
      "BLA_LH_RMS_filtered_coherence_all_frequencies_all_windows\n",
      "BLA_MD_RMS_filtered_coherence_all_frequencies_all_windows\n",
      "BLA_mPFC_RMS_filtered_coherence_all_frequencies_all_windows\n",
      "BLA_vHPC_RMS_filtered_coherence_all_frequencies_all_windows\n",
      "LH_MD_RMS_filtered_coherence_all_frequencies_all_windows\n",
      "LH_mPFC_RMS_filtered_coherence_all_frequencies_all_windows\n",
      "LH_vHPC_RMS_filtered_coherence_all_frequencies_all_windows\n",
      "MD_mPFC_RMS_filtered_coherence_all_frequencies_all_windows\n",
      "MD_vHPC_RMS_filtered_coherence_all_frequencies_all_windows\n",
      "mPFC_vHPC_RMS_filtered_coherence_all_frequencies_all_windows\n",
      "coherence_timestamps\n",
      "coherence_calculation_frequencies\n",
      "BLA_LH_granger_all_frequencies_all_windows\n",
      "LH_BLA_granger_all_frequencies_all_windows\n",
      "BLA_MD_granger_all_frequencies_all_windows\n",
      "MD_BLA_granger_all_frequencies_all_windows\n",
      "BLA_mPFC_granger_all_frequencies_all_windows\n",
      "mPFC_BLA_granger_all_frequencies_all_windows\n",
      "BLA_vHPC_granger_all_frequencies_all_windows\n",
      "vHPC_BLA_granger_all_frequencies_all_windows\n",
      "LH_MD_granger_all_frequencies_all_windows\n",
      "MD_LH_granger_all_frequencies_all_windows\n",
      "LH_mPFC_granger_all_frequencies_all_windows\n",
      "mPFC_LH_granger_all_frequencies_all_windows\n",
      "LH_vHPC_granger_all_frequencies_all_windows\n",
      "vHPC_LH_granger_all_frequencies_all_windows\n",
      "MD_mPFC_granger_all_frequencies_all_windows\n",
      "mPFC_MD_granger_all_frequencies_all_windows\n",
      "MD_vHPC_granger_all_frequencies_all_windows\n",
      "vHPC_MD_granger_all_frequencies_all_windows\n",
      "mPFC_vHPC_granger_all_frequencies_all_windows\n",
      "vHPC_mPFC_granger_all_frequencies_all_windows\n",
      "granger_timestamps\n",
      "granger_calculation_frequencies\n",
      "BLA_LH_coherence_theta\n",
      "BLA_LH_coherence_gamma\n",
      "BLA_MD_coherence_theta\n",
      "BLA_MD_coherence_gamma\n",
      "BLA_mPFC_coherence_theta\n",
      "BLA_mPFC_coherence_gamma\n",
      "BLA_vHPC_coherence_theta\n",
      "BLA_vHPC_coherence_gamma\n",
      "LH_MD_coherence_theta\n",
      "LH_MD_coherence_gamma\n",
      "LH_mPFC_coherence_theta\n",
      "LH_mPFC_coherence_gamma\n",
      "LH_vHPC_coherence_theta\n",
      "LH_vHPC_coherence_gamma\n",
      "MD_mPFC_coherence_theta\n",
      "MD_mPFC_coherence_gamma\n",
      "MD_vHPC_coherence_theta\n",
      "MD_vHPC_coherence_gamma\n",
      "mPFC_vHPC_coherence_theta\n",
      "mPFC_vHPC_coherence_gamma\n",
      "BLA-to-LH_granger_theta\n",
      "BLA-to-LH_granger_gamma\n",
      "LH-to-BLA_granger_theta\n",
      "LH-to-BLA_granger_gamma\n",
      "BLA-to-MD_granger_theta\n",
      "BLA-to-MD_granger_gamma\n",
      "MD-to-BLA_granger_theta\n",
      "MD-to-BLA_granger_gamma\n",
      "BLA-to-mPFC_granger_theta\n",
      "BLA-to-mPFC_granger_gamma\n",
      "mPFC-to-BLA_granger_theta\n",
      "mPFC-to-BLA_granger_gamma\n",
      "BLA-to-vHPC_granger_theta\n",
      "BLA-to-vHPC_granger_gamma\n",
      "vHPC-to-BLA_granger_theta\n",
      "vHPC-to-BLA_granger_gamma\n",
      "LH-to-MD_granger_theta\n",
      "LH-to-MD_granger_gamma\n",
      "MD-to-LH_granger_theta\n",
      "MD-to-LH_granger_gamma\n",
      "LH-to-mPFC_granger_theta\n",
      "LH-to-mPFC_granger_gamma\n",
      "mPFC-to-LH_granger_theta\n",
      "mPFC-to-LH_granger_gamma\n",
      "LH-to-vHPC_granger_theta\n",
      "LH-to-vHPC_granger_gamma\n",
      "vHPC-to-LH_granger_theta\n",
      "vHPC-to-LH_granger_gamma\n",
      "MD-to-mPFC_granger_theta\n",
      "MD-to-mPFC_granger_gamma\n",
      "mPFC-to-MD_granger_theta\n",
      "mPFC-to-MD_granger_gamma\n",
      "MD-to-vHPC_granger_theta\n",
      "MD-to-vHPC_granger_gamma\n",
      "vHPC-to-MD_granger_theta\n",
      "vHPC-to-MD_granger_gamma\n",
      "mPFC-to-vHPC_granger_theta\n",
      "mPFC-to-vHPC_granger_gamma\n",
      "vHPC-to-mPFC_granger_theta\n",
      "vHPC-to-mPFC_granger_gamma\n",
      "mPFC_RMS_filtered_power_theta\n",
      "mPFC_RMS_filtered_power_gamma\n",
      "MD_RMS_filtered_power_theta\n",
      "MD_RMS_filtered_power_gamma\n",
      "LH_RMS_filtered_power_theta\n",
      "LH_RMS_filtered_power_gamma\n",
      "BLA_RMS_filtered_power_theta\n",
      "BLA_RMS_filtered_power_gamma\n",
      "vHPC_RMS_filtered_power_theta\n",
      "vHPC_RMS_filtered_power_gamma\n",
      "start_frame\n",
      "stop_frame\n",
      "in_video_subjects\n",
      "body_parts\n",
      "box_top_left\n",
      "box_top_right\n",
      "reward_port\n",
      "box_bottom_left\n",
      "box_bottom_right\n",
      "agent\n",
      "subject_locations\n",
      "agent_locations\n",
      "subject_thorax_velocity\n",
      "agent_thorax_velocity\n",
      "subject_thorax_to_reward_port\n",
      "agent_thorax_to_reward_port\n",
      "recording_name\n",
      "spike_clusters\n",
      "spike_times\n",
      "neuron_average_fr\n",
      "neuron_average_timestamps\n",
      "current_tracked_subject\n"
     ]
    }
   ],
   "source": [
    "for col in TRIALS_AND_SPECTRAL_DF:\n",
    "    print(col)"
   ]
  },
  {
   "cell_type": "code",
   "execution_count": 47,
   "metadata": {
    "tags": []
   },
   "outputs": [],
   "source": [
    "TRIALS_AND_SPECTRAL_DF = pd.merge(GROUPED_TRIAL_LABELS_DF, LFP_SPECTRAL_DF, on=[\"current_subject\", \"video_name\"], how=\"inner\", suffixes=('', '_y'))"
   ]
  },
  {
   "cell_type": "code",
   "execution_count": 48,
   "metadata": {
    "tags": []
   },
   "outputs": [],
   "source": [
    "TRIALS_AND_SPECTRAL_DF = TRIALS_AND_SPECTRAL_DF.drop(columns=[col for col in TRIALS_AND_SPECTRAL_DF.columns if \"_y\" in col], errors=\"ignore\")"
   ]
  },
  {
   "cell_type": "code",
   "execution_count": 56,
   "metadata": {
    "tags": []
   },
   "outputs": [
    {
     "data": {
      "text/plain": [
       "0     41000\n",
       "1         1\n",
       "2         1\n",
       "3         1\n",
       "4     32792\n",
       "5         1\n",
       "6     32792\n",
       "7      2027\n",
       "8     32860\n",
       "9      2027\n",
       "10    32860\n",
       "11    35000\n",
       "12        1\n",
       "13        1\n",
       "14        1\n",
       "15        1\n",
       "16        1\n",
       "17        1\n",
       "18        1\n",
       "19    37500\n",
       "20        1\n",
       "21        1\n",
       "22    38000\n",
       "Name: start_frame, dtype: int64"
      ]
     },
     "execution_count": 56,
     "metadata": {},
     "output_type": "execute_result"
    }
   ],
   "source": [
    "TRIALS_AND_SPECTRAL_DF[\"start_frame\"]"
   ]
  },
  {
   "cell_type": "code",
   "execution_count": 58,
   "metadata": {
    "tags": []
   },
   "outputs": [],
   "source": [
    "TRIALS_AND_SPECTRAL_DF[\"start_stop_frame\"] = TRIALS_AND_SPECTRAL_DF.apply(lambda x: (x[\"start_frame\"], x[\"stop_frame\"]), axis=1)\n"
   ]
  },
  {
   "cell_type": "code",
   "execution_count": 77,
   "metadata": {
    "tags": []
   },
   "outputs": [
    {
     "data": {
      "text/plain": [
       "0     (41000, 79050)\n",
       "1         (1, 39500)\n",
       "2         (1, 39500)\n",
       "3         (1, 32316)\n",
       "4     (32792, 68494)\n",
       "5         (1, 32316)\n",
       "6     (32792, 68494)\n",
       "7      (2027, 32239)\n",
       "8     (32860, 68287)\n",
       "9      (2027, 32239)\n",
       "10    (32860, 68287)\n",
       "11    (35000, 69766)\n",
       "12        (1, 33500)\n",
       "13        (1, 73111)\n",
       "14        (1, 73111)\n",
       "15        (1, 72635)\n",
       "16        (1, 73292)\n",
       "17        (1, 73292)\n",
       "18        (1, 31500)\n",
       "19    (37500, 69199)\n",
       "20        (1, 31500)\n",
       "21        (1, 31500)\n",
       "22    (38000, 69884)\n",
       "Name: start_stop_frame, dtype: object"
      ]
     },
     "execution_count": 77,
     "metadata": {},
     "output_type": "execute_result"
    }
   ],
   "source": [
    "TRIALS_AND_SPECTRAL_DF[\"start_stop_frame\"] "
   ]
  },
  {
   "cell_type": "markdown",
   "metadata": {},
   "source": [
    "- Making all parts of the numpy array that is not part of slice Nans"
   ]
  },
  {
   "cell_type": "code",
   "execution_count": 113,
   "metadata": {
    "tags": []
   },
   "outputs": [],
   "source": [
    "sleap_columns = [\"subject_locations\", \n",
    "                 \"agent_locations\", \n",
    "                 \"subject_thorax_velocity\", \n",
    "                 \"agent_thorax_velocity\", \n",
    "                 \"subject_thorax_to_reward_port\", \n",
    "                 \"agent_thorax_to_reward_port\"]"
   ]
  },
  {
   "cell_type": "code",
   "execution_count": null,
   "metadata": {},
   "outputs": [],
   "source": [
    "for col in sleap_columns:\n",
    "    TRIALS_AND_SPECTRAL_DF[col] = TRIALS_AND_SPECTRAL_DF.apply(lambda x: mask_slices(x[col], x[\"start_stop_frame\"]), axis=1)\n"
   ]
  },
  {
   "cell_type": "code",
   "execution_count": null,
   "metadata": {},
   "outputs": [],
   "source": [
    "raise ValueError()"
   ]
  },
  {
   "cell_type": "code",
   "execution_count": null,
   "metadata": {},
   "outputs": [],
   "source": []
  },
  {
   "cell_type": "markdown",
   "metadata": {},
   "source": [
    "- Merging rows"
   ]
  },
  {
   "cell_type": "code",
   "execution_count": 94,
   "metadata": {
    "tags": []
   },
   "outputs": [
    {
     "name": "stdout",
     "output_type": "stream",
     "text": [
      "video_name\n",
      "current_subject\n",
      "tracked_subject\n",
      "box_number\n",
      "sleap_name\n",
      "tone_start_frame\n",
      "reward_start_frame\n",
      "tone_stop_frame\n",
      "condition\n",
      "competition_closeness\n",
      "notes\n",
      "experiment\n",
      "session_dir\n",
      "all_subjects\n",
      "tone_start_timestamp\n",
      "tone_stop_timestamp\n",
      "trial_label\n",
      "trial_notes\n",
      "cohort\n",
      "tone_frames\n",
      "box_1_port_entry_frames\n",
      "box_2_port_entry_frames\n",
      "session_path\n",
      "recording\n",
      "subject\n",
      "first_timestamp\n",
      "last_timestamp\n",
      "video_timestamps\n",
      "tone_timestamps\n",
      "box_1_port_entry_timestamps\n",
      "box_2_port_entry_timestamps\n",
      "lfp_timestamps\n",
      "mPFC_theta_band\n",
      "MD_theta_band\n",
      "LH_theta_band\n",
      "BLA_theta_band\n",
      "vHPC_theta_band\n",
      "mPFC_gamma_band\n",
      "MD_gamma_band\n",
      "LH_gamma_band\n",
      "BLA_gamma_band\n",
      "vHPC_gamma_band\n",
      "mPFC_theta_phase\n",
      "MD_theta_phase\n",
      "LH_theta_phase\n",
      "BLA_theta_phase\n",
      "vHPC_theta_phase\n",
      "mPFC_gamma_phase\n",
      "MD_gamma_phase\n",
      "LH_gamma_phase\n",
      "BLA_gamma_phase\n",
      "vHPC_gamma_phase\n",
      "mPFC_RMS_filtered_power_all_frequencies_all_windows\n",
      "MD_RMS_filtered_power_all_frequencies_all_windows\n",
      "LH_RMS_filtered_power_all_frequencies_all_windows\n",
      "BLA_RMS_filtered_power_all_frequencies_all_windows\n",
      "vHPC_RMS_filtered_power_all_frequencies_all_windows\n",
      "power_timestamps\n",
      "power_calculation_frequencies\n",
      "BLA_LH_RMS_filtered_coherence_all_frequencies_all_windows\n",
      "BLA_MD_RMS_filtered_coherence_all_frequencies_all_windows\n",
      "BLA_mPFC_RMS_filtered_coherence_all_frequencies_all_windows\n",
      "BLA_vHPC_RMS_filtered_coherence_all_frequencies_all_windows\n",
      "LH_MD_RMS_filtered_coherence_all_frequencies_all_windows\n",
      "LH_mPFC_RMS_filtered_coherence_all_frequencies_all_windows\n",
      "LH_vHPC_RMS_filtered_coherence_all_frequencies_all_windows\n",
      "MD_mPFC_RMS_filtered_coherence_all_frequencies_all_windows\n",
      "MD_vHPC_RMS_filtered_coherence_all_frequencies_all_windows\n",
      "mPFC_vHPC_RMS_filtered_coherence_all_frequencies_all_windows\n",
      "coherence_timestamps\n",
      "coherence_calculation_frequencies\n",
      "BLA_LH_granger_all_frequencies_all_windows\n",
      "LH_BLA_granger_all_frequencies_all_windows\n",
      "BLA_MD_granger_all_frequencies_all_windows\n",
      "MD_BLA_granger_all_frequencies_all_windows\n",
      "BLA_mPFC_granger_all_frequencies_all_windows\n",
      "mPFC_BLA_granger_all_frequencies_all_windows\n",
      "BLA_vHPC_granger_all_frequencies_all_windows\n",
      "vHPC_BLA_granger_all_frequencies_all_windows\n",
      "LH_MD_granger_all_frequencies_all_windows\n",
      "MD_LH_granger_all_frequencies_all_windows\n",
      "LH_mPFC_granger_all_frequencies_all_windows\n",
      "mPFC_LH_granger_all_frequencies_all_windows\n",
      "LH_vHPC_granger_all_frequencies_all_windows\n",
      "vHPC_LH_granger_all_frequencies_all_windows\n",
      "MD_mPFC_granger_all_frequencies_all_windows\n",
      "mPFC_MD_granger_all_frequencies_all_windows\n",
      "MD_vHPC_granger_all_frequencies_all_windows\n",
      "vHPC_MD_granger_all_frequencies_all_windows\n",
      "mPFC_vHPC_granger_all_frequencies_all_windows\n",
      "vHPC_mPFC_granger_all_frequencies_all_windows\n",
      "granger_timestamps\n",
      "granger_calculation_frequencies\n",
      "BLA_LH_coherence_theta\n",
      "BLA_LH_coherence_gamma\n",
      "BLA_MD_coherence_theta\n",
      "BLA_MD_coherence_gamma\n",
      "BLA_mPFC_coherence_theta\n",
      "BLA_mPFC_coherence_gamma\n",
      "BLA_vHPC_coherence_theta\n",
      "BLA_vHPC_coherence_gamma\n",
      "LH_MD_coherence_theta\n",
      "LH_MD_coherence_gamma\n",
      "LH_mPFC_coherence_theta\n",
      "LH_mPFC_coherence_gamma\n",
      "LH_vHPC_coherence_theta\n",
      "LH_vHPC_coherence_gamma\n",
      "MD_mPFC_coherence_theta\n",
      "MD_mPFC_coherence_gamma\n",
      "MD_vHPC_coherence_theta\n",
      "MD_vHPC_coherence_gamma\n",
      "mPFC_vHPC_coherence_theta\n",
      "mPFC_vHPC_coherence_gamma\n",
      "BLA-to-LH_granger_theta\n",
      "BLA-to-LH_granger_gamma\n",
      "LH-to-BLA_granger_theta\n",
      "LH-to-BLA_granger_gamma\n",
      "BLA-to-MD_granger_theta\n",
      "BLA-to-MD_granger_gamma\n",
      "MD-to-BLA_granger_theta\n",
      "MD-to-BLA_granger_gamma\n",
      "BLA-to-mPFC_granger_theta\n",
      "BLA-to-mPFC_granger_gamma\n",
      "mPFC-to-BLA_granger_theta\n",
      "mPFC-to-BLA_granger_gamma\n",
      "BLA-to-vHPC_granger_theta\n",
      "BLA-to-vHPC_granger_gamma\n",
      "vHPC-to-BLA_granger_theta\n",
      "vHPC-to-BLA_granger_gamma\n",
      "LH-to-MD_granger_theta\n",
      "LH-to-MD_granger_gamma\n",
      "MD-to-LH_granger_theta\n",
      "MD-to-LH_granger_gamma\n",
      "LH-to-mPFC_granger_theta\n",
      "LH-to-mPFC_granger_gamma\n",
      "mPFC-to-LH_granger_theta\n",
      "mPFC-to-LH_granger_gamma\n",
      "LH-to-vHPC_granger_theta\n",
      "LH-to-vHPC_granger_gamma\n",
      "vHPC-to-LH_granger_theta\n",
      "vHPC-to-LH_granger_gamma\n",
      "MD-to-mPFC_granger_theta\n",
      "MD-to-mPFC_granger_gamma\n",
      "mPFC-to-MD_granger_theta\n",
      "mPFC-to-MD_granger_gamma\n",
      "MD-to-vHPC_granger_theta\n",
      "MD-to-vHPC_granger_gamma\n",
      "vHPC-to-MD_granger_theta\n",
      "vHPC-to-MD_granger_gamma\n",
      "mPFC-to-vHPC_granger_theta\n",
      "mPFC-to-vHPC_granger_gamma\n",
      "vHPC-to-mPFC_granger_theta\n",
      "vHPC-to-mPFC_granger_gamma\n",
      "mPFC_RMS_filtered_power_theta\n",
      "mPFC_RMS_filtered_power_gamma\n",
      "MD_RMS_filtered_power_theta\n",
      "MD_RMS_filtered_power_gamma\n",
      "LH_RMS_filtered_power_theta\n",
      "LH_RMS_filtered_power_gamma\n",
      "BLA_RMS_filtered_power_theta\n",
      "BLA_RMS_filtered_power_gamma\n",
      "vHPC_RMS_filtered_power_theta\n",
      "vHPC_RMS_filtered_power_gamma\n",
      "start_frame\n",
      "stop_frame\n",
      "in_video_subjects\n",
      "body_parts\n",
      "box_top_left\n",
      "box_top_right\n",
      "reward_port\n",
      "box_bottom_left\n",
      "box_bottom_right\n",
      "agent\n",
      "subject_locations\n",
      "agent_locations\n",
      "subject_thorax_velocity\n",
      "agent_thorax_velocity\n",
      "subject_thorax_to_reward_port\n",
      "agent_thorax_to_reward_port\n",
      "recording_name\n",
      "spike_clusters\n",
      "spike_times\n",
      "neuron_average_fr\n",
      "neuron_average_timestamps\n",
      "current_tracked_subject\n",
      "start_stop_frame\n"
     ]
    }
   ],
   "source": [
    "for col in TRIALS_AND_SPECTRAL_DF:\n",
    "    print(col)"
   ]
  },
  {
   "cell_type": "code",
   "execution_count": 98,
   "metadata": {
    "tags": []
   },
   "outputs": [],
   "source": [
    "aggregation_dict = {col:\"first\" for col in TRIALS_AND_SPECTRAL_DF if col not in ['subject_locations', \"current_subject\", \"session_dir\"]}"
   ]
  },
  {
   "cell_type": "code",
   "execution_count": 99,
   "metadata": {
    "tags": []
   },
   "outputs": [],
   "source": [
    "aggregation_dict[\"subject_locations\"] = list"
   ]
  },
  {
   "cell_type": "code",
   "execution_count": 101,
   "metadata": {
    "tags": []
   },
   "outputs": [],
   "source": [
    "TRIALS_AND_SPECTRAL_DF = TRIALS_AND_SPECTRAL_DF.groupby([\"current_subject\", \"session_dir\"]).agg(aggregation_dict).reset_index()"
   ]
  },
  {
   "cell_type": "code",
   "execution_count": 106,
   "metadata": {
    "tags": []
   },
   "outputs": [
    {
     "data": {
      "text/html": [
       "<div>\n",
       "<style scoped>\n",
       "    .dataframe tbody tr th:only-of-type {\n",
       "        vertical-align: middle;\n",
       "    }\n",
       "\n",
       "    .dataframe tbody tr th {\n",
       "        vertical-align: top;\n",
       "    }\n",
       "\n",
       "    .dataframe thead th {\n",
       "        text-align: right;\n",
       "    }\n",
       "</style>\n",
       "<table border=\"1\" class=\"dataframe\">\n",
       "  <thead>\n",
       "    <tr style=\"text-align: right;\">\n",
       "      <th></th>\n",
       "      <th></th>\n",
       "      <th>video_name</th>\n",
       "      <th>tracked_subject</th>\n",
       "      <th>box_number</th>\n",
       "      <th>sleap_name</th>\n",
       "      <th>notes</th>\n",
       "      <th>start_frame</th>\n",
       "      <th>stop_frame</th>\n",
       "      <th>in_video_subjects</th>\n",
       "    </tr>\n",
       "    <tr>\n",
       "      <th>current_subject</th>\n",
       "      <th>session_dir</th>\n",
       "      <th></th>\n",
       "      <th></th>\n",
       "      <th></th>\n",
       "      <th></th>\n",
       "      <th></th>\n",
       "      <th></th>\n",
       "      <th></th>\n",
       "      <th></th>\n",
       "    </tr>\n",
       "  </thead>\n",
       "  <tbody>\n",
       "    <tr>\n",
       "      <th rowspan=\"5\" valign=\"top\">1.1</th>\n",
       "      <th>20230617_115521_standard_comp_to_omission_D1_subj_1-1_and_1-2</th>\n",
       "      <td>20230617_115521_standard_comp_to_omission_D1_s...</td>\n",
       "      <td>[['1.1', '1.2'], ['1.1', '1.2'], ['1.1', '1.2'...</td>\n",
       "      <td>[1, 1, 1, 1, 1, 1, 1, 1, 1, 1, 1, 1, 1, 1, 1, ...</td>\n",
       "      <td>20230617_115521_standard_comp_to_omission_D1_s...</td>\n",
       "      <td>[nan, nan, nan, nan, nan, nan, nan, nan, 1.2 g...</td>\n",
       "      <td>41000</td>\n",
       "      <td>79050</td>\n",
       "      <td>[1.1, 1.2]</td>\n",
       "    </tr>\n",
       "    <tr>\n",
       "      <th>20230618_100636_standard_comp_to_omission_D2_subj_1-4_and_1-1</th>\n",
       "      <td>20230618_100636_standard_comp_to_omission_D2_s...</td>\n",
       "      <td>[['1.1', '1.4'], ['1.1', '1.4'], ['1.1', '1.4'...</td>\n",
       "      <td>[1, 1, 1, 1, 1, 1, 1, 1, 1, 1, 1, 1, 1, 1, 1, ...</td>\n",
       "      <td>20230618_100636_standard_comp_to_omission_D2_s...</td>\n",
       "      <td>[nan, nan, nan, nan, nan, nan, nan, nan, nan, ...</td>\n",
       "      <td>1</td>\n",
       "      <td>32316</td>\n",
       "      <td>[1.1, 1.4]</td>\n",
       "    </tr>\n",
       "    <tr>\n",
       "      <th>20230620_114347_standard_comp_to_omission_D4_subj_1-2_and_1-1</th>\n",
       "      <td>20230620_114347_standard_comp_to_omission_D4_s...</td>\n",
       "      <td>[['1.1', '1.2'], ['1.1', '1.2'], ['1.1', '1.2'...</td>\n",
       "      <td>[1, 1, 1, 1, 1, 1, 1, 1, 1, 1, 1, 1, 1, 1, 1, ...</td>\n",
       "      <td>20230620_114347_standard_comp_to_omission_D4_s...</td>\n",
       "      <td>[nan, nan, 1.1 still at port at 8791, nan, nan...</td>\n",
       "      <td>2027</td>\n",
       "      <td>32239</td>\n",
       "      <td>[1.1, 1.2]</td>\n",
       "    </tr>\n",
       "    <tr>\n",
       "      <th>20230622_110832_standard_comp_to_both_rewarded_D1_subj_1-1_and_1-2</th>\n",
       "      <td>20230622_110832_standard_comp_to_both_rewarded...</td>\n",
       "      <td>[['1.1', '1.2'], ['1.1', '1.2'], ['1.1', '1.2'...</td>\n",
       "      <td>[1, 1, 1, 1, 1, 1, 1, 1, 1, 1, 1, 1, 1, 1, 1, ...</td>\n",
       "      <td>20230622_110832_standard_comp_to_both_rewarded...</td>\n",
       "      <td>[nan, nan, nan, nan, nan, nan, nan, nan, nan, ...</td>\n",
       "      <td>1</td>\n",
       "      <td>73111</td>\n",
       "      <td>[1.1, 1.2]</td>\n",
       "    </tr>\n",
       "    <tr>\n",
       "      <th>20230625_112913_standard_comp_to_both_rewarded_D4_subj_1-1_and_1-4</th>\n",
       "      <td>20230625_112913_standard_comp_to_both_rewarded...</td>\n",
       "      <td>[['1.1', '1.4'], ['1.1', '1.4'], ['1.1', '1.4'...</td>\n",
       "      <td>[1, 1, 1, 1, 1, 1, 1, 1, 1, 1, 1, 1, 1, 1, 1, ...</td>\n",
       "      <td>20230625_112913_standard_comp_to_both_rewarded...</td>\n",
       "      <td>[nan, nan, nan, nan, nan, nan, nan, nan, nan, ...</td>\n",
       "      <td>1</td>\n",
       "      <td>73292</td>\n",
       "      <td>[1.1, 1.4]</td>\n",
       "    </tr>\n",
       "  </tbody>\n",
       "</table>\n",
       "</div>"
      ],
      "text/plain": [
       "                                                                                                           video_name  \\\n",
       "current_subject session_dir                                                                                             \n",
       "1.1             20230617_115521_standard_comp_to_omission_D1_su...  20230617_115521_standard_comp_to_omission_D1_s...   \n",
       "                20230618_100636_standard_comp_to_omission_D2_su...  20230618_100636_standard_comp_to_omission_D2_s...   \n",
       "                20230620_114347_standard_comp_to_omission_D4_su...  20230620_114347_standard_comp_to_omission_D4_s...   \n",
       "                20230622_110832_standard_comp_to_both_rewarded_...  20230622_110832_standard_comp_to_both_rewarded...   \n",
       "                20230625_112913_standard_comp_to_both_rewarded_...  20230625_112913_standard_comp_to_both_rewarded...   \n",
       "\n",
       "                                                                                                      tracked_subject  \\\n",
       "current_subject session_dir                                                                                             \n",
       "1.1             20230617_115521_standard_comp_to_omission_D1_su...  [['1.1', '1.2'], ['1.1', '1.2'], ['1.1', '1.2'...   \n",
       "                20230618_100636_standard_comp_to_omission_D2_su...  [['1.1', '1.4'], ['1.1', '1.4'], ['1.1', '1.4'...   \n",
       "                20230620_114347_standard_comp_to_omission_D4_su...  [['1.1', '1.2'], ['1.1', '1.2'], ['1.1', '1.2'...   \n",
       "                20230622_110832_standard_comp_to_both_rewarded_...  [['1.1', '1.2'], ['1.1', '1.2'], ['1.1', '1.2'...   \n",
       "                20230625_112913_standard_comp_to_both_rewarded_...  [['1.1', '1.4'], ['1.1', '1.4'], ['1.1', '1.4'...   \n",
       "\n",
       "                                                                                                           box_number  \\\n",
       "current_subject session_dir                                                                                             \n",
       "1.1             20230617_115521_standard_comp_to_omission_D1_su...  [1, 1, 1, 1, 1, 1, 1, 1, 1, 1, 1, 1, 1, 1, 1, ...   \n",
       "                20230618_100636_standard_comp_to_omission_D2_su...  [1, 1, 1, 1, 1, 1, 1, 1, 1, 1, 1, 1, 1, 1, 1, ...   \n",
       "                20230620_114347_standard_comp_to_omission_D4_su...  [1, 1, 1, 1, 1, 1, 1, 1, 1, 1, 1, 1, 1, 1, 1, ...   \n",
       "                20230622_110832_standard_comp_to_both_rewarded_...  [1, 1, 1, 1, 1, 1, 1, 1, 1, 1, 1, 1, 1, 1, 1, ...   \n",
       "                20230625_112913_standard_comp_to_both_rewarded_...  [1, 1, 1, 1, 1, 1, 1, 1, 1, 1, 1, 1, 1, 1, 1, ...   \n",
       "\n",
       "                                                                                                           sleap_name  \\\n",
       "current_subject session_dir                                                                                             \n",
       "1.1             20230617_115521_standard_comp_to_omission_D1_su...  20230617_115521_standard_comp_to_omission_D1_s...   \n",
       "                20230618_100636_standard_comp_to_omission_D2_su...  20230618_100636_standard_comp_to_omission_D2_s...   \n",
       "                20230620_114347_standard_comp_to_omission_D4_su...  20230620_114347_standard_comp_to_omission_D4_s...   \n",
       "                20230622_110832_standard_comp_to_both_rewarded_...  20230622_110832_standard_comp_to_both_rewarded...   \n",
       "                20230625_112913_standard_comp_to_both_rewarded_...  20230625_112913_standard_comp_to_both_rewarded...   \n",
       "\n",
       "                                                                                                                notes  \\\n",
       "current_subject session_dir                                                                                             \n",
       "1.1             20230617_115521_standard_comp_to_omission_D1_su...  [nan, nan, nan, nan, nan, nan, nan, nan, 1.2 g...   \n",
       "                20230618_100636_standard_comp_to_omission_D2_su...  [nan, nan, nan, nan, nan, nan, nan, nan, nan, ...   \n",
       "                20230620_114347_standard_comp_to_omission_D4_su...  [nan, nan, 1.1 still at port at 8791, nan, nan...   \n",
       "                20230622_110832_standard_comp_to_both_rewarded_...  [nan, nan, nan, nan, nan, nan, nan, nan, nan, ...   \n",
       "                20230625_112913_standard_comp_to_both_rewarded_...  [nan, nan, nan, nan, nan, nan, nan, nan, nan, ...   \n",
       "\n",
       "                                                                    start_frame  \\\n",
       "current_subject session_dir                                                       \n",
       "1.1             20230617_115521_standard_comp_to_omission_D1_su...        41000   \n",
       "                20230618_100636_standard_comp_to_omission_D2_su...            1   \n",
       "                20230620_114347_standard_comp_to_omission_D4_su...         2027   \n",
       "                20230622_110832_standard_comp_to_both_rewarded_...            1   \n",
       "                20230625_112913_standard_comp_to_both_rewarded_...            1   \n",
       "\n",
       "                                                                    stop_frame  \\\n",
       "current_subject session_dir                                                      \n",
       "1.1             20230617_115521_standard_comp_to_omission_D1_su...       79050   \n",
       "                20230618_100636_standard_comp_to_omission_D2_su...       32316   \n",
       "                20230620_114347_standard_comp_to_omission_D4_su...       32239   \n",
       "                20230622_110832_standard_comp_to_both_rewarded_...       73111   \n",
       "                20230625_112913_standard_comp_to_both_rewarded_...       73292   \n",
       "\n",
       "                                                                   in_video_subjects  \n",
       "current_subject session_dir                                                           \n",
       "1.1             20230617_115521_standard_comp_to_omission_D1_su...        [1.1, 1.2]  \n",
       "                20230618_100636_standard_comp_to_omission_D2_su...        [1.1, 1.4]  \n",
       "                20230620_114347_standard_comp_to_omission_D4_su...        [1.1, 1.2]  \n",
       "                20230622_110832_standard_comp_to_both_rewarded_...        [1.1, 1.2]  \n",
       "                20230625_112913_standard_comp_to_both_rewarded_...        [1.1, 1.4]  "
      ]
     },
     "execution_count": 106,
     "metadata": {},
     "output_type": "execute_result"
    }
   ],
   "source": [
    "TRIALS_AND_SPECTRAL_DF[drop_columns].head()"
   ]
  },
  {
   "cell_type": "code",
   "execution_count": 104,
   "metadata": {
    "tags": []
   },
   "outputs": [],
   "source": [
    "drop_columns = [\"video_name\", \"tracked_subject\", \"box_number\", \"sleap_name\", \"notes\", \"start_frame\", \"stop_frame\", \"in_video_subjects\", \"current_tracked_subject\", \"start_stop_frame\"]"
   ]
  },
  {
   "cell_type": "code",
   "execution_count": null,
   "metadata": {},
   "outputs": [],
   "source": [
    "\n",
    "body_parts\n",
    "box_top_left\n",
    "box_top_right\n",
    "reward_port\n",
    "box_bottom_left\n",
    "box_bottom_right\n",
    "agent\n",
    "\n",
    "recording_name"
   ]
  },
  {
   "cell_type": "code",
   "execution_count": null,
   "metadata": {
    "tags": []
   },
   "outputs": [],
   "source": []
  },
  {
   "cell_type": "code",
   "execution_count": null,
   "metadata": {},
   "outputs": [],
   "source": [
    "agent_locations\n",
    "subject_thorax_velocity\n",
    "agent_thorax_velocity\n",
    "subject_thorax_to_reward_port\n",
    "agent_thorax_to_reward_port"
   ]
  },
  {
   "cell_type": "code",
   "execution_count": 103,
   "metadata": {
    "tags": []
   },
   "outputs": [
    {
     "name": "stdout",
     "output_type": "stream",
     "text": [
      "video_name\n",
      "tracked_subject\n",
      "box_number\n",
      "sleap_name\n",
      "tone_start_frame\n",
      "reward_start_frame\n",
      "tone_stop_frame\n",
      "condition\n",
      "competition_closeness\n",
      "notes\n",
      "experiment\n",
      "all_subjects\n",
      "tone_start_timestamp\n",
      "tone_stop_timestamp\n",
      "trial_label\n",
      "trial_notes\n",
      "cohort\n",
      "tone_frames\n",
      "box_1_port_entry_frames\n",
      "box_2_port_entry_frames\n",
      "session_path\n",
      "recording\n",
      "subject\n",
      "first_timestamp\n",
      "last_timestamp\n",
      "video_timestamps\n",
      "tone_timestamps\n",
      "box_1_port_entry_timestamps\n",
      "box_2_port_entry_timestamps\n",
      "lfp_timestamps\n",
      "mPFC_theta_band\n",
      "MD_theta_band\n",
      "LH_theta_band\n",
      "BLA_theta_band\n",
      "vHPC_theta_band\n",
      "mPFC_gamma_band\n",
      "MD_gamma_band\n",
      "LH_gamma_band\n",
      "BLA_gamma_band\n",
      "vHPC_gamma_band\n",
      "mPFC_theta_phase\n",
      "MD_theta_phase\n",
      "LH_theta_phase\n",
      "BLA_theta_phase\n",
      "vHPC_theta_phase\n",
      "mPFC_gamma_phase\n",
      "MD_gamma_phase\n",
      "LH_gamma_phase\n",
      "BLA_gamma_phase\n",
      "vHPC_gamma_phase\n",
      "mPFC_RMS_filtered_power_all_frequencies_all_windows\n",
      "MD_RMS_filtered_power_all_frequencies_all_windows\n",
      "LH_RMS_filtered_power_all_frequencies_all_windows\n",
      "BLA_RMS_filtered_power_all_frequencies_all_windows\n",
      "vHPC_RMS_filtered_power_all_frequencies_all_windows\n",
      "power_timestamps\n",
      "power_calculation_frequencies\n",
      "BLA_LH_RMS_filtered_coherence_all_frequencies_all_windows\n",
      "BLA_MD_RMS_filtered_coherence_all_frequencies_all_windows\n",
      "BLA_mPFC_RMS_filtered_coherence_all_frequencies_all_windows\n",
      "BLA_vHPC_RMS_filtered_coherence_all_frequencies_all_windows\n",
      "LH_MD_RMS_filtered_coherence_all_frequencies_all_windows\n",
      "LH_mPFC_RMS_filtered_coherence_all_frequencies_all_windows\n",
      "LH_vHPC_RMS_filtered_coherence_all_frequencies_all_windows\n",
      "MD_mPFC_RMS_filtered_coherence_all_frequencies_all_windows\n",
      "MD_vHPC_RMS_filtered_coherence_all_frequencies_all_windows\n",
      "mPFC_vHPC_RMS_filtered_coherence_all_frequencies_all_windows\n",
      "coherence_timestamps\n",
      "coherence_calculation_frequencies\n",
      "BLA_LH_granger_all_frequencies_all_windows\n",
      "LH_BLA_granger_all_frequencies_all_windows\n",
      "BLA_MD_granger_all_frequencies_all_windows\n",
      "MD_BLA_granger_all_frequencies_all_windows\n",
      "BLA_mPFC_granger_all_frequencies_all_windows\n",
      "mPFC_BLA_granger_all_frequencies_all_windows\n",
      "BLA_vHPC_granger_all_frequencies_all_windows\n",
      "vHPC_BLA_granger_all_frequencies_all_windows\n",
      "LH_MD_granger_all_frequencies_all_windows\n",
      "MD_LH_granger_all_frequencies_all_windows\n",
      "LH_mPFC_granger_all_frequencies_all_windows\n",
      "mPFC_LH_granger_all_frequencies_all_windows\n",
      "LH_vHPC_granger_all_frequencies_all_windows\n",
      "vHPC_LH_granger_all_frequencies_all_windows\n",
      "MD_mPFC_granger_all_frequencies_all_windows\n",
      "mPFC_MD_granger_all_frequencies_all_windows\n",
      "MD_vHPC_granger_all_frequencies_all_windows\n",
      "vHPC_MD_granger_all_frequencies_all_windows\n",
      "mPFC_vHPC_granger_all_frequencies_all_windows\n",
      "vHPC_mPFC_granger_all_frequencies_all_windows\n",
      "granger_timestamps\n",
      "granger_calculation_frequencies\n",
      "BLA_LH_coherence_theta\n",
      "BLA_LH_coherence_gamma\n",
      "BLA_MD_coherence_theta\n",
      "BLA_MD_coherence_gamma\n",
      "BLA_mPFC_coherence_theta\n",
      "BLA_mPFC_coherence_gamma\n",
      "BLA_vHPC_coherence_theta\n",
      "BLA_vHPC_coherence_gamma\n",
      "LH_MD_coherence_theta\n",
      "LH_MD_coherence_gamma\n",
      "LH_mPFC_coherence_theta\n",
      "LH_mPFC_coherence_gamma\n",
      "LH_vHPC_coherence_theta\n",
      "LH_vHPC_coherence_gamma\n",
      "MD_mPFC_coherence_theta\n",
      "MD_mPFC_coherence_gamma\n",
      "MD_vHPC_coherence_theta\n",
      "MD_vHPC_coherence_gamma\n",
      "mPFC_vHPC_coherence_theta\n",
      "mPFC_vHPC_coherence_gamma\n",
      "BLA-to-LH_granger_theta\n",
      "BLA-to-LH_granger_gamma\n",
      "LH-to-BLA_granger_theta\n",
      "LH-to-BLA_granger_gamma\n",
      "BLA-to-MD_granger_theta\n",
      "BLA-to-MD_granger_gamma\n",
      "MD-to-BLA_granger_theta\n",
      "MD-to-BLA_granger_gamma\n",
      "BLA-to-mPFC_granger_theta\n",
      "BLA-to-mPFC_granger_gamma\n",
      "mPFC-to-BLA_granger_theta\n",
      "mPFC-to-BLA_granger_gamma\n",
      "BLA-to-vHPC_granger_theta\n",
      "BLA-to-vHPC_granger_gamma\n",
      "vHPC-to-BLA_granger_theta\n",
      "vHPC-to-BLA_granger_gamma\n",
      "LH-to-MD_granger_theta\n",
      "LH-to-MD_granger_gamma\n",
      "MD-to-LH_granger_theta\n",
      "MD-to-LH_granger_gamma\n",
      "LH-to-mPFC_granger_theta\n",
      "LH-to-mPFC_granger_gamma\n",
      "mPFC-to-LH_granger_theta\n",
      "mPFC-to-LH_granger_gamma\n",
      "LH-to-vHPC_granger_theta\n",
      "LH-to-vHPC_granger_gamma\n",
      "vHPC-to-LH_granger_theta\n",
      "vHPC-to-LH_granger_gamma\n",
      "MD-to-mPFC_granger_theta\n",
      "MD-to-mPFC_granger_gamma\n",
      "mPFC-to-MD_granger_theta\n",
      "mPFC-to-MD_granger_gamma\n",
      "MD-to-vHPC_granger_theta\n",
      "MD-to-vHPC_granger_gamma\n",
      "vHPC-to-MD_granger_theta\n",
      "vHPC-to-MD_granger_gamma\n",
      "mPFC-to-vHPC_granger_theta\n",
      "mPFC-to-vHPC_granger_gamma\n",
      "vHPC-to-mPFC_granger_theta\n",
      "vHPC-to-mPFC_granger_gamma\n",
      "mPFC_RMS_filtered_power_theta\n",
      "mPFC_RMS_filtered_power_gamma\n",
      "MD_RMS_filtered_power_theta\n",
      "MD_RMS_filtered_power_gamma\n",
      "LH_RMS_filtered_power_theta\n",
      "LH_RMS_filtered_power_gamma\n",
      "BLA_RMS_filtered_power_theta\n",
      "BLA_RMS_filtered_power_gamma\n",
      "vHPC_RMS_filtered_power_theta\n",
      "vHPC_RMS_filtered_power_gamma\n",
      "start_frame\n",
      "stop_frame\n",
      "in_video_subjects\n",
      "body_parts\n",
      "box_top_left\n",
      "box_top_right\n",
      "reward_port\n",
      "box_bottom_left\n",
      "box_bottom_right\n",
      "agent\n",
      "agent_locations\n",
      "subject_thorax_velocity\n",
      "agent_thorax_velocity\n",
      "subject_thorax_to_reward_port\n",
      "agent_thorax_to_reward_port\n",
      "recording_name\n",
      "spike_clusters\n",
      "spike_times\n",
      "neuron_average_fr\n",
      "neuron_average_timestamps\n",
      "current_tracked_subject\n",
      "start_stop_frame\n",
      "subject_locations\n"
     ]
    }
   ],
   "source": [
    "for col in TRIALS_AND_SPECTRAL_DF:\n",
    "    print(col)"
   ]
  },
  {
   "cell_type": "code",
   "execution_count": null,
   "metadata": {},
   "outputs": [],
   "source": [
    "raise ValueError()"
   ]
  },
  {
   "cell_type": "code",
   "execution_count": 102,
   "metadata": {
    "tags": []
   },
   "outputs": [
    {
     "data": {
      "text/html": [
       "<div>\n",
       "<style scoped>\n",
       "    .dataframe tbody tr th:only-of-type {\n",
       "        vertical-align: middle;\n",
       "    }\n",
       "\n",
       "    .dataframe tbody tr th {\n",
       "        vertical-align: top;\n",
       "    }\n",
       "\n",
       "    .dataframe thead th {\n",
       "        text-align: right;\n",
       "    }\n",
       "</style>\n",
       "<table border=\"1\" class=\"dataframe\">\n",
       "  <thead>\n",
       "    <tr style=\"text-align: right;\">\n",
       "      <th></th>\n",
       "      <th></th>\n",
       "      <th>video_name</th>\n",
       "      <th>tracked_subject</th>\n",
       "      <th>box_number</th>\n",
       "      <th>sleap_name</th>\n",
       "      <th>tone_start_frame</th>\n",
       "      <th>reward_start_frame</th>\n",
       "      <th>tone_stop_frame</th>\n",
       "      <th>condition</th>\n",
       "      <th>competition_closeness</th>\n",
       "      <th>notes</th>\n",
       "      <th>...</th>\n",
       "      <th>subject_thorax_to_reward_port</th>\n",
       "      <th>agent_thorax_to_reward_port</th>\n",
       "      <th>recording_name</th>\n",
       "      <th>spike_clusters</th>\n",
       "      <th>spike_times</th>\n",
       "      <th>neuron_average_fr</th>\n",
       "      <th>neuron_average_timestamps</th>\n",
       "      <th>current_tracked_subject</th>\n",
       "      <th>start_stop_frame</th>\n",
       "      <th>subject_locations</th>\n",
       "    </tr>\n",
       "    <tr>\n",
       "      <th>current_subject</th>\n",
       "      <th>session_dir</th>\n",
       "      <th></th>\n",
       "      <th></th>\n",
       "      <th></th>\n",
       "      <th></th>\n",
       "      <th></th>\n",
       "      <th></th>\n",
       "      <th></th>\n",
       "      <th></th>\n",
       "      <th></th>\n",
       "      <th></th>\n",
       "      <th></th>\n",
       "      <th></th>\n",
       "      <th></th>\n",
       "      <th></th>\n",
       "      <th></th>\n",
       "      <th></th>\n",
       "      <th></th>\n",
       "      <th></th>\n",
       "      <th></th>\n",
       "      <th></th>\n",
       "      <th></th>\n",
       "    </tr>\n",
       "  </thead>\n",
       "  <tbody>\n",
       "    <tr>\n",
       "      <th rowspan=\"7\" valign=\"top\">1.1</th>\n",
       "      <th>20230617_115521_standard_comp_to_omission_D1_subj_1-1_and_1-2</th>\n",
       "      <td>20230617_115521_standard_comp_to_omission_D1_s...</td>\n",
       "      <td>[['1.1', '1.2'], ['1.1', '1.2'], ['1.1', '1.2'...</td>\n",
       "      <td>[1, 1, 1, 1, 1, 1, 1, 1, 1, 1, 1, 1, 1, 1, 1, ...</td>\n",
       "      <td>20230617_115521_standard_comp_to_omission_D1_s...</td>\n",
       "      <td>[1029, 3425, 5721, 7517, 8615, 9613, 11510, 13...</td>\n",
       "      <td>[1129, 3525, 5821, 7617, 8715, 9713, 11610, 13...</td>\n",
       "      <td>[1229, 3624, 5920, 7717, 8815, 9812, 11709, 13...</td>\n",
       "      <td>[1.2, 1.1, 1.1, 1.2, 1.1, 1.1, 1.1, 1.1, 1.1, ...</td>\n",
       "      <td>[competitive, competitive, competitive, no_com...</td>\n",
       "      <td>[nan, nan, nan, nan, nan, nan, nan, nan, 1.2 g...</td>\n",
       "      <td>...</td>\n",
       "      <td>[25.6, 25.84, 25.86, 25.86, 25.86, 25.86, 25.8...</td>\n",
       "      <td>[25.6, 25.84, 25.86, 25.86, 25.86, 25.86, 25.8...</td>\n",
       "      <td>20230617_115521_standard_comp_to_omission_D1_s...</td>\n",
       "      <td>[3, 4, 5, 6, 17, 28, 29, 39, 48, 52, 53, 54, 5...</td>\n",
       "      <td>[[673223.0, 2367433.0, 2569212.0, 3969647.0, 3...</td>\n",
       "      <td>[[0.0, 0.0, 0.0, 0.0, 0.0, 0.0, 0.0, 0.0, 0.0,...</td>\n",
       "      <td>[0, 2000, 4000, 6000, 8000, 10000, 12000, 1400...</td>\n",
       "      <td>1.1</td>\n",
       "      <td>(41000, 79050)</td>\n",
       "      <td>[[[[nan nan], [nan nan], [nan nan], [nan nan],...</td>\n",
       "    </tr>\n",
       "    <tr>\n",
       "      <th>20230618_100636_standard_comp_to_omission_D2_subj_1-4_and_1-1</th>\n",
       "      <td>20230618_100636_standard_comp_to_omission_D2_s...</td>\n",
       "      <td>[['1.1', '1.4'], ['1.1', '1.4'], ['1.1', '1.4'...</td>\n",
       "      <td>[1, 1, 1, 1, 1, 1, 1, 1, 1, 1, 1, 1, 1, 1, 1, ...</td>\n",
       "      <td>20230618_100636_standard_comp_to_omission_D2_s...</td>\n",
       "      <td>[1098, 3492, 5788, 7585, 8684, 9681, 11577, 13...</td>\n",
       "      <td>[1198, 3592, 5888, 7685, 8784, 9781, 11677, 13...</td>\n",
       "      <td>[1297, 3693, 5988, 7784, 8883, 9880, 11777, 13...</td>\n",
       "      <td>[1.4, 1.1, 1.1, 1.4, 1.1, 1.4, 1.4, 1.4, 1.1, ...</td>\n",
       "      <td>[no_comp, no_comp, no_comp, no_comp, no_comp, ...</td>\n",
       "      <td>[nan, nan, nan, nan, nan, nan, nan, nan, nan, ...</td>\n",
       "      <td>...</td>\n",
       "      <td>[5.727, 5.91, 5.93, 5.965, 5.99, 5.992, 6.355,...</td>\n",
       "      <td>[13.75, 14.18, 13.734, 13.74, 13.76, 13.84, 13...</td>\n",
       "      <td>20230618_100636_standard_comp_to_omission_D2_s...</td>\n",
       "      <td>[7, 11, 12, 48, 50, 51, 61, 64, 76, 84, 90, 98...</td>\n",
       "      <td>[[506.0, 1419.0, 2358.0, 5104.0, 6785.0, 7620....</td>\n",
       "      <td>[[2.0, 1.0, 1.0, 2.0, 1.0, 0.0, 3.0, 0.0, 1.0,...</td>\n",
       "      <td>[0, 2000, 4000, 6000, 8000, 10000, 12000, 1400...</td>\n",
       "      <td>1.1_1.4</td>\n",
       "      <td>(1, 32316)</td>\n",
       "      <td>[[[[nan nan], [nan nan], [nan nan], [nan nan],...</td>\n",
       "    </tr>\n",
       "    <tr>\n",
       "      <th>20230620_114347_standard_comp_to_omission_D4_subj_1-2_and_1-1</th>\n",
       "      <td>20230620_114347_standard_comp_to_omission_D4_s...</td>\n",
       "      <td>[['1.1', '1.2'], ['1.1', '1.2'], ['1.1', '1.2'...</td>\n",
       "      <td>[1, 1, 1, 1, 1, 1, 1, 1, 1, 1, 1, 1, 1, 1, 1, ...</td>\n",
       "      <td>20230620_114347_standard_comp_to_omission_D4_s...</td>\n",
       "      <td>[5756, 7553, 8650, 9649, 11545, 13042, 15139, ...</td>\n",
       "      <td>[5856, 7653, 8750, 9749, 11645, 13142, 15239, ...</td>\n",
       "      <td>[5955, 7752, 8851, 9848, 11745, 13243, 15338, ...</td>\n",
       "      <td>[1.2, 1.1, 1.1, 1.1, 1.1, 1.2, 1.1, 1.1, 1.2, ...</td>\n",
       "      <td>[competitive, no_comp, competitive, no_comp, n...</td>\n",
       "      <td>[nan, nan, 1.1 still at port at 8791, nan, nan...</td>\n",
       "      <td>...</td>\n",
       "      <td>[7.754, 7.24, 6.785, 6.45, 5.996, 5.95, 5.574,...</td>\n",
       "      <td>[27.14, 27.14, 27.14, 27.14, 27.14, 27.14, 27....</td>\n",
       "      <td>20230620_114347_standard_comp_to_omission_D4_s...</td>\n",
       "      <td>[2, 22, 64, 89, 98, 100, 119, 121, 122, 126]</td>\n",
       "      <td>[[264055.0, 325873.0, 327931.0, 330996.0, 3344...</td>\n",
       "      <td>[[0.0, 0.0, 0.0, 0.0, 0.0, 0.0, 0.0, 0.0, 0.0,...</td>\n",
       "      <td>[0, 2000, 4000, 6000, 8000, 10000, 12000, 1400...</td>\n",
       "      <td>1.1_1.2</td>\n",
       "      <td>(2027, 32239)</td>\n",
       "      <td>[[[[nan nan], [nan nan], [nan nan], [nan nan],...</td>\n",
       "    </tr>\n",
       "    <tr>\n",
       "      <th>20230622_110832_standard_comp_to_both_rewarded_D1_subj_1-1_and_1-2</th>\n",
       "      <td>20230622_110832_standard_comp_to_both_rewarded...</td>\n",
       "      <td>[['1.1', '1.2'], ['1.1', '1.2'], ['1.1', '1.2'...</td>\n",
       "      <td>[1, 1, 1, 1, 1, 1, 1, 1, 1, 1, 1, 1, 1, 1, 1, ...</td>\n",
       "      <td>20230622_110832_standard_comp_to_both_rewarded...</td>\n",
       "      <td>[1129, 3525, 5820, 7617, 8715, 9712, 11609, 13...</td>\n",
       "      <td>[1229, 3625, 5920, 7717, 8815, 9812, 11709, 13...</td>\n",
       "      <td>[1328, 3724, 6019, 7816, 8914, 9913, 11810, 13...</td>\n",
       "      <td>[1.2, 1.2, 1.2, 1.2, 1.2, 1.2, 1.2, 1.2, 1.2, ...</td>\n",
       "      <td>[no_comp, no_comp, no_comp, no_comp, no_comp, ...</td>\n",
       "      <td>[nan, nan, nan, nan, nan, nan, nan, nan, nan, ...</td>\n",
       "      <td>...</td>\n",
       "      <td>[27.81, 27.81, 27.81, 27.81, 27.81, 27.55, 27....</td>\n",
       "      <td>[8.75, 8.75, 8.766, 8.77, 8.77, 8.76, 8.76, 8....</td>\n",
       "      <td>20230622_110832_standard_comp_to_both_rewarded...</td>\n",
       "      <td>[1, 2, 15, 77, 110, 113, 115, 121, 148]</td>\n",
       "      <td>[[55448.0, 97552.0, 155723.0, 234331.0, 283736...</td>\n",
       "      <td>[[0.0, 0.0, 0.0, 0.0, 0.0, 0.0, 0.0, 0.0, 0.0,...</td>\n",
       "      <td>[0, 2000, 4000, 6000, 8000, 10000, 12000, 1400...</td>\n",
       "      <td>1.1_1.2</td>\n",
       "      <td>(1, 73111)</td>\n",
       "      <td>[[[[nan nan], [nan nan], [nan nan], [nan nan],...</td>\n",
       "    </tr>\n",
       "    <tr>\n",
       "      <th>20230625_112913_standard_comp_to_both_rewarded_D4_subj_1-1_and_1-4</th>\n",
       "      <td>20230625_112913_standard_comp_to_both_rewarded...</td>\n",
       "      <td>[['1.1', '1.4'], ['1.1', '1.4'], ['1.1', '1.4'...</td>\n",
       "      <td>[1, 1, 1, 1, 1, 1, 1, 1, 1, 1, 1, 1, 1, 1, 1, ...</td>\n",
       "      <td>20230625_112913_standard_comp_to_both_rewarded...</td>\n",
       "      <td>[1101, 3496, 5792, 7588, 8687, 9684, 11581, 13...</td>\n",
       "      <td>[1201, 3596, 5892, 7688, 8787, 9784, 11681, 13...</td>\n",
       "      <td>[1300, 3696, 5991, 7788, 8886, 9883, 11780, 13...</td>\n",
       "      <td>[1.4, 1.1, 1.1, 1.1, 1.1, 1.1, 1.1, 1.1, 1.1, ...</td>\n",
       "      <td>[no_comp, no_comp, competitive, competitive, n...</td>\n",
       "      <td>[nan, nan, nan, nan, nan, nan, nan, nan, nan, ...</td>\n",
       "      <td>...</td>\n",
       "      <td>[19.56, 19.03, 18.73, 18.66, 18.08, 17.73, 17....</td>\n",
       "      <td>[6.176, 5.875, 5.875, 6.17, 6.184, 6.27, 6.27,...</td>\n",
       "      <td>20230625_112913_standard_comp_to_both_rewarded...</td>\n",
       "      <td>[0, 7, 11, 13, 27, 52, 64, 67, 68, 105, 108, 1...</td>\n",
       "      <td>[[407.0, 2413.0, 3667.0, 5935.0, 6395.0, 7088....</td>\n",
       "      <td>[[1.0, 2.0, 1.0, 2.0, 1.0, 1.0, 0.0, 2.0, 1.0,...</td>\n",
       "      <td>[0, 2000, 4000, 6000, 8000, 10000, 12000, 1400...</td>\n",
       "      <td>1.1_1.4</td>\n",
       "      <td>(1, 73292)</td>\n",
       "      <td>[[[[nan nan], [nan nan], [nan nan], [nan nan],...</td>\n",
       "    </tr>\n",
       "    <tr>\n",
       "      <th>20230628_111202_standard_comp_to_novel_agent_D1_subj_1-1vs2-2and1-2vs2-1</th>\n",
       "      <td>20230628_111202_standard_comp_to_novel_agent_D...</td>\n",
       "      <td>[['1.1', '1.2'], ['1.1', '1.2'], ['1.1', '1.2'...</td>\n",
       "      <td>[1, 1, 1, 1, 1, 1, 1, 1, 1, 1, 1, 1, 1, 1, 1, ...</td>\n",
       "      <td>20230628_111202_standard_comp_to_novel_agent_D...</td>\n",
       "      <td>[3392, 5689, 7484, 8582, 9581, 11477, 12974, 1...</td>\n",
       "      <td>[3492, 5789, 7584, 8682, 9681, 11577, 13074, 1...</td>\n",
       "      <td>[3591, 5888, 7685, 8783, 9780, 11677, 13174, 1...</td>\n",
       "      <td>[1.2, 1.1, 1.2, 1.1, 1.1, 1.2, 1.2, 1.1, 1.2, ...</td>\n",
       "      <td>[competitive, competitive, competitive, compet...</td>\n",
       "      <td>[nan, nan, nan, nan, nan, nan, nan, nan, nan, ...</td>\n",
       "      <td>...</td>\n",
       "      <td>[28.38, 28.38, 28.38, 28.38, 28.38, 28.38, 28....</td>\n",
       "      <td>[5.203, 5.227, 5.227, 5.21, 5.215, 5.215, 5.21...</td>\n",
       "      <td>20230628_111202_standard_comp_to_novel_agent_D...</td>\n",
       "      <td>[4, 16, 20, 39, 158, 160, 162, 165, 168, 169, ...</td>\n",
       "      <td>[[17230.0, 26224.0, 27726.0, 29351.0, 32106.0,...</td>\n",
       "      <td>[[0.0, 0.0, 0.0, 0.0, 0.0, 0.0, 0.0, 0.0, 1.0,...</td>\n",
       "      <td>[0, 2000, 4000, 6000, 8000, 10000, 12000, 1400...</td>\n",
       "      <td>1.1_1.2</td>\n",
       "      <td>(1, 31500)</td>\n",
       "      <td>[[[[nan nan], [nan nan], [nan nan], [nan nan],...</td>\n",
       "    </tr>\n",
       "    <tr>\n",
       "      <th>20230629_111937_standard_comp_to_novel_agent_D2_subj_1-1vs2-1and1-4vs2-2</th>\n",
       "      <td>20230629_111937_standard_comp_to_novel_agent_D...</td>\n",
       "      <td>[['1.1', '1.4'], ['1.1', '1.4'], ['1.1', '1.4'...</td>\n",
       "      <td>[1, 1, 1, 1, 1, 1, 1, 1, 1, 1, 1, 1, 1, 1, 1, ...</td>\n",
       "      <td>20230629_111937_standard_comp_to_novel_agent_D...</td>\n",
       "      <td>[1118, 3513, 5810, 7606, 8703, 9702, 11598, 13...</td>\n",
       "      <td>[1218, 3613, 5910, 7706, 8803, 9802, 11698, 13...</td>\n",
       "      <td>[1318, 3712, 6009, 7806, 8904, 9901, 11797, 13...</td>\n",
       "      <td>[1.1, 1.1, 1.1, 1.1, 1.1, 1.1, 1.1, 1.1, 1.1, ...</td>\n",
       "      <td>[no_comp, competitive, competitive, competitiv...</td>\n",
       "      <td>[nan, nan, nan, nan, nan, nan, nan, nan, nan, ...</td>\n",
       "      <td>...</td>\n",
       "      <td>[28.42, 28.44, 28.44, 28.45, 28.36, 28.38, 28....</td>\n",
       "      <td>[18.64, 18.84, 18.53, 18.48, 18.25, 17.44, 17....</td>\n",
       "      <td>20230629_111937_standard_comp_to_novel_agent_D...</td>\n",
       "      <td>[5, 10, 24, 25, 47, 68, 101, 104, 108, 112, 11...</td>\n",
       "      <td>[[300.0, 2504.0, 4007.0, 6191.0, 10964.0, 1367...</td>\n",
       "      <td>[[1.0, 1.0, 1.0, 1.0, 0.0, 1.0, 1.0, 2.0, 1.0,...</td>\n",
       "      <td>[0, 2000, 4000, 6000, 8000, 10000, 12000, 1400...</td>\n",
       "      <td>1.1_1.4</td>\n",
       "      <td>(1, 31500)</td>\n",
       "      <td>[[[[nan nan], [nan nan], [nan nan], [nan nan],...</td>\n",
       "    </tr>\n",
       "    <tr>\n",
       "      <th rowspan=\"4\" valign=\"top\">1.2</th>\n",
       "      <th>20230617_115521_standard_comp_to_omission_D1_subj_1-1_and_1-2</th>\n",
       "      <td>20230617_115521_standard_comp_to_omission_D1_s...</td>\n",
       "      <td>[['1.1', '1.2'], ['1.1', '1.2'], ['1.1', '1.2'...</td>\n",
       "      <td>[1, 1, 1, 1, 1, 1, 1, 1, 1, 1, 1, 1, 1, 1, 1, ...</td>\n",
       "      <td>20230617_115521_standard_comp_to_omission_D1_s...</td>\n",
       "      <td>[1029, 3425, 5721, 7517, 8615, 9613, 11510, 13...</td>\n",
       "      <td>[1129, 3525, 5821, 7617, 8715, 9713, 11610, 13...</td>\n",
       "      <td>[1229, 3624, 5920, 7717, 8815, 9812, 11709, 13...</td>\n",
       "      <td>[1.2, 1.1, 1.1, 1.2, 1.1, 1.1, 1.1, 1.1, 1.1, ...</td>\n",
       "      <td>[competitive, competitive, competitive, no_com...</td>\n",
       "      <td>[nan, nan, nan, nan, nan, nan, nan, nan, 1.2 g...</td>\n",
       "      <td>...</td>\n",
       "      <td>[25.6, 25.84, 25.86, 25.86, 25.86, 25.86, 25.8...</td>\n",
       "      <td>[11.19, 11.234, 11.73, 12.34, 12.56, 13.58, 13...</td>\n",
       "      <td>20230617_115521_standard_comp_to_omission_D1_s...</td>\n",
       "      <td>[16, 17, 20, 25, 26, 34, 35, 39, 40, 42, 43, 4...</td>\n",
       "      <td>[[958.0, 5233.0, 6331.0, 7475.0, 8599.0, 10550...</td>\n",
       "      <td>[[1.0, 0.0, 1.0, 2.0, 1.0, 1.0, 0.0, 0.0, 0.0,...</td>\n",
       "      <td>[0, 2000, 4000, 6000, 8000, 10000, 12000, 1400...</td>\n",
       "      <td>1.1_1.2</td>\n",
       "      <td>(1, 39500)</td>\n",
       "      <td>[[[[nan nan], [nan nan], [nan nan], [nan nan],...</td>\n",
       "    </tr>\n",
       "    <tr>\n",
       "      <th>20230620_114347_standard_comp_to_omission_D4_subj_1-2_and_1-1</th>\n",
       "      <td>20230620_114347_standard_comp_to_omission_D4_s...</td>\n",
       "      <td>[['1.1', '1.2'], ['1.1', '1.2'], ['1.1', '1.2'...</td>\n",
       "      <td>[1, 1, 1, 1, 1, 1, 1, 1, 1, 1, 1, 1, 1, 1, 1, ...</td>\n",
       "      <td>20230620_114347_standard_comp_to_omission_D4_s...</td>\n",
       "      <td>[5756, 7553, 8650, 9649, 11545, 13042, 15139, ...</td>\n",
       "      <td>[5856, 7653, 8750, 9749, 11645, 13142, 15239, ...</td>\n",
       "      <td>[5955, 7752, 8851, 9848, 11745, 13243, 15338, ...</td>\n",
       "      <td>[1.2, 1.1, 1.1, 1.1, 1.1, 1.2, 1.1, 1.1, 1.2, ...</td>\n",
       "      <td>[competitive, no_comp, competitive, no_comp, n...</td>\n",
       "      <td>[nan, nan, 1.1 still at port at 8791, nan, nan...</td>\n",
       "      <td>...</td>\n",
       "      <td>[7.754, 7.24, 6.785, 6.45, 5.996, 5.95, 5.574,...</td>\n",
       "      <td>[7.754, 7.24, 6.785, 6.45, 5.996, 5.95, 5.574,...</td>\n",
       "      <td>20230620_114347_standard_comp_to_omission_D4_s...</td>\n",
       "      <td>[14, 28, 41, 42, 43, 45, 48, 53, 58, 68, 124, ...</td>\n",
       "      <td>[[5884.0, 7172.0, 11405.0, 19311.0, 19371.0, 2...</td>\n",
       "      <td>[[0.0, 0.0, 1.0, 1.0, 0.0, 1.0, 0.0, 0.0, 0.0,...</td>\n",
       "      <td>[0, 2000, 4000, 6000, 8000, 10000, 12000, 1400...</td>\n",
       "      <td>1.2</td>\n",
       "      <td>(32860, 68287)</td>\n",
       "      <td>[[[[nan nan], [nan nan], [nan nan], [nan nan],...</td>\n",
       "    </tr>\n",
       "    <tr>\n",
       "      <th>20230622_110832_standard_comp_to_both_rewarded_D1_subj_1-1_and_1-2</th>\n",
       "      <td>20230622_110832_standard_comp_to_both_rewarded...</td>\n",
       "      <td>[['1.1', '1.2'], ['1.1', '1.2'], ['1.1', '1.2'...</td>\n",
       "      <td>[1, 1, 1, 1, 1, 1, 1, 1, 1, 1, 1, 1, 1, 1, 1, ...</td>\n",
       "      <td>20230622_110832_standard_comp_to_both_rewarded...</td>\n",
       "      <td>[1129, 3525, 5820, 7617, 8715, 9712, 11609, 13...</td>\n",
       "      <td>[1229, 3625, 5920, 7717, 8815, 9812, 11709, 13...</td>\n",
       "      <td>[1328, 3724, 6019, 7816, 8914, 9913, 11810, 13...</td>\n",
       "      <td>[1.2, 1.2, 1.2, 1.2, 1.2, 1.2, 1.2, 1.2, 1.2, ...</td>\n",
       "      <td>[no_comp, no_comp, no_comp, no_comp, no_comp, ...</td>\n",
       "      <td>[nan, nan, nan, nan, nan, nan, nan, nan, nan, ...</td>\n",
       "      <td>...</td>\n",
       "      <td>[8.75, 8.75, 8.766, 8.77, 8.77, 8.76, 8.76, 8....</td>\n",
       "      <td>[27.81, 27.81, 27.81, 27.81, 27.81, 27.55, 27....</td>\n",
       "      <td>20230622_110832_standard_comp_to_both_rewarded...</td>\n",
       "      <td>[20, 21, 22, 23, 39, 44, 46, 48, 58, 59, 146, ...</td>\n",
       "      <td>[[7114.0, 29239.0, 35085.0, 60921.0, 66984.0, ...</td>\n",
       "      <td>[[0.0, 0.0, 0.0, 1.0, 0.0, 0.0, 0.0, 0.0, 0.0,...</td>\n",
       "      <td>[0, 2000, 4000, 6000, 8000, 10000, 12000, 1400...</td>\n",
       "      <td>1.1_1.2</td>\n",
       "      <td>(1, 73111)</td>\n",
       "      <td>[[[[nan nan], [nan nan], [nan nan], [nan nan],...</td>\n",
       "    </tr>\n",
       "    <tr>\n",
       "      <th>20230628_111202_standard_comp_to_novel_agent_D1_subj_1-1vs2-2and1-2vs2-1</th>\n",
       "      <td>20230628_111202_standard_comp_to_novel_agent_D...</td>\n",
       "      <td>[['1.1', '1.2'], ['1.1', '1.2'], ['1.1', '1.2'...</td>\n",
       "      <td>[1, 1, 1, 1, 1, 1, 1, 1, 1, 1, 1, 1, 1, 1, 1, ...</td>\n",
       "      <td>20230628_111202_standard_comp_to_novel_agent_D...</td>\n",
       "      <td>[3392, 5689, 7484, 8582, 9581, 11477, 12974, 1...</td>\n",
       "      <td>[3492, 5789, 7584, 8682, 9681, 11577, 13074, 1...</td>\n",
       "      <td>[3591, 5888, 7685, 8783, 9780, 11677, 13174, 1...</td>\n",
       "      <td>[1.2, 1.1, 1.2, 1.1, 1.1, 1.2, 1.2, 1.1, 1.2, ...</td>\n",
       "      <td>[competitive, competitive, competitive, compet...</td>\n",
       "      <td>[nan, nan, nan, nan, nan, nan, nan, nan, nan, ...</td>\n",
       "      <td>...</td>\n",
       "      <td>[5.203, 5.227, 5.227, 5.21, 5.215, 5.215, 5.21...</td>\n",
       "      <td>[28.38, 28.38, 28.38, 28.38, 28.38, 28.38, 28....</td>\n",
       "      <td>20230628_111202_standard_comp_to_novel_agent_D...</td>\n",
       "      <td>[6, 12, 21, 31, 62, 68, 73, 135, 171, 172, 174...</td>\n",
       "      <td>[[5929.0, 13568.0, 21727.0, 41631.0, 77257.0, ...</td>\n",
       "      <td>[[0.0, 0.0, 1.0, 0.0, 0.0, 0.0, 1.0, 0.0, 0.0,...</td>\n",
       "      <td>[0, 2000, 4000, 6000, 8000, 10000, 12000, 1400...</td>\n",
       "      <td>1.1_1.2</td>\n",
       "      <td>(1, 31500)</td>\n",
       "      <td>[[[[nan nan], [nan nan], [nan nan], [nan nan],...</td>\n",
       "    </tr>\n",
       "    <tr>\n",
       "      <th rowspan=\"4\" valign=\"top\">1.4</th>\n",
       "      <th>20230618_100636_standard_comp_to_omission_D2_subj_1-4_and_1-1</th>\n",
       "      <td>20230618_100636_standard_comp_to_omission_D2_s...</td>\n",
       "      <td>[['1.1', '1.4'], ['1.1', '1.4'], ['1.1', '1.4'...</td>\n",
       "      <td>[1, 1, 1, 1, 1, 1, 1, 1, 1, 1, 1, 1, 1, 1, 1, ...</td>\n",
       "      <td>20230618_100636_standard_comp_to_omission_D2_s...</td>\n",
       "      <td>[1098, 3492, 5788, 7585, 8684, 9681, 11577, 13...</td>\n",
       "      <td>[1198, 3592, 5888, 7685, 8784, 9781, 11677, 13...</td>\n",
       "      <td>[1297, 3693, 5988, 7784, 8883, 9880, 11777, 13...</td>\n",
       "      <td>[1.4, 1.1, 1.1, 1.4, 1.1, 1.4, 1.4, 1.4, 1.1, ...</td>\n",
       "      <td>[no_comp, no_comp, no_comp, no_comp, no_comp, ...</td>\n",
       "      <td>[nan, nan, nan, nan, nan, nan, nan, nan, nan, ...</td>\n",
       "      <td>...</td>\n",
       "      <td>[5.727, 5.91, 5.93, 5.965, 5.99, 5.992, 6.355,...</td>\n",
       "      <td>[5.727, 5.91, 5.93, 5.965, 5.99, 5.992, 6.355,...</td>\n",
       "      <td>20230618_100636_standard_comp_to_omission_D2_s...</td>\n",
       "      <td>[9, 19, 65, 83, 87, 93, 99, 103, 105, 106, 118...</td>\n",
       "      <td>[[458431.0, 506645.0, 509846.0, 545481.0, 5710...</td>\n",
       "      <td>[[0.0, 0.0, 0.0, 0.0, 0.0, 0.0, 0.0, 0.0, 0.0,...</td>\n",
       "      <td>[0, 2000, 4000, 6000, 8000, 10000, 12000, 1400...</td>\n",
       "      <td>1.4</td>\n",
       "      <td>(32792, 68494)</td>\n",
       "      <td>[[[[nan nan], [nan nan], [nan nan], [nan nan],...</td>\n",
       "    </tr>\n",
       "    <tr>\n",
       "      <th>20230621_111240_standard_comp_to_omission_D5_subj_1-4_and_1-2</th>\n",
       "      <td>20230621_111240_standard_comp_to_omission_D5_s...</td>\n",
       "      <td>[['1.2', '1.4'], ['1.2', '1.4'], ['1.2', '1.4'...</td>\n",
       "      <td>[1, 1, 1, 1, 1, 1, 1, 1, 1, 1, 1, 1, 1, 1, 1, ...</td>\n",
       "      <td>20230621_111240_standard_comp_to_omission_D5_s...</td>\n",
       "      <td>[2484, 4880, 7175, 8972, 10070, 11067, 12964, ...</td>\n",
       "      <td>[2584, 4980, 7275, 9072, 10170, 11167, 13064, ...</td>\n",
       "      <td>[2683, 5079, 7375, 9171, 10269, 11268, 13164, ...</td>\n",
       "      <td>[1.4, 1.2, 1.2, 1.2, 1.2, 1.2, 1.2, 1.2, 1.2, ...</td>\n",
       "      <td>[no_comp, competitive, competitive, no_comp, n...</td>\n",
       "      <td>[rewarded, rewarded, rewarded, rewarded, rewar...</td>\n",
       "      <td>...</td>\n",
       "      <td>[8.65, 8.64, 8.62, 8.61, 8.61, 8.586, 8.586, 8...</td>\n",
       "      <td>[16.38, 16.02, 16.06, 16.05, 15.84, 16.02, 15....</td>\n",
       "      <td>20230621_111240_standard_comp_to_omission_D5_s...</td>\n",
       "      <td>[6, 7, 13, 15, 16, 17, 22, 24, 26, 36, 37, 46,...</td>\n",
       "      <td>[[1891.0, 5872.0, 8366.0, 16312.0, 17233.0, 24...</td>\n",
       "      <td>[[1.0, 0.0, 1.0, 0.0, 1.0, 0.0, 0.0, 0.0, 2.0,...</td>\n",
       "      <td>[0, 2000, 4000, 6000, 8000, 10000, 12000, 1400...</td>\n",
       "      <td>1.4</td>\n",
       "      <td>(35000, 69766)</td>\n",
       "      <td>[[[[nan nan], [nan nan], [nan nan], [nan nan],...</td>\n",
       "    </tr>\n",
       "    <tr>\n",
       "      <th>20230624_105855_standard_comp_to_both_rewarded_D3_subj_1-2_and_1-4</th>\n",
       "      <td>20230624_105855_standard_comp_to_both_rewarded...</td>\n",
       "      <td>[['1.2', '1.4'], ['1.2', '1.4'], ['1.2', '1.4'...</td>\n",
       "      <td>[1, 1, 1, 1, 1, 1, 1, 1, 1, 1, 1, 1, 1, 1, 1, ...</td>\n",
       "      <td>20230624_105855_standard_comp_to_both_rewarded...</td>\n",
       "      <td>[1119, 3515, 5810, 7607, 8705, 9704, 11600, 13...</td>\n",
       "      <td>[1219, 3615, 5910, 7707, 8805, 9804, 11700, 13...</td>\n",
       "      <td>[1318, 3714, 6010, 7807, 8904, 9903, 11799, 13...</td>\n",
       "      <td>[1.2, 1.2, 1.2, 1.2, 1.2, 1.2, 1.2, 1.2, 1.2, ...</td>\n",
       "      <td>[competitive, competitive, competitive, compet...</td>\n",
       "      <td>[nan, nan, nan, nan, nan, nan, nan, nan, nan, ...</td>\n",
       "      <td>...</td>\n",
       "      <td>[8.34, 8.35, 8.35, 8.36, 8.37, 8.36, 8.37, 8.3...</td>\n",
       "      <td>[13.76, 13.75, 13.75, 13.734, 13.695, 13.7, 13...</td>\n",
       "      <td>20230624_105855_standard_comp_to_both_rewarded...</td>\n",
       "      <td>[133, 150, 152, 154, 173, 176, 177]</td>\n",
       "      <td>[[128399.0, 182521.0, 183083.0, 195446.0, 1997...</td>\n",
       "      <td>[[0.0, 0.0, 0.0, 0.0, 0.0, 0.0, 0.0, 0.0, 0.0,...</td>\n",
       "      <td>[0, 2000, 4000, 6000, 8000, 10000, 12000, 1400...</td>\n",
       "      <td>1.2_1.4</td>\n",
       "      <td>(1, 72635)</td>\n",
       "      <td>[[[[nan nan], [nan nan], [nan nan], [nan nan],...</td>\n",
       "    </tr>\n",
       "    <tr>\n",
       "      <th>20230625_112913_standard_comp_to_both_rewarded_D4_subj_1-1_and_1-4</th>\n",
       "      <td>20230625_112913_standard_comp_to_both_rewarded...</td>\n",
       "      <td>[['1.1', '1.4'], ['1.1', '1.4'], ['1.1', '1.4'...</td>\n",
       "      <td>[1, 1, 1, 1, 1, 1, 1, 1, 1, 1, 1, 1, 1, 1, 1, ...</td>\n",
       "      <td>20230625_112913_standard_comp_to_both_rewarded...</td>\n",
       "      <td>[1101, 3496, 5792, 7588, 8687, 9684, 11581, 13...</td>\n",
       "      <td>[1201, 3596, 5892, 7688, 8787, 9784, 11681, 13...</td>\n",
       "      <td>[1300, 3696, 5991, 7788, 8886, 9883, 11780, 13...</td>\n",
       "      <td>[1.4, 1.1, 1.1, 1.1, 1.1, 1.1, 1.1, 1.1, 1.1, ...</td>\n",
       "      <td>[no_comp, no_comp, competitive, competitive, n...</td>\n",
       "      <td>[nan, nan, nan, nan, nan, nan, nan, nan, nan, ...</td>\n",
       "      <td>...</td>\n",
       "      <td>[6.176, 5.875, 5.875, 6.17, 6.184, 6.27, 6.27,...</td>\n",
       "      <td>[19.56, 19.03, 18.73, 18.66, 18.08, 17.73, 17....</td>\n",
       "      <td>20230625_112913_standard_comp_to_both_rewarded...</td>\n",
       "      <td>[15, 17, 32, 115, 141, 148, 213, 227, 243, 250...</td>\n",
       "      <td>[[103137.0, 299878.0, 374601.0, 495955.0, 4974...</td>\n",
       "      <td>[[0.0, 0.0, 0.0, 0.0, 0.0, 0.0, 0.0, 0.0, 0.0,...</td>\n",
       "      <td>[0, 2000, 4000, 6000, 8000, 10000, 12000, 1400...</td>\n",
       "      <td>1.1_1.4</td>\n",
       "      <td>(1, 73292)</td>\n",
       "      <td>[[[[nan nan], [nan nan], [nan nan], [nan nan],...</td>\n",
       "    </tr>\n",
       "  </tbody>\n",
       "</table>\n",
       "<p>15 rows × 184 columns</p>\n",
       "</div>"
      ],
      "text/plain": [
       "                                                                                                           video_name  \\\n",
       "current_subject session_dir                                                                                             \n",
       "1.1             20230617_115521_standard_comp_to_omission_D1_su...  20230617_115521_standard_comp_to_omission_D1_s...   \n",
       "                20230618_100636_standard_comp_to_omission_D2_su...  20230618_100636_standard_comp_to_omission_D2_s...   \n",
       "                20230620_114347_standard_comp_to_omission_D4_su...  20230620_114347_standard_comp_to_omission_D4_s...   \n",
       "                20230622_110832_standard_comp_to_both_rewarded_...  20230622_110832_standard_comp_to_both_rewarded...   \n",
       "                20230625_112913_standard_comp_to_both_rewarded_...  20230625_112913_standard_comp_to_both_rewarded...   \n",
       "                20230628_111202_standard_comp_to_novel_agent_D1...  20230628_111202_standard_comp_to_novel_agent_D...   \n",
       "                20230629_111937_standard_comp_to_novel_agent_D2...  20230629_111937_standard_comp_to_novel_agent_D...   \n",
       "1.2             20230617_115521_standard_comp_to_omission_D1_su...  20230617_115521_standard_comp_to_omission_D1_s...   \n",
       "                20230620_114347_standard_comp_to_omission_D4_su...  20230620_114347_standard_comp_to_omission_D4_s...   \n",
       "                20230622_110832_standard_comp_to_both_rewarded_...  20230622_110832_standard_comp_to_both_rewarded...   \n",
       "                20230628_111202_standard_comp_to_novel_agent_D1...  20230628_111202_standard_comp_to_novel_agent_D...   \n",
       "1.4             20230618_100636_standard_comp_to_omission_D2_su...  20230618_100636_standard_comp_to_omission_D2_s...   \n",
       "                20230621_111240_standard_comp_to_omission_D5_su...  20230621_111240_standard_comp_to_omission_D5_s...   \n",
       "                20230624_105855_standard_comp_to_both_rewarded_...  20230624_105855_standard_comp_to_both_rewarded...   \n",
       "                20230625_112913_standard_comp_to_both_rewarded_...  20230625_112913_standard_comp_to_both_rewarded...   \n",
       "\n",
       "                                                                                                      tracked_subject  \\\n",
       "current_subject session_dir                                                                                             \n",
       "1.1             20230617_115521_standard_comp_to_omission_D1_su...  [['1.1', '1.2'], ['1.1', '1.2'], ['1.1', '1.2'...   \n",
       "                20230618_100636_standard_comp_to_omission_D2_su...  [['1.1', '1.4'], ['1.1', '1.4'], ['1.1', '1.4'...   \n",
       "                20230620_114347_standard_comp_to_omission_D4_su...  [['1.1', '1.2'], ['1.1', '1.2'], ['1.1', '1.2'...   \n",
       "                20230622_110832_standard_comp_to_both_rewarded_...  [['1.1', '1.2'], ['1.1', '1.2'], ['1.1', '1.2'...   \n",
       "                20230625_112913_standard_comp_to_both_rewarded_...  [['1.1', '1.4'], ['1.1', '1.4'], ['1.1', '1.4'...   \n",
       "                20230628_111202_standard_comp_to_novel_agent_D1...  [['1.1', '1.2'], ['1.1', '1.2'], ['1.1', '1.2'...   \n",
       "                20230629_111937_standard_comp_to_novel_agent_D2...  [['1.1', '1.4'], ['1.1', '1.4'], ['1.1', '1.4'...   \n",
       "1.2             20230617_115521_standard_comp_to_omission_D1_su...  [['1.1', '1.2'], ['1.1', '1.2'], ['1.1', '1.2'...   \n",
       "                20230620_114347_standard_comp_to_omission_D4_su...  [['1.1', '1.2'], ['1.1', '1.2'], ['1.1', '1.2'...   \n",
       "                20230622_110832_standard_comp_to_both_rewarded_...  [['1.1', '1.2'], ['1.1', '1.2'], ['1.1', '1.2'...   \n",
       "                20230628_111202_standard_comp_to_novel_agent_D1...  [['1.1', '1.2'], ['1.1', '1.2'], ['1.1', '1.2'...   \n",
       "1.4             20230618_100636_standard_comp_to_omission_D2_su...  [['1.1', '1.4'], ['1.1', '1.4'], ['1.1', '1.4'...   \n",
       "                20230621_111240_standard_comp_to_omission_D5_su...  [['1.2', '1.4'], ['1.2', '1.4'], ['1.2', '1.4'...   \n",
       "                20230624_105855_standard_comp_to_both_rewarded_...  [['1.2', '1.4'], ['1.2', '1.4'], ['1.2', '1.4'...   \n",
       "                20230625_112913_standard_comp_to_both_rewarded_...  [['1.1', '1.4'], ['1.1', '1.4'], ['1.1', '1.4'...   \n",
       "\n",
       "                                                                                                           box_number  \\\n",
       "current_subject session_dir                                                                                             \n",
       "1.1             20230617_115521_standard_comp_to_omission_D1_su...  [1, 1, 1, 1, 1, 1, 1, 1, 1, 1, 1, 1, 1, 1, 1, ...   \n",
       "                20230618_100636_standard_comp_to_omission_D2_su...  [1, 1, 1, 1, 1, 1, 1, 1, 1, 1, 1, 1, 1, 1, 1, ...   \n",
       "                20230620_114347_standard_comp_to_omission_D4_su...  [1, 1, 1, 1, 1, 1, 1, 1, 1, 1, 1, 1, 1, 1, 1, ...   \n",
       "                20230622_110832_standard_comp_to_both_rewarded_...  [1, 1, 1, 1, 1, 1, 1, 1, 1, 1, 1, 1, 1, 1, 1, ...   \n",
       "                20230625_112913_standard_comp_to_both_rewarded_...  [1, 1, 1, 1, 1, 1, 1, 1, 1, 1, 1, 1, 1, 1, 1, ...   \n",
       "                20230628_111202_standard_comp_to_novel_agent_D1...  [1, 1, 1, 1, 1, 1, 1, 1, 1, 1, 1, 1, 1, 1, 1, ...   \n",
       "                20230629_111937_standard_comp_to_novel_agent_D2...  [1, 1, 1, 1, 1, 1, 1, 1, 1, 1, 1, 1, 1, 1, 1, ...   \n",
       "1.2             20230617_115521_standard_comp_to_omission_D1_su...  [1, 1, 1, 1, 1, 1, 1, 1, 1, 1, 1, 1, 1, 1, 1, ...   \n",
       "                20230620_114347_standard_comp_to_omission_D4_su...  [1, 1, 1, 1, 1, 1, 1, 1, 1, 1, 1, 1, 1, 1, 1, ...   \n",
       "                20230622_110832_standard_comp_to_both_rewarded_...  [1, 1, 1, 1, 1, 1, 1, 1, 1, 1, 1, 1, 1, 1, 1, ...   \n",
       "                20230628_111202_standard_comp_to_novel_agent_D1...  [1, 1, 1, 1, 1, 1, 1, 1, 1, 1, 1, 1, 1, 1, 1, ...   \n",
       "1.4             20230618_100636_standard_comp_to_omission_D2_su...  [1, 1, 1, 1, 1, 1, 1, 1, 1, 1, 1, 1, 1, 1, 1, ...   \n",
       "                20230621_111240_standard_comp_to_omission_D5_su...  [1, 1, 1, 1, 1, 1, 1, 1, 1, 1, 1, 1, 1, 1, 1, ...   \n",
       "                20230624_105855_standard_comp_to_both_rewarded_...  [1, 1, 1, 1, 1, 1, 1, 1, 1, 1, 1, 1, 1, 1, 1, ...   \n",
       "                20230625_112913_standard_comp_to_both_rewarded_...  [1, 1, 1, 1, 1, 1, 1, 1, 1, 1, 1, 1, 1, 1, 1, ...   \n",
       "\n",
       "                                                                                                           sleap_name  \\\n",
       "current_subject session_dir                                                                                             \n",
       "1.1             20230617_115521_standard_comp_to_omission_D1_su...  20230617_115521_standard_comp_to_omission_D1_s...   \n",
       "                20230618_100636_standard_comp_to_omission_D2_su...  20230618_100636_standard_comp_to_omission_D2_s...   \n",
       "                20230620_114347_standard_comp_to_omission_D4_su...  20230620_114347_standard_comp_to_omission_D4_s...   \n",
       "                20230622_110832_standard_comp_to_both_rewarded_...  20230622_110832_standard_comp_to_both_rewarded...   \n",
       "                20230625_112913_standard_comp_to_both_rewarded_...  20230625_112913_standard_comp_to_both_rewarded...   \n",
       "                20230628_111202_standard_comp_to_novel_agent_D1...  20230628_111202_standard_comp_to_novel_agent_D...   \n",
       "                20230629_111937_standard_comp_to_novel_agent_D2...  20230629_111937_standard_comp_to_novel_agent_D...   \n",
       "1.2             20230617_115521_standard_comp_to_omission_D1_su...  20230617_115521_standard_comp_to_omission_D1_s...   \n",
       "                20230620_114347_standard_comp_to_omission_D4_su...  20230620_114347_standard_comp_to_omission_D4_s...   \n",
       "                20230622_110832_standard_comp_to_both_rewarded_...  20230622_110832_standard_comp_to_both_rewarded...   \n",
       "                20230628_111202_standard_comp_to_novel_agent_D1...  20230628_111202_standard_comp_to_novel_agent_D...   \n",
       "1.4             20230618_100636_standard_comp_to_omission_D2_su...  20230618_100636_standard_comp_to_omission_D2_s...   \n",
       "                20230621_111240_standard_comp_to_omission_D5_su...  20230621_111240_standard_comp_to_omission_D5_s...   \n",
       "                20230624_105855_standard_comp_to_both_rewarded_...  20230624_105855_standard_comp_to_both_rewarded...   \n",
       "                20230625_112913_standard_comp_to_both_rewarded_...  20230625_112913_standard_comp_to_both_rewarded...   \n",
       "\n",
       "                                                                                                     tone_start_frame  \\\n",
       "current_subject session_dir                                                                                             \n",
       "1.1             20230617_115521_standard_comp_to_omission_D1_su...  [1029, 3425, 5721, 7517, 8615, 9613, 11510, 13...   \n",
       "                20230618_100636_standard_comp_to_omission_D2_su...  [1098, 3492, 5788, 7585, 8684, 9681, 11577, 13...   \n",
       "                20230620_114347_standard_comp_to_omission_D4_su...  [5756, 7553, 8650, 9649, 11545, 13042, 15139, ...   \n",
       "                20230622_110832_standard_comp_to_both_rewarded_...  [1129, 3525, 5820, 7617, 8715, 9712, 11609, 13...   \n",
       "                20230625_112913_standard_comp_to_both_rewarded_...  [1101, 3496, 5792, 7588, 8687, 9684, 11581, 13...   \n",
       "                20230628_111202_standard_comp_to_novel_agent_D1...  [3392, 5689, 7484, 8582, 9581, 11477, 12974, 1...   \n",
       "                20230629_111937_standard_comp_to_novel_agent_D2...  [1118, 3513, 5810, 7606, 8703, 9702, 11598, 13...   \n",
       "1.2             20230617_115521_standard_comp_to_omission_D1_su...  [1029, 3425, 5721, 7517, 8615, 9613, 11510, 13...   \n",
       "                20230620_114347_standard_comp_to_omission_D4_su...  [5756, 7553, 8650, 9649, 11545, 13042, 15139, ...   \n",
       "                20230622_110832_standard_comp_to_both_rewarded_...  [1129, 3525, 5820, 7617, 8715, 9712, 11609, 13...   \n",
       "                20230628_111202_standard_comp_to_novel_agent_D1...  [3392, 5689, 7484, 8582, 9581, 11477, 12974, 1...   \n",
       "1.4             20230618_100636_standard_comp_to_omission_D2_su...  [1098, 3492, 5788, 7585, 8684, 9681, 11577, 13...   \n",
       "                20230621_111240_standard_comp_to_omission_D5_su...  [2484, 4880, 7175, 8972, 10070, 11067, 12964, ...   \n",
       "                20230624_105855_standard_comp_to_both_rewarded_...  [1119, 3515, 5810, 7607, 8705, 9704, 11600, 13...   \n",
       "                20230625_112913_standard_comp_to_both_rewarded_...  [1101, 3496, 5792, 7588, 8687, 9684, 11581, 13...   \n",
       "\n",
       "                                                                                                   reward_start_frame  \\\n",
       "current_subject session_dir                                                                                             \n",
       "1.1             20230617_115521_standard_comp_to_omission_D1_su...  [1129, 3525, 5821, 7617, 8715, 9713, 11610, 13...   \n",
       "                20230618_100636_standard_comp_to_omission_D2_su...  [1198, 3592, 5888, 7685, 8784, 9781, 11677, 13...   \n",
       "                20230620_114347_standard_comp_to_omission_D4_su...  [5856, 7653, 8750, 9749, 11645, 13142, 15239, ...   \n",
       "                20230622_110832_standard_comp_to_both_rewarded_...  [1229, 3625, 5920, 7717, 8815, 9812, 11709, 13...   \n",
       "                20230625_112913_standard_comp_to_both_rewarded_...  [1201, 3596, 5892, 7688, 8787, 9784, 11681, 13...   \n",
       "                20230628_111202_standard_comp_to_novel_agent_D1...  [3492, 5789, 7584, 8682, 9681, 11577, 13074, 1...   \n",
       "                20230629_111937_standard_comp_to_novel_agent_D2...  [1218, 3613, 5910, 7706, 8803, 9802, 11698, 13...   \n",
       "1.2             20230617_115521_standard_comp_to_omission_D1_su...  [1129, 3525, 5821, 7617, 8715, 9713, 11610, 13...   \n",
       "                20230620_114347_standard_comp_to_omission_D4_su...  [5856, 7653, 8750, 9749, 11645, 13142, 15239, ...   \n",
       "                20230622_110832_standard_comp_to_both_rewarded_...  [1229, 3625, 5920, 7717, 8815, 9812, 11709, 13...   \n",
       "                20230628_111202_standard_comp_to_novel_agent_D1...  [3492, 5789, 7584, 8682, 9681, 11577, 13074, 1...   \n",
       "1.4             20230618_100636_standard_comp_to_omission_D2_su...  [1198, 3592, 5888, 7685, 8784, 9781, 11677, 13...   \n",
       "                20230621_111240_standard_comp_to_omission_D5_su...  [2584, 4980, 7275, 9072, 10170, 11167, 13064, ...   \n",
       "                20230624_105855_standard_comp_to_both_rewarded_...  [1219, 3615, 5910, 7707, 8805, 9804, 11700, 13...   \n",
       "                20230625_112913_standard_comp_to_both_rewarded_...  [1201, 3596, 5892, 7688, 8787, 9784, 11681, 13...   \n",
       "\n",
       "                                                                                                      tone_stop_frame  \\\n",
       "current_subject session_dir                                                                                             \n",
       "1.1             20230617_115521_standard_comp_to_omission_D1_su...  [1229, 3624, 5920, 7717, 8815, 9812, 11709, 13...   \n",
       "                20230618_100636_standard_comp_to_omission_D2_su...  [1297, 3693, 5988, 7784, 8883, 9880, 11777, 13...   \n",
       "                20230620_114347_standard_comp_to_omission_D4_su...  [5955, 7752, 8851, 9848, 11745, 13243, 15338, ...   \n",
       "                20230622_110832_standard_comp_to_both_rewarded_...  [1328, 3724, 6019, 7816, 8914, 9913, 11810, 13...   \n",
       "                20230625_112913_standard_comp_to_both_rewarded_...  [1300, 3696, 5991, 7788, 8886, 9883, 11780, 13...   \n",
       "                20230628_111202_standard_comp_to_novel_agent_D1...  [3591, 5888, 7685, 8783, 9780, 11677, 13174, 1...   \n",
       "                20230629_111937_standard_comp_to_novel_agent_D2...  [1318, 3712, 6009, 7806, 8904, 9901, 11797, 13...   \n",
       "1.2             20230617_115521_standard_comp_to_omission_D1_su...  [1229, 3624, 5920, 7717, 8815, 9812, 11709, 13...   \n",
       "                20230620_114347_standard_comp_to_omission_D4_su...  [5955, 7752, 8851, 9848, 11745, 13243, 15338, ...   \n",
       "                20230622_110832_standard_comp_to_both_rewarded_...  [1328, 3724, 6019, 7816, 8914, 9913, 11810, 13...   \n",
       "                20230628_111202_standard_comp_to_novel_agent_D1...  [3591, 5888, 7685, 8783, 9780, 11677, 13174, 1...   \n",
       "1.4             20230618_100636_standard_comp_to_omission_D2_su...  [1297, 3693, 5988, 7784, 8883, 9880, 11777, 13...   \n",
       "                20230621_111240_standard_comp_to_omission_D5_su...  [2683, 5079, 7375, 9171, 10269, 11268, 13164, ...   \n",
       "                20230624_105855_standard_comp_to_both_rewarded_...  [1318, 3714, 6010, 7807, 8904, 9903, 11799, 13...   \n",
       "                20230625_112913_standard_comp_to_both_rewarded_...  [1300, 3696, 5991, 7788, 8886, 9883, 11780, 13...   \n",
       "\n",
       "                                                                                                            condition  \\\n",
       "current_subject session_dir                                                                                             \n",
       "1.1             20230617_115521_standard_comp_to_omission_D1_su...  [1.2, 1.1, 1.1, 1.2, 1.1, 1.1, 1.1, 1.1, 1.1, ...   \n",
       "                20230618_100636_standard_comp_to_omission_D2_su...  [1.4, 1.1, 1.1, 1.4, 1.1, 1.4, 1.4, 1.4, 1.1, ...   \n",
       "                20230620_114347_standard_comp_to_omission_D4_su...  [1.2, 1.1, 1.1, 1.1, 1.1, 1.2, 1.1, 1.1, 1.2, ...   \n",
       "                20230622_110832_standard_comp_to_both_rewarded_...  [1.2, 1.2, 1.2, 1.2, 1.2, 1.2, 1.2, 1.2, 1.2, ...   \n",
       "                20230625_112913_standard_comp_to_both_rewarded_...  [1.4, 1.1, 1.1, 1.1, 1.1, 1.1, 1.1, 1.1, 1.1, ...   \n",
       "                20230628_111202_standard_comp_to_novel_agent_D1...  [1.2, 1.1, 1.2, 1.1, 1.1, 1.2, 1.2, 1.1, 1.2, ...   \n",
       "                20230629_111937_standard_comp_to_novel_agent_D2...  [1.1, 1.1, 1.1, 1.1, 1.1, 1.1, 1.1, 1.1, 1.1, ...   \n",
       "1.2             20230617_115521_standard_comp_to_omission_D1_su...  [1.2, 1.1, 1.1, 1.2, 1.1, 1.1, 1.1, 1.1, 1.1, ...   \n",
       "                20230620_114347_standard_comp_to_omission_D4_su...  [1.2, 1.1, 1.1, 1.1, 1.1, 1.2, 1.1, 1.1, 1.2, ...   \n",
       "                20230622_110832_standard_comp_to_both_rewarded_...  [1.2, 1.2, 1.2, 1.2, 1.2, 1.2, 1.2, 1.2, 1.2, ...   \n",
       "                20230628_111202_standard_comp_to_novel_agent_D1...  [1.2, 1.1, 1.2, 1.1, 1.1, 1.2, 1.2, 1.1, 1.2, ...   \n",
       "1.4             20230618_100636_standard_comp_to_omission_D2_su...  [1.4, 1.1, 1.1, 1.4, 1.1, 1.4, 1.4, 1.4, 1.1, ...   \n",
       "                20230621_111240_standard_comp_to_omission_D5_su...  [1.4, 1.2, 1.2, 1.2, 1.2, 1.2, 1.2, 1.2, 1.2, ...   \n",
       "                20230624_105855_standard_comp_to_both_rewarded_...  [1.2, 1.2, 1.2, 1.2, 1.2, 1.2, 1.2, 1.2, 1.2, ...   \n",
       "                20230625_112913_standard_comp_to_both_rewarded_...  [1.4, 1.1, 1.1, 1.1, 1.1, 1.1, 1.1, 1.1, 1.1, ...   \n",
       "\n",
       "                                                                                                competition_closeness  \\\n",
       "current_subject session_dir                                                                                             \n",
       "1.1             20230617_115521_standard_comp_to_omission_D1_su...  [competitive, competitive, competitive, no_com...   \n",
       "                20230618_100636_standard_comp_to_omission_D2_su...  [no_comp, no_comp, no_comp, no_comp, no_comp, ...   \n",
       "                20230620_114347_standard_comp_to_omission_D4_su...  [competitive, no_comp, competitive, no_comp, n...   \n",
       "                20230622_110832_standard_comp_to_both_rewarded_...  [no_comp, no_comp, no_comp, no_comp, no_comp, ...   \n",
       "                20230625_112913_standard_comp_to_both_rewarded_...  [no_comp, no_comp, competitive, competitive, n...   \n",
       "                20230628_111202_standard_comp_to_novel_agent_D1...  [competitive, competitive, competitive, compet...   \n",
       "                20230629_111937_standard_comp_to_novel_agent_D2...  [no_comp, competitive, competitive, competitiv...   \n",
       "1.2             20230617_115521_standard_comp_to_omission_D1_su...  [competitive, competitive, competitive, no_com...   \n",
       "                20230620_114347_standard_comp_to_omission_D4_su...  [competitive, no_comp, competitive, no_comp, n...   \n",
       "                20230622_110832_standard_comp_to_both_rewarded_...  [no_comp, no_comp, no_comp, no_comp, no_comp, ...   \n",
       "                20230628_111202_standard_comp_to_novel_agent_D1...  [competitive, competitive, competitive, compet...   \n",
       "1.4             20230618_100636_standard_comp_to_omission_D2_su...  [no_comp, no_comp, no_comp, no_comp, no_comp, ...   \n",
       "                20230621_111240_standard_comp_to_omission_D5_su...  [no_comp, competitive, competitive, no_comp, n...   \n",
       "                20230624_105855_standard_comp_to_both_rewarded_...  [competitive, competitive, competitive, compet...   \n",
       "                20230625_112913_standard_comp_to_both_rewarded_...  [no_comp, no_comp, competitive, competitive, n...   \n",
       "\n",
       "                                                                                                                notes  \\\n",
       "current_subject session_dir                                                                                             \n",
       "1.1             20230617_115521_standard_comp_to_omission_D1_su...  [nan, nan, nan, nan, nan, nan, nan, nan, 1.2 g...   \n",
       "                20230618_100636_standard_comp_to_omission_D2_su...  [nan, nan, nan, nan, nan, nan, nan, nan, nan, ...   \n",
       "                20230620_114347_standard_comp_to_omission_D4_su...  [nan, nan, 1.1 still at port at 8791, nan, nan...   \n",
       "                20230622_110832_standard_comp_to_both_rewarded_...  [nan, nan, nan, nan, nan, nan, nan, nan, nan, ...   \n",
       "                20230625_112913_standard_comp_to_both_rewarded_...  [nan, nan, nan, nan, nan, nan, nan, nan, nan, ...   \n",
       "                20230628_111202_standard_comp_to_novel_agent_D1...  [nan, nan, nan, nan, nan, nan, nan, nan, nan, ...   \n",
       "                20230629_111937_standard_comp_to_novel_agent_D2...  [nan, nan, nan, nan, nan, nan, nan, nan, nan, ...   \n",
       "1.2             20230617_115521_standard_comp_to_omission_D1_su...  [nan, nan, nan, nan, nan, nan, nan, nan, 1.2 g...   \n",
       "                20230620_114347_standard_comp_to_omission_D4_su...  [nan, nan, 1.1 still at port at 8791, nan, nan...   \n",
       "                20230622_110832_standard_comp_to_both_rewarded_...  [nan, nan, nan, nan, nan, nan, nan, nan, nan, ...   \n",
       "                20230628_111202_standard_comp_to_novel_agent_D1...  [nan, nan, nan, nan, nan, nan, nan, nan, nan, ...   \n",
       "1.4             20230618_100636_standard_comp_to_omission_D2_su...  [nan, nan, nan, nan, nan, nan, nan, nan, nan, ...   \n",
       "                20230621_111240_standard_comp_to_omission_D5_su...  [rewarded, rewarded, rewarded, rewarded, rewar...   \n",
       "                20230624_105855_standard_comp_to_both_rewarded_...  [nan, nan, nan, nan, nan, nan, nan, nan, nan, ...   \n",
       "                20230625_112913_standard_comp_to_both_rewarded_...  [nan, nan, nan, nan, nan, nan, nan, nan, nan, ...   \n",
       "\n",
       "                                                                    ...  \\\n",
       "current_subject session_dir                                         ...   \n",
       "1.1             20230617_115521_standard_comp_to_omission_D1_su...  ...   \n",
       "                20230618_100636_standard_comp_to_omission_D2_su...  ...   \n",
       "                20230620_114347_standard_comp_to_omission_D4_su...  ...   \n",
       "                20230622_110832_standard_comp_to_both_rewarded_...  ...   \n",
       "                20230625_112913_standard_comp_to_both_rewarded_...  ...   \n",
       "                20230628_111202_standard_comp_to_novel_agent_D1...  ...   \n",
       "                20230629_111937_standard_comp_to_novel_agent_D2...  ...   \n",
       "1.2             20230617_115521_standard_comp_to_omission_D1_su...  ...   \n",
       "                20230620_114347_standard_comp_to_omission_D4_su...  ...   \n",
       "                20230622_110832_standard_comp_to_both_rewarded_...  ...   \n",
       "                20230628_111202_standard_comp_to_novel_agent_D1...  ...   \n",
       "1.4             20230618_100636_standard_comp_to_omission_D2_su...  ...   \n",
       "                20230621_111240_standard_comp_to_omission_D5_su...  ...   \n",
       "                20230624_105855_standard_comp_to_both_rewarded_...  ...   \n",
       "                20230625_112913_standard_comp_to_both_rewarded_...  ...   \n",
       "\n",
       "                                                                                        subject_thorax_to_reward_port  \\\n",
       "current_subject session_dir                                                                                             \n",
       "1.1             20230617_115521_standard_comp_to_omission_D1_su...  [25.6, 25.84, 25.86, 25.86, 25.86, 25.86, 25.8...   \n",
       "                20230618_100636_standard_comp_to_omission_D2_su...  [5.727, 5.91, 5.93, 5.965, 5.99, 5.992, 6.355,...   \n",
       "                20230620_114347_standard_comp_to_omission_D4_su...  [7.754, 7.24, 6.785, 6.45, 5.996, 5.95, 5.574,...   \n",
       "                20230622_110832_standard_comp_to_both_rewarded_...  [27.81, 27.81, 27.81, 27.81, 27.81, 27.55, 27....   \n",
       "                20230625_112913_standard_comp_to_both_rewarded_...  [19.56, 19.03, 18.73, 18.66, 18.08, 17.73, 17....   \n",
       "                20230628_111202_standard_comp_to_novel_agent_D1...  [28.38, 28.38, 28.38, 28.38, 28.38, 28.38, 28....   \n",
       "                20230629_111937_standard_comp_to_novel_agent_D2...  [28.42, 28.44, 28.44, 28.45, 28.36, 28.38, 28....   \n",
       "1.2             20230617_115521_standard_comp_to_omission_D1_su...  [25.6, 25.84, 25.86, 25.86, 25.86, 25.86, 25.8...   \n",
       "                20230620_114347_standard_comp_to_omission_D4_su...  [7.754, 7.24, 6.785, 6.45, 5.996, 5.95, 5.574,...   \n",
       "                20230622_110832_standard_comp_to_both_rewarded_...  [8.75, 8.75, 8.766, 8.77, 8.77, 8.76, 8.76, 8....   \n",
       "                20230628_111202_standard_comp_to_novel_agent_D1...  [5.203, 5.227, 5.227, 5.21, 5.215, 5.215, 5.21...   \n",
       "1.4             20230618_100636_standard_comp_to_omission_D2_su...  [5.727, 5.91, 5.93, 5.965, 5.99, 5.992, 6.355,...   \n",
       "                20230621_111240_standard_comp_to_omission_D5_su...  [8.65, 8.64, 8.62, 8.61, 8.61, 8.586, 8.586, 8...   \n",
       "                20230624_105855_standard_comp_to_both_rewarded_...  [8.34, 8.35, 8.35, 8.36, 8.37, 8.36, 8.37, 8.3...   \n",
       "                20230625_112913_standard_comp_to_both_rewarded_...  [6.176, 5.875, 5.875, 6.17, 6.184, 6.27, 6.27,...   \n",
       "\n",
       "                                                                                          agent_thorax_to_reward_port  \\\n",
       "current_subject session_dir                                                                                             \n",
       "1.1             20230617_115521_standard_comp_to_omission_D1_su...  [25.6, 25.84, 25.86, 25.86, 25.86, 25.86, 25.8...   \n",
       "                20230618_100636_standard_comp_to_omission_D2_su...  [13.75, 14.18, 13.734, 13.74, 13.76, 13.84, 13...   \n",
       "                20230620_114347_standard_comp_to_omission_D4_su...  [27.14, 27.14, 27.14, 27.14, 27.14, 27.14, 27....   \n",
       "                20230622_110832_standard_comp_to_both_rewarded_...  [8.75, 8.75, 8.766, 8.77, 8.77, 8.76, 8.76, 8....   \n",
       "                20230625_112913_standard_comp_to_both_rewarded_...  [6.176, 5.875, 5.875, 6.17, 6.184, 6.27, 6.27,...   \n",
       "                20230628_111202_standard_comp_to_novel_agent_D1...  [5.203, 5.227, 5.227, 5.21, 5.215, 5.215, 5.21...   \n",
       "                20230629_111937_standard_comp_to_novel_agent_D2...  [18.64, 18.84, 18.53, 18.48, 18.25, 17.44, 17....   \n",
       "1.2             20230617_115521_standard_comp_to_omission_D1_su...  [11.19, 11.234, 11.73, 12.34, 12.56, 13.58, 13...   \n",
       "                20230620_114347_standard_comp_to_omission_D4_su...  [7.754, 7.24, 6.785, 6.45, 5.996, 5.95, 5.574,...   \n",
       "                20230622_110832_standard_comp_to_both_rewarded_...  [27.81, 27.81, 27.81, 27.81, 27.81, 27.55, 27....   \n",
       "                20230628_111202_standard_comp_to_novel_agent_D1...  [28.38, 28.38, 28.38, 28.38, 28.38, 28.38, 28....   \n",
       "1.4             20230618_100636_standard_comp_to_omission_D2_su...  [5.727, 5.91, 5.93, 5.965, 5.99, 5.992, 6.355,...   \n",
       "                20230621_111240_standard_comp_to_omission_D5_su...  [16.38, 16.02, 16.06, 16.05, 15.84, 16.02, 15....   \n",
       "                20230624_105855_standard_comp_to_both_rewarded_...  [13.76, 13.75, 13.75, 13.734, 13.695, 13.7, 13...   \n",
       "                20230625_112913_standard_comp_to_both_rewarded_...  [19.56, 19.03, 18.73, 18.66, 18.08, 17.73, 17....   \n",
       "\n",
       "                                                                                                       recording_name  \\\n",
       "current_subject session_dir                                                                                             \n",
       "1.1             20230617_115521_standard_comp_to_omission_D1_su...  20230617_115521_standard_comp_to_omission_D1_s...   \n",
       "                20230618_100636_standard_comp_to_omission_D2_su...  20230618_100636_standard_comp_to_omission_D2_s...   \n",
       "                20230620_114347_standard_comp_to_omission_D4_su...  20230620_114347_standard_comp_to_omission_D4_s...   \n",
       "                20230622_110832_standard_comp_to_both_rewarded_...  20230622_110832_standard_comp_to_both_rewarded...   \n",
       "                20230625_112913_standard_comp_to_both_rewarded_...  20230625_112913_standard_comp_to_both_rewarded...   \n",
       "                20230628_111202_standard_comp_to_novel_agent_D1...  20230628_111202_standard_comp_to_novel_agent_D...   \n",
       "                20230629_111937_standard_comp_to_novel_agent_D2...  20230629_111937_standard_comp_to_novel_agent_D...   \n",
       "1.2             20230617_115521_standard_comp_to_omission_D1_su...  20230617_115521_standard_comp_to_omission_D1_s...   \n",
       "                20230620_114347_standard_comp_to_omission_D4_su...  20230620_114347_standard_comp_to_omission_D4_s...   \n",
       "                20230622_110832_standard_comp_to_both_rewarded_...  20230622_110832_standard_comp_to_both_rewarded...   \n",
       "                20230628_111202_standard_comp_to_novel_agent_D1...  20230628_111202_standard_comp_to_novel_agent_D...   \n",
       "1.4             20230618_100636_standard_comp_to_omission_D2_su...  20230618_100636_standard_comp_to_omission_D2_s...   \n",
       "                20230621_111240_standard_comp_to_omission_D5_su...  20230621_111240_standard_comp_to_omission_D5_s...   \n",
       "                20230624_105855_standard_comp_to_both_rewarded_...  20230624_105855_standard_comp_to_both_rewarded...   \n",
       "                20230625_112913_standard_comp_to_both_rewarded_...  20230625_112913_standard_comp_to_both_rewarded...   \n",
       "\n",
       "                                                                                                       spike_clusters  \\\n",
       "current_subject session_dir                                                                                             \n",
       "1.1             20230617_115521_standard_comp_to_omission_D1_su...  [3, 4, 5, 6, 17, 28, 29, 39, 48, 52, 53, 54, 5...   \n",
       "                20230618_100636_standard_comp_to_omission_D2_su...  [7, 11, 12, 48, 50, 51, 61, 64, 76, 84, 90, 98...   \n",
       "                20230620_114347_standard_comp_to_omission_D4_su...       [2, 22, 64, 89, 98, 100, 119, 121, 122, 126]   \n",
       "                20230622_110832_standard_comp_to_both_rewarded_...            [1, 2, 15, 77, 110, 113, 115, 121, 148]   \n",
       "                20230625_112913_standard_comp_to_both_rewarded_...  [0, 7, 11, 13, 27, 52, 64, 67, 68, 105, 108, 1...   \n",
       "                20230628_111202_standard_comp_to_novel_agent_D1...  [4, 16, 20, 39, 158, 160, 162, 165, 168, 169, ...   \n",
       "                20230629_111937_standard_comp_to_novel_agent_D2...  [5, 10, 24, 25, 47, 68, 101, 104, 108, 112, 11...   \n",
       "1.2             20230617_115521_standard_comp_to_omission_D1_su...  [16, 17, 20, 25, 26, 34, 35, 39, 40, 42, 43, 4...   \n",
       "                20230620_114347_standard_comp_to_omission_D4_su...  [14, 28, 41, 42, 43, 45, 48, 53, 58, 68, 124, ...   \n",
       "                20230622_110832_standard_comp_to_both_rewarded_...  [20, 21, 22, 23, 39, 44, 46, 48, 58, 59, 146, ...   \n",
       "                20230628_111202_standard_comp_to_novel_agent_D1...  [6, 12, 21, 31, 62, 68, 73, 135, 171, 172, 174...   \n",
       "1.4             20230618_100636_standard_comp_to_omission_D2_su...  [9, 19, 65, 83, 87, 93, 99, 103, 105, 106, 118...   \n",
       "                20230621_111240_standard_comp_to_omission_D5_su...  [6, 7, 13, 15, 16, 17, 22, 24, 26, 36, 37, 46,...   \n",
       "                20230624_105855_standard_comp_to_both_rewarded_...                [133, 150, 152, 154, 173, 176, 177]   \n",
       "                20230625_112913_standard_comp_to_both_rewarded_...  [15, 17, 32, 115, 141, 148, 213, 227, 243, 250...   \n",
       "\n",
       "                                                                                                          spike_times  \\\n",
       "current_subject session_dir                                                                                             \n",
       "1.1             20230617_115521_standard_comp_to_omission_D1_su...  [[673223.0, 2367433.0, 2569212.0, 3969647.0, 3...   \n",
       "                20230618_100636_standard_comp_to_omission_D2_su...  [[506.0, 1419.0, 2358.0, 5104.0, 6785.0, 7620....   \n",
       "                20230620_114347_standard_comp_to_omission_D4_su...  [[264055.0, 325873.0, 327931.0, 330996.0, 3344...   \n",
       "                20230622_110832_standard_comp_to_both_rewarded_...  [[55448.0, 97552.0, 155723.0, 234331.0, 283736...   \n",
       "                20230625_112913_standard_comp_to_both_rewarded_...  [[407.0, 2413.0, 3667.0, 5935.0, 6395.0, 7088....   \n",
       "                20230628_111202_standard_comp_to_novel_agent_D1...  [[17230.0, 26224.0, 27726.0, 29351.0, 32106.0,...   \n",
       "                20230629_111937_standard_comp_to_novel_agent_D2...  [[300.0, 2504.0, 4007.0, 6191.0, 10964.0, 1367...   \n",
       "1.2             20230617_115521_standard_comp_to_omission_D1_su...  [[958.0, 5233.0, 6331.0, 7475.0, 8599.0, 10550...   \n",
       "                20230620_114347_standard_comp_to_omission_D4_su...  [[5884.0, 7172.0, 11405.0, 19311.0, 19371.0, 2...   \n",
       "                20230622_110832_standard_comp_to_both_rewarded_...  [[7114.0, 29239.0, 35085.0, 60921.0, 66984.0, ...   \n",
       "                20230628_111202_standard_comp_to_novel_agent_D1...  [[5929.0, 13568.0, 21727.0, 41631.0, 77257.0, ...   \n",
       "1.4             20230618_100636_standard_comp_to_omission_D2_su...  [[458431.0, 506645.0, 509846.0, 545481.0, 5710...   \n",
       "                20230621_111240_standard_comp_to_omission_D5_su...  [[1891.0, 5872.0, 8366.0, 16312.0, 17233.0, 24...   \n",
       "                20230624_105855_standard_comp_to_both_rewarded_...  [[128399.0, 182521.0, 183083.0, 195446.0, 1997...   \n",
       "                20230625_112913_standard_comp_to_both_rewarded_...  [[103137.0, 299878.0, 374601.0, 495955.0, 4974...   \n",
       "\n",
       "                                                                                                    neuron_average_fr  \\\n",
       "current_subject session_dir                                                                                             \n",
       "1.1             20230617_115521_standard_comp_to_omission_D1_su...  [[0.0, 0.0, 0.0, 0.0, 0.0, 0.0, 0.0, 0.0, 0.0,...   \n",
       "                20230618_100636_standard_comp_to_omission_D2_su...  [[2.0, 1.0, 1.0, 2.0, 1.0, 0.0, 3.0, 0.0, 1.0,...   \n",
       "                20230620_114347_standard_comp_to_omission_D4_su...  [[0.0, 0.0, 0.0, 0.0, 0.0, 0.0, 0.0, 0.0, 0.0,...   \n",
       "                20230622_110832_standard_comp_to_both_rewarded_...  [[0.0, 0.0, 0.0, 0.0, 0.0, 0.0, 0.0, 0.0, 0.0,...   \n",
       "                20230625_112913_standard_comp_to_both_rewarded_...  [[1.0, 2.0, 1.0, 2.0, 1.0, 1.0, 0.0, 2.0, 1.0,...   \n",
       "                20230628_111202_standard_comp_to_novel_agent_D1...  [[0.0, 0.0, 0.0, 0.0, 0.0, 0.0, 0.0, 0.0, 1.0,...   \n",
       "                20230629_111937_standard_comp_to_novel_agent_D2...  [[1.0, 1.0, 1.0, 1.0, 0.0, 1.0, 1.0, 2.0, 1.0,...   \n",
       "1.2             20230617_115521_standard_comp_to_omission_D1_su...  [[1.0, 0.0, 1.0, 2.0, 1.0, 1.0, 0.0, 0.0, 0.0,...   \n",
       "                20230620_114347_standard_comp_to_omission_D4_su...  [[0.0, 0.0, 1.0, 1.0, 0.0, 1.0, 0.0, 0.0, 0.0,...   \n",
       "                20230622_110832_standard_comp_to_both_rewarded_...  [[0.0, 0.0, 0.0, 1.0, 0.0, 0.0, 0.0, 0.0, 0.0,...   \n",
       "                20230628_111202_standard_comp_to_novel_agent_D1...  [[0.0, 0.0, 1.0, 0.0, 0.0, 0.0, 1.0, 0.0, 0.0,...   \n",
       "1.4             20230618_100636_standard_comp_to_omission_D2_su...  [[0.0, 0.0, 0.0, 0.0, 0.0, 0.0, 0.0, 0.0, 0.0,...   \n",
       "                20230621_111240_standard_comp_to_omission_D5_su...  [[1.0, 0.0, 1.0, 0.0, 1.0, 0.0, 0.0, 0.0, 2.0,...   \n",
       "                20230624_105855_standard_comp_to_both_rewarded_...  [[0.0, 0.0, 0.0, 0.0, 0.0, 0.0, 0.0, 0.0, 0.0,...   \n",
       "                20230625_112913_standard_comp_to_both_rewarded_...  [[0.0, 0.0, 0.0, 0.0, 0.0, 0.0, 0.0, 0.0, 0.0,...   \n",
       "\n",
       "                                                                                            neuron_average_timestamps  \\\n",
       "current_subject session_dir                                                                                             \n",
       "1.1             20230617_115521_standard_comp_to_omission_D1_su...  [0, 2000, 4000, 6000, 8000, 10000, 12000, 1400...   \n",
       "                20230618_100636_standard_comp_to_omission_D2_su...  [0, 2000, 4000, 6000, 8000, 10000, 12000, 1400...   \n",
       "                20230620_114347_standard_comp_to_omission_D4_su...  [0, 2000, 4000, 6000, 8000, 10000, 12000, 1400...   \n",
       "                20230622_110832_standard_comp_to_both_rewarded_...  [0, 2000, 4000, 6000, 8000, 10000, 12000, 1400...   \n",
       "                20230625_112913_standard_comp_to_both_rewarded_...  [0, 2000, 4000, 6000, 8000, 10000, 12000, 1400...   \n",
       "                20230628_111202_standard_comp_to_novel_agent_D1...  [0, 2000, 4000, 6000, 8000, 10000, 12000, 1400...   \n",
       "                20230629_111937_standard_comp_to_novel_agent_D2...  [0, 2000, 4000, 6000, 8000, 10000, 12000, 1400...   \n",
       "1.2             20230617_115521_standard_comp_to_omission_D1_su...  [0, 2000, 4000, 6000, 8000, 10000, 12000, 1400...   \n",
       "                20230620_114347_standard_comp_to_omission_D4_su...  [0, 2000, 4000, 6000, 8000, 10000, 12000, 1400...   \n",
       "                20230622_110832_standard_comp_to_both_rewarded_...  [0, 2000, 4000, 6000, 8000, 10000, 12000, 1400...   \n",
       "                20230628_111202_standard_comp_to_novel_agent_D1...  [0, 2000, 4000, 6000, 8000, 10000, 12000, 1400...   \n",
       "1.4             20230618_100636_standard_comp_to_omission_D2_su...  [0, 2000, 4000, 6000, 8000, 10000, 12000, 1400...   \n",
       "                20230621_111240_standard_comp_to_omission_D5_su...  [0, 2000, 4000, 6000, 8000, 10000, 12000, 1400...   \n",
       "                20230624_105855_standard_comp_to_both_rewarded_...  [0, 2000, 4000, 6000, 8000, 10000, 12000, 1400...   \n",
       "                20230625_112913_standard_comp_to_both_rewarded_...  [0, 2000, 4000, 6000, 8000, 10000, 12000, 1400...   \n",
       "\n",
       "                                                                   current_tracked_subject  \\\n",
       "current_subject session_dir                                                                  \n",
       "1.1             20230617_115521_standard_comp_to_omission_D1_su...                     1.1   \n",
       "                20230618_100636_standard_comp_to_omission_D2_su...                 1.1_1.4   \n",
       "                20230620_114347_standard_comp_to_omission_D4_su...                 1.1_1.2   \n",
       "                20230622_110832_standard_comp_to_both_rewarded_...                 1.1_1.2   \n",
       "                20230625_112913_standard_comp_to_both_rewarded_...                 1.1_1.4   \n",
       "                20230628_111202_standard_comp_to_novel_agent_D1...                 1.1_1.2   \n",
       "                20230629_111937_standard_comp_to_novel_agent_D2...                 1.1_1.4   \n",
       "1.2             20230617_115521_standard_comp_to_omission_D1_su...                 1.1_1.2   \n",
       "                20230620_114347_standard_comp_to_omission_D4_su...                     1.2   \n",
       "                20230622_110832_standard_comp_to_both_rewarded_...                 1.1_1.2   \n",
       "                20230628_111202_standard_comp_to_novel_agent_D1...                 1.1_1.2   \n",
       "1.4             20230618_100636_standard_comp_to_omission_D2_su...                     1.4   \n",
       "                20230621_111240_standard_comp_to_omission_D5_su...                     1.4   \n",
       "                20230624_105855_standard_comp_to_both_rewarded_...                 1.2_1.4   \n",
       "                20230625_112913_standard_comp_to_both_rewarded_...                 1.1_1.4   \n",
       "\n",
       "                                                                   start_stop_frame  \\\n",
       "current_subject session_dir                                                           \n",
       "1.1             20230617_115521_standard_comp_to_omission_D1_su...   (41000, 79050)   \n",
       "                20230618_100636_standard_comp_to_omission_D2_su...       (1, 32316)   \n",
       "                20230620_114347_standard_comp_to_omission_D4_su...    (2027, 32239)   \n",
       "                20230622_110832_standard_comp_to_both_rewarded_...       (1, 73111)   \n",
       "                20230625_112913_standard_comp_to_both_rewarded_...       (1, 73292)   \n",
       "                20230628_111202_standard_comp_to_novel_agent_D1...       (1, 31500)   \n",
       "                20230629_111937_standard_comp_to_novel_agent_D2...       (1, 31500)   \n",
       "1.2             20230617_115521_standard_comp_to_omission_D1_su...       (1, 39500)   \n",
       "                20230620_114347_standard_comp_to_omission_D4_su...   (32860, 68287)   \n",
       "                20230622_110832_standard_comp_to_both_rewarded_...       (1, 73111)   \n",
       "                20230628_111202_standard_comp_to_novel_agent_D1...       (1, 31500)   \n",
       "1.4             20230618_100636_standard_comp_to_omission_D2_su...   (32792, 68494)   \n",
       "                20230621_111240_standard_comp_to_omission_D5_su...   (35000, 69766)   \n",
       "                20230624_105855_standard_comp_to_both_rewarded_...       (1, 72635)   \n",
       "                20230625_112913_standard_comp_to_both_rewarded_...       (1, 73292)   \n",
       "\n",
       "                                                                                                    subject_locations  \n",
       "current_subject session_dir                                                                                            \n",
       "1.1             20230617_115521_standard_comp_to_omission_D1_su...  [[[[nan nan], [nan nan], [nan nan], [nan nan],...  \n",
       "                20230618_100636_standard_comp_to_omission_D2_su...  [[[[nan nan], [nan nan], [nan nan], [nan nan],...  \n",
       "                20230620_114347_standard_comp_to_omission_D4_su...  [[[[nan nan], [nan nan], [nan nan], [nan nan],...  \n",
       "                20230622_110832_standard_comp_to_both_rewarded_...  [[[[nan nan], [nan nan], [nan nan], [nan nan],...  \n",
       "                20230625_112913_standard_comp_to_both_rewarded_...  [[[[nan nan], [nan nan], [nan nan], [nan nan],...  \n",
       "                20230628_111202_standard_comp_to_novel_agent_D1...  [[[[nan nan], [nan nan], [nan nan], [nan nan],...  \n",
       "                20230629_111937_standard_comp_to_novel_agent_D2...  [[[[nan nan], [nan nan], [nan nan], [nan nan],...  \n",
       "1.2             20230617_115521_standard_comp_to_omission_D1_su...  [[[[nan nan], [nan nan], [nan nan], [nan nan],...  \n",
       "                20230620_114347_standard_comp_to_omission_D4_su...  [[[[nan nan], [nan nan], [nan nan], [nan nan],...  \n",
       "                20230622_110832_standard_comp_to_both_rewarded_...  [[[[nan nan], [nan nan], [nan nan], [nan nan],...  \n",
       "                20230628_111202_standard_comp_to_novel_agent_D1...  [[[[nan nan], [nan nan], [nan nan], [nan nan],...  \n",
       "1.4             20230618_100636_standard_comp_to_omission_D2_su...  [[[[nan nan], [nan nan], [nan nan], [nan nan],...  \n",
       "                20230621_111240_standard_comp_to_omission_D5_su...  [[[[nan nan], [nan nan], [nan nan], [nan nan],...  \n",
       "                20230624_105855_standard_comp_to_both_rewarded_...  [[[[nan nan], [nan nan], [nan nan], [nan nan],...  \n",
       "                20230625_112913_standard_comp_to_both_rewarded_...  [[[[nan nan], [nan nan], [nan nan], [nan nan],...  \n",
       "\n",
       "[15 rows x 184 columns]"
      ]
     },
     "execution_count": 102,
     "metadata": {},
     "output_type": "execute_result"
    }
   ],
   "source": [
    "TRIALS_AND_SPECTRAL_DF"
   ]
  },
  {
   "cell_type": "code",
   "execution_count": 91,
   "metadata": {
    "tags": []
   },
   "outputs": [],
   "source": [
    "def combine_grouped_rows(df, array_columns):\n",
    "    \"\"\"\n",
    "    Combine rows within groups of a DataFrame. Uses the `overlay_arrays` for specified columns\n",
    "    and takes the first instance for other columns.\n",
    "\n",
    "    Parameters:\n",
    "    - df (pd.DataFrame): DataFrame to process.\n",
    "    - array_columns (list): List of column names in `df` that contain array values to be combined using `overlay_arrays`.\n",
    "\n",
    "    Returns:\n",
    "    - pd.DataFrame: DataFrame after combining rows within groups.\n",
    "    \"\"\"\n",
    "    def custom_aggregator(x):\n",
    "        if x.name in array_columns:\n",
    "            # Reduce the column by overlaying arrays\n",
    "            return x.dropna().aggregate(lambda arrays: arrays.reduce(overlay_arrays))\n",
    "        else:\n",
    "            # For other columns, simply return the first element\n",
    "            return x.iloc[0]\n",
    "\n",
    "    # Apply the custom aggregator to each column individually\n",
    "    return df.groupby(df.index).aggregate(custom_aggregator)\n"
   ]
  },
  {
   "cell_type": "code",
   "execution_count": 93,
   "metadata": {
    "tags": []
   },
   "outputs": [
    {
     "ename": "AttributeError",
     "evalue": "'Series' object has no attribute 'reduce'",
     "output_type": "error",
     "traceback": [
      "\u001b[0;31m---------------------------------------------------------------------------\u001b[0m",
      "\u001b[0;31mAttributeError\u001b[0m                            Traceback (most recent call last)",
      "File \u001b[0;32m/blue/npadillacoreano/ryoi360/conda/spike_interface_0_99_0/lib/python3.10/site-packages/pandas/core/apply.py:1223\u001b[0m, in \u001b[0;36mSeriesApply.agg\u001b[0;34m(self)\u001b[0m\n\u001b[1;32m   1222\u001b[0m \u001b[38;5;28;01mtry\u001b[39;00m:\n\u001b[0;32m-> 1223\u001b[0m     result \u001b[38;5;241m=\u001b[39m \u001b[43mobj\u001b[49m\u001b[38;5;241;43m.\u001b[39;49m\u001b[43mapply\u001b[49m\u001b[43m(\u001b[49m\u001b[43mfunc\u001b[49m\u001b[43m,\u001b[49m\u001b[43m \u001b[49m\u001b[43margs\u001b[49m\u001b[38;5;241;43m=\u001b[39;49m\u001b[38;5;28;43mself\u001b[39;49m\u001b[38;5;241;43m.\u001b[39;49m\u001b[43margs\u001b[49m\u001b[43m,\u001b[49m\u001b[43m \u001b[49m\u001b[38;5;241;43m*\u001b[39;49m\u001b[38;5;241;43m*\u001b[39;49m\u001b[38;5;28;43mself\u001b[39;49m\u001b[38;5;241;43m.\u001b[39;49m\u001b[43mkwargs\u001b[49m\u001b[43m)\u001b[49m\n\u001b[1;32m   1224\u001b[0m \u001b[38;5;28;01mexcept\u001b[39;00m (\u001b[38;5;167;01mValueError\u001b[39;00m, \u001b[38;5;167;01mAttributeError\u001b[39;00m, \u001b[38;5;167;01mTypeError\u001b[39;00m):\n",
      "File \u001b[0;32m/blue/npadillacoreano/ryoi360/conda/spike_interface_0_99_0/lib/python3.10/site-packages/pandas/core/series.py:4764\u001b[0m, in \u001b[0;36mSeries.apply\u001b[0;34m(self, func, convert_dtype, args, by_row, **kwargs)\u001b[0m\n\u001b[1;32m   4638\u001b[0m \u001b[38;5;250m\u001b[39m\u001b[38;5;124;03m\"\"\"\u001b[39;00m\n\u001b[1;32m   4639\u001b[0m \u001b[38;5;124;03mInvoke function on values of Series.\u001b[39;00m\n\u001b[1;32m   4640\u001b[0m \n\u001b[0;32m   (...)\u001b[0m\n\u001b[1;32m   4755\u001b[0m \u001b[38;5;124;03mdtype: float64\u001b[39;00m\n\u001b[1;32m   4756\u001b[0m \u001b[38;5;124;03m\"\"\"\u001b[39;00m\n\u001b[1;32m   4757\u001b[0m \u001b[38;5;28;01mreturn\u001b[39;00m \u001b[43mSeriesApply\u001b[49m\u001b[43m(\u001b[49m\n\u001b[1;32m   4758\u001b[0m \u001b[43m    \u001b[49m\u001b[38;5;28;43mself\u001b[39;49m\u001b[43m,\u001b[49m\n\u001b[1;32m   4759\u001b[0m \u001b[43m    \u001b[49m\u001b[43mfunc\u001b[49m\u001b[43m,\u001b[49m\n\u001b[1;32m   4760\u001b[0m \u001b[43m    \u001b[49m\u001b[43mconvert_dtype\u001b[49m\u001b[38;5;241;43m=\u001b[39;49m\u001b[43mconvert_dtype\u001b[49m\u001b[43m,\u001b[49m\n\u001b[1;32m   4761\u001b[0m \u001b[43m    \u001b[49m\u001b[43mby_row\u001b[49m\u001b[38;5;241;43m=\u001b[39;49m\u001b[43mby_row\u001b[49m\u001b[43m,\u001b[49m\n\u001b[1;32m   4762\u001b[0m \u001b[43m    \u001b[49m\u001b[43margs\u001b[49m\u001b[38;5;241;43m=\u001b[39;49m\u001b[43margs\u001b[49m\u001b[43m,\u001b[49m\n\u001b[1;32m   4763\u001b[0m \u001b[43m    \u001b[49m\u001b[43mkwargs\u001b[49m\u001b[38;5;241;43m=\u001b[39;49m\u001b[43mkwargs\u001b[49m\u001b[43m,\u001b[49m\n\u001b[0;32m-> 4764\u001b[0m \u001b[43m\u001b[49m\u001b[43m)\u001b[49m\u001b[38;5;241;43m.\u001b[39;49m\u001b[43mapply\u001b[49m\u001b[43m(\u001b[49m\u001b[43m)\u001b[49m\n",
      "File \u001b[0;32m/blue/npadillacoreano/ryoi360/conda/spike_interface_0_99_0/lib/python3.10/site-packages/pandas/core/apply.py:1209\u001b[0m, in \u001b[0;36mSeriesApply.apply\u001b[0;34m(self)\u001b[0m\n\u001b[1;32m   1208\u001b[0m \u001b[38;5;66;03m# self.func is Callable\u001b[39;00m\n\u001b[0;32m-> 1209\u001b[0m \u001b[38;5;28;01mreturn\u001b[39;00m \u001b[38;5;28;43mself\u001b[39;49m\u001b[38;5;241;43m.\u001b[39;49m\u001b[43mapply_standard\u001b[49m\u001b[43m(\u001b[49m\u001b[43m)\u001b[49m\n",
      "File \u001b[0;32m/blue/npadillacoreano/ryoi360/conda/spike_interface_0_99_0/lib/python3.10/site-packages/pandas/core/apply.py:1289\u001b[0m, in \u001b[0;36mSeriesApply.apply_standard\u001b[0;34m(self)\u001b[0m\n\u001b[1;32m   1288\u001b[0m action \u001b[38;5;241m=\u001b[39m \u001b[38;5;124m\"\u001b[39m\u001b[38;5;124mignore\u001b[39m\u001b[38;5;124m\"\u001b[39m \u001b[38;5;28;01mif\u001b[39;00m \u001b[38;5;28misinstance\u001b[39m(obj\u001b[38;5;241m.\u001b[39mdtype, CategoricalDtype) \u001b[38;5;28;01melse\u001b[39;00m \u001b[38;5;28;01mNone\u001b[39;00m\n\u001b[0;32m-> 1289\u001b[0m mapped \u001b[38;5;241m=\u001b[39m \u001b[43mobj\u001b[49m\u001b[38;5;241;43m.\u001b[39;49m\u001b[43m_map_values\u001b[49m\u001b[43m(\u001b[49m\n\u001b[1;32m   1290\u001b[0m \u001b[43m    \u001b[49m\u001b[43mmapper\u001b[49m\u001b[38;5;241;43m=\u001b[39;49m\u001b[43mcurried\u001b[49m\u001b[43m,\u001b[49m\u001b[43m \u001b[49m\u001b[43mna_action\u001b[49m\u001b[38;5;241;43m=\u001b[39;49m\u001b[43maction\u001b[49m\u001b[43m,\u001b[49m\u001b[43m \u001b[49m\u001b[43mconvert\u001b[49m\u001b[38;5;241;43m=\u001b[39;49m\u001b[38;5;28;43mself\u001b[39;49m\u001b[38;5;241;43m.\u001b[39;49m\u001b[43mconvert_dtype\u001b[49m\n\u001b[1;32m   1291\u001b[0m \u001b[43m\u001b[49m\u001b[43m)\u001b[49m\n\u001b[1;32m   1293\u001b[0m \u001b[38;5;28;01mif\u001b[39;00m \u001b[38;5;28mlen\u001b[39m(mapped) \u001b[38;5;129;01mand\u001b[39;00m \u001b[38;5;28misinstance\u001b[39m(mapped[\u001b[38;5;241m0\u001b[39m], ABCSeries):\n\u001b[1;32m   1294\u001b[0m     \u001b[38;5;66;03m# GH#43986 Need to do list(mapped) in order to get treated as nested\u001b[39;00m\n\u001b[1;32m   1295\u001b[0m     \u001b[38;5;66;03m#  See also GH#25959 regarding EA support\u001b[39;00m\n",
      "File \u001b[0;32m/blue/npadillacoreano/ryoi360/conda/spike_interface_0_99_0/lib/python3.10/site-packages/pandas/core/base.py:921\u001b[0m, in \u001b[0;36mIndexOpsMixin._map_values\u001b[0;34m(self, mapper, na_action, convert)\u001b[0m\n\u001b[1;32m    919\u001b[0m     \u001b[38;5;28;01mreturn\u001b[39;00m arr\u001b[38;5;241m.\u001b[39mmap(mapper, na_action\u001b[38;5;241m=\u001b[39mna_action)\n\u001b[0;32m--> 921\u001b[0m \u001b[38;5;28;01mreturn\u001b[39;00m \u001b[43malgorithms\u001b[49m\u001b[38;5;241;43m.\u001b[39;49m\u001b[43mmap_array\u001b[49m\u001b[43m(\u001b[49m\u001b[43marr\u001b[49m\u001b[43m,\u001b[49m\u001b[43m \u001b[49m\u001b[43mmapper\u001b[49m\u001b[43m,\u001b[49m\u001b[43m \u001b[49m\u001b[43mna_action\u001b[49m\u001b[38;5;241;43m=\u001b[39;49m\u001b[43mna_action\u001b[49m\u001b[43m,\u001b[49m\u001b[43m \u001b[49m\u001b[43mconvert\u001b[49m\u001b[38;5;241;43m=\u001b[39;49m\u001b[43mconvert\u001b[49m\u001b[43m)\u001b[49m\n",
      "File \u001b[0;32m/blue/npadillacoreano/ryoi360/conda/spike_interface_0_99_0/lib/python3.10/site-packages/pandas/core/algorithms.py:1814\u001b[0m, in \u001b[0;36mmap_array\u001b[0;34m(arr, mapper, na_action, convert)\u001b[0m\n\u001b[1;32m   1813\u001b[0m \u001b[38;5;28;01mif\u001b[39;00m na_action \u001b[38;5;129;01mis\u001b[39;00m \u001b[38;5;28;01mNone\u001b[39;00m:\n\u001b[0;32m-> 1814\u001b[0m     \u001b[38;5;28;01mreturn\u001b[39;00m \u001b[43mlib\u001b[49m\u001b[38;5;241;43m.\u001b[39;49m\u001b[43mmap_infer\u001b[49m\u001b[43m(\u001b[49m\u001b[43mvalues\u001b[49m\u001b[43m,\u001b[49m\u001b[43m \u001b[49m\u001b[43mmapper\u001b[49m\u001b[43m,\u001b[49m\u001b[43m \u001b[49m\u001b[43mconvert\u001b[49m\u001b[38;5;241;43m=\u001b[39;49m\u001b[43mconvert\u001b[49m\u001b[43m)\u001b[49m\n\u001b[1;32m   1815\u001b[0m \u001b[38;5;28;01melse\u001b[39;00m:\n",
      "File \u001b[0;32mlib.pyx:2926\u001b[0m, in \u001b[0;36mpandas._libs.lib.map_infer\u001b[0;34m()\u001b[0m\n",
      "Cell \u001b[0;32mIn[91], line 16\u001b[0m, in \u001b[0;36mcombine_grouped_rows.<locals>.custom_aggregator.<locals>.<lambda>\u001b[0;34m(arrays)\u001b[0m\n\u001b[1;32m     14\u001b[0m \u001b[38;5;28;01mif\u001b[39;00m x\u001b[38;5;241m.\u001b[39mname \u001b[38;5;129;01min\u001b[39;00m array_columns:\n\u001b[1;32m     15\u001b[0m     \u001b[38;5;66;03m# Reduce the column by overlaying arrays\u001b[39;00m\n\u001b[0;32m---> 16\u001b[0m     \u001b[38;5;28;01mreturn\u001b[39;00m x\u001b[38;5;241m.\u001b[39mdropna()\u001b[38;5;241m.\u001b[39maggregate(\u001b[38;5;28;01mlambda\u001b[39;00m arrays: \u001b[43marrays\u001b[49m\u001b[38;5;241;43m.\u001b[39;49m\u001b[43mreduce\u001b[49m(overlay_arrays))\n\u001b[1;32m     17\u001b[0m \u001b[38;5;28;01melse\u001b[39;00m:\n\u001b[1;32m     18\u001b[0m     \u001b[38;5;66;03m# For other columns, simply return the first element\u001b[39;00m\n",
      "\u001b[0;31mAttributeError\u001b[0m: 'numpy.ndarray' object has no attribute 'reduce'",
      "\nDuring handling of the above exception, another exception occurred:\n",
      "\u001b[0;31mAttributeError\u001b[0m                            Traceback (most recent call last)",
      "\u001b[0;32m/scratch/local/31411464/ipykernel_4034477/170653500.py\u001b[0m in \u001b[0;36m?\u001b[0;34m()\u001b[0m\n\u001b[0;32m----> 1\u001b[0;31m \u001b[0mcombine_grouped_rows\u001b[0m\u001b[0;34m(\u001b[0m\u001b[0mTRIALS_AND_SPECTRAL_DF\u001b[0m\u001b[0;34m,\u001b[0m \u001b[0;34m[\u001b[0m\u001b[0;34m\"subject_locations\"\u001b[0m\u001b[0;34m]\u001b[0m\u001b[0;34m)\u001b[0m\u001b[0;34m\u001b[0m\u001b[0;34m\u001b[0m\u001b[0m\n\u001b[0m",
      "\u001b[0;32m/scratch/local/31411464/ipykernel_4034477/1754648250.py\u001b[0m in \u001b[0;36m?\u001b[0;34m(df, array_columns)\u001b[0m\n\u001b[1;32m     18\u001b[0m             \u001b[0;31m# For other columns, simply return the first element\u001b[0m\u001b[0;34m\u001b[0m\u001b[0;34m\u001b[0m\u001b[0m\n\u001b[1;32m     19\u001b[0m             \u001b[0;32mreturn\u001b[0m \u001b[0mx\u001b[0m\u001b[0;34m.\u001b[0m\u001b[0miloc\u001b[0m\u001b[0;34m[\u001b[0m\u001b[0;36m0\u001b[0m\u001b[0;34m]\u001b[0m\u001b[0;34m\u001b[0m\u001b[0;34m\u001b[0m\u001b[0m\n\u001b[1;32m     20\u001b[0m \u001b[0;34m\u001b[0m\u001b[0m\n\u001b[1;32m     21\u001b[0m     \u001b[0;31m# Apply the custom aggregator to each column individually\u001b[0m\u001b[0;34m\u001b[0m\u001b[0;34m\u001b[0m\u001b[0m\n\u001b[0;32m---> 22\u001b[0;31m     \u001b[0;32mreturn\u001b[0m \u001b[0mdf\u001b[0m\u001b[0;34m.\u001b[0m\u001b[0mgroupby\u001b[0m\u001b[0;34m(\u001b[0m\u001b[0mdf\u001b[0m\u001b[0;34m.\u001b[0m\u001b[0mindex\u001b[0m\u001b[0;34m)\u001b[0m\u001b[0;34m.\u001b[0m\u001b[0maggregate\u001b[0m\u001b[0;34m(\u001b[0m\u001b[0mcustom_aggregator\u001b[0m\u001b[0;34m)\u001b[0m\u001b[0;34m\u001b[0m\u001b[0;34m\u001b[0m\u001b[0m\n\u001b[0m",
      "\u001b[0;32m/blue/npadillacoreano/ryoi360/conda/spike_interface_0_99_0/lib/python3.10/site-packages/pandas/core/groupby/generic.py\u001b[0m in \u001b[0;36m?\u001b[0;34m(self, func, engine, engine_kwargs, *args, **kwargs)\u001b[0m\n\u001b[1;32m   1493\u001b[0m                 \u001b[0mgba\u001b[0m \u001b[0;34m=\u001b[0m \u001b[0mGroupByApply\u001b[0m\u001b[0;34m(\u001b[0m\u001b[0mself\u001b[0m\u001b[0;34m,\u001b[0m \u001b[0;34m[\u001b[0m\u001b[0mfunc\u001b[0m\u001b[0;34m]\u001b[0m\u001b[0;34m,\u001b[0m \u001b[0margs\u001b[0m\u001b[0;34m=\u001b[0m\u001b[0;34m(\u001b[0m\u001b[0;34m)\u001b[0m\u001b[0;34m,\u001b[0m \u001b[0mkwargs\u001b[0m\u001b[0;34m=\u001b[0m\u001b[0;34m{\u001b[0m\u001b[0;34m}\u001b[0m\u001b[0;34m)\u001b[0m\u001b[0;34m\u001b[0m\u001b[0;34m\u001b[0m\u001b[0m\n\u001b[1;32m   1494\u001b[0m                 \u001b[0;32mtry\u001b[0m\u001b[0;34m:\u001b[0m\u001b[0;34m\u001b[0m\u001b[0;34m\u001b[0m\u001b[0m\n\u001b[1;32m   1495\u001b[0m                     \u001b[0mresult\u001b[0m \u001b[0;34m=\u001b[0m \u001b[0mgba\u001b[0m\u001b[0;34m.\u001b[0m\u001b[0magg\u001b[0m\u001b[0;34m(\u001b[0m\u001b[0;34m)\u001b[0m\u001b[0;34m\u001b[0m\u001b[0;34m\u001b[0m\u001b[0m\n\u001b[1;32m   1496\u001b[0m \u001b[0;34m\u001b[0m\u001b[0m\n\u001b[0;32m-> 1497\u001b[0;31m                 \u001b[0;32mexcept\u001b[0m \u001b[0mValueError\u001b[0m \u001b[0;32mas\u001b[0m \u001b[0merr\u001b[0m\u001b[0;34m:\u001b[0m\u001b[0;34m\u001b[0m\u001b[0;34m\u001b[0m\u001b[0m\n\u001b[0m\u001b[1;32m   1498\u001b[0m                     \u001b[0;32mif\u001b[0m \u001b[0;34m\"No objects to concatenate\"\u001b[0m \u001b[0;32mnot\u001b[0m \u001b[0;32min\u001b[0m \u001b[0mstr\u001b[0m\u001b[0;34m(\u001b[0m\u001b[0merr\u001b[0m\u001b[0;34m)\u001b[0m\u001b[0;34m:\u001b[0m\u001b[0;34m\u001b[0m\u001b[0;34m\u001b[0m\u001b[0m\n\u001b[1;32m   1499\u001b[0m                         \u001b[0;32mraise\u001b[0m\u001b[0;34m\u001b[0m\u001b[0;34m\u001b[0m\u001b[0m\n\u001b[1;32m   1500\u001b[0m                     \u001b[0;31m# _aggregate_frame can fail with e.g. func=Series.mode,\u001b[0m\u001b[0;34m\u001b[0m\u001b[0;34m\u001b[0m\u001b[0m\n",
      "\u001b[0;32m/blue/npadillacoreano/ryoi360/conda/spike_interface_0_99_0/lib/python3.10/site-packages/pandas/core/apply.py\u001b[0m in \u001b[0;36m?\u001b[0;34m(self)\u001b[0m\n\u001b[1;32m    174\u001b[0m         \u001b[0;32mif\u001b[0m \u001b[0mis_dict_like\u001b[0m\u001b[0;34m(\u001b[0m\u001b[0mfunc\u001b[0m\u001b[0;34m)\u001b[0m\u001b[0;34m:\u001b[0m\u001b[0;34m\u001b[0m\u001b[0;34m\u001b[0m\u001b[0m\n\u001b[1;32m    175\u001b[0m             \u001b[0;32mreturn\u001b[0m \u001b[0mself\u001b[0m\u001b[0;34m.\u001b[0m\u001b[0magg_dict_like\u001b[0m\u001b[0;34m(\u001b[0m\u001b[0;34m)\u001b[0m\u001b[0;34m\u001b[0m\u001b[0;34m\u001b[0m\u001b[0m\n\u001b[1;32m    176\u001b[0m         \u001b[0;32melif\u001b[0m \u001b[0mis_list_like\u001b[0m\u001b[0;34m(\u001b[0m\u001b[0mfunc\u001b[0m\u001b[0;34m)\u001b[0m\u001b[0;34m:\u001b[0m\u001b[0;34m\u001b[0m\u001b[0;34m\u001b[0m\u001b[0m\n\u001b[1;32m    177\u001b[0m             \u001b[0;31m# we require a list, but not a 'str'\u001b[0m\u001b[0;34m\u001b[0m\u001b[0;34m\u001b[0m\u001b[0m\n\u001b[0;32m--> 178\u001b[0;31m             \u001b[0;32mreturn\u001b[0m \u001b[0mself\u001b[0m\u001b[0;34m.\u001b[0m\u001b[0magg_list_like\u001b[0m\u001b[0;34m(\u001b[0m\u001b[0;34m)\u001b[0m\u001b[0;34m\u001b[0m\u001b[0;34m\u001b[0m\u001b[0m\n\u001b[0m\u001b[1;32m    179\u001b[0m \u001b[0;34m\u001b[0m\u001b[0m\n\u001b[1;32m    180\u001b[0m         \u001b[0;32mif\u001b[0m \u001b[0mcallable\u001b[0m\u001b[0;34m(\u001b[0m\u001b[0mfunc\u001b[0m\u001b[0;34m)\u001b[0m\u001b[0;34m:\u001b[0m\u001b[0;34m\u001b[0m\u001b[0;34m\u001b[0m\u001b[0m\n\u001b[1;32m    181\u001b[0m             \u001b[0mf\u001b[0m \u001b[0;34m=\u001b[0m \u001b[0mcom\u001b[0m\u001b[0;34m.\u001b[0m\u001b[0mget_cython_func\u001b[0m\u001b[0;34m(\u001b[0m\u001b[0mfunc\u001b[0m\u001b[0;34m)\u001b[0m\u001b[0;34m\u001b[0m\u001b[0;34m\u001b[0m\u001b[0m\n",
      "\u001b[0;32m/blue/npadillacoreano/ryoi360/conda/spike_interface_0_99_0/lib/python3.10/site-packages/pandas/core/apply.py\u001b[0m in \u001b[0;36m?\u001b[0;34m(self)\u001b[0m\n\u001b[1;32m    307\u001b[0m         \u001b[0mReturns\u001b[0m\u001b[0;34m\u001b[0m\u001b[0;34m\u001b[0m\u001b[0m\n\u001b[1;32m    308\u001b[0m         \u001b[0;34m-\u001b[0m\u001b[0;34m-\u001b[0m\u001b[0;34m-\u001b[0m\u001b[0;34m-\u001b[0m\u001b[0;34m-\u001b[0m\u001b[0;34m-\u001b[0m\u001b[0;34m-\u001b[0m\u001b[0;34m\u001b[0m\u001b[0;34m\u001b[0m\u001b[0m\n\u001b[1;32m    309\u001b[0m         \u001b[0mResult\u001b[0m \u001b[0mof\u001b[0m \u001b[0maggregation\u001b[0m\u001b[0;34m.\u001b[0m\u001b[0;34m\u001b[0m\u001b[0;34m\u001b[0m\u001b[0m\n\u001b[1;32m    310\u001b[0m         \"\"\"\n\u001b[0;32m--> 311\u001b[0;31m         \u001b[0;32mreturn\u001b[0m \u001b[0mself\u001b[0m\u001b[0;34m.\u001b[0m\u001b[0magg_or_apply_list_like\u001b[0m\u001b[0;34m(\u001b[0m\u001b[0mop_name\u001b[0m\u001b[0;34m=\u001b[0m\u001b[0;34m\"agg\"\u001b[0m\u001b[0;34m)\u001b[0m\u001b[0;34m\u001b[0m\u001b[0;34m\u001b[0m\u001b[0m\n\u001b[0m",
      "\u001b[0;32m/blue/npadillacoreano/ryoi360/conda/spike_interface_0_99_0/lib/python3.10/site-packages/pandas/core/apply.py\u001b[0m in \u001b[0;36m?\u001b[0;34m(self, op_name)\u001b[0m\n\u001b[1;32m   1349\u001b[0m         \u001b[0;31m# that inherit from this class.\u001b[0m\u001b[0;34m\u001b[0m\u001b[0;34m\u001b[0m\u001b[0m\n\u001b[1;32m   1350\u001b[0m         with com.temp_setattr(\n\u001b[1;32m   1351\u001b[0m             \u001b[0mobj\u001b[0m\u001b[0;34m,\u001b[0m \u001b[0;34m\"as_index\"\u001b[0m\u001b[0;34m,\u001b[0m \u001b[0;32mTrue\u001b[0m\u001b[0;34m,\u001b[0m \u001b[0mcondition\u001b[0m\u001b[0;34m=\u001b[0m\u001b[0mhasattr\u001b[0m\u001b[0;34m(\u001b[0m\u001b[0mobj\u001b[0m\u001b[0;34m,\u001b[0m \u001b[0;34m\"as_index\"\u001b[0m\u001b[0;34m)\u001b[0m\u001b[0;34m\u001b[0m\u001b[0;34m\u001b[0m\u001b[0m\n\u001b[1;32m   1352\u001b[0m         ):\n\u001b[0;32m-> 1353\u001b[0;31m             \u001b[0mkeys\u001b[0m\u001b[0;34m,\u001b[0m \u001b[0mresults\u001b[0m \u001b[0;34m=\u001b[0m \u001b[0mself\u001b[0m\u001b[0;34m.\u001b[0m\u001b[0mcompute_list_like\u001b[0m\u001b[0;34m(\u001b[0m\u001b[0mop_name\u001b[0m\u001b[0;34m,\u001b[0m \u001b[0mselected_obj\u001b[0m\u001b[0;34m,\u001b[0m \u001b[0mkwargs\u001b[0m\u001b[0;34m)\u001b[0m\u001b[0;34m\u001b[0m\u001b[0;34m\u001b[0m\u001b[0m\n\u001b[0m\u001b[1;32m   1354\u001b[0m         \u001b[0mresult\u001b[0m \u001b[0;34m=\u001b[0m \u001b[0mself\u001b[0m\u001b[0;34m.\u001b[0m\u001b[0mwrap_results_list_like\u001b[0m\u001b[0;34m(\u001b[0m\u001b[0mkeys\u001b[0m\u001b[0;34m,\u001b[0m \u001b[0mresults\u001b[0m\u001b[0;34m)\u001b[0m\u001b[0;34m\u001b[0m\u001b[0;34m\u001b[0m\u001b[0m\n\u001b[1;32m   1355\u001b[0m         \u001b[0;32mreturn\u001b[0m \u001b[0mresult\u001b[0m\u001b[0;34m\u001b[0m\u001b[0;34m\u001b[0m\u001b[0m\n",
      "\u001b[0;32m/blue/npadillacoreano/ryoi360/conda/spike_interface_0_99_0/lib/python3.10/site-packages/pandas/core/apply.py\u001b[0m in \u001b[0;36m?\u001b[0;34m(self, op_name, selected_obj, kwargs)\u001b[0m\n\u001b[1;32m    366\u001b[0m                     \u001b[0;34m[\u001b[0m\u001b[0mself\u001b[0m\u001b[0;34m.\u001b[0m\u001b[0maxis\u001b[0m\u001b[0;34m,\u001b[0m \u001b[0;34m*\u001b[0m\u001b[0mself\u001b[0m\u001b[0;34m.\u001b[0m\u001b[0margs\u001b[0m\u001b[0;34m]\u001b[0m\u001b[0;34m\u001b[0m\u001b[0;34m\u001b[0m\u001b[0m\n\u001b[1;32m    367\u001b[0m                     \u001b[0;32mif\u001b[0m \u001b[0minclude_axis\u001b[0m\u001b[0;34m(\u001b[0m\u001b[0mop_name\u001b[0m\u001b[0;34m,\u001b[0m \u001b[0mcolg\u001b[0m\u001b[0;34m)\u001b[0m\u001b[0;34m\u001b[0m\u001b[0;34m\u001b[0m\u001b[0m\n\u001b[1;32m    368\u001b[0m                     \u001b[0;32melse\u001b[0m \u001b[0mself\u001b[0m\u001b[0;34m.\u001b[0m\u001b[0margs\u001b[0m\u001b[0;34m\u001b[0m\u001b[0;34m\u001b[0m\u001b[0m\n\u001b[1;32m    369\u001b[0m                 )\n\u001b[0;32m--> 370\u001b[0;31m                 \u001b[0mnew_res\u001b[0m \u001b[0;34m=\u001b[0m \u001b[0mgetattr\u001b[0m\u001b[0;34m(\u001b[0m\u001b[0mcolg\u001b[0m\u001b[0;34m,\u001b[0m \u001b[0mop_name\u001b[0m\u001b[0;34m)\u001b[0m\u001b[0;34m(\u001b[0m\u001b[0mfunc\u001b[0m\u001b[0;34m,\u001b[0m \u001b[0;34m*\u001b[0m\u001b[0margs\u001b[0m\u001b[0;34m,\u001b[0m \u001b[0;34m**\u001b[0m\u001b[0mkwargs\u001b[0m\u001b[0;34m)\u001b[0m\u001b[0;34m\u001b[0m\u001b[0;34m\u001b[0m\u001b[0m\n\u001b[0m\u001b[1;32m    371\u001b[0m                 \u001b[0mresults\u001b[0m\u001b[0;34m.\u001b[0m\u001b[0mappend\u001b[0m\u001b[0;34m(\u001b[0m\u001b[0mnew_res\u001b[0m\u001b[0;34m)\u001b[0m\u001b[0;34m\u001b[0m\u001b[0;34m\u001b[0m\u001b[0m\n\u001b[1;32m    372\u001b[0m                 \u001b[0mindices\u001b[0m\u001b[0;34m.\u001b[0m\u001b[0mappend\u001b[0m\u001b[0;34m(\u001b[0m\u001b[0mindex\u001b[0m\u001b[0;34m)\u001b[0m\u001b[0;34m\u001b[0m\u001b[0;34m\u001b[0m\u001b[0m\n\u001b[1;32m    373\u001b[0m             \u001b[0mkeys\u001b[0m \u001b[0;34m=\u001b[0m \u001b[0mselected_obj\u001b[0m\u001b[0;34m.\u001b[0m\u001b[0mcolumns\u001b[0m\u001b[0;34m.\u001b[0m\u001b[0mtake\u001b[0m\u001b[0;34m(\u001b[0m\u001b[0mindices\u001b[0m\u001b[0;34m)\u001b[0m\u001b[0;34m\u001b[0m\u001b[0;34m\u001b[0m\u001b[0m\n",
      "\u001b[0;32m/blue/npadillacoreano/ryoi360/conda/spike_interface_0_99_0/lib/python3.10/site-packages/pandas/core/groupby/generic.py\u001b[0m in \u001b[0;36m?\u001b[0;34m(self, func, engine, engine_kwargs, *args, **kwargs)\u001b[0m\n\u001b[1;32m    251\u001b[0m             \u001b[0;31m# but not the class list / tuple itself.\u001b[0m\u001b[0;34m\u001b[0m\u001b[0;34m\u001b[0m\u001b[0m\n\u001b[1;32m    252\u001b[0m             \u001b[0mfunc\u001b[0m \u001b[0;34m=\u001b[0m \u001b[0mmaybe_mangle_lambdas\u001b[0m\u001b[0;34m(\u001b[0m\u001b[0mfunc\u001b[0m\u001b[0;34m)\u001b[0m\u001b[0;34m\u001b[0m\u001b[0;34m\u001b[0m\u001b[0m\n\u001b[1;32m    253\u001b[0m             \u001b[0mkwargs\u001b[0m\u001b[0;34m[\u001b[0m\u001b[0;34m\"engine\"\u001b[0m\u001b[0;34m]\u001b[0m \u001b[0;34m=\u001b[0m \u001b[0mengine\u001b[0m\u001b[0;34m\u001b[0m\u001b[0;34m\u001b[0m\u001b[0m\n\u001b[1;32m    254\u001b[0m             \u001b[0mkwargs\u001b[0m\u001b[0;34m[\u001b[0m\u001b[0;34m\"engine_kwargs\"\u001b[0m\u001b[0;34m]\u001b[0m \u001b[0;34m=\u001b[0m \u001b[0mengine_kwargs\u001b[0m\u001b[0;34m\u001b[0m\u001b[0;34m\u001b[0m\u001b[0m\n\u001b[0;32m--> 255\u001b[0;31m             \u001b[0mret\u001b[0m \u001b[0;34m=\u001b[0m \u001b[0mself\u001b[0m\u001b[0;34m.\u001b[0m\u001b[0m_aggregate_multiple_funcs\u001b[0m\u001b[0;34m(\u001b[0m\u001b[0mfunc\u001b[0m\u001b[0;34m,\u001b[0m \u001b[0;34m*\u001b[0m\u001b[0margs\u001b[0m\u001b[0;34m,\u001b[0m \u001b[0;34m**\u001b[0m\u001b[0mkwargs\u001b[0m\u001b[0;34m)\u001b[0m\u001b[0;34m\u001b[0m\u001b[0;34m\u001b[0m\u001b[0m\n\u001b[0m\u001b[1;32m    256\u001b[0m             \u001b[0;32mif\u001b[0m \u001b[0mrelabeling\u001b[0m\u001b[0;34m:\u001b[0m\u001b[0;34m\u001b[0m\u001b[0;34m\u001b[0m\u001b[0m\n\u001b[1;32m    257\u001b[0m                 \u001b[0;31m# columns is not narrowed by mypy from relabeling flag\u001b[0m\u001b[0;34m\u001b[0m\u001b[0;34m\u001b[0m\u001b[0m\n\u001b[1;32m    258\u001b[0m                 \u001b[0;32massert\u001b[0m \u001b[0mcolumns\u001b[0m \u001b[0;32mis\u001b[0m \u001b[0;32mnot\u001b[0m \u001b[0;32mNone\u001b[0m  \u001b[0;31m# for mypy\u001b[0m\u001b[0;34m\u001b[0m\u001b[0;34m\u001b[0m\u001b[0m\n",
      "\u001b[0;32m/blue/npadillacoreano/ryoi360/conda/spike_interface_0_99_0/lib/python3.10/site-packages/pandas/core/groupby/generic.py\u001b[0m in \u001b[0;36m?\u001b[0;34m(self, arg, *args, **kwargs)\u001b[0m\n\u001b[1;32m    356\u001b[0m             \u001b[0;31m# Combine results using the index, need to adjust index after\u001b[0m\u001b[0;34m\u001b[0m\u001b[0;34m\u001b[0m\u001b[0m\n\u001b[1;32m    357\u001b[0m             \u001b[0;31m# if as_index=False (GH#50724)\u001b[0m\u001b[0;34m\u001b[0m\u001b[0;34m\u001b[0m\u001b[0m\n\u001b[1;32m    358\u001b[0m             \u001b[0;32mfor\u001b[0m \u001b[0midx\u001b[0m\u001b[0;34m,\u001b[0m \u001b[0;34m(\u001b[0m\u001b[0mname\u001b[0m\u001b[0;34m,\u001b[0m \u001b[0mfunc\u001b[0m\u001b[0;34m)\u001b[0m \u001b[0;32min\u001b[0m \u001b[0menumerate\u001b[0m\u001b[0;34m(\u001b[0m\u001b[0marg\u001b[0m\u001b[0;34m)\u001b[0m\u001b[0;34m:\u001b[0m\u001b[0;34m\u001b[0m\u001b[0;34m\u001b[0m\u001b[0m\n\u001b[1;32m    359\u001b[0m                 \u001b[0mkey\u001b[0m \u001b[0;34m=\u001b[0m \u001b[0mbase\u001b[0m\u001b[0;34m.\u001b[0m\u001b[0mOutputKey\u001b[0m\u001b[0;34m(\u001b[0m\u001b[0mlabel\u001b[0m\u001b[0;34m=\u001b[0m\u001b[0mname\u001b[0m\u001b[0;34m,\u001b[0m \u001b[0mposition\u001b[0m\u001b[0;34m=\u001b[0m\u001b[0midx\u001b[0m\u001b[0;34m)\u001b[0m\u001b[0;34m\u001b[0m\u001b[0;34m\u001b[0m\u001b[0m\n\u001b[0;32m--> 360\u001b[0;31m                 \u001b[0mresults\u001b[0m\u001b[0;34m[\u001b[0m\u001b[0mkey\u001b[0m\u001b[0;34m]\u001b[0m \u001b[0;34m=\u001b[0m \u001b[0mself\u001b[0m\u001b[0;34m.\u001b[0m\u001b[0maggregate\u001b[0m\u001b[0;34m(\u001b[0m\u001b[0mfunc\u001b[0m\u001b[0;34m,\u001b[0m \u001b[0;34m*\u001b[0m\u001b[0margs\u001b[0m\u001b[0;34m,\u001b[0m \u001b[0;34m**\u001b[0m\u001b[0mkwargs\u001b[0m\u001b[0;34m)\u001b[0m\u001b[0;34m\u001b[0m\u001b[0;34m\u001b[0m\u001b[0m\n\u001b[0m\u001b[1;32m    361\u001b[0m \u001b[0;34m\u001b[0m\u001b[0m\n\u001b[1;32m    362\u001b[0m         \u001b[0;32mif\u001b[0m \u001b[0many\u001b[0m\u001b[0;34m(\u001b[0m\u001b[0misinstance\u001b[0m\u001b[0;34m(\u001b[0m\u001b[0mx\u001b[0m\u001b[0;34m,\u001b[0m \u001b[0mDataFrame\u001b[0m\u001b[0;34m)\u001b[0m \u001b[0;32mfor\u001b[0m \u001b[0mx\u001b[0m \u001b[0;32min\u001b[0m \u001b[0mresults\u001b[0m\u001b[0;34m.\u001b[0m\u001b[0mvalues\u001b[0m\u001b[0;34m(\u001b[0m\u001b[0;34m)\u001b[0m\u001b[0;34m)\u001b[0m\u001b[0;34m:\u001b[0m\u001b[0;34m\u001b[0m\u001b[0;34m\u001b[0m\u001b[0m\n\u001b[1;32m    363\u001b[0m             \u001b[0;32mfrom\u001b[0m \u001b[0mpandas\u001b[0m \u001b[0;32mimport\u001b[0m \u001b[0mconcat\u001b[0m\u001b[0;34m\u001b[0m\u001b[0;34m\u001b[0m\u001b[0m\n",
      "\u001b[0;32m/blue/npadillacoreano/ryoi360/conda/spike_interface_0_99_0/lib/python3.10/site-packages/pandas/core/groupby/generic.py\u001b[0m in \u001b[0;36m?\u001b[0;34m(self, func, engine, engine_kwargs, *args, **kwargs)\u001b[0m\n\u001b[1;32m    289\u001b[0m                 \u001b[0;32mreturn\u001b[0m \u001b[0mself\u001b[0m\u001b[0;34m.\u001b[0m\u001b[0m_python_agg_general\u001b[0m\u001b[0;34m(\u001b[0m\u001b[0mfunc\u001b[0m\u001b[0;34m,\u001b[0m \u001b[0;34m*\u001b[0m\u001b[0margs\u001b[0m\u001b[0;34m,\u001b[0m \u001b[0;34m**\u001b[0m\u001b[0mkwargs\u001b[0m\u001b[0;34m)\u001b[0m\u001b[0;34m\u001b[0m\u001b[0;34m\u001b[0m\u001b[0m\n\u001b[1;32m    290\u001b[0m \u001b[0;34m\u001b[0m\u001b[0m\n\u001b[1;32m    291\u001b[0m             \u001b[0;32mtry\u001b[0m\u001b[0;34m:\u001b[0m\u001b[0;34m\u001b[0m\u001b[0;34m\u001b[0m\u001b[0m\n\u001b[1;32m    292\u001b[0m                 \u001b[0;32mreturn\u001b[0m \u001b[0mself\u001b[0m\u001b[0;34m.\u001b[0m\u001b[0m_python_agg_general\u001b[0m\u001b[0;34m(\u001b[0m\u001b[0mfunc\u001b[0m\u001b[0;34m,\u001b[0m \u001b[0;34m*\u001b[0m\u001b[0margs\u001b[0m\u001b[0;34m,\u001b[0m \u001b[0;34m**\u001b[0m\u001b[0mkwargs\u001b[0m\u001b[0;34m)\u001b[0m\u001b[0;34m\u001b[0m\u001b[0;34m\u001b[0m\u001b[0m\n\u001b[0;32m--> 293\u001b[0;31m             \u001b[0;32mexcept\u001b[0m \u001b[0mKeyError\u001b[0m\u001b[0;34m:\u001b[0m\u001b[0;34m\u001b[0m\u001b[0;34m\u001b[0m\u001b[0m\n\u001b[0m\u001b[1;32m    294\u001b[0m                 \u001b[0;31m# KeyError raised in test_groupby.test_basic is bc the func does\u001b[0m\u001b[0;34m\u001b[0m\u001b[0;34m\u001b[0m\u001b[0m\n\u001b[1;32m    295\u001b[0m                 \u001b[0;31m#  a dictionary lookup on group.name, but group name is not\u001b[0m\u001b[0;34m\u001b[0m\u001b[0;34m\u001b[0m\u001b[0m\n\u001b[1;32m    296\u001b[0m                 \u001b[0;31m#  pinned in _python_agg_general, only in _aggregate_named\u001b[0m\u001b[0;34m\u001b[0m\u001b[0;34m\u001b[0m\u001b[0m\n",
      "\u001b[0;32m/blue/npadillacoreano/ryoi360/conda/spike_interface_0_99_0/lib/python3.10/site-packages/pandas/core/groupby/generic.py\u001b[0m in \u001b[0;36m?\u001b[0;34m(self, func, *args, **kwargs)\u001b[0m\n\u001b[1;32m    321\u001b[0m             \u001b[0mwarn_alias_replacement\u001b[0m\u001b[0;34m(\u001b[0m\u001b[0mself\u001b[0m\u001b[0;34m,\u001b[0m \u001b[0morig_func\u001b[0m\u001b[0;34m,\u001b[0m \u001b[0malias\u001b[0m\u001b[0;34m)\u001b[0m\u001b[0;34m\u001b[0m\u001b[0;34m\u001b[0m\u001b[0m\n\u001b[1;32m    322\u001b[0m         \u001b[0mf\u001b[0m \u001b[0;34m=\u001b[0m \u001b[0;32mlambda\u001b[0m \u001b[0mx\u001b[0m\u001b[0;34m:\u001b[0m \u001b[0mfunc\u001b[0m\u001b[0;34m(\u001b[0m\u001b[0mx\u001b[0m\u001b[0;34m,\u001b[0m \u001b[0;34m*\u001b[0m\u001b[0margs\u001b[0m\u001b[0;34m,\u001b[0m \u001b[0;34m**\u001b[0m\u001b[0mkwargs\u001b[0m\u001b[0;34m)\u001b[0m\u001b[0;34m\u001b[0m\u001b[0;34m\u001b[0m\u001b[0m\n\u001b[1;32m    323\u001b[0m \u001b[0;34m\u001b[0m\u001b[0m\n\u001b[1;32m    324\u001b[0m         \u001b[0mobj\u001b[0m \u001b[0;34m=\u001b[0m \u001b[0mself\u001b[0m\u001b[0;34m.\u001b[0m\u001b[0m_obj_with_exclusions\u001b[0m\u001b[0;34m\u001b[0m\u001b[0;34m\u001b[0m\u001b[0m\n\u001b[0;32m--> 325\u001b[0;31m         \u001b[0mresult\u001b[0m \u001b[0;34m=\u001b[0m \u001b[0mself\u001b[0m\u001b[0;34m.\u001b[0m\u001b[0mgrouper\u001b[0m\u001b[0;34m.\u001b[0m\u001b[0magg_series\u001b[0m\u001b[0;34m(\u001b[0m\u001b[0mobj\u001b[0m\u001b[0;34m,\u001b[0m \u001b[0mf\u001b[0m\u001b[0;34m)\u001b[0m\u001b[0;34m\u001b[0m\u001b[0;34m\u001b[0m\u001b[0m\n\u001b[0m\u001b[1;32m    326\u001b[0m         \u001b[0mres\u001b[0m \u001b[0;34m=\u001b[0m \u001b[0mobj\u001b[0m\u001b[0;34m.\u001b[0m\u001b[0m_constructor\u001b[0m\u001b[0;34m(\u001b[0m\u001b[0mresult\u001b[0m\u001b[0;34m,\u001b[0m \u001b[0mname\u001b[0m\u001b[0;34m=\u001b[0m\u001b[0mobj\u001b[0m\u001b[0;34m.\u001b[0m\u001b[0mname\u001b[0m\u001b[0;34m)\u001b[0m\u001b[0;34m\u001b[0m\u001b[0;34m\u001b[0m\u001b[0m\n\u001b[1;32m    327\u001b[0m         \u001b[0;32mreturn\u001b[0m \u001b[0mself\u001b[0m\u001b[0;34m.\u001b[0m\u001b[0m_wrap_aggregated_output\u001b[0m\u001b[0;34m(\u001b[0m\u001b[0mres\u001b[0m\u001b[0;34m)\u001b[0m\u001b[0;34m\u001b[0m\u001b[0;34m\u001b[0m\u001b[0m\n",
      "\u001b[0;32m/blue/npadillacoreano/ryoi360/conda/spike_interface_0_99_0/lib/python3.10/site-packages/pandas/core/groupby/ops.py\u001b[0m in \u001b[0;36m?\u001b[0;34m(self, obj, func, preserve_dtype)\u001b[0m\n\u001b[1;32m    845\u001b[0m             \u001b[0;31m#  with _from_sequence.  NB we are assuming here that _from_sequence\u001b[0m\u001b[0;34m\u001b[0m\u001b[0;34m\u001b[0m\u001b[0m\n\u001b[1;32m    846\u001b[0m             \u001b[0;31m#  is sufficiently strict that it casts appropriately.\u001b[0m\u001b[0;34m\u001b[0m\u001b[0;34m\u001b[0m\u001b[0m\n\u001b[1;32m    847\u001b[0m             \u001b[0mpreserve_dtype\u001b[0m \u001b[0;34m=\u001b[0m \u001b[0;32mTrue\u001b[0m\u001b[0;34m\u001b[0m\u001b[0;34m\u001b[0m\u001b[0m\n\u001b[1;32m    848\u001b[0m \u001b[0;34m\u001b[0m\u001b[0m\n\u001b[0;32m--> 849\u001b[0;31m         \u001b[0mresult\u001b[0m \u001b[0;34m=\u001b[0m \u001b[0mself\u001b[0m\u001b[0;34m.\u001b[0m\u001b[0m_aggregate_series_pure_python\u001b[0m\u001b[0;34m(\u001b[0m\u001b[0mobj\u001b[0m\u001b[0;34m,\u001b[0m \u001b[0mfunc\u001b[0m\u001b[0;34m)\u001b[0m\u001b[0;34m\u001b[0m\u001b[0;34m\u001b[0m\u001b[0m\n\u001b[0m\u001b[1;32m    850\u001b[0m \u001b[0;34m\u001b[0m\u001b[0m\n\u001b[1;32m    851\u001b[0m         \u001b[0;32mif\u001b[0m \u001b[0mlen\u001b[0m\u001b[0;34m(\u001b[0m\u001b[0mobj\u001b[0m\u001b[0;34m)\u001b[0m \u001b[0;34m==\u001b[0m \u001b[0;36m0\u001b[0m \u001b[0;32mand\u001b[0m \u001b[0mlen\u001b[0m\u001b[0;34m(\u001b[0m\u001b[0mresult\u001b[0m\u001b[0;34m)\u001b[0m \u001b[0;34m==\u001b[0m \u001b[0;36m0\u001b[0m \u001b[0;32mand\u001b[0m \u001b[0misinstance\u001b[0m\u001b[0;34m(\u001b[0m\u001b[0mobj\u001b[0m\u001b[0;34m.\u001b[0m\u001b[0mdtype\u001b[0m\u001b[0;34m,\u001b[0m \u001b[0mExtensionDtype\u001b[0m\u001b[0;34m)\u001b[0m\u001b[0;34m:\u001b[0m\u001b[0;34m\u001b[0m\u001b[0;34m\u001b[0m\u001b[0m\n\u001b[1;32m    852\u001b[0m             \u001b[0mcls\u001b[0m \u001b[0;34m=\u001b[0m \u001b[0mobj\u001b[0m\u001b[0;34m.\u001b[0m\u001b[0mdtype\u001b[0m\u001b[0;34m.\u001b[0m\u001b[0mconstruct_array_type\u001b[0m\u001b[0;34m(\u001b[0m\u001b[0;34m)\u001b[0m\u001b[0;34m\u001b[0m\u001b[0;34m\u001b[0m\u001b[0m\n",
      "\u001b[0;32m/blue/npadillacoreano/ryoi360/conda/spike_interface_0_99_0/lib/python3.10/site-packages/pandas/core/groupby/ops.py\u001b[0m in \u001b[0;36m?\u001b[0;34m(self, obj, func)\u001b[0m\n\u001b[1;32m    873\u001b[0m \u001b[0;34m\u001b[0m\u001b[0m\n\u001b[1;32m    874\u001b[0m         \u001b[0msplitter\u001b[0m \u001b[0;34m=\u001b[0m \u001b[0mself\u001b[0m\u001b[0;34m.\u001b[0m\u001b[0m_get_splitter\u001b[0m\u001b[0;34m(\u001b[0m\u001b[0mobj\u001b[0m\u001b[0;34m,\u001b[0m \u001b[0maxis\u001b[0m\u001b[0;34m=\u001b[0m\u001b[0;36m0\u001b[0m\u001b[0;34m)\u001b[0m\u001b[0;34m\u001b[0m\u001b[0;34m\u001b[0m\u001b[0m\n\u001b[1;32m    875\u001b[0m \u001b[0;34m\u001b[0m\u001b[0m\n\u001b[1;32m    876\u001b[0m         \u001b[0;32mfor\u001b[0m \u001b[0mi\u001b[0m\u001b[0;34m,\u001b[0m \u001b[0mgroup\u001b[0m \u001b[0;32min\u001b[0m \u001b[0menumerate\u001b[0m\u001b[0;34m(\u001b[0m\u001b[0msplitter\u001b[0m\u001b[0;34m)\u001b[0m\u001b[0;34m:\u001b[0m\u001b[0;34m\u001b[0m\u001b[0;34m\u001b[0m\u001b[0m\n\u001b[0;32m--> 877\u001b[0;31m             \u001b[0mres\u001b[0m \u001b[0;34m=\u001b[0m \u001b[0mfunc\u001b[0m\u001b[0;34m(\u001b[0m\u001b[0mgroup\u001b[0m\u001b[0;34m)\u001b[0m\u001b[0;34m\u001b[0m\u001b[0;34m\u001b[0m\u001b[0m\n\u001b[0m\u001b[1;32m    878\u001b[0m             \u001b[0mres\u001b[0m \u001b[0;34m=\u001b[0m \u001b[0mextract_result\u001b[0m\u001b[0;34m(\u001b[0m\u001b[0mres\u001b[0m\u001b[0;34m)\u001b[0m\u001b[0;34m\u001b[0m\u001b[0;34m\u001b[0m\u001b[0m\n\u001b[1;32m    879\u001b[0m \u001b[0;34m\u001b[0m\u001b[0m\n\u001b[1;32m    880\u001b[0m             \u001b[0;32mif\u001b[0m \u001b[0;32mnot\u001b[0m \u001b[0minitialized\u001b[0m\u001b[0;34m:\u001b[0m\u001b[0;34m\u001b[0m\u001b[0;34m\u001b[0m\u001b[0m\n",
      "\u001b[0;32m/blue/npadillacoreano/ryoi360/conda/spike_interface_0_99_0/lib/python3.10/site-packages/pandas/core/groupby/generic.py\u001b[0m in \u001b[0;36m?\u001b[0;34m(x)\u001b[0m\n\u001b[0;32m--> 322\u001b[0;31m         \u001b[0mf\u001b[0m \u001b[0;34m=\u001b[0m \u001b[0;32mlambda\u001b[0m \u001b[0mx\u001b[0m\u001b[0;34m:\u001b[0m \u001b[0mfunc\u001b[0m\u001b[0;34m(\u001b[0m\u001b[0mx\u001b[0m\u001b[0;34m,\u001b[0m \u001b[0;34m*\u001b[0m\u001b[0margs\u001b[0m\u001b[0;34m,\u001b[0m \u001b[0;34m**\u001b[0m\u001b[0mkwargs\u001b[0m\u001b[0;34m)\u001b[0m\u001b[0;34m\u001b[0m\u001b[0;34m\u001b[0m\u001b[0m\n\u001b[0m",
      "\u001b[0;32m/scratch/local/31411464/ipykernel_4034477/1754648250.py\u001b[0m in \u001b[0;36m?\u001b[0;34m(x)\u001b[0m\n\u001b[1;32m     13\u001b[0m     \u001b[0;32mdef\u001b[0m \u001b[0mcustom_aggregator\u001b[0m\u001b[0;34m(\u001b[0m\u001b[0mx\u001b[0m\u001b[0;34m)\u001b[0m\u001b[0;34m:\u001b[0m\u001b[0;34m\u001b[0m\u001b[0;34m\u001b[0m\u001b[0m\n\u001b[1;32m     14\u001b[0m         \u001b[0;32mif\u001b[0m \u001b[0mx\u001b[0m\u001b[0;34m.\u001b[0m\u001b[0mname\u001b[0m \u001b[0;32min\u001b[0m \u001b[0marray_columns\u001b[0m\u001b[0;34m:\u001b[0m\u001b[0;34m\u001b[0m\u001b[0;34m\u001b[0m\u001b[0m\n\u001b[1;32m     15\u001b[0m             \u001b[0;31m# Reduce the column by overlaying arrays\u001b[0m\u001b[0;34m\u001b[0m\u001b[0;34m\u001b[0m\u001b[0m\n\u001b[0;32m---> 16\u001b[0;31m             \u001b[0;32mreturn\u001b[0m \u001b[0mx\u001b[0m\u001b[0;34m.\u001b[0m\u001b[0mdropna\u001b[0m\u001b[0;34m(\u001b[0m\u001b[0;34m)\u001b[0m\u001b[0;34m.\u001b[0m\u001b[0maggregate\u001b[0m\u001b[0;34m(\u001b[0m\u001b[0;32mlambda\u001b[0m \u001b[0marrays\u001b[0m\u001b[0;34m:\u001b[0m \u001b[0marrays\u001b[0m\u001b[0;34m.\u001b[0m\u001b[0mreduce\u001b[0m\u001b[0;34m(\u001b[0m\u001b[0moverlay_arrays\u001b[0m\u001b[0;34m)\u001b[0m\u001b[0;34m)\u001b[0m\u001b[0;34m\u001b[0m\u001b[0;34m\u001b[0m\u001b[0m\n\u001b[0m\u001b[1;32m     17\u001b[0m         \u001b[0;32melse\u001b[0m\u001b[0;34m:\u001b[0m\u001b[0;34m\u001b[0m\u001b[0;34m\u001b[0m\u001b[0m\n\u001b[1;32m     18\u001b[0m             \u001b[0;31m# For other columns, simply return the first element\u001b[0m\u001b[0;34m\u001b[0m\u001b[0;34m\u001b[0m\u001b[0m\n\u001b[1;32m     19\u001b[0m             \u001b[0;32mreturn\u001b[0m \u001b[0mx\u001b[0m\u001b[0;34m.\u001b[0m\u001b[0miloc\u001b[0m\u001b[0;34m[\u001b[0m\u001b[0;36m0\u001b[0m\u001b[0;34m]\u001b[0m\u001b[0;34m\u001b[0m\u001b[0;34m\u001b[0m\u001b[0m\n",
      "\u001b[0;32m/blue/npadillacoreano/ryoi360/conda/spike_interface_0_99_0/lib/python3.10/site-packages/pandas/core/series.py\u001b[0m in \u001b[0;36m?\u001b[0;34m(self, func, axis, *args, **kwargs)\u001b[0m\n\u001b[1;32m   4606\u001b[0m         \u001b[0;32mif\u001b[0m \u001b[0mfunc\u001b[0m \u001b[0;32mis\u001b[0m \u001b[0;32mNone\u001b[0m\u001b[0;34m:\u001b[0m\u001b[0;34m\u001b[0m\u001b[0;34m\u001b[0m\u001b[0m\n\u001b[1;32m   4607\u001b[0m             \u001b[0mfunc\u001b[0m \u001b[0;34m=\u001b[0m \u001b[0mdict\u001b[0m\u001b[0;34m(\u001b[0m\u001b[0mkwargs\u001b[0m\u001b[0;34m.\u001b[0m\u001b[0mitems\u001b[0m\u001b[0;34m(\u001b[0m\u001b[0;34m)\u001b[0m\u001b[0;34m)\u001b[0m\u001b[0;34m\u001b[0m\u001b[0;34m\u001b[0m\u001b[0m\n\u001b[1;32m   4608\u001b[0m \u001b[0;34m\u001b[0m\u001b[0m\n\u001b[1;32m   4609\u001b[0m         \u001b[0mop\u001b[0m \u001b[0;34m=\u001b[0m \u001b[0mSeriesApply\u001b[0m\u001b[0;34m(\u001b[0m\u001b[0mself\u001b[0m\u001b[0;34m,\u001b[0m \u001b[0mfunc\u001b[0m\u001b[0;34m,\u001b[0m \u001b[0margs\u001b[0m\u001b[0;34m=\u001b[0m\u001b[0margs\u001b[0m\u001b[0;34m,\u001b[0m \u001b[0mkwargs\u001b[0m\u001b[0;34m=\u001b[0m\u001b[0mkwargs\u001b[0m\u001b[0;34m)\u001b[0m\u001b[0;34m\u001b[0m\u001b[0;34m\u001b[0m\u001b[0m\n\u001b[0;32m-> 4610\u001b[0;31m         \u001b[0mresult\u001b[0m \u001b[0;34m=\u001b[0m \u001b[0mop\u001b[0m\u001b[0;34m.\u001b[0m\u001b[0magg\u001b[0m\u001b[0;34m(\u001b[0m\u001b[0;34m)\u001b[0m\u001b[0;34m\u001b[0m\u001b[0;34m\u001b[0m\u001b[0m\n\u001b[0m\u001b[1;32m   4611\u001b[0m         \u001b[0;32mreturn\u001b[0m \u001b[0mresult\u001b[0m\u001b[0;34m\u001b[0m\u001b[0;34m\u001b[0m\u001b[0m\n",
      "\u001b[0;32m/blue/npadillacoreano/ryoi360/conda/spike_interface_0_99_0/lib/python3.10/site-packages/pandas/core/apply.py\u001b[0m in \u001b[0;36m?\u001b[0;34m(self)\u001b[0m\n\u001b[1;32m   1221\u001b[0m             \u001b[0;31m# `result = f(self.obj, *self.args, **self.kwargs)`.\u001b[0m\u001b[0;34m\u001b[0m\u001b[0;34m\u001b[0m\u001b[0m\n\u001b[1;32m   1222\u001b[0m             \u001b[0;32mtry\u001b[0m\u001b[0;34m:\u001b[0m\u001b[0;34m\u001b[0m\u001b[0;34m\u001b[0m\u001b[0m\n\u001b[1;32m   1223\u001b[0m                 \u001b[0mresult\u001b[0m \u001b[0;34m=\u001b[0m \u001b[0mobj\u001b[0m\u001b[0;34m.\u001b[0m\u001b[0mapply\u001b[0m\u001b[0;34m(\u001b[0m\u001b[0mfunc\u001b[0m\u001b[0;34m,\u001b[0m \u001b[0margs\u001b[0m\u001b[0;34m=\u001b[0m\u001b[0mself\u001b[0m\u001b[0;34m.\u001b[0m\u001b[0margs\u001b[0m\u001b[0;34m,\u001b[0m \u001b[0;34m**\u001b[0m\u001b[0mself\u001b[0m\u001b[0;34m.\u001b[0m\u001b[0mkwargs\u001b[0m\u001b[0;34m)\u001b[0m\u001b[0;34m\u001b[0m\u001b[0;34m\u001b[0m\u001b[0m\n\u001b[1;32m   1224\u001b[0m             \u001b[0;32mexcept\u001b[0m \u001b[0;34m(\u001b[0m\u001b[0mValueError\u001b[0m\u001b[0;34m,\u001b[0m \u001b[0mAttributeError\u001b[0m\u001b[0;34m,\u001b[0m \u001b[0mTypeError\u001b[0m\u001b[0;34m)\u001b[0m\u001b[0;34m:\u001b[0m\u001b[0;34m\u001b[0m\u001b[0;34m\u001b[0m\u001b[0m\n\u001b[0;32m-> 1225\u001b[0;31m                 \u001b[0mresult\u001b[0m \u001b[0;34m=\u001b[0m \u001b[0mfunc\u001b[0m\u001b[0;34m(\u001b[0m\u001b[0mobj\u001b[0m\u001b[0;34m,\u001b[0m \u001b[0;34m*\u001b[0m\u001b[0mself\u001b[0m\u001b[0;34m.\u001b[0m\u001b[0margs\u001b[0m\u001b[0;34m,\u001b[0m \u001b[0;34m**\u001b[0m\u001b[0mself\u001b[0m\u001b[0;34m.\u001b[0m\u001b[0mkwargs\u001b[0m\u001b[0;34m)\u001b[0m\u001b[0;34m\u001b[0m\u001b[0;34m\u001b[0m\u001b[0m\n\u001b[0m\u001b[1;32m   1226\u001b[0m             \u001b[0;32melse\u001b[0m\u001b[0;34m:\u001b[0m\u001b[0;34m\u001b[0m\u001b[0;34m\u001b[0m\u001b[0m\n\u001b[1;32m   1227\u001b[0m                 msg = (\n\u001b[1;32m   1228\u001b[0m                     \u001b[0;34mf\"using {func} in {type(obj).__name__}.agg cannot aggregate and \"\u001b[0m\u001b[0;34m\u001b[0m\u001b[0;34m\u001b[0m\u001b[0m\n",
      "\u001b[0;32m/scratch/local/31411464/ipykernel_4034477/1754648250.py\u001b[0m in \u001b[0;36m?\u001b[0;34m(arrays)\u001b[0m\n\u001b[0;32m---> 16\u001b[0;31m             \u001b[0;32mreturn\u001b[0m \u001b[0mx\u001b[0m\u001b[0;34m.\u001b[0m\u001b[0mdropna\u001b[0m\u001b[0;34m(\u001b[0m\u001b[0;34m)\u001b[0m\u001b[0;34m.\u001b[0m\u001b[0maggregate\u001b[0m\u001b[0;34m(\u001b[0m\u001b[0;32mlambda\u001b[0m \u001b[0marrays\u001b[0m\u001b[0;34m:\u001b[0m \u001b[0marrays\u001b[0m\u001b[0;34m.\u001b[0m\u001b[0mreduce\u001b[0m\u001b[0;34m(\u001b[0m\u001b[0moverlay_arrays\u001b[0m\u001b[0;34m)\u001b[0m\u001b[0;34m)\u001b[0m\u001b[0;34m\u001b[0m\u001b[0;34m\u001b[0m\u001b[0m\n\u001b[0m",
      "\u001b[0;32m/blue/npadillacoreano/ryoi360/conda/spike_interface_0_99_0/lib/python3.10/site-packages/pandas/core/generic.py\u001b[0m in \u001b[0;36m?\u001b[0;34m(self, name)\u001b[0m\n\u001b[1;32m   6200\u001b[0m             \u001b[0;32mand\u001b[0m \u001b[0mname\u001b[0m \u001b[0;32mnot\u001b[0m \u001b[0;32min\u001b[0m \u001b[0mself\u001b[0m\u001b[0;34m.\u001b[0m\u001b[0m_accessors\u001b[0m\u001b[0;34m\u001b[0m\u001b[0;34m\u001b[0m\u001b[0m\n\u001b[1;32m   6201\u001b[0m             \u001b[0;32mand\u001b[0m \u001b[0mself\u001b[0m\u001b[0;34m.\u001b[0m\u001b[0m_info_axis\u001b[0m\u001b[0;34m.\u001b[0m\u001b[0m_can_hold_identifiers_and_holds_name\u001b[0m\u001b[0;34m(\u001b[0m\u001b[0mname\u001b[0m\u001b[0;34m)\u001b[0m\u001b[0;34m\u001b[0m\u001b[0;34m\u001b[0m\u001b[0m\n\u001b[1;32m   6202\u001b[0m         ):\n\u001b[1;32m   6203\u001b[0m             \u001b[0;32mreturn\u001b[0m \u001b[0mself\u001b[0m\u001b[0;34m[\u001b[0m\u001b[0mname\u001b[0m\u001b[0;34m]\u001b[0m\u001b[0;34m\u001b[0m\u001b[0;34m\u001b[0m\u001b[0m\n\u001b[0;32m-> 6204\u001b[0;31m         \u001b[0;32mreturn\u001b[0m \u001b[0mobject\u001b[0m\u001b[0;34m.\u001b[0m\u001b[0m__getattribute__\u001b[0m\u001b[0;34m(\u001b[0m\u001b[0mself\u001b[0m\u001b[0;34m,\u001b[0m \u001b[0mname\u001b[0m\u001b[0;34m)\u001b[0m\u001b[0;34m\u001b[0m\u001b[0;34m\u001b[0m\u001b[0m\n\u001b[0m",
      "\u001b[0;31mAttributeError\u001b[0m: 'Series' object has no attribute 'reduce'"
     ]
    }
   ],
   "source": [
    "combine_grouped_rows(TRIALS_AND_SPECTRAL_DF, [\"subject_locations\"])"
   ]
  },
  {
   "cell_type": "code",
   "execution_count": 90,
   "metadata": {
    "tags": []
   },
   "outputs": [
    {
     "data": {
      "text/html": [
       "<div>\n",
       "<style scoped>\n",
       "    .dataframe tbody tr th:only-of-type {\n",
       "        vertical-align: middle;\n",
       "    }\n",
       "\n",
       "    .dataframe tbody tr th {\n",
       "        vertical-align: top;\n",
       "    }\n",
       "\n",
       "    .dataframe thead th {\n",
       "        text-align: right;\n",
       "    }\n",
       "</style>\n",
       "<table border=\"1\" class=\"dataframe\">\n",
       "  <thead>\n",
       "    <tr style=\"text-align: right;\">\n",
       "      <th></th>\n",
       "      <th>video_name</th>\n",
       "      <th>current_subject</th>\n",
       "      <th>tracked_subject</th>\n",
       "      <th>box_number</th>\n",
       "      <th>sleap_name</th>\n",
       "      <th>tone_start_frame</th>\n",
       "      <th>reward_start_frame</th>\n",
       "      <th>tone_stop_frame</th>\n",
       "      <th>condition</th>\n",
       "      <th>competition_closeness</th>\n",
       "      <th>...</th>\n",
       "      <th>agent_thorax_velocity</th>\n",
       "      <th>subject_thorax_to_reward_port</th>\n",
       "      <th>agent_thorax_to_reward_port</th>\n",
       "      <th>recording_name</th>\n",
       "      <th>spike_clusters</th>\n",
       "      <th>spike_times</th>\n",
       "      <th>neuron_average_fr</th>\n",
       "      <th>neuron_average_timestamps</th>\n",
       "      <th>current_tracked_subject</th>\n",
       "      <th>start_stop_frame</th>\n",
       "    </tr>\n",
       "  </thead>\n",
       "  <tbody>\n",
       "    <tr>\n",
       "      <th>0</th>\n",
       "      <td>20230617_115521_standard_comp_to_omission_D1_s...</td>\n",
       "      <td>1.1</td>\n",
       "      <td>[['1.1', '1.2'], ['1.1', '1.2'], ['1.1', '1.2'...</td>\n",
       "      <td>[1, 1, 1, 1, 1, 1, 1, 1, 1, 1, 1, 1, 1, 1, 1, ...</td>\n",
       "      <td>20230617_115521_standard_comp_to_omission_D1_s...</td>\n",
       "      <td>[1029, 3425, 5721, 7517, 8615, 9613, 11510, 13...</td>\n",
       "      <td>[1129, 3525, 5821, 7617, 8715, 9713, 11610, 13...</td>\n",
       "      <td>[1229, 3624, 5920, 7717, 8815, 9812, 11709, 13...</td>\n",
       "      <td>[1.2, 1.1, 1.1, 1.2, 1.1, 1.1, 1.1, 1.1, 1.1, ...</td>\n",
       "      <td>[competitive, competitive, competitive, no_com...</td>\n",
       "      <td>...</td>\n",
       "      <td>NaN</td>\n",
       "      <td>[25.6, 25.84, 25.86, 25.86, 25.86, 25.86, 25.8...</td>\n",
       "      <td>NaN</td>\n",
       "      <td>20230617_115521_standard_comp_to_omission_D1_s...</td>\n",
       "      <td>[3, 4, 5, 6, 17, 28, 29, 39, 48, 52, 53, 54, 5...</td>\n",
       "      <td>[[673223.0, 2367433.0, 2569212.0, 3969647.0, 3...</td>\n",
       "      <td>[[0.0, 0.0, 0.0, 0.0, 0.0, 0.0, 0.0, 0.0, 0.0,...</td>\n",
       "      <td>[0, 2000, 4000, 6000, 8000, 10000, 12000, 1400...</td>\n",
       "      <td>1.1</td>\n",
       "      <td>(41000, 79050)</td>\n",
       "    </tr>\n",
       "    <tr>\n",
       "      <th>1</th>\n",
       "      <td>20230617_115521_standard_comp_to_omission_D1_s...</td>\n",
       "      <td>1.1</td>\n",
       "      <td>[['1.1', '1.2'], ['1.1', '1.2'], ['1.1', '1.2'...</td>\n",
       "      <td>[1, 1, 1, 1, 1, 1, 1, 1, 1, 1, 1, 1, 1, 1, 1, ...</td>\n",
       "      <td>20230617_115521_standard_comp_to_omission_D1_s...</td>\n",
       "      <td>[1029, 3425, 5721, 7517, 8615, 9613, 11510, 13...</td>\n",
       "      <td>[1129, 3525, 5821, 7617, 8715, 9713, 11610, 13...</td>\n",
       "      <td>[1229, 3624, 5920, 7717, 8815, 9812, 11709, 13...</td>\n",
       "      <td>[1.2, 1.1, 1.1, 1.2, 1.1, 1.1, 1.1, 1.1, 1.1, ...</td>\n",
       "      <td>[competitive, competitive, competitive, no_com...</td>\n",
       "      <td>...</td>\n",
       "      <td>[11.19, 10.55, 9.92, 9.31, 8.734, 8.18, 7.64, ...</td>\n",
       "      <td>[11.19, 11.234, 11.73, 12.34, 12.56, 13.58, 13...</td>\n",
       "      <td>[25.6, 25.84, 25.86, 25.86, 25.86, 25.86, 25.8...</td>\n",
       "      <td>20230617_115521_standard_comp_to_omission_D1_s...</td>\n",
       "      <td>[3, 4, 5, 6, 17, 28, 29, 39, 48, 52, 53, 54, 5...</td>\n",
       "      <td>[[673223.0, 2367433.0, 2569212.0, 3969647.0, 3...</td>\n",
       "      <td>[[0.0, 0.0, 0.0, 0.0, 0.0, 0.0, 0.0, 0.0, 0.0,...</td>\n",
       "      <td>[0, 2000, 4000, 6000, 8000, 10000, 12000, 1400...</td>\n",
       "      <td>1.1_1.2</td>\n",
       "      <td>(1, 39500)</td>\n",
       "    </tr>\n",
       "    <tr>\n",
       "      <th>2</th>\n",
       "      <td>20230617_115521_standard_comp_to_omission_D1_s...</td>\n",
       "      <td>1.2</td>\n",
       "      <td>[['1.1', '1.2'], ['1.1', '1.2'], ['1.1', '1.2'...</td>\n",
       "      <td>[1, 1, 1, 1, 1, 1, 1, 1, 1, 1, 1, 1, 1, 1, 1, ...</td>\n",
       "      <td>20230617_115521_standard_comp_to_omission_D1_s...</td>\n",
       "      <td>[1029, 3425, 5721, 7517, 8615, 9613, 11510, 13...</td>\n",
       "      <td>[1129, 3525, 5821, 7617, 8715, 9713, 11610, 13...</td>\n",
       "      <td>[1229, 3624, 5920, 7717, 8815, 9812, 11709, 13...</td>\n",
       "      <td>[1.2, 1.1, 1.1, 1.2, 1.1, 1.1, 1.1, 1.1, 1.1, ...</td>\n",
       "      <td>[competitive, competitive, competitive, no_com...</td>\n",
       "      <td>...</td>\n",
       "      <td>[8.96, 8.195, 7.54, 7.004, 6.605, 6.348, 6.227...</td>\n",
       "      <td>[25.6, 25.84, 25.86, 25.86, 25.86, 25.86, 25.8...</td>\n",
       "      <td>[11.19, 11.234, 11.73, 12.34, 12.56, 13.58, 13...</td>\n",
       "      <td>20230617_115521_standard_comp_to_omission_D1_s...</td>\n",
       "      <td>[16, 17, 20, 25, 26, 34, 35, 39, 40, 42, 43, 4...</td>\n",
       "      <td>[[958.0, 5233.0, 6331.0, 7475.0, 8599.0, 10550...</td>\n",
       "      <td>[[1.0, 0.0, 1.0, 2.0, 1.0, 1.0, 0.0, 0.0, 0.0,...</td>\n",
       "      <td>[0, 2000, 4000, 6000, 8000, 10000, 12000, 1400...</td>\n",
       "      <td>1.1_1.2</td>\n",
       "      <td>(1, 39500)</td>\n",
       "    </tr>\n",
       "    <tr>\n",
       "      <th>3</th>\n",
       "      <td>20230618_100636_standard_comp_to_omission_D2_s...</td>\n",
       "      <td>1.1</td>\n",
       "      <td>[['1.1', '1.4'], ['1.1', '1.4'], ['1.1', '1.4'...</td>\n",
       "      <td>[1, 1, 1, 1, 1, 1, 1, 1, 1, 1, 1, 1, 1, 1, 1, ...</td>\n",
       "      <td>20230618_100636_standard_comp_to_omission_D2_s...</td>\n",
       "      <td>[1098, 3492, 5788, 7585, 8684, 9681, 11577, 13...</td>\n",
       "      <td>[1198, 3592, 5888, 7685, 8784, 9781, 11677, 13...</td>\n",
       "      <td>[1297, 3693, 5988, 7784, 8883, 9880, 11777, 13...</td>\n",
       "      <td>[1.4, 1.1, 1.1, 1.4, 1.1, 1.4, 1.4, 1.4, 1.1, ...</td>\n",
       "      <td>[no_comp, no_comp, no_comp, no_comp, no_comp, ...</td>\n",
       "      <td>...</td>\n",
       "      <td>[0.6333, 0.5635, 0.4963, 0.4321, 0.3713, 0.313...</td>\n",
       "      <td>[5.727, 5.91, 5.93, 5.965, 5.99, 5.992, 6.355,...</td>\n",
       "      <td>[13.75, 14.18, 13.734, 13.74, 13.76, 13.84, 13...</td>\n",
       "      <td>20230618_100636_standard_comp_to_omission_D2_s...</td>\n",
       "      <td>[7, 11, 12, 48, 50, 51, 61, 64, 76, 84, 90, 98...</td>\n",
       "      <td>[[506.0, 1419.0, 2358.0, 5104.0, 6785.0, 7620....</td>\n",
       "      <td>[[2.0, 1.0, 1.0, 2.0, 1.0, 0.0, 3.0, 0.0, 1.0,...</td>\n",
       "      <td>[0, 2000, 4000, 6000, 8000, 10000, 12000, 1400...</td>\n",
       "      <td>1.1_1.4</td>\n",
       "      <td>(1, 32316)</td>\n",
       "    </tr>\n",
       "    <tr>\n",
       "      <th>4</th>\n",
       "      <td>20230618_100636_standard_comp_to_omission_D2_s...</td>\n",
       "      <td>1.4</td>\n",
       "      <td>[['1.1', '1.4'], ['1.1', '1.4'], ['1.1', '1.4'...</td>\n",
       "      <td>[1, 1, 1, 1, 1, 1, 1, 1, 1, 1, 1, 1, 1, 1, 1, ...</td>\n",
       "      <td>20230618_100636_standard_comp_to_omission_D2_s...</td>\n",
       "      <td>[1098, 3492, 5788, 7585, 8684, 9681, 11577, 13...</td>\n",
       "      <td>[1198, 3592, 5888, 7685, 8784, 9781, 11677, 13...</td>\n",
       "      <td>[1297, 3693, 5988, 7784, 8883, 9880, 11777, 13...</td>\n",
       "      <td>[1.4, 1.1, 1.1, 1.4, 1.1, 1.4, 1.4, 1.4, 1.1, ...</td>\n",
       "      <td>[no_comp, no_comp, no_comp, no_comp, no_comp, ...</td>\n",
       "      <td>...</td>\n",
       "      <td>NaN</td>\n",
       "      <td>[5.727, 5.91, 5.93, 5.965, 5.99, 5.992, 6.355,...</td>\n",
       "      <td>NaN</td>\n",
       "      <td>20230618_100636_standard_comp_to_omission_D2_s...</td>\n",
       "      <td>[9, 19, 65, 83, 87, 93, 99, 103, 105, 106, 118...</td>\n",
       "      <td>[[458431.0, 506645.0, 509846.0, 545481.0, 5710...</td>\n",
       "      <td>[[0.0, 0.0, 0.0, 0.0, 0.0, 0.0, 0.0, 0.0, 0.0,...</td>\n",
       "      <td>[0, 2000, 4000, 6000, 8000, 10000, 12000, 1400...</td>\n",
       "      <td>1.4</td>\n",
       "      <td>(32792, 68494)</td>\n",
       "    </tr>\n",
       "  </tbody>\n",
       "</table>\n",
       "<p>5 rows × 186 columns</p>\n",
       "</div>"
      ],
      "text/plain": [
       "                                          video_name current_subject  \\\n",
       "0  20230617_115521_standard_comp_to_omission_D1_s...             1.1   \n",
       "1  20230617_115521_standard_comp_to_omission_D1_s...             1.1   \n",
       "2  20230617_115521_standard_comp_to_omission_D1_s...             1.2   \n",
       "3  20230618_100636_standard_comp_to_omission_D2_s...             1.1   \n",
       "4  20230618_100636_standard_comp_to_omission_D2_s...             1.4   \n",
       "\n",
       "                                     tracked_subject  \\\n",
       "0  [['1.1', '1.2'], ['1.1', '1.2'], ['1.1', '1.2'...   \n",
       "1  [['1.1', '1.2'], ['1.1', '1.2'], ['1.1', '1.2'...   \n",
       "2  [['1.1', '1.2'], ['1.1', '1.2'], ['1.1', '1.2'...   \n",
       "3  [['1.1', '1.4'], ['1.1', '1.4'], ['1.1', '1.4'...   \n",
       "4  [['1.1', '1.4'], ['1.1', '1.4'], ['1.1', '1.4'...   \n",
       "\n",
       "                                          box_number  \\\n",
       "0  [1, 1, 1, 1, 1, 1, 1, 1, 1, 1, 1, 1, 1, 1, 1, ...   \n",
       "1  [1, 1, 1, 1, 1, 1, 1, 1, 1, 1, 1, 1, 1, 1, 1, ...   \n",
       "2  [1, 1, 1, 1, 1, 1, 1, 1, 1, 1, 1, 1, 1, 1, 1, ...   \n",
       "3  [1, 1, 1, 1, 1, 1, 1, 1, 1, 1, 1, 1, 1, 1, 1, ...   \n",
       "4  [1, 1, 1, 1, 1, 1, 1, 1, 1, 1, 1, 1, 1, 1, 1, ...   \n",
       "\n",
       "                                          sleap_name  \\\n",
       "0  20230617_115521_standard_comp_to_omission_D1_s...   \n",
       "1  20230617_115521_standard_comp_to_omission_D1_s...   \n",
       "2  20230617_115521_standard_comp_to_omission_D1_s...   \n",
       "3  20230618_100636_standard_comp_to_omission_D2_s...   \n",
       "4  20230618_100636_standard_comp_to_omission_D2_s...   \n",
       "\n",
       "                                    tone_start_frame  \\\n",
       "0  [1029, 3425, 5721, 7517, 8615, 9613, 11510, 13...   \n",
       "1  [1029, 3425, 5721, 7517, 8615, 9613, 11510, 13...   \n",
       "2  [1029, 3425, 5721, 7517, 8615, 9613, 11510, 13...   \n",
       "3  [1098, 3492, 5788, 7585, 8684, 9681, 11577, 13...   \n",
       "4  [1098, 3492, 5788, 7585, 8684, 9681, 11577, 13...   \n",
       "\n",
       "                                  reward_start_frame  \\\n",
       "0  [1129, 3525, 5821, 7617, 8715, 9713, 11610, 13...   \n",
       "1  [1129, 3525, 5821, 7617, 8715, 9713, 11610, 13...   \n",
       "2  [1129, 3525, 5821, 7617, 8715, 9713, 11610, 13...   \n",
       "3  [1198, 3592, 5888, 7685, 8784, 9781, 11677, 13...   \n",
       "4  [1198, 3592, 5888, 7685, 8784, 9781, 11677, 13...   \n",
       "\n",
       "                                     tone_stop_frame  \\\n",
       "0  [1229, 3624, 5920, 7717, 8815, 9812, 11709, 13...   \n",
       "1  [1229, 3624, 5920, 7717, 8815, 9812, 11709, 13...   \n",
       "2  [1229, 3624, 5920, 7717, 8815, 9812, 11709, 13...   \n",
       "3  [1297, 3693, 5988, 7784, 8883, 9880, 11777, 13...   \n",
       "4  [1297, 3693, 5988, 7784, 8883, 9880, 11777, 13...   \n",
       "\n",
       "                                           condition  \\\n",
       "0  [1.2, 1.1, 1.1, 1.2, 1.1, 1.1, 1.1, 1.1, 1.1, ...   \n",
       "1  [1.2, 1.1, 1.1, 1.2, 1.1, 1.1, 1.1, 1.1, 1.1, ...   \n",
       "2  [1.2, 1.1, 1.1, 1.2, 1.1, 1.1, 1.1, 1.1, 1.1, ...   \n",
       "3  [1.4, 1.1, 1.1, 1.4, 1.1, 1.4, 1.4, 1.4, 1.1, ...   \n",
       "4  [1.4, 1.1, 1.1, 1.4, 1.1, 1.4, 1.4, 1.4, 1.1, ...   \n",
       "\n",
       "                               competition_closeness  ...  \\\n",
       "0  [competitive, competitive, competitive, no_com...  ...   \n",
       "1  [competitive, competitive, competitive, no_com...  ...   \n",
       "2  [competitive, competitive, competitive, no_com...  ...   \n",
       "3  [no_comp, no_comp, no_comp, no_comp, no_comp, ...  ...   \n",
       "4  [no_comp, no_comp, no_comp, no_comp, no_comp, ...  ...   \n",
       "\n",
       "                               agent_thorax_velocity  \\\n",
       "0                                                NaN   \n",
       "1  [11.19, 10.55, 9.92, 9.31, 8.734, 8.18, 7.64, ...   \n",
       "2  [8.96, 8.195, 7.54, 7.004, 6.605, 6.348, 6.227...   \n",
       "3  [0.6333, 0.5635, 0.4963, 0.4321, 0.3713, 0.313...   \n",
       "4                                                NaN   \n",
       "\n",
       "                       subject_thorax_to_reward_port  \\\n",
       "0  [25.6, 25.84, 25.86, 25.86, 25.86, 25.86, 25.8...   \n",
       "1  [11.19, 11.234, 11.73, 12.34, 12.56, 13.58, 13...   \n",
       "2  [25.6, 25.84, 25.86, 25.86, 25.86, 25.86, 25.8...   \n",
       "3  [5.727, 5.91, 5.93, 5.965, 5.99, 5.992, 6.355,...   \n",
       "4  [5.727, 5.91, 5.93, 5.965, 5.99, 5.992, 6.355,...   \n",
       "\n",
       "                         agent_thorax_to_reward_port  \\\n",
       "0                                                NaN   \n",
       "1  [25.6, 25.84, 25.86, 25.86, 25.86, 25.86, 25.8...   \n",
       "2  [11.19, 11.234, 11.73, 12.34, 12.56, 13.58, 13...   \n",
       "3  [13.75, 14.18, 13.734, 13.74, 13.76, 13.84, 13...   \n",
       "4                                                NaN   \n",
       "\n",
       "                                      recording_name  \\\n",
       "0  20230617_115521_standard_comp_to_omission_D1_s...   \n",
       "1  20230617_115521_standard_comp_to_omission_D1_s...   \n",
       "2  20230617_115521_standard_comp_to_omission_D1_s...   \n",
       "3  20230618_100636_standard_comp_to_omission_D2_s...   \n",
       "4  20230618_100636_standard_comp_to_omission_D2_s...   \n",
       "\n",
       "                                      spike_clusters  \\\n",
       "0  [3, 4, 5, 6, 17, 28, 29, 39, 48, 52, 53, 54, 5...   \n",
       "1  [3, 4, 5, 6, 17, 28, 29, 39, 48, 52, 53, 54, 5...   \n",
       "2  [16, 17, 20, 25, 26, 34, 35, 39, 40, 42, 43, 4...   \n",
       "3  [7, 11, 12, 48, 50, 51, 61, 64, 76, 84, 90, 98...   \n",
       "4  [9, 19, 65, 83, 87, 93, 99, 103, 105, 106, 118...   \n",
       "\n",
       "                                         spike_times  \\\n",
       "0  [[673223.0, 2367433.0, 2569212.0, 3969647.0, 3...   \n",
       "1  [[673223.0, 2367433.0, 2569212.0, 3969647.0, 3...   \n",
       "2  [[958.0, 5233.0, 6331.0, 7475.0, 8599.0, 10550...   \n",
       "3  [[506.0, 1419.0, 2358.0, 5104.0, 6785.0, 7620....   \n",
       "4  [[458431.0, 506645.0, 509846.0, 545481.0, 5710...   \n",
       "\n",
       "                                   neuron_average_fr  \\\n",
       "0  [[0.0, 0.0, 0.0, 0.0, 0.0, 0.0, 0.0, 0.0, 0.0,...   \n",
       "1  [[0.0, 0.0, 0.0, 0.0, 0.0, 0.0, 0.0, 0.0, 0.0,...   \n",
       "2  [[1.0, 0.0, 1.0, 2.0, 1.0, 1.0, 0.0, 0.0, 0.0,...   \n",
       "3  [[2.0, 1.0, 1.0, 2.0, 1.0, 0.0, 3.0, 0.0, 1.0,...   \n",
       "4  [[0.0, 0.0, 0.0, 0.0, 0.0, 0.0, 0.0, 0.0, 0.0,...   \n",
       "\n",
       "                           neuron_average_timestamps  current_tracked_subject  \\\n",
       "0  [0, 2000, 4000, 6000, 8000, 10000, 12000, 1400...                      1.1   \n",
       "1  [0, 2000, 4000, 6000, 8000, 10000, 12000, 1400...                  1.1_1.2   \n",
       "2  [0, 2000, 4000, 6000, 8000, 10000, 12000, 1400...                  1.1_1.2   \n",
       "3  [0, 2000, 4000, 6000, 8000, 10000, 12000, 1400...                  1.1_1.4   \n",
       "4  [0, 2000, 4000, 6000, 8000, 10000, 12000, 1400...                      1.4   \n",
       "\n",
       "  start_stop_frame  \n",
       "0   (41000, 79050)  \n",
       "1       (1, 39500)  \n",
       "2       (1, 39500)  \n",
       "3       (1, 32316)  \n",
       "4   (32792, 68494)  \n",
       "\n",
       "[5 rows x 186 columns]"
      ]
     },
     "execution_count": 90,
     "metadata": {},
     "output_type": "execute_result"
    }
   ],
   "source": [
    "TRIALS_AND_SPECTRAL_DF.head()"
   ]
  },
  {
   "cell_type": "code",
   "execution_count": 88,
   "metadata": {
    "tags": []
   },
   "outputs": [
    {
     "data": {
      "text/plain": [
       "array([[[        nan,         nan],\n",
       "        [        nan,         nan],\n",
       "        [        nan,         nan],\n",
       "        [        nan,         nan],\n",
       "        [        nan,         nan],\n",
       "        [        nan,         nan]],\n",
       "\n",
       "       [[58.36080529, 31.53608315],\n",
       "        [60.50075747, 33.33426566],\n",
       "        [58.86053103, 30.0147542 ],\n",
       "        [51.65891389, 32.95596033],\n",
       "        [56.1104419 , 33.35010221],\n",
       "        [59.55146672, 31.86303096]],\n",
       "\n",
       "       [[58.3191749 , 31.17241468],\n",
       "        [60.53709931, 32.9257053 ],\n",
       "        [58.86053103, 30.0147542 ],\n",
       "        [52.16234754, 32.987791  ],\n",
       "        [56.60686229, 33.30918813],\n",
       "        [59.45771358, 30.50920622]],\n",
       "\n",
       "       ...,\n",
       "\n",
       "       [[46.63059899, 35.18794659],\n",
       "        [43.87864954, 34.77844084],\n",
       "        [45.02844335, 37.27501554],\n",
       "        [49.4834674 , 30.09450087],\n",
       "        [47.21144128, 32.29533647],\n",
       "        [44.98410935, 36.20014797]],\n",
       "\n",
       "       [[46.64254061, 35.18381952],\n",
       "        [43.89105306, 34.77964883],\n",
       "        [45.01492533, 37.28756813],\n",
       "        [49.48384878, 30.08806839],\n",
       "        [47.21156417, 32.28824886],\n",
       "        [44.99681798, 36.21751869]],\n",
       "\n",
       "       [[        nan,         nan],\n",
       "        [        nan,         nan],\n",
       "        [        nan,         nan],\n",
       "        [        nan,         nan],\n",
       "        [        nan,         nan],\n",
       "        [        nan,         nan]]])"
      ]
     },
     "execution_count": 88,
     "metadata": {},
     "output_type": "execute_result"
    }
   ],
   "source": [
    "overlay_arrays(TRIALS_AND_SPECTRAL_DF[\"subject_locations\"].iloc[0], TRIALS_AND_SPECTRAL_DF[\"subject_locations\"].iloc[1])"
   ]
  },
  {
   "cell_type": "code",
   "execution_count": 87,
   "metadata": {
    "tags": []
   },
   "outputs": [
    {
     "data": {
      "text/plain": [
       "(79051, 6, 2)"
      ]
     },
     "execution_count": 87,
     "metadata": {},
     "output_type": "execute_result"
    }
   ],
   "source": [
    "TRIALS_AND_SPECTRAL_DF[\"subject_locations\"].iloc[0].shape"
   ]
  },
  {
   "cell_type": "code",
   "execution_count": 72,
   "metadata": {
    "tags": []
   },
   "outputs": [
    {
     "data": {
      "text/plain": [
       "(79051, 6, 2)"
      ]
     },
     "execution_count": 72,
     "metadata": {},
     "output_type": "execute_result"
    }
   ],
   "source": [
    "example_arr.shape"
   ]
  },
  {
   "cell_type": "code",
   "execution_count": 74,
   "metadata": {
    "tags": []
   },
   "outputs": [
    {
     "data": {
      "text/plain": [
       "array([[[        nan,         nan],\n",
       "        [        nan,         nan],\n",
       "        [        nan,         nan],\n",
       "        [        nan,         nan],\n",
       "        [        nan,         nan],\n",
       "        [        nan,         nan]],\n",
       "\n",
       "       [[        nan,         nan],\n",
       "        [        nan,         nan],\n",
       "        [        nan,         nan],\n",
       "        [        nan,         nan],\n",
       "        [        nan,         nan],\n",
       "        [        nan,         nan]],\n",
       "\n",
       "       [[        nan,         nan],\n",
       "        [        nan,         nan],\n",
       "        [        nan,         nan],\n",
       "        [        nan,         nan],\n",
       "        [        nan,         nan],\n",
       "        [        nan,         nan]],\n",
       "\n",
       "       ...,\n",
       "\n",
       "       [[46.63059899, 35.18794659],\n",
       "        [43.87864954, 34.77844084],\n",
       "        [45.02844335, 37.27501554],\n",
       "        [49.4834674 , 30.09450087],\n",
       "        [47.21144128, 32.29533647],\n",
       "        [44.98410935, 36.20014797]],\n",
       "\n",
       "       [[46.64254061, 35.18381952],\n",
       "        [43.89105306, 34.77964883],\n",
       "        [45.01492533, 37.28756813],\n",
       "        [49.48384878, 30.08806839],\n",
       "        [47.21156417, 32.28824886],\n",
       "        [44.99681798, 36.21751869]],\n",
       "\n",
       "       [[        nan,         nan],\n",
       "        [        nan,         nan],\n",
       "        [        nan,         nan],\n",
       "        [        nan,         nan],\n",
       "        [        nan,         nan],\n",
       "        [        nan,         nan]]])"
      ]
     },
     "execution_count": 74,
     "metadata": {},
     "output_type": "execute_result"
    }
   ],
   "source": [
    "mask_slices(example_arr, (41000, 79050))"
   ]
  },
  {
   "cell_type": "code",
   "execution_count": null,
   "metadata": {},
   "outputs": [],
   "source": [
    "# Create a 2D array\n",
    "array_2d = np.array([[1, 2, 3], [4, 5, 6], [7, 8, 9]])\n",
    "\n",
    "# Slice definition for rows and columns\n",
    "row_start, row_end = 1, 3\n",
    "col_start, col_end = 0, 2\n",
    "\n",
    "# Create mask for rows and columns\n",
    "mask_2d = np.ones(array_2d.shape, dtype=bool)\n",
    "mask_2d[row_start:row_end, col_start:col_end] = False\n",
    "\n",
    "# Set values outside the defined slice to NaN\n",
    "array_2d[mask_2d] = np.nan\n",
    "\n",
    "print(array_2d)"
   ]
  },
  {
   "cell_type": "code",
   "execution_count": 37,
   "metadata": {
    "tags": []
   },
   "outputs": [
    {
     "ename": "ValueError",
     "evalue": "",
     "output_type": "error",
     "traceback": [
      "\u001b[0;31m---------------------------------------------------------------------------\u001b[0m",
      "\u001b[0;31mValueError\u001b[0m                                Traceback (most recent call last)",
      "Cell \u001b[0;32mIn[37], line 1\u001b[0m\n\u001b[0;32m----> 1\u001b[0m \u001b[38;5;28;01mraise\u001b[39;00m \u001b[38;5;167;01mValueError\u001b[39;00m()\n",
      "\u001b[0;31mValueError\u001b[0m: "
     ]
    }
   ],
   "source": [
    "raise ValueError()"
   ]
  },
  {
   "cell_type": "code",
   "execution_count": null,
   "metadata": {
    "tags": []
   },
   "outputs": [],
   "source": [
    "for index, row in TRIALS_AND_SPECTRAL_DF.iterrows():\n",
    "    print(row[\"video_name\"])"
   ]
  },
  {
   "cell_type": "code",
   "execution_count": null,
   "metadata": {
    "tags": []
   },
   "outputs": [],
   "source": [
    "TRIALS_AND_SPECTRAL_DF.head()"
   ]
  },
  {
   "cell_type": "code",
   "execution_count": null,
   "metadata": {},
   "outputs": [],
   "source": [
    "raise ValueError()"
   ]
  },
  {
   "cell_type": "code",
   "execution_count": null,
   "metadata": {
    "tags": []
   },
   "outputs": [],
   "source": [
    "TRIALS_AND_SPECTRAL_DF = pd.merge(TRIAL_LABELS_DF, LFP_SPECTRAL_DF, on=[\"current_subject\", \"video_name\"], how=\"inner\", suffixes=('', '_y'))"
   ]
  },
  {
   "cell_type": "code",
   "execution_count": null,
   "metadata": {
    "tags": []
   },
   "outputs": [],
   "source": [
    "# TRIALS_AND_SPECTRAL_DF = TRIALS_AND_SPECTRAL_DF.drop(columns=[col for col in TRIALS_AND_SPECTRAL_DF.columns if \"trace\" in col], errors=\"ignore\")"
   ]
  },
  {
   "cell_type": "code",
   "execution_count": null,
   "metadata": {
    "tags": []
   },
   "outputs": [],
   "source": [
    "TRIALS_AND_SPECTRAL_DF = TRIALS_AND_SPECTRAL_DF.drop(columns=[col for col in TRIALS_AND_SPECTRAL_DF.columns if \"_y\" in col], errors=\"ignore\")"
   ]
  },
  {
   "cell_type": "code",
   "execution_count": null,
   "metadata": {
    "tags": []
   },
   "outputs": [],
   "source": [
    "TRIALS_AND_SPECTRAL_DF.head()"
   ]
  },
  {
   "cell_type": "code",
   "execution_count": null,
   "metadata": {
    "tags": []
   },
   "outputs": [],
   "source": [
    "TRIALS_AND_SPECTRAL_DF.columns"
   ]
  },
  {
   "cell_type": "code",
   "execution_count": null,
   "metadata": {},
   "outputs": [],
   "source": [
    "TRIALS_AND_SPECTRAL_DF"
   ]
  },
  {
   "cell_type": "markdown",
   "metadata": {},
   "source": [
    "# Calculating the relevant timestamps"
   ]
  },
  {
   "cell_type": "code",
   "execution_count": null,
   "metadata": {
    "tags": []
   },
   "outputs": [],
   "source": [
    "TRIALS_AND_SPECTRAL_DF[\"baseline_start_timestamp\"] = TRIALS_AND_SPECTRAL_DF[\"tone_start_timestamp\"] - 30 * 20000"
   ]
  },
  {
   "cell_type": "code",
   "execution_count": null,
   "metadata": {
    "tags": []
   },
   "outputs": [],
   "source": [
    "TRIALS_AND_SPECTRAL_DF[\"baseline_stop_timestamp\"] = TRIALS_AND_SPECTRAL_DF[\"tone_start_timestamp\"] - 20 * 20000"
   ]
  },
  {
   "cell_type": "code",
   "execution_count": null,
   "metadata": {
    "tags": []
   },
   "outputs": [],
   "source": [
    "TRIALS_AND_SPECTRAL_DF[\"baseline_start_timestamp\"].head()"
   ]
  },
  {
   "cell_type": "code",
   "execution_count": null,
   "metadata": {
    "tags": []
   },
   "outputs": [],
   "source": [
    "TRIALS_AND_SPECTRAL_DF[\"baseline_stop_timestamp\"].head()"
   ]
  },
  {
   "cell_type": "code",
   "execution_count": null,
   "metadata": {
    "tags": []
   },
   "outputs": [],
   "source": [
    "TRIALS_AND_SPECTRAL_DF[\"tone_start_timestamp\"].head()"
   ]
  },
  {
   "cell_type": "code",
   "execution_count": null,
   "metadata": {
    "tags": []
   },
   "outputs": [],
   "source": [
    "TRIALS_AND_SPECTRAL_DF[\"tone_stop_timestamp\"].head()"
   ]
  },
  {
   "cell_type": "code",
   "execution_count": null,
   "metadata": {},
   "outputs": [],
   "source": []
  },
  {
   "cell_type": "markdown",
   "metadata": {},
   "source": [
    "# Filtering out the SLEAP posed for during trials"
   ]
  },
  {
   "cell_type": "code",
   "execution_count": null,
   "metadata": {
    "tags": []
   },
   "outputs": [],
   "source": [
    "TRIALS_AND_SPECTRAL_DF[\"video_frame\"] = TRIALS_AND_SPECTRAL_DF[\"video_timestamps\"].apply(lambda x: np.array(list(range(len(x)))) + 1)"
   ]
  },
  {
   "cell_type": "code",
   "execution_count": null,
   "metadata": {
    "tags": []
   },
   "outputs": [],
   "source": [
    "TRIALS_AND_SPECTRAL_DF[\"video_frame\"].head()"
   ]
  },
  {
   "cell_type": "code",
   "execution_count": null,
   "metadata": {
    "tags": []
   },
   "outputs": [],
   "source": [
    "sleap_columns = [col for col in TRIALS_AND_SPECTRAL_DF.columns if \"locations\" in col or \"velocity\" in col or \"to_reward_port\" in col or \"video_frame\" in col]"
   ]
  },
  {
   "cell_type": "code",
   "execution_count": null,
   "metadata": {
    "tags": []
   },
   "outputs": [],
   "source": [
    "sleap_columns"
   ]
  },
  {
   "cell_type": "code",
   "execution_count": null,
   "metadata": {
    "tags": []
   },
   "outputs": [],
   "source": [
    "TRIALS_AND_SPECTRAL_DF[\"video_timestamps\"].iloc[0].shape"
   ]
  },
  {
   "cell_type": "code",
   "execution_count": null,
   "metadata": {
    "tags": []
   },
   "outputs": [],
   "source": [
    "TRIALS_AND_SPECTRAL_DF[\"video_frame\"].iloc[0].shape"
   ]
  },
  {
   "cell_type": "code",
   "execution_count": null,
   "metadata": {
    "tags": []
   },
   "outputs": [],
   "source": [
    "TRIALS_AND_SPECTRAL_DF[\"subject_thorax_to_reward_port\"].iloc[0].shape"
   ]
  },
  {
   "cell_type": "code",
   "execution_count": null,
   "metadata": {
    "tags": []
   },
   "outputs": [],
   "source": [
    "for col in sorted(sleap_columns):\n",
    "    updated_item_col = \"baseline_{}\".format(col)\n",
    "    print(updated_item_col)\n",
    "    updated_timestamp_col = \"baseline_video_timestamps\".format(col)\n",
    "    if \"agent\" in col:\n",
    "        TRIALS_AND_SPECTRAL_DF[updated_item_col] = TRIALS_AND_SPECTRAL_DF.apply(lambda x: utilities.helper.filter_by_timestamp_range(start=x[\"baseline_start_timestamp\"], stop=x[\"baseline_stop_timestamp\"], timestamps=x[\"video_timestamps\"], items=x[col])[1] if x[\"agent\"] else np.nan, axis=1)\n",
    "    else:\n",
    "        TRIALS_AND_SPECTRAL_DF[updated_item_col] = TRIALS_AND_SPECTRAL_DF.apply(lambda x: utilities.helper.filter_by_timestamp_range(start=x[\"baseline_start_timestamp\"], stop=x[\"baseline_stop_timestamp\"], timestamps=x[\"video_timestamps\"], items=x[col])[1], axis=1)\n",
    "\n",
    "TRIALS_AND_SPECTRAL_DF[updated_timestamp_col] = TRIALS_AND_SPECTRAL_DF.apply(lambda x: utilities.helper.filter_by_timestamp_range(start=x[\"baseline_start_timestamp\"], stop=x[\"baseline_stop_timestamp\"], timestamps=x[\"video_timestamps\"], items=x[col])[0], axis=1)"
   ]
  },
  {
   "cell_type": "code",
   "execution_count": null,
   "metadata": {
    "tags": []
   },
   "outputs": [],
   "source": [
    "for col in sorted(sleap_columns):\n",
    "    updated_item_col = \"trial_{}\".format(col)\n",
    "    print(updated_item_col)\n",
    "    updated_timestamp_col = \"trial_video_timestamps\".format(col)\n",
    "    if \"agent\" in col:\n",
    "        TRIALS_AND_SPECTRAL_DF[updated_item_col] = TRIALS_AND_SPECTRAL_DF.apply(lambda x: utilities.helper.filter_by_timestamp_range(start=x[\"tone_start_timestamp\"], stop=x[\"tone_stop_timestamp\"], timestamps=x[\"video_timestamps\"], items=x[col])[1] if x[\"agent\"] else np.nan, axis=1)\n",
    "    else:\n",
    "        TRIALS_AND_SPECTRAL_DF[updated_item_col] = TRIALS_AND_SPECTRAL_DF.apply(lambda x: utilities.helper.filter_by_timestamp_range(start=x[\"tone_start_timestamp\"], stop=x[\"tone_stop_timestamp\"], timestamps=x[\"video_timestamps\"], items=x[col])[1], axis=1)\n",
    "\n",
    "TRIALS_AND_SPECTRAL_DF[updated_timestamp_col] = TRIALS_AND_SPECTRAL_DF.apply(lambda x: utilities.helper.filter_by_timestamp_range(start=x[\"tone_start_timestamp\"], stop=x[\"tone_stop_timestamp\"], timestamps=x[\"video_timestamps\"], items=x[col])[0], axis=1)"
   ]
  },
  {
   "cell_type": "code",
   "execution_count": null,
   "metadata": {
    "tags": []
   },
   "outputs": [],
   "source": [
    "TRIALS_AND_SPECTRAL_DF[TRIALS_AND_SPECTRAL_DF[\"trial_subject_thorax_velocity\"].apply(lambda x: np.isnan(x).any())][\"baseline_subject_locations\"]"
   ]
  },
  {
   "cell_type": "code",
   "execution_count": null,
   "metadata": {
    "tags": []
   },
   "outputs": [],
   "source": [
    "TRIALS_AND_SPECTRAL_DF = TRIALS_AND_SPECTRAL_DF.drop(columns=sleap_columns + [\"video_timestamps\"], errors=\"ignore\")"
   ]
  },
  {
   "cell_type": "code",
   "execution_count": null,
   "metadata": {
    "tags": []
   },
   "outputs": [],
   "source": [
    "for col in TRIALS_AND_SPECTRAL_DF.columns:\n",
    "    print(col)"
   ]
  },
  {
   "cell_type": "markdown",
   "metadata": {},
   "source": [
    "- Filtering coherence"
   ]
  },
  {
   "cell_type": "code",
   "execution_count": null,
   "metadata": {
    "tags": []
   },
   "outputs": [],
   "source": [
    "coherence_columns = [col for col in TRIALS_AND_SPECTRAL_DF.columns if \"coherence\" in col and \"timestamps\" not in col and \"calculation\" not in col]"
   ]
  },
  {
   "cell_type": "code",
   "execution_count": null,
   "metadata": {
    "tags": []
   },
   "outputs": [],
   "source": [
    "coherence_columns"
   ]
  },
  {
   "cell_type": "code",
   "execution_count": null,
   "metadata": {
    "tags": []
   },
   "outputs": [],
   "source": [
    "for col in coherence_columns:\n",
    "    brain_region = col.replace(\"all_windows\", \"_\").strip(\"_\")\n",
    "    print(brain_region)\n",
    "    \n",
    "    updated_item_col = \"baseline_{}\".format(brain_region)\n",
    "    updated_timestamp_col = \"baseline_coherence_timestamps\".format(brain_region)\n",
    "    TRIALS_AND_SPECTRAL_DF[updated_item_col] = TRIALS_AND_SPECTRAL_DF.apply(lambda x: utilities.helper.filter_by_timestamp_range(start=x[\"baseline_start_timestamp\"], stop=x[\"baseline_stop_timestamp\"], timestamps=x[\"coherence_timestamps\"], items=x[col])[1], axis=1)\n",
    "TRIALS_AND_SPECTRAL_DF[updated_timestamp_col] = TRIALS_AND_SPECTRAL_DF.apply(lambda x: utilities.helper.filter_by_timestamp_range(start=x[\"baseline_start_timestamp\"], stop=x[\"baseline_stop_timestamp\"], timestamps=x[\"coherence_timestamps\"], items=x[col])[0], axis=1)"
   ]
  },
  {
   "cell_type": "code",
   "execution_count": null,
   "metadata": {
    "tags": []
   },
   "outputs": [],
   "source": [
    "for col in coherence_columns:\n",
    "    brain_region = col.replace(\"all_windows\", \"_\").strip(\"_\")\n",
    "    print(brain_region)\n",
    "    \n",
    "    updated_item_col = \"trial_{}\".format(brain_region)\n",
    "    updated_timestamp_col = \"trial_coherence_timestamps\".format(brain_region)\n",
    "    TRIALS_AND_SPECTRAL_DF[updated_item_col] = TRIALS_AND_SPECTRAL_DF.apply(lambda x: utilities.helper.filter_by_timestamp_range(start=x[\"tone_start_timestamp\"], stop=x[\"tone_stop_timestamp\"], timestamps=x[\"coherence_timestamps\"], items=x[col])[1], axis=1)\n",
    "TRIALS_AND_SPECTRAL_DF[updated_timestamp_col] = TRIALS_AND_SPECTRAL_DF.apply(lambda x: utilities.helper.filter_by_timestamp_range(start=x[\"tone_start_timestamp\"], stop=x[\"tone_stop_timestamp\"], timestamps=x[\"coherence_timestamps\"], items=x[col])[0], axis=1)"
   ]
  },
  {
   "cell_type": "code",
   "execution_count": null,
   "metadata": {
    "tags": []
   },
   "outputs": [],
   "source": [
    "TRIALS_AND_SPECTRAL_DF = TRIALS_AND_SPECTRAL_DF.drop(columns=coherence_columns + [\"coherence_timestamps\"], errors=\"ignore\")"
   ]
  },
  {
   "cell_type": "markdown",
   "metadata": {},
   "source": [
    "- Filtering Grangers"
   ]
  },
  {
   "cell_type": "code",
   "execution_count": null,
   "metadata": {
    "tags": []
   },
   "outputs": [],
   "source": [
    "granger_columns = [col for col in TRIALS_AND_SPECTRAL_DF.columns if \"granger\" in col and \"timestamps\" not in col and \"calculation\" not in col]"
   ]
  },
  {
   "cell_type": "code",
   "execution_count": null,
   "metadata": {
    "tags": []
   },
   "outputs": [],
   "source": [
    "granger_columns"
   ]
  },
  {
   "cell_type": "code",
   "execution_count": null,
   "metadata": {
    "tags": []
   },
   "outputs": [],
   "source": [
    "for col in granger_columns:\n",
    "    brain_region = col.replace(\"all_windows\", \"_\").strip(\"_\")\n",
    "    print(brain_region)\n",
    "    \n",
    "    updated_item_col = \"baseline_{}\".format(brain_region)\n",
    "    updated_timestamp_col = \"baseline_granger_timestamps\".format(brain_region)\n",
    "    TRIALS_AND_SPECTRAL_DF[updated_item_col] = TRIALS_AND_SPECTRAL_DF.apply(lambda x: utilities.helper.filter_by_timestamp_range(start=x[\"baseline_start_timestamp\"], stop=x[\"baseline_stop_timestamp\"], timestamps=x[\"granger_timestamps\"], items=x[col])[1], axis=1)\n",
    "TRIALS_AND_SPECTRAL_DF[updated_timestamp_col] = TRIALS_AND_SPECTRAL_DF.apply(lambda x: utilities.helper.filter_by_timestamp_range(start=x[\"baseline_start_timestamp\"], stop=x[\"baseline_stop_timestamp\"], timestamps=x[\"granger_timestamps\"], items=x[col])[0], axis=1)"
   ]
  },
  {
   "cell_type": "code",
   "execution_count": null,
   "metadata": {
    "tags": []
   },
   "outputs": [],
   "source": [
    "for col in granger_columns:\n",
    "    brain_region = col.replace(\"all_windows\", \"_\").strip(\"_\")\n",
    "    print(brain_region)\n",
    "    \n",
    "    updated_item_col = \"trial_{}\".format(brain_region)\n",
    "    updated_timestamp_col = \"trial_granger_timestamps\".format(brain_region)\n",
    "    TRIALS_AND_SPECTRAL_DF[updated_item_col] = TRIALS_AND_SPECTRAL_DF.apply(lambda x: utilities.helper.filter_by_timestamp_range(start=x[\"tone_start_timestamp\"], stop=x[\"tone_stop_timestamp\"], timestamps=x[\"granger_timestamps\"], items=x[col])[1], axis=1)\n",
    "TRIALS_AND_SPECTRAL_DF[updated_timestamp_col] = TRIALS_AND_SPECTRAL_DF.apply(lambda x: utilities.helper.filter_by_timestamp_range(start=x[\"tone_start_timestamp\"], stop=x[\"tone_stop_timestamp\"], timestamps=x[\"granger_timestamps\"], items=x[col])[0], axis=1)"
   ]
  },
  {
   "cell_type": "code",
   "execution_count": null,
   "metadata": {
    "tags": []
   },
   "outputs": [],
   "source": [
    "TRIALS_AND_SPECTRAL_DF = TRIALS_AND_SPECTRAL_DF.drop(columns=granger_columns + [\"granger_timestamps\"], errors=\"ignore\")"
   ]
  },
  {
   "cell_type": "code",
   "execution_count": null,
   "metadata": {},
   "outputs": [],
   "source": [
    "TRIALS_AND_SPECTRAL_DF.to_pickle(os.path.join(OUTPUT_DIR, FULL_LFP_TRACES_PKL))"
   ]
  },
  {
   "cell_type": "markdown",
   "metadata": {},
   "source": [
    "- Filtering power"
   ]
  },
  {
   "cell_type": "code",
   "execution_count": null,
   "metadata": {},
   "outputs": [],
   "source": [
    "TRIALS_AND_SPECTRAL_DF.head()"
   ]
  },
  {
   "cell_type": "code",
   "execution_count": null,
   "metadata": {
    "tags": []
   },
   "outputs": [],
   "source": [
    "power_columns = [col for col in TRIALS_AND_SPECTRAL_DF.columns if \"power\" in col and \"timestamps\" not in col and \"calculation\" not in col]"
   ]
  },
  {
   "cell_type": "code",
   "execution_count": null,
   "metadata": {
    "tags": []
   },
   "outputs": [],
   "source": [
    "power_columns"
   ]
  },
  {
   "cell_type": "code",
   "execution_count": null,
   "metadata": {
    "tags": []
   },
   "outputs": [],
   "source": [
    "for col in power_columns:\n",
    "    brain_region = col.replace(\"all_windows\", \"_\").strip(\"_\")\n",
    "    print(brain_region)\n",
    "    \n",
    "    updated_item_col = \"baseline_{}\".format(brain_region)\n",
    "    updated_timestamp_col = \"baseline_power_timestamps\".format(brain_region)\n",
    "    TRIALS_AND_SPECTRAL_DF[updated_item_col] = TRIALS_AND_SPECTRAL_DF.apply(lambda x: utilities.helper.filter_by_timestamp_range(start=x[\"baseline_start_timestamp\"], stop=x[\"baseline_stop_timestamp\"], timestamps=x[\"power_timestamps\"], items=x[col])[1], axis=1)\n",
    "TRIALS_AND_SPECTRAL_DF[updated_timestamp_col] = TRIALS_AND_SPECTRAL_DF.apply(lambda x: utilities.helper.filter_by_timestamp_range(start=x[\"baseline_start_timestamp\"], stop=x[\"baseline_stop_timestamp\"], timestamps=x[\"power_timestamps\"], items=x[col])[0], axis=1)"
   ]
  },
  {
   "cell_type": "code",
   "execution_count": null,
   "metadata": {
    "tags": []
   },
   "outputs": [],
   "source": [
    "for col in power_columns:\n",
    "    brain_region = col.replace(\"all_windows\", \"_\").strip(\"_\")\n",
    "    print(brain_region)\n",
    "    \n",
    "    updated_item_col = \"trial_{}\".format(brain_region)\n",
    "    updated_timestamp_col = \"trial_power_timestamps\".format(brain_region)\n",
    "    TRIALS_AND_SPECTRAL_DF[updated_item_col] = TRIALS_AND_SPECTRAL_DF.apply(lambda x: utilities.helper.filter_by_timestamp_range(start=x[\"tone_start_timestamp\"], stop=x[\"tone_stop_timestamp\"], timestamps=x[\"power_timestamps\"], items=x[col])[1], axis=1)\n",
    "TRIALS_AND_SPECTRAL_DF[updated_timestamp_col] = TRIALS_AND_SPECTRAL_DF.apply(lambda x: utilities.helper.filter_by_timestamp_range(start=x[\"tone_start_timestamp\"], stop=x[\"tone_stop_timestamp\"], timestamps=x[\"power_timestamps\"], items=x[col])[0], axis=1)"
   ]
  },
  {
   "cell_type": "code",
   "execution_count": null,
   "metadata": {
    "tags": []
   },
   "outputs": [],
   "source": [
    "TRIALS_AND_SPECTRAL_DF[\"baseline_power_timestamps\"]"
   ]
  },
  {
   "cell_type": "code",
   "execution_count": null,
   "metadata": {
    "tags": []
   },
   "outputs": [],
   "source": [
    "TRIALS_AND_SPECTRAL_DF = TRIALS_AND_SPECTRAL_DF.drop(columns=power_columns + [\"power_timestamps\"], errors=\"ignore\")"
   ]
  },
  {
   "cell_type": "code",
   "execution_count": null,
   "metadata": {
    "tags": []
   },
   "outputs": [],
   "source": [
    "for col in TRIALS_AND_SPECTRAL_DF:\n",
    "    print(col)"
   ]
  },
  {
   "cell_type": "markdown",
   "metadata": {
    "tags": []
   },
   "source": [
    "# Filtering out phase"
   ]
  },
  {
   "cell_type": "code",
   "execution_count": null,
   "metadata": {
    "tags": []
   },
   "outputs": [],
   "source": [
    "lfp_columns = [col for col in TRIALS_AND_SPECTRAL_DF.columns if \"trace\" in col and \"timestamps\" not in col and \"calculation\" not in col]"
   ]
  },
  {
   "cell_type": "code",
   "execution_count": null,
   "metadata": {
    "tags": []
   },
   "outputs": [],
   "source": [
    "band_columns = [col for col in TRIALS_AND_SPECTRAL_DF.columns if \"band\" in col and \"timestamps\" not in col and \"calculation\" not in col]"
   ]
  },
  {
   "cell_type": "code",
   "execution_count": null,
   "metadata": {
    "tags": []
   },
   "outputs": [],
   "source": [
    "phase_columns = [col for col in TRIALS_AND_SPECTRAL_DF.columns if \"phase\" in col and \"timestamps\" not in col and \"calculation\" not in col]"
   ]
  },
  {
   "cell_type": "code",
   "execution_count": null,
   "metadata": {
    "tags": []
   },
   "outputs": [],
   "source": [
    "phase_columns = phase_columns + band_columns +lfp_columns"
   ]
  },
  {
   "cell_type": "code",
   "execution_count": null,
   "metadata": {
    "tags": []
   },
   "outputs": [],
   "source": [
    "phase_columns"
   ]
  },
  {
   "cell_type": "code",
   "execution_count": null,
   "metadata": {
    "tags": []
   },
   "outputs": [],
   "source": [
    "for col in phase_columns:\n",
    "    brain_region = col.replace(\"all_windows\", \"_\").strip(\"_\")\n",
    "    print(brain_region)\n",
    "    \n",
    "    updated_item_col = \"baseline_{}\".format(brain_region)\n",
    "    updated_timestamp_col = \"baseline_lfp_timestamps\".format(brain_region)\n",
    "    TRIALS_AND_SPECTRAL_DF[updated_item_col] = TRIALS_AND_SPECTRAL_DF.apply(lambda x: utilities.helper.filter_by_timestamp_range(start=x[\"baseline_start_timestamp\"], stop=x[\"baseline_stop_timestamp\"], timestamps=x[\"lfp_timestamps\"], items=x[col])[1], axis=1)\n",
    "TRIALS_AND_SPECTRAL_DF[updated_timestamp_col] = TRIALS_AND_SPECTRAL_DF.apply(lambda x: utilities.helper.filter_by_timestamp_range(start=x[\"baseline_start_timestamp\"], stop=x[\"baseline_stop_timestamp\"], timestamps=x[\"lfp_timestamps\"], items=x[col])[0], axis=1)"
   ]
  },
  {
   "cell_type": "code",
   "execution_count": null,
   "metadata": {
    "tags": []
   },
   "outputs": [],
   "source": [
    "for col in phase_columns:\n",
    "    brain_region = col.replace(\"all_windows\", \"_\").strip(\"_\")\n",
    "    print(brain_region)\n",
    "    \n",
    "    updated_item_col = \"trial_{}\".format(brain_region)\n",
    "    updated_timestamp_col = \"trial_lfp_timestamps\".format(brain_region)\n",
    "    TRIALS_AND_SPECTRAL_DF[updated_item_col] = TRIALS_AND_SPECTRAL_DF.apply(lambda x: utilities.helper.filter_by_timestamp_range(start=x[\"tone_start_timestamp\"], stop=x[\"tone_stop_timestamp\"], timestamps=x[\"lfp_timestamps\"], items=x[col])[1], axis=1)\n",
    "TRIALS_AND_SPECTRAL_DF[updated_timestamp_col] = TRIALS_AND_SPECTRAL_DF.apply(lambda x: utilities.helper.filter_by_timestamp_range(start=x[\"tone_start_timestamp\"], stop=x[\"tone_stop_timestamp\"], timestamps=x[\"lfp_timestamps\"], items=x[col])[0], axis=1)"
   ]
  },
  {
   "cell_type": "code",
   "execution_count": null,
   "metadata": {
    "tags": []
   },
   "outputs": [],
   "source": [
    "TRIALS_AND_SPECTRAL_DF[\"baseline_lfp_timestamps\"]"
   ]
  },
  {
   "cell_type": "code",
   "execution_count": null,
   "metadata": {
    "tags": []
   },
   "outputs": [],
   "source": [
    "TRIALS_AND_SPECTRAL_DF = TRIALS_AND_SPECTRAL_DF.drop(columns=phase_columns + [\"lfp_timestamps\"], errors=\"ignore\")"
   ]
  },
  {
   "cell_type": "code",
   "execution_count": null,
   "metadata": {
    "tags": []
   },
   "outputs": [],
   "source": [
    "TRIALS_AND_SPECTRAL_DF.to_pickle(os.path.join(OUTPUT_DIR, FULL_LFP_TRACES_PKL))"
   ]
  },
  {
   "cell_type": "code",
   "execution_count": null,
   "metadata": {
    "tags": []
   },
   "outputs": [],
   "source": [
    "for col in TRIALS_AND_SPECTRAL_DF:\n",
    "    print(col)"
   ]
  },
  {
   "cell_type": "markdown",
   "metadata": {},
   "source": [
    "# Filtering out spikes"
   ]
  },
  {
   "cell_type": "code",
   "execution_count": null,
   "metadata": {
    "tags": []
   },
   "outputs": [],
   "source": [
    "TRIALS_AND_SPECTRAL_DF[\"baseline_spike_times\"] = TRIALS_AND_SPECTRAL_DF.apply(lambda x: filter_spike_times(x[\"spike_times\"], start=x[\"baseline_start_timestamp\"], stop=x[\"baseline_stop_timestamp\"]).astype(int), axis=1)\n"
   ]
  },
  {
   "cell_type": "code",
   "execution_count": null,
   "metadata": {
    "tags": []
   },
   "outputs": [],
   "source": [
    "TRIALS_AND_SPECTRAL_DF[\"trial_spike_times\"] = TRIALS_AND_SPECTRAL_DF.apply(lambda x: filter_spike_times(x[\"spike_times\"], start=x[\"tone_start_timestamp\"], stop=x[\"tone_stop_timestamp\"]).astype(int), axis=1)\n"
   ]
  },
  {
   "cell_type": "code",
   "execution_count": null,
   "metadata": {
    "tags": []
   },
   "outputs": [],
   "source": [
    "TRIALS_AND_SPECTRAL_DF[\"baseline_start_timestamp\"].head()"
   ]
  },
  {
   "cell_type": "code",
   "execution_count": null,
   "metadata": {
    "tags": []
   },
   "outputs": [],
   "source": [
    "TRIALS_AND_SPECTRAL_DF[\"baseline_stop_timestamp\"].head()"
   ]
  },
  {
   "cell_type": "code",
   "execution_count": null,
   "metadata": {
    "tags": []
   },
   "outputs": [],
   "source": [
    "TRIALS_AND_SPECTRAL_DF[\"baseline_spike_times\"].iloc[0]"
   ]
  },
  {
   "cell_type": "code",
   "execution_count": null,
   "metadata": {
    "tags": []
   },
   "outputs": [],
   "source": [
    "TRIALS_AND_SPECTRAL_DF[\"baseline_neuron_average_fr\"] = TRIALS_AND_SPECTRAL_DF.apply(lambda x: utilities.helper.filter_by_timestamp_range(start=x[\"baseline_start_timestamp\"], stop=x[\"baseline_stop_timestamp\"], timestamps=x[\"neuron_average_timestamps\"], items=x[\"neuron_average_fr\"].T)[1], axis=1)\n",
    "TRIALS_AND_SPECTRAL_DF[\"baseline_neuron_average_timestamp\"] = TRIALS_AND_SPECTRAL_DF.apply(lambda x: utilities.helper.filter_by_timestamp_range(start=x[\"baseline_start_timestamp\"], stop=x[\"baseline_stop_timestamp\"], timestamps=x[\"neuron_average_timestamps\"], items=x[\"neuron_average_fr\"].T)[0], axis=1)"
   ]
  },
  {
   "cell_type": "code",
   "execution_count": null,
   "metadata": {
    "tags": []
   },
   "outputs": [],
   "source": [
    "TRIALS_AND_SPECTRAL_DF[\"trial_neuron_average_fr\"] = TRIALS_AND_SPECTRAL_DF.apply(lambda x: utilities.helper.filter_by_timestamp_range(start=x[\"tone_start_timestamp\"], stop=x[\"tone_stop_timestamp\"], timestamps=x[\"neuron_average_timestamps\"], items=x[\"neuron_average_fr\"].T)[1].T, axis=1)\n",
    "TRIALS_AND_SPECTRAL_DF[\"trial_neuron_average_timestamp\"] = TRIALS_AND_SPECTRAL_DF.apply(lambda x: utilities.helper.filter_by_timestamp_range(start=x[\"tone_start_timestamp\"], stop=x[\"tone_stop_timestamp\"], timestamps=x[\"neuron_average_timestamps\"], items=x[\"neuron_average_fr\"].T)[0], axis=1)"
   ]
  },
  {
   "cell_type": "code",
   "execution_count": null,
   "metadata": {
    "tags": []
   },
   "outputs": [],
   "source": [
    "TRIALS_AND_SPECTRAL_DF = TRIALS_AND_SPECTRAL_DF.drop(columns=[\"spike_clusters\", \"spike_times\", \"neuron_average_fr\", \"neuron_average_timestamps\",], errors=\"ignore\")"
   ]
  },
  {
   "cell_type": "code",
   "execution_count": null,
   "metadata": {
    "tags": []
   },
   "outputs": [],
   "source": [
    "TRIALS_AND_SPECTRAL_DF[\"trial_neuron_average_fr\"].iloc[0].shape"
   ]
  },
  {
   "cell_type": "code",
   "execution_count": null,
   "metadata": {
    "tags": []
   },
   "outputs": [],
   "source": [
    "TRIALS_AND_SPECTRAL_DF[\"trial_neuron_average_timestamp\"].iloc[0].shape"
   ]
  },
  {
   "cell_type": "markdown",
   "metadata": {},
   "source": [
    "# Filtering for rows that are in the video"
   ]
  },
  {
   "cell_type": "code",
   "execution_count": null,
   "metadata": {
    "tags": []
   },
   "outputs": [],
   "source": [
    "TRIALS_AND_SPECTRAL_DF[\"in_video\"] = TRIALS_AND_SPECTRAL_DF.apply(lambda x: x[\"start_frame\"] <= x[\"trial_video_frame\"][0] <= x[\"stop_frame\"], axis=1)"
   ]
  },
  {
   "cell_type": "code",
   "execution_count": null,
   "metadata": {
    "tags": []
   },
   "outputs": [],
   "source": [
    "TRIALS_AND_SPECTRAL_DF = TRIALS_AND_SPECTRAL_DF[TRIALS_AND_SPECTRAL_DF[\"in_video\"]].reset_index()"
   ]
  },
  {
   "cell_type": "code",
   "execution_count": null,
   "metadata": {
    "tags": []
   },
   "outputs": [],
   "source": [
    "TRIALS_AND_SPECTRAL_DF"
   ]
  },
  {
   "cell_type": "code",
   "execution_count": null,
   "metadata": {
    "tags": []
   },
   "outputs": [],
   "source": [
    "TRIALS_AND_SPECTRAL_DF.to_pickle(os.path.join(OUTPUT_DIR, FULL_LFP_TRACES_PKL))"
   ]
  },
  {
   "cell_type": "code",
   "execution_count": null,
   "metadata": {},
   "outputs": [],
   "source": [
    "raise ValueError()"
   ]
  },
  {
   "cell_type": "code",
   "execution_count": null,
   "metadata": {},
   "outputs": [],
   "source": []
  }
 ],
 "metadata": {
  "deepnote": {},
  "deepnote_execution_queue": [],
  "deepnote_notebook_id": "cf8fe3695d074ee7887fdf6459cbf5ce",
  "kernelspec": {
   "display_name": "spike_interface_0_99_0",
   "language": "python",
   "name": "spike_interface_0_99_0"
  },
  "language_info": {
   "codemirror_mode": {
    "name": "ipython",
    "version": 3
   },
   "file_extension": ".py",
   "mimetype": "text/x-python",
   "name": "python",
   "nbconvert_exporter": "python",
   "pygments_lexer": "ipython3",
   "version": "3.10.13"
  }
 },
 "nbformat": 4,
 "nbformat_minor": 4
}
