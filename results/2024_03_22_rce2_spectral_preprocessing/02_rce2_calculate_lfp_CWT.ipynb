{
 "cells": [
  {
   "cell_type": "markdown",
   "metadata": {
    "cell_id": "c3a02adc9e884466bc8c79db549cc3d2",
    "deepnote_cell_type": "text-cell-h1",
    "formattedRanges": [
     {
      "fromCodePoint": 0,
      "marks": {
       "bold": true,
       "underline": true
      },
      "toCodePoint": 17,
      "type": "marks"
     }
    ]
   },
   "source": [
    "# All oscillation analysis"
   ]
  },
  {
   "cell_type": "markdown",
   "metadata": {
    "cell_id": "4546bee655b14a5dbf393161f1228e60",
    "deepnote_cell_type": "text-cell-p",
    "formattedRanges": []
   },
   "source": [
    "Brief 1-2 sentence description of notebook."
   ]
  },
  {
   "cell_type": "code",
   "execution_count": 1,
   "metadata": {
    "tags": []
   },
   "outputs": [],
   "source": [
    "import warnings\n",
    "warnings.filterwarnings('ignore')"
   ]
  },
  {
   "cell_type": "code",
   "execution_count": 2,
   "metadata": {
    "tags": []
   },
   "outputs": [],
   "source": [
    "import os\n",
    "import collections\n",
    "import itertools\n",
    "from collections import defaultdict\n",
    "from itertools import combinations"
   ]
  },
  {
   "cell_type": "code",
   "execution_count": 3,
   "metadata": {
    "tags": []
   },
   "outputs": [],
   "source": [
    "os.environ[\"SPECTRAL_CONNECTIVITY_ENABLE_GPU\"] = \"true\"\n",
    "import cupy as cp"
   ]
  },
  {
   "cell_type": "code",
   "execution_count": 4,
   "metadata": {
    "cell_id": "03b495cefa6a4798a44c7f2e4c6a3ea7",
    "deepnote_cell_type": "code",
    "deepnote_to_be_reexecuted": false,
    "execution_millis": 21,
    "execution_start": 1691424003626,
    "source_hash": null,
    "tags": []
   },
   "outputs": [],
   "source": [
    "# Imports of all used packages and libraries\n",
    "import numpy as np\n",
    "import pandas as pd\n",
    "from scipy import stats\n",
    "from scipy.stats import mannwhitneyu\n"
   ]
  },
  {
   "cell_type": "code",
   "execution_count": 5,
   "metadata": {
    "tags": []
   },
   "outputs": [],
   "source": [
    "import matplotlib\n",
    "import matplotlib.colors as mcolors\n",
    "import matplotlib.pyplot as plt\n",
    "import matplotlib.cm as cm\n",
    "import seaborn as sns\n",
    "import colorsys"
   ]
  },
  {
   "cell_type": "code",
   "execution_count": 6,
   "metadata": {
    "tags": []
   },
   "outputs": [],
   "source": [
    "from sklearn.metrics import confusion_matrix"
   ]
  },
  {
   "cell_type": "code",
   "execution_count": 7,
   "metadata": {
    "tags": []
   },
   "outputs": [],
   "source": [
    "from spectral_connectivity import Multitaper, Connectivity\n",
    "import spectral_connectivity"
   ]
  },
  {
   "cell_type": "code",
   "execution_count": 56,
   "metadata": {
    "tags": []
   },
   "outputs": [],
   "source": [
    "import fcwt"
   ]
  },
  {
   "cell_type": "code",
   "execution_count": 8,
   "metadata": {
    "tags": []
   },
   "outputs": [],
   "source": [
    "FONTSIZE = 20"
   ]
  },
  {
   "cell_type": "code",
   "execution_count": 9,
   "metadata": {
    "tags": []
   },
   "outputs": [],
   "source": [
    "font = {'weight' : 'medium',\n",
    "        'size'   : 20}\n",
    "\n",
    "matplotlib.rc('font', **font)"
   ]
  },
  {
   "cell_type": "markdown",
   "metadata": {},
   "source": [
    "# Functions"
   ]
  },
  {
   "cell_type": "code",
   "execution_count": 10,
   "metadata": {
    "tags": []
   },
   "outputs": [],
   "source": [
    "def generate_pairs(lst):\n",
    "    \"\"\"\n",
    "    Generates all unique pairs from a list.\n",
    "\n",
    "    Parameters:\n",
    "    - lst (list): The list to generate pairs from.\n",
    "\n",
    "    Returns:\n",
    "    - list: A list of tuples, each containing a unique pair from the input list.\n",
    "    \"\"\"\n",
    "    n = len(lst)\n",
    "    return [(lst[i], lst[j]) for i in range(n) for j in range(i+1, n)]"
   ]
  },
  {
   "cell_type": "code",
   "execution_count": 11,
   "metadata": {
    "tags": []
   },
   "outputs": [],
   "source": [
    "def update_array_by_mask(array, mask, value=np.nan):\n",
    "    \"\"\"\n",
    "    Update elements of an array based on a mask and replace them with a specified value.\n",
    "\n",
    "    Parameters:\n",
    "    - array (np.array): The input numpy array whose values are to be updated.\n",
    "    - mask (np.array): A boolean array with the same shape as `array`. Elements of `array` corresponding to True in the mask are replaced.\n",
    "    - value (scalar, optional): The value to assign to elements of `array` where `mask` is True. Defaults to np.nan.\n",
    "\n",
    "    Returns:\n",
    "    - np.array: A copy of the input array with updated values where the mask is True.\n",
    "\n",
    "    Example:\n",
    "    >>> array = np.array([1, 2, 3, 4])\n",
    "    >>> mask = np.array([False, True, False, True])\n",
    "    >>> update_array_by_mask(array, mask, value=0)\n",
    "    array([1, 0, 3, 0])\n",
    "    \"\"\"\n",
    "    result = array.copy()\n",
    "    result[mask] = value\n",
    "    return result"
   ]
  },
  {
   "cell_type": "code",
   "execution_count": 12,
   "metadata": {
    "tags": []
   },
   "outputs": [],
   "source": [
    "def nan_helper(y):\n",
    "    \"\"\"Helper to handle indices and logical indices of NaNs.\n",
    "\n",
    "    Input:\n",
    "        - y, 1d numpy array with possible NaNs\n",
    "    Output:\n",
    "        - nans, logical indices of NaNs\n",
    "        - index, a function, with signature indices= index(logical_indices),\n",
    "          to convert logical indices of NaNs to 'equivalent' indices\n",
    "    Example:\n",
    "        # linear interpolation of NaNs\n",
    "        nans, x= nan_helper(y)\n",
    "        y[nans]= np.interp(x(nans), x(~nans), y[~nans])\n",
    "    \"\"\"\n",
    "\n",
    "    return np.isnan(y), lambda z: z.nonzero()[0]"
   ]
  },
  {
   "cell_type": "code",
   "execution_count": 13,
   "metadata": {
    "tags": []
   },
   "outputs": [],
   "source": [
    "def interpolate_signal(signal):\n",
    "    \"\"\"\n",
    "    Interpolates missing values (NaNs) in a given signal array using linear interpolation.\n",
    "\n",
    "    The function finds NaN elements in the signal, computes linear interpolation based on\n",
    "    non-NaN values, and fills the NaNs with these interpolated values.\n",
    "\n",
    "    Parameters:\n",
    "        signal (numpy.ndarray): The input signal array containing NaN values that need to be interpolated.\n",
    "\n",
    "    Returns:\n",
    "        numpy.ndarray: The signal array with NaN values interpolated.\n",
    "    \"\"\"\n",
    "    if signal is None or not isinstance(signal, np.ndarray):\n",
    "        raise ValueError(\"Input must be a numpy ndarray.\")\n",
    "    \n",
    "    result = signal.copy()\n",
    "    nans, x = nan_helper(result)\n",
    "    result[nans] = np.interp(x(nans), x(~nans), result[~nans])\n",
    "    return result"
   ]
  },
  {
   "cell_type": "markdown",
   "metadata": {
    "cell_id": "d290bac2c17940bfbc0f9296beaf70e5",
    "deepnote_cell_type": "text-cell-h2",
    "formattedRanges": []
   },
   "source": [
    "## Inputs & Data"
   ]
  },
  {
   "cell_type": "markdown",
   "metadata": {
    "cell_id": "e528ce19c608425292151930d380f49f",
    "deepnote_cell_type": "text-cell-p",
    "formattedRanges": []
   },
   "source": [
    "Explanation of each input and where it comes from."
   ]
  },
  {
   "cell_type": "code",
   "execution_count": 14,
   "metadata": {
    "cell_id": "6cf83a5811054461a718a71673d09aab",
    "deepnote_cell_type": "code",
    "deepnote_to_be_reexecuted": false,
    "execution_millis": 373,
    "execution_start": 1691424003628,
    "source_hash": null,
    "tags": []
   },
   "outputs": [],
   "source": [
    "# Inputs and Required data loading\n",
    "# input varaible names are in all caps snake case\n",
    "# Whenever an input changes or is used for processing \n",
    "# the vairables are all lower in snake case\n",
    "OUTPUT_DIR = r\"./proc\" # where data is saved should always be shown in the inputs"
   ]
  },
  {
   "cell_type": "code",
   "execution_count": 15,
   "metadata": {
    "tags": []
   },
   "outputs": [],
   "source": [
    "TIME_HALFBANDWIDTH_PRODUCT = 2\n",
    "TIME_WINDOW_DURATION = 1\n",
    "TIME_WINDOW_STEP = 0.5\n",
    "RESAMPLE_RATE=1000"
   ]
  },
  {
   "cell_type": "code",
   "execution_count": 16,
   "metadata": {
    "tags": []
   },
   "outputs": [],
   "source": [
    "zscore_threshold = 4\n",
    "VOLTAGE_SCALING_VALUE = 0.195"
   ]
  },
  {
   "cell_type": "code",
   "execution_count": 17,
   "metadata": {
    "tags": []
   },
   "outputs": [],
   "source": [
    "BAND_TO_FREQ = {\"theta\": (4,12), \"gamma\": (30,51)}"
   ]
  },
  {
   "cell_type": "code",
   "execution_count": 18,
   "metadata": {
    "tags": []
   },
   "outputs": [],
   "source": [
    "LFP_TRACES_DF = pd.read_pickle(\"./proc/rce_pilot_2_01_lfp_traces_and_frames.pkl\")"
   ]
  },
  {
   "cell_type": "code",
   "execution_count": 19,
   "metadata": {
    "tags": []
   },
   "outputs": [
    {
     "data": {
      "text/plain": [
       "(61, 23)"
      ]
     },
     "execution_count": 19,
     "metadata": {},
     "output_type": "execute_result"
    }
   ],
   "source": [
    "LFP_TRACES_DF.shape"
   ]
  },
  {
   "cell_type": "markdown",
   "metadata": {},
   "source": [
    "## Preprocessing"
   ]
  },
  {
   "cell_type": "code",
   "execution_count": 20,
   "metadata": {
    "tags": []
   },
   "outputs": [],
   "source": [
    "original_trace_columns = [col for col in LFP_TRACES_DF.columns if \"trace\" in col]"
   ]
  },
  {
   "cell_type": "code",
   "execution_count": 21,
   "metadata": {
    "tags": []
   },
   "outputs": [
    {
     "data": {
      "text/plain": [
       "['mPFC_lfp_trace',\n",
       " 'MD_lfp_trace',\n",
       " 'LH_lfp_trace',\n",
       " 'BLA_lfp_trace',\n",
       " 'vHPC_lfp_trace']"
      ]
     },
     "execution_count": 21,
     "metadata": {},
     "output_type": "execute_result"
    }
   ],
   "source": [
    "original_trace_columns"
   ]
  },
  {
   "cell_type": "code",
   "execution_count": 22,
   "metadata": {
    "tags": []
   },
   "outputs": [
    {
     "name": "stdout",
     "output_type": "stream",
     "text": [
      "mPFC_lfp_trace\n",
      "MD_lfp_trace\n",
      "LH_lfp_trace\n",
      "BLA_lfp_trace\n",
      "vHPC_lfp_trace\n"
     ]
    }
   ],
   "source": [
    "for col in original_trace_columns:\n",
    "    print(col)\n",
    "    LFP_TRACES_DF[col] = LFP_TRACES_DF[col].apply(lambda x: x.astype(np.float32) * VOLTAGE_SCALING_VALUE)"
   ]
  },
  {
   "cell_type": "code",
   "execution_count": 23,
   "metadata": {
    "tags": []
   },
   "outputs": [
    {
     "data": {
      "text/html": [
       "<div>\n",
       "<style scoped>\n",
       "    .dataframe tbody tr th:only-of-type {\n",
       "        vertical-align: middle;\n",
       "    }\n",
       "\n",
       "    .dataframe tbody tr th {\n",
       "        vertical-align: top;\n",
       "    }\n",
       "\n",
       "    .dataframe thead th {\n",
       "        text-align: right;\n",
       "    }\n",
       "</style>\n",
       "<table border=\"1\" class=\"dataframe\">\n",
       "  <thead>\n",
       "    <tr style=\"text-align: right;\">\n",
       "      <th></th>\n",
       "      <th>cohort</th>\n",
       "      <th>session_dir</th>\n",
       "      <th>tone_frames</th>\n",
       "      <th>box_1_port_entry_frames</th>\n",
       "      <th>box_2_port_entry_frames</th>\n",
       "      <th>video_name</th>\n",
       "      <th>session_path</th>\n",
       "      <th>recording</th>\n",
       "      <th>current_subject</th>\n",
       "      <th>subject</th>\n",
       "      <th>...</th>\n",
       "      <th>video_timestamps</th>\n",
       "      <th>tone_timestamps</th>\n",
       "      <th>box_1_port_entry_timestamps</th>\n",
       "      <th>box_2_port_entry_timestamps</th>\n",
       "      <th>lfp_timestamps</th>\n",
       "      <th>mPFC_lfp_trace</th>\n",
       "      <th>MD_lfp_trace</th>\n",
       "      <th>LH_lfp_trace</th>\n",
       "      <th>BLA_lfp_trace</th>\n",
       "      <th>vHPC_lfp_trace</th>\n",
       "    </tr>\n",
       "  </thead>\n",
       "  <tbody>\n",
       "    <tr>\n",
       "      <th>0</th>\n",
       "      <td>2</td>\n",
       "      <td>20230612_101430_standard_comp_to_training_D1_s...</td>\n",
       "      <td>[[980, 1181], [3376, 3575], [5672, 5871], [746...</td>\n",
       "      <td>[[490, 514], [518, 558], [558, 637], [638, 640...</td>\n",
       "      <td>[[33137, 33147], [33665, 33666], [33668, 33669...</td>\n",
       "      <td>20230612_101430_standard_comp_to_training_D1_s...</td>\n",
       "      <td>/scratch/back_up/reward_competition_extention/...</td>\n",
       "      <td>20230612_101430_standard_comp_to_training_D1_s...</td>\n",
       "      <td>1.3</td>\n",
       "      <td>1.3</td>\n",
       "      <td>...</td>\n",
       "      <td>[-2, 1384, 2770, 4156, 4156, 5542, 6928, 6928,...</td>\n",
       "      <td>[[982229, 1182226], [3382227, 3582224], [56822...</td>\n",
       "      <td>[[491029, 515227], [519426, 558629], [559427, ...</td>\n",
       "      <td>[[33082200, 33090003], [33565003, 33567000], [...</td>\n",
       "      <td>[0, 20, 40, 60, 80, 100, 120, 140, 160, 180, 2...</td>\n",
       "      <td>[95.354996, 82.09499, 97.5, 132.405, 123.825, ...</td>\n",
       "      <td>[46.019997, 49.335, 75.27, 97.89, 77.61, 40.55...</td>\n",
       "      <td>[61.425, 66.104996, 81.899994, 90.479996, 71.5...</td>\n",
       "      <td>[54.6, 54.405, 73.32, 86.189995, 59.085, 19.89...</td>\n",
       "      <td>[55.574997, 79.365, 128.11499, 170.43, 189.344...</td>\n",
       "    </tr>\n",
       "    <tr>\n",
       "      <th>1</th>\n",
       "      <td>2</td>\n",
       "      <td>20230612_101430_standard_comp_to_training_D1_s...</td>\n",
       "      <td>[[980, 1180], [3376, 3575], [5672, 5871], [746...</td>\n",
       "      <td>[[490, 514], [518, 558], [558, 637], [638, 640...</td>\n",
       "      <td>[[33021, 33027], [33502, 33503], [33504, 33506...</td>\n",
       "      <td>20230612_101430_standard_comp_to_training_D1_s...</td>\n",
       "      <td>/scratch/back_up/reward_competition_extention/...</td>\n",
       "      <td>20230612_101430_standard_comp_to_training_D1_s...</td>\n",
       "      <td>1.3</td>\n",
       "      <td>1.3</td>\n",
       "      <td>...</td>\n",
       "      <td>[-2, 1384, 2770, 4156, 4156, 5542, 6928, 6928,...</td>\n",
       "      <td>[[982229, 1182226], [3382227, 3582224], [56822...</td>\n",
       "      <td>[[491029, 515227], [519426, 558629], [559427, ...</td>\n",
       "      <td>[[33082200, 33090003], [33565003, 33567000], [...</td>\n",
       "      <td>[0, 20, 40, 60, 80, 100, 120, 140, 160, 180, 2...</td>\n",
       "      <td>[95.354996, 82.09499, 97.5, 132.405, 123.825, ...</td>\n",
       "      <td>[46.019997, 49.335, 75.27, 97.89, 77.61, 40.55...</td>\n",
       "      <td>[61.425, 66.104996, 81.899994, 90.479996, 71.5...</td>\n",
       "      <td>[54.6, 54.405, 73.32, 86.189995, 59.085, 19.89...</td>\n",
       "      <td>[55.574997, 79.365, 128.11499, 170.43, 189.344...</td>\n",
       "    </tr>\n",
       "    <tr>\n",
       "      <th>2</th>\n",
       "      <td>2</td>\n",
       "      <td>20230612_101430_standard_comp_to_training_D1_s...</td>\n",
       "      <td>[[980, 1181], [3376, 3575], [5672, 5871], [746...</td>\n",
       "      <td>[[490, 514], [518, 558], [558, 637], [638, 640...</td>\n",
       "      <td>[[33137, 33147], [33665, 33666], [33668, 33669...</td>\n",
       "      <td>20230612_101430_standard_comp_to_training_D1_s...</td>\n",
       "      <td>/scratch/back_up/reward_competition_extention/...</td>\n",
       "      <td>20230612_101430_standard_comp_to_training_D1_s...</td>\n",
       "      <td>1.4</td>\n",
       "      <td>1.4</td>\n",
       "      <td>...</td>\n",
       "      <td>[-2, 1384, 2770, 4156, 4156, 5542, 6928, 6928,...</td>\n",
       "      <td>[[982229, 1182226], [3382227, 3582224], [56822...</td>\n",
       "      <td>[[491029, 515227], [519426, 558629], [559427, ...</td>\n",
       "      <td>[[33082200, 33090003], [33565003, 33567000], [...</td>\n",
       "      <td>[0, 20, 40, 60, 80, 100, 120, 140, 160, 180, 2...</td>\n",
       "      <td>[19.89, 29.445, 33.149998, 37.829998, 45.43499...</td>\n",
       "      <td>[29.445, 28.859999, 25.935, 23.205, 21.449999,...</td>\n",
       "      <td>[28.47, 25.349998, 22.035, 22.814999, 23.00999...</td>\n",
       "      <td>[68.64, 90.284996, 93.795, 71.564995, 90.09, 1...</td>\n",
       "      <td>[62.984997, 86.774994, 104.13, 86.96999, 75.65...</td>\n",
       "    </tr>\n",
       "    <tr>\n",
       "      <th>3</th>\n",
       "      <td>2</td>\n",
       "      <td>20230612_101430_standard_comp_to_training_D1_s...</td>\n",
       "      <td>[[980, 1180], [3376, 3575], [5672, 5871], [746...</td>\n",
       "      <td>[[490, 514], [518, 558], [558, 637], [638, 640...</td>\n",
       "      <td>[[33021, 33027], [33502, 33503], [33504, 33506...</td>\n",
       "      <td>20230612_101430_standard_comp_to_training_D1_s...</td>\n",
       "      <td>/scratch/back_up/reward_competition_extention/...</td>\n",
       "      <td>20230612_101430_standard_comp_to_training_D1_s...</td>\n",
       "      <td>1.4</td>\n",
       "      <td>1.4</td>\n",
       "      <td>...</td>\n",
       "      <td>[-2, 1384, 2770, 4156, 4156, 5542, 6928, 6928,...</td>\n",
       "      <td>[[982229, 1182226], [3382227, 3582224], [56822...</td>\n",
       "      <td>[[491029, 515227], [519426, 558629], [559427, ...</td>\n",
       "      <td>[[33082200, 33090003], [33565003, 33567000], [...</td>\n",
       "      <td>[0, 20, 40, 60, 80, 100, 120, 140, 160, 180, 2...</td>\n",
       "      <td>[19.89, 29.445, 33.149998, 37.829998, 45.43499...</td>\n",
       "      <td>[29.445, 28.859999, 25.935, 23.205, 21.449999,...</td>\n",
       "      <td>[28.47, 25.349998, 22.035, 22.814999, 23.00999...</td>\n",
       "      <td>[68.64, 90.284996, 93.795, 71.564995, 90.09, 1...</td>\n",
       "      <td>[62.984997, 86.774994, 104.13, 86.96999, 75.65...</td>\n",
       "    </tr>\n",
       "    <tr>\n",
       "      <th>4</th>\n",
       "      <td>2</td>\n",
       "      <td>20230612_112630_standard_comp_to_training_D1_s...</td>\n",
       "      <td>[[1125, 1324], [3519, 3720], [5815, 6014], [76...</td>\n",
       "      <td>[[192, 248], [389, 405], [916, 929], [929, 948...</td>\n",
       "      <td>[[33019, 33020], [33246, 33251], [33253, 33255...</td>\n",
       "      <td>20230612_112630_standard_comp_to_training_D1_s...</td>\n",
       "      <td>/scratch/back_up/reward_competition_extention/...</td>\n",
       "      <td>20230612_112630_standard_comp_to_training_D1_s...</td>\n",
       "      <td>1.1</td>\n",
       "      <td>1.1</td>\n",
       "      <td>...</td>\n",
       "      <td>[1384, 2444, 2769, 4155, 5541, 6708, 6927, 831...</td>\n",
       "      <td>[[1126742, 1326741], [3526740, 3726740], [5826...</td>\n",
       "      <td>[[192745, 249350], [389747, 407142], [917544, ...</td>\n",
       "      <td>[[33037711, 33038706], [33264908, 33270313], [...</td>\n",
       "      <td>[0, 20, 40, 60, 80, 100, 120, 140, 160, 180, 2...</td>\n",
       "      <td>[-4.875, 21.255, 75.465, 113.295, 100.619995, ...</td>\n",
       "      <td>[13.65, 36.66, 53.82, 33.735, 3.12, -15.794999...</td>\n",
       "      <td>[7.995, 32.76, 56.159996, 48.164997, 29.445, 3...</td>\n",
       "      <td>[4.4849997, 8.969999, 19.109999, 26.324999, 16...</td>\n",
       "      <td>[34.32, 50.504997, 44.265, -1.365, -31.784998,...</td>\n",
       "    </tr>\n",
       "  </tbody>\n",
       "</table>\n",
       "<p>5 rows × 23 columns</p>\n",
       "</div>"
      ],
      "text/plain": [
       "   cohort                                        session_dir  \\\n",
       "0       2  20230612_101430_standard_comp_to_training_D1_s...   \n",
       "1       2  20230612_101430_standard_comp_to_training_D1_s...   \n",
       "2       2  20230612_101430_standard_comp_to_training_D1_s...   \n",
       "3       2  20230612_101430_standard_comp_to_training_D1_s...   \n",
       "4       2  20230612_112630_standard_comp_to_training_D1_s...   \n",
       "\n",
       "                                         tone_frames  \\\n",
       "0  [[980, 1181], [3376, 3575], [5672, 5871], [746...   \n",
       "1  [[980, 1180], [3376, 3575], [5672, 5871], [746...   \n",
       "2  [[980, 1181], [3376, 3575], [5672, 5871], [746...   \n",
       "3  [[980, 1180], [3376, 3575], [5672, 5871], [746...   \n",
       "4  [[1125, 1324], [3519, 3720], [5815, 6014], [76...   \n",
       "\n",
       "                             box_1_port_entry_frames  \\\n",
       "0  [[490, 514], [518, 558], [558, 637], [638, 640...   \n",
       "1  [[490, 514], [518, 558], [558, 637], [638, 640...   \n",
       "2  [[490, 514], [518, 558], [558, 637], [638, 640...   \n",
       "3  [[490, 514], [518, 558], [558, 637], [638, 640...   \n",
       "4  [[192, 248], [389, 405], [916, 929], [929, 948...   \n",
       "\n",
       "                             box_2_port_entry_frames  \\\n",
       "0  [[33137, 33147], [33665, 33666], [33668, 33669...   \n",
       "1  [[33021, 33027], [33502, 33503], [33504, 33506...   \n",
       "2  [[33137, 33147], [33665, 33666], [33668, 33669...   \n",
       "3  [[33021, 33027], [33502, 33503], [33504, 33506...   \n",
       "4  [[33019, 33020], [33246, 33251], [33253, 33255...   \n",
       "\n",
       "                                          video_name  \\\n",
       "0  20230612_101430_standard_comp_to_training_D1_s...   \n",
       "1  20230612_101430_standard_comp_to_training_D1_s...   \n",
       "2  20230612_101430_standard_comp_to_training_D1_s...   \n",
       "3  20230612_101430_standard_comp_to_training_D1_s...   \n",
       "4  20230612_112630_standard_comp_to_training_D1_s...   \n",
       "\n",
       "                                        session_path  \\\n",
       "0  /scratch/back_up/reward_competition_extention/...   \n",
       "1  /scratch/back_up/reward_competition_extention/...   \n",
       "2  /scratch/back_up/reward_competition_extention/...   \n",
       "3  /scratch/back_up/reward_competition_extention/...   \n",
       "4  /scratch/back_up/reward_competition_extention/...   \n",
       "\n",
       "                                           recording current_subject subject  \\\n",
       "0  20230612_101430_standard_comp_to_training_D1_s...             1.3     1.3   \n",
       "1  20230612_101430_standard_comp_to_training_D1_s...             1.3     1.3   \n",
       "2  20230612_101430_standard_comp_to_training_D1_s...             1.4     1.4   \n",
       "3  20230612_101430_standard_comp_to_training_D1_s...             1.4     1.4   \n",
       "4  20230612_112630_standard_comp_to_training_D1_s...             1.1     1.1   \n",
       "\n",
       "   ...                                   video_timestamps  \\\n",
       "0  ...  [-2, 1384, 2770, 4156, 4156, 5542, 6928, 6928,...   \n",
       "1  ...  [-2, 1384, 2770, 4156, 4156, 5542, 6928, 6928,...   \n",
       "2  ...  [-2, 1384, 2770, 4156, 4156, 5542, 6928, 6928,...   \n",
       "3  ...  [-2, 1384, 2770, 4156, 4156, 5542, 6928, 6928,...   \n",
       "4  ...  [1384, 2444, 2769, 4155, 5541, 6708, 6927, 831...   \n",
       "\n",
       "                                     tone_timestamps  \\\n",
       "0  [[982229, 1182226], [3382227, 3582224], [56822...   \n",
       "1  [[982229, 1182226], [3382227, 3582224], [56822...   \n",
       "2  [[982229, 1182226], [3382227, 3582224], [56822...   \n",
       "3  [[982229, 1182226], [3382227, 3582224], [56822...   \n",
       "4  [[1126742, 1326741], [3526740, 3726740], [5826...   \n",
       "\n",
       "                         box_1_port_entry_timestamps  \\\n",
       "0  [[491029, 515227], [519426, 558629], [559427, ...   \n",
       "1  [[491029, 515227], [519426, 558629], [559427, ...   \n",
       "2  [[491029, 515227], [519426, 558629], [559427, ...   \n",
       "3  [[491029, 515227], [519426, 558629], [559427, ...   \n",
       "4  [[192745, 249350], [389747, 407142], [917544, ...   \n",
       "\n",
       "                         box_2_port_entry_timestamps  \\\n",
       "0  [[33082200, 33090003], [33565003, 33567000], [...   \n",
       "1  [[33082200, 33090003], [33565003, 33567000], [...   \n",
       "2  [[33082200, 33090003], [33565003, 33567000], [...   \n",
       "3  [[33082200, 33090003], [33565003, 33567000], [...   \n",
       "4  [[33037711, 33038706], [33264908, 33270313], [...   \n",
       "\n",
       "                                      lfp_timestamps  \\\n",
       "0  [0, 20, 40, 60, 80, 100, 120, 140, 160, 180, 2...   \n",
       "1  [0, 20, 40, 60, 80, 100, 120, 140, 160, 180, 2...   \n",
       "2  [0, 20, 40, 60, 80, 100, 120, 140, 160, 180, 2...   \n",
       "3  [0, 20, 40, 60, 80, 100, 120, 140, 160, 180, 2...   \n",
       "4  [0, 20, 40, 60, 80, 100, 120, 140, 160, 180, 2...   \n",
       "\n",
       "                                      mPFC_lfp_trace  \\\n",
       "0  [95.354996, 82.09499, 97.5, 132.405, 123.825, ...   \n",
       "1  [95.354996, 82.09499, 97.5, 132.405, 123.825, ...   \n",
       "2  [19.89, 29.445, 33.149998, 37.829998, 45.43499...   \n",
       "3  [19.89, 29.445, 33.149998, 37.829998, 45.43499...   \n",
       "4  [-4.875, 21.255, 75.465, 113.295, 100.619995, ...   \n",
       "\n",
       "                                        MD_lfp_trace  \\\n",
       "0  [46.019997, 49.335, 75.27, 97.89, 77.61, 40.55...   \n",
       "1  [46.019997, 49.335, 75.27, 97.89, 77.61, 40.55...   \n",
       "2  [29.445, 28.859999, 25.935, 23.205, 21.449999,...   \n",
       "3  [29.445, 28.859999, 25.935, 23.205, 21.449999,...   \n",
       "4  [13.65, 36.66, 53.82, 33.735, 3.12, -15.794999...   \n",
       "\n",
       "                                        LH_lfp_trace  \\\n",
       "0  [61.425, 66.104996, 81.899994, 90.479996, 71.5...   \n",
       "1  [61.425, 66.104996, 81.899994, 90.479996, 71.5...   \n",
       "2  [28.47, 25.349998, 22.035, 22.814999, 23.00999...   \n",
       "3  [28.47, 25.349998, 22.035, 22.814999, 23.00999...   \n",
       "4  [7.995, 32.76, 56.159996, 48.164997, 29.445, 3...   \n",
       "\n",
       "                                       BLA_lfp_trace  \\\n",
       "0  [54.6, 54.405, 73.32, 86.189995, 59.085, 19.89...   \n",
       "1  [54.6, 54.405, 73.32, 86.189995, 59.085, 19.89...   \n",
       "2  [68.64, 90.284996, 93.795, 71.564995, 90.09, 1...   \n",
       "3  [68.64, 90.284996, 93.795, 71.564995, 90.09, 1...   \n",
       "4  [4.4849997, 8.969999, 19.109999, 26.324999, 16...   \n",
       "\n",
       "                                      vHPC_lfp_trace  \n",
       "0  [55.574997, 79.365, 128.11499, 170.43, 189.344...  \n",
       "1  [55.574997, 79.365, 128.11499, 170.43, 189.344...  \n",
       "2  [62.984997, 86.774994, 104.13, 86.96999, 75.65...  \n",
       "3  [62.984997, 86.774994, 104.13, 86.96999, 75.65...  \n",
       "4  [34.32, 50.504997, 44.265, -1.365, -31.784998,...  \n",
       "\n",
       "[5 rows x 23 columns]"
      ]
     },
     "execution_count": 23,
     "metadata": {},
     "output_type": "execute_result"
    }
   ],
   "source": [
    "LFP_TRACES_DF.head()"
   ]
  },
  {
   "cell_type": "markdown",
   "metadata": {},
   "source": [
    "# Calculating modified zscore"
   ]
  },
  {
   "cell_type": "markdown",
   "metadata": {},
   "source": [
    "`0.6745(xi – x̃) / MAD`"
   ]
  },
  {
   "cell_type": "code",
   "execution_count": 24,
   "metadata": {},
   "outputs": [
    {
     "name": "stdout",
     "output_type": "stream",
     "text": [
      "mPFC_lfp_trace\n",
      "MD_lfp_trace\n",
      "LH_lfp_trace\n",
      "BLA_lfp_trace\n",
      "vHPC_lfp_trace\n"
     ]
    }
   ],
   "source": [
    "for col in original_trace_columns:\n",
    "    print(col)\n",
    "    brain_region = col.split(\"_\")[0]\n",
    "    updated_column = \"{}_lfp_MAD\".format(brain_region)\n",
    "    LFP_TRACES_DF[updated_column] = LFP_TRACES_DF[col].apply(lambda x: stats.median_abs_deviation(x))"
   ]
  },
  {
   "cell_type": "code",
   "execution_count": 25,
   "metadata": {},
   "outputs": [
    {
     "name": "stdout",
     "output_type": "stream",
     "text": [
      "mPFC_lfp_trace\n",
      "MD_lfp_trace\n",
      "LH_lfp_trace\n",
      "BLA_lfp_trace\n",
      "vHPC_lfp_trace\n"
     ]
    }
   ],
   "source": [
    "for col in original_trace_columns:\n",
    "    print(col)\n",
    "    brain_region = col.split(\"_\")[0]\n",
    "    updated_column = \"{}_lfp_modified_zscore\".format(brain_region)\n",
    "    MAD_column = \"{}_lfp_MAD\".format(brain_region)\n",
    "\n",
    "    LFP_TRACES_DF[updated_column] = LFP_TRACES_DF.apply(lambda x: 0.6745 * (x[col] - np.median(x[col])) / x[MAD_column], axis=1)"
   ]
  },
  {
   "cell_type": "code",
   "execution_count": 26,
   "metadata": {},
   "outputs": [
    {
     "data": {
      "text/plain": [
       "0     [0.23408099, 0.3398509, 0.5565925, 0.7447243, ...\n",
       "1     [0.23408099, 0.3398509, 0.5565925, 0.7447243, ...\n",
       "2     [0.93568933, 1.2858553, 1.5413042, 1.2887255, ...\n",
       "3     [0.93568933, 1.2858553, 1.5413042, 1.2887255, ...\n",
       "4     [0.27719176, 0.40500796, 0.35572946, -0.004619...\n",
       "                            ...                        \n",
       "56    [0.22029124, 0.7880522, 1.144606, 0.71083665, ...\n",
       "57    [0.20513144, 0.031291235, -0.13791321, -0.1900...\n",
       "58    [0.20513144, 0.031291235, -0.13791321, -0.1900...\n",
       "59    [-1.0707098, -1.1721206, -1.1367447, -0.910339...\n",
       "60    [-1.0707098, -1.1721206, -1.1367447, -0.910339...\n",
       "Name: vHPC_lfp_modified_zscore, Length: 61, dtype: object"
      ]
     },
     "execution_count": 26,
     "metadata": {},
     "output_type": "execute_result"
    }
   ],
   "source": [
    "LFP_TRACES_DF[updated_column]"
   ]
  },
  {
   "cell_type": "markdown",
   "metadata": {},
   "source": [
    "## calculating root mean sequare"
   ]
  },
  {
   "cell_type": "code",
   "execution_count": 27,
   "metadata": {
    "tags": []
   },
   "outputs": [
    {
     "name": "stdout",
     "output_type": "stream",
     "text": [
      "mPFC_lfp_trace\n",
      "MD_lfp_trace\n",
      "LH_lfp_trace\n",
      "BLA_lfp_trace\n",
      "vHPC_lfp_trace\n"
     ]
    }
   ],
   "source": [
    "for col in original_trace_columns:\n",
    "    print(col)\n",
    "    brain_region = col.split(\"_\")[0]\n",
    "    updated_column = \"{}_lfp_RMS\".format(brain_region)\n",
    "    LFP_TRACES_DF[updated_column] = LFP_TRACES_DF[col].apply(lambda x: (x / np.sqrt(np.mean(x**2))).astype(np.float32))\n"
   ]
  },
  {
   "cell_type": "code",
   "execution_count": 28,
   "metadata": {
    "tags": []
   },
   "outputs": [
    {
     "data": {
      "text/html": [
       "<div>\n",
       "<style scoped>\n",
       "    .dataframe tbody tr th:only-of-type {\n",
       "        vertical-align: middle;\n",
       "    }\n",
       "\n",
       "    .dataframe tbody tr th {\n",
       "        vertical-align: top;\n",
       "    }\n",
       "\n",
       "    .dataframe thead th {\n",
       "        text-align: right;\n",
       "    }\n",
       "</style>\n",
       "<table border=\"1\" class=\"dataframe\">\n",
       "  <thead>\n",
       "    <tr style=\"text-align: right;\">\n",
       "      <th></th>\n",
       "      <th>cohort</th>\n",
       "      <th>session_dir</th>\n",
       "      <th>tone_frames</th>\n",
       "      <th>box_1_port_entry_frames</th>\n",
       "      <th>box_2_port_entry_frames</th>\n",
       "      <th>video_name</th>\n",
       "      <th>session_path</th>\n",
       "      <th>recording</th>\n",
       "      <th>current_subject</th>\n",
       "      <th>subject</th>\n",
       "      <th>...</th>\n",
       "      <th>mPFC_lfp_modified_zscore</th>\n",
       "      <th>MD_lfp_modified_zscore</th>\n",
       "      <th>LH_lfp_modified_zscore</th>\n",
       "      <th>BLA_lfp_modified_zscore</th>\n",
       "      <th>vHPC_lfp_modified_zscore</th>\n",
       "      <th>mPFC_lfp_RMS</th>\n",
       "      <th>MD_lfp_RMS</th>\n",
       "      <th>LH_lfp_RMS</th>\n",
       "      <th>BLA_lfp_RMS</th>\n",
       "      <th>vHPC_lfp_RMS</th>\n",
       "    </tr>\n",
       "  </thead>\n",
       "  <tbody>\n",
       "    <tr>\n",
       "      <th>0</th>\n",
       "      <td>2</td>\n",
       "      <td>20230612_101430_standard_comp_to_training_D1_s...</td>\n",
       "      <td>[[980, 1181], [3376, 3575], [5672, 5871], [746...</td>\n",
       "      <td>[[490, 514], [518, 558], [558, 637], [638, 640...</td>\n",
       "      <td>[[33137, 33147], [33665, 33666], [33668, 33669...</td>\n",
       "      <td>20230612_101430_standard_comp_to_training_D1_s...</td>\n",
       "      <td>/scratch/back_up/reward_competition_extention/...</td>\n",
       "      <td>20230612_101430_standard_comp_to_training_D1_s...</td>\n",
       "      <td>1.3</td>\n",
       "      <td>1.3</td>\n",
       "      <td>...</td>\n",
       "      <td>[0.89292616, 0.77410233, 0.9121477, 1.2249339,...</td>\n",
       "      <td>[0.47153494, 0.50638753, 0.77905774, 1.0168754...</td>\n",
       "      <td>[0.94851553, 1.0207834, 1.2646874, 1.3971784, ...</td>\n",
       "      <td>[0.66973317, 0.6673498, 0.8985389, 1.0558428, ...</td>\n",
       "      <td>[0.23408099, 0.3398509, 0.5565925, 0.7447243, ...</td>\n",
       "      <td>[0.19477782, 0.16769215, 0.19915934, 0.2704583...</td>\n",
       "      <td>[0.13429306, 0.14396672, 0.21964882, 0.2856573...</td>\n",
       "      <td>[0.22216085, 0.23908737, 0.29621443, 0.3272464...</td>\n",
       "      <td>[0.15934613, 0.15877703, 0.2139791, 0.25153923...</td>\n",
       "      <td>[0.09461661, 0.13511916, 0.21811618, 0.2901576...</td>\n",
       "    </tr>\n",
       "    <tr>\n",
       "      <th>1</th>\n",
       "      <td>2</td>\n",
       "      <td>20230612_101430_standard_comp_to_training_D1_s...</td>\n",
       "      <td>[[980, 1180], [3376, 3575], [5672, 5871], [746...</td>\n",
       "      <td>[[490, 514], [518, 558], [558, 637], [638, 640...</td>\n",
       "      <td>[[33021, 33027], [33502, 33503], [33504, 33506...</td>\n",
       "      <td>20230612_101430_standard_comp_to_training_D1_s...</td>\n",
       "      <td>/scratch/back_up/reward_competition_extention/...</td>\n",
       "      <td>20230612_101430_standard_comp_to_training_D1_s...</td>\n",
       "      <td>1.3</td>\n",
       "      <td>1.3</td>\n",
       "      <td>...</td>\n",
       "      <td>[0.89292616, 0.77410233, 0.9121477, 1.2249339,...</td>\n",
       "      <td>[0.47153494, 0.50638753, 0.77905774, 1.0168754...</td>\n",
       "      <td>[0.94851553, 1.0207834, 1.2646874, 1.3971784, ...</td>\n",
       "      <td>[0.66973317, 0.6673498, 0.8985389, 1.0558428, ...</td>\n",
       "      <td>[0.23408099, 0.3398509, 0.5565925, 0.7447243, ...</td>\n",
       "      <td>[0.19477782, 0.16769215, 0.19915934, 0.2704583...</td>\n",
       "      <td>[0.13429306, 0.14396672, 0.21964882, 0.2856573...</td>\n",
       "      <td>[0.22216085, 0.23908737, 0.29621443, 0.3272464...</td>\n",
       "      <td>[0.15934613, 0.15877703, 0.2139791, 0.25153923...</td>\n",
       "      <td>[0.09461661, 0.13511916, 0.21811618, 0.2901576...</td>\n",
       "    </tr>\n",
       "    <tr>\n",
       "      <th>2</th>\n",
       "      <td>2</td>\n",
       "      <td>20230612_101430_standard_comp_to_training_D1_s...</td>\n",
       "      <td>[[980, 1181], [3376, 3575], [5672, 5871], [746...</td>\n",
       "      <td>[[490, 514], [518, 558], [558, 637], [638, 640...</td>\n",
       "      <td>[[33137, 33147], [33665, 33666], [33668, 33669...</td>\n",
       "      <td>20230612_101430_standard_comp_to_training_D1_s...</td>\n",
       "      <td>/scratch/back_up/reward_competition_extention/...</td>\n",
       "      <td>20230612_101430_standard_comp_to_training_D1_s...</td>\n",
       "      <td>1.4</td>\n",
       "      <td>1.4</td>\n",
       "      <td>...</td>\n",
       "      <td>[0.2918245, 0.42672452, 0.4790326, 0.5451061, ...</td>\n",
       "      <td>[0.8516992, 0.83455086, 0.7488094, 0.66878396,...</td>\n",
       "      <td>[0.84312505, 0.75009054, 0.6512414, 0.6745, 0....</td>\n",
       "      <td>[0.86968505, 1.1439322, 1.1884048, 0.9067454, ...</td>\n",
       "      <td>[0.93568933, 1.2858553, 1.5413042, 1.2887255, ...</td>\n",
       "      <td>[0.25848255, 0.38265556, 0.43080425, 0.4916236...</td>\n",
       "      <td>[0.6991664, 0.6852757, 0.6158221, 0.5509987, 0...</td>\n",
       "      <td>[0.6525567, 0.5810436, 0.50506103, 0.52293926,...</td>\n",
       "      <td>[0.83570427, 1.099236, 1.1419709, 0.8713166, 1...</td>\n",
       "      <td>[0.88643956, 1.2212558, 1.4655069, 1.2240001, ...</td>\n",
       "    </tr>\n",
       "    <tr>\n",
       "      <th>3</th>\n",
       "      <td>2</td>\n",
       "      <td>20230612_101430_standard_comp_to_training_D1_s...</td>\n",
       "      <td>[[980, 1180], [3376, 3575], [5672, 5871], [746...</td>\n",
       "      <td>[[490, 514], [518, 558], [558, 637], [638, 640...</td>\n",
       "      <td>[[33021, 33027], [33502, 33503], [33504, 33506...</td>\n",
       "      <td>20230612_101430_standard_comp_to_training_D1_s...</td>\n",
       "      <td>/scratch/back_up/reward_competition_extention/...</td>\n",
       "      <td>20230612_101430_standard_comp_to_training_D1_s...</td>\n",
       "      <td>1.4</td>\n",
       "      <td>1.4</td>\n",
       "      <td>...</td>\n",
       "      <td>[0.2918245, 0.42672452, 0.4790326, 0.5451061, ...</td>\n",
       "      <td>[0.8516992, 0.83455086, 0.7488094, 0.66878396,...</td>\n",
       "      <td>[0.84312505, 0.75009054, 0.6512414, 0.6745, 0....</td>\n",
       "      <td>[0.86968505, 1.1439322, 1.1884048, 0.9067454, ...</td>\n",
       "      <td>[0.93568933, 1.2858553, 1.5413042, 1.2887255, ...</td>\n",
       "      <td>[0.25848255, 0.38265556, 0.43080425, 0.4916236...</td>\n",
       "      <td>[0.6991664, 0.6852757, 0.6158221, 0.5509987, 0...</td>\n",
       "      <td>[0.6525567, 0.5810436, 0.50506103, 0.52293926,...</td>\n",
       "      <td>[0.83570427, 1.099236, 1.1419709, 0.8713166, 1...</td>\n",
       "      <td>[0.88643956, 1.2212558, 1.4655069, 1.2240001, ...</td>\n",
       "    </tr>\n",
       "    <tr>\n",
       "      <th>4</th>\n",
       "      <td>2</td>\n",
       "      <td>20230612_112630_standard_comp_to_training_D1_s...</td>\n",
       "      <td>[[1125, 1324], [3519, 3720], [5815, 6014], [76...</td>\n",
       "      <td>[[192, 248], [389, 405], [916, 929], [929, 948...</td>\n",
       "      <td>[[33019, 33020], [33246, 33251], [33253, 33255...</td>\n",
       "      <td>20230612_112630_standard_comp_to_training_D1_s...</td>\n",
       "      <td>/scratch/back_up/reward_competition_extention/...</td>\n",
       "      <td>20230612_112630_standard_comp_to_training_D1_s...</td>\n",
       "      <td>1.1</td>\n",
       "      <td>1.1</td>\n",
       "      <td>...</td>\n",
       "      <td>[-0.053806268, 0.20369515, 0.7379145, 1.110715...</td>\n",
       "      <td>[0.08298822, 0.2913416, 0.4467238, 0.264856, -...</td>\n",
       "      <td>[0.050486527, 0.3069581, 0.5492934, 0.4664955,...</td>\n",
       "      <td>[0.029938638, 0.07044386, 0.16202088, 0.227181...</td>\n",
       "      <td>[0.27719176, 0.40500796, 0.35572946, -0.004619...</td>\n",
       "      <td>[-0.048132405, 0.20985727, 0.7450896, 1.118597...</td>\n",
       "      <td>[0.12576193, 0.3377606, 0.4958613, 0.3108116, ...</td>\n",
       "      <td>[0.0827952, 0.3392584, 0.5815858, 0.49879062, ...</td>\n",
       "      <td>[0.040043943, 0.080087885, 0.17062202, 0.23504...</td>\n",
       "      <td>[0.26165336, 0.3850467, 0.33747336, -0.0104066...</td>\n",
       "    </tr>\n",
       "  </tbody>\n",
       "</table>\n",
       "<p>5 rows × 38 columns</p>\n",
       "</div>"
      ],
      "text/plain": [
       "   cohort                                        session_dir  \\\n",
       "0       2  20230612_101430_standard_comp_to_training_D1_s...   \n",
       "1       2  20230612_101430_standard_comp_to_training_D1_s...   \n",
       "2       2  20230612_101430_standard_comp_to_training_D1_s...   \n",
       "3       2  20230612_101430_standard_comp_to_training_D1_s...   \n",
       "4       2  20230612_112630_standard_comp_to_training_D1_s...   \n",
       "\n",
       "                                         tone_frames  \\\n",
       "0  [[980, 1181], [3376, 3575], [5672, 5871], [746...   \n",
       "1  [[980, 1180], [3376, 3575], [5672, 5871], [746...   \n",
       "2  [[980, 1181], [3376, 3575], [5672, 5871], [746...   \n",
       "3  [[980, 1180], [3376, 3575], [5672, 5871], [746...   \n",
       "4  [[1125, 1324], [3519, 3720], [5815, 6014], [76...   \n",
       "\n",
       "                             box_1_port_entry_frames  \\\n",
       "0  [[490, 514], [518, 558], [558, 637], [638, 640...   \n",
       "1  [[490, 514], [518, 558], [558, 637], [638, 640...   \n",
       "2  [[490, 514], [518, 558], [558, 637], [638, 640...   \n",
       "3  [[490, 514], [518, 558], [558, 637], [638, 640...   \n",
       "4  [[192, 248], [389, 405], [916, 929], [929, 948...   \n",
       "\n",
       "                             box_2_port_entry_frames  \\\n",
       "0  [[33137, 33147], [33665, 33666], [33668, 33669...   \n",
       "1  [[33021, 33027], [33502, 33503], [33504, 33506...   \n",
       "2  [[33137, 33147], [33665, 33666], [33668, 33669...   \n",
       "3  [[33021, 33027], [33502, 33503], [33504, 33506...   \n",
       "4  [[33019, 33020], [33246, 33251], [33253, 33255...   \n",
       "\n",
       "                                          video_name  \\\n",
       "0  20230612_101430_standard_comp_to_training_D1_s...   \n",
       "1  20230612_101430_standard_comp_to_training_D1_s...   \n",
       "2  20230612_101430_standard_comp_to_training_D1_s...   \n",
       "3  20230612_101430_standard_comp_to_training_D1_s...   \n",
       "4  20230612_112630_standard_comp_to_training_D1_s...   \n",
       "\n",
       "                                        session_path  \\\n",
       "0  /scratch/back_up/reward_competition_extention/...   \n",
       "1  /scratch/back_up/reward_competition_extention/...   \n",
       "2  /scratch/back_up/reward_competition_extention/...   \n",
       "3  /scratch/back_up/reward_competition_extention/...   \n",
       "4  /scratch/back_up/reward_competition_extention/...   \n",
       "\n",
       "                                           recording current_subject subject  \\\n",
       "0  20230612_101430_standard_comp_to_training_D1_s...             1.3     1.3   \n",
       "1  20230612_101430_standard_comp_to_training_D1_s...             1.3     1.3   \n",
       "2  20230612_101430_standard_comp_to_training_D1_s...             1.4     1.4   \n",
       "3  20230612_101430_standard_comp_to_training_D1_s...             1.4     1.4   \n",
       "4  20230612_112630_standard_comp_to_training_D1_s...             1.1     1.1   \n",
       "\n",
       "   ...                           mPFC_lfp_modified_zscore  \\\n",
       "0  ...  [0.89292616, 0.77410233, 0.9121477, 1.2249339,...   \n",
       "1  ...  [0.89292616, 0.77410233, 0.9121477, 1.2249339,...   \n",
       "2  ...  [0.2918245, 0.42672452, 0.4790326, 0.5451061, ...   \n",
       "3  ...  [0.2918245, 0.42672452, 0.4790326, 0.5451061, ...   \n",
       "4  ...  [-0.053806268, 0.20369515, 0.7379145, 1.110715...   \n",
       "\n",
       "                              MD_lfp_modified_zscore  \\\n",
       "0  [0.47153494, 0.50638753, 0.77905774, 1.0168754...   \n",
       "1  [0.47153494, 0.50638753, 0.77905774, 1.0168754...   \n",
       "2  [0.8516992, 0.83455086, 0.7488094, 0.66878396,...   \n",
       "3  [0.8516992, 0.83455086, 0.7488094, 0.66878396,...   \n",
       "4  [0.08298822, 0.2913416, 0.4467238, 0.264856, -...   \n",
       "\n",
       "                              LH_lfp_modified_zscore  \\\n",
       "0  [0.94851553, 1.0207834, 1.2646874, 1.3971784, ...   \n",
       "1  [0.94851553, 1.0207834, 1.2646874, 1.3971784, ...   \n",
       "2  [0.84312505, 0.75009054, 0.6512414, 0.6745, 0....   \n",
       "3  [0.84312505, 0.75009054, 0.6512414, 0.6745, 0....   \n",
       "4  [0.050486527, 0.3069581, 0.5492934, 0.4664955,...   \n",
       "\n",
       "                             BLA_lfp_modified_zscore  \\\n",
       "0  [0.66973317, 0.6673498, 0.8985389, 1.0558428, ...   \n",
       "1  [0.66973317, 0.6673498, 0.8985389, 1.0558428, ...   \n",
       "2  [0.86968505, 1.1439322, 1.1884048, 0.9067454, ...   \n",
       "3  [0.86968505, 1.1439322, 1.1884048, 0.9067454, ...   \n",
       "4  [0.029938638, 0.07044386, 0.16202088, 0.227181...   \n",
       "\n",
       "                            vHPC_lfp_modified_zscore  \\\n",
       "0  [0.23408099, 0.3398509, 0.5565925, 0.7447243, ...   \n",
       "1  [0.23408099, 0.3398509, 0.5565925, 0.7447243, ...   \n",
       "2  [0.93568933, 1.2858553, 1.5413042, 1.2887255, ...   \n",
       "3  [0.93568933, 1.2858553, 1.5413042, 1.2887255, ...   \n",
       "4  [0.27719176, 0.40500796, 0.35572946, -0.004619...   \n",
       "\n",
       "                                        mPFC_lfp_RMS  \\\n",
       "0  [0.19477782, 0.16769215, 0.19915934, 0.2704583...   \n",
       "1  [0.19477782, 0.16769215, 0.19915934, 0.2704583...   \n",
       "2  [0.25848255, 0.38265556, 0.43080425, 0.4916236...   \n",
       "3  [0.25848255, 0.38265556, 0.43080425, 0.4916236...   \n",
       "4  [-0.048132405, 0.20985727, 0.7450896, 1.118597...   \n",
       "\n",
       "                                          MD_lfp_RMS  \\\n",
       "0  [0.13429306, 0.14396672, 0.21964882, 0.2856573...   \n",
       "1  [0.13429306, 0.14396672, 0.21964882, 0.2856573...   \n",
       "2  [0.6991664, 0.6852757, 0.6158221, 0.5509987, 0...   \n",
       "3  [0.6991664, 0.6852757, 0.6158221, 0.5509987, 0...   \n",
       "4  [0.12576193, 0.3377606, 0.4958613, 0.3108116, ...   \n",
       "\n",
       "                                          LH_lfp_RMS  \\\n",
       "0  [0.22216085, 0.23908737, 0.29621443, 0.3272464...   \n",
       "1  [0.22216085, 0.23908737, 0.29621443, 0.3272464...   \n",
       "2  [0.6525567, 0.5810436, 0.50506103, 0.52293926,...   \n",
       "3  [0.6525567, 0.5810436, 0.50506103, 0.52293926,...   \n",
       "4  [0.0827952, 0.3392584, 0.5815858, 0.49879062, ...   \n",
       "\n",
       "                                         BLA_lfp_RMS  \\\n",
       "0  [0.15934613, 0.15877703, 0.2139791, 0.25153923...   \n",
       "1  [0.15934613, 0.15877703, 0.2139791, 0.25153923...   \n",
       "2  [0.83570427, 1.099236, 1.1419709, 0.8713166, 1...   \n",
       "3  [0.83570427, 1.099236, 1.1419709, 0.8713166, 1...   \n",
       "4  [0.040043943, 0.080087885, 0.17062202, 0.23504...   \n",
       "\n",
       "                                        vHPC_lfp_RMS  \n",
       "0  [0.09461661, 0.13511916, 0.21811618, 0.2901576...  \n",
       "1  [0.09461661, 0.13511916, 0.21811618, 0.2901576...  \n",
       "2  [0.88643956, 1.2212558, 1.4655069, 1.2240001, ...  \n",
       "3  [0.88643956, 1.2212558, 1.4655069, 1.2240001, ...  \n",
       "4  [0.26165336, 0.3850467, 0.33747336, -0.0104066...  \n",
       "\n",
       "[5 rows x 38 columns]"
      ]
     },
     "execution_count": 28,
     "metadata": {},
     "output_type": "execute_result"
    }
   ],
   "source": [
    "LFP_TRACES_DF.head()"
   ]
  },
  {
   "cell_type": "markdown",
   "metadata": {},
   "source": [
    "## Filtering for zscore value"
   ]
  },
  {
   "cell_type": "code",
   "execution_count": 29,
   "metadata": {
    "tags": []
   },
   "outputs": [],
   "source": [
    "zscore_columns = [col for col in LFP_TRACES_DF.columns if \"zscore\" in col]"
   ]
  },
  {
   "cell_type": "code",
   "execution_count": 30,
   "metadata": {
    "tags": []
   },
   "outputs": [
    {
     "data": {
      "text/plain": [
       "['mPFC_lfp_modified_zscore',\n",
       " 'MD_lfp_modified_zscore',\n",
       " 'LH_lfp_modified_zscore',\n",
       " 'BLA_lfp_modified_zscore',\n",
       " 'vHPC_lfp_modified_zscore']"
      ]
     },
     "execution_count": 30,
     "metadata": {},
     "output_type": "execute_result"
    }
   ],
   "source": [
    "zscore_columns"
   ]
  },
  {
   "cell_type": "code",
   "execution_count": 31,
   "metadata": {
    "tags": []
   },
   "outputs": [
    {
     "name": "stdout",
     "output_type": "stream",
     "text": [
      "mPFC_lfp_modified_zscore\n",
      "MD_lfp_modified_zscore\n",
      "LH_lfp_modified_zscore\n",
      "BLA_lfp_modified_zscore\n",
      "vHPC_lfp_modified_zscore\n"
     ]
    }
   ],
   "source": [
    "for col in zscore_columns:\n",
    "    print(col)\n",
    "    brain_region = col.split(\"_\")[0]\n",
    "    updated_column = \"{}_lfp_mask\".format(brain_region)\n",
    "    LFP_TRACES_DF[updated_column] = LFP_TRACES_DF[col].apply(lambda x: np.abs(x) >= zscore_threshold)"
   ]
  },
  {
   "cell_type": "code",
   "execution_count": 32,
   "metadata": {
    "tags": []
   },
   "outputs": [
    {
     "data": {
      "text/plain": [
       "0    [False, False, False, False, False, False, Fal...\n",
       "1    [False, False, False, False, False, False, Fal...\n",
       "2    [False, False, False, False, False, False, Fal...\n",
       "3    [False, False, False, False, False, False, Fal...\n",
       "4    [False, False, False, False, False, False, Fal...\n",
       "Name: vHPC_lfp_mask, dtype: object"
      ]
     },
     "execution_count": 32,
     "metadata": {},
     "output_type": "execute_result"
    }
   ],
   "source": [
    "LFP_TRACES_DF[updated_column].head()"
   ]
  },
  {
   "cell_type": "code",
   "execution_count": 33,
   "metadata": {
    "tags": []
   },
   "outputs": [
    {
     "data": {
      "text/plain": [
       "(3414668,)"
      ]
     },
     "execution_count": 33,
     "metadata": {},
     "output_type": "execute_result"
    }
   ],
   "source": [
    "LFP_TRACES_DF[updated_column].iloc[0].shape"
   ]
  },
  {
   "cell_type": "code",
   "execution_count": 34,
   "metadata": {
    "tags": []
   },
   "outputs": [
    {
     "data": {
      "text/plain": [
       "120878"
      ]
     },
     "execution_count": 34,
     "metadata": {},
     "output_type": "execute_result"
    }
   ],
   "source": [
    "sum(LFP_TRACES_DF[updated_column].iloc[0])"
   ]
  },
  {
   "cell_type": "markdown",
   "metadata": {
    "tags": []
   },
   "source": [
    "- Filtering raw traces by zscore"
   ]
  },
  {
   "cell_type": "code",
   "execution_count": 35,
   "metadata": {
    "tags": []
   },
   "outputs": [
    {
     "data": {
      "text/plain": [
       "0    [0.23408099, 0.3398509, 0.5565925, 0.7447243, ...\n",
       "1    [0.23408099, 0.3398509, 0.5565925, 0.7447243, ...\n",
       "2    [0.93568933, 1.2858553, 1.5413042, 1.2887255, ...\n",
       "3    [0.93568933, 1.2858553, 1.5413042, 1.2887255, ...\n",
       "4    [0.27719176, 0.40500796, 0.35572946, -0.004619...\n",
       "Name: vHPC_lfp_modified_zscore, dtype: object"
      ]
     },
     "execution_count": 35,
     "metadata": {},
     "output_type": "execute_result"
    }
   ],
   "source": [
    "LFP_TRACES_DF[col].head()"
   ]
  },
  {
   "cell_type": "code",
   "execution_count": 36,
   "metadata": {
    "tags": []
   },
   "outputs": [
    {
     "name": "stdout",
     "output_type": "stream",
     "text": [
      "mPFC_lfp_trace\n",
      "MD_lfp_trace\n",
      "LH_lfp_trace\n",
      "BLA_lfp_trace\n",
      "vHPC_lfp_trace\n"
     ]
    }
   ],
   "source": [
    "for col in original_trace_columns:\n",
    "    print(col)\n",
    "    brain_region = col.split(\"_\")[0]\n",
    "    updated_column = \"{}_lfp_trace_filtered\".format(brain_region)    \n",
    "    mask_column = \"{}_lfp_mask\".format(brain_region)\n",
    "    LFP_TRACES_DF[updated_column] = LFP_TRACES_DF.apply(lambda x: update_array_by_mask(x[col], x[mask_column]), axis=1)"
   ]
  },
  {
   "cell_type": "code",
   "execution_count": 37,
   "metadata": {
    "tags": []
   },
   "outputs": [
    {
     "data": {
      "text/plain": [
       "0    [55.574997, 79.365, 128.11499, 170.43, 189.344...\n",
       "1    [55.574997, 79.365, 128.11499, 170.43, 189.344...\n",
       "2    [62.984997, 86.774994, 104.13, 86.96999, 75.65...\n",
       "3    [62.984997, 86.774994, 104.13, 86.96999, 75.65...\n",
       "4    [34.32, 50.504997, 44.265, -1.365, -31.784998,...\n",
       "Name: vHPC_lfp_trace, dtype: object"
      ]
     },
     "execution_count": 37,
     "metadata": {},
     "output_type": "execute_result"
    }
   ],
   "source": [
    "LFP_TRACES_DF[col].head()"
   ]
  },
  {
   "cell_type": "code",
   "execution_count": 38,
   "metadata": {
    "tags": []
   },
   "outputs": [
    {
     "data": {
      "text/plain": [
       "0"
      ]
     },
     "execution_count": 38,
     "metadata": {},
     "output_type": "execute_result"
    }
   ],
   "source": [
    "sum(np.isnan(LFP_TRACES_DF[col].iloc[0]))"
   ]
  },
  {
   "cell_type": "markdown",
   "metadata": {},
   "source": [
    "- Calculating RMS of filtered signal"
   ]
  },
  {
   "cell_type": "code",
   "execution_count": 39,
   "metadata": {
    "tags": []
   },
   "outputs": [],
   "source": [
    "filtered_trace_column = [col for col in LFP_TRACES_DF if \"lfp_trace_filtered\" in col]"
   ]
  },
  {
   "cell_type": "code",
   "execution_count": 40,
   "metadata": {},
   "outputs": [
    {
     "name": "stdout",
     "output_type": "stream",
     "text": [
      "mPFC_lfp_trace_filtered\n",
      "MD_lfp_trace_filtered\n",
      "LH_lfp_trace_filtered\n",
      "BLA_lfp_trace_filtered\n",
      "vHPC_lfp_trace_filtered\n"
     ]
    }
   ],
   "source": [
    "for col in filtered_trace_column:\n",
    "    print(col)\n",
    "    brain_region = col.split(\"_\")[0]\n",
    "    updated_column = \"{}_lfp_RMS_filtered\".format(brain_region)\n",
    "    LFP_TRACES_DF[updated_column] = LFP_TRACES_DF[col].apply(lambda x: (x / np.sqrt(np.nanmean(x**2))).astype(np.float32))"
   ]
  },
  {
   "cell_type": "markdown",
   "metadata": {},
   "source": [
    "- Dropping unnecessary columns"
   ]
  },
  {
   "cell_type": "code",
   "execution_count": 41,
   "metadata": {
    "tags": []
   },
   "outputs": [],
   "source": [
    "LFP_TRACES_DF = LFP_TRACES_DF.drop(columns=[col for col in LFP_TRACES_DF.columns if \"zscore\" in col or \"MAD\" in col], errors=\"ignore\")"
   ]
  },
  {
   "cell_type": "code",
   "execution_count": 42,
   "metadata": {
    "tags": []
   },
   "outputs": [],
   "source": [
    "LFP_TRACES_DF = LFP_TRACES_DF.drop(columns=[col for col in LFP_TRACES_DF.columns if \"RMS\" in col and not \"filtered\" in col], errors=\"ignore\")\n"
   ]
  },
  {
   "cell_type": "code",
   "execution_count": 43,
   "metadata": {
    "tags": []
   },
   "outputs": [
    {
     "data": {
      "text/plain": [
       "Index(['cohort', 'session_dir', 'tone_frames', 'box_1_port_entry_frames',\n",
       "       'box_2_port_entry_frames', 'video_name', 'session_path', 'recording',\n",
       "       'current_subject', 'subject', 'all_subjects', 'first_timestamp',\n",
       "       'last_timestamp', 'video_timestamps', 'tone_timestamps',\n",
       "       'box_1_port_entry_timestamps', 'box_2_port_entry_timestamps',\n",
       "       'lfp_timestamps', 'mPFC_lfp_trace', 'MD_lfp_trace', 'LH_lfp_trace',\n",
       "       'BLA_lfp_trace', 'vHPC_lfp_trace', 'mPFC_lfp_mask', 'MD_lfp_mask',\n",
       "       'LH_lfp_mask', 'BLA_lfp_mask', 'vHPC_lfp_mask',\n",
       "       'mPFC_lfp_trace_filtered', 'MD_lfp_trace_filtered',\n",
       "       'LH_lfp_trace_filtered', 'BLA_lfp_trace_filtered',\n",
       "       'vHPC_lfp_trace_filtered', 'mPFC_lfp_RMS_filtered',\n",
       "       'MD_lfp_RMS_filtered', 'LH_lfp_RMS_filtered', 'BLA_lfp_RMS_filtered',\n",
       "       'vHPC_lfp_RMS_filtered'],\n",
       "      dtype='object')"
      ]
     },
     "execution_count": 43,
     "metadata": {},
     "output_type": "execute_result"
    }
   ],
   "source": [
    "LFP_TRACES_DF.columns"
   ]
  },
  {
   "cell_type": "markdown",
   "metadata": {},
   "source": [
    "- Interpolating filtered RMS"
   ]
  },
  {
   "cell_type": "code",
   "execution_count": 44,
   "metadata": {
    "tags": []
   },
   "outputs": [],
   "source": [
    "filtered_RMS_column = [col for col in LFP_TRACES_DF if \"lfp_RMS_filtered\" in col]"
   ]
  },
  {
   "cell_type": "code",
   "execution_count": 45,
   "metadata": {
    "tags": []
   },
   "outputs": [
    {
     "data": {
      "text/plain": [
       "['mPFC_lfp_RMS_filtered',\n",
       " 'MD_lfp_RMS_filtered',\n",
       " 'LH_lfp_RMS_filtered',\n",
       " 'BLA_lfp_RMS_filtered',\n",
       " 'vHPC_lfp_RMS_filtered']"
      ]
     },
     "execution_count": 45,
     "metadata": {},
     "output_type": "execute_result"
    }
   ],
   "source": [
    "filtered_RMS_column"
   ]
  },
  {
   "cell_type": "code",
   "execution_count": 46,
   "metadata": {
    "tags": []
   },
   "outputs": [
    {
     "name": "stdout",
     "output_type": "stream",
     "text": [
      "mPFC_lfp_RMS_filtered\n",
      "MD_lfp_RMS_filtered\n",
      "LH_lfp_RMS_filtered\n",
      "BLA_lfp_RMS_filtered\n",
      "vHPC_lfp_RMS_filtered\n"
     ]
    }
   ],
   "source": [
    "for col in filtered_RMS_column:\n",
    "    print(col)\n",
    "    brain_region = col.split(\"_\")[0]\n",
    "    updated_column = \"{}_lfp_RMS_interpolated\".format(brain_region)\n",
    "    LFP_TRACES_DF[updated_column] = LFP_TRACES_DF[col].apply(lambda x: interpolate_signal(x))"
   ]
  },
  {
   "cell_type": "code",
   "execution_count": 47,
   "metadata": {},
   "outputs": [],
   "source": [
    "# RMS_columns = [col for col in LFP_TRACES_DF if \"RMS\" in col and \"filtered\" not in col]\n",
    "RMS_columns = [col for col in LFP_TRACES_DF if \"interpolated\" in col]"
   ]
  },
  {
   "cell_type": "code",
   "execution_count": 48,
   "metadata": {
    "tags": []
   },
   "outputs": [
    {
     "data": {
      "text/plain": [
       "['mPFC_lfp_RMS_interpolated',\n",
       " 'MD_lfp_RMS_interpolated',\n",
       " 'LH_lfp_RMS_interpolated',\n",
       " 'BLA_lfp_RMS_interpolated',\n",
       " 'vHPC_lfp_RMS_interpolated']"
      ]
     },
     "execution_count": 48,
     "metadata": {},
     "output_type": "execute_result"
    }
   ],
   "source": [
    "RMS_columns"
   ]
  },
  {
   "cell_type": "code",
   "execution_count": 49,
   "metadata": {
    "tags": []
   },
   "outputs": [
    {
     "name": "stdout",
     "output_type": "stream",
     "text": [
      "mPFC_lfp_RMS_interpolated\n",
      "MD_lfp_RMS_interpolated\n",
      "LH_lfp_RMS_interpolated\n",
      "BLA_lfp_RMS_interpolated\n",
      "vHPC_lfp_RMS_interpolated\n"
     ]
    }
   ],
   "source": [
    "for col in RMS_columns:\n",
    "    print(col)\n",
    "    LFP_TRACES_DF[col] = LFP_TRACES_DF[col].apply(lambda x: x.astype(np.float16))"
   ]
  },
  {
   "cell_type": "code",
   "execution_count": 50,
   "metadata": {},
   "outputs": [
    {
     "data": {
      "text/plain": [
       "0     [0.2411, 0.3442, 0.5557, 0.7393, 0.822, 0.8115...\n",
       "1     [0.2411, 0.3442, 0.5557, 0.7393, 0.822, 0.8115...\n",
       "2     [0.9097, 1.253, 1.504, 1.256, 1.093, 1.31, 1.5...\n",
       "3     [0.9097, 1.253, 1.504, 1.256, 1.093, 1.31, 1.5...\n",
       "4     [0.2634, 0.3875, 0.3396, -0.010475, -0.2439, -...\n",
       "                            ...                        \n",
       "56    [0.221, 0.79, 1.147, 0.713, 0.3667, 0.344, 0.3...\n",
       "57    [0.1772, 0.01003, -0.1527, -0.2029, -0.3599, -...\n",
       "58    [0.1772, 0.01003, -0.1527, -0.2029, -0.3599, -...\n",
       "59    [-1.064, -1.166, -1.131, -0.905, -0.797, -0.73...\n",
       "60    [-1.064, -1.166, -1.131, -0.905, -0.797, -0.73...\n",
       "Name: vHPC_lfp_RMS_interpolated, Length: 61, dtype: object"
      ]
     },
     "execution_count": 50,
     "metadata": {},
     "output_type": "execute_result"
    }
   ],
   "source": [
    "LFP_TRACES_DF[col]"
   ]
  },
  {
   "cell_type": "code",
   "execution_count": 51,
   "metadata": {},
   "outputs": [
    {
     "name": "stdout",
     "output_type": "stream",
     "text": [
      "mPFC_lfp_trace\n",
      "MD_lfp_trace\n",
      "LH_lfp_trace\n",
      "BLA_lfp_trace\n",
      "vHPC_lfp_trace\n"
     ]
    }
   ],
   "source": [
    "for col in original_trace_columns:\n",
    "    print(col)\n",
    "    LFP_TRACES_DF[col] = LFP_TRACES_DF[col].apply(lambda x: x.astype(np.float16))"
   ]
  },
  {
   "cell_type": "code",
   "execution_count": 52,
   "metadata": {
    "tags": []
   },
   "outputs": [
    {
     "data": {
      "text/plain": [
       "0     [55.56, 79.4, 128.1, 170.4, 189.4, 187.0, 182....\n",
       "1     [55.56, 79.4, 128.1, 170.4, 189.4, 187.0, 182....\n",
       "2     [63.0, 86.75, 104.1, 87.0, 75.7, 90.7, 110.56,...\n",
       "3     [63.0, 86.75, 104.1, 87.0, 75.7, 90.7, 110.56,...\n",
       "4     [34.3, 50.5, 44.25, -1.365, -31.78, -28.28, -6...\n",
       "                            ...                        \n",
       "56    [18.92, 67.7, 98.25, 61.03, 31.39, 29.44, 33.3...\n",
       "57    [31.0, 1.755, -26.72, -35.5, -63.0, -95.2, -11...\n",
       "58    [31.0, 1.755, -26.72, -35.5, -63.0, -95.2, -11...\n",
       "59    [-88.3, -96.75, -93.8, -75.06, -66.1, -61.03, ...\n",
       "60    [-88.3, -96.75, -93.8, -75.06, -66.1, -61.03, ...\n",
       "Name: vHPC_lfp_trace, Length: 61, dtype: object"
      ]
     },
     "execution_count": 52,
     "metadata": {},
     "output_type": "execute_result"
    }
   ],
   "source": [
    "LFP_TRACES_DF[col]"
   ]
  },
  {
   "cell_type": "code",
   "execution_count": 53,
   "metadata": {
    "tags": []
   },
   "outputs": [],
   "source": [
    "LFP_TRACES_DF = LFP_TRACES_DF.drop(columns=[col for col in LFP_TRACES_DF.columns if \"filtered\" in col], errors=\"ignore\")"
   ]
  },
  {
   "cell_type": "code",
   "execution_count": 54,
   "metadata": {
    "tags": []
   },
   "outputs": [
    {
     "data": {
      "text/plain": [
       "Index(['cohort', 'session_dir', 'tone_frames', 'box_1_port_entry_frames',\n",
       "       'box_2_port_entry_frames', 'video_name', 'session_path', 'recording',\n",
       "       'current_subject', 'subject', 'all_subjects', 'first_timestamp',\n",
       "       'last_timestamp', 'video_timestamps', 'tone_timestamps',\n",
       "       'box_1_port_entry_timestamps', 'box_2_port_entry_timestamps',\n",
       "       'lfp_timestamps', 'mPFC_lfp_trace', 'MD_lfp_trace', 'LH_lfp_trace',\n",
       "       'BLA_lfp_trace', 'vHPC_lfp_trace', 'mPFC_lfp_mask', 'MD_lfp_mask',\n",
       "       'LH_lfp_mask', 'BLA_lfp_mask', 'vHPC_lfp_mask',\n",
       "       'mPFC_lfp_RMS_interpolated', 'MD_lfp_RMS_interpolated',\n",
       "       'LH_lfp_RMS_interpolated', 'BLA_lfp_RMS_interpolated',\n",
       "       'vHPC_lfp_RMS_interpolated'],\n",
       "      dtype='object')"
      ]
     },
     "execution_count": 54,
     "metadata": {},
     "output_type": "execute_result"
    }
   ],
   "source": [
    "LFP_TRACES_DF.columns"
   ]
  },
  {
   "cell_type": "markdown",
   "metadata": {},
   "source": [
    "# Calculating the power with CWT"
   ]
  },
  {
   "cell_type": "code",
   "execution_count": 57,
   "metadata": {
    "tags": []
   },
   "outputs": [
    {
     "data": {
      "text/plain": [
       "['mPFC_lfp_RMS_interpolated',\n",
       " 'MD_lfp_RMS_interpolated',\n",
       " 'LH_lfp_RMS_interpolated',\n",
       " 'BLA_lfp_RMS_interpolated',\n",
       " 'vHPC_lfp_RMS_interpolated']"
      ]
     },
     "execution_count": 57,
     "metadata": {},
     "output_type": "execute_result"
    }
   ],
   "source": [
    "RMS_columns"
   ]
  },
  {
   "cell_type": "code",
   "execution_count": 117,
   "metadata": {
    "tags": []
   },
   "outputs": [],
   "source": [
    "#Initialize\n",
    "fs = 1000\n",
    "\n",
    "f0 = 0.5 #lowest frequency\n",
    "# f1 = 51.5 #highest frequency\n",
    "# fn = 51 #number of frequencies\n",
    "f1 = 50 #highest frequency\n",
    "fn = 50 #number of frequencies\n",
    "nthreads = 14\n"
   ]
  },
  {
   "cell_type": "code",
   "execution_count": 97,
   "metadata": {
    "tags": []
   },
   "outputs": [],
   "source": [
    "signal = LFP_TRACES_DF[\"LH_lfp_RMS_interpolated\"].iloc[0][:10000]"
   ]
  },
  {
   "cell_type": "markdown",
   "metadata": {
    "tags": []
   },
   "source": [
    "# Calculate CWT without plotting...\n"
   ]
  },
  {
   "cell_type": "code",
   "execution_count": 119,
   "metadata": {
    "tags": []
   },
   "outputs": [],
   "source": [
    "freqs, out = fcwt.cwt(signal, fs, f0, f1, fn, nthreads=nthreads, norm=True)"
   ]
  },
  {
   "cell_type": "code",
   "execution_count": 114,
   "metadata": {
    "tags": []
   },
   "outputs": [
    {
     "data": {
      "text/plain": [
       "['mPFC_lfp_RMS_interpolated',\n",
       " 'MD_lfp_RMS_interpolated',\n",
       " 'LH_lfp_RMS_interpolated',\n",
       " 'BLA_lfp_RMS_interpolated',\n",
       " 'vHPC_lfp_RMS_interpolated']"
      ]
     },
     "execution_count": 114,
     "metadata": {},
     "output_type": "execute_result"
    }
   ],
   "source": [
    "RMS_columns"
   ]
  },
  {
   "cell_type": "code",
   "execution_count": 121,
   "metadata": {
    "tags": []
   },
   "outputs": [
    {
     "name": "stdout",
     "output_type": "stream",
     "text": [
      "mPFC_RMS_interpolated\n"
     ]
    },
    {
     "ename": "KeyboardInterrupt",
     "evalue": "",
     "output_type": "error",
     "traceback": [
      "\u001b[0;31m---------------------------------------------------------------------------\u001b[0m",
      "\u001b[0;31mKeyboardInterrupt\u001b[0m                         Traceback (most recent call last)",
      "Cell \u001b[0;32mIn[121], line 10\u001b[0m\n\u001b[1;32m      7\u001b[0m power_col \u001b[38;5;241m=\u001b[39m \u001b[38;5;124mf\u001b[39m\u001b[38;5;124m\"\u001b[39m\u001b[38;5;132;01m{\u001b[39;00mbrain_region\u001b[38;5;132;01m}\u001b[39;00m\u001b[38;5;124m_power_all_frequencies_all_windows\u001b[39m\u001b[38;5;124m\"\u001b[39m\n\u001b[1;32m      9\u001b[0m \u001b[38;5;28;01mtry\u001b[39;00m:\n\u001b[0;32m---> 10\u001b[0m     LFP_TRACES_DF[power_col] \u001b[38;5;241m=\u001b[39m \u001b[43mLFP_TRACES_DF\u001b[49m\u001b[43m[\u001b[49m\u001b[43mcol\u001b[49m\u001b[43m]\u001b[49m\u001b[38;5;241;43m.\u001b[39;49m\u001b[43mapply\u001b[49m\u001b[43m(\u001b[49m\u001b[38;5;28;43;01mlambda\u001b[39;49;00m\u001b[43m \u001b[49m\u001b[43mx\u001b[49m\u001b[43m:\u001b[49m\u001b[43m \u001b[49m\u001b[43mfcwt\u001b[49m\u001b[38;5;241;43m.\u001b[39;49m\u001b[43mcwt\u001b[49m\u001b[43m(\u001b[49m\u001b[43mx\u001b[49m\u001b[43m,\u001b[49m\u001b[43m \u001b[49m\u001b[43mfs\u001b[49m\u001b[43m,\u001b[49m\u001b[43m \u001b[49m\u001b[43mf0\u001b[49m\u001b[43m,\u001b[49m\u001b[43m \u001b[49m\u001b[43mf1\u001b[49m\u001b[43m,\u001b[49m\u001b[43m \u001b[49m\u001b[43mfn\u001b[49m\u001b[43m,\u001b[49m\u001b[43m \u001b[49m\u001b[43mnthreads\u001b[49m\u001b[38;5;241;43m=\u001b[39;49m\u001b[43mnthreads\u001b[49m\u001b[43m,\u001b[49m\u001b[43m \u001b[49m\u001b[43mnorm\u001b[49m\u001b[38;5;241;43m=\u001b[39;49m\u001b[38;5;28;43;01mTrue\u001b[39;49;00m\u001b[43m)\u001b[49m\u001b[43m[\u001b[49m\u001b[38;5;241;43m1\u001b[39;49m\u001b[43m]\u001b[49m\u001b[43m)\u001b[49m\n\u001b[1;32m     11\u001b[0m     LFP_TRACES_DF[frequencies_col] \u001b[38;5;241m=\u001b[39m LFP_TRACES_DF[col]\u001b[38;5;241m.\u001b[39mapply(\u001b[38;5;28;01mlambda\u001b[39;00m x: fcwt\u001b[38;5;241m.\u001b[39mcwt(x[:\u001b[38;5;241m10000\u001b[39m], fs, f0, f1, fn, nthreads\u001b[38;5;241m=\u001b[39mnthreads, norm\u001b[38;5;241m=\u001b[39m\u001b[38;5;28;01mTrue\u001b[39;00m)[\u001b[38;5;241m0\u001b[39m])\n\u001b[1;32m     13\u001b[0m \u001b[38;5;28;01mexcept\u001b[39;00m \u001b[38;5;167;01mException\u001b[39;00m \u001b[38;5;28;01mas\u001b[39;00m e: \n",
      "File \u001b[0;32m/blue/npadillacoreano/ryoi360/conda/spike_interface_0_100_5/lib/python3.10/site-packages/pandas/core/series.py:4924\u001b[0m, in \u001b[0;36mSeries.apply\u001b[0;34m(self, func, convert_dtype, args, by_row, **kwargs)\u001b[0m\n\u001b[1;32m   4789\u001b[0m \u001b[38;5;28;01mdef\u001b[39;00m \u001b[38;5;21mapply\u001b[39m(\n\u001b[1;32m   4790\u001b[0m     \u001b[38;5;28mself\u001b[39m,\n\u001b[1;32m   4791\u001b[0m     func: AggFuncType,\n\u001b[0;32m   (...)\u001b[0m\n\u001b[1;32m   4796\u001b[0m     \u001b[38;5;241m*\u001b[39m\u001b[38;5;241m*\u001b[39mkwargs,\n\u001b[1;32m   4797\u001b[0m ) \u001b[38;5;241m-\u001b[39m\u001b[38;5;241m>\u001b[39m DataFrame \u001b[38;5;241m|\u001b[39m Series:\n\u001b[1;32m   4798\u001b[0m \u001b[38;5;250m    \u001b[39m\u001b[38;5;124;03m\"\"\"\u001b[39;00m\n\u001b[1;32m   4799\u001b[0m \u001b[38;5;124;03m    Invoke function on values of Series.\u001b[39;00m\n\u001b[1;32m   4800\u001b[0m \n\u001b[0;32m   (...)\u001b[0m\n\u001b[1;32m   4915\u001b[0m \u001b[38;5;124;03m    dtype: float64\u001b[39;00m\n\u001b[1;32m   4916\u001b[0m \u001b[38;5;124;03m    \"\"\"\u001b[39;00m\n\u001b[1;32m   4917\u001b[0m     \u001b[38;5;28;01mreturn\u001b[39;00m \u001b[43mSeriesApply\u001b[49m\u001b[43m(\u001b[49m\n\u001b[1;32m   4918\u001b[0m \u001b[43m        \u001b[49m\u001b[38;5;28;43mself\u001b[39;49m\u001b[43m,\u001b[49m\n\u001b[1;32m   4919\u001b[0m \u001b[43m        \u001b[49m\u001b[43mfunc\u001b[49m\u001b[43m,\u001b[49m\n\u001b[1;32m   4920\u001b[0m \u001b[43m        \u001b[49m\u001b[43mconvert_dtype\u001b[49m\u001b[38;5;241;43m=\u001b[39;49m\u001b[43mconvert_dtype\u001b[49m\u001b[43m,\u001b[49m\n\u001b[1;32m   4921\u001b[0m \u001b[43m        \u001b[49m\u001b[43mby_row\u001b[49m\u001b[38;5;241;43m=\u001b[39;49m\u001b[43mby_row\u001b[49m\u001b[43m,\u001b[49m\n\u001b[1;32m   4922\u001b[0m \u001b[43m        \u001b[49m\u001b[43margs\u001b[49m\u001b[38;5;241;43m=\u001b[39;49m\u001b[43margs\u001b[49m\u001b[43m,\u001b[49m\n\u001b[1;32m   4923\u001b[0m \u001b[43m        \u001b[49m\u001b[43mkwargs\u001b[49m\u001b[38;5;241;43m=\u001b[39;49m\u001b[43mkwargs\u001b[49m\u001b[43m,\u001b[49m\n\u001b[0;32m-> 4924\u001b[0m \u001b[43m    \u001b[49m\u001b[43m)\u001b[49m\u001b[38;5;241;43m.\u001b[39;49m\u001b[43mapply\u001b[49m\u001b[43m(\u001b[49m\u001b[43m)\u001b[49m\n",
      "File \u001b[0;32m/blue/npadillacoreano/ryoi360/conda/spike_interface_0_100_5/lib/python3.10/site-packages/pandas/core/apply.py:1427\u001b[0m, in \u001b[0;36mSeriesApply.apply\u001b[0;34m(self)\u001b[0m\n\u001b[1;32m   1424\u001b[0m     \u001b[38;5;28;01mreturn\u001b[39;00m \u001b[38;5;28mself\u001b[39m\u001b[38;5;241m.\u001b[39mapply_compat()\n\u001b[1;32m   1426\u001b[0m \u001b[38;5;66;03m# self.func is Callable\u001b[39;00m\n\u001b[0;32m-> 1427\u001b[0m \u001b[38;5;28;01mreturn\u001b[39;00m \u001b[38;5;28;43mself\u001b[39;49m\u001b[38;5;241;43m.\u001b[39;49m\u001b[43mapply_standard\u001b[49m\u001b[43m(\u001b[49m\u001b[43m)\u001b[49m\n",
      "File \u001b[0;32m/blue/npadillacoreano/ryoi360/conda/spike_interface_0_100_5/lib/python3.10/site-packages/pandas/core/apply.py:1507\u001b[0m, in \u001b[0;36mSeriesApply.apply_standard\u001b[0;34m(self)\u001b[0m\n\u001b[1;32m   1501\u001b[0m \u001b[38;5;66;03m# row-wise access\u001b[39;00m\n\u001b[1;32m   1502\u001b[0m \u001b[38;5;66;03m# apply doesn't have a `na_action` keyword and for backward compat reasons\u001b[39;00m\n\u001b[1;32m   1503\u001b[0m \u001b[38;5;66;03m# we need to give `na_action=\"ignore\"` for categorical data.\u001b[39;00m\n\u001b[1;32m   1504\u001b[0m \u001b[38;5;66;03m# TODO: remove the `na_action=\"ignore\"` when that default has been changed in\u001b[39;00m\n\u001b[1;32m   1505\u001b[0m \u001b[38;5;66;03m#  Categorical (GH51645).\u001b[39;00m\n\u001b[1;32m   1506\u001b[0m action \u001b[38;5;241m=\u001b[39m \u001b[38;5;124m\"\u001b[39m\u001b[38;5;124mignore\u001b[39m\u001b[38;5;124m\"\u001b[39m \u001b[38;5;28;01mif\u001b[39;00m \u001b[38;5;28misinstance\u001b[39m(obj\u001b[38;5;241m.\u001b[39mdtype, CategoricalDtype) \u001b[38;5;28;01melse\u001b[39;00m \u001b[38;5;28;01mNone\u001b[39;00m\n\u001b[0;32m-> 1507\u001b[0m mapped \u001b[38;5;241m=\u001b[39m \u001b[43mobj\u001b[49m\u001b[38;5;241;43m.\u001b[39;49m\u001b[43m_map_values\u001b[49m\u001b[43m(\u001b[49m\n\u001b[1;32m   1508\u001b[0m \u001b[43m    \u001b[49m\u001b[43mmapper\u001b[49m\u001b[38;5;241;43m=\u001b[39;49m\u001b[43mcurried\u001b[49m\u001b[43m,\u001b[49m\u001b[43m \u001b[49m\u001b[43mna_action\u001b[49m\u001b[38;5;241;43m=\u001b[39;49m\u001b[43maction\u001b[49m\u001b[43m,\u001b[49m\u001b[43m \u001b[49m\u001b[43mconvert\u001b[49m\u001b[38;5;241;43m=\u001b[39;49m\u001b[38;5;28;43mself\u001b[39;49m\u001b[38;5;241;43m.\u001b[39;49m\u001b[43mconvert_dtype\u001b[49m\n\u001b[1;32m   1509\u001b[0m \u001b[43m\u001b[49m\u001b[43m)\u001b[49m\n\u001b[1;32m   1511\u001b[0m \u001b[38;5;28;01mif\u001b[39;00m \u001b[38;5;28mlen\u001b[39m(mapped) \u001b[38;5;129;01mand\u001b[39;00m \u001b[38;5;28misinstance\u001b[39m(mapped[\u001b[38;5;241m0\u001b[39m], ABCSeries):\n\u001b[1;32m   1512\u001b[0m     \u001b[38;5;66;03m# GH#43986 Need to do list(mapped) in order to get treated as nested\u001b[39;00m\n\u001b[1;32m   1513\u001b[0m     \u001b[38;5;66;03m#  See also GH#25959 regarding EA support\u001b[39;00m\n\u001b[1;32m   1514\u001b[0m     \u001b[38;5;28;01mreturn\u001b[39;00m obj\u001b[38;5;241m.\u001b[39m_constructor_expanddim(\u001b[38;5;28mlist\u001b[39m(mapped), index\u001b[38;5;241m=\u001b[39mobj\u001b[38;5;241m.\u001b[39mindex)\n",
      "File \u001b[0;32m/blue/npadillacoreano/ryoi360/conda/spike_interface_0_100_5/lib/python3.10/site-packages/pandas/core/base.py:921\u001b[0m, in \u001b[0;36mIndexOpsMixin._map_values\u001b[0;34m(self, mapper, na_action, convert)\u001b[0m\n\u001b[1;32m    918\u001b[0m \u001b[38;5;28;01mif\u001b[39;00m \u001b[38;5;28misinstance\u001b[39m(arr, ExtensionArray):\n\u001b[1;32m    919\u001b[0m     \u001b[38;5;28;01mreturn\u001b[39;00m arr\u001b[38;5;241m.\u001b[39mmap(mapper, na_action\u001b[38;5;241m=\u001b[39mna_action)\n\u001b[0;32m--> 921\u001b[0m \u001b[38;5;28;01mreturn\u001b[39;00m \u001b[43malgorithms\u001b[49m\u001b[38;5;241;43m.\u001b[39;49m\u001b[43mmap_array\u001b[49m\u001b[43m(\u001b[49m\u001b[43marr\u001b[49m\u001b[43m,\u001b[49m\u001b[43m \u001b[49m\u001b[43mmapper\u001b[49m\u001b[43m,\u001b[49m\u001b[43m \u001b[49m\u001b[43mna_action\u001b[49m\u001b[38;5;241;43m=\u001b[39;49m\u001b[43mna_action\u001b[49m\u001b[43m,\u001b[49m\u001b[43m \u001b[49m\u001b[43mconvert\u001b[49m\u001b[38;5;241;43m=\u001b[39;49m\u001b[43mconvert\u001b[49m\u001b[43m)\u001b[49m\n",
      "File \u001b[0;32m/blue/npadillacoreano/ryoi360/conda/spike_interface_0_100_5/lib/python3.10/site-packages/pandas/core/algorithms.py:1743\u001b[0m, in \u001b[0;36mmap_array\u001b[0;34m(arr, mapper, na_action, convert)\u001b[0m\n\u001b[1;32m   1741\u001b[0m values \u001b[38;5;241m=\u001b[39m arr\u001b[38;5;241m.\u001b[39mastype(\u001b[38;5;28mobject\u001b[39m, copy\u001b[38;5;241m=\u001b[39m\u001b[38;5;28;01mFalse\u001b[39;00m)\n\u001b[1;32m   1742\u001b[0m \u001b[38;5;28;01mif\u001b[39;00m na_action \u001b[38;5;129;01mis\u001b[39;00m \u001b[38;5;28;01mNone\u001b[39;00m:\n\u001b[0;32m-> 1743\u001b[0m     \u001b[38;5;28;01mreturn\u001b[39;00m \u001b[43mlib\u001b[49m\u001b[38;5;241;43m.\u001b[39;49m\u001b[43mmap_infer\u001b[49m\u001b[43m(\u001b[49m\u001b[43mvalues\u001b[49m\u001b[43m,\u001b[49m\u001b[43m \u001b[49m\u001b[43mmapper\u001b[49m\u001b[43m,\u001b[49m\u001b[43m \u001b[49m\u001b[43mconvert\u001b[49m\u001b[38;5;241;43m=\u001b[39;49m\u001b[43mconvert\u001b[49m\u001b[43m)\u001b[49m\n\u001b[1;32m   1744\u001b[0m \u001b[38;5;28;01melse\u001b[39;00m:\n\u001b[1;32m   1745\u001b[0m     \u001b[38;5;28;01mreturn\u001b[39;00m lib\u001b[38;5;241m.\u001b[39mmap_infer_mask(\n\u001b[1;32m   1746\u001b[0m         values, mapper, mask\u001b[38;5;241m=\u001b[39misna(values)\u001b[38;5;241m.\u001b[39mview(np\u001b[38;5;241m.\u001b[39muint8), convert\u001b[38;5;241m=\u001b[39mconvert\n\u001b[1;32m   1747\u001b[0m     )\n",
      "File \u001b[0;32mlib.pyx:2972\u001b[0m, in \u001b[0;36mpandas._libs.lib.map_infer\u001b[0;34m()\u001b[0m\n",
      "Cell \u001b[0;32mIn[121], line 10\u001b[0m, in \u001b[0;36m<lambda>\u001b[0;34m(x)\u001b[0m\n\u001b[1;32m      7\u001b[0m power_col \u001b[38;5;241m=\u001b[39m \u001b[38;5;124mf\u001b[39m\u001b[38;5;124m\"\u001b[39m\u001b[38;5;132;01m{\u001b[39;00mbrain_region\u001b[38;5;132;01m}\u001b[39;00m\u001b[38;5;124m_power_all_frequencies_all_windows\u001b[39m\u001b[38;5;124m\"\u001b[39m\n\u001b[1;32m      9\u001b[0m \u001b[38;5;28;01mtry\u001b[39;00m:\n\u001b[0;32m---> 10\u001b[0m     LFP_TRACES_DF[power_col] \u001b[38;5;241m=\u001b[39m LFP_TRACES_DF[col]\u001b[38;5;241m.\u001b[39mapply(\u001b[38;5;28;01mlambda\u001b[39;00m x: \u001b[43mfcwt\u001b[49m\u001b[38;5;241;43m.\u001b[39;49m\u001b[43mcwt\u001b[49m\u001b[43m(\u001b[49m\u001b[43mx\u001b[49m\u001b[43m,\u001b[49m\u001b[43m \u001b[49m\u001b[43mfs\u001b[49m\u001b[43m,\u001b[49m\u001b[43m \u001b[49m\u001b[43mf0\u001b[49m\u001b[43m,\u001b[49m\u001b[43m \u001b[49m\u001b[43mf1\u001b[49m\u001b[43m,\u001b[49m\u001b[43m \u001b[49m\u001b[43mfn\u001b[49m\u001b[43m,\u001b[49m\u001b[43m \u001b[49m\u001b[43mnthreads\u001b[49m\u001b[38;5;241;43m=\u001b[39;49m\u001b[43mnthreads\u001b[49m\u001b[43m,\u001b[49m\u001b[43m \u001b[49m\u001b[43mnorm\u001b[49m\u001b[38;5;241;43m=\u001b[39;49m\u001b[38;5;28;43;01mTrue\u001b[39;49;00m\u001b[43m)\u001b[49m[\u001b[38;5;241m1\u001b[39m])\n\u001b[1;32m     11\u001b[0m     LFP_TRACES_DF[frequencies_col] \u001b[38;5;241m=\u001b[39m LFP_TRACES_DF[col]\u001b[38;5;241m.\u001b[39mapply(\u001b[38;5;28;01mlambda\u001b[39;00m x: fcwt\u001b[38;5;241m.\u001b[39mcwt(x[:\u001b[38;5;241m10000\u001b[39m], fs, f0, f1, fn, nthreads\u001b[38;5;241m=\u001b[39mnthreads, norm\u001b[38;5;241m=\u001b[39m\u001b[38;5;28;01mTrue\u001b[39;00m)[\u001b[38;5;241m0\u001b[39m])\n\u001b[1;32m     13\u001b[0m \u001b[38;5;28;01mexcept\u001b[39;00m \u001b[38;5;167;01mException\u001b[39;00m \u001b[38;5;28;01mas\u001b[39;00m e: \n",
      "File \u001b[0;32m/blue/npadillacoreano/ryoi360/conda/spike_interface_0_100_5/lib/python3.10/site-packages/fcwt/boilerplate.py:31\u001b[0m, in \u001b[0;36mcwt\u001b[0;34m(input, fs, f0, f1, fn, nthreads, scaling, fast, norm)\u001b[0m\n\u001b[1;32m     28\u001b[0m output \u001b[38;5;241m=\u001b[39m np\u001b[38;5;241m.\u001b[39mzeros((fn,\u001b[38;5;28minput\u001b[39m\u001b[38;5;241m.\u001b[39msize), dtype\u001b[38;5;241m=\u001b[39m\u001b[38;5;124m'\u001b[39m\u001b[38;5;124mcsingle\u001b[39m\u001b[38;5;124m'\u001b[39m)\n\u001b[1;32m     29\u001b[0m freqs \u001b[38;5;241m=\u001b[39m np\u001b[38;5;241m.\u001b[39mzeros((fn), dtype\u001b[38;5;241m=\u001b[39m\u001b[38;5;124m'\u001b[39m\u001b[38;5;124msingle\u001b[39m\u001b[38;5;124m'\u001b[39m)\n\u001b[0;32m---> 31\u001b[0m \u001b[43mfcwt\u001b[49m\u001b[38;5;241;43m.\u001b[39;49m\u001b[43mcwt\u001b[49m\u001b[43m(\u001b[49m\u001b[38;5;28;43minput\u001b[39;49m\u001b[43m,\u001b[49m\u001b[43mscales\u001b[49m\u001b[43m,\u001b[49m\u001b[43moutput\u001b[49m\u001b[43m)\u001b[49m\n\u001b[1;32m     32\u001b[0m scales\u001b[38;5;241m.\u001b[39mgetFrequencies(freqs)\n\u001b[1;32m     34\u001b[0m \u001b[38;5;28;01mreturn\u001b[39;00m freqs, output\n",
      "File \u001b[0;32m/blue/npadillacoreano/ryoi360/conda/spike_interface_0_100_5/lib/python3.10/site-packages/fcwt/fcwt.py:145\u001b[0m, in \u001b[0;36mFCWT.cwt\u001b[0;34m(self, pinput, scales, poutput)\u001b[0m\n\u001b[1;32m    144\u001b[0m \u001b[38;5;28;01mdef\u001b[39;00m \u001b[38;5;21mcwt\u001b[39m(\u001b[38;5;28mself\u001b[39m, pinput, scales, poutput):\n\u001b[0;32m--> 145\u001b[0m     \u001b[38;5;28;01mreturn\u001b[39;00m \u001b[43m_fcwt\u001b[49m\u001b[38;5;241;43m.\u001b[39;49m\u001b[43mFCWT_cwt\u001b[49m\u001b[43m(\u001b[49m\u001b[38;5;28;43mself\u001b[39;49m\u001b[43m,\u001b[49m\u001b[43m \u001b[49m\u001b[43mpinput\u001b[49m\u001b[43m,\u001b[49m\u001b[43m \u001b[49m\u001b[43mscales\u001b[49m\u001b[43m,\u001b[49m\u001b[43m \u001b[49m\u001b[43mpoutput\u001b[49m\u001b[43m)\u001b[49m\n",
      "\u001b[0;31mKeyboardInterrupt\u001b[0m: "
     ]
    }
   ],
   "source": [
    "for col in RMS_columns:\n",
    "    # brain_region = col.split(\"_\")[0]\n",
    "    brain_region = col.replace(\"_lfp\", \"\")\n",
    "    print(brain_region)\n",
    "\n",
    "    frequencies_col = f\"{brain_region}_power_frequencies\"\n",
    "    power_col = f\"{brain_region}_power_all_frequencies_all_windows\"\n",
    "    \n",
    "    try:\n",
    "        LFP_TRACES_DF[power_col] = LFP_TRACES_DF[col].apply(lambda x: fcwt.cwt(x, fs, f0, f1, fn, nthreads=nthreads, norm=True)[1])\n",
    "        LFP_TRACES_DF[frequencies_col] = LFP_TRACES_DF[col].apply(lambda x: fcwt.cwt(x[:10000], fs, f0, f1, fn, nthreads=nthreads, norm=True)[0])\n",
    "   \n",
    "    except Exception as e: \n",
    "        print(e)"
   ]
  },
  {
   "cell_type": "code",
   "execution_count": null,
   "metadata": {
    "tags": []
   },
   "outputs": [],
   "source": [
    "LFP_TRACES_DF.to_pickle(\"./proc/rce2_spectral_CWT.pkl\")"
   ]
  },
  {
   "cell_type": "code",
   "execution_count": null,
   "metadata": {},
   "outputs": [],
   "source": []
  },
  {
   "cell_type": "code",
   "execution_count": 55,
   "metadata": {},
   "outputs": [
    {
     "ename": "ValueError",
     "evalue": "",
     "output_type": "error",
     "traceback": [
      "\u001b[0;31m---------------------------------------------------------------------------\u001b[0m",
      "\u001b[0;31mValueError\u001b[0m                                Traceback (most recent call last)",
      "Cell \u001b[0;32mIn[55], line 1\u001b[0m\n\u001b[0;32m----> 1\u001b[0m \u001b[38;5;28;01mraise\u001b[39;00m \u001b[38;5;167;01mValueError\u001b[39;00m()\n",
      "\u001b[0;31mValueError\u001b[0m: "
     ]
    }
   ],
   "source": [
    "raise ValueError()"
   ]
  },
  {
   "cell_type": "markdown",
   "metadata": {
    "tags": []
   },
   "source": [
    "## Calculating phase of signals"
   ]
  },
  {
   "cell_type": "code",
   "execution_count": null,
   "metadata": {},
   "outputs": [],
   "source": [
    "from scipy.signal import butter, filtfilt, hilbert"
   ]
  },
  {
   "cell_type": "markdown",
   "metadata": {},
   "source": [
    "- Filtering for theta and gamma"
   ]
  },
  {
   "cell_type": "code",
   "execution_count": null,
   "metadata": {},
   "outputs": [],
   "source": [
    "fs = 1000\n",
    "order=4"
   ]
  },
  {
   "cell_type": "code",
   "execution_count": null,
   "metadata": {},
   "outputs": [],
   "source": [
    "freq_band = [4, 12]\n",
    "b, a = butter(order, freq_band, fs=fs, btype='band')"
   ]
  },
  {
   "cell_type": "raw",
   "metadata": {},
   "source": [
    "for col in RMS_columns:\n",
    "    print(col)\n",
    "    brain_region = col.split(\"_\")[0]\n",
    "    updated_column = \"{}_theta_band\".format(brain_region)\n",
    "    LFP_TRACES_DF[updated_column] = LFP_TRACES_DF[col].apply(lambda x: filtfilt(b, a, x, padtype=None).astype(np.float16))"
   ]
  },
  {
   "cell_type": "code",
   "execution_count": null,
   "metadata": {
    "tags": []
   },
   "outputs": [],
   "source": [
    "for col in RMS_columns:\n",
    "    print(col)\n",
    "    brain_region = col.split(\"_\")[0]\n",
    "    updated_column = \"{}_theta_band\".format(brain_region)\n",
    "    LFP_TRACES_DF[updated_column] = LFP_TRACES_DF[col].apply(lambda x: filtfilt(b, a, x, padtype=None).astype(np.float16))"
   ]
  },
  {
   "cell_type": "code",
   "execution_count": null,
   "metadata": {},
   "outputs": [],
   "source": []
  },
  {
   "cell_type": "code",
   "execution_count": null,
   "metadata": {
    "tags": []
   },
   "outputs": [],
   "source": [
    "LFP_TRACES_DF[updated_column]"
   ]
  },
  {
   "cell_type": "code",
   "execution_count": null,
   "metadata": {},
   "outputs": [],
   "source": [
    "freq_band = [30, 50]\n",
    "b, a = butter(order, freq_band, fs=fs, btype='band')"
   ]
  },
  {
   "cell_type": "code",
   "execution_count": null,
   "metadata": {},
   "outputs": [],
   "source": [
    "for col in RMS_columns:\n",
    "    print(col)\n",
    "    brain_region = col.split(\"_\")[0]\n",
    "    updated_column = \"{}_gamma_band\".format(brain_region)\n",
    "    LFP_TRACES_DF[updated_column] = LFP_TRACES_DF[col].apply(lambda x: filtfilt(b, a, x, padtype=None).astype(np.float16))"
   ]
  },
  {
   "cell_type": "markdown",
   "metadata": {},
   "source": [
    "- Calculating the phase"
   ]
  },
  {
   "cell_type": "code",
   "execution_count": null,
   "metadata": {},
   "outputs": [],
   "source": [
    "band_columns = [col for col in LFP_TRACES_DF if \"band\" in col]"
   ]
  },
  {
   "cell_type": "code",
   "execution_count": null,
   "metadata": {},
   "outputs": [],
   "source": [
    "band_columns"
   ]
  },
  {
   "cell_type": "code",
   "execution_count": null,
   "metadata": {},
   "outputs": [],
   "source": [
    "for col in band_columns:\n",
    "    print(col)\n",
    "    brain_region = col.replace(\"_band\", \"\")\n",
    "    updated_column = \"{}_phase\".format(brain_region)\n",
    "    print(updated_column)\n",
    "    LFP_TRACES_DF[updated_column] = LFP_TRACES_DF[col].apply(lambda x: np.angle(hilbert(x), deg=False).astype(np.float16))"
   ]
  },
  {
   "cell_type": "code",
   "execution_count": null,
   "metadata": {},
   "outputs": [],
   "source": [
    "LFP_TRACES_DF.columns"
   ]
  },
  {
   "cell_type": "markdown",
   "metadata": {},
   "source": [
    "# Getting all the pairs"
   ]
  },
  {
   "cell_type": "code",
   "execution_count": null,
   "metadata": {
    "tags": []
   },
   "outputs": [],
   "source": [
    "input_columns = [col for col in LFP_TRACES_DF.columns if \"interpolated\" in col]"
   ]
  },
  {
   "cell_type": "code",
   "execution_count": null,
   "metadata": {
    "tags": []
   },
   "outputs": [],
   "source": [
    "input_columns"
   ]
  },
  {
   "cell_type": "code",
   "execution_count": null,
   "metadata": {
    "tags": []
   },
   "outputs": [],
   "source": [
    "all_suffixes = set([\"_\".join(col.split(\"_\")[1:]) for col in input_columns])"
   ]
  },
  {
   "cell_type": "code",
   "execution_count": null,
   "metadata": {
    "tags": []
   },
   "outputs": [],
   "source": [
    "all_suffixes"
   ]
  },
  {
   "cell_type": "code",
   "execution_count": null,
   "metadata": {
    "tags": []
   },
   "outputs": [],
   "source": [
    "brain_region_pairs = generate_pairs(sorted(list(set([col.split(\"lfp\")[0].strip(\"_\") for col in sorted(input_columns)]))))"
   ]
  },
  {
   "cell_type": "code",
   "execution_count": null,
   "metadata": {
    "tags": []
   },
   "outputs": [],
   "source": [
    "brain_region_pairs"
   ]
  },
  {
   "cell_type": "code",
   "execution_count": null,
   "metadata": {
    "tags": []
   },
   "outputs": [],
   "source": [
    "for first_region, second_region in brain_region_pairs:\n",
    "    for suffix in all_suffixes:\n",
    "        region_1 = \"_\".join([first_region, suffix])\n",
    "        region_2 = \"_\".join([second_region, suffix])\n",
    "        print(region_1)\n",
    "        print(region_2)"
   ]
  },
  {
   "cell_type": "markdown",
   "metadata": {},
   "source": [
    "# Calculate Granger's"
   ]
  },
  {
   "cell_type": "code",
   "execution_count": null,
   "metadata": {},
   "outputs": [],
   "source": [
    "for first_region, second_region in brain_region_pairs:\n",
    "    for suffix in all_suffixes:\n",
    "        suffix_for_name = suffix.replace(\"lfp\", \"\").strip(\"_\")\n",
    "        region_1 = \"_\".join([first_region, suffix])\n",
    "        region_2 = \"_\".join([second_region, suffix])\n",
    "         # Define base name for pair\n",
    "        pair_base_name = f\"{region_1.split('_')[0]}_{region_2.split('_')[0]}_{suffix_for_name}\"\n",
    "        print(pair_base_name)"
   ]
  },
  {
   "cell_type": "code",
   "execution_count": null,
   "metadata": {},
   "outputs": [],
   "source": [
    "for first_region, second_region in brain_region_pairs:\n",
    "    for suffix in all_suffixes:\n",
    "        region_1 = \"_\".join([first_region, suffix])\n",
    "        region_2 = \"_\".join([second_region, suffix])\n",
    "        region_1_base_name = region_1.split('_')[0]\n",
    "        region_2_base_name = region_2.split('_')[0]\n",
    "        pair_base_name = f\"{region_1_base_name}_{region_2_base_name}\"\n",
    "        print(pair_base_name)\n",
    "\n",
    "        try:\n",
    "            # Define column names\n",
    "            multitaper_col = f\"{pair_base_name}_granger_multitaper\"\n",
    "            connectivity_col = f\"{pair_base_name}_granger_connectivity\"\n",
    "            frequencies_col = f\"{pair_base_name}_granger_frequencies\"\n",
    "            granger_1_2_col = f\"{region_1_base_name}_{region_2_base_name}_granger_all_frequencies_all_windows\"\n",
    "            granger_2_1_col = f\"{region_2_base_name}_{region_1_base_name}_granger_all_frequencies_all_windows\"\n",
    "\n",
    "            # Apply Multitaper function\n",
    "            LFP_TRACES_DF[multitaper_col] = LFP_TRACES_DF.apply(\n",
    "                lambda x: Multitaper(\n",
    "                    time_series=np.array([x[region_1], x[region_2]]).T, \n",
    "                    sampling_frequency=RESAMPLE_RATE, \n",
    "                    time_halfbandwidth_product=TIME_HALFBANDWIDTH_PRODUCT, \n",
    "                    time_window_step=TIME_WINDOW_STEP, \n",
    "                    time_window_duration=TIME_WINDOW_DURATION\n",
    "                ), \n",
    "                axis=1\n",
    "            )\n",
    "\n",
    "            # Apply Connectivity function\n",
    "            LFP_TRACES_DF[connectivity_col] = LFP_TRACES_DF[multitaper_col].apply(\n",
    "                lambda x: Connectivity.from_multitaper(x)\n",
    "            )\n",
    "\n",
    "            # Apply frequencies and granger functions\n",
    "            LFP_TRACES_DF[frequencies_col] = LFP_TRACES_DF[connectivity_col].apply(\n",
    "                lambda x: x.frequencies[:62]\n",
    "            )\n",
    "\n",
    "            LFP_TRACES_DF[granger_1_2_col] = LFP_TRACES_DF[connectivity_col].apply(\n",
    "                lambda x: x.pairwise_spectral_granger_prediction()[:,:,0,1]\n",
    "            )\n",
    "\n",
    "            LFP_TRACES_DF[granger_2_1_col] = LFP_TRACES_DF[connectivity_col].apply(\n",
    "                lambda x: x.pairwise_spectral_granger_prediction()[:,:,1,0]\n",
    "            )\n",
    "\n",
    "            LFP_TRACES_DF[granger_1_2_col] = LFP_TRACES_DF[granger_1_2_col].apply(lambda x: x.astype(np.float32)[:, :62])\n",
    "            LFP_TRACES_DF[granger_2_1_col] = LFP_TRACES_DF[granger_2_1_col].apply(lambda x: x.astype(np.float32)[:, :62])\n",
    "\n",
    "        except Exception as e: \n",
    "            print(e)\n",
    "\n",
    "        # Drop temporary columns\n",
    "        LFP_TRACES_DF = LFP_TRACES_DF.drop(columns=[multitaper_col, connectivity_col], errors=\"ignore\")\n",
    "        \n"
   ]
  },
  {
   "cell_type": "raw",
   "metadata": {
    "tags": []
   },
   "source": [
    "for region_1, region_2 in brain_region_pairs:\n",
    "    # Define base name for pair\n",
    "    region_1_base_name = region_1.split('_')[0]\n",
    "    region_2_base_name = region_2.split('_')[0]\n",
    "\n",
    "    pair_base_name = f\"{region_1_base_name}_{region_2_base_name}\"\n",
    "    print(pair_base_name)\n",
    "\n",
    "    try:\n",
    "        # Define column names\n",
    "        multitaper_col = f\"{pair_base_name}_granger_multitaper\"\n",
    "        connectivity_col = f\"{pair_base_name}_granger_connectivity\"\n",
    "        frequencies_col = f\"{pair_base_name}_granger_frequencies\"\n",
    "        granger_1_2_col = f\"{region_1_base_name}_{region_2_base_name}_granger_all_frequencies_all_windows\"\n",
    "        granger_2_1_col = f\"{region_2_base_name}_{region_1_base_name}_granger_all_frequencies_all_windows\"\n",
    "\n",
    "        # Apply Multitaper function\n",
    "        LFP_TRACES_DF[multitaper_col] = LFP_TRACES_DF.apply(\n",
    "            lambda x: Multitaper(\n",
    "                time_series=np.array([x[region_1], x[region_2]]).T, \n",
    "                sampling_frequency=RESAMPLE_RATE, \n",
    "                time_halfbandwidth_product=TIME_HALFBANDWIDTH_PRODUCT, \n",
    "                time_window_step=TIME_WINDOW_STEP, \n",
    "                time_window_duration=TIME_WINDOW_DURATION\n",
    "            ), \n",
    "            axis=1\n",
    "        )\n",
    "    \n",
    "        # Apply Connectivity function\n",
    "        LFP_TRACES_DF[connectivity_col] = LFP_TRACES_DF[multitaper_col].apply(\n",
    "            lambda x: Connectivity.from_multitaper(x)\n",
    "        )\n",
    "\n",
    "        # Apply frequencies and granger functions\n",
    "        LFP_TRACES_DF[frequencies_col] = LFP_TRACES_DF[connectivity_col].apply(\n",
    "            lambda x: x.frequencies\n",
    "        )\n",
    "        \n",
    "        LFP_TRACES_DF[granger_1_2_col] = LFP_TRACES_DF[connectivity_col].apply(\n",
    "            lambda x: x.pairwise_spectral_granger_prediction()[:,:,0,1]\n",
    "        )\n",
    "\n",
    "        LFP_TRACES_DF[granger_2_1_col] = LFP_TRACES_DF[connectivity_col].apply(\n",
    "            lambda x: x.pairwise_spectral_granger_prediction()[:,:,1,0]\n",
    "        )\n",
    "\n",
    "        LFP_TRACES_DF[granger_1_2_col] = LFP_TRACES_DF[granger_1_2_col].apply(lambda x: x.astype(np.float16))\n",
    "        LFP_TRACES_DF[granger_2_1_col] = LFP_TRACES_DF[granger_2_1_col].apply(lambda x: x.astype(np.float16))\n",
    "        \n",
    "    except Exception as e: \n",
    "        print(e)\n",
    "\n",
    "    # Drop temporary columns\n",
    "    LFP_TRACES_DF = LFP_TRACES_DF.drop(columns=[multitaper_col, connectivity_col], errors=\"ignore\")"
   ]
  },
  {
   "cell_type": "code",
   "execution_count": null,
   "metadata": {},
   "outputs": [],
   "source": []
  },
  {
   "cell_type": "markdown",
   "metadata": {},
   "source": [
    "- Getting the timestamps of the granger"
   ]
  },
  {
   "cell_type": "code",
   "execution_count": null,
   "metadata": {
    "tags": []
   },
   "outputs": [],
   "source": [
    "LFP_TRACES_DF[\"granger_timestamps\"] = LFP_TRACES_DF[\"lfp_timestamps\"].apply(lambda x: x[(RESAMPLE_RATE//2):(-RESAMPLE_RATE//2):(RESAMPLE_RATE//2)])\n"
   ]
  },
  {
   "cell_type": "markdown",
   "metadata": {},
   "source": [
    "- Making sure that the timestamps for granger makes sense with shape and values"
   ]
  },
  {
   "cell_type": "code",
   "execution_count": null,
   "metadata": {
    "tags": []
   },
   "outputs": [],
   "source": [
    "LFP_TRACES_DF[\"granger_timestamps\"].head().apply(lambda x: x.shape)"
   ]
  },
  {
   "cell_type": "code",
   "execution_count": null,
   "metadata": {
    "tags": []
   },
   "outputs": [],
   "source": [
    "LFP_TRACES_DF[[col for col in LFP_TRACES_DF.columns if \"granger_all_frequencies_all_windows\" in col][0]].iloc[0].shape"
   ]
  },
  {
   "cell_type": "code",
   "execution_count": null,
   "metadata": {
    "tags": []
   },
   "outputs": [],
   "source": [
    "LFP_TRACES_DF[[col for col in LFP_TRACES_DF.columns if \"lfp_timestamps\" in col][0]].iloc[0]"
   ]
  },
  {
   "cell_type": "code",
   "execution_count": null,
   "metadata": {
    "tags": []
   },
   "outputs": [],
   "source": [
    "LFP_TRACES_DF[[col for col in LFP_TRACES_DF.columns if \"granger_timestamps\" in col][0]].iloc[0]"
   ]
  },
  {
   "cell_type": "markdown",
   "metadata": {},
   "source": [
    "- Checking if the right frequencies are being used"
   ]
  },
  {
   "cell_type": "code",
   "execution_count": null,
   "metadata": {
    "tags": []
   },
   "outputs": [],
   "source": [
    "LFP_TRACES_DF[[col for col in LFP_TRACES_DF.columns if \"granger_frequencies\" in col]].head()"
   ]
  },
  {
   "cell_type": "code",
   "execution_count": null,
   "metadata": {},
   "outputs": [],
   "source": [
    "LFP_TRACES_DF[\"granger_calculation_frequencies\"] = LFP_TRACES_DF[[col for col in LFP_TRACES_DF.columns if \"granger_frequencies\" in col][0]].copy()"
   ]
  },
  {
   "cell_type": "markdown",
   "metadata": {},
   "source": [
    "- Dropping unnecessary columns"
   ]
  },
  {
   "cell_type": "code",
   "execution_count": null,
   "metadata": {
    "tags": []
   },
   "outputs": [],
   "source": [
    "LFP_TRACES_DF = LFP_TRACES_DF.drop(columns=[col for col in LFP_TRACES_DF.columns if \"granger_frequencies\" in col], errors=\"ignore\")"
   ]
  },
  {
   "cell_type": "code",
   "execution_count": null,
   "metadata": {
    "tags": []
   },
   "outputs": [],
   "source": [
    "LFP_TRACES_DF.head()"
   ]
  },
  {
   "cell_type": "code",
   "execution_count": null,
   "metadata": {
    "tags": []
   },
   "outputs": [],
   "source": [
    "LFP_TRACES_DF.to_pickle(\"./proc/rce2_spectral_granger.pkl\")"
   ]
  },
  {
   "cell_type": "markdown",
   "metadata": {},
   "source": [
    "## Coherece Calculation"
   ]
  },
  {
   "cell_type": "markdown",
   "metadata": {},
   "source": [
    "- Calculating the coherence"
   ]
  },
  {
   "cell_type": "code",
   "execution_count": null,
   "metadata": {},
   "outputs": [],
   "source": [
    "for first_region, second_region in brain_region_pairs:\n",
    "    for suffix in all_suffixes:\n",
    "        suffix_for_name = suffix.replace(\"lfp\", \"\").strip(\"_\")\n",
    "        region_1 = \"_\".join([first_region, suffix])\n",
    "        region_2 = \"_\".join([second_region, suffix])\n",
    "         # Define base name for pair\n",
    "        pair_base_name = f\"{region_1.split('_')[0]}_{region_2.split('_')[0]}_{suffix_for_name}\"\n",
    "        print(region_1)\n",
    "        print(region_2)\n",
    "        print(pair_base_name)\n",
    "\n",
    "        try:\n",
    "            # Define column names\n",
    "            multitaper_col = f\"{pair_base_name}_coherence_multitaper\"\n",
    "            connectivity_col = f\"{pair_base_name}_coherence_connectivity\"\n",
    "            frequencies_col = f\"{pair_base_name}_coherence_frequencies\"\n",
    "            coherence_col = f\"{pair_base_name}_coherence_all_frequencies_all_windows\"\n",
    "\n",
    "            # Apply Multitaper function\n",
    "            LFP_TRACES_DF[multitaper_col] = LFP_TRACES_DF.apply(\n",
    "                lambda x: Multitaper(\n",
    "                    time_series=np.array([x[region_1], x[region_2]]).T, \n",
    "                    sampling_frequency=RESAMPLE_RATE, \n",
    "                    time_halfbandwidth_product=TIME_HALFBANDWIDTH_PRODUCT, \n",
    "                    time_window_step=TIME_WINDOW_STEP, \n",
    "                    time_window_duration=TIME_WINDOW_DURATION\n",
    "                ), \n",
    "                axis=1\n",
    "            )\n",
    "\n",
    "            # Apply Connectivity function\n",
    "            LFP_TRACES_DF[connectivity_col] = LFP_TRACES_DF[multitaper_col].apply(\n",
    "                lambda x: Connectivity.from_multitaper(x)\n",
    "            )\n",
    "\n",
    "            # Apply frequencies and coherence functions\n",
    "            LFP_TRACES_DF[frequencies_col] = LFP_TRACES_DF[connectivity_col].apply(\n",
    "                lambda x: x.frequencies[:62]\n",
    "            )\n",
    "            LFP_TRACES_DF[coherence_col] = LFP_TRACES_DF[connectivity_col].apply(\n",
    "                lambda x: x.coherence_magnitude()[:,:,0,1]\n",
    "            )\n",
    "\n",
    "            LFP_TRACES_DF[coherence_col] = LFP_TRACES_DF[coherence_col].apply(lambda x: x[:,:62].astype(np.float32))\n",
    "\n",
    "        except Exception as e: \n",
    "            print(e)\n",
    "\n",
    "        # Drop temporary columns\n",
    "        LFP_TRACES_DF = LFP_TRACES_DF.drop(columns=[multitaper_col, connectivity_col], errors=\"ignore\")"
   ]
  },
  {
   "cell_type": "raw",
   "metadata": {
    "tags": []
   },
   "source": [
    "for region_1, region_2 in brain_region_pairs:\n",
    "    # Define base name for pair\n",
    "    pair_base_name = f\"{region_1.split('_')[0]}_{region_2.split('_')[0]}\"\n",
    "    print(pair_base_name)\n",
    "\n",
    "    try:\n",
    "        # Define column names\n",
    "        multitaper_col = f\"{pair_base_name}_coherence_multitaper\"\n",
    "        connectivity_col = f\"{pair_base_name}_coherence_connectivity\"\n",
    "        frequencies_col = f\"{pair_base_name}_coherence_frequencies\"\n",
    "        coherence_col = f\"{pair_base_name}_coherence_all_frequencies_all_windows\"\n",
    "\n",
    "        # Apply Multitaper function\n",
    "        LFP_TRACES_DF[multitaper_col] = LFP_TRACES_DF.apply(\n",
    "            lambda x: Multitaper(\n",
    "                time_series=np.array([x[region_1], x[region_2]]).T, \n",
    "                sampling_frequency=RESAMPLE_RATE, \n",
    "                time_halfbandwidth_product=TIME_HALFBANDWIDTH_PRODUCT, \n",
    "                time_window_step=TIME_WINDOW_STEP, \n",
    "                time_window_duration=TIME_WINDOW_DURATION\n",
    "            ), \n",
    "            axis=1\n",
    "        )\n",
    "\n",
    "        # Apply Connectivity function\n",
    "        LFP_TRACES_DF[connectivity_col] = LFP_TRACES_DF[multitaper_col].apply(\n",
    "            lambda x: Connectivity.from_multitaper(x)\n",
    "        )\n",
    "\n",
    "        # Apply frequencies and coherence functions\n",
    "        LFP_TRACES_DF[frequencies_col] = LFP_TRACES_DF[connectivity_col].apply(\n",
    "            lambda x: x.frequencies\n",
    "        )\n",
    "        LFP_TRACES_DF[coherence_col] = LFP_TRACES_DF[connectivity_col].apply(\n",
    "            lambda x: x.coherence_magnitude()[:,:,0,1]\n",
    "        )\n",
    "\n",
    "        LFP_TRACES_DF[coherence_col] = LFP_TRACES_DF[coherence_col].apply(lambda x: x.astype(np.float16))\n",
    "\n",
    "    except Exception as e: \n",
    "        print(e)\n",
    "\n",
    "    # Drop temporary columns\n",
    "    LFP_TRACES_DF = LFP_TRACES_DF.drop(columns=[multitaper_col, connectivity_col], errors=\"ignore\")"
   ]
  },
  {
   "cell_type": "markdown",
   "metadata": {},
   "source": [
    "- Getting the timestamps of the coherence"
   ]
  },
  {
   "cell_type": "code",
   "execution_count": null,
   "metadata": {
    "tags": []
   },
   "outputs": [],
   "source": [
    "LFP_TRACES_DF[\"coherence_timestamps\"] = LFP_TRACES_DF[\"lfp_timestamps\"].apply(lambda x: x[(RESAMPLE_RATE//2):(-RESAMPLE_RATE//2):(RESAMPLE_RATE//2)])\n"
   ]
  },
  {
   "cell_type": "markdown",
   "metadata": {},
   "source": [
    "- Making sure that the timestamps for coherence makes sense with shape and values"
   ]
  },
  {
   "cell_type": "code",
   "execution_count": null,
   "metadata": {
    "tags": []
   },
   "outputs": [],
   "source": [
    "LFP_TRACES_DF[\"coherence_timestamps\"].head().apply(lambda x: x.shape)"
   ]
  },
  {
   "cell_type": "code",
   "execution_count": null,
   "metadata": {
    "tags": []
   },
   "outputs": [],
   "source": [
    "LFP_TRACES_DF[[col for col in LFP_TRACES_DF.columns if \"coherence_all_frequencies_all_windows\" in col][0]].iloc[0].shape"
   ]
  },
  {
   "cell_type": "code",
   "execution_count": null,
   "metadata": {
    "tags": []
   },
   "outputs": [],
   "source": [
    "LFP_TRACES_DF[[col for col in LFP_TRACES_DF.columns if \"lfp_timestamps\" in col][0]].iloc[0]"
   ]
  },
  {
   "cell_type": "code",
   "execution_count": null,
   "metadata": {
    "tags": []
   },
   "outputs": [],
   "source": [
    "LFP_TRACES_DF[[col for col in LFP_TRACES_DF.columns if \"coherence_timestamps\" in col][0]].iloc[0]"
   ]
  },
  {
   "cell_type": "markdown",
   "metadata": {},
   "source": [
    "- Checking if the right frequencies are being used"
   ]
  },
  {
   "cell_type": "code",
   "execution_count": null,
   "metadata": {
    "tags": []
   },
   "outputs": [],
   "source": [
    "LFP_TRACES_DF[[col for col in LFP_TRACES_DF.columns if \"coherence_frequencies\" in col]].head()"
   ]
  },
  {
   "cell_type": "code",
   "execution_count": null,
   "metadata": {},
   "outputs": [],
   "source": [
    "LFP_TRACES_DF[\"coherence_calculation_frequencies\"] = LFP_TRACES_DF[[col for col in LFP_TRACES_DF.columns if \"coherence_frequencies\" in col][0]].copy()"
   ]
  },
  {
   "cell_type": "markdown",
   "metadata": {},
   "source": [
    "- Dropping unnecessary columns"
   ]
  },
  {
   "cell_type": "code",
   "execution_count": null,
   "metadata": {
    "tags": []
   },
   "outputs": [],
   "source": [
    "LFP_TRACES_DF = LFP_TRACES_DF.drop(columns=[col for col in LFP_TRACES_DF.columns if \"coherence_frequencies\" in col], errors=\"ignore\")"
   ]
  },
  {
   "cell_type": "code",
   "execution_count": null,
   "metadata": {
    "tags": []
   },
   "outputs": [],
   "source": [
    "LFP_TRACES_DF.head()"
   ]
  },
  {
   "cell_type": "code",
   "execution_count": null,
   "metadata": {
    "tags": []
   },
   "outputs": [],
   "source": [
    "LFP_TRACES_DF.to_pickle(\"./proc/rce2_spectral_coherence.pkl\")"
   ]
  },
  {
   "cell_type": "code",
   "execution_count": null,
   "metadata": {},
   "outputs": [],
   "source": [
    "raise ValueError()"
   ]
  },
  {
   "cell_type": "markdown",
   "metadata": {
    "tags": []
   },
   "source": [
    "# Power Calcuation"
   ]
  },
  {
   "cell_type": "markdown",
   "metadata": {},
   "source": [
    "- Getting the column name of all the traces"
   ]
  },
  {
   "cell_type": "code",
   "execution_count": null,
   "metadata": {
    "tags": []
   },
   "outputs": [],
   "source": [
    "input_columns = [col for col in LFP_TRACES_DF.columns if \"trace\" in col or \"RMS\" in col]"
   ]
  },
  {
   "cell_type": "code",
   "execution_count": null,
   "metadata": {
    "tags": []
   },
   "outputs": [],
   "source": [
    "input_columns"
   ]
  },
  {
   "cell_type": "code",
   "execution_count": null,
   "metadata": {
    "tags": []
   },
   "outputs": [],
   "source": [
    "for col in input_columns:\n",
    "    print(col)\n",
    "    LFP_TRACES_DF[col] = LFP_TRACES_DF[col].apply(lambda x: x.astype(np.float16))"
   ]
  },
  {
   "cell_type": "markdown",
   "metadata": {},
   "source": [
    "- Calcuating the power at each frequency band"
   ]
  },
  {
   "cell_type": "code",
   "execution_count": null,
   "metadata": {},
   "outputs": [],
   "source": [
    "LFP_TRACES_DF[col].iloc[0]"
   ]
  },
  {
   "cell_type": "code",
   "execution_count": null,
   "metadata": {
    "tags": []
   },
   "outputs": [],
   "source": [
    "for col in input_columns:\n",
    "    # brain_region = col.split(\"_\")[0]\n",
    "    brain_region = col.replace(\"_lfp\", \"\")\n",
    "    print(brain_region)\n",
    "\n",
    "    # Define column names\n",
    "    multitaper_col = f\"{brain_region}_power_multitaper\"\n",
    "    connectivity_col = f\"{brain_region}_power_connectivity\"\n",
    "    frequencies_col = f\"{brain_region}_power_frequencies\"\n",
    "    power_col = f\"{brain_region}_power_all_frequencies_all_windows\"\n",
    "    \n",
    "    try:\n",
    "        # Apply Multitaper function to the lfp_trace column\n",
    "        LFP_TRACES_DF[multitaper_col] = LFP_TRACES_DF[col].apply(\n",
    "            lambda x: Multitaper(\n",
    "                time_series=x, \n",
    "                sampling_frequency=RESAMPLE_RATE, \n",
    "                time_halfbandwidth_product=TIME_HALFBANDWIDTH_PRODUCT,\n",
    "                time_window_duration=TIME_WINDOW_DURATION, \n",
    "                time_window_step=TIME_WINDOW_STEP\n",
    "            )\n",
    "        )\n",
    "\n",
    "        # Apply Connectivity function to the multitaper column\n",
    "        LFP_TRACES_DF[connectivity_col] = LFP_TRACES_DF[multitaper_col].apply(\n",
    "            lambda x: Connectivity.from_multitaper(x)\n",
    "        )\n",
    "\n",
    "        # Apply frequencies and power functions to the connectivity column\n",
    "        LFP_TRACES_DF[frequencies_col] = LFP_TRACES_DF[connectivity_col].apply(\n",
    "            lambda x: x.frequencies\n",
    "        )\n",
    "        LFP_TRACES_DF[power_col] = LFP_TRACES_DF[connectivity_col].apply(\n",
    "            lambda x: x.power().squeeze()\n",
    "        )\n",
    "        \n",
    "        LFP_TRACES_DF[power_col] = LFP_TRACES_DF[power_col].apply(lambda x: x.astype(np.float16))\n",
    "            \n",
    "        # Removing unnecessary columns\n",
    "        LFP_TRACES_DF = LFP_TRACES_DF.drop(columns=[multitaper_col, connectivity_col], errors=\"ignore\")\n",
    "    \n",
    "    except Exception as e: \n",
    "        print(e)"
   ]
  },
  {
   "cell_type": "markdown",
   "metadata": {},
   "source": [
    "- Getting the timestamps of the power"
   ]
  },
  {
   "cell_type": "code",
   "execution_count": null,
   "metadata": {
    "tags": []
   },
   "outputs": [],
   "source": [
    "LFP_TRACES_DF[\"power_timestamps\"] = LFP_TRACES_DF[\"lfp_timestamps\"].apply(lambda x: x[(RESAMPLE_RATE//2):(-RESAMPLE_RATE//2):(RESAMPLE_RATE//2)])\n",
    "# .iloc[0][500:-500:500].shape"
   ]
  },
  {
   "cell_type": "markdown",
   "metadata": {},
   "source": [
    "- Making sure that the timestamps for power makes sense with shape and values"
   ]
  },
  {
   "cell_type": "code",
   "execution_count": null,
   "metadata": {
    "tags": []
   },
   "outputs": [],
   "source": [
    "LFP_TRACES_DF[\"power_timestamps\"].head().apply(lambda x: x.shape)"
   ]
  },
  {
   "cell_type": "code",
   "execution_count": null,
   "metadata": {
    "tags": []
   },
   "outputs": [],
   "source": [
    "LFP_TRACES_DF[[col for col in LFP_TRACES_DF.columns if \"power_all_frequencies_all_windows\" in col][0]].iloc[0].shape"
   ]
  },
  {
   "cell_type": "code",
   "execution_count": null,
   "metadata": {
    "tags": []
   },
   "outputs": [],
   "source": [
    "LFP_TRACES_DF[[col for col in LFP_TRACES_DF.columns if \"lfp_timestamps\" in col][0]].iloc[0]"
   ]
  },
  {
   "cell_type": "code",
   "execution_count": null,
   "metadata": {
    "tags": []
   },
   "outputs": [],
   "source": [
    "LFP_TRACES_DF[[col for col in LFP_TRACES_DF.columns if \"power_timestamps\" in col][0]].iloc[0]"
   ]
  },
  {
   "cell_type": "markdown",
   "metadata": {},
   "source": [
    "- Checking if the right frequencies are being used"
   ]
  },
  {
   "cell_type": "code",
   "execution_count": null,
   "metadata": {
    "tags": []
   },
   "outputs": [],
   "source": [
    "LFP_TRACES_DF[[col for col in LFP_TRACES_DF.columns if \"power_frequencies\" in col]].head()"
   ]
  },
  {
   "cell_type": "code",
   "execution_count": null,
   "metadata": {},
   "outputs": [],
   "source": [
    "LFP_TRACES_DF[\"power_calculation_frequencies\"] = LFP_TRACES_DF[[col for col in LFP_TRACES_DF.columns if \"power_frequencies\" in col][0]].copy()"
   ]
  },
  {
   "cell_type": "markdown",
   "metadata": {},
   "source": [
    "- Dropping unnecessary columns"
   ]
  },
  {
   "cell_type": "code",
   "execution_count": null,
   "metadata": {
    "tags": []
   },
   "outputs": [],
   "source": [
    "LFP_TRACES_DF = LFP_TRACES_DF.drop(columns=[col for col in LFP_TRACES_DF.columns if \"power_frequencies\" in col], errors=\"ignore\")"
   ]
  },
  {
   "cell_type": "code",
   "execution_count": null,
   "metadata": {
    "tags": []
   },
   "outputs": [],
   "source": [
    "LFP_TRACES_DF.head()"
   ]
  },
  {
   "cell_type": "code",
   "execution_count": null,
   "metadata": {
    "tags": []
   },
   "outputs": [],
   "source": [
    "LFP_TRACES_DF[\"mPFC_RMS_filtered_power_all_frequencies_all_windows\"].head()"
   ]
  },
  {
   "cell_type": "code",
   "execution_count": null,
   "metadata": {
    "tags": []
   },
   "outputs": [],
   "source": [
    "LFP_TRACES_DF[\"mPFC_RMS_filtered_power_all_frequencies_all_windows\"].iloc[4].shape"
   ]
  },
  {
   "cell_type": "code",
   "execution_count": null,
   "metadata": {
    "tags": []
   },
   "outputs": [],
   "source": [
    "LFP_TRACES_DF[\"mPFC_lfp_RMS_filtered\"].head()"
   ]
  },
  {
   "cell_type": "code",
   "execution_count": null,
   "metadata": {
    "tags": []
   },
   "outputs": [],
   "source": [
    "plt.plot(LFP_TRACES_DF[\"BLA_lfp_trace\"].iloc[0])"
   ]
  },
  {
   "cell_type": "code",
   "execution_count": null,
   "metadata": {
    "tags": []
   },
   "outputs": [],
   "source": [
    "plt.plot(LFP_TRACES_DF[\"BLA_lfp_RMS\"].iloc[0])"
   ]
  },
  {
   "cell_type": "code",
   "execution_count": null,
   "metadata": {},
   "outputs": [],
   "source": [
    "plt.plot(LFP_TRACES_DF[\"BLA_lfp_RMS\"].iloc[0])"
   ]
  },
  {
   "cell_type": "code",
   "execution_count": null,
   "metadata": {},
   "outputs": [],
   "source": [
    "LFP_TRACES_DF[\"BLA_\"].iloc[0]"
   ]
  },
  {
   "cell_type": "code",
   "execution_count": null,
   "metadata": {},
   "outputs": [],
   "source": [
    "raise ValueError()"
   ]
  },
  {
   "cell_type": "code",
   "execution_count": null,
   "metadata": {
    "tags": []
   },
   "outputs": [],
   "source": [
    "plt.plot(LFP_TRACES_DF[\"BLA_lfp_RMS_filtered\"].iloc[0])"
   ]
  },
  {
   "cell_type": "code",
   "execution_count": null,
   "metadata": {
    "tags": []
   },
   "outputs": [],
   "source": [
    "LFP_TRACES_DF[\"BLA_trace_power_all_frequencies_all_windows\"].apply(lambda x: np.sum(np.isnan(x[:,3:13])))"
   ]
  },
  {
   "cell_type": "code",
   "execution_count": null,
   "metadata": {
    "tags": []
   },
   "outputs": [],
   "source": [
    "LFP_TRACES_DF[\"BLA_RMS_filtered_power_all_frequencies_all_windows\"].apply(lambda x: np.sum(np.isnan(x[:,3:13])))"
   ]
  },
  {
   "cell_type": "code",
   "execution_count": null,
   "metadata": {
    "tags": []
   },
   "outputs": [],
   "source": [
    "print(\"hello\")"
   ]
  },
  {
   "cell_type": "code",
   "execution_count": null,
   "metadata": {
    "tags": []
   },
   "outputs": [],
   "source": [
    "# LFP_TRACES_DF.to_pickle(\"./proc/rce2_spectral_granger.pkl\")\n",
    "LFP_TRACES_DF.to_pickle(\"./proc/rce_pilot_2_02_full_spectral.pkl\")\n",
    "# LFP_TRACES_DF.to_pickle(\"/blue/npadillacoreano/ryoi360/projects/reward_comp/final_proc/rce_pilot_2_02_spectral_granger.pkl\")"
   ]
  },
  {
   "cell_type": "code",
   "execution_count": null,
   "metadata": {},
   "outputs": [],
   "source": []
  },
  {
   "cell_type": "markdown",
   "metadata": {},
   "source": [
    "## Calculating the averages"
   ]
  },
  {
   "cell_type": "code",
   "execution_count": null,
   "metadata": {
    "tags": []
   },
   "outputs": [],
   "source": [
    "LFP_TRACES_DF.columns"
   ]
  },
  {
   "cell_type": "code",
   "execution_count": null,
   "metadata": {
    "tags": []
   },
   "outputs": [],
   "source": [
    "# LFP_TRACES_DF.to_pickle(\"./proc/rce2_spectral_granger.pkl\")\n",
    "LFP_TRACES_DF.to_pickle(\"./proc/rce_pilot_2_02_full_spectral.pkl\")\n",
    "# LFP_TRACES_DF.to_pickle(\"/blue/npadillacoreano/ryoi360/projects/reward_comp/final_proc/rce_pilot_2_02_spectral_granger.pkl\")"
   ]
  },
  {
   "cell_type": "code",
   "execution_count": null,
   "metadata": {
    "tags": []
   },
   "outputs": [],
   "source": [
    "raise ValueError()"
   ]
  },
  {
   "cell_type": "code",
   "execution_count": null,
   "metadata": {},
   "outputs": [],
   "source": []
  }
 ],
 "metadata": {
  "deepnote": {},
  "deepnote_execution_queue": [],
  "deepnote_notebook_id": "cf8fe3695d074ee7887fdf6459cbf5ce",
  "kernelspec": {
   "display_name": "spike_interface_0_100_5",
   "language": "python",
   "name": "spike_interface_0_100_5"
  },
  "language_info": {
   "codemirror_mode": {
    "name": "ipython",
    "version": 3
   },
   "file_extension": ".py",
   "mimetype": "text/x-python",
   "name": "python",
   "nbconvert_exporter": "python",
   "pygments_lexer": "ipython3",
   "version": "3.10.14"
  }
 },
 "nbformat": 4,
 "nbformat_minor": 4
}
