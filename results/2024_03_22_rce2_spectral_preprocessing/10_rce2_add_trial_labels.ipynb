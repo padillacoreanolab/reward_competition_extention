{
 "cells": [
  {
   "cell_type": "markdown",
   "metadata": {
    "cell_id": "c3a02adc9e884466bc8c79db549cc3d2",
    "deepnote_cell_type": "text-cell-h1",
    "formattedRanges": [
     {
      "fromCodePoint": 0,
      "marks": {
       "bold": true,
       "underline": true
      },
      "toCodePoint": 17,
      "type": "marks"
     }
    ]
   },
   "source": [
    "# All oscillation analysis"
   ]
  },
  {
   "cell_type": "markdown",
   "metadata": {
    "cell_id": "4546bee655b14a5dbf393161f1228e60",
    "deepnote_cell_type": "text-cell-p",
    "formattedRanges": []
   },
   "source": [
    "Brief 1-2 sentence description of notebook."
   ]
  },
  {
   "cell_type": "code",
   "execution_count": null,
   "metadata": {},
   "outputs": [],
   "source": []
  },
  {
   "cell_type": "code",
   "execution_count": 1,
   "metadata": {
    "tags": []
   },
   "outputs": [],
   "source": [
    "# Imports of all used packages and libraries\n",
    "import sys\n",
    "import os\n",
    "import git\n",
    "import glob\n",
    "from collections import defaultdict"
   ]
  },
  {
   "cell_type": "code",
   "execution_count": 2,
   "metadata": {
    "tags": []
   },
   "outputs": [],
   "source": [
    "git_repo = git.Repo(\".\", search_parent_directories=True)\n",
    "git_root = git_repo.git.rev_parse(\"--show-toplevel\")"
   ]
  },
  {
   "cell_type": "code",
   "execution_count": 3,
   "metadata": {
    "tags": []
   },
   "outputs": [
    {
     "data": {
      "text/plain": [
       "'/blue/npadillacoreano/ryoi360/projects/reward_comp/repos/reward_competition_extention'"
      ]
     },
     "execution_count": 3,
     "metadata": {},
     "output_type": "execute_result"
    }
   ],
   "source": [
    "git_root"
   ]
  },
  {
   "cell_type": "code",
   "execution_count": 4,
   "metadata": {
    "tags": []
   },
   "outputs": [],
   "source": [
    "sys.path.insert(0, os.path.join(git_root, 'src'))"
   ]
  },
  {
   "cell_type": "code",
   "execution_count": 5,
   "metadata": {
    "tags": []
   },
   "outputs": [],
   "source": [
    "import warnings\n",
    "warnings.filterwarnings('ignore')"
   ]
  },
  {
   "cell_type": "code",
   "execution_count": 6,
   "metadata": {
    "tags": []
   },
   "outputs": [],
   "source": [
    "import os\n",
    "import collections\n",
    "import itertools\n",
    "from collections import defaultdict\n",
    "from itertools import combinations"
   ]
  },
  {
   "cell_type": "raw",
   "metadata": {},
   "source": [
    "os.environ[\"SPECTRAL_CONNECTIVITY_ENABLE_GPU\"] = \"true\"\n",
    "import cupy as cp"
   ]
  },
  {
   "cell_type": "code",
   "execution_count": 7,
   "metadata": {
    "cell_id": "03b495cefa6a4798a44c7f2e4c6a3ea7",
    "deepnote_cell_type": "code",
    "deepnote_to_be_reexecuted": false,
    "execution_millis": 21,
    "execution_start": 1691424003626,
    "source_hash": null,
    "tags": []
   },
   "outputs": [],
   "source": [
    "# Imports of all used packages and libraries\n",
    "import numpy as np\n",
    "import pandas as pd\n",
    "from scipy import stats\n",
    "from scipy.stats import mannwhitneyu\n"
   ]
  },
  {
   "cell_type": "code",
   "execution_count": 8,
   "metadata": {
    "tags": []
   },
   "outputs": [],
   "source": [
    "import matplotlib\n",
    "import matplotlib.colors as mcolors\n",
    "import matplotlib.pyplot as plt\n",
    "import matplotlib.cm as cm\n",
    "import seaborn as sns\n",
    "import colorsys"
   ]
  },
  {
   "cell_type": "code",
   "execution_count": 9,
   "metadata": {
    "tags": []
   },
   "outputs": [],
   "source": [
    "from sklearn.metrics import confusion_matrix"
   ]
  },
  {
   "cell_type": "code",
   "execution_count": 10,
   "metadata": {
    "tags": []
   },
   "outputs": [],
   "source": [
    "from spectral_connectivity import Multitaper, Connectivity\n",
    "import spectral_connectivity"
   ]
  },
  {
   "cell_type": "code",
   "execution_count": 11,
   "metadata": {
    "tags": []
   },
   "outputs": [],
   "source": [
    "import utilities.helper\n",
    "import trodes.read_exported"
   ]
  },
  {
   "cell_type": "code",
   "execution_count": 12,
   "metadata": {
    "tags": []
   },
   "outputs": [],
   "source": [
    "FONTSIZE = 20"
   ]
  },
  {
   "cell_type": "code",
   "execution_count": 13,
   "metadata": {
    "tags": []
   },
   "outputs": [],
   "source": [
    "font = {'weight' : 'medium',\n",
    "        'size'   : 20}\n",
    "\n",
    "matplotlib.rc('font', **font)"
   ]
  },
  {
   "cell_type": "markdown",
   "metadata": {
    "cell_id": "d290bac2c17940bfbc0f9296beaf70e5",
    "deepnote_cell_type": "text-cell-h2",
    "formattedRanges": []
   },
   "source": [
    "## Inputs & Data"
   ]
  },
  {
   "cell_type": "markdown",
   "metadata": {
    "cell_id": "e528ce19c608425292151930d380f49f",
    "deepnote_cell_type": "text-cell-p",
    "formattedRanges": []
   },
   "source": [
    "Explanation of each input and where it comes from."
   ]
  },
  {
   "cell_type": "code",
   "execution_count": 14,
   "metadata": {
    "cell_id": "6cf83a5811054461a718a71673d09aab",
    "deepnote_cell_type": "code",
    "deepnote_to_be_reexecuted": false,
    "execution_millis": 373,
    "execution_start": 1691424003628,
    "source_hash": null,
    "tags": []
   },
   "outputs": [],
   "source": [
    "# Inputs and Required data loading\n",
    "# input varaible names are in all caps snake case\n",
    "# Whenever an input changes or is used for processing \n",
    "# the vairables are all lower in snake case\n",
    "OUTPUT_DIR = r\"./proc/\" # where data is saved should always be shown in the inputs\n",
    "os.makedirs(OUTPUT_DIR, exist_ok=True)\n",
    "OUTPUT_PREFIX = \"rce_pilot_2\""
   ]
  },
  {
   "cell_type": "code",
   "execution_count": 15,
   "metadata": {
    "tags": []
   },
   "outputs": [],
   "source": [
    "TRIAL_LABELS_DF = pd.read_excel(\"./proc/rce2_finalized_trial_labels.xlsx\")"
   ]
  },
  {
   "cell_type": "code",
   "execution_count": 16,
   "metadata": {
    "tags": []
   },
   "outputs": [],
   "source": [
    "LFP_SPECTRAL_DF = pd.read_pickle(\"./proc/rce_pilot_2_03_spectral_bands.pkl\")"
   ]
  },
  {
   "cell_type": "code",
   "execution_count": 17,
   "metadata": {
    "tags": []
   },
   "outputs": [],
   "source": [
    "# CHANNEL_MAP_AND_ALL_TRIALS_DF = pd.read_pickle(\"./proc/full_baseline_and_trial_lfp_traces.pkl\")\n",
    "# MERGED_TRIALS_AND_VIDEO = pd.read_pickle(\"./proc/trial_SLEAP_and_metadata.pkl\")"
   ]
  },
  {
   "cell_type": "raw",
   "metadata": {
    "tags": []
   },
   "source": [
    "OUTCOME_TO_COLOR = {'lose': \"red\",\n",
    " 'omission': \"orange\",\n",
    " 'rewarded': \"green\",\n",
    " 'win': \"blue\"}\n",
    "\n",
    "OUTCOME_TO_COLOR = {'lose': \"#951a1d\",\n",
    " 'omission': \"#af780d\",\n",
    " 'rewarded': \"#0499af\",\n",
    " 'win': \"#3853a3\",\n",
    "'lose_comp': \"#951a1d\",\n",
    " 'win_comp': \"#3853a3\",\n",
    "'lose_non_comp': \"#e67073\",\n",
    " 'win_non_comp': \"#93a5da\"}"
   ]
  },
  {
   "cell_type": "code",
   "execution_count": 18,
   "metadata": {
    "tags": []
   },
   "outputs": [],
   "source": [
    "TRIAL_OR_BASELINE_TO_STYLE = {'baseline': \"--\", \"trial\": \"-\"}"
   ]
  },
  {
   "cell_type": "code",
   "execution_count": 19,
   "metadata": {
    "tags": []
   },
   "outputs": [],
   "source": [
    "BIN_TO_VELOCITY = {0: \"0 to 2.5cm/s\", 1: \"2.5 to 5cm/s\", 2: \"5 to 10 cm/s\", 3: \"10cm/s+\"}"
   ]
  },
  {
   "cell_type": "code",
   "execution_count": 20,
   "metadata": {
    "tags": []
   },
   "outputs": [],
   "source": [
    "ALL_BANDS = [\"theta\", \"beta\", \"gamma\"]\n",
    "BAND_TO_FREQ = {\"theta\": {\"low_freq\": 6, \"high_freq\": 11}, \"beta\": {\"low_freq\": 20, \"high_freq\": 31}, \"gamma\": {\"low_freq\": 30, \"high_freq\": 51}}\n",
    "BAND_TO_FREQ = {\"theta\": (6,11), \"beta\": (20,31), \"gamma\": (30,51)}"
   ]
  },
  {
   "cell_type": "code",
   "execution_count": 21,
   "metadata": {
    "tags": []
   },
   "outputs": [],
   "source": [
    "GROUPINGS = \"trial_outcome\"\n",
    "# GROUPINGS = \"competition_closeness\""
   ]
  },
  {
   "cell_type": "code",
   "execution_count": 22,
   "metadata": {
    "tags": []
   },
   "outputs": [],
   "source": [
    "FONTSIZE=20"
   ]
  },
  {
   "cell_type": "code",
   "execution_count": 23,
   "metadata": {
    "tags": []
   },
   "outputs": [],
   "source": [
    "FULL_LFP_TRACES_PKL = \"{}_10_per_trial_spectral_bans_sleap.pkl\".format(OUTPUT_PREFIX)"
   ]
  },
  {
   "cell_type": "markdown",
   "metadata": {
    "cell_id": "e3ee4891d43a4ac287413afc552ca289",
    "deepnote_cell_type": "text-cell-h2",
    "formattedRanges": []
   },
   "source": [
    "## Outputs"
   ]
  },
  {
   "cell_type": "markdown",
   "metadata": {
    "cell_id": "9ccbf6cc70fd4d379fa29317f733771f",
    "deepnote_cell_type": "text-cell-p",
    "formattedRanges": []
   },
   "source": [
    "Describe each output that the notebook creates. "
   ]
  },
  {
   "cell_type": "markdown",
   "metadata": {
    "cell_id": "fc8e8920a6944918a15fac575cdf6e78",
    "deepnote_cell_type": "text-cell-bullet",
    "formattedRanges": []
   },
   "source": [
    "- Is it a plot or is it data?"
   ]
  },
  {
   "cell_type": "markdown",
   "metadata": {
    "cell_id": "1e639d4776a84aa9ac8ded2e14fa57db",
    "deepnote_cell_type": "text-cell-bullet",
    "formattedRanges": []
   },
   "source": [
    "- How valuable is the output and why is it valuable or useful?"
   ]
  },
  {
   "cell_type": "markdown",
   "metadata": {},
   "source": [
    "## Functions "
   ]
  },
  {
   "cell_type": "code",
   "execution_count": 24,
   "metadata": {
    "tags": []
   },
   "outputs": [],
   "source": [
    "def generate_pairs(lst):\n",
    "    pairs = []\n",
    "    n = len(lst)\n",
    "    for i in range(n):\n",
    "        for j in range(i+1, n):\n",
    "            pairs.append((lst[i], lst[j]))\n",
    "    return pairs"
   ]
  },
  {
   "cell_type": "code",
   "execution_count": 25,
   "metadata": {
    "tags": []
   },
   "outputs": [],
   "source": [
    "def nested_dict():\n",
    "    return defaultdict(dict)"
   ]
  },
  {
   "cell_type": "code",
   "execution_count": 26,
   "metadata": {
    "tags": []
   },
   "outputs": [],
   "source": [
    "def mean_of_counter(counter):\n",
    "    # Extract values from the Counter and calculate the mean\n",
    "    values = list(counter.values())\n",
    "    return sum(values) / len(values) if values else 0  # Prevent division by zero"
   ]
  },
  {
   "cell_type": "code",
   "execution_count": 27,
   "metadata": {
    "tags": []
   },
   "outputs": [],
   "source": [
    "def adjust_lightness(color, amount=0.5):\n",
    "    \"\"\"\n",
    "    Adjusts the lightness of the given color by the provided amount.\n",
    "    :param color: Input color in some format that matplotlib's `to_rgb` can handle.\n",
    "    :param amount: Amount to adjust. > 1 for lighter, < 1 for darker.\n",
    "    :return: Adjusted color.\n",
    "    \"\"\"\n",
    "    import colorsys\n",
    "    c = mcolors.to_rgb(color)\n",
    "    h, l, s = colorsys.rgb_to_hls(*c)\n",
    "    return colorsys.hls_to_rgb(h, max(0, min(1, amount * l)), s)"
   ]
  },
  {
   "cell_type": "code",
   "execution_count": 28,
   "metadata": {
    "tags": []
   },
   "outputs": [],
   "source": [
    "def generate_gradient_colors(base_color, num_colors=10):\n",
    "    \"\"\"\n",
    "    Generate gradient colors based on a base color.\n",
    "    \n",
    "    :param base_color: The base color to create a gradient from.\n",
    "    :param num_colors: The number of gradient colors to generate.\n",
    "    :return: List of colors.\n",
    "    \"\"\"\n",
    "    # Convert base color to HLS (Hue, Lightness, Saturation)\n",
    "    h, l, s = colorsys.rgb_to_hls(*mcolors.to_rgb(base_color))\n",
    "\n",
    "    # Determine the step size for lightness\n",
    "    middle_index = num_colors // 2\n",
    "    lightness_step = l / (middle_index if middle_index > 0 else 1)\n",
    "\n",
    "    colors = []\n",
    "    for i in range(num_colors):\n",
    "        if i < middle_index:\n",
    "            # For the lighter colors (before the middle)\n",
    "            new_lightness = l + (middle_index - i) * lightness_step\n",
    "        elif i == middle_index:\n",
    "            # The middle color remains the base color\n",
    "            new_lightness = l\n",
    "        else:\n",
    "            # For the darker colors (after the middle)\n",
    "            new_lightness = l - (i - middle_index) * lightness_step\n",
    "\n",
    "        # Ensure new lightness is within the valid range [0, 1]\n",
    "        new_lightness = max(0, min(new_lightness, 1))\n",
    "\n",
    "        new_color = colorsys.hls_to_rgb(h, new_lightness, s)\n",
    "        colors.append(new_color)\n",
    "\n",
    "    return colors"
   ]
  },
  {
   "cell_type": "code",
   "execution_count": null,
   "metadata": {},
   "outputs": [],
   "source": []
  },
  {
   "cell_type": "code",
   "execution_count": 29,
   "metadata": {
    "tags": []
   },
   "outputs": [],
   "source": [
    "def get_significance_stars_from_p_value(p_value, number_of_comparisons=3):\n",
    "    \"\"\"\n",
    "    \"\"\"\n",
    "    if p_value <= 0.001 / number_of_comparisons:\n",
    "        return \"***\"\n",
    "    elif p_value <= 0.01 / number_of_comparisons:\n",
    "        return \"***\"\n",
    "    elif p_value <= 0.05 / number_of_comparisons:\n",
    "        return \"*\"\n",
    "    else:\n",
    "        return \"\""
   ]
  },
  {
   "cell_type": "markdown",
   "metadata": {
    "cell_id": "8999d19b6b7d4d63bc90f0b0bd9ab085",
    "deepnote_cell_type": "text-cell-h2",
    "formattedRanges": []
   },
   "source": [
    "## Processing"
   ]
  },
  {
   "cell_type": "markdown",
   "metadata": {
    "cell_id": "9b36cdf08567463082b005cb0dec684b",
    "deepnote_cell_type": "text-cell-p",
    "formattedRanges": []
   },
   "source": [
    "Describe what is done to the data here and how inputs are manipulated to generate outputs. "
   ]
  },
  {
   "cell_type": "code",
   "execution_count": 30,
   "metadata": {
    "cell_id": "89aaba237c644628b1b37604b75e7cb1",
    "deepnote_cell_type": "code",
    "tags": []
   },
   "outputs": [],
   "source": [
    "# As much code and as many cells as required\n",
    "# includes EDA and playing with data\n",
    "# GO HAM!\n",
    "\n",
    "# Ideally functions are defined here first and then data is processed using the functions\n",
    "\n",
    "# function names are short and in snake case all lowercase\n",
    "# a function name should be unique but does not have to describe the function\n",
    "# doc strings describe functions not function names\n",
    "\n",
    "\n"
   ]
  },
  {
   "cell_type": "code",
   "execution_count": 31,
   "metadata": {
    "tags": []
   },
   "outputs": [
    {
     "data": {
      "text/plain": [
       "Index(['cohort', 'session_dir', 'tone_frames', 'box_1_port_entry_frames',\n",
       "       'box_2_port_entry_frames', 'video_name', 'session_path', 'recording',\n",
       "       'current_subject', 'subject',\n",
       "       ...\n",
       "       'mPFC_RMS_filtered_power_theta', 'mPFC_RMS_filtered_power_gamma',\n",
       "       'MD_RMS_filtered_power_theta', 'MD_RMS_filtered_power_gamma',\n",
       "       'LH_RMS_filtered_power_theta', 'LH_RMS_filtered_power_gamma',\n",
       "       'BLA_RMS_filtered_power_theta', 'BLA_RMS_filtered_power_gamma',\n",
       "       'vHPC_RMS_filtered_power_theta', 'vHPC_RMS_filtered_power_gamma'],\n",
       "      dtype='object', length=110)"
      ]
     },
     "execution_count": 31,
     "metadata": {},
     "output_type": "execute_result"
    }
   ],
   "source": [
    "LFP_SPECTRAL_DF.columns"
   ]
  },
  {
   "cell_type": "code",
   "execution_count": 32,
   "metadata": {
    "scrolled": true,
    "tags": []
   },
   "outputs": [
    {
     "data": {
      "text/plain": [
       "Index(['tracked_subject', 'box_number', 'sleap_name', 'video_name',\n",
       "       'current_subject', 'tone_start_frame', 'reward_start_frame',\n",
       "       'tone_stop_frame', 'condition', 'competition_closeness', 'notes',\n",
       "       'experiment', 'session_dir', 'all_subjects', 'tone_start_timestamp',\n",
       "       'tone_stop_timestamp', 'trial_label'],\n",
       "      dtype='object')"
      ]
     },
     "execution_count": 32,
     "metadata": {},
     "output_type": "execute_result"
    }
   ],
   "source": [
    "TRIAL_LABELS_DF.columns"
   ]
  },
  {
   "cell_type": "markdown",
   "metadata": {},
   "source": [
    "## Merging the labels and LFP spectral"
   ]
  },
  {
   "cell_type": "code",
   "execution_count": 33,
   "metadata": {
    "tags": []
   },
   "outputs": [
    {
     "data": {
      "text/html": [
       "<div>\n",
       "<style scoped>\n",
       "    .dataframe tbody tr th:only-of-type {\n",
       "        vertical-align: middle;\n",
       "    }\n",
       "\n",
       "    .dataframe tbody tr th {\n",
       "        vertical-align: top;\n",
       "    }\n",
       "\n",
       "    .dataframe thead th {\n",
       "        text-align: right;\n",
       "    }\n",
       "</style>\n",
       "<table border=\"1\" class=\"dataframe\">\n",
       "  <thead>\n",
       "    <tr style=\"text-align: right;\">\n",
       "      <th></th>\n",
       "      <th>tracked_subject</th>\n",
       "      <th>box_number</th>\n",
       "      <th>sleap_name</th>\n",
       "      <th>video_name</th>\n",
       "      <th>current_subject</th>\n",
       "      <th>tone_start_frame</th>\n",
       "      <th>reward_start_frame</th>\n",
       "      <th>tone_stop_frame</th>\n",
       "      <th>condition</th>\n",
       "      <th>competition_closeness</th>\n",
       "      <th>notes</th>\n",
       "      <th>experiment</th>\n",
       "      <th>session_dir</th>\n",
       "      <th>all_subjects</th>\n",
       "      <th>tone_start_timestamp</th>\n",
       "      <th>tone_stop_timestamp</th>\n",
       "      <th>trial_label</th>\n",
       "    </tr>\n",
       "  </thead>\n",
       "  <tbody>\n",
       "    <tr>\n",
       "      <th>0</th>\n",
       "      <td>['1.1', '1.2']</td>\n",
       "      <td>1</td>\n",
       "      <td>20230612_112630_standard_comp_to_training_D1_s...</td>\n",
       "      <td>20230612_112630_standard_comp_to_training_D1_s...</td>\n",
       "      <td>1.1</td>\n",
       "      <td>1125</td>\n",
       "      <td>1225</td>\n",
       "      <td>1324</td>\n",
       "      <td>1.1</td>\n",
       "      <td>Subj 1 blocking Subj 2</td>\n",
       "      <td>NaN</td>\n",
       "      <td>standard</td>\n",
       "      <td>20230612_112630_standard_comp_to_training_D1_s...</td>\n",
       "      <td>['1.1', '1.2']</td>\n",
       "      <td>1126742</td>\n",
       "      <td>1326741</td>\n",
       "      <td>win</td>\n",
       "    </tr>\n",
       "    <tr>\n",
       "      <th>1</th>\n",
       "      <td>['1.1', '1.2']</td>\n",
       "      <td>1</td>\n",
       "      <td>20230612_112630_standard_comp_to_training_D1_s...</td>\n",
       "      <td>20230612_112630_standard_comp_to_training_D1_s...</td>\n",
       "      <td>1.2</td>\n",
       "      <td>1125</td>\n",
       "      <td>1225</td>\n",
       "      <td>1324</td>\n",
       "      <td>1.1</td>\n",
       "      <td>Subj 1 blocking Subj 2</td>\n",
       "      <td>NaN</td>\n",
       "      <td>standard</td>\n",
       "      <td>20230612_112630_standard_comp_to_training_D1_s...</td>\n",
       "      <td>['1.1', '1.2']</td>\n",
       "      <td>1126742</td>\n",
       "      <td>1326741</td>\n",
       "      <td>lose</td>\n",
       "    </tr>\n",
       "    <tr>\n",
       "      <th>2</th>\n",
       "      <td>['1.1', '1.2']</td>\n",
       "      <td>1</td>\n",
       "      <td>20230612_112630_standard_comp_to_training_D1_s...</td>\n",
       "      <td>20230612_112630_standard_comp_to_training_D1_s...</td>\n",
       "      <td>1.1</td>\n",
       "      <td>3519</td>\n",
       "      <td>3619</td>\n",
       "      <td>3720</td>\n",
       "      <td>1.2</td>\n",
       "      <td>Subj 2 Only</td>\n",
       "      <td>NaN</td>\n",
       "      <td>standard</td>\n",
       "      <td>20230612_112630_standard_comp_to_training_D1_s...</td>\n",
       "      <td>['1.1', '1.2']</td>\n",
       "      <td>3526740</td>\n",
       "      <td>3726740</td>\n",
       "      <td>lose</td>\n",
       "    </tr>\n",
       "    <tr>\n",
       "      <th>3</th>\n",
       "      <td>['1.1', '1.2']</td>\n",
       "      <td>1</td>\n",
       "      <td>20230612_112630_standard_comp_to_training_D1_s...</td>\n",
       "      <td>20230612_112630_standard_comp_to_training_D1_s...</td>\n",
       "      <td>1.2</td>\n",
       "      <td>3519</td>\n",
       "      <td>3619</td>\n",
       "      <td>3720</td>\n",
       "      <td>1.2</td>\n",
       "      <td>Subj 2 Only</td>\n",
       "      <td>NaN</td>\n",
       "      <td>standard</td>\n",
       "      <td>20230612_112630_standard_comp_to_training_D1_s...</td>\n",
       "      <td>['1.1', '1.2']</td>\n",
       "      <td>3526740</td>\n",
       "      <td>3726740</td>\n",
       "      <td>win</td>\n",
       "    </tr>\n",
       "    <tr>\n",
       "      <th>4</th>\n",
       "      <td>['1.1', '1.2']</td>\n",
       "      <td>1</td>\n",
       "      <td>20230612_112630_standard_comp_to_training_D1_s...</td>\n",
       "      <td>20230612_112630_standard_comp_to_training_D1_s...</td>\n",
       "      <td>1.1</td>\n",
       "      <td>5815</td>\n",
       "      <td>5915</td>\n",
       "      <td>6014</td>\n",
       "      <td>1.2</td>\n",
       "      <td>Subj 2 blocking Subj 1</td>\n",
       "      <td>NaN</td>\n",
       "      <td>standard</td>\n",
       "      <td>20230612_112630_standard_comp_to_training_D1_s...</td>\n",
       "      <td>['1.1', '1.2']</td>\n",
       "      <td>5826740</td>\n",
       "      <td>6026737</td>\n",
       "      <td>lose</td>\n",
       "    </tr>\n",
       "  </tbody>\n",
       "</table>\n",
       "</div>"
      ],
      "text/plain": [
       "  tracked_subject  box_number  \\\n",
       "0  ['1.1', '1.2']           1   \n",
       "1  ['1.1', '1.2']           1   \n",
       "2  ['1.1', '1.2']           1   \n",
       "3  ['1.1', '1.2']           1   \n",
       "4  ['1.1', '1.2']           1   \n",
       "\n",
       "                                          sleap_name  \\\n",
       "0  20230612_112630_standard_comp_to_training_D1_s...   \n",
       "1  20230612_112630_standard_comp_to_training_D1_s...   \n",
       "2  20230612_112630_standard_comp_to_training_D1_s...   \n",
       "3  20230612_112630_standard_comp_to_training_D1_s...   \n",
       "4  20230612_112630_standard_comp_to_training_D1_s...   \n",
       "\n",
       "                                          video_name  current_subject  \\\n",
       "0  20230612_112630_standard_comp_to_training_D1_s...              1.1   \n",
       "1  20230612_112630_standard_comp_to_training_D1_s...              1.2   \n",
       "2  20230612_112630_standard_comp_to_training_D1_s...              1.1   \n",
       "3  20230612_112630_standard_comp_to_training_D1_s...              1.2   \n",
       "4  20230612_112630_standard_comp_to_training_D1_s...              1.1   \n",
       "\n",
       "   tone_start_frame  reward_start_frame  tone_stop_frame condition  \\\n",
       "0              1125                1225             1324       1.1   \n",
       "1              1125                1225             1324       1.1   \n",
       "2              3519                3619             3720       1.2   \n",
       "3              3519                3619             3720       1.2   \n",
       "4              5815                5915             6014       1.2   \n",
       "\n",
       "    competition_closeness notes experiment  \\\n",
       "0  Subj 1 blocking Subj 2   NaN   standard   \n",
       "1  Subj 1 blocking Subj 2   NaN   standard   \n",
       "2             Subj 2 Only   NaN   standard   \n",
       "3             Subj 2 Only   NaN   standard   \n",
       "4  Subj 2 blocking Subj 1   NaN   standard   \n",
       "\n",
       "                                         session_dir    all_subjects  \\\n",
       "0  20230612_112630_standard_comp_to_training_D1_s...  ['1.1', '1.2']   \n",
       "1  20230612_112630_standard_comp_to_training_D1_s...  ['1.1', '1.2']   \n",
       "2  20230612_112630_standard_comp_to_training_D1_s...  ['1.1', '1.2']   \n",
       "3  20230612_112630_standard_comp_to_training_D1_s...  ['1.1', '1.2']   \n",
       "4  20230612_112630_standard_comp_to_training_D1_s...  ['1.1', '1.2']   \n",
       "\n",
       "   tone_start_timestamp  tone_stop_timestamp trial_label  \n",
       "0               1126742              1326741         win  \n",
       "1               1126742              1326741        lose  \n",
       "2               3526740              3726740        lose  \n",
       "3               3526740              3726740         win  \n",
       "4               5826740              6026737        lose  "
      ]
     },
     "execution_count": 33,
     "metadata": {},
     "output_type": "execute_result"
    }
   ],
   "source": [
    "TRIAL_LABELS_DF.head()"
   ]
  },
  {
   "cell_type": "code",
   "execution_count": 34,
   "metadata": {
    "tags": []
   },
   "outputs": [
    {
     "data": {
      "text/html": [
       "<div>\n",
       "<style scoped>\n",
       "    .dataframe tbody tr th:only-of-type {\n",
       "        vertical-align: middle;\n",
       "    }\n",
       "\n",
       "    .dataframe tbody tr th {\n",
       "        vertical-align: top;\n",
       "    }\n",
       "\n",
       "    .dataframe thead th {\n",
       "        text-align: right;\n",
       "    }\n",
       "</style>\n",
       "<table border=\"1\" class=\"dataframe\">\n",
       "  <thead>\n",
       "    <tr style=\"text-align: right;\">\n",
       "      <th></th>\n",
       "      <th>cohort</th>\n",
       "      <th>session_dir</th>\n",
       "      <th>tone_frames</th>\n",
       "      <th>box_1_port_entry_frames</th>\n",
       "      <th>box_2_port_entry_frames</th>\n",
       "      <th>video_name</th>\n",
       "      <th>session_path</th>\n",
       "      <th>recording</th>\n",
       "      <th>current_subject</th>\n",
       "      <th>subject</th>\n",
       "      <th>...</th>\n",
       "      <th>mPFC_RMS_filtered_power_theta</th>\n",
       "      <th>mPFC_RMS_filtered_power_gamma</th>\n",
       "      <th>MD_RMS_filtered_power_theta</th>\n",
       "      <th>MD_RMS_filtered_power_gamma</th>\n",
       "      <th>LH_RMS_filtered_power_theta</th>\n",
       "      <th>LH_RMS_filtered_power_gamma</th>\n",
       "      <th>BLA_RMS_filtered_power_theta</th>\n",
       "      <th>BLA_RMS_filtered_power_gamma</th>\n",
       "      <th>vHPC_RMS_filtered_power_theta</th>\n",
       "      <th>vHPC_RMS_filtered_power_gamma</th>\n",
       "    </tr>\n",
       "  </thead>\n",
       "  <tbody>\n",
       "    <tr>\n",
       "      <th>0</th>\n",
       "      <td>2</td>\n",
       "      <td>20230612_101430_standard_comp_to_training_D1_s...</td>\n",
       "      <td>[[980, 1181], [3376, 3575], [5672, 5871], [746...</td>\n",
       "      <td>[[490, 514], [518, 558], [558, 637], [638, 640...</td>\n",
       "      <td>[[33137, 33147], [33665, 33666], [33668, 33669...</td>\n",
       "      <td>20230612_101430_standard_comp_to_training_D1_s...</td>\n",
       "      <td>/scratch/back_up/reward_competition_extention/...</td>\n",
       "      <td>20230612_101430_standard_comp_to_training_D1_s...</td>\n",
       "      <td>1.3</td>\n",
       "      <td>1.3</td>\n",
       "      <td>...</td>\n",
       "      <td>[0.00652, 0.002836, 0.002962, 0.00776, 0.01208...</td>\n",
       "      <td>[0.000125, 0.00016, 0.0001565, 0.0001225, 0.00...</td>\n",
       "      <td>[0.01796, 0.01675, 0.01249, 0.01534, 0.013664,...</td>\n",
       "      <td>[0.0003269, 0.0002108, 0.0003424, 0.0004702, 0...</td>\n",
       "      <td>[0.0123, 0.012405, 0.01134, 0.010544, 0.009544...</td>\n",
       "      <td>[0.0004094, 0.0003133, 0.000283, 0.0003424, 0....</td>\n",
       "      <td>[0.01605, 0.01243, 0.01147, 0.01507, 0.014824,...</td>\n",
       "      <td>[0.000981, 0.001048, 0.001005, 0.0007415, 0.00...</td>\n",
       "      <td>[0.006912, 0.0188, 0.03604, 0.01837, 0.010605,...</td>\n",
       "      <td>[0.000249, 0.000289, 0.0002723, 0.0003161, 0.0...</td>\n",
       "    </tr>\n",
       "    <tr>\n",
       "      <th>1</th>\n",
       "      <td>2</td>\n",
       "      <td>20230612_101430_standard_comp_to_training_D1_s...</td>\n",
       "      <td>[[980, 1180], [3376, 3575], [5672, 5871], [746...</td>\n",
       "      <td>[[490, 514], [518, 558], [558, 637], [638, 640...</td>\n",
       "      <td>[[33021, 33027], [33502, 33503], [33504, 33506...</td>\n",
       "      <td>20230612_101430_standard_comp_to_training_D1_s...</td>\n",
       "      <td>/scratch/back_up/reward_competition_extention/...</td>\n",
       "      <td>20230612_101430_standard_comp_to_training_D1_s...</td>\n",
       "      <td>1.3</td>\n",
       "      <td>1.3</td>\n",
       "      <td>...</td>\n",
       "      <td>[0.00652, 0.002836, 0.002962, 0.00776, 0.01208...</td>\n",
       "      <td>[0.000125, 0.00016, 0.0001565, 0.0001225, 0.00...</td>\n",
       "      <td>[0.01796, 0.01675, 0.01249, 0.01534, 0.013664,...</td>\n",
       "      <td>[0.0003269, 0.0002108, 0.0003424, 0.0004702, 0...</td>\n",
       "      <td>[0.0123, 0.012405, 0.01134, 0.010544, 0.009544...</td>\n",
       "      <td>[0.0004094, 0.0003133, 0.000283, 0.0003424, 0....</td>\n",
       "      <td>[0.01605, 0.01243, 0.01147, 0.01507, 0.014824,...</td>\n",
       "      <td>[0.000981, 0.001048, 0.001005, 0.0007415, 0.00...</td>\n",
       "      <td>[0.006912, 0.0188, 0.03604, 0.01837, 0.010605,...</td>\n",
       "      <td>[0.000249, 0.000289, 0.0002723, 0.0003161, 0.0...</td>\n",
       "    </tr>\n",
       "    <tr>\n",
       "      <th>2</th>\n",
       "      <td>2</td>\n",
       "      <td>20230612_101430_standard_comp_to_training_D1_s...</td>\n",
       "      <td>[[980, 1181], [3376, 3575], [5672, 5871], [746...</td>\n",
       "      <td>[[490, 514], [518, 558], [558, 637], [638, 640...</td>\n",
       "      <td>[[33137, 33147], [33665, 33666], [33668, 33669...</td>\n",
       "      <td>20230612_101430_standard_comp_to_training_D1_s...</td>\n",
       "      <td>/scratch/back_up/reward_competition_extention/...</td>\n",
       "      <td>20230612_101430_standard_comp_to_training_D1_s...</td>\n",
       "      <td>1.4</td>\n",
       "      <td>1.4</td>\n",
       "      <td>...</td>\n",
       "      <td>[0.01492, 0.01654, 0.03436, nan, nan, 0.01553,...</td>\n",
       "      <td>[0.001747, 0.002792, 0.00246, nan, nan, 0.0031...</td>\n",
       "      <td>[0.01246, 0.01306, 0.0218, 0.0201, 0.01401, 0....</td>\n",
       "      <td>[0.000678, 0.0005302, 0.0004344, 0.000489, 0.0...</td>\n",
       "      <td>[0.01442, 0.01605, 0.02498, 0.02408, 0.0166, 0...</td>\n",
       "      <td>[0.0008626, 0.0006566, 0.000616, 0.000811, 0.0...</td>\n",
       "      <td>[0.013916, nan, nan, 0.02411, nan, nan, nan, n...</td>\n",
       "      <td>[0.003502, nan, nan, 0.003157, nan, nan, nan, ...</td>\n",
       "      <td>[0.026, nan, nan, nan, nan, nan, nan, nan, 0.0...</td>\n",
       "      <td>[0.003092, nan, nan, nan, nan, nan, nan, nan, ...</td>\n",
       "    </tr>\n",
       "    <tr>\n",
       "      <th>3</th>\n",
       "      <td>2</td>\n",
       "      <td>20230612_101430_standard_comp_to_training_D1_s...</td>\n",
       "      <td>[[980, 1180], [3376, 3575], [5672, 5871], [746...</td>\n",
       "      <td>[[490, 514], [518, 558], [558, 637], [638, 640...</td>\n",
       "      <td>[[33021, 33027], [33502, 33503], [33504, 33506...</td>\n",
       "      <td>20230612_101430_standard_comp_to_training_D1_s...</td>\n",
       "      <td>/scratch/back_up/reward_competition_extention/...</td>\n",
       "      <td>20230612_101430_standard_comp_to_training_D1_s...</td>\n",
       "      <td>1.4</td>\n",
       "      <td>1.4</td>\n",
       "      <td>...</td>\n",
       "      <td>[0.01492, 0.01654, 0.03436, nan, nan, 0.01553,...</td>\n",
       "      <td>[0.001747, 0.002792, 0.00246, nan, nan, 0.0031...</td>\n",
       "      <td>[0.01246, 0.01306, 0.0218, 0.0201, 0.01401, 0....</td>\n",
       "      <td>[0.000678, 0.0005302, 0.0004344, 0.000489, 0.0...</td>\n",
       "      <td>[0.01442, 0.01605, 0.02498, 0.02408, 0.0166, 0...</td>\n",
       "      <td>[0.0008626, 0.0006566, 0.000616, 0.000811, 0.0...</td>\n",
       "      <td>[0.013916, nan, nan, 0.02411, nan, nan, nan, n...</td>\n",
       "      <td>[0.003502, nan, nan, 0.003157, nan, nan, nan, ...</td>\n",
       "      <td>[0.026, nan, nan, nan, nan, nan, nan, nan, 0.0...</td>\n",
       "      <td>[0.003092, nan, nan, nan, nan, nan, nan, nan, ...</td>\n",
       "    </tr>\n",
       "    <tr>\n",
       "      <th>4</th>\n",
       "      <td>2</td>\n",
       "      <td>20230612_112630_standard_comp_to_training_D1_s...</td>\n",
       "      <td>[[1125, 1324], [3519, 3720], [5815, 6014], [76...</td>\n",
       "      <td>[[192, 248], [389, 405], [916, 929], [929, 948...</td>\n",
       "      <td>[[33019, 33020], [33246, 33251], [33253, 33255...</td>\n",
       "      <td>20230612_112630_standard_comp_to_training_D1_s...</td>\n",
       "      <td>/scratch/back_up/reward_competition_extention/...</td>\n",
       "      <td>20230612_112630_standard_comp_to_training_D1_s...</td>\n",
       "      <td>1.1</td>\n",
       "      <td>1.1</td>\n",
       "      <td>...</td>\n",
       "      <td>[nan, 0.01707, 0.03317, nan, nan, nan, nan, na...</td>\n",
       "      <td>[nan, 0.001803, 0.002707, nan, nan, nan, nan, ...</td>\n",
       "      <td>[0.04553, 0.02853, nan, nan, nan, 0.03503, 0.0...</td>\n",
       "      <td>[0.001228, 0.001134, nan, nan, nan, 0.001013, ...</td>\n",
       "      <td>[nan, 0.02965, nan, nan, nan, 0.03806, nan, na...</td>\n",
       "      <td>[nan, 0.001294, nan, nan, nan, 0.000928, nan, ...</td>\n",
       "      <td>[nan, 0.0215, nan, nan, nan, nan, nan, nan, na...</td>\n",
       "      <td>[nan, 0.002539, nan, nan, nan, nan, nan, nan, ...</td>\n",
       "      <td>[nan, 0.01796, nan, nan, nan, nan, nan, nan, n...</td>\n",
       "      <td>[nan, 0.003302, nan, nan, nan, nan, nan, nan, ...</td>\n",
       "    </tr>\n",
       "  </tbody>\n",
       "</table>\n",
       "<p>5 rows × 110 columns</p>\n",
       "</div>"
      ],
      "text/plain": [
       "   cohort                                        session_dir  \\\n",
       "0       2  20230612_101430_standard_comp_to_training_D1_s...   \n",
       "1       2  20230612_101430_standard_comp_to_training_D1_s...   \n",
       "2       2  20230612_101430_standard_comp_to_training_D1_s...   \n",
       "3       2  20230612_101430_standard_comp_to_training_D1_s...   \n",
       "4       2  20230612_112630_standard_comp_to_training_D1_s...   \n",
       "\n",
       "                                         tone_frames  \\\n",
       "0  [[980, 1181], [3376, 3575], [5672, 5871], [746...   \n",
       "1  [[980, 1180], [3376, 3575], [5672, 5871], [746...   \n",
       "2  [[980, 1181], [3376, 3575], [5672, 5871], [746...   \n",
       "3  [[980, 1180], [3376, 3575], [5672, 5871], [746...   \n",
       "4  [[1125, 1324], [3519, 3720], [5815, 6014], [76...   \n",
       "\n",
       "                             box_1_port_entry_frames  \\\n",
       "0  [[490, 514], [518, 558], [558, 637], [638, 640...   \n",
       "1  [[490, 514], [518, 558], [558, 637], [638, 640...   \n",
       "2  [[490, 514], [518, 558], [558, 637], [638, 640...   \n",
       "3  [[490, 514], [518, 558], [558, 637], [638, 640...   \n",
       "4  [[192, 248], [389, 405], [916, 929], [929, 948...   \n",
       "\n",
       "                             box_2_port_entry_frames  \\\n",
       "0  [[33137, 33147], [33665, 33666], [33668, 33669...   \n",
       "1  [[33021, 33027], [33502, 33503], [33504, 33506...   \n",
       "2  [[33137, 33147], [33665, 33666], [33668, 33669...   \n",
       "3  [[33021, 33027], [33502, 33503], [33504, 33506...   \n",
       "4  [[33019, 33020], [33246, 33251], [33253, 33255...   \n",
       "\n",
       "                                          video_name  \\\n",
       "0  20230612_101430_standard_comp_to_training_D1_s...   \n",
       "1  20230612_101430_standard_comp_to_training_D1_s...   \n",
       "2  20230612_101430_standard_comp_to_training_D1_s...   \n",
       "3  20230612_101430_standard_comp_to_training_D1_s...   \n",
       "4  20230612_112630_standard_comp_to_training_D1_s...   \n",
       "\n",
       "                                        session_path  \\\n",
       "0  /scratch/back_up/reward_competition_extention/...   \n",
       "1  /scratch/back_up/reward_competition_extention/...   \n",
       "2  /scratch/back_up/reward_competition_extention/...   \n",
       "3  /scratch/back_up/reward_competition_extention/...   \n",
       "4  /scratch/back_up/reward_competition_extention/...   \n",
       "\n",
       "                                           recording current_subject subject  \\\n",
       "0  20230612_101430_standard_comp_to_training_D1_s...             1.3     1.3   \n",
       "1  20230612_101430_standard_comp_to_training_D1_s...             1.3     1.3   \n",
       "2  20230612_101430_standard_comp_to_training_D1_s...             1.4     1.4   \n",
       "3  20230612_101430_standard_comp_to_training_D1_s...             1.4     1.4   \n",
       "4  20230612_112630_standard_comp_to_training_D1_s...             1.1     1.1   \n",
       "\n",
       "   ...                      mPFC_RMS_filtered_power_theta  \\\n",
       "0  ...  [0.00652, 0.002836, 0.002962, 0.00776, 0.01208...   \n",
       "1  ...  [0.00652, 0.002836, 0.002962, 0.00776, 0.01208...   \n",
       "2  ...  [0.01492, 0.01654, 0.03436, nan, nan, 0.01553,...   \n",
       "3  ...  [0.01492, 0.01654, 0.03436, nan, nan, 0.01553,...   \n",
       "4  ...  [nan, 0.01707, 0.03317, nan, nan, nan, nan, na...   \n",
       "\n",
       "                       mPFC_RMS_filtered_power_gamma  \\\n",
       "0  [0.000125, 0.00016, 0.0001565, 0.0001225, 0.00...   \n",
       "1  [0.000125, 0.00016, 0.0001565, 0.0001225, 0.00...   \n",
       "2  [0.001747, 0.002792, 0.00246, nan, nan, 0.0031...   \n",
       "3  [0.001747, 0.002792, 0.00246, nan, nan, 0.0031...   \n",
       "4  [nan, 0.001803, 0.002707, nan, nan, nan, nan, ...   \n",
       "\n",
       "                         MD_RMS_filtered_power_theta  \\\n",
       "0  [0.01796, 0.01675, 0.01249, 0.01534, 0.013664,...   \n",
       "1  [0.01796, 0.01675, 0.01249, 0.01534, 0.013664,...   \n",
       "2  [0.01246, 0.01306, 0.0218, 0.0201, 0.01401, 0....   \n",
       "3  [0.01246, 0.01306, 0.0218, 0.0201, 0.01401, 0....   \n",
       "4  [0.04553, 0.02853, nan, nan, nan, 0.03503, 0.0...   \n",
       "\n",
       "                         MD_RMS_filtered_power_gamma  \\\n",
       "0  [0.0003269, 0.0002108, 0.0003424, 0.0004702, 0...   \n",
       "1  [0.0003269, 0.0002108, 0.0003424, 0.0004702, 0...   \n",
       "2  [0.000678, 0.0005302, 0.0004344, 0.000489, 0.0...   \n",
       "3  [0.000678, 0.0005302, 0.0004344, 0.000489, 0.0...   \n",
       "4  [0.001228, 0.001134, nan, nan, nan, 0.001013, ...   \n",
       "\n",
       "                         LH_RMS_filtered_power_theta  \\\n",
       "0  [0.0123, 0.012405, 0.01134, 0.010544, 0.009544...   \n",
       "1  [0.0123, 0.012405, 0.01134, 0.010544, 0.009544...   \n",
       "2  [0.01442, 0.01605, 0.02498, 0.02408, 0.0166, 0...   \n",
       "3  [0.01442, 0.01605, 0.02498, 0.02408, 0.0166, 0...   \n",
       "4  [nan, 0.02965, nan, nan, nan, 0.03806, nan, na...   \n",
       "\n",
       "                         LH_RMS_filtered_power_gamma  \\\n",
       "0  [0.0004094, 0.0003133, 0.000283, 0.0003424, 0....   \n",
       "1  [0.0004094, 0.0003133, 0.000283, 0.0003424, 0....   \n",
       "2  [0.0008626, 0.0006566, 0.000616, 0.000811, 0.0...   \n",
       "3  [0.0008626, 0.0006566, 0.000616, 0.000811, 0.0...   \n",
       "4  [nan, 0.001294, nan, nan, nan, 0.000928, nan, ...   \n",
       "\n",
       "                        BLA_RMS_filtered_power_theta  \\\n",
       "0  [0.01605, 0.01243, 0.01147, 0.01507, 0.014824,...   \n",
       "1  [0.01605, 0.01243, 0.01147, 0.01507, 0.014824,...   \n",
       "2  [0.013916, nan, nan, 0.02411, nan, nan, nan, n...   \n",
       "3  [0.013916, nan, nan, 0.02411, nan, nan, nan, n...   \n",
       "4  [nan, 0.0215, nan, nan, nan, nan, nan, nan, na...   \n",
       "\n",
       "                        BLA_RMS_filtered_power_gamma  \\\n",
       "0  [0.000981, 0.001048, 0.001005, 0.0007415, 0.00...   \n",
       "1  [0.000981, 0.001048, 0.001005, 0.0007415, 0.00...   \n",
       "2  [0.003502, nan, nan, 0.003157, nan, nan, nan, ...   \n",
       "3  [0.003502, nan, nan, 0.003157, nan, nan, nan, ...   \n",
       "4  [nan, 0.002539, nan, nan, nan, nan, nan, nan, ...   \n",
       "\n",
       "                       vHPC_RMS_filtered_power_theta  \\\n",
       "0  [0.006912, 0.0188, 0.03604, 0.01837, 0.010605,...   \n",
       "1  [0.006912, 0.0188, 0.03604, 0.01837, 0.010605,...   \n",
       "2  [0.026, nan, nan, nan, nan, nan, nan, nan, 0.0...   \n",
       "3  [0.026, nan, nan, nan, nan, nan, nan, nan, 0.0...   \n",
       "4  [nan, 0.01796, nan, nan, nan, nan, nan, nan, n...   \n",
       "\n",
       "                       vHPC_RMS_filtered_power_gamma  \n",
       "0  [0.000249, 0.000289, 0.0002723, 0.0003161, 0.0...  \n",
       "1  [0.000249, 0.000289, 0.0002723, 0.0003161, 0.0...  \n",
       "2  [0.003092, nan, nan, nan, nan, nan, nan, nan, ...  \n",
       "3  [0.003092, nan, nan, nan, nan, nan, nan, nan, ...  \n",
       "4  [nan, 0.003302, nan, nan, nan, nan, nan, nan, ...  \n",
       "\n",
       "[5 rows x 110 columns]"
      ]
     },
     "execution_count": 34,
     "metadata": {},
     "output_type": "execute_result"
    }
   ],
   "source": [
    "LFP_SPECTRAL_DF.head()"
   ]
  },
  {
   "cell_type": "code",
   "execution_count": 35,
   "metadata": {
    "tags": []
   },
   "outputs": [],
   "source": [
    "LFP_SPECTRAL_DF[\"video_name\"] = LFP_SPECTRAL_DF[\"video_name\"].apply(lambda x: x.strip(\".videoTimeStamps.cameraHWSync\"))"
   ]
  },
  {
   "cell_type": "code",
   "execution_count": 36,
   "metadata": {
    "tags": []
   },
   "outputs": [],
   "source": [
    "LFP_SPECTRAL_DF[\"current_subject\"] = LFP_SPECTRAL_DF[\"current_subject\"].astype(str)\n",
    "TRIAL_LABELS_DF[\"current_subject\"] = TRIAL_LABELS_DF[\"current_subject\"].astype(str)"
   ]
  },
  {
   "cell_type": "code",
   "execution_count": 37,
   "metadata": {
    "tags": []
   },
   "outputs": [
    {
     "data": {
      "text/plain": [
       "array(['20230612_112630_standard_comp_to_training_D1_subj_1-2_and_1-1.1',\n",
       "       '20230612_112630_standard_comp_to_training_D1_subj_1-2_and_1-1.2',\n",
       "       '20230613_105657_standard_comp_to_training_D2_subj_1-1_and_1-4.1',\n",
       "       '20230613_105657_standard_comp_to_training_D2_subj_1-1_and_1-4.2',\n",
       "       '20230614_114041_standard_comp_to_training_D3_subj_1-1_and_1-2.1',\n",
       "       '20230614_114041_standard_comp_to_training_D3_subj_1-1_and_1-2.2',\n",
       "       '20230614_114041_standard_comp_to_training_D3_subj_1-1_and_1-2.3',\n",
       "       '20230616_111904_standard_comp_to_training_D4_subj_1-4_and_1-2.1',\n",
       "       '20230616_111904_standard_comp_to_training_D4_subj_1-4_and_1-2.2',\n",
       "       '20230617_115521_standard_comp_to_omission_D1_subj_1-1_and_1-2.1',\n",
       "       '20230618_100636_standard_comp_to_omission_D2_subj_1-4_and_1-1.1',\n",
       "       '20230618_100636_standard_comp_to_omission_D2_subj_1-4_and_1-1.2',\n",
       "       '20230620_114347_standard_comp_to_omission_D4_subj_1-2_and_1-1.1',\n",
       "       '20230620_114347_standard_comp_to_omission_D4_subj_1-2_and_1-1.2',\n",
       "       '20230621_111240_standard_comp_to_omission_D5_subj_1-4_and_1-2.1',\n",
       "       '20230621_111240_standard_comp_to_omission_D5_subj_1-4_and_1-2.2',\n",
       "       '20230622_110832_standard_comp_to_both_rewarded_D1_subj_1-1_and_1-2.1',\n",
       "       '20230624_105855_standard_comp_to_both_rewarded_D3_subj_1-2_and_1-4.1',\n",
       "       '20230625_112913_standard_comp_to_both_rewarded_D4_subj_1-1_and_1-4.1',\n",
       "       '20230628_111202_standard_comp_to_novel_agent_D1_subj_1-1vs2-2and1-2vs2-1.1',\n",
       "       '20230628_111202_standard_comp_to_novel_agent_D1_subj_1-1vs2-2and1-2vs2-1.3',\n",
       "       '20230629_111937_standard_comp_to_novel_agent_D2_subj_1-1vs2-1and1-4vs2-2.1',\n",
       "       '20230629_111937_standard_comp_to_novel_agent_D2_subj_1-1vs2-1and1-4vs2-2.2',\n",
       "       '20230630_115506_standard_comp_to_novel_agent_D3_subj_1-4vs2-1and1-2vs2-2.1',\n",
       "       '20230630_115506_standard_comp_to_novel_agent_D3_subj_1-4vs2-1and1-2vs2-2.2'],\n",
       "      dtype=object)"
      ]
     },
     "execution_count": 37,
     "metadata": {},
     "output_type": "execute_result"
    }
   ],
   "source": [
    "TRIAL_LABELS_DF[\"video_name\"].unique()"
   ]
  },
  {
   "cell_type": "code",
   "execution_count": 38,
   "metadata": {
    "tags": []
   },
   "outputs": [
    {
     "data": {
      "text/plain": [
       "array(['20230612_101430_standard_comp_to_training_D1_subj_1-4_and_1-3.1',\n",
       "       '20230612_101430_standard_comp_to_training_D1_subj_1-4_and_1-3.2',\n",
       "       '20230612_112630_standard_comp_to_training_D1_subj_1-2_and_1-1.1',\n",
       "       '20230612_112630_standard_comp_to_training_D1_subj_1-2_and_1-1.2',\n",
       "       '20230613_105657_standard_comp_to_training_D2_subj_1-1_and_1-4.1',\n",
       "       '20230613_105657_standard_comp_to_training_D2_subj_1-1_and_1-4.2',\n",
       "       '20230614_114041_standard_comp_to_training_D3_subj_1-1_and_1-2.1',\n",
       "       '20230614_114041_standard_comp_to_training_D3_subj_1-1_and_1-2.2',\n",
       "       '20230614_114041_standard_comp_to_training_D3_subj_1-1_and_1-2.3',\n",
       "       '20230616_111904_standard_comp_to_training_D4_subj_1-4_and_1-2.1',\n",
       "       '20230616_111904_standard_comp_to_training_D4_subj_1-4_and_1-2.2',\n",
       "       '20230617_115521_standard_comp_to_omission_D1_subj_1-1_and_1-2.1',\n",
       "       '20230617_115521_standard_comp_to_omission_D1_subj_1-1_and_1-2.2',\n",
       "       '20230617_115521_standard_comp_to_omission_D1_subj_1-1_and_1-2.3',\n",
       "       '20230618_100636_standard_comp_to_omission_D2_subj_1-4_and_1-1.1',\n",
       "       '20230618_100636_standard_comp_to_omission_D2_subj_1-4_and_1-1.2',\n",
       "       '20230619_115321_standard_comp_to_omission_D3_subj_1-2_and_1-4.4',\n",
       "       '20230620_114347_standard_comp_to_omission_D4_subj_1-2_and_1-1.1',\n",
       "       '20230620_114347_standard_comp_to_omission_D4_subj_1-2_and_1-1.2',\n",
       "       '20230621_111240_standard_comp_to_omission_D5_subj_1-4_and_1-2.1',\n",
       "       '20230621_111240_standard_comp_to_omission_D5_subj_1-4_and_1-2.2',\n",
       "       '20230622_110832_standard_comp_to_both_rewarded_D1_subj_1-1_and_1-2.1',\n",
       "       '20230624_105855_standard_comp_to_both_rewarded_D3_subj_1-2_and_1-4.1',\n",
       "       '20230625_112913_standard_comp_to_both_rewarded_D4_subj_1-1_and_1-4.1',\n",
       "       '20230628_111202_standard_comp_to_novel_agent_D1_subj_1-1vs2-2and1-2vs2-1.1',\n",
       "       '20230628_111202_standard_comp_to_novel_agent_D1_subj_1-1vs2-2and1-2vs2-1.2',\n",
       "       '20230628_111202_standard_comp_to_novel_agent_D1_subj_1-1vs2-2and1-2vs2-1.3',\n",
       "       '20230628_111202_standard_comp_to_novel_agent_D1_subj_1-1vs2-2and1-2vs2-1.4',\n",
       "       '20230629_111937_standard_comp_to_novel_agent_D2_subj_1-1vs2-1and1-4vs2-2.1',\n",
       "       '20230629_111937_standard_comp_to_novel_agent_D2_subj_1-1vs2-1and1-4vs2-2.2',\n",
       "       '20230630_115506_standard_comp_to_novel_agent_D3_subj_1-4vs2-1and1-2vs2-2.1',\n",
       "       '20230630_115506_standard_comp_to_novel_agent_D3_subj_1-4vs2-1and1-2vs2-2.2'],\n",
       "      dtype=object)"
      ]
     },
     "execution_count": 38,
     "metadata": {},
     "output_type": "execute_result"
    }
   ],
   "source": [
    "LFP_SPECTRAL_DF[\"video_name\"].unique()"
   ]
  },
  {
   "cell_type": "code",
   "execution_count": 39,
   "metadata": {
    "tags": []
   },
   "outputs": [],
   "source": [
    "TRIALS_AND_SPECTRAL_DF = pd.merge(TRIAL_LABELS_DF, LFP_SPECTRAL_DF, on=[\"current_subject\", \"video_name\"], how=\"inner\", suffixes=('', '_y'))"
   ]
  },
  {
   "cell_type": "code",
   "execution_count": 40,
   "metadata": {
    "tags": []
   },
   "outputs": [],
   "source": [
    "# TRIALS_AND_SPECTRAL_DF = TRIALS_AND_SPECTRAL_DF.drop(columns=[col for col in TRIALS_AND_SPECTRAL_DF.columns if \"trace\" in col], errors=\"ignore\")"
   ]
  },
  {
   "cell_type": "code",
   "execution_count": 41,
   "metadata": {
    "tags": []
   },
   "outputs": [],
   "source": [
    "TRIALS_AND_SPECTRAL_DF = TRIALS_AND_SPECTRAL_DF.drop(columns=[col for col in TRIALS_AND_SPECTRAL_DF.columns if \"_y\" in col], errors=\"ignore\")"
   ]
  },
  {
   "cell_type": "code",
   "execution_count": 42,
   "metadata": {
    "tags": []
   },
   "outputs": [
    {
     "data": {
      "text/html": [
       "<div>\n",
       "<style scoped>\n",
       "    .dataframe tbody tr th:only-of-type {\n",
       "        vertical-align: middle;\n",
       "    }\n",
       "\n",
       "    .dataframe tbody tr th {\n",
       "        vertical-align: top;\n",
       "    }\n",
       "\n",
       "    .dataframe thead th {\n",
       "        text-align: right;\n",
       "    }\n",
       "</style>\n",
       "<table border=\"1\" class=\"dataframe\">\n",
       "  <thead>\n",
       "    <tr style=\"text-align: right;\">\n",
       "      <th></th>\n",
       "      <th>tracked_subject</th>\n",
       "      <th>box_number</th>\n",
       "      <th>sleap_name</th>\n",
       "      <th>video_name</th>\n",
       "      <th>current_subject</th>\n",
       "      <th>tone_start_frame</th>\n",
       "      <th>reward_start_frame</th>\n",
       "      <th>tone_stop_frame</th>\n",
       "      <th>condition</th>\n",
       "      <th>competition_closeness</th>\n",
       "      <th>...</th>\n",
       "      <th>mPFC_RMS_filtered_power_theta</th>\n",
       "      <th>mPFC_RMS_filtered_power_gamma</th>\n",
       "      <th>MD_RMS_filtered_power_theta</th>\n",
       "      <th>MD_RMS_filtered_power_gamma</th>\n",
       "      <th>LH_RMS_filtered_power_theta</th>\n",
       "      <th>LH_RMS_filtered_power_gamma</th>\n",
       "      <th>BLA_RMS_filtered_power_theta</th>\n",
       "      <th>BLA_RMS_filtered_power_gamma</th>\n",
       "      <th>vHPC_RMS_filtered_power_theta</th>\n",
       "      <th>vHPC_RMS_filtered_power_gamma</th>\n",
       "    </tr>\n",
       "  </thead>\n",
       "  <tbody>\n",
       "    <tr>\n",
       "      <th>0</th>\n",
       "      <td>['1.1', '1.2']</td>\n",
       "      <td>1</td>\n",
       "      <td>20230612_112630_standard_comp_to_training_D1_s...</td>\n",
       "      <td>20230612_112630_standard_comp_to_training_D1_s...</td>\n",
       "      <td>1.1</td>\n",
       "      <td>1125</td>\n",
       "      <td>1225</td>\n",
       "      <td>1324</td>\n",
       "      <td>1.1</td>\n",
       "      <td>Subj 1 blocking Subj 2</td>\n",
       "      <td>...</td>\n",
       "      <td>[nan, 0.01707, 0.03317, nan, nan, nan, nan, na...</td>\n",
       "      <td>[nan, 0.001803, 0.002707, nan, nan, nan, nan, ...</td>\n",
       "      <td>[0.04553, 0.02853, nan, nan, nan, 0.03503, 0.0...</td>\n",
       "      <td>[0.001228, 0.001134, nan, nan, nan, 0.001013, ...</td>\n",
       "      <td>[nan, 0.02965, nan, nan, nan, 0.03806, nan, na...</td>\n",
       "      <td>[nan, 0.001294, nan, nan, nan, 0.000928, nan, ...</td>\n",
       "      <td>[nan, 0.0215, nan, nan, nan, nan, nan, nan, na...</td>\n",
       "      <td>[nan, 0.002539, nan, nan, nan, nan, nan, nan, ...</td>\n",
       "      <td>[nan, 0.01796, nan, nan, nan, nan, nan, nan, n...</td>\n",
       "      <td>[nan, 0.003302, nan, nan, nan, nan, nan, nan, ...</td>\n",
       "    </tr>\n",
       "    <tr>\n",
       "      <th>1</th>\n",
       "      <td>['1.1', '1.2']</td>\n",
       "      <td>1</td>\n",
       "      <td>20230612_112630_standard_comp_to_training_D1_s...</td>\n",
       "      <td>20230612_112630_standard_comp_to_training_D1_s...</td>\n",
       "      <td>1.1</td>\n",
       "      <td>3519</td>\n",
       "      <td>3619</td>\n",
       "      <td>3720</td>\n",
       "      <td>1.2</td>\n",
       "      <td>Subj 2 Only</td>\n",
       "      <td>...</td>\n",
       "      <td>[nan, 0.01707, 0.03317, nan, nan, nan, nan, na...</td>\n",
       "      <td>[nan, 0.001803, 0.002707, nan, nan, nan, nan, ...</td>\n",
       "      <td>[0.04553, 0.02853, nan, nan, nan, 0.03503, 0.0...</td>\n",
       "      <td>[0.001228, 0.001134, nan, nan, nan, 0.001013, ...</td>\n",
       "      <td>[nan, 0.02965, nan, nan, nan, 0.03806, nan, na...</td>\n",
       "      <td>[nan, 0.001294, nan, nan, nan, 0.000928, nan, ...</td>\n",
       "      <td>[nan, 0.0215, nan, nan, nan, nan, nan, nan, na...</td>\n",
       "      <td>[nan, 0.002539, nan, nan, nan, nan, nan, nan, ...</td>\n",
       "      <td>[nan, 0.01796, nan, nan, nan, nan, nan, nan, n...</td>\n",
       "      <td>[nan, 0.003302, nan, nan, nan, nan, nan, nan, ...</td>\n",
       "    </tr>\n",
       "    <tr>\n",
       "      <th>2</th>\n",
       "      <td>['1.1', '1.2']</td>\n",
       "      <td>1</td>\n",
       "      <td>20230612_112630_standard_comp_to_training_D1_s...</td>\n",
       "      <td>20230612_112630_standard_comp_to_training_D1_s...</td>\n",
       "      <td>1.1</td>\n",
       "      <td>5815</td>\n",
       "      <td>5915</td>\n",
       "      <td>6014</td>\n",
       "      <td>1.2</td>\n",
       "      <td>Subj 2 blocking Subj 1</td>\n",
       "      <td>...</td>\n",
       "      <td>[nan, 0.01707, 0.03317, nan, nan, nan, nan, na...</td>\n",
       "      <td>[nan, 0.001803, 0.002707, nan, nan, nan, nan, ...</td>\n",
       "      <td>[0.04553, 0.02853, nan, nan, nan, 0.03503, 0.0...</td>\n",
       "      <td>[0.001228, 0.001134, nan, nan, nan, 0.001013, ...</td>\n",
       "      <td>[nan, 0.02965, nan, nan, nan, 0.03806, nan, na...</td>\n",
       "      <td>[nan, 0.001294, nan, nan, nan, 0.000928, nan, ...</td>\n",
       "      <td>[nan, 0.0215, nan, nan, nan, nan, nan, nan, na...</td>\n",
       "      <td>[nan, 0.002539, nan, nan, nan, nan, nan, nan, ...</td>\n",
       "      <td>[nan, 0.01796, nan, nan, nan, nan, nan, nan, n...</td>\n",
       "      <td>[nan, 0.003302, nan, nan, nan, nan, nan, nan, ...</td>\n",
       "    </tr>\n",
       "    <tr>\n",
       "      <th>3</th>\n",
       "      <td>['1.1', '1.2']</td>\n",
       "      <td>1</td>\n",
       "      <td>20230612_112630_standard_comp_to_training_D1_s...</td>\n",
       "      <td>20230612_112630_standard_comp_to_training_D1_s...</td>\n",
       "      <td>1.1</td>\n",
       "      <td>7612</td>\n",
       "      <td>7712</td>\n",
       "      <td>7811</td>\n",
       "      <td>1.2</td>\n",
       "      <td>Subj 2 Only</td>\n",
       "      <td>...</td>\n",
       "      <td>[nan, 0.01707, 0.03317, nan, nan, nan, nan, na...</td>\n",
       "      <td>[nan, 0.001803, 0.002707, nan, nan, nan, nan, ...</td>\n",
       "      <td>[0.04553, 0.02853, nan, nan, nan, 0.03503, 0.0...</td>\n",
       "      <td>[0.001228, 0.001134, nan, nan, nan, 0.001013, ...</td>\n",
       "      <td>[nan, 0.02965, nan, nan, nan, 0.03806, nan, na...</td>\n",
       "      <td>[nan, 0.001294, nan, nan, nan, 0.000928, nan, ...</td>\n",
       "      <td>[nan, 0.0215, nan, nan, nan, nan, nan, nan, na...</td>\n",
       "      <td>[nan, 0.002539, nan, nan, nan, nan, nan, nan, ...</td>\n",
       "      <td>[nan, 0.01796, nan, nan, nan, nan, nan, nan, n...</td>\n",
       "      <td>[nan, 0.003302, nan, nan, nan, nan, nan, nan, ...</td>\n",
       "    </tr>\n",
       "    <tr>\n",
       "      <th>4</th>\n",
       "      <td>['1.1', '1.2']</td>\n",
       "      <td>1</td>\n",
       "      <td>20230612_112630_standard_comp_to_training_D1_s...</td>\n",
       "      <td>20230612_112630_standard_comp_to_training_D1_s...</td>\n",
       "      <td>1.1</td>\n",
       "      <td>8709</td>\n",
       "      <td>8809</td>\n",
       "      <td>8910</td>\n",
       "      <td>1.2</td>\n",
       "      <td>Subj 2 Only</td>\n",
       "      <td>...</td>\n",
       "      <td>[nan, 0.01707, 0.03317, nan, nan, nan, nan, na...</td>\n",
       "      <td>[nan, 0.001803, 0.002707, nan, nan, nan, nan, ...</td>\n",
       "      <td>[0.04553, 0.02853, nan, nan, nan, 0.03503, 0.0...</td>\n",
       "      <td>[0.001228, 0.001134, nan, nan, nan, 0.001013, ...</td>\n",
       "      <td>[nan, 0.02965, nan, nan, nan, 0.03806, nan, na...</td>\n",
       "      <td>[nan, 0.001294, nan, nan, nan, 0.000928, nan, ...</td>\n",
       "      <td>[nan, 0.0215, nan, nan, nan, nan, nan, nan, na...</td>\n",
       "      <td>[nan, 0.002539, nan, nan, nan, nan, nan, nan, ...</td>\n",
       "      <td>[nan, 0.01796, nan, nan, nan, nan, nan, nan, n...</td>\n",
       "      <td>[nan, 0.003302, nan, nan, nan, nan, nan, nan, ...</td>\n",
       "    </tr>\n",
       "  </tbody>\n",
       "</table>\n",
       "<p>5 rows × 123 columns</p>\n",
       "</div>"
      ],
      "text/plain": [
       "  tracked_subject  box_number  \\\n",
       "0  ['1.1', '1.2']           1   \n",
       "1  ['1.1', '1.2']           1   \n",
       "2  ['1.1', '1.2']           1   \n",
       "3  ['1.1', '1.2']           1   \n",
       "4  ['1.1', '1.2']           1   \n",
       "\n",
       "                                          sleap_name  \\\n",
       "0  20230612_112630_standard_comp_to_training_D1_s...   \n",
       "1  20230612_112630_standard_comp_to_training_D1_s...   \n",
       "2  20230612_112630_standard_comp_to_training_D1_s...   \n",
       "3  20230612_112630_standard_comp_to_training_D1_s...   \n",
       "4  20230612_112630_standard_comp_to_training_D1_s...   \n",
       "\n",
       "                                          video_name current_subject  \\\n",
       "0  20230612_112630_standard_comp_to_training_D1_s...             1.1   \n",
       "1  20230612_112630_standard_comp_to_training_D1_s...             1.1   \n",
       "2  20230612_112630_standard_comp_to_training_D1_s...             1.1   \n",
       "3  20230612_112630_standard_comp_to_training_D1_s...             1.1   \n",
       "4  20230612_112630_standard_comp_to_training_D1_s...             1.1   \n",
       "\n",
       "   tone_start_frame  reward_start_frame  tone_stop_frame condition  \\\n",
       "0              1125                1225             1324       1.1   \n",
       "1              3519                3619             3720       1.2   \n",
       "2              5815                5915             6014       1.2   \n",
       "3              7612                7712             7811       1.2   \n",
       "4              8709                8809             8910       1.2   \n",
       "\n",
       "    competition_closeness  ...  \\\n",
       "0  Subj 1 blocking Subj 2  ...   \n",
       "1             Subj 2 Only  ...   \n",
       "2  Subj 2 blocking Subj 1  ...   \n",
       "3             Subj 2 Only  ...   \n",
       "4             Subj 2 Only  ...   \n",
       "\n",
       "                       mPFC_RMS_filtered_power_theta  \\\n",
       "0  [nan, 0.01707, 0.03317, nan, nan, nan, nan, na...   \n",
       "1  [nan, 0.01707, 0.03317, nan, nan, nan, nan, na...   \n",
       "2  [nan, 0.01707, 0.03317, nan, nan, nan, nan, na...   \n",
       "3  [nan, 0.01707, 0.03317, nan, nan, nan, nan, na...   \n",
       "4  [nan, 0.01707, 0.03317, nan, nan, nan, nan, na...   \n",
       "\n",
       "                       mPFC_RMS_filtered_power_gamma  \\\n",
       "0  [nan, 0.001803, 0.002707, nan, nan, nan, nan, ...   \n",
       "1  [nan, 0.001803, 0.002707, nan, nan, nan, nan, ...   \n",
       "2  [nan, 0.001803, 0.002707, nan, nan, nan, nan, ...   \n",
       "3  [nan, 0.001803, 0.002707, nan, nan, nan, nan, ...   \n",
       "4  [nan, 0.001803, 0.002707, nan, nan, nan, nan, ...   \n",
       "\n",
       "                         MD_RMS_filtered_power_theta  \\\n",
       "0  [0.04553, 0.02853, nan, nan, nan, 0.03503, 0.0...   \n",
       "1  [0.04553, 0.02853, nan, nan, nan, 0.03503, 0.0...   \n",
       "2  [0.04553, 0.02853, nan, nan, nan, 0.03503, 0.0...   \n",
       "3  [0.04553, 0.02853, nan, nan, nan, 0.03503, 0.0...   \n",
       "4  [0.04553, 0.02853, nan, nan, nan, 0.03503, 0.0...   \n",
       "\n",
       "                         MD_RMS_filtered_power_gamma  \\\n",
       "0  [0.001228, 0.001134, nan, nan, nan, 0.001013, ...   \n",
       "1  [0.001228, 0.001134, nan, nan, nan, 0.001013, ...   \n",
       "2  [0.001228, 0.001134, nan, nan, nan, 0.001013, ...   \n",
       "3  [0.001228, 0.001134, nan, nan, nan, 0.001013, ...   \n",
       "4  [0.001228, 0.001134, nan, nan, nan, 0.001013, ...   \n",
       "\n",
       "                         LH_RMS_filtered_power_theta  \\\n",
       "0  [nan, 0.02965, nan, nan, nan, 0.03806, nan, na...   \n",
       "1  [nan, 0.02965, nan, nan, nan, 0.03806, nan, na...   \n",
       "2  [nan, 0.02965, nan, nan, nan, 0.03806, nan, na...   \n",
       "3  [nan, 0.02965, nan, nan, nan, 0.03806, nan, na...   \n",
       "4  [nan, 0.02965, nan, nan, nan, 0.03806, nan, na...   \n",
       "\n",
       "                         LH_RMS_filtered_power_gamma  \\\n",
       "0  [nan, 0.001294, nan, nan, nan, 0.000928, nan, ...   \n",
       "1  [nan, 0.001294, nan, nan, nan, 0.000928, nan, ...   \n",
       "2  [nan, 0.001294, nan, nan, nan, 0.000928, nan, ...   \n",
       "3  [nan, 0.001294, nan, nan, nan, 0.000928, nan, ...   \n",
       "4  [nan, 0.001294, nan, nan, nan, 0.000928, nan, ...   \n",
       "\n",
       "                        BLA_RMS_filtered_power_theta  \\\n",
       "0  [nan, 0.0215, nan, nan, nan, nan, nan, nan, na...   \n",
       "1  [nan, 0.0215, nan, nan, nan, nan, nan, nan, na...   \n",
       "2  [nan, 0.0215, nan, nan, nan, nan, nan, nan, na...   \n",
       "3  [nan, 0.0215, nan, nan, nan, nan, nan, nan, na...   \n",
       "4  [nan, 0.0215, nan, nan, nan, nan, nan, nan, na...   \n",
       "\n",
       "                        BLA_RMS_filtered_power_gamma  \\\n",
       "0  [nan, 0.002539, nan, nan, nan, nan, nan, nan, ...   \n",
       "1  [nan, 0.002539, nan, nan, nan, nan, nan, nan, ...   \n",
       "2  [nan, 0.002539, nan, nan, nan, nan, nan, nan, ...   \n",
       "3  [nan, 0.002539, nan, nan, nan, nan, nan, nan, ...   \n",
       "4  [nan, 0.002539, nan, nan, nan, nan, nan, nan, ...   \n",
       "\n",
       "                       vHPC_RMS_filtered_power_theta  \\\n",
       "0  [nan, 0.01796, nan, nan, nan, nan, nan, nan, n...   \n",
       "1  [nan, 0.01796, nan, nan, nan, nan, nan, nan, n...   \n",
       "2  [nan, 0.01796, nan, nan, nan, nan, nan, nan, n...   \n",
       "3  [nan, 0.01796, nan, nan, nan, nan, nan, nan, n...   \n",
       "4  [nan, 0.01796, nan, nan, nan, nan, nan, nan, n...   \n",
       "\n",
       "                       vHPC_RMS_filtered_power_gamma  \n",
       "0  [nan, 0.003302, nan, nan, nan, nan, nan, nan, ...  \n",
       "1  [nan, 0.003302, nan, nan, nan, nan, nan, nan, ...  \n",
       "2  [nan, 0.003302, nan, nan, nan, nan, nan, nan, ...  \n",
       "3  [nan, 0.003302, nan, nan, nan, nan, nan, nan, ...  \n",
       "4  [nan, 0.003302, nan, nan, nan, nan, nan, nan, ...  \n",
       "\n",
       "[5 rows x 123 columns]"
      ]
     },
     "execution_count": 42,
     "metadata": {},
     "output_type": "execute_result"
    }
   ],
   "source": [
    "TRIALS_AND_SPECTRAL_DF.head()"
   ]
  },
  {
   "cell_type": "code",
   "execution_count": 43,
   "metadata": {
    "tags": []
   },
   "outputs": [
    {
     "data": {
      "text/plain": [
       "Index(['tracked_subject', 'box_number', 'sleap_name', 'video_name',\n",
       "       'current_subject', 'tone_start_frame', 'reward_start_frame',\n",
       "       'tone_stop_frame', 'condition', 'competition_closeness',\n",
       "       ...\n",
       "       'mPFC_RMS_filtered_power_theta', 'mPFC_RMS_filtered_power_gamma',\n",
       "       'MD_RMS_filtered_power_theta', 'MD_RMS_filtered_power_gamma',\n",
       "       'LH_RMS_filtered_power_theta', 'LH_RMS_filtered_power_gamma',\n",
       "       'BLA_RMS_filtered_power_theta', 'BLA_RMS_filtered_power_gamma',\n",
       "       'vHPC_RMS_filtered_power_theta', 'vHPC_RMS_filtered_power_gamma'],\n",
       "      dtype='object', length=123)"
      ]
     },
     "execution_count": 43,
     "metadata": {},
     "output_type": "execute_result"
    }
   ],
   "source": [
    "TRIALS_AND_SPECTRAL_DF.columns"
   ]
  },
  {
   "cell_type": "markdown",
   "metadata": {},
   "source": [
    "# Calculating the relevant timestamps"
   ]
  },
  {
   "cell_type": "code",
   "execution_count": 44,
   "metadata": {
    "tags": []
   },
   "outputs": [],
   "source": [
    "TRIALS_AND_SPECTRAL_DF[\"baseline_start_timestamp\"] = TRIALS_AND_SPECTRAL_DF[\"tone_start_timestamp\"] - 30 * 20000"
   ]
  },
  {
   "cell_type": "code",
   "execution_count": 45,
   "metadata": {
    "tags": []
   },
   "outputs": [],
   "source": [
    "TRIALS_AND_SPECTRAL_DF[\"baseline_stop_timestamp\"] = TRIALS_AND_SPECTRAL_DF[\"tone_start_timestamp\"] - 20 * 20000"
   ]
  },
  {
   "cell_type": "code",
   "execution_count": 46,
   "metadata": {
    "tags": []
   },
   "outputs": [
    {
     "data": {
      "text/plain": [
       "0     526742\n",
       "1    2926740\n",
       "2    5226740\n",
       "3    7026736\n",
       "4    8126734\n",
       "Name: baseline_start_timestamp, dtype: int64"
      ]
     },
     "execution_count": 46,
     "metadata": {},
     "output_type": "execute_result"
    }
   ],
   "source": [
    "TRIALS_AND_SPECTRAL_DF[\"baseline_start_timestamp\"].head()"
   ]
  },
  {
   "cell_type": "code",
   "execution_count": 47,
   "metadata": {
    "tags": []
   },
   "outputs": [
    {
     "data": {
      "text/plain": [
       "0     726742\n",
       "1    3126740\n",
       "2    5426740\n",
       "3    7226736\n",
       "4    8326734\n",
       "Name: baseline_stop_timestamp, dtype: int64"
      ]
     },
     "execution_count": 47,
     "metadata": {},
     "output_type": "execute_result"
    }
   ],
   "source": [
    "TRIALS_AND_SPECTRAL_DF[\"baseline_stop_timestamp\"].head()"
   ]
  },
  {
   "cell_type": "code",
   "execution_count": 48,
   "metadata": {
    "tags": []
   },
   "outputs": [
    {
     "data": {
      "text/plain": [
       "0    1126742\n",
       "1    3526740\n",
       "2    5826740\n",
       "3    7626736\n",
       "4    8726734\n",
       "Name: tone_start_timestamp, dtype: int64"
      ]
     },
     "execution_count": 48,
     "metadata": {},
     "output_type": "execute_result"
    }
   ],
   "source": [
    "TRIALS_AND_SPECTRAL_DF[\"tone_start_timestamp\"].head()"
   ]
  },
  {
   "cell_type": "code",
   "execution_count": 49,
   "metadata": {
    "tags": []
   },
   "outputs": [
    {
     "data": {
      "text/plain": [
       "0    1326741\n",
       "1    3726740\n",
       "2    6026737\n",
       "3    7826735\n",
       "4    8926734\n",
       "Name: tone_stop_timestamp, dtype: int64"
      ]
     },
     "execution_count": 49,
     "metadata": {},
     "output_type": "execute_result"
    }
   ],
   "source": [
    "TRIALS_AND_SPECTRAL_DF[\"tone_stop_timestamp\"].head()"
   ]
  },
  {
   "cell_type": "markdown",
   "metadata": {},
   "source": [
    "- Filtering power"
   ]
  },
  {
   "cell_type": "code",
   "execution_count": 50,
   "metadata": {},
   "outputs": [
    {
     "data": {
      "text/html": [
       "<div>\n",
       "<style scoped>\n",
       "    .dataframe tbody tr th:only-of-type {\n",
       "        vertical-align: middle;\n",
       "    }\n",
       "\n",
       "    .dataframe tbody tr th {\n",
       "        vertical-align: top;\n",
       "    }\n",
       "\n",
       "    .dataframe thead th {\n",
       "        text-align: right;\n",
       "    }\n",
       "</style>\n",
       "<table border=\"1\" class=\"dataframe\">\n",
       "  <thead>\n",
       "    <tr style=\"text-align: right;\">\n",
       "      <th></th>\n",
       "      <th>tracked_subject</th>\n",
       "      <th>box_number</th>\n",
       "      <th>sleap_name</th>\n",
       "      <th>video_name</th>\n",
       "      <th>current_subject</th>\n",
       "      <th>tone_start_frame</th>\n",
       "      <th>reward_start_frame</th>\n",
       "      <th>tone_stop_frame</th>\n",
       "      <th>condition</th>\n",
       "      <th>competition_closeness</th>\n",
       "      <th>...</th>\n",
       "      <th>MD_RMS_filtered_power_theta</th>\n",
       "      <th>MD_RMS_filtered_power_gamma</th>\n",
       "      <th>LH_RMS_filtered_power_theta</th>\n",
       "      <th>LH_RMS_filtered_power_gamma</th>\n",
       "      <th>BLA_RMS_filtered_power_theta</th>\n",
       "      <th>BLA_RMS_filtered_power_gamma</th>\n",
       "      <th>vHPC_RMS_filtered_power_theta</th>\n",
       "      <th>vHPC_RMS_filtered_power_gamma</th>\n",
       "      <th>baseline_start_timestamp</th>\n",
       "      <th>baseline_stop_timestamp</th>\n",
       "    </tr>\n",
       "  </thead>\n",
       "  <tbody>\n",
       "    <tr>\n",
       "      <th>0</th>\n",
       "      <td>['1.1', '1.2']</td>\n",
       "      <td>1</td>\n",
       "      <td>20230612_112630_standard_comp_to_training_D1_s...</td>\n",
       "      <td>20230612_112630_standard_comp_to_training_D1_s...</td>\n",
       "      <td>1.1</td>\n",
       "      <td>1125</td>\n",
       "      <td>1225</td>\n",
       "      <td>1324</td>\n",
       "      <td>1.1</td>\n",
       "      <td>Subj 1 blocking Subj 2</td>\n",
       "      <td>...</td>\n",
       "      <td>[0.04553, 0.02853, nan, nan, nan, 0.03503, 0.0...</td>\n",
       "      <td>[0.001228, 0.001134, nan, nan, nan, 0.001013, ...</td>\n",
       "      <td>[nan, 0.02965, nan, nan, nan, 0.03806, nan, na...</td>\n",
       "      <td>[nan, 0.001294, nan, nan, nan, 0.000928, nan, ...</td>\n",
       "      <td>[nan, 0.0215, nan, nan, nan, nan, nan, nan, na...</td>\n",
       "      <td>[nan, 0.002539, nan, nan, nan, nan, nan, nan, ...</td>\n",
       "      <td>[nan, 0.01796, nan, nan, nan, nan, nan, nan, n...</td>\n",
       "      <td>[nan, 0.003302, nan, nan, nan, nan, nan, nan, ...</td>\n",
       "      <td>526742</td>\n",
       "      <td>726742</td>\n",
       "    </tr>\n",
       "    <tr>\n",
       "      <th>1</th>\n",
       "      <td>['1.1', '1.2']</td>\n",
       "      <td>1</td>\n",
       "      <td>20230612_112630_standard_comp_to_training_D1_s...</td>\n",
       "      <td>20230612_112630_standard_comp_to_training_D1_s...</td>\n",
       "      <td>1.1</td>\n",
       "      <td>3519</td>\n",
       "      <td>3619</td>\n",
       "      <td>3720</td>\n",
       "      <td>1.2</td>\n",
       "      <td>Subj 2 Only</td>\n",
       "      <td>...</td>\n",
       "      <td>[0.04553, 0.02853, nan, nan, nan, 0.03503, 0.0...</td>\n",
       "      <td>[0.001228, 0.001134, nan, nan, nan, 0.001013, ...</td>\n",
       "      <td>[nan, 0.02965, nan, nan, nan, 0.03806, nan, na...</td>\n",
       "      <td>[nan, 0.001294, nan, nan, nan, 0.000928, nan, ...</td>\n",
       "      <td>[nan, 0.0215, nan, nan, nan, nan, nan, nan, na...</td>\n",
       "      <td>[nan, 0.002539, nan, nan, nan, nan, nan, nan, ...</td>\n",
       "      <td>[nan, 0.01796, nan, nan, nan, nan, nan, nan, n...</td>\n",
       "      <td>[nan, 0.003302, nan, nan, nan, nan, nan, nan, ...</td>\n",
       "      <td>2926740</td>\n",
       "      <td>3126740</td>\n",
       "    </tr>\n",
       "    <tr>\n",
       "      <th>2</th>\n",
       "      <td>['1.1', '1.2']</td>\n",
       "      <td>1</td>\n",
       "      <td>20230612_112630_standard_comp_to_training_D1_s...</td>\n",
       "      <td>20230612_112630_standard_comp_to_training_D1_s...</td>\n",
       "      <td>1.1</td>\n",
       "      <td>5815</td>\n",
       "      <td>5915</td>\n",
       "      <td>6014</td>\n",
       "      <td>1.2</td>\n",
       "      <td>Subj 2 blocking Subj 1</td>\n",
       "      <td>...</td>\n",
       "      <td>[0.04553, 0.02853, nan, nan, nan, 0.03503, 0.0...</td>\n",
       "      <td>[0.001228, 0.001134, nan, nan, nan, 0.001013, ...</td>\n",
       "      <td>[nan, 0.02965, nan, nan, nan, 0.03806, nan, na...</td>\n",
       "      <td>[nan, 0.001294, nan, nan, nan, 0.000928, nan, ...</td>\n",
       "      <td>[nan, 0.0215, nan, nan, nan, nan, nan, nan, na...</td>\n",
       "      <td>[nan, 0.002539, nan, nan, nan, nan, nan, nan, ...</td>\n",
       "      <td>[nan, 0.01796, nan, nan, nan, nan, nan, nan, n...</td>\n",
       "      <td>[nan, 0.003302, nan, nan, nan, nan, nan, nan, ...</td>\n",
       "      <td>5226740</td>\n",
       "      <td>5426740</td>\n",
       "    </tr>\n",
       "    <tr>\n",
       "      <th>3</th>\n",
       "      <td>['1.1', '1.2']</td>\n",
       "      <td>1</td>\n",
       "      <td>20230612_112630_standard_comp_to_training_D1_s...</td>\n",
       "      <td>20230612_112630_standard_comp_to_training_D1_s...</td>\n",
       "      <td>1.1</td>\n",
       "      <td>7612</td>\n",
       "      <td>7712</td>\n",
       "      <td>7811</td>\n",
       "      <td>1.2</td>\n",
       "      <td>Subj 2 Only</td>\n",
       "      <td>...</td>\n",
       "      <td>[0.04553, 0.02853, nan, nan, nan, 0.03503, 0.0...</td>\n",
       "      <td>[0.001228, 0.001134, nan, nan, nan, 0.001013, ...</td>\n",
       "      <td>[nan, 0.02965, nan, nan, nan, 0.03806, nan, na...</td>\n",
       "      <td>[nan, 0.001294, nan, nan, nan, 0.000928, nan, ...</td>\n",
       "      <td>[nan, 0.0215, nan, nan, nan, nan, nan, nan, na...</td>\n",
       "      <td>[nan, 0.002539, nan, nan, nan, nan, nan, nan, ...</td>\n",
       "      <td>[nan, 0.01796, nan, nan, nan, nan, nan, nan, n...</td>\n",
       "      <td>[nan, 0.003302, nan, nan, nan, nan, nan, nan, ...</td>\n",
       "      <td>7026736</td>\n",
       "      <td>7226736</td>\n",
       "    </tr>\n",
       "    <tr>\n",
       "      <th>4</th>\n",
       "      <td>['1.1', '1.2']</td>\n",
       "      <td>1</td>\n",
       "      <td>20230612_112630_standard_comp_to_training_D1_s...</td>\n",
       "      <td>20230612_112630_standard_comp_to_training_D1_s...</td>\n",
       "      <td>1.1</td>\n",
       "      <td>8709</td>\n",
       "      <td>8809</td>\n",
       "      <td>8910</td>\n",
       "      <td>1.2</td>\n",
       "      <td>Subj 2 Only</td>\n",
       "      <td>...</td>\n",
       "      <td>[0.04553, 0.02853, nan, nan, nan, 0.03503, 0.0...</td>\n",
       "      <td>[0.001228, 0.001134, nan, nan, nan, 0.001013, ...</td>\n",
       "      <td>[nan, 0.02965, nan, nan, nan, 0.03806, nan, na...</td>\n",
       "      <td>[nan, 0.001294, nan, nan, nan, 0.000928, nan, ...</td>\n",
       "      <td>[nan, 0.0215, nan, nan, nan, nan, nan, nan, na...</td>\n",
       "      <td>[nan, 0.002539, nan, nan, nan, nan, nan, nan, ...</td>\n",
       "      <td>[nan, 0.01796, nan, nan, nan, nan, nan, nan, n...</td>\n",
       "      <td>[nan, 0.003302, nan, nan, nan, nan, nan, nan, ...</td>\n",
       "      <td>8126734</td>\n",
       "      <td>8326734</td>\n",
       "    </tr>\n",
       "  </tbody>\n",
       "</table>\n",
       "<p>5 rows × 125 columns</p>\n",
       "</div>"
      ],
      "text/plain": [
       "  tracked_subject  box_number  \\\n",
       "0  ['1.1', '1.2']           1   \n",
       "1  ['1.1', '1.2']           1   \n",
       "2  ['1.1', '1.2']           1   \n",
       "3  ['1.1', '1.2']           1   \n",
       "4  ['1.1', '1.2']           1   \n",
       "\n",
       "                                          sleap_name  \\\n",
       "0  20230612_112630_standard_comp_to_training_D1_s...   \n",
       "1  20230612_112630_standard_comp_to_training_D1_s...   \n",
       "2  20230612_112630_standard_comp_to_training_D1_s...   \n",
       "3  20230612_112630_standard_comp_to_training_D1_s...   \n",
       "4  20230612_112630_standard_comp_to_training_D1_s...   \n",
       "\n",
       "                                          video_name current_subject  \\\n",
       "0  20230612_112630_standard_comp_to_training_D1_s...             1.1   \n",
       "1  20230612_112630_standard_comp_to_training_D1_s...             1.1   \n",
       "2  20230612_112630_standard_comp_to_training_D1_s...             1.1   \n",
       "3  20230612_112630_standard_comp_to_training_D1_s...             1.1   \n",
       "4  20230612_112630_standard_comp_to_training_D1_s...             1.1   \n",
       "\n",
       "   tone_start_frame  reward_start_frame  tone_stop_frame condition  \\\n",
       "0              1125                1225             1324       1.1   \n",
       "1              3519                3619             3720       1.2   \n",
       "2              5815                5915             6014       1.2   \n",
       "3              7612                7712             7811       1.2   \n",
       "4              8709                8809             8910       1.2   \n",
       "\n",
       "    competition_closeness  ...  \\\n",
       "0  Subj 1 blocking Subj 2  ...   \n",
       "1             Subj 2 Only  ...   \n",
       "2  Subj 2 blocking Subj 1  ...   \n",
       "3             Subj 2 Only  ...   \n",
       "4             Subj 2 Only  ...   \n",
       "\n",
       "                         MD_RMS_filtered_power_theta  \\\n",
       "0  [0.04553, 0.02853, nan, nan, nan, 0.03503, 0.0...   \n",
       "1  [0.04553, 0.02853, nan, nan, nan, 0.03503, 0.0...   \n",
       "2  [0.04553, 0.02853, nan, nan, nan, 0.03503, 0.0...   \n",
       "3  [0.04553, 0.02853, nan, nan, nan, 0.03503, 0.0...   \n",
       "4  [0.04553, 0.02853, nan, nan, nan, 0.03503, 0.0...   \n",
       "\n",
       "                         MD_RMS_filtered_power_gamma  \\\n",
       "0  [0.001228, 0.001134, nan, nan, nan, 0.001013, ...   \n",
       "1  [0.001228, 0.001134, nan, nan, nan, 0.001013, ...   \n",
       "2  [0.001228, 0.001134, nan, nan, nan, 0.001013, ...   \n",
       "3  [0.001228, 0.001134, nan, nan, nan, 0.001013, ...   \n",
       "4  [0.001228, 0.001134, nan, nan, nan, 0.001013, ...   \n",
       "\n",
       "                         LH_RMS_filtered_power_theta  \\\n",
       "0  [nan, 0.02965, nan, nan, nan, 0.03806, nan, na...   \n",
       "1  [nan, 0.02965, nan, nan, nan, 0.03806, nan, na...   \n",
       "2  [nan, 0.02965, nan, nan, nan, 0.03806, nan, na...   \n",
       "3  [nan, 0.02965, nan, nan, nan, 0.03806, nan, na...   \n",
       "4  [nan, 0.02965, nan, nan, nan, 0.03806, nan, na...   \n",
       "\n",
       "                         LH_RMS_filtered_power_gamma  \\\n",
       "0  [nan, 0.001294, nan, nan, nan, 0.000928, nan, ...   \n",
       "1  [nan, 0.001294, nan, nan, nan, 0.000928, nan, ...   \n",
       "2  [nan, 0.001294, nan, nan, nan, 0.000928, nan, ...   \n",
       "3  [nan, 0.001294, nan, nan, nan, 0.000928, nan, ...   \n",
       "4  [nan, 0.001294, nan, nan, nan, 0.000928, nan, ...   \n",
       "\n",
       "                        BLA_RMS_filtered_power_theta  \\\n",
       "0  [nan, 0.0215, nan, nan, nan, nan, nan, nan, na...   \n",
       "1  [nan, 0.0215, nan, nan, nan, nan, nan, nan, na...   \n",
       "2  [nan, 0.0215, nan, nan, nan, nan, nan, nan, na...   \n",
       "3  [nan, 0.0215, nan, nan, nan, nan, nan, nan, na...   \n",
       "4  [nan, 0.0215, nan, nan, nan, nan, nan, nan, na...   \n",
       "\n",
       "                        BLA_RMS_filtered_power_gamma  \\\n",
       "0  [nan, 0.002539, nan, nan, nan, nan, nan, nan, ...   \n",
       "1  [nan, 0.002539, nan, nan, nan, nan, nan, nan, ...   \n",
       "2  [nan, 0.002539, nan, nan, nan, nan, nan, nan, ...   \n",
       "3  [nan, 0.002539, nan, nan, nan, nan, nan, nan, ...   \n",
       "4  [nan, 0.002539, nan, nan, nan, nan, nan, nan, ...   \n",
       "\n",
       "                       vHPC_RMS_filtered_power_theta  \\\n",
       "0  [nan, 0.01796, nan, nan, nan, nan, nan, nan, n...   \n",
       "1  [nan, 0.01796, nan, nan, nan, nan, nan, nan, n...   \n",
       "2  [nan, 0.01796, nan, nan, nan, nan, nan, nan, n...   \n",
       "3  [nan, 0.01796, nan, nan, nan, nan, nan, nan, n...   \n",
       "4  [nan, 0.01796, nan, nan, nan, nan, nan, nan, n...   \n",
       "\n",
       "                       vHPC_RMS_filtered_power_gamma baseline_start_timestamp  \\\n",
       "0  [nan, 0.003302, nan, nan, nan, nan, nan, nan, ...                   526742   \n",
       "1  [nan, 0.003302, nan, nan, nan, nan, nan, nan, ...                  2926740   \n",
       "2  [nan, 0.003302, nan, nan, nan, nan, nan, nan, ...                  5226740   \n",
       "3  [nan, 0.003302, nan, nan, nan, nan, nan, nan, ...                  7026736   \n",
       "4  [nan, 0.003302, nan, nan, nan, nan, nan, nan, ...                  8126734   \n",
       "\n",
       "  baseline_stop_timestamp  \n",
       "0                  726742  \n",
       "1                 3126740  \n",
       "2                 5426740  \n",
       "3                 7226736  \n",
       "4                 8326734  \n",
       "\n",
       "[5 rows x 125 columns]"
      ]
     },
     "execution_count": 50,
     "metadata": {},
     "output_type": "execute_result"
    }
   ],
   "source": [
    "TRIALS_AND_SPECTRAL_DF.head()"
   ]
  },
  {
   "cell_type": "code",
   "execution_count": 51,
   "metadata": {
    "tags": []
   },
   "outputs": [],
   "source": [
    "power_columns = [col for col in TRIALS_AND_SPECTRAL_DF.columns if \"power\" in col and \"timestamps\" not in col and \"calculation\" not in col]"
   ]
  },
  {
   "cell_type": "code",
   "execution_count": 52,
   "metadata": {
    "tags": []
   },
   "outputs": [
    {
     "data": {
      "text/plain": [
       "['mPFC_trace_power_all_frequencies_all_windows',\n",
       " 'MD_trace_power_all_frequencies_all_windows',\n",
       " 'LH_trace_power_all_frequencies_all_windows',\n",
       " 'BLA_trace_power_all_frequencies_all_windows',\n",
       " 'vHPC_trace_power_all_frequencies_all_windows',\n",
       " 'mPFC_RMS_power_all_frequencies_all_windows',\n",
       " 'MD_RMS_power_all_frequencies_all_windows',\n",
       " 'LH_RMS_power_all_frequencies_all_windows',\n",
       " 'BLA_RMS_power_all_frequencies_all_windows',\n",
       " 'vHPC_RMS_power_all_frequencies_all_windows',\n",
       " 'mPFC_trace_filtered_power_all_frequencies_all_windows',\n",
       " 'MD_trace_filtered_power_all_frequencies_all_windows',\n",
       " 'LH_trace_filtered_power_all_frequencies_all_windows',\n",
       " 'BLA_trace_filtered_power_all_frequencies_all_windows',\n",
       " 'vHPC_trace_filtered_power_all_frequencies_all_windows',\n",
       " 'mPFC_RMS_filtered_power_all_frequencies_all_windows',\n",
       " 'MD_RMS_filtered_power_all_frequencies_all_windows',\n",
       " 'LH_RMS_filtered_power_all_frequencies_all_windows',\n",
       " 'BLA_RMS_filtered_power_all_frequencies_all_windows',\n",
       " 'vHPC_RMS_filtered_power_all_frequencies_all_windows',\n",
       " 'mPFC_trace_power_theta',\n",
       " 'mPFC_trace_power_gamma',\n",
       " 'MD_trace_power_theta',\n",
       " 'MD_trace_power_gamma',\n",
       " 'LH_trace_power_theta',\n",
       " 'LH_trace_power_gamma',\n",
       " 'BLA_trace_power_theta',\n",
       " 'BLA_trace_power_gamma',\n",
       " 'vHPC_trace_power_theta',\n",
       " 'vHPC_trace_power_gamma',\n",
       " 'mPFC_RMS_power_theta',\n",
       " 'mPFC_RMS_power_gamma',\n",
       " 'MD_RMS_power_theta',\n",
       " 'MD_RMS_power_gamma',\n",
       " 'LH_RMS_power_theta',\n",
       " 'LH_RMS_power_gamma',\n",
       " 'BLA_RMS_power_theta',\n",
       " 'BLA_RMS_power_gamma',\n",
       " 'vHPC_RMS_power_theta',\n",
       " 'vHPC_RMS_power_gamma',\n",
       " 'mPFC_trace_filtered_power_theta',\n",
       " 'mPFC_trace_filtered_power_gamma',\n",
       " 'MD_trace_filtered_power_theta',\n",
       " 'MD_trace_filtered_power_gamma',\n",
       " 'LH_trace_filtered_power_theta',\n",
       " 'LH_trace_filtered_power_gamma',\n",
       " 'BLA_trace_filtered_power_theta',\n",
       " 'BLA_trace_filtered_power_gamma',\n",
       " 'vHPC_trace_filtered_power_theta',\n",
       " 'vHPC_trace_filtered_power_gamma',\n",
       " 'mPFC_RMS_filtered_power_theta',\n",
       " 'mPFC_RMS_filtered_power_gamma',\n",
       " 'MD_RMS_filtered_power_theta',\n",
       " 'MD_RMS_filtered_power_gamma',\n",
       " 'LH_RMS_filtered_power_theta',\n",
       " 'LH_RMS_filtered_power_gamma',\n",
       " 'BLA_RMS_filtered_power_theta',\n",
       " 'BLA_RMS_filtered_power_gamma',\n",
       " 'vHPC_RMS_filtered_power_theta',\n",
       " 'vHPC_RMS_filtered_power_gamma']"
      ]
     },
     "execution_count": 52,
     "metadata": {},
     "output_type": "execute_result"
    }
   ],
   "source": [
    "power_columns"
   ]
  },
  {
   "cell_type": "code",
   "execution_count": 53,
   "metadata": {
    "tags": []
   },
   "outputs": [
    {
     "name": "stdout",
     "output_type": "stream",
     "text": [
      "mPFC_trace_power_all_frequencies\n",
      "MD_trace_power_all_frequencies\n",
      "LH_trace_power_all_frequencies\n",
      "BLA_trace_power_all_frequencies\n",
      "vHPC_trace_power_all_frequencies\n",
      "mPFC_RMS_power_all_frequencies\n",
      "MD_RMS_power_all_frequencies\n",
      "LH_RMS_power_all_frequencies\n",
      "BLA_RMS_power_all_frequencies\n",
      "vHPC_RMS_power_all_frequencies\n",
      "mPFC_trace_filtered_power_all_frequencies\n",
      "MD_trace_filtered_power_all_frequencies\n",
      "LH_trace_filtered_power_all_frequencies\n",
      "BLA_trace_filtered_power_all_frequencies\n",
      "vHPC_trace_filtered_power_all_frequencies\n",
      "mPFC_RMS_filtered_power_all_frequencies\n",
      "MD_RMS_filtered_power_all_frequencies\n",
      "LH_RMS_filtered_power_all_frequencies\n",
      "BLA_RMS_filtered_power_all_frequencies\n",
      "vHPC_RMS_filtered_power_all_frequencies\n",
      "mPFC_trace_power_theta\n",
      "mPFC_trace_power_gamma\n",
      "MD_trace_power_theta\n",
      "MD_trace_power_gamma\n",
      "LH_trace_power_theta\n",
      "LH_trace_power_gamma\n",
      "BLA_trace_power_theta\n",
      "BLA_trace_power_gamma\n",
      "vHPC_trace_power_theta\n",
      "vHPC_trace_power_gamma\n",
      "mPFC_RMS_power_theta\n",
      "mPFC_RMS_power_gamma\n",
      "MD_RMS_power_theta\n",
      "MD_RMS_power_gamma\n",
      "LH_RMS_power_theta\n",
      "LH_RMS_power_gamma\n",
      "BLA_RMS_power_theta\n",
      "BLA_RMS_power_gamma\n",
      "vHPC_RMS_power_theta\n",
      "vHPC_RMS_power_gamma\n",
      "mPFC_trace_filtered_power_theta\n",
      "mPFC_trace_filtered_power_gamma\n",
      "MD_trace_filtered_power_theta\n",
      "MD_trace_filtered_power_gamma\n",
      "LH_trace_filtered_power_theta\n",
      "LH_trace_filtered_power_gamma\n",
      "BLA_trace_filtered_power_theta\n",
      "BLA_trace_filtered_power_gamma\n",
      "vHPC_trace_filtered_power_theta\n",
      "vHPC_trace_filtered_power_gamma\n",
      "mPFC_RMS_filtered_power_theta\n",
      "mPFC_RMS_filtered_power_gamma\n",
      "MD_RMS_filtered_power_theta\n",
      "MD_RMS_filtered_power_gamma\n",
      "LH_RMS_filtered_power_theta\n",
      "LH_RMS_filtered_power_gamma\n",
      "BLA_RMS_filtered_power_theta\n",
      "BLA_RMS_filtered_power_gamma\n",
      "vHPC_RMS_filtered_power_theta\n",
      "vHPC_RMS_filtered_power_gamma\n"
     ]
    }
   ],
   "source": [
    "for col in power_columns:\n",
    "    brain_region = col.replace(\"all_windows\", \"_\").strip(\"_\")\n",
    "    print(brain_region)\n",
    "    \n",
    "    updated_item_col = \"baseline_{}\".format(brain_region)\n",
    "    updated_timestamp_col = \"baseline_power_timestamps\".format(brain_region)\n",
    "    TRIALS_AND_SPECTRAL_DF[updated_item_col] = TRIALS_AND_SPECTRAL_DF.apply(lambda x: utilities.helper.filter_by_timestamp_range(start=x[\"baseline_start_timestamp\"], stop=x[\"baseline_stop_timestamp\"], timestamps=x[\"power_timestamps\"], items=x[col])[1], axis=1)\n",
    "TRIALS_AND_SPECTRAL_DF[updated_timestamp_col] = TRIALS_AND_SPECTRAL_DF.apply(lambda x: utilities.helper.filter_by_timestamp_range(start=x[\"baseline_start_timestamp\"], stop=x[\"baseline_stop_timestamp\"], timestamps=x[\"power_timestamps\"], items=x[col])[0], axis=1)"
   ]
  },
  {
   "cell_type": "code",
   "execution_count": 54,
   "metadata": {
    "tags": []
   },
   "outputs": [
    {
     "name": "stdout",
     "output_type": "stream",
     "text": [
      "mPFC_trace_power_all_frequencies\n",
      "MD_trace_power_all_frequencies\n",
      "LH_trace_power_all_frequencies\n",
      "BLA_trace_power_all_frequencies\n",
      "vHPC_trace_power_all_frequencies\n",
      "mPFC_RMS_power_all_frequencies\n",
      "MD_RMS_power_all_frequencies\n",
      "LH_RMS_power_all_frequencies\n",
      "BLA_RMS_power_all_frequencies\n",
      "vHPC_RMS_power_all_frequencies\n",
      "mPFC_trace_filtered_power_all_frequencies\n",
      "MD_trace_filtered_power_all_frequencies\n",
      "LH_trace_filtered_power_all_frequencies\n",
      "BLA_trace_filtered_power_all_frequencies\n",
      "vHPC_trace_filtered_power_all_frequencies\n",
      "mPFC_RMS_filtered_power_all_frequencies\n",
      "MD_RMS_filtered_power_all_frequencies\n",
      "LH_RMS_filtered_power_all_frequencies\n",
      "BLA_RMS_filtered_power_all_frequencies\n",
      "vHPC_RMS_filtered_power_all_frequencies\n",
      "mPFC_trace_power_theta\n",
      "mPFC_trace_power_gamma\n",
      "MD_trace_power_theta\n",
      "MD_trace_power_gamma\n",
      "LH_trace_power_theta\n",
      "LH_trace_power_gamma\n",
      "BLA_trace_power_theta\n",
      "BLA_trace_power_gamma\n",
      "vHPC_trace_power_theta\n",
      "vHPC_trace_power_gamma\n",
      "mPFC_RMS_power_theta\n",
      "mPFC_RMS_power_gamma\n",
      "MD_RMS_power_theta\n",
      "MD_RMS_power_gamma\n",
      "LH_RMS_power_theta\n",
      "LH_RMS_power_gamma\n",
      "BLA_RMS_power_theta\n",
      "BLA_RMS_power_gamma\n",
      "vHPC_RMS_power_theta\n",
      "vHPC_RMS_power_gamma\n",
      "mPFC_trace_filtered_power_theta\n",
      "mPFC_trace_filtered_power_gamma\n",
      "MD_trace_filtered_power_theta\n",
      "MD_trace_filtered_power_gamma\n",
      "LH_trace_filtered_power_theta\n",
      "LH_trace_filtered_power_gamma\n",
      "BLA_trace_filtered_power_theta\n",
      "BLA_trace_filtered_power_gamma\n",
      "vHPC_trace_filtered_power_theta\n",
      "vHPC_trace_filtered_power_gamma\n",
      "mPFC_RMS_filtered_power_theta\n",
      "mPFC_RMS_filtered_power_gamma\n",
      "MD_RMS_filtered_power_theta\n",
      "MD_RMS_filtered_power_gamma\n",
      "LH_RMS_filtered_power_theta\n",
      "LH_RMS_filtered_power_gamma\n",
      "BLA_RMS_filtered_power_theta\n",
      "BLA_RMS_filtered_power_gamma\n",
      "vHPC_RMS_filtered_power_theta\n",
      "vHPC_RMS_filtered_power_gamma\n"
     ]
    }
   ],
   "source": [
    "for col in power_columns:\n",
    "    brain_region = col.replace(\"all_windows\", \"_\").strip(\"_\")\n",
    "    print(brain_region)\n",
    "    \n",
    "    updated_item_col = \"trial_{}\".format(brain_region)\n",
    "    updated_timestamp_col = \"trial_power_timestamps\".format(brain_region)\n",
    "    TRIALS_AND_SPECTRAL_DF[updated_item_col] = TRIALS_AND_SPECTRAL_DF.apply(lambda x: utilities.helper.filter_by_timestamp_range(start=x[\"tone_start_timestamp\"], stop=x[\"tone_stop_timestamp\"], timestamps=x[\"power_timestamps\"], items=x[col])[1], axis=1)\n",
    "TRIALS_AND_SPECTRAL_DF[updated_timestamp_col] = TRIALS_AND_SPECTRAL_DF.apply(lambda x: utilities.helper.filter_by_timestamp_range(start=x[\"tone_start_timestamp\"], stop=x[\"tone_stop_timestamp\"], timestamps=x[\"power_timestamps\"], items=x[col])[0], axis=1)"
   ]
  },
  {
   "cell_type": "code",
   "execution_count": 55,
   "metadata": {
    "tags": []
   },
   "outputs": [
    {
     "data": {
      "text/plain": [
       "0      [530000, 540000, 550000, 560000, 570000, 58000...\n",
       "1      [2930000, 2940000, 2950000, 2960000, 2970000, ...\n",
       "2      [5230000, 5240000, 5250000, 5260000, 5270000, ...\n",
       "3      [7030000, 7040000, 7050000, 7060000, 7070000, ...\n",
       "4      [8130000, 8140000, 8150000, 8160000, 8170000, ...\n",
       "                             ...                        \n",
       "962    [60080000, 60090000, 60100000, 60110000, 60120...\n",
       "963    [61580000, 61590000, 61600000, 61610000, 61620...\n",
       "964    [63580000, 63590000, 63600000, 63610000, 63620...\n",
       "965    [65480000, 65490000, 65500000, 65510000, 65520...\n",
       "966    [66480000, 66490000, 66500000, 66510000, 66520...\n",
       "Name: baseline_power_timestamps, Length: 967, dtype: object"
      ]
     },
     "execution_count": 55,
     "metadata": {},
     "output_type": "execute_result"
    }
   ],
   "source": [
    "TRIALS_AND_SPECTRAL_DF[\"baseline_power_timestamps\"]"
   ]
  },
  {
   "cell_type": "code",
   "execution_count": 56,
   "metadata": {
    "tags": []
   },
   "outputs": [],
   "source": [
    "TRIALS_AND_SPECTRAL_DF = TRIALS_AND_SPECTRAL_DF.drop(columns=power_columns + [\"power_timestamps\"], errors=\"ignore\")"
   ]
  },
  {
   "cell_type": "code",
   "execution_count": 57,
   "metadata": {
    "tags": []
   },
   "outputs": [],
   "source": [
    "TRIALS_AND_SPECTRAL_DF.to_pickle(os.path.join(OUTPUT_DIR, FULL_LFP_TRACES_PKL))"
   ]
  },
  {
   "cell_type": "code",
   "execution_count": 58,
   "metadata": {
    "tags": []
   },
   "outputs": [
    {
     "name": "stdout",
     "output_type": "stream",
     "text": [
      "tracked_subject\n",
      "box_number\n",
      "sleap_name\n",
      "video_name\n",
      "current_subject\n",
      "tone_start_frame\n",
      "reward_start_frame\n",
      "tone_stop_frame\n",
      "condition\n",
      "competition_closeness\n",
      "notes\n",
      "experiment\n",
      "session_dir\n",
      "all_subjects\n",
      "tone_start_timestamp\n",
      "tone_stop_timestamp\n",
      "trial_label\n",
      "cohort\n",
      "tone_frames\n",
      "box_1_port_entry_frames\n",
      "box_2_port_entry_frames\n",
      "session_path\n",
      "recording\n",
      "subject\n",
      "first_timestamp\n",
      "last_timestamp\n",
      "video_timestamps\n",
      "tone_timestamps\n",
      "box_1_port_entry_timestamps\n",
      "box_2_port_entry_timestamps\n",
      "lfp_timestamps\n",
      "mPFC_lfp_trace\n",
      "MD_lfp_trace\n",
      "LH_lfp_trace\n",
      "BLA_lfp_trace\n",
      "vHPC_lfp_trace\n",
      "mPFC_lfp_zscore\n",
      "MD_lfp_zscore\n",
      "LH_lfp_zscore\n",
      "BLA_lfp_zscore\n",
      "vHPC_lfp_zscore\n",
      "mPFC_lfp_RMS\n",
      "MD_lfp_RMS\n",
      "LH_lfp_RMS\n",
      "BLA_lfp_RMS\n",
      "vHPC_lfp_RMS\n",
      "mPFC_lfp_mask\n",
      "MD_lfp_mask\n",
      "LH_lfp_mask\n",
      "BLA_lfp_mask\n",
      "vHPC_lfp_mask\n",
      "mPFC_lfp_trace_filtered\n",
      "MD_lfp_trace_filtered\n",
      "LH_lfp_trace_filtered\n",
      "BLA_lfp_trace_filtered\n",
      "vHPC_lfp_trace_filtered\n",
      "mPFC_lfp_RMS_filtered\n",
      "MD_lfp_RMS_filtered\n",
      "LH_lfp_RMS_filtered\n",
      "BLA_lfp_RMS_filtered\n",
      "vHPC_lfp_RMS_filtered\n",
      "power_calculation_frequencies\n",
      "baseline_start_timestamp\n",
      "baseline_stop_timestamp\n",
      "baseline_mPFC_trace_power_all_frequencies\n",
      "baseline_MD_trace_power_all_frequencies\n",
      "baseline_LH_trace_power_all_frequencies\n",
      "baseline_BLA_trace_power_all_frequencies\n",
      "baseline_vHPC_trace_power_all_frequencies\n",
      "baseline_mPFC_RMS_power_all_frequencies\n",
      "baseline_MD_RMS_power_all_frequencies\n",
      "baseline_LH_RMS_power_all_frequencies\n",
      "baseline_BLA_RMS_power_all_frequencies\n",
      "baseline_vHPC_RMS_power_all_frequencies\n",
      "baseline_mPFC_trace_filtered_power_all_frequencies\n",
      "baseline_MD_trace_filtered_power_all_frequencies\n",
      "baseline_LH_trace_filtered_power_all_frequencies\n",
      "baseline_BLA_trace_filtered_power_all_frequencies\n",
      "baseline_vHPC_trace_filtered_power_all_frequencies\n",
      "baseline_mPFC_RMS_filtered_power_all_frequencies\n",
      "baseline_MD_RMS_filtered_power_all_frequencies\n",
      "baseline_LH_RMS_filtered_power_all_frequencies\n",
      "baseline_BLA_RMS_filtered_power_all_frequencies\n",
      "baseline_vHPC_RMS_filtered_power_all_frequencies\n",
      "baseline_mPFC_trace_power_theta\n",
      "baseline_mPFC_trace_power_gamma\n",
      "baseline_MD_trace_power_theta\n",
      "baseline_MD_trace_power_gamma\n",
      "baseline_LH_trace_power_theta\n",
      "baseline_LH_trace_power_gamma\n",
      "baseline_BLA_trace_power_theta\n",
      "baseline_BLA_trace_power_gamma\n",
      "baseline_vHPC_trace_power_theta\n",
      "baseline_vHPC_trace_power_gamma\n",
      "baseline_mPFC_RMS_power_theta\n",
      "baseline_mPFC_RMS_power_gamma\n",
      "baseline_MD_RMS_power_theta\n",
      "baseline_MD_RMS_power_gamma\n",
      "baseline_LH_RMS_power_theta\n",
      "baseline_LH_RMS_power_gamma\n",
      "baseline_BLA_RMS_power_theta\n",
      "baseline_BLA_RMS_power_gamma\n",
      "baseline_vHPC_RMS_power_theta\n",
      "baseline_vHPC_RMS_power_gamma\n",
      "baseline_mPFC_trace_filtered_power_theta\n",
      "baseline_mPFC_trace_filtered_power_gamma\n",
      "baseline_MD_trace_filtered_power_theta\n",
      "baseline_MD_trace_filtered_power_gamma\n",
      "baseline_LH_trace_filtered_power_theta\n",
      "baseline_LH_trace_filtered_power_gamma\n",
      "baseline_BLA_trace_filtered_power_theta\n",
      "baseline_BLA_trace_filtered_power_gamma\n",
      "baseline_vHPC_trace_filtered_power_theta\n",
      "baseline_vHPC_trace_filtered_power_gamma\n",
      "baseline_mPFC_RMS_filtered_power_theta\n",
      "baseline_mPFC_RMS_filtered_power_gamma\n",
      "baseline_MD_RMS_filtered_power_theta\n",
      "baseline_MD_RMS_filtered_power_gamma\n",
      "baseline_LH_RMS_filtered_power_theta\n",
      "baseline_LH_RMS_filtered_power_gamma\n",
      "baseline_BLA_RMS_filtered_power_theta\n",
      "baseline_BLA_RMS_filtered_power_gamma\n",
      "baseline_vHPC_RMS_filtered_power_theta\n",
      "baseline_vHPC_RMS_filtered_power_gamma\n",
      "baseline_power_timestamps\n",
      "trial_mPFC_trace_power_all_frequencies\n",
      "trial_MD_trace_power_all_frequencies\n",
      "trial_LH_trace_power_all_frequencies\n",
      "trial_BLA_trace_power_all_frequencies\n",
      "trial_vHPC_trace_power_all_frequencies\n",
      "trial_mPFC_RMS_power_all_frequencies\n",
      "trial_MD_RMS_power_all_frequencies\n",
      "trial_LH_RMS_power_all_frequencies\n",
      "trial_BLA_RMS_power_all_frequencies\n",
      "trial_vHPC_RMS_power_all_frequencies\n",
      "trial_mPFC_trace_filtered_power_all_frequencies\n",
      "trial_MD_trace_filtered_power_all_frequencies\n",
      "trial_LH_trace_filtered_power_all_frequencies\n",
      "trial_BLA_trace_filtered_power_all_frequencies\n",
      "trial_vHPC_trace_filtered_power_all_frequencies\n",
      "trial_mPFC_RMS_filtered_power_all_frequencies\n",
      "trial_MD_RMS_filtered_power_all_frequencies\n",
      "trial_LH_RMS_filtered_power_all_frequencies\n",
      "trial_BLA_RMS_filtered_power_all_frequencies\n",
      "trial_vHPC_RMS_filtered_power_all_frequencies\n",
      "trial_mPFC_trace_power_theta\n",
      "trial_mPFC_trace_power_gamma\n",
      "trial_MD_trace_power_theta\n",
      "trial_MD_trace_power_gamma\n",
      "trial_LH_trace_power_theta\n",
      "trial_LH_trace_power_gamma\n",
      "trial_BLA_trace_power_theta\n",
      "trial_BLA_trace_power_gamma\n",
      "trial_vHPC_trace_power_theta\n",
      "trial_vHPC_trace_power_gamma\n",
      "trial_mPFC_RMS_power_theta\n",
      "trial_mPFC_RMS_power_gamma\n",
      "trial_MD_RMS_power_theta\n",
      "trial_MD_RMS_power_gamma\n",
      "trial_LH_RMS_power_theta\n",
      "trial_LH_RMS_power_gamma\n",
      "trial_BLA_RMS_power_theta\n",
      "trial_BLA_RMS_power_gamma\n",
      "trial_vHPC_RMS_power_theta\n",
      "trial_vHPC_RMS_power_gamma\n",
      "trial_mPFC_trace_filtered_power_theta\n",
      "trial_mPFC_trace_filtered_power_gamma\n",
      "trial_MD_trace_filtered_power_theta\n",
      "trial_MD_trace_filtered_power_gamma\n",
      "trial_LH_trace_filtered_power_theta\n",
      "trial_LH_trace_filtered_power_gamma\n",
      "trial_BLA_trace_filtered_power_theta\n",
      "trial_BLA_trace_filtered_power_gamma\n",
      "trial_vHPC_trace_filtered_power_theta\n",
      "trial_vHPC_trace_filtered_power_gamma\n",
      "trial_mPFC_RMS_filtered_power_theta\n",
      "trial_mPFC_RMS_filtered_power_gamma\n",
      "trial_MD_RMS_filtered_power_theta\n",
      "trial_MD_RMS_filtered_power_gamma\n",
      "trial_LH_RMS_filtered_power_theta\n",
      "trial_LH_RMS_filtered_power_gamma\n",
      "trial_BLA_RMS_filtered_power_theta\n",
      "trial_BLA_RMS_filtered_power_gamma\n",
      "trial_vHPC_RMS_filtered_power_theta\n",
      "trial_vHPC_RMS_filtered_power_gamma\n",
      "trial_power_timestamps\n"
     ]
    }
   ],
   "source": [
    "for col in TRIALS_AND_SPECTRAL_DF:\n",
    "    print(col)"
   ]
  },
  {
   "cell_type": "code",
   "execution_count": 59,
   "metadata": {},
   "outputs": [
    {
     "ename": "ValueError",
     "evalue": "",
     "output_type": "error",
     "traceback": [
      "\u001b[0;31m---------------------------------------------------------------------------\u001b[0m",
      "\u001b[0;31mValueError\u001b[0m                                Traceback (most recent call last)",
      "Cell \u001b[0;32mIn[59], line 1\u001b[0m\n\u001b[0;32m----> 1\u001b[0m \u001b[38;5;28;01mraise\u001b[39;00m \u001b[38;5;167;01mValueError\u001b[39;00m()\n",
      "\u001b[0;31mValueError\u001b[0m: "
     ]
    }
   ],
   "source": [
    "raise ValueError()"
   ]
  },
  {
   "cell_type": "markdown",
   "metadata": {},
   "source": [
    "- Filtering coherence"
   ]
  },
  {
   "cell_type": "code",
   "execution_count": null,
   "metadata": {
    "tags": []
   },
   "outputs": [],
   "source": [
    "coherence_columns = [col for col in TRIALS_AND_SPECTRAL_DF.columns if \"coherence\" in col and \"timestamps\" not in col and \"calculation\" not in col]"
   ]
  },
  {
   "cell_type": "code",
   "execution_count": null,
   "metadata": {
    "tags": []
   },
   "outputs": [],
   "source": [
    "coherence_columns"
   ]
  },
  {
   "cell_type": "code",
   "execution_count": null,
   "metadata": {
    "tags": []
   },
   "outputs": [],
   "source": [
    "for col in coherence_columns:\n",
    "    brain_region = col.replace(\"all_windows\", \"_\").strip(\"_\")\n",
    "    print(brain_region)\n",
    "    \n",
    "    updated_item_col = \"baseline_{}\".format(brain_region)\n",
    "    updated_timestamp_col = \"baseline_coherence_timestamps\".format(brain_region)\n",
    "    TRIALS_AND_SPECTRAL_DF[updated_item_col] = TRIALS_AND_SPECTRAL_DF.apply(lambda x: utilities.helper.filter_by_timestamp_range(start=x[\"baseline_start_timestamp\"], stop=x[\"baseline_stop_timestamp\"], timestamps=x[\"coherence_timestamps\"], items=x[col])[1], axis=1)\n",
    "TRIALS_AND_SPECTRAL_DF[updated_timestamp_col] = TRIALS_AND_SPECTRAL_DF.apply(lambda x: utilities.helper.filter_by_timestamp_range(start=x[\"baseline_start_timestamp\"], stop=x[\"baseline_stop_timestamp\"], timestamps=x[\"coherence_timestamps\"], items=x[col])[0], axis=1)"
   ]
  },
  {
   "cell_type": "code",
   "execution_count": null,
   "metadata": {
    "tags": []
   },
   "outputs": [],
   "source": [
    "for col in coherence_columns:\n",
    "    brain_region = col.replace(\"all_windows\", \"_\").strip(\"_\")\n",
    "    print(brain_region)\n",
    "    \n",
    "    updated_item_col = \"trial_{}\".format(brain_region)\n",
    "    updated_timestamp_col = \"trial_coherence_timestamps\".format(brain_region)\n",
    "    TRIALS_AND_SPECTRAL_DF[updated_item_col] = TRIALS_AND_SPECTRAL_DF.apply(lambda x: utilities.helper.filter_by_timestamp_range(start=x[\"tone_start_timestamp\"], stop=x[\"tone_stop_timestamp\"], timestamps=x[\"coherence_timestamps\"], items=x[col])[1], axis=1)\n",
    "TRIALS_AND_SPECTRAL_DF[updated_timestamp_col] = TRIALS_AND_SPECTRAL_DF.apply(lambda x: utilities.helper.filter_by_timestamp_range(start=x[\"tone_start_timestamp\"], stop=x[\"tone_stop_timestamp\"], timestamps=x[\"coherence_timestamps\"], items=x[col])[0], axis=1)"
   ]
  },
  {
   "cell_type": "code",
   "execution_count": null,
   "metadata": {
    "tags": []
   },
   "outputs": [],
   "source": [
    "TRIALS_AND_SPECTRAL_DF = TRIALS_AND_SPECTRAL_DF.drop(columns=coherence_columns + [\"coherence_timestamps\"], errors=\"ignore\")"
   ]
  },
  {
   "cell_type": "markdown",
   "metadata": {},
   "source": [
    "- Filtering Grangers"
   ]
  },
  {
   "cell_type": "code",
   "execution_count": null,
   "metadata": {
    "tags": []
   },
   "outputs": [],
   "source": [
    "granger_columns = [col for col in TRIALS_AND_SPECTRAL_DF.columns if \"granger\" in col and \"timestamps\" not in col and \"calculation\" not in col]"
   ]
  },
  {
   "cell_type": "code",
   "execution_count": null,
   "metadata": {
    "tags": []
   },
   "outputs": [],
   "source": [
    "granger_columns"
   ]
  },
  {
   "cell_type": "code",
   "execution_count": null,
   "metadata": {
    "tags": []
   },
   "outputs": [],
   "source": [
    "for col in granger_columns:\n",
    "    brain_region = col.replace(\"all_windows\", \"_\").strip(\"_\")\n",
    "    print(brain_region)\n",
    "    \n",
    "    updated_item_col = \"baseline_{}\".format(brain_region)\n",
    "    updated_timestamp_col = \"baseline_granger_timestamps\".format(brain_region)\n",
    "    TRIALS_AND_SPECTRAL_DF[updated_item_col] = TRIALS_AND_SPECTRAL_DF.apply(lambda x: utilities.helper.filter_by_timestamp_range(start=x[\"baseline_start_timestamp\"], stop=x[\"baseline_stop_timestamp\"], timestamps=x[\"granger_timestamps\"], items=x[col])[1], axis=1)\n",
    "TRIALS_AND_SPECTRAL_DF[updated_timestamp_col] = TRIALS_AND_SPECTRAL_DF.apply(lambda x: utilities.helper.filter_by_timestamp_range(start=x[\"baseline_start_timestamp\"], stop=x[\"baseline_stop_timestamp\"], timestamps=x[\"granger_timestamps\"], items=x[col])[0], axis=1)"
   ]
  },
  {
   "cell_type": "code",
   "execution_count": null,
   "metadata": {
    "tags": []
   },
   "outputs": [],
   "source": [
    "for col in granger_columns:\n",
    "    brain_region = col.replace(\"all_windows\", \"_\").strip(\"_\")\n",
    "    print(brain_region)\n",
    "    \n",
    "    updated_item_col = \"trial_{}\".format(brain_region)\n",
    "    updated_timestamp_col = \"trial_granger_timestamps\".format(brain_region)\n",
    "    TRIALS_AND_SPECTRAL_DF[updated_item_col] = TRIALS_AND_SPECTRAL_DF.apply(lambda x: utilities.helper.filter_by_timestamp_range(start=x[\"tone_start_timestamp\"], stop=x[\"tone_stop_timestamp\"], timestamps=x[\"granger_timestamps\"], items=x[col])[1], axis=1)\n",
    "TRIALS_AND_SPECTRAL_DF[updated_timestamp_col] = TRIALS_AND_SPECTRAL_DF.apply(lambda x: utilities.helper.filter_by_timestamp_range(start=x[\"tone_start_timestamp\"], stop=x[\"tone_stop_timestamp\"], timestamps=x[\"granger_timestamps\"], items=x[col])[0], axis=1)"
   ]
  },
  {
   "cell_type": "code",
   "execution_count": null,
   "metadata": {
    "tags": []
   },
   "outputs": [],
   "source": [
    "TRIALS_AND_SPECTRAL_DF = TRIALS_AND_SPECTRAL_DF.drop(columns=granger_columns + [\"granger_timestamps\"], errors=\"ignore\")"
   ]
  },
  {
   "cell_type": "markdown",
   "metadata": {},
   "source": [
    "# Filtering out the SLEAP posed for during trials"
   ]
  },
  {
   "cell_type": "code",
   "execution_count": null,
   "metadata": {
    "tags": []
   },
   "outputs": [],
   "source": [
    "sleap_columns = [col for col in TRIALS_AND_SPECTRAL_DF.columns if \"locations\" in col or \"velocity\" in col or \"to_reward_port\" in col]"
   ]
  },
  {
   "cell_type": "code",
   "execution_count": null,
   "metadata": {
    "tags": []
   },
   "outputs": [],
   "source": [
    "sleap_columns"
   ]
  },
  {
   "cell_type": "code",
   "execution_count": null,
   "metadata": {
    "tags": []
   },
   "outputs": [],
   "source": [
    "TRIALS_AND_SPECTRAL_DF[\"video_timestamps\"].iloc[0].shape"
   ]
  },
  {
   "cell_type": "code",
   "execution_count": null,
   "metadata": {
    "tags": []
   },
   "outputs": [],
   "source": [
    "TRIALS_AND_SPECTRAL_DF[\"subject_thorax_to_reward_port\"].iloc[0].shape"
   ]
  },
  {
   "cell_type": "code",
   "execution_count": null,
   "metadata": {
    "tags": []
   },
   "outputs": [],
   "source": [
    "for col in sorted(sleap_columns):\n",
    "    updated_item_col = \"baseline_{}\".format(col)\n",
    "    print(updated_item_col)\n",
    "    updated_timestamp_col = \"baseline_video_timestamps\".format(col)\n",
    "    if \"agent\" in col:\n",
    "        TRIALS_AND_SPECTRAL_DF[updated_item_col] = TRIALS_AND_SPECTRAL_DF.apply(lambda x: utilities.helper.filter_by_timestamp_range(start=x[\"baseline_start_timestamp\"], stop=x[\"baseline_stop_timestamp\"], timestamps=x[\"video_timestamps\"], items=x[col])[1] if x[\"agent\"] else np.nan, axis=1)\n",
    "    else:\n",
    "        TRIALS_AND_SPECTRAL_DF[updated_item_col] = TRIALS_AND_SPECTRAL_DF.apply(lambda x: utilities.helper.filter_by_timestamp_range(start=x[\"baseline_start_timestamp\"], stop=x[\"baseline_stop_timestamp\"], timestamps=x[\"video_timestamps\"], items=x[col])[1], axis=1)\n",
    "\n",
    "TRIALS_AND_SPECTRAL_DF[updated_timestamp_col] = TRIALS_AND_SPECTRAL_DF.apply(lambda x: utilities.helper.filter_by_timestamp_range(start=x[\"baseline_start_timestamp\"], stop=x[\"baseline_stop_timestamp\"], timestamps=x[\"video_timestamps\"], items=x[col])[0], axis=1)"
   ]
  },
  {
   "cell_type": "code",
   "execution_count": null,
   "metadata": {},
   "outputs": [],
   "source": [
    "TRIALS_AND_SPECTRAL_DF[\"tone_start_timestamp]"
   ]
  },
  {
   "cell_type": "code",
   "execution_count": null,
   "metadata": {
    "tags": []
   },
   "outputs": [],
   "source": [
    "for col in sorted(sleap_columns):\n",
    "    updated_item_col = \"trial_{}\".format(col)\n",
    "    print(updated_item_col)\n",
    "    updated_timestamp_col = \"trial_video_timestamps\".format(col)\n",
    "    if \"agent\" in col:\n",
    "        TRIALS_AND_SPECTRAL_DF[updated_item_col] = TRIALS_AND_SPECTRAL_DF.apply(lambda x: utilities.helper.filter_by_timestamp_range(start=x[\"tone_start_timestamp\"], stop=x[\"tone_stop_timestamp\"], timestamps=x[\"video_timestamps\"], items=x[col])[1] if x[\"agent\"] else np.nan, axis=1)\n",
    "    else:\n",
    "        TRIALS_AND_SPECTRAL_DF[updated_item_col] = TRIALS_AND_SPECTRAL_DF.apply(lambda x: utilities.helper.filter_by_timestamp_range(start=x[\"tone_start_timestamp\"], stop=x[\"tone_stop_timestamp\"], timestamps=x[\"video_timestamps\"], items=x[col])[1], axis=1)\n",
    "\n",
    "TRIALS_AND_SPECTRAL_DF[updated_timestamp_col] = TRIALS_AND_SPECTRAL_DF.apply(lambda x: utilities.helper.filter_by_timestamp_range(start=x[\"tone_start_timestamp\"], stop=x[\"tone_stop_timestamp\"], timestamps=x[\"video_timestamps\"], items=x[col])[0], axis=1)"
   ]
  },
  {
   "cell_type": "code",
   "execution_count": null,
   "metadata": {
    "tags": []
   },
   "outputs": [],
   "source": [
    "TRIALS_AND_SPECTRAL_DF[TRIALS_AND_SPECTRAL_DF[\"trial_subject_thorax_velocity\"].apply(lambda x: np.isnan(x).any())][\"baseline_subject_locations\"]"
   ]
  },
  {
   "cell_type": "code",
   "execution_count": null,
   "metadata": {
    "tags": []
   },
   "outputs": [],
   "source": [
    "TRIALS_AND_SPECTRAL_DF = TRIALS_AND_SPECTRAL_DF.drop(columns=sleap_columns + [\"video_timestamps\"], errors=\"ignore\")"
   ]
  },
  {
   "cell_type": "code",
   "execution_count": null,
   "metadata": {
    "tags": []
   },
   "outputs": [],
   "source": [
    "for col in TRIALS_AND_SPECTRAL_DF.columns:\n",
    "    print(col)"
   ]
  },
  {
   "cell_type": "code",
   "execution_count": null,
   "metadata": {
    "tags": []
   },
   "outputs": [],
   "source": [
    "TRIALS_AND_SPECTRAL_DF.to_pickle(os.path.join(OUTPUT_DIR, FULL_LFP_TRACES_PKL))"
   ]
  },
  {
   "cell_type": "code",
   "execution_count": null,
   "metadata": {},
   "outputs": [],
   "source": []
  }
 ],
 "metadata": {
  "deepnote": {},
  "deepnote_execution_queue": [],
  "deepnote_notebook_id": "cf8fe3695d074ee7887fdf6459cbf5ce",
  "kernelspec": {
   "display_name": "spike_interface_0_99_0",
   "language": "python",
   "name": "spike_interface_0_99_0"
  },
  "language_info": {
   "codemirror_mode": {
    "name": "ipython",
    "version": 3
   },
   "file_extension": ".py",
   "mimetype": "text/x-python",
   "name": "python",
   "nbconvert_exporter": "python",
   "pygments_lexer": "ipython3",
   "version": "3.10.13"
  }
 },
 "nbformat": 4,
 "nbformat_minor": 4
}
