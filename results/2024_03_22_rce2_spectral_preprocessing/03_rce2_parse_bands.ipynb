{
 "cells": [
  {
   "cell_type": "markdown",
   "metadata": {
    "cell_id": "c3a02adc9e884466bc8c79db549cc3d2",
    "deepnote_cell_type": "text-cell-h1",
    "formattedRanges": [
     {
      "fromCodePoint": 0,
      "marks": {
       "bold": true,
       "underline": true
      },
      "toCodePoint": 17,
      "type": "marks"
     }
    ]
   },
   "source": [
    "# All oscillation analysis"
   ]
  },
  {
   "cell_type": "markdown",
   "metadata": {
    "cell_id": "4546bee655b14a5dbf393161f1228e60",
    "deepnote_cell_type": "text-cell-p",
    "formattedRanges": []
   },
   "source": [
    "Brief 1-2 sentence description of notebook."
   ]
  },
  {
   "cell_type": "code",
   "execution_count": 1,
   "metadata": {
    "tags": []
   },
   "outputs": [],
   "source": [
    "# Imports of all used packages and libraries\n",
    "import sys\n",
    "import os\n",
    "import git\n",
    "import glob\n",
    "from collections import defaultdict"
   ]
  },
  {
   "cell_type": "code",
   "execution_count": 2,
   "metadata": {
    "tags": []
   },
   "outputs": [],
   "source": [
    "git_repo = git.Repo(\".\", search_parent_directories=True)\n",
    "git_root = git_repo.git.rev_parse(\"--show-toplevel\")"
   ]
  },
  {
   "cell_type": "code",
   "execution_count": 3,
   "metadata": {
    "tags": []
   },
   "outputs": [
    {
     "data": {
      "text/plain": [
       "'/blue/npadillacoreano/ryoi360/projects/reward_comp/repos/reward_competition_extention'"
      ]
     },
     "execution_count": 3,
     "metadata": {},
     "output_type": "execute_result"
    }
   ],
   "source": [
    "git_root"
   ]
  },
  {
   "cell_type": "code",
   "execution_count": 4,
   "metadata": {
    "tags": []
   },
   "outputs": [],
   "source": [
    "sys.path.insert(0, os.path.join(git_root, 'src'))"
   ]
  },
  {
   "cell_type": "code",
   "execution_count": 5,
   "metadata": {
    "tags": []
   },
   "outputs": [],
   "source": [
    "import warnings\n",
    "warnings.filterwarnings('ignore')"
   ]
  },
  {
   "cell_type": "code",
   "execution_count": 6,
   "metadata": {
    "tags": []
   },
   "outputs": [],
   "source": [
    "import os\n",
    "import collections\n",
    "import itertools\n",
    "from collections import defaultdict\n",
    "from itertools import combinations"
   ]
  },
  {
   "cell_type": "code",
   "execution_count": 7,
   "metadata": {
    "cell_id": "03b495cefa6a4798a44c7f2e4c6a3ea7",
    "deepnote_cell_type": "code",
    "deepnote_to_be_reexecuted": false,
    "execution_millis": 21,
    "execution_start": 1691424003626,
    "source_hash": null,
    "tags": []
   },
   "outputs": [],
   "source": [
    "# Imports of all used packages and libraries\n",
    "import numpy as np\n",
    "import pandas as pd\n",
    "from scipy import stats\n",
    "from scipy.stats import mannwhitneyu\n"
   ]
  },
  {
   "cell_type": "code",
   "execution_count": 8,
   "metadata": {
    "tags": []
   },
   "outputs": [],
   "source": [
    "import matplotlib\n",
    "import matplotlib.colors as mcolors\n",
    "import matplotlib.pyplot as plt\n",
    "import matplotlib.cm as cm\n",
    "import seaborn as sns\n",
    "import colorsys"
   ]
  },
  {
   "cell_type": "code",
   "execution_count": 9,
   "metadata": {
    "tags": []
   },
   "outputs": [],
   "source": [
    "from sklearn.metrics import confusion_matrix"
   ]
  },
  {
   "cell_type": "code",
   "execution_count": 10,
   "metadata": {
    "tags": []
   },
   "outputs": [],
   "source": [
    "from spectral_connectivity import Multitaper, Connectivity\n",
    "import spectral_connectivity"
   ]
  },
  {
   "cell_type": "code",
   "execution_count": 11,
   "metadata": {
    "tags": []
   },
   "outputs": [],
   "source": [
    "import utilities.helper\n",
    "import trodes.read_exported"
   ]
  },
  {
   "cell_type": "code",
   "execution_count": 12,
   "metadata": {
    "tags": []
   },
   "outputs": [],
   "source": [
    "FONTSIZE = 20"
   ]
  },
  {
   "cell_type": "code",
   "execution_count": 13,
   "metadata": {
    "tags": []
   },
   "outputs": [],
   "source": [
    "font = {'weight' : 'medium',\n",
    "        'size'   : 20}\n",
    "\n",
    "matplotlib.rc('font', **font)"
   ]
  },
  {
   "cell_type": "markdown",
   "metadata": {
    "cell_id": "d290bac2c17940bfbc0f9296beaf70e5",
    "deepnote_cell_type": "text-cell-h2",
    "formattedRanges": []
   },
   "source": [
    "## Inputs & Data"
   ]
  },
  {
   "cell_type": "markdown",
   "metadata": {
    "cell_id": "e528ce19c608425292151930d380f49f",
    "deepnote_cell_type": "text-cell-p",
    "formattedRanges": []
   },
   "source": [
    "Explanation of each input and where it comes from."
   ]
  },
  {
   "cell_type": "code",
   "execution_count": 14,
   "metadata": {
    "cell_id": "6cf83a5811054461a718a71673d09aab",
    "deepnote_cell_type": "code",
    "deepnote_to_be_reexecuted": false,
    "execution_millis": 373,
    "execution_start": 1691424003628,
    "source_hash": null,
    "tags": []
   },
   "outputs": [],
   "source": [
    "# Inputs and Required data loading\n",
    "# input varaible names are in all caps snake case\n",
    "# Whenever an input changes or is used for processing \n",
    "# the vairables are all lower in snake case\n",
    "OUTPUT_DIR = r\"./proc/\" # where data is saved should always be shown in the inputs\n",
    "os.makedirs(OUTPUT_DIR, exist_ok=True)\n",
    "OUTPUT_PREFIX = \"rce_pilot_2\""
   ]
  },
  {
   "cell_type": "code",
   "execution_count": 15,
   "metadata": {
    "tags": []
   },
   "outputs": [],
   "source": [
    "LFP_SPECTRAL_DF = pd.read_pickle(\"./proc/rce_pilot_2_02_full_spectral.pkl\")"
   ]
  },
  {
   "cell_type": "code",
   "execution_count": 16,
   "metadata": {
    "tags": []
   },
   "outputs": [],
   "source": [
    "# CHANNEL_MAP_AND_ALL_TRIALS_DF = pd.read_pickle(\"./proc/full_baseline_and_trial_lfp_traces.pkl\")\n",
    "# MERGED_TRIALS_AND_VIDEO = pd.read_pickle(\"./proc/trial_SLEAP_and_metadata.pkl\")"
   ]
  },
  {
   "cell_type": "code",
   "execution_count": 17,
   "metadata": {
    "tags": []
   },
   "outputs": [],
   "source": [
    "theta_band = (4, 12)\n",
    "gamma_band = (30, 50)"
   ]
  },
  {
   "cell_type": "code",
   "execution_count": 18,
   "metadata": {
    "tags": []
   },
   "outputs": [],
   "source": [
    "FONTSIZE=20"
   ]
  },
  {
   "cell_type": "code",
   "execution_count": null,
   "metadata": {},
   "outputs": [],
   "source": []
  },
  {
   "cell_type": "code",
   "execution_count": 19,
   "metadata": {
    "tags": []
   },
   "outputs": [],
   "source": [
    "FULL_LFP_TRACES_PKL = \"{}_03_spectral_bands.pkl\".format(OUTPUT_PREFIX)"
   ]
  },
  {
   "cell_type": "markdown",
   "metadata": {
    "cell_id": "e3ee4891d43a4ac287413afc552ca289",
    "deepnote_cell_type": "text-cell-h2",
    "formattedRanges": []
   },
   "source": [
    "## Outputs"
   ]
  },
  {
   "cell_type": "markdown",
   "metadata": {
    "cell_id": "9ccbf6cc70fd4d379fa29317f733771f",
    "deepnote_cell_type": "text-cell-p",
    "formattedRanges": []
   },
   "source": [
    "Describe each output that the notebook creates. "
   ]
  },
  {
   "cell_type": "markdown",
   "metadata": {
    "cell_id": "fc8e8920a6944918a15fac575cdf6e78",
    "deepnote_cell_type": "text-cell-bullet",
    "formattedRanges": []
   },
   "source": [
    "- Is it a plot or is it data?"
   ]
  },
  {
   "cell_type": "markdown",
   "metadata": {
    "cell_id": "1e639d4776a84aa9ac8ded2e14fa57db",
    "deepnote_cell_type": "text-cell-bullet",
    "formattedRanges": []
   },
   "source": [
    "- How valuable is the output and why is it valuable or useful?"
   ]
  },
  {
   "cell_type": "markdown",
   "metadata": {},
   "source": [
    "## Functions "
   ]
  },
  {
   "cell_type": "code",
   "execution_count": null,
   "metadata": {},
   "outputs": [],
   "source": []
  },
  {
   "cell_type": "markdown",
   "metadata": {
    "cell_id": "8999d19b6b7d4d63bc90f0b0bd9ab085",
    "deepnote_cell_type": "text-cell-h2",
    "formattedRanges": []
   },
   "source": [
    "## Processing"
   ]
  },
  {
   "cell_type": "markdown",
   "metadata": {
    "cell_id": "9b36cdf08567463082b005cb0dec684b",
    "deepnote_cell_type": "text-cell-p",
    "formattedRanges": []
   },
   "source": [
    "Describe what is done to the data here and how inputs are manipulated to generate outputs. "
   ]
  },
  {
   "cell_type": "code",
   "execution_count": 20,
   "metadata": {
    "cell_id": "89aaba237c644628b1b37604b75e7cb1",
    "deepnote_cell_type": "code",
    "tags": []
   },
   "outputs": [],
   "source": [
    "# As much code and as many cells as required\n",
    "# includes EDA and playing with data\n",
    "# GO HAM!\n",
    "\n",
    "# Ideally functions are defined here first and then data is processed using the functions\n",
    "\n",
    "# function names are short and in snake case all lowercase\n",
    "# a function name should be unique but does not have to describe the function\n",
    "# doc strings describe functions not function names\n",
    "\n",
    "\n"
   ]
  },
  {
   "cell_type": "code",
   "execution_count": 21,
   "metadata": {
    "tags": []
   },
   "outputs": [
    {
     "data": {
      "text/plain": [
       "Index(['cohort', 'session_dir', 'tone_frames', 'box_1_port_entry_frames',\n",
       "       'box_2_port_entry_frames', 'video_name', 'session_path', 'recording',\n",
       "       'current_subject', 'subject', 'all_subjects', 'first_timestamp',\n",
       "       'last_timestamp', 'video_timestamps', 'tone_timestamps',\n",
       "       'box_1_port_entry_timestamps', 'box_2_port_entry_timestamps',\n",
       "       'lfp_timestamps', 'mPFC_lfp_trace', 'MD_lfp_trace', 'LH_lfp_trace',\n",
       "       'BLA_lfp_trace', 'vHPC_lfp_trace', 'mPFC_lfp_zscore', 'MD_lfp_zscore',\n",
       "       'LH_lfp_zscore', 'BLA_lfp_zscore', 'vHPC_lfp_zscore', 'mPFC_lfp_RMS',\n",
       "       'MD_lfp_RMS', 'LH_lfp_RMS', 'BLA_lfp_RMS', 'vHPC_lfp_RMS',\n",
       "       'mPFC_lfp_mask', 'MD_lfp_mask', 'LH_lfp_mask', 'BLA_lfp_mask',\n",
       "       'vHPC_lfp_mask', 'mPFC_lfp_trace_filtered', 'MD_lfp_trace_filtered',\n",
       "       'LH_lfp_trace_filtered', 'BLA_lfp_trace_filtered',\n",
       "       'vHPC_lfp_trace_filtered', 'mPFC_lfp_RMS_filtered',\n",
       "       'MD_lfp_RMS_filtered', 'LH_lfp_RMS_filtered', 'BLA_lfp_RMS_filtered',\n",
       "       'vHPC_lfp_RMS_filtered', 'mPFC_trace_power_all_frequencies_all_windows',\n",
       "       'MD_trace_power_all_frequencies_all_windows',\n",
       "       'LH_trace_power_all_frequencies_all_windows',\n",
       "       'BLA_trace_power_all_frequencies_all_windows',\n",
       "       'vHPC_trace_power_all_frequencies_all_windows',\n",
       "       'mPFC_RMS_power_all_frequencies_all_windows',\n",
       "       'MD_RMS_power_all_frequencies_all_windows',\n",
       "       'LH_RMS_power_all_frequencies_all_windows',\n",
       "       'BLA_RMS_power_all_frequencies_all_windows',\n",
       "       'vHPC_RMS_power_all_frequencies_all_windows',\n",
       "       'mPFC_trace_filtered_power_all_frequencies_all_windows',\n",
       "       'MD_trace_filtered_power_all_frequencies_all_windows',\n",
       "       'LH_trace_filtered_power_all_frequencies_all_windows',\n",
       "       'BLA_trace_filtered_power_all_frequencies_all_windows',\n",
       "       'vHPC_trace_filtered_power_all_frequencies_all_windows',\n",
       "       'mPFC_RMS_filtered_power_all_frequencies_all_windows',\n",
       "       'MD_RMS_filtered_power_all_frequencies_all_windows',\n",
       "       'LH_RMS_filtered_power_all_frequencies_all_windows',\n",
       "       'BLA_RMS_filtered_power_all_frequencies_all_windows',\n",
       "       'vHPC_RMS_filtered_power_all_frequencies_all_windows',\n",
       "       'power_timestamps', 'power_calculation_frequencies'],\n",
       "      dtype='object')"
      ]
     },
     "execution_count": 21,
     "metadata": {},
     "output_type": "execute_result"
    }
   ],
   "source": [
    "LFP_SPECTRAL_DF.columns"
   ]
  },
  {
   "cell_type": "markdown",
   "metadata": {
    "tags": []
   },
   "source": [
    "## Filtering by theta and gamma band"
   ]
  },
  {
   "cell_type": "raw",
   "metadata": {},
   "source": []
  },
  {
   "cell_type": "markdown",
   "metadata": {},
   "source": [
    "- Filtering theta/gamma for power"
   ]
  },
  {
   "cell_type": "code",
   "execution_count": 22,
   "metadata": {
    "tags": []
   },
   "outputs": [],
   "source": [
    "power_columns = [col for col in LFP_SPECTRAL_DF.columns if \"power\" in col and \"calculation\" not in col and \"time\" not in col]"
   ]
  },
  {
   "cell_type": "code",
   "execution_count": 23,
   "metadata": {
    "tags": []
   },
   "outputs": [
    {
     "data": {
      "text/plain": [
       "['mPFC_trace_power_all_frequencies_all_windows',\n",
       " 'MD_trace_power_all_frequencies_all_windows',\n",
       " 'LH_trace_power_all_frequencies_all_windows',\n",
       " 'BLA_trace_power_all_frequencies_all_windows',\n",
       " 'vHPC_trace_power_all_frequencies_all_windows',\n",
       " 'mPFC_RMS_power_all_frequencies_all_windows',\n",
       " 'MD_RMS_power_all_frequencies_all_windows',\n",
       " 'LH_RMS_power_all_frequencies_all_windows',\n",
       " 'BLA_RMS_power_all_frequencies_all_windows',\n",
       " 'vHPC_RMS_power_all_frequencies_all_windows',\n",
       " 'mPFC_trace_filtered_power_all_frequencies_all_windows',\n",
       " 'MD_trace_filtered_power_all_frequencies_all_windows',\n",
       " 'LH_trace_filtered_power_all_frequencies_all_windows',\n",
       " 'BLA_trace_filtered_power_all_frequencies_all_windows',\n",
       " 'vHPC_trace_filtered_power_all_frequencies_all_windows',\n",
       " 'mPFC_RMS_filtered_power_all_frequencies_all_windows',\n",
       " 'MD_RMS_filtered_power_all_frequencies_all_windows',\n",
       " 'LH_RMS_filtered_power_all_frequencies_all_windows',\n",
       " 'BLA_RMS_filtered_power_all_frequencies_all_windows',\n",
       " 'vHPC_RMS_filtered_power_all_frequencies_all_windows']"
      ]
     },
     "execution_count": 23,
     "metadata": {},
     "output_type": "execute_result"
    }
   ],
   "source": [
    "power_columns"
   ]
  },
  {
   "cell_type": "code",
   "execution_count": 24,
   "metadata": {
    "tags": []
   },
   "outputs": [
    {
     "data": {
      "text/plain": [
       "array([False, False, False, False,  True,  True,  True,  True,  True,\n",
       "        True,  True,  True,  True, False, False, False, False, False,\n",
       "       False, False, False, False, False, False, False, False, False,\n",
       "       False, False, False, False, False, False, False, False, False,\n",
       "       False, False, False, False, False, False, False, False, False,\n",
       "       False, False, False, False, False, False, False, False, False,\n",
       "       False, False, False, False, False, False, False, False, False,\n",
       "       False, False, False, False, False, False, False, False, False,\n",
       "       False, False, False, False, False, False, False, False, False,\n",
       "       False, False, False, False, False, False, False, False, False,\n",
       "       False, False, False, False, False, False, False, False, False,\n",
       "       False, False, False, False, False, False, False, False, False,\n",
       "       False, False, False, False, False, False, False, False, False,\n",
       "       False, False, False, False, False, False, False, False, False,\n",
       "       False, False, False, False, False, False, False, False, False,\n",
       "       False, False, False, False, False, False, False, False, False,\n",
       "       False, False, False, False, False, False, False, False, False,\n",
       "       False, False, False, False, False, False, False, False, False,\n",
       "       False, False, False, False, False, False, False, False, False,\n",
       "       False, False, False, False, False, False, False, False, False,\n",
       "       False, False, False, False, False, False, False, False, False,\n",
       "       False, False, False, False, False, False, False, False, False,\n",
       "       False, False, False, False, False, False, False, False, False,\n",
       "       False, False, False, False, False, False, False, False, False,\n",
       "       False, False, False, False, False, False, False, False, False,\n",
       "       False, False, False, False, False, False, False, False, False,\n",
       "       False, False, False, False, False, False, False, False, False,\n",
       "       False, False, False, False, False, False, False, False, False,\n",
       "       False, False, False, False, False, False, False, False, False,\n",
       "       False, False, False, False, False, False, False, False, False,\n",
       "       False, False, False, False, False, False, False, False, False,\n",
       "       False, False, False, False, False, False, False, False, False,\n",
       "       False, False, False, False, False, False, False, False, False,\n",
       "       False, False, False, False, False, False, False, False, False,\n",
       "       False, False, False, False, False, False, False, False, False,\n",
       "       False, False, False, False, False, False, False, False, False,\n",
       "       False, False, False, False, False, False, False, False, False,\n",
       "       False, False, False, False, False, False, False, False, False,\n",
       "       False, False, False, False, False, False, False, False, False,\n",
       "       False, False, False, False, False, False, False, False, False,\n",
       "       False, False, False, False, False, False, False, False, False,\n",
       "       False, False, False, False, False, False, False, False, False,\n",
       "       False, False, False, False, False, False, False, False, False,\n",
       "       False, False, False, False, False, False, False, False, False,\n",
       "       False, False, False, False, False, False, False, False, False,\n",
       "       False, False, False, False, False, False, False, False, False,\n",
       "       False, False, False, False, False, False, False, False, False,\n",
       "       False, False, False, False, False, False, False, False, False,\n",
       "       False, False, False, False, False, False, False, False, False,\n",
       "       False, False, False, False, False, False, False, False, False,\n",
       "       False, False, False, False, False, False, False, False, False,\n",
       "       False, False, False, False, False, False, False, False, False,\n",
       "       False, False, False, False, False, False, False, False, False,\n",
       "       False, False, False, False, False, False, False, False, False,\n",
       "       False, False, False, False, False, False, False, False, False,\n",
       "       False, False, False, False, False])"
      ]
     },
     "execution_count": 24,
     "metadata": {},
     "output_type": "execute_result"
    }
   ],
   "source": [
    "LFP_SPECTRAL_DF[\"power_calculation_frequencies\"].apply(lambda x: (x >= theta_band[0]) & (x <= theta_band[1])).iloc[0]"
   ]
  },
  {
   "cell_type": "code",
   "execution_count": 25,
   "metadata": {
    "tags": []
   },
   "outputs": [
    {
     "name": "stdout",
     "output_type": "stream",
     "text": [
      "mPFC_trace\n",
      "MD_trace\n",
      "LH_trace\n",
      "BLA_trace\n",
      "vHPC_trace\n",
      "mPFC_RMS\n",
      "MD_RMS\n",
      "LH_RMS\n",
      "BLA_RMS\n",
      "vHPC_RMS\n",
      "mPFC_trace_filtered\n",
      "MD_trace_filtered\n",
      "LH_trace_filtered\n",
      "BLA_trace_filtered\n",
      "vHPC_trace_filtered\n",
      "mPFC_RMS_filtered\n",
      "MD_RMS_filtered\n",
      "LH_RMS_filtered\n",
      "BLA_RMS_filtered\n",
      "vHPC_RMS_filtered\n"
     ]
    }
   ],
   "source": [
    "for col in power_columns:\n",
    "    # brain_region_name = col.split(\"_\")[0]\n",
    "    brain_region_name = col.split(\"power\")[0]\n",
    "    brain_region_name = brain_region_name.strip(\"_\")\n",
    "    print(brain_region_name)\n",
    "    theta_power_col = \"{}_power_theta\".format(brain_region_name)\n",
    "    gamma_power_col = \"{}_power_gamma\".format(brain_region_name)\n",
    "    LFP_SPECTRAL_DF[\"{}\".format(theta_power_col)] = LFP_SPECTRAL_DF.apply(lambda x: np.nanmean(x[col][:, (x[\"power_calculation_frequencies\"] >= theta_band[0]) & (x[\"power_calculation_frequencies\"] <= theta_band[1])], axis=1), axis=1)\n",
    "    LFP_SPECTRAL_DF[\"{}\".format(gamma_power_col)] = LFP_SPECTRAL_DF.apply(lambda x: np.nanmean(x[col][:, (x[\"power_calculation_frequencies\"] >= gamma_band[0]) & (x[\"power_calculation_frequencies\"] <= gamma_band[1])], axis=1), axis=1)"
   ]
  },
  {
   "cell_type": "code",
   "execution_count": 26,
   "metadata": {
    "tags": []
   },
   "outputs": [
    {
     "data": {
      "text/html": [
       "<div>\n",
       "<style scoped>\n",
       "    .dataframe tbody tr th:only-of-type {\n",
       "        vertical-align: middle;\n",
       "    }\n",
       "\n",
       "    .dataframe tbody tr th {\n",
       "        vertical-align: top;\n",
       "    }\n",
       "\n",
       "    .dataframe thead th {\n",
       "        text-align: right;\n",
       "    }\n",
       "</style>\n",
       "<table border=\"1\" class=\"dataframe\">\n",
       "  <thead>\n",
       "    <tr style=\"text-align: right;\">\n",
       "      <th></th>\n",
       "      <th>cohort</th>\n",
       "      <th>session_dir</th>\n",
       "      <th>tone_frames</th>\n",
       "      <th>box_1_port_entry_frames</th>\n",
       "      <th>box_2_port_entry_frames</th>\n",
       "      <th>video_name</th>\n",
       "      <th>session_path</th>\n",
       "      <th>recording</th>\n",
       "      <th>current_subject</th>\n",
       "      <th>subject</th>\n",
       "      <th>...</th>\n",
       "      <th>mPFC_RMS_filtered_power_theta</th>\n",
       "      <th>mPFC_RMS_filtered_power_gamma</th>\n",
       "      <th>MD_RMS_filtered_power_theta</th>\n",
       "      <th>MD_RMS_filtered_power_gamma</th>\n",
       "      <th>LH_RMS_filtered_power_theta</th>\n",
       "      <th>LH_RMS_filtered_power_gamma</th>\n",
       "      <th>BLA_RMS_filtered_power_theta</th>\n",
       "      <th>BLA_RMS_filtered_power_gamma</th>\n",
       "      <th>vHPC_RMS_filtered_power_theta</th>\n",
       "      <th>vHPC_RMS_filtered_power_gamma</th>\n",
       "    </tr>\n",
       "  </thead>\n",
       "  <tbody>\n",
       "    <tr>\n",
       "      <th>0</th>\n",
       "      <td>2</td>\n",
       "      <td>20230612_101430_standard_comp_to_training_D1_s...</td>\n",
       "      <td>[[980, 1181], [3376, 3575], [5672, 5871], [746...</td>\n",
       "      <td>[[490, 514], [518, 558], [558, 637], [638, 640...</td>\n",
       "      <td>[[33137, 33147], [33665, 33666], [33668, 33669...</td>\n",
       "      <td>20230612_101430_standard_comp_to_training_D1_s...</td>\n",
       "      <td>/scratch/back_up/reward_competition_extention/...</td>\n",
       "      <td>20230612_101430_standard_comp_to_training_D1_s...</td>\n",
       "      <td>1.3</td>\n",
       "      <td>1.3</td>\n",
       "      <td>...</td>\n",
       "      <td>[0.00652, 0.002836, 0.002962, 0.00776, 0.01208...</td>\n",
       "      <td>[0.000125, 0.00016, 0.0001565, 0.0001225, 0.00...</td>\n",
       "      <td>[0.01796, 0.01675, 0.01249, 0.01534, 0.013664,...</td>\n",
       "      <td>[0.0003269, 0.0002108, 0.0003424, 0.0004702, 0...</td>\n",
       "      <td>[0.0123, 0.012405, 0.01134, 0.010544, 0.009544...</td>\n",
       "      <td>[0.0004094, 0.0003133, 0.000283, 0.0003424, 0....</td>\n",
       "      <td>[0.01605, 0.01243, 0.01147, 0.01507, 0.014824,...</td>\n",
       "      <td>[0.000981, 0.001048, 0.001005, 0.0007415, 0.00...</td>\n",
       "      <td>[0.006912, 0.0188, 0.03604, 0.01837, 0.010605,...</td>\n",
       "      <td>[0.000249, 0.000289, 0.0002723, 0.0003161, 0.0...</td>\n",
       "    </tr>\n",
       "    <tr>\n",
       "      <th>1</th>\n",
       "      <td>2</td>\n",
       "      <td>20230612_101430_standard_comp_to_training_D1_s...</td>\n",
       "      <td>[[980, 1180], [3376, 3575], [5672, 5871], [746...</td>\n",
       "      <td>[[490, 514], [518, 558], [558, 637], [638, 640...</td>\n",
       "      <td>[[33021, 33027], [33502, 33503], [33504, 33506...</td>\n",
       "      <td>20230612_101430_standard_comp_to_training_D1_s...</td>\n",
       "      <td>/scratch/back_up/reward_competition_extention/...</td>\n",
       "      <td>20230612_101430_standard_comp_to_training_D1_s...</td>\n",
       "      <td>1.3</td>\n",
       "      <td>1.3</td>\n",
       "      <td>...</td>\n",
       "      <td>[0.00652, 0.002836, 0.002962, 0.00776, 0.01208...</td>\n",
       "      <td>[0.000125, 0.00016, 0.0001565, 0.0001225, 0.00...</td>\n",
       "      <td>[0.01796, 0.01675, 0.01249, 0.01534, 0.013664,...</td>\n",
       "      <td>[0.0003269, 0.0002108, 0.0003424, 0.0004702, 0...</td>\n",
       "      <td>[0.0123, 0.012405, 0.01134, 0.010544, 0.009544...</td>\n",
       "      <td>[0.0004094, 0.0003133, 0.000283, 0.0003424, 0....</td>\n",
       "      <td>[0.01605, 0.01243, 0.01147, 0.01507, 0.014824,...</td>\n",
       "      <td>[0.000981, 0.001048, 0.001005, 0.0007415, 0.00...</td>\n",
       "      <td>[0.006912, 0.0188, 0.03604, 0.01837, 0.010605,...</td>\n",
       "      <td>[0.000249, 0.000289, 0.0002723, 0.0003161, 0.0...</td>\n",
       "    </tr>\n",
       "    <tr>\n",
       "      <th>2</th>\n",
       "      <td>2</td>\n",
       "      <td>20230612_101430_standard_comp_to_training_D1_s...</td>\n",
       "      <td>[[980, 1181], [3376, 3575], [5672, 5871], [746...</td>\n",
       "      <td>[[490, 514], [518, 558], [558, 637], [638, 640...</td>\n",
       "      <td>[[33137, 33147], [33665, 33666], [33668, 33669...</td>\n",
       "      <td>20230612_101430_standard_comp_to_training_D1_s...</td>\n",
       "      <td>/scratch/back_up/reward_competition_extention/...</td>\n",
       "      <td>20230612_101430_standard_comp_to_training_D1_s...</td>\n",
       "      <td>1.4</td>\n",
       "      <td>1.4</td>\n",
       "      <td>...</td>\n",
       "      <td>[0.01492, 0.01654, 0.03436, nan, nan, 0.01553,...</td>\n",
       "      <td>[0.001747, 0.002792, 0.00246, nan, nan, 0.0031...</td>\n",
       "      <td>[0.01246, 0.01306, 0.0218, 0.0201, 0.01401, 0....</td>\n",
       "      <td>[0.000678, 0.0005302, 0.0004344, 0.000489, 0.0...</td>\n",
       "      <td>[0.01442, 0.01605, 0.02498, 0.02408, 0.0166, 0...</td>\n",
       "      <td>[0.0008626, 0.0006566, 0.000616, 0.000811, 0.0...</td>\n",
       "      <td>[0.013916, nan, nan, 0.02411, nan, nan, nan, n...</td>\n",
       "      <td>[0.003502, nan, nan, 0.003157, nan, nan, nan, ...</td>\n",
       "      <td>[0.026, nan, nan, nan, nan, nan, nan, nan, 0.0...</td>\n",
       "      <td>[0.003092, nan, nan, nan, nan, nan, nan, nan, ...</td>\n",
       "    </tr>\n",
       "    <tr>\n",
       "      <th>3</th>\n",
       "      <td>2</td>\n",
       "      <td>20230612_101430_standard_comp_to_training_D1_s...</td>\n",
       "      <td>[[980, 1180], [3376, 3575], [5672, 5871], [746...</td>\n",
       "      <td>[[490, 514], [518, 558], [558, 637], [638, 640...</td>\n",
       "      <td>[[33021, 33027], [33502, 33503], [33504, 33506...</td>\n",
       "      <td>20230612_101430_standard_comp_to_training_D1_s...</td>\n",
       "      <td>/scratch/back_up/reward_competition_extention/...</td>\n",
       "      <td>20230612_101430_standard_comp_to_training_D1_s...</td>\n",
       "      <td>1.4</td>\n",
       "      <td>1.4</td>\n",
       "      <td>...</td>\n",
       "      <td>[0.01492, 0.01654, 0.03436, nan, nan, 0.01553,...</td>\n",
       "      <td>[0.001747, 0.002792, 0.00246, nan, nan, 0.0031...</td>\n",
       "      <td>[0.01246, 0.01306, 0.0218, 0.0201, 0.01401, 0....</td>\n",
       "      <td>[0.000678, 0.0005302, 0.0004344, 0.000489, 0.0...</td>\n",
       "      <td>[0.01442, 0.01605, 0.02498, 0.02408, 0.0166, 0...</td>\n",
       "      <td>[0.0008626, 0.0006566, 0.000616, 0.000811, 0.0...</td>\n",
       "      <td>[0.013916, nan, nan, 0.02411, nan, nan, nan, n...</td>\n",
       "      <td>[0.003502, nan, nan, 0.003157, nan, nan, nan, ...</td>\n",
       "      <td>[0.026, nan, nan, nan, nan, nan, nan, nan, 0.0...</td>\n",
       "      <td>[0.003092, nan, nan, nan, nan, nan, nan, nan, ...</td>\n",
       "    </tr>\n",
       "    <tr>\n",
       "      <th>4</th>\n",
       "      <td>2</td>\n",
       "      <td>20230612_112630_standard_comp_to_training_D1_s...</td>\n",
       "      <td>[[1125, 1324], [3519, 3720], [5815, 6014], [76...</td>\n",
       "      <td>[[192, 248], [389, 405], [916, 929], [929, 948...</td>\n",
       "      <td>[[33019, 33020], [33246, 33251], [33253, 33255...</td>\n",
       "      <td>20230612_112630_standard_comp_to_training_D1_s...</td>\n",
       "      <td>/scratch/back_up/reward_competition_extention/...</td>\n",
       "      <td>20230612_112630_standard_comp_to_training_D1_s...</td>\n",
       "      <td>1.1</td>\n",
       "      <td>1.1</td>\n",
       "      <td>...</td>\n",
       "      <td>[nan, 0.01707, 0.03317, nan, nan, nan, nan, na...</td>\n",
       "      <td>[nan, 0.001803, 0.002707, nan, nan, nan, nan, ...</td>\n",
       "      <td>[0.04553, 0.02853, nan, nan, nan, 0.03503, 0.0...</td>\n",
       "      <td>[0.001228, 0.001134, nan, nan, nan, 0.001013, ...</td>\n",
       "      <td>[nan, 0.02965, nan, nan, nan, 0.03806, nan, na...</td>\n",
       "      <td>[nan, 0.001294, nan, nan, nan, 0.000928, nan, ...</td>\n",
       "      <td>[nan, 0.0215, nan, nan, nan, nan, nan, nan, na...</td>\n",
       "      <td>[nan, 0.002539, nan, nan, nan, nan, nan, nan, ...</td>\n",
       "      <td>[nan, 0.01796, nan, nan, nan, nan, nan, nan, n...</td>\n",
       "      <td>[nan, 0.003302, nan, nan, nan, nan, nan, nan, ...</td>\n",
       "    </tr>\n",
       "  </tbody>\n",
       "</table>\n",
       "<p>5 rows × 110 columns</p>\n",
       "</div>"
      ],
      "text/plain": [
       "   cohort                                        session_dir  \\\n",
       "0       2  20230612_101430_standard_comp_to_training_D1_s...   \n",
       "1       2  20230612_101430_standard_comp_to_training_D1_s...   \n",
       "2       2  20230612_101430_standard_comp_to_training_D1_s...   \n",
       "3       2  20230612_101430_standard_comp_to_training_D1_s...   \n",
       "4       2  20230612_112630_standard_comp_to_training_D1_s...   \n",
       "\n",
       "                                         tone_frames  \\\n",
       "0  [[980, 1181], [3376, 3575], [5672, 5871], [746...   \n",
       "1  [[980, 1180], [3376, 3575], [5672, 5871], [746...   \n",
       "2  [[980, 1181], [3376, 3575], [5672, 5871], [746...   \n",
       "3  [[980, 1180], [3376, 3575], [5672, 5871], [746...   \n",
       "4  [[1125, 1324], [3519, 3720], [5815, 6014], [76...   \n",
       "\n",
       "                             box_1_port_entry_frames  \\\n",
       "0  [[490, 514], [518, 558], [558, 637], [638, 640...   \n",
       "1  [[490, 514], [518, 558], [558, 637], [638, 640...   \n",
       "2  [[490, 514], [518, 558], [558, 637], [638, 640...   \n",
       "3  [[490, 514], [518, 558], [558, 637], [638, 640...   \n",
       "4  [[192, 248], [389, 405], [916, 929], [929, 948...   \n",
       "\n",
       "                             box_2_port_entry_frames  \\\n",
       "0  [[33137, 33147], [33665, 33666], [33668, 33669...   \n",
       "1  [[33021, 33027], [33502, 33503], [33504, 33506...   \n",
       "2  [[33137, 33147], [33665, 33666], [33668, 33669...   \n",
       "3  [[33021, 33027], [33502, 33503], [33504, 33506...   \n",
       "4  [[33019, 33020], [33246, 33251], [33253, 33255...   \n",
       "\n",
       "                                          video_name  \\\n",
       "0  20230612_101430_standard_comp_to_training_D1_s...   \n",
       "1  20230612_101430_standard_comp_to_training_D1_s...   \n",
       "2  20230612_101430_standard_comp_to_training_D1_s...   \n",
       "3  20230612_101430_standard_comp_to_training_D1_s...   \n",
       "4  20230612_112630_standard_comp_to_training_D1_s...   \n",
       "\n",
       "                                        session_path  \\\n",
       "0  /scratch/back_up/reward_competition_extention/...   \n",
       "1  /scratch/back_up/reward_competition_extention/...   \n",
       "2  /scratch/back_up/reward_competition_extention/...   \n",
       "3  /scratch/back_up/reward_competition_extention/...   \n",
       "4  /scratch/back_up/reward_competition_extention/...   \n",
       "\n",
       "                                           recording current_subject subject  \\\n",
       "0  20230612_101430_standard_comp_to_training_D1_s...             1.3     1.3   \n",
       "1  20230612_101430_standard_comp_to_training_D1_s...             1.3     1.3   \n",
       "2  20230612_101430_standard_comp_to_training_D1_s...             1.4     1.4   \n",
       "3  20230612_101430_standard_comp_to_training_D1_s...             1.4     1.4   \n",
       "4  20230612_112630_standard_comp_to_training_D1_s...             1.1     1.1   \n",
       "\n",
       "   ...                      mPFC_RMS_filtered_power_theta  \\\n",
       "0  ...  [0.00652, 0.002836, 0.002962, 0.00776, 0.01208...   \n",
       "1  ...  [0.00652, 0.002836, 0.002962, 0.00776, 0.01208...   \n",
       "2  ...  [0.01492, 0.01654, 0.03436, nan, nan, 0.01553,...   \n",
       "3  ...  [0.01492, 0.01654, 0.03436, nan, nan, 0.01553,...   \n",
       "4  ...  [nan, 0.01707, 0.03317, nan, nan, nan, nan, na...   \n",
       "\n",
       "                       mPFC_RMS_filtered_power_gamma  \\\n",
       "0  [0.000125, 0.00016, 0.0001565, 0.0001225, 0.00...   \n",
       "1  [0.000125, 0.00016, 0.0001565, 0.0001225, 0.00...   \n",
       "2  [0.001747, 0.002792, 0.00246, nan, nan, 0.0031...   \n",
       "3  [0.001747, 0.002792, 0.00246, nan, nan, 0.0031...   \n",
       "4  [nan, 0.001803, 0.002707, nan, nan, nan, nan, ...   \n",
       "\n",
       "                         MD_RMS_filtered_power_theta  \\\n",
       "0  [0.01796, 0.01675, 0.01249, 0.01534, 0.013664,...   \n",
       "1  [0.01796, 0.01675, 0.01249, 0.01534, 0.013664,...   \n",
       "2  [0.01246, 0.01306, 0.0218, 0.0201, 0.01401, 0....   \n",
       "3  [0.01246, 0.01306, 0.0218, 0.0201, 0.01401, 0....   \n",
       "4  [0.04553, 0.02853, nan, nan, nan, 0.03503, 0.0...   \n",
       "\n",
       "                         MD_RMS_filtered_power_gamma  \\\n",
       "0  [0.0003269, 0.0002108, 0.0003424, 0.0004702, 0...   \n",
       "1  [0.0003269, 0.0002108, 0.0003424, 0.0004702, 0...   \n",
       "2  [0.000678, 0.0005302, 0.0004344, 0.000489, 0.0...   \n",
       "3  [0.000678, 0.0005302, 0.0004344, 0.000489, 0.0...   \n",
       "4  [0.001228, 0.001134, nan, nan, nan, 0.001013, ...   \n",
       "\n",
       "                         LH_RMS_filtered_power_theta  \\\n",
       "0  [0.0123, 0.012405, 0.01134, 0.010544, 0.009544...   \n",
       "1  [0.0123, 0.012405, 0.01134, 0.010544, 0.009544...   \n",
       "2  [0.01442, 0.01605, 0.02498, 0.02408, 0.0166, 0...   \n",
       "3  [0.01442, 0.01605, 0.02498, 0.02408, 0.0166, 0...   \n",
       "4  [nan, 0.02965, nan, nan, nan, 0.03806, nan, na...   \n",
       "\n",
       "                         LH_RMS_filtered_power_gamma  \\\n",
       "0  [0.0004094, 0.0003133, 0.000283, 0.0003424, 0....   \n",
       "1  [0.0004094, 0.0003133, 0.000283, 0.0003424, 0....   \n",
       "2  [0.0008626, 0.0006566, 0.000616, 0.000811, 0.0...   \n",
       "3  [0.0008626, 0.0006566, 0.000616, 0.000811, 0.0...   \n",
       "4  [nan, 0.001294, nan, nan, nan, 0.000928, nan, ...   \n",
       "\n",
       "                        BLA_RMS_filtered_power_theta  \\\n",
       "0  [0.01605, 0.01243, 0.01147, 0.01507, 0.014824,...   \n",
       "1  [0.01605, 0.01243, 0.01147, 0.01507, 0.014824,...   \n",
       "2  [0.013916, nan, nan, 0.02411, nan, nan, nan, n...   \n",
       "3  [0.013916, nan, nan, 0.02411, nan, nan, nan, n...   \n",
       "4  [nan, 0.0215, nan, nan, nan, nan, nan, nan, na...   \n",
       "\n",
       "                        BLA_RMS_filtered_power_gamma  \\\n",
       "0  [0.000981, 0.001048, 0.001005, 0.0007415, 0.00...   \n",
       "1  [0.000981, 0.001048, 0.001005, 0.0007415, 0.00...   \n",
       "2  [0.003502, nan, nan, 0.003157, nan, nan, nan, ...   \n",
       "3  [0.003502, nan, nan, 0.003157, nan, nan, nan, ...   \n",
       "4  [nan, 0.002539, nan, nan, nan, nan, nan, nan, ...   \n",
       "\n",
       "                       vHPC_RMS_filtered_power_theta  \\\n",
       "0  [0.006912, 0.0188, 0.03604, 0.01837, 0.010605,...   \n",
       "1  [0.006912, 0.0188, 0.03604, 0.01837, 0.010605,...   \n",
       "2  [0.026, nan, nan, nan, nan, nan, nan, nan, 0.0...   \n",
       "3  [0.026, nan, nan, nan, nan, nan, nan, nan, 0.0...   \n",
       "4  [nan, 0.01796, nan, nan, nan, nan, nan, nan, n...   \n",
       "\n",
       "                       vHPC_RMS_filtered_power_gamma  \n",
       "0  [0.000249, 0.000289, 0.0002723, 0.0003161, 0.0...  \n",
       "1  [0.000249, 0.000289, 0.0002723, 0.0003161, 0.0...  \n",
       "2  [0.003092, nan, nan, nan, nan, nan, nan, nan, ...  \n",
       "3  [0.003092, nan, nan, nan, nan, nan, nan, nan, ...  \n",
       "4  [nan, 0.003302, nan, nan, nan, nan, nan, nan, ...  \n",
       "\n",
       "[5 rows x 110 columns]"
      ]
     },
     "execution_count": 26,
     "metadata": {},
     "output_type": "execute_result"
    }
   ],
   "source": [
    "LFP_SPECTRAL_DF.head()"
   ]
  },
  {
   "cell_type": "code",
   "execution_count": 27,
   "metadata": {
    "tags": []
   },
   "outputs": [],
   "source": [
    "LFP_SPECTRAL_DF.to_pickle(os.path.join(OUTPUT_DIR, FULL_LFP_TRACES_PKL))"
   ]
  },
  {
   "cell_type": "code",
   "execution_count": 28,
   "metadata": {
    "tags": []
   },
   "outputs": [
    {
     "name": "stdout",
     "output_type": "stream",
     "text": [
      "cohort\n",
      "session_dir\n",
      "tone_frames\n",
      "box_1_port_entry_frames\n",
      "box_2_port_entry_frames\n",
      "video_name\n",
      "session_path\n",
      "recording\n",
      "current_subject\n",
      "subject\n",
      "all_subjects\n",
      "first_timestamp\n",
      "last_timestamp\n",
      "video_timestamps\n",
      "tone_timestamps\n",
      "box_1_port_entry_timestamps\n",
      "box_2_port_entry_timestamps\n",
      "lfp_timestamps\n",
      "mPFC_lfp_trace\n",
      "MD_lfp_trace\n",
      "LH_lfp_trace\n",
      "BLA_lfp_trace\n",
      "vHPC_lfp_trace\n",
      "mPFC_lfp_zscore\n",
      "MD_lfp_zscore\n",
      "LH_lfp_zscore\n",
      "BLA_lfp_zscore\n",
      "vHPC_lfp_zscore\n",
      "mPFC_lfp_RMS\n",
      "MD_lfp_RMS\n",
      "LH_lfp_RMS\n",
      "BLA_lfp_RMS\n",
      "vHPC_lfp_RMS\n",
      "mPFC_lfp_mask\n",
      "MD_lfp_mask\n",
      "LH_lfp_mask\n",
      "BLA_lfp_mask\n",
      "vHPC_lfp_mask\n",
      "mPFC_lfp_trace_filtered\n",
      "MD_lfp_trace_filtered\n",
      "LH_lfp_trace_filtered\n",
      "BLA_lfp_trace_filtered\n",
      "vHPC_lfp_trace_filtered\n",
      "mPFC_lfp_RMS_filtered\n",
      "MD_lfp_RMS_filtered\n",
      "LH_lfp_RMS_filtered\n",
      "BLA_lfp_RMS_filtered\n",
      "vHPC_lfp_RMS_filtered\n",
      "mPFC_trace_power_all_frequencies_all_windows\n",
      "MD_trace_power_all_frequencies_all_windows\n",
      "LH_trace_power_all_frequencies_all_windows\n",
      "BLA_trace_power_all_frequencies_all_windows\n",
      "vHPC_trace_power_all_frequencies_all_windows\n",
      "mPFC_RMS_power_all_frequencies_all_windows\n",
      "MD_RMS_power_all_frequencies_all_windows\n",
      "LH_RMS_power_all_frequencies_all_windows\n",
      "BLA_RMS_power_all_frequencies_all_windows\n",
      "vHPC_RMS_power_all_frequencies_all_windows\n",
      "mPFC_trace_filtered_power_all_frequencies_all_windows\n",
      "MD_trace_filtered_power_all_frequencies_all_windows\n",
      "LH_trace_filtered_power_all_frequencies_all_windows\n",
      "BLA_trace_filtered_power_all_frequencies_all_windows\n",
      "vHPC_trace_filtered_power_all_frequencies_all_windows\n",
      "mPFC_RMS_filtered_power_all_frequencies_all_windows\n",
      "MD_RMS_filtered_power_all_frequencies_all_windows\n",
      "LH_RMS_filtered_power_all_frequencies_all_windows\n",
      "BLA_RMS_filtered_power_all_frequencies_all_windows\n",
      "vHPC_RMS_filtered_power_all_frequencies_all_windows\n",
      "power_timestamps\n",
      "power_calculation_frequencies\n",
      "mPFC_trace_power_theta\n",
      "mPFC_trace_power_gamma\n",
      "MD_trace_power_theta\n",
      "MD_trace_power_gamma\n",
      "LH_trace_power_theta\n",
      "LH_trace_power_gamma\n",
      "BLA_trace_power_theta\n",
      "BLA_trace_power_gamma\n",
      "vHPC_trace_power_theta\n",
      "vHPC_trace_power_gamma\n",
      "mPFC_RMS_power_theta\n",
      "mPFC_RMS_power_gamma\n",
      "MD_RMS_power_theta\n",
      "MD_RMS_power_gamma\n",
      "LH_RMS_power_theta\n",
      "LH_RMS_power_gamma\n",
      "BLA_RMS_power_theta\n",
      "BLA_RMS_power_gamma\n",
      "vHPC_RMS_power_theta\n",
      "vHPC_RMS_power_gamma\n",
      "mPFC_trace_filtered_power_theta\n",
      "mPFC_trace_filtered_power_gamma\n",
      "MD_trace_filtered_power_theta\n",
      "MD_trace_filtered_power_gamma\n",
      "LH_trace_filtered_power_theta\n",
      "LH_trace_filtered_power_gamma\n",
      "BLA_trace_filtered_power_theta\n",
      "BLA_trace_filtered_power_gamma\n",
      "vHPC_trace_filtered_power_theta\n",
      "vHPC_trace_filtered_power_gamma\n",
      "mPFC_RMS_filtered_power_theta\n",
      "mPFC_RMS_filtered_power_gamma\n",
      "MD_RMS_filtered_power_theta\n",
      "MD_RMS_filtered_power_gamma\n",
      "LH_RMS_filtered_power_theta\n",
      "LH_RMS_filtered_power_gamma\n",
      "BLA_RMS_filtered_power_theta\n",
      "BLA_RMS_filtered_power_gamma\n",
      "vHPC_RMS_filtered_power_theta\n",
      "vHPC_RMS_filtered_power_gamma\n"
     ]
    }
   ],
   "source": [
    "for col in LFP_SPECTRAL_DF.columns:\n",
    "    print(col)"
   ]
  },
  {
   "cell_type": "code",
   "execution_count": 29,
   "metadata": {
    "tags": []
   },
   "outputs": [
    {
     "ename": "ValueError",
     "evalue": "",
     "output_type": "error",
     "traceback": [
      "\u001b[0;31m---------------------------------------------------------------------------\u001b[0m",
      "\u001b[0;31mValueError\u001b[0m                                Traceback (most recent call last)",
      "Cell \u001b[0;32mIn[29], line 1\u001b[0m\n\u001b[0;32m----> 1\u001b[0m \u001b[38;5;28;01mraise\u001b[39;00m \u001b[38;5;167;01mValueError\u001b[39;00m()\n",
      "\u001b[0;31mValueError\u001b[0m: "
     ]
    }
   ],
   "source": [
    "raise ValueError()"
   ]
  },
  {
   "cell_type": "markdown",
   "metadata": {},
   "source": [
    "- Filtering theta/gamma for coherence"
   ]
  },
  {
   "cell_type": "code",
   "execution_count": null,
   "metadata": {
    "tags": []
   },
   "outputs": [],
   "source": [
    "coherence_columns = [col for col in LFP_SPECTRAL_DF.columns if \"coherence\" in col and \"calculation\" not in col and \"time\" not in col]"
   ]
  },
  {
   "cell_type": "code",
   "execution_count": null,
   "metadata": {
    "tags": []
   },
   "outputs": [],
   "source": [
    "coherence_columns"
   ]
  },
  {
   "cell_type": "code",
   "execution_count": null,
   "metadata": {
    "tags": []
   },
   "outputs": [],
   "source": [
    "for col in coherence_columns:\n",
    "    brain_region_name = \"_\".join(col.split(\"_\")[:2])\n",
    "    print(brain_region_name)\n",
    "    theta_coherence_col = \"{}_coherence_theta\".format(brain_region_name)\n",
    "    gamma_coherence_col = \"{}_coherence_gamma\".format(brain_region_name)\n",
    "    LFP_SPECTRAL_DF[\"{}\".format(theta_coherence_col)] = LFP_SPECTRAL_DF.apply(lambda x: np.nanmean(x[col][:, (x[\"coherence_calculation_frequencies\"] >= theta_band[0]) & (x[\"coherence_calculation_frequencies\"] <= theta_band[1])], axis=1), axis=1)\n",
    "    LFP_SPECTRAL_DF[\"{}\".format(gamma_coherence_col)] = LFP_SPECTRAL_DF.apply(lambda x: np.nanmean(x[col][:, (x[\"coherence_calculation_frequencies\"] >= gamma_band[0]) & (x[\"coherence_calculation_frequencies\"] <= gamma_band[1])], axis=1), axis=1)"
   ]
  },
  {
   "cell_type": "markdown",
   "metadata": {},
   "source": [
    "- Filtering theta/gamma for granger"
   ]
  },
  {
   "cell_type": "code",
   "execution_count": null,
   "metadata": {
    "tags": []
   },
   "outputs": [],
   "source": [
    "granger_columns = [col for col in LFP_SPECTRAL_DF.columns if \"granger\" in col and \"calculation\" not in col and \"time\" not in col]"
   ]
  },
  {
   "cell_type": "code",
   "execution_count": null,
   "metadata": {
    "tags": []
   },
   "outputs": [],
   "source": [
    "granger_columns"
   ]
  },
  {
   "cell_type": "code",
   "execution_count": null,
   "metadata": {
    "tags": []
   },
   "outputs": [],
   "source": [
    "for col in granger_columns:\n",
    "    brain_region_name = \"-to-\".join(col.split(\"_\")[:2])\n",
    "    print(brain_region_name)\n",
    "    theta_granger_col = \"{}_granger_theta\".format(brain_region_name)\n",
    "    gamma_granger_col = \"{}_granger_gamma\".format(brain_region_name)\n",
    "    LFP_SPECTRAL_DF[\"{}\".format(theta_granger_col)] = LFP_SPECTRAL_DF.apply(lambda x: np.nanmean(x[col][:, (x[\"granger_calculation_frequencies\"] >= theta_band[0]) & (x[\"granger_calculation_frequencies\"] <= theta_band[1])], axis=1), axis=1)\n",
    "    LFP_SPECTRAL_DF[\"{}\".format(gamma_granger_col)] = LFP_SPECTRAL_DF.apply(lambda x: np.nanmean(x[col][:, (x[\"granger_calculation_frequencies\"] >= gamma_band[0]) & (x[\"granger_calculation_frequencies\"] <= gamma_band[1])], axis=1), axis=1)"
   ]
  },
  {
   "cell_type": "code",
   "execution_count": null,
   "metadata": {
    "tags": []
   },
   "outputs": [],
   "source": [
    "LFP_SPECTRAL_DF.head()"
   ]
  },
  {
   "cell_type": "code",
   "execution_count": null,
   "metadata": {
    "tags": []
   },
   "outputs": [],
   "source": [
    "LFP_SPECTRAL_DF.to_pickle(os.path.join(OUTPUT_DIR, FULL_LFP_TRACES_PKL))"
   ]
  },
  {
   "cell_type": "code",
   "execution_count": null,
   "metadata": {},
   "outputs": [],
   "source": []
  }
 ],
 "metadata": {
  "deepnote": {},
  "deepnote_execution_queue": [],
  "deepnote_notebook_id": "cf8fe3695d074ee7887fdf6459cbf5ce",
  "kernelspec": {
   "display_name": "spike_interface_0_99_0",
   "language": "python",
   "name": "spike_interface_0_99_0"
  },
  "language_info": {
   "codemirror_mode": {
    "name": "ipython",
    "version": 3
   },
   "file_extension": ".py",
   "mimetype": "text/x-python",
   "name": "python",
   "nbconvert_exporter": "python",
   "pygments_lexer": "ipython3",
   "version": "3.10.13"
  }
 },
 "nbformat": 4,
 "nbformat_minor": 4
}
